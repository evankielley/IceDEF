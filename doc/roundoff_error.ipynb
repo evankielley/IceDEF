{
 "cells": [
  {
   "cell_type": "code",
   "execution_count": 1,
   "metadata": {
    "collapsed": true
   },
   "outputs": [],
   "source": [
    "%matplotlib inline\n",
    "import numpy as np\n",
    "import matplotlib.pyplot as plt"
   ]
  },
  {
   "cell_type": "code",
   "execution_count": 2,
   "metadata": {
    "collapsed": false
   },
   "outputs": [
    {
     "data": {
      "text/plain": [
       "finfo(resolution=1e-15, min=-1.7976931348623157e+308, max=1.7976931348623157e+308, dtype=float64)"
      ]
     },
     "execution_count": 2,
     "metadata": {},
     "output_type": "execute_result"
    }
   ],
   "source": [
    "eps = np.finfo(float)\n",
    "eps"
   ]
  },
  {
   "cell_type": "code",
   "execution_count": 127,
   "metadata": {
    "collapsed": true
   },
   "outputs": [],
   "source": [
    "beta = r'$\\beta$'\n",
    "alpha = r'$\\alpha$'"
   ]
  },
  {
   "cell_type": "code",
   "execution_count": 164,
   "metadata": {
    "collapsed": true
   },
   "outputs": [],
   "source": [
    "u_start = 0.0; u_inc = 0.0001; u_end = 1.0 + u_inc\n",
    "u = np.arange(u_start, u_end, u_inc)"
   ]
  },
  {
   "cell_type": "markdown",
   "metadata": {},
   "source": [
    "# Evaluating an expression carefully"
   ]
  },
  {
   "cell_type": "markdown",
   "metadata": {},
   "source": [
    "Consider the following _complicated_ expressions:"
   ]
  },
  {
   "cell_type": "markdown",
   "metadata": {},
   "source": [
    "$$a(u) =  \\frac{\\sqrt{2}}{u^3}(1-\\sqrt{1+u^4})$$"
   ]
  },
  {
   "cell_type": "markdown",
   "metadata": {},
   "source": [
    "$$ b(u) = \\frac{1}{u^3} \\sqrt{ (4 + u^4) \\sqrt{1+ u^4} - 3 u^4 - 4)} $$"
   ]
  },
  {
   "cell_type": "markdown",
   "metadata": {},
   "source": [
    "Let's see what happens when we try naive evaluations of these expressions."
   ]
  },
  {
   "cell_type": "markdown",
   "metadata": {},
   "source": [
    "## Alpha"
   ]
  },
  {
   "cell_type": "code",
   "execution_count": 165,
   "metadata": {
    "collapsed": true
   },
   "outputs": [],
   "source": [
    "a_naive = lambda u: np.multiply(np.divide(np.sqrt(2),np.power(u,3)),(1-np.sqrt(1+np.power(u,4))))"
   ]
  },
  {
   "cell_type": "code",
   "execution_count": 176,
   "metadata": {
    "collapsed": false
   },
   "outputs": [
    {
     "name": "stderr",
     "output_type": "stream",
     "text": [
      "/home/evankielley/anaconda3/lib/python3.5/site-packages/ipykernel/__main__.py:1: RuntimeWarning: divide by zero encountered in true_divide\n",
      "  if __name__ == '__main__':\n",
      "/home/evankielley/anaconda3/lib/python3.5/site-packages/ipykernel/__main__.py:1: RuntimeWarning: invalid value encountered in multiply\n",
      "  if __name__ == '__main__':\n"
     ]
    },
    {
     "data": {
      "image/png": "[encoded data removed]",
      "text/plain": [
       "<matplotlib.figure.Figure at 0x7fd5301c5cc0>"
      ]
     },
     "metadata": {},
     "output_type": "display_data"
    }
   ],
   "source": [
    "plt.plot(u, a_naive(u))\n",
    "plt.xlabel('u')\n",
    "plt.ylabel('{}(u)'.format(alpha))\n",
    "plt.title('Naive {} Function'.format(alpha))\n",
    "plt.savefig('./mods_report/naive_alpha_plot')\n",
    "plt.show()"
   ]
  },
  {
   "cell_type": "markdown",
   "metadata": {},
   "source": [
    "## Beta"
   ]
  },
  {
   "cell_type": "code",
   "execution_count": 163,
   "metadata": {
    "collapsed": true
   },
   "outputs": [],
   "source": [
    "b_naive = lambda u: 1/u**3 * np.sqrt( (4 + u**4) * np.sqrt( 1+ u**4) - 3*u**4 - 4)"
   ]
  },
  {
   "cell_type": "code",
   "execution_count": 174,
   "metadata": {
    "collapsed": false
   },
   "outputs": [
    {
     "name": "stderr",
     "output_type": "stream",
     "text": [
      "/home/evankielley/anaconda3/lib/python3.5/site-packages/ipykernel/__main__.py:1: RuntimeWarning: divide by zero encountered in true_divide\n",
      "  if __name__ == '__main__':\n",
      "/home/evankielley/anaconda3/lib/python3.5/site-packages/ipykernel/__main__.py:1: RuntimeWarning: invalid value encountered in sqrt\n",
      "  if __name__ == '__main__':\n",
      "/home/evankielley/anaconda3/lib/python3.5/site-packages/ipykernel/__main__.py:1: RuntimeWarning: invalid value encountered in multiply\n",
      "  if __name__ == '__main__':\n"
     ]
    },
    {
     "data": {
      "image/png": "[encoded data removed]",
      "text/plain": [
       "<matplotlib.figure.Figure at 0x7fd530b19860>"
      ]
     },
     "metadata": {},
     "output_type": "display_data"
    }
   ],
   "source": [
    "plt.plot(u, b_naive(u))\n",
    "plt.yscale('log')\n",
    "plt.xlabel('u')\n",
    "plt.ylabel('log({}(u))'.format(beta))\n",
    "plt.title('Naive {} Function'.format(beta))\n",
    "plt.savefig('./mods_report/naive_beta_plot')\n",
    "plt.show()"
   ]
  },
  {
   "cell_type": "code",
   "execution_count": 5,
   "metadata": {
    "collapsed": false
   },
   "outputs": [
    {
     "name": "stderr",
     "output_type": "stream",
     "text": [
      "/home/evankielley/anaconda3/lib/python3.5/site-packages/ipykernel/__main__.py:2: RuntimeWarning: divide by zero encountered in true_divide\n",
      "  from ipykernel import kernelapp as app\n",
      "/home/evankielley/anaconda3/lib/python3.5/site-packages/ipykernel/__main__.py:2: RuntimeWarning: invalid value encountered in sqrt\n",
      "  from ipykernel import kernelapp as app\n",
      "/home/evankielley/anaconda3/lib/python3.5/site-packages/ipykernel/__main__.py:2: RuntimeWarning: invalid value encountered in multiply\n",
      "  from ipykernel import kernelapp as app\n"
     ]
    },
    {
     "data": {
      "text/plain": [
       "<matplotlib.text.Text at 0x7fd54e10e7b8>"
      ]
     },
     "execution_count": 5,
     "metadata": {},
     "output_type": "execute_result"
    },
    {
     "data": {
      "image/png": "[encoded data removed]",
      "text/plain": [
       "<matplotlib.figure.Figure at 0x7fd54af4c208>"
      ]
     },
     "metadata": {},
     "output_type": "display_data"
    }
   ],
   "source": [
    "plt.plot(u, b_naive(u))\n",
    "plt.xlim([0,0.1])\n",
    "plt.ylim([0,1e-3])\n",
    "plt.xlabel('u')\n",
    "plt.ylabel('b(u)')"
   ]
  },
  {
   "cell_type": "markdown",
   "metadata": {},
   "source": [
    "The bizarre behaviour of $b(u)$ is due to round-off error."
   ]
  },
  {
   "cell_type": "markdown",
   "metadata": {},
   "source": [
    "# Taylor series"
   ]
  },
  {
   "cell_type": "markdown",
   "metadata": {},
   "source": [
    "$$\\sqrt{1+x} = 1 + \\frac{x}{2} + \\sum_{k=2}^{\\infty} \\frac{(-1)^{k+1}(2k-3)!}{2^{2k-2}(k-2)!k!}x^k$$"
   ]
  },
  {
   "cell_type": "markdown",
   "metadata": {},
   "source": [
    "Taylor series can help us a lot in this situation and SymPy can help us determine those coefficients. "
   ]
  },
  {
   "cell_type": "code",
   "execution_count": 7,
   "metadata": {
    "collapsed": true
   },
   "outputs": [],
   "source": [
    "import sympy as sp\n",
    "sp.init_printing()"
   ]
  },
  {
   "cell_type": "markdown",
   "metadata": {},
   "source": [
    "## Alpha"
   ]
  },
  {
   "cell_type": "code",
   "execution_count": 9,
   "metadata": {
    "collapsed": false
   },
   "outputs": [
    {
     "data": {
      "image/png": "[encoded data removed]",
      "text/latex": [
       "$$\\frac{\\sqrt{2}}{u^{3}} \\left(- \\sqrt{u^{4} + 1} + 1\\right)$$"
      ],
      "text/plain": [
       "   ⎛     ________    ⎞\n",
       "   ⎜    ╱  4         ⎟\n",
       "√2⋅⎝- ╲╱  u  + 1  + 1⎠\n",
       "──────────────────────\n",
       "           3          \n",
       "          u           "
      ]
     },
     "execution_count": 9,
     "metadata": {},
     "output_type": "execute_result"
    }
   ],
   "source": [
    "a_expression = sp.S('sqrt(2)/u**3*(1-sqrt(1+u**4))')\n",
    "a_expression"
   ]
  },
  {
   "cell_type": "code",
   "execution_count": 12,
   "metadata": {
    "collapsed": false
   },
   "outputs": [],
   "source": [
    "a_series = sp.series(a_expression, n=20)"
   ]
  },
  {
   "cell_type": "code",
   "execution_count": 114,
   "metadata": {
    "collapsed": false
   },
   "outputs": [
    {
     "data": {
      "image/png": "[encoded data removed]",
      "text/latex": [
       "$$- \\frac{\\sqrt{2} u}{2} + \\frac{\\sqrt{2} u^{5}}{8} - \\frac{\\sqrt{2} u^{9}}{16} + \\frac{5 \\sqrt{2}}{128} u^{13} - \\frac{7 \\sqrt{2}}{256} u^{17} + \\mathcal{O}\\left(u^{20}\\right)$$"
      ],
      "text/plain": [
       "             5       9         13         17         \n",
       "  √2⋅u   √2⋅u    √2⋅u    5⋅√2⋅u     7⋅√2⋅u      ⎛ 20⎞\n",
       "- ──── + ───── - ───── + ──────── - ──────── + O⎝u  ⎠\n",
       "   2       8       16      128        256            "
      ]
     },
     "execution_count": 114,
     "metadata": {},
     "output_type": "execute_result"
    }
   ],
   "source": [
    "a_series"
   ]
  },
  {
   "cell_type": "code",
   "execution_count": 13,
   "metadata": {
    "collapsed": false
   },
   "outputs": [],
   "source": [
    "a_taylor = sp.lambdify('u', a_series.removeO())"
   ]
  },
  {
   "cell_type": "markdown",
   "metadata": {},
   "source": [
    "## Beta"
   ]
  },
  {
   "cell_type": "code",
   "execution_count": 135,
   "metadata": {
    "collapsed": false
   },
   "outputs": [
    {
     "data": {
      "image/png": "[encoded data removed]",
      "text/latex": [
       "$$\\frac{1}{u^{3}} \\sqrt{- 3 u^{4} + \\sqrt{u^{4} + 1} \\left(u^{4} + 4\\right) - 4}$$"
      ],
      "text/plain": [
       "    ___________________________________\n",
       "   ╱             ________              \n",
       "  ╱       4     ╱  4      ⎛ 4    ⎞     \n",
       "╲╱   - 3⋅u  + ╲╱  u  + 1 ⋅⎝u  + 4⎠ - 4 \n",
       "───────────────────────────────────────\n",
       "                    3                  \n",
       "                   u                   "
      ]
     },
     "execution_count": 135,
     "metadata": {},
     "output_type": "execute_result"
    }
   ],
   "source": [
    "b_expression = sp.S('1/ u^3 * sqrt((4 + u^4)*sqrt(1+ u^4)-3*u^4-4)')\n",
    "b_expression"
   ]
  },
  {
   "cell_type": "code",
   "execution_count": 10,
   "metadata": {
    "collapsed": false
   },
   "outputs": [],
   "source": [
    "b23_series = sp.series(b_expression, n=23)\n",
    "b27_series = sp.series(b_expression, n=27)\n",
    "b31_series = sp.series(b_expression, n=31)\n",
    "b35_series = sp.series(b_expression, n=35)"
   ]
  },
  {
   "cell_type": "markdown",
   "metadata": {},
   "source": [
    "# CAREFUL: These take a long time to compute"
   ]
  },
  {
   "cell_type": "code",
   "execution_count": 68,
   "metadata": {
    "collapsed": true
   },
   "outputs": [],
   "source": [
    "b39_series = sp.series(b_expression, n=39)"
   ]
  },
  {
   "cell_type": "code",
   "execution_count": 71,
   "metadata": {
    "collapsed": true
   },
   "outputs": [],
   "source": [
    "b43_series = sp.series(b_expression, n=43)"
   ]
  },
  {
   "cell_type": "code",
   "execution_count": 102,
   "metadata": {
    "collapsed": true
   },
   "outputs": [],
   "source": [
    "b47_series = sp.series(b_expression, n=47)"
   ]
  },
  {
   "cell_type": "markdown",
   "metadata": {},
   "source": [
    "# OKAY: You're safe now"
   ]
  },
  {
   "cell_type": "code",
   "execution_count": 11,
   "metadata": {
    "collapsed": true
   },
   "outputs": [],
   "source": [
    "b23 = sp.lambdify('u', b23_series.removeO())\n",
    "b27 = sp.lambdify('u', b23_series.removeO())\n",
    "b31 = sp.lambdify('u', b23_series.removeO())\n",
    "b35 = sp.lambdify('u', b23_series.removeO())"
   ]
  },
  {
   "cell_type": "code",
   "execution_count": 69,
   "metadata": {
    "collapsed": true
   },
   "outputs": [],
   "source": [
    "b39 = sp.lambdify('u', b23_series.removeO())"
   ]
  },
  {
   "cell_type": "code",
   "execution_count": 72,
   "metadata": {
    "collapsed": true
   },
   "outputs": [],
   "source": [
    "b43 = sp.lambdify('u', b23_series.removeO())"
   ]
  },
  {
   "cell_type": "code",
   "execution_count": 103,
   "metadata": {
    "collapsed": true
   },
   "outputs": [],
   "source": [
    "b47 = sp.lambdify('u', b23_series.removeO())"
   ]
  },
  {
   "cell_type": "markdown",
   "metadata": {
    "collapsed": true
   },
   "source": [
    "# Horner"
   ]
  },
  {
   "cell_type": "markdown",
   "metadata": {},
   "source": [
    "## Alpha"
   ]
  },
  {
   "cell_type": "code",
   "execution_count": 119,
   "metadata": {
    "collapsed": false
   },
   "outputs": [],
   "source": [
    "q = sp.symbols('q')\n",
    "gtest0 = np.sqrt(2)/2*(-q + q**5/4 - q**9/8 + 5*q**13/64 - 7*q**17/128)\n",
    "gtest = sp.horner(gtest0)"
   ]
  },
  {
   "cell_type": "code",
   "execution_count": 156,
   "metadata": {
    "collapsed": false
   },
   "outputs": [
    {
     "data": {
      "image/png": "[encoded data removed]",
      "text/latex": [
       "$$q \\left(q^{4} \\left(q^{4} \\left(q^{4} \\left(- 0.0386699020961393 q^{4} + 0.055242717280199\\right) - 0.0883883476483184\\right) + 0.176776695296637\\right) - 0.707106781186548\\right)$$"
      ],
      "text/plain": [
       "  ⎛ 4 ⎛ 4 ⎛ 4 ⎛                      4                    ⎞                   \n",
       "q⋅⎝q ⋅⎝q ⋅⎝q ⋅⎝- 0.0386699020961393⋅q  + 0.055242717280199⎠ - 0.08838834764831\n",
       "\n",
       "  ⎞                    ⎞                    ⎞\n",
       "84⎠ + 0.176776695296637⎠ - 0.707106781186548⎠"
      ]
     },
     "execution_count": 156,
     "metadata": {},
     "output_type": "execute_result"
    }
   ],
   "source": [
    "gtest"
   ]
  },
  {
   "cell_type": "code",
   "execution_count": 158,
   "metadata": {
    "collapsed": true
   },
   "outputs": [],
   "source": [
    "a_horner = lambda u: u*(u**4*(u**4*(u**4*(-0.0386699020961393*u**4+0.055242717280199)-\\\n",
    "                        0.0883883476483184)+0.176776695296637)-0.707106781186548)"
   ]
  },
  {
   "cell_type": "markdown",
   "metadata": {},
   "source": [
    "## Beta 43"
   ]
  },
  {
   "cell_type": "code",
   "execution_count": 75,
   "metadata": {
    "collapsed": false
   },
   "outputs": [
    {
     "data": {
      "image/png": "[encoded data removed]",
      "text/latex": [
       "$$\\frac{\\sqrt{2} u^{3}}{4} - \\frac{3 \\sqrt{2}}{32} u^{7} + \\frac{27 \\sqrt{2}}{512} u^{11} - \\frac{143 \\sqrt{2}}{4096} u^{15} + \\frac{3315 \\sqrt{2}}{131072} u^{19} - \\frac{20349 \\sqrt{2}}{1048576} u^{23} + \\frac{260015 \\sqrt{2}}{16777216} u^{27} - \\frac{1710855 \\sqrt{2}}{134217728} u^{31} + \\frac{92116035 \\sqrt{2}}{8589934592} u^{35} + \\frac{744762895 \\sqrt{2}}{68719476736} u^{39} + \\mathcal{O}\\left(u^{43}\\right)$$"
      ],
      "text/plain": [
       "    3         7          11           15            19             23         \n",
       "√2⋅u    3⋅√2⋅u    27⋅√2⋅u     143⋅√2⋅u     3315⋅√2⋅u     20349⋅√2⋅u     260015\n",
       "───── - ─────── + ───────── - ────────── + ─────────── - ──────────── + ──────\n",
       "  4        32        512         4096         131072       1048576         167\n",
       "\n",
       "     27               31                35                 39         \n",
       "⋅√2⋅u     1710855⋅√2⋅u     92116035⋅√2⋅u     744762895⋅√2⋅u      ⎛ 43⎞\n",
       "─────── - ────────────── + ─────────────── + ──────────────── + O⎝u  ⎠\n",
       "77216       134217728         8589934592       68719476736            "
      ]
     },
     "execution_count": 75,
     "metadata": {},
     "output_type": "execute_result"
    }
   ],
   "source": [
    "b43_series"
   ]
  },
  {
   "cell_type": "code",
   "execution_count": 93,
   "metadata": {
    "collapsed": false
   },
   "outputs": [],
   "source": [
    "q = sp.symbols('q')\n",
    "ftest0 = np.sqrt(2)*(1/4*q**3 - 3/32*q**7 + 27/512*q**11 - 143/4096*q**15 + 3315/131072*q**19 - \\\n",
    "                     20349/1048576*q**23 + 260015/16777216*q**27 + 1710855/134217728*q**31 - \\\n",
    "                    92116035/8589934592*q**35 + 744762895/68719476736*q**39)\n",
    "ftest = sp.horner(ftest0)"
   ]
  },
  {
   "cell_type": "code",
   "execution_count": 94,
   "metadata": {
    "collapsed": false
   },
   "outputs": [
    {
     "data": {
      "image/png": "[encoded data removed]",
      "text/latex": [
       "$$q^{3} \\left(q^{4} \\left(q^{4} \\left(q^{4} \\left(q^{4} \\left(q^{4} \\left(q^{4} \\left(q^{4} \\left(q^{4} \\left(0.0153268598203613 q^{4} - 0.0151656272365985\\right) + 0.0180267866272764\\right) + 0.0219176256311202\\right) - 0.0274446790511418\\right) + 0.0357675015202851\\right) - 0.0493731785691779\\right) + 0.0745776683282687\\right) - 0.132582521472478\\right) + 0.353553390593274\\right)$$"
      ],
      "text/plain": [
       " 3 ⎛ 4 ⎛ 4 ⎛ 4 ⎛ 4 ⎛ 4 ⎛ 4 ⎛ 4 ⎛ 4 ⎛                    4                     \n",
       "q ⋅⎝q ⋅⎝q ⋅⎝q ⋅⎝q ⋅⎝q ⋅⎝q ⋅⎝q ⋅⎝q ⋅⎝0.0153268598203613⋅q  - 0.0151656272365985\n",
       "\n",
       "⎞                     ⎞                     ⎞                     ⎞           \n",
       "⎠ + 0.0180267866272764⎠ + 0.0219176256311202⎠ - 0.0274446790511418⎠ + 0.035767\n",
       "\n",
       "          ⎞                     ⎞                     ⎞                    ⎞  \n",
       "5015202851⎠ - 0.0493731785691779⎠ + 0.0745776683282687⎠ - 0.132582521472478⎠ +\n",
       "\n",
       "                  ⎞\n",
       " 0.353553390593274⎠"
      ]
     },
     "execution_count": 94,
     "metadata": {},
     "output_type": "execute_result"
    }
   ],
   "source": [
    "ftest"
   ]
  },
  {
   "cell_type": "code",
   "execution_count": 147,
   "metadata": {
    "collapsed": true
   },
   "outputs": [],
   "source": [
    "b_horner = lambda u: u**3*(u**4*(u**4*(u**4*(u**4*(u**4*(u**4*(u**4*(u**4*(0.0153268598203613*u**4-\\\n",
    "                    0.0151656272365985)+0.0180267866272764)+0.0219176256311202)-0.0274446790511418)+ \\\n",
    "                    0.0357675015202851)-0.0493731785691779)+0.0745776683282687)-0.132582521472478)+ \\\n",
    "                    0.353553390593274)"
   ]
  },
  {
   "cell_type": "markdown",
   "metadata": {},
   "source": [
    "## Beta 47"
   ]
  },
  {
   "cell_type": "code",
   "execution_count": 104,
   "metadata": {
    "collapsed": false,
    "scrolled": true
   },
   "outputs": [
    {
     "data": {
      "image/png": "[encoded data removed]",
      "text/latex": [
       "$$\\frac{\\sqrt{2} u^{3}}{4} - \\frac{3 \\sqrt{2}}{32} u^{7} + \\frac{27 \\sqrt{2}}{512} u^{11} - \\frac{143 \\sqrt{2}}{4096} u^{15} + \\frac{3315 \\sqrt{2}}{131072} u^{19} - \\frac{20349 \\sqrt{2}}{1048576} u^{23} + \\frac{260015 \\sqrt{2}}{16777216} u^{27} - \\frac{1710855 \\sqrt{2}}{134217728} u^{31} + \\frac{92116035 \\sqrt{2}}{8589934592} u^{35} - \\frac{631165425 \\sqrt{2}}{68719476736} u^{39} - \\frac{10783406667 \\sqrt{2}}{1099511627776} u^{43} + \\mathcal{O}\\left(u^{47}\\right)$$"
      ],
      "text/plain": [
       "    3         7          11           15            19             23         \n",
       "√2⋅u    3⋅√2⋅u    27⋅√2⋅u     143⋅√2⋅u     3315⋅√2⋅u     20349⋅√2⋅u     260015\n",
       "───── - ─────── + ───────── - ────────── + ─────────── - ──────────── + ──────\n",
       "  4        32        512         4096         131072       1048576         167\n",
       "\n",
       "     27               31                35                 39                 \n",
       "⋅√2⋅u     1710855⋅√2⋅u     92116035⋅√2⋅u     631165425⋅√2⋅u     10783406667⋅√2\n",
       "─────── - ────────────── + ─────────────── - ──────────────── - ──────────────\n",
       "77216       134217728         8589934592       68719476736        109951162777\n",
       "\n",
       "  43         \n",
       "⋅u      ⎛ 47⎞\n",
       "──── + O⎝u  ⎠\n",
       "6            "
      ]
     },
     "execution_count": 104,
     "metadata": {},
     "output_type": "execute_result"
    }
   ],
   "source": [
    "b47_series"
   ]
  },
  {
   "cell_type": "code",
   "execution_count": 106,
   "metadata": {
    "collapsed": false
   },
   "outputs": [],
   "source": [
    "q = sp.symbols('q')\n",
    "ftest0 = np.sqrt(2)*(1/4*q**3 - 3/32*q**7 + 27/512*q**11 - 143/4096*q**15 + 3315/131072*q**19 - \\\n",
    "                    20349/1048576*q**23 + 260015/16777216*q**27 + 1710855/134217728*q**31 - \\\n",
    "                    92116035/8589934592*q**35 + 631165425/68719476736*q**39 - 10783406667/1099511627776*q**43)\n",
    "ftest = sp.horner(ftest0)"
   ]
  },
  {
   "cell_type": "code",
   "execution_count": 107,
   "metadata": {
    "collapsed": false
   },
   "outputs": [
    {
     "data": {
      "image/png": "[encoded data removed]",
      "text/latex": [
       "$$q^{3} \\left(q^{4} \\left(q^{4} \\left(q^{4} \\left(q^{4} \\left(q^{4} \\left(q^{4} \\left(q^{4} \\left(q^{4} \\left(q^{4} \\left(- 0.0138698305427678 q^{4} + 0.0129890788831978\\right) - 0.0151656272365985\\right) + 0.0180267866272764\\right) + 0.0219176256311202\\right) - 0.0274446790511418\\right) + 0.0357675015202851\\right) - 0.0493731785691779\\right) + 0.0745776683282687\\right) - 0.132582521472478\\right) + 0.353553390593274\\right)$$"
      ],
      "text/plain": [
       " 3 ⎛ 4 ⎛ 4 ⎛ 4 ⎛ 4 ⎛ 4 ⎛ 4 ⎛ 4 ⎛ 4 ⎛ 4 ⎛                      4               \n",
       "q ⋅⎝q ⋅⎝q ⋅⎝q ⋅⎝q ⋅⎝q ⋅⎝q ⋅⎝q ⋅⎝q ⋅⎝q ⋅⎝- 0.0138698305427678⋅q  + 0.0129890788\n",
       "\n",
       "      ⎞                     ⎞                     ⎞                     ⎞     \n",
       "831978⎠ - 0.0151656272365985⎠ + 0.0180267866272764⎠ + 0.0219176256311202⎠ - 0.\n",
       "\n",
       "                ⎞                     ⎞                     ⎞                 \n",
       "0274446790511418⎠ + 0.0357675015202851⎠ - 0.0493731785691779⎠ + 0.074577668328\n",
       "\n",
       "    ⎞                    ⎞                    ⎞\n",
       "2687⎠ - 0.132582521472478⎠ + 0.353553390593274⎠"
      ]
     },
     "execution_count": 107,
     "metadata": {},
     "output_type": "execute_result"
    }
   ],
   "source": [
    "ftest"
   ]
  },
  {
   "cell_type": "code",
   "execution_count": 148,
   "metadata": {
    "collapsed": true
   },
   "outputs": [],
   "source": [
    "b_horner = lambda u: u**3*(u**4*(u**4*(u**4*(u**4*(u**4*(u**4*(u**4*(u**4*(u**4*(-0.0138698305427678*u**4 + \\\n",
    "                0.0129890788831978) - 0.0151656272365985) + 0.0180267866272764) + 0.0219176256311202) - \\\n",
    "                0.0274446790511418) + 0.0357675015202851) - 0.0493731785691779) + 0.0745776683282687) - \\\n",
    "                0.132582521472478) + 0.353553390593274)"
   ]
  },
  {
   "cell_type": "code",
   "execution_count": 149,
   "metadata": {
    "collapsed": true
   },
   "outputs": [],
   "source": [
    "u_start = 0.0; u_inc = 0.0001; u_end = 1.0 + u_inc\n",
    "u = np.arange(u_start, u_end, u_inc)"
   ]
  },
  {
   "cell_type": "markdown",
   "metadata": {},
   "source": [
    "# Comparative Plots"
   ]
  },
  {
   "cell_type": "markdown",
   "metadata": {},
   "source": [
    "## Alpha"
   ]
  },
  {
   "cell_type": "code",
   "execution_count": 139,
   "metadata": {
    "collapsed": false,
    "scrolled": false
   },
   "outputs": [
    {
     "name": "stderr",
     "output_type": "stream",
     "text": [
      "/home/evankielley/anaconda3/lib/python3.5/site-packages/ipykernel/__main__.py:3: RuntimeWarning: divide by zero encountered in true_divide\n",
      "  app.launch_new_instance()\n",
      "/home/evankielley/anaconda3/lib/python3.5/site-packages/ipykernel/__main__.py:3: RuntimeWarning: invalid value encountered in multiply\n",
      "  app.launch_new_instance()\n"
     ]
    },
    {
     "data": {
      "image/png": "[encoded data removed]",
      "text/plain": [
       "<matplotlib.figure.Figure at 0x7fd52e373be0>"
      ]
     },
     "metadata": {},
     "output_type": "display_data"
    }
   ],
   "source": [
    "plt.plot(u, a_naive(u), label='naive')\n",
    "plt.plot(u, a_taylor(u), label='taylor')\n",
    "plt.xlabel('u')\n",
    "plt.ylabel('{}(u)'.format(alpha))\n",
    "plt.title('Naive vs Taylor Version of {} Function'.format(alpha))\n",
    "plt.savefig('./mods_report/naive_vs_taylor_alpha_plot')\n",
    "plt.legend()\n",
    "plt.show()"
   ]
  },
  {
   "cell_type": "markdown",
   "metadata": {},
   "source": [
    "## Beta"
   ]
  },
  {
   "cell_type": "code",
   "execution_count": 141,
   "metadata": {
    "collapsed": false
   },
   "outputs": [
    {
     "name": "stderr",
     "output_type": "stream",
     "text": [
      "/home/evankielley/anaconda3/lib/python3.5/site-packages/ipykernel/__main__.py:2: RuntimeWarning: divide by zero encountered in true_divide\n",
      "  from ipykernel import kernelapp as app\n",
      "/home/evankielley/anaconda3/lib/python3.5/site-packages/ipykernel/__main__.py:2: RuntimeWarning: invalid value encountered in sqrt\n",
      "  from ipykernel import kernelapp as app\n",
      "/home/evankielley/anaconda3/lib/python3.5/site-packages/ipykernel/__main__.py:2: RuntimeWarning: invalid value encountered in multiply\n",
      "  from ipykernel import kernelapp as app\n"
     ]
    },
    {
     "data": {
      "image/png": "[encoded data removed]",
      "text/plain": [
       "<matplotlib.figure.Figure at 0x7fd53a695f60>"
      ]
     },
     "metadata": {},
     "output_type": "display_data"
    }
   ],
   "source": [
    "plt.plot(u, b_naive(u), label='naive')\n",
    "plt.plot(u, b_horner(u), label='horner')\n",
    "plt.yscale('log')\n",
    "plt.xlabel('u')\n",
    "plt.ylabel('log({}(u))'.format(beta))\n",
    "plt.title('Naive vs Taylor Version of {} Function'.format(beta))\n",
    "plt.savefig('./mods_report/naive_vs_horner_beta_plot')\n",
    "plt.legend()\n",
    "plt.show()"
   ]
  },
  {
   "cell_type": "markdown",
   "metadata": {},
   "source": [
    "# Absolute Difference"
   ]
  },
  {
   "cell_type": "markdown",
   "metadata": {},
   "source": [
    "## Alpha"
   ]
  },
  {
   "cell_type": "code",
   "execution_count": 161,
   "metadata": {
    "collapsed": false
   },
   "outputs": [
    {
     "name": "stderr",
     "output_type": "stream",
     "text": [
      "/home/evankielley/anaconda3/lib/python3.5/site-packages/ipykernel/__main__.py:3: RuntimeWarning: divide by zero encountered in true_divide\n",
      "  app.launch_new_instance()\n",
      "/home/evankielley/anaconda3/lib/python3.5/site-packages/ipykernel/__main__.py:3: RuntimeWarning: invalid value encountered in multiply\n",
      "  app.launch_new_instance()\n"
     ]
    },
    {
     "data": {
      "image/png": "[encoded data removed]",
      "text/plain": [
       "<matplotlib.figure.Figure at 0x7fd530a0deb8>"
      ]
     },
     "metadata": {},
     "output_type": "display_data"
    }
   ],
   "source": [
    "plt.plot(u, a_naive(u) - a_horner(u))\n",
    "plt.yscale('log')\n",
    "plt.xlabel('u')\n",
    "plt.ylabel('log(absolute difference)'.format(alpha))\n",
    "plt.title('Absolute Difference Between Naive and Horner {} Functions'.format(alpha))\n",
    "plt.savefig('./mods_report/absolute_naive_vs_horner_alpha_plot')\n",
    "plt.show()"
   ]
  },
  {
   "cell_type": "markdown",
   "metadata": {},
   "source": [
    "## Beta"
   ]
  },
  {
   "cell_type": "code",
   "execution_count": 160,
   "metadata": {
    "collapsed": false
   },
   "outputs": [
    {
     "name": "stderr",
     "output_type": "stream",
     "text": [
      "/home/evankielley/anaconda3/lib/python3.5/site-packages/ipykernel/__main__.py:2: RuntimeWarning: divide by zero encountered in true_divide\n",
      "  from ipykernel import kernelapp as app\n",
      "/home/evankielley/anaconda3/lib/python3.5/site-packages/ipykernel/__main__.py:2: RuntimeWarning: invalid value encountered in sqrt\n",
      "  from ipykernel import kernelapp as app\n",
      "/home/evankielley/anaconda3/lib/python3.5/site-packages/ipykernel/__main__.py:2: RuntimeWarning: invalid value encountered in multiply\n",
      "  from ipykernel import kernelapp as app\n",
      "/home/evankielley/anaconda3/lib/python3.5/site-packages/matplotlib/axes/_axes.py:545: UserWarning: No labelled objects found. Use label='...' kwarg on individual plots.\n",
      "  warnings.warn(\"No labelled objects found. \"\n"
     ]
    },
    {
     "data": {
      "image/png": "[encoded data removed]",
      "text/plain": [
       "<matplotlib.figure.Figure at 0x7fd52fc6ac18>"
      ]
     },
     "metadata": {},
     "output_type": "display_data"
    }
   ],
   "source": [
    "plt.plot(u, b_naive(u) - b_horner(u))\n",
    "plt.yscale('log')\n",
    "plt.xlabel('u')\n",
    "plt.ylabel('log(absolute difference)'.format(beta))\n",
    "plt.title('Absolute Difference Between Naive and Horner {} Functions'.format(beta))\n",
    "plt.savefig('./mods_report/absolute_naive_vs_horner_beta_plot')\n",
    "plt.legend()\n",
    "plt.show()"
   ]
  },
  {
   "cell_type": "markdown",
   "metadata": {},
   "source": [
    "## Reading in actual computations"
   ]
  },
  {
   "cell_type": "markdown",
   "metadata": {},
   "source": [
    "Since the implementation of the horner formula for u > 0.3 does not produce as accurate results as implementing the horner formula when u > 0.6, it is likely that there is a difference in the way MATLAB and python are computing output using the b function."
   ]
  },
  {
   "cell_type": "code",
   "execution_count": 20,
   "metadata": {
    "collapsed": true
   },
   "outputs": [],
   "source": [
    "import scipy.io as sio"
   ]
  },
  {
   "cell_type": "code",
   "execution_count": 21,
   "metadata": {
    "collapsed": false
   },
   "outputs": [],
   "source": [
    "modelfull = 'ECCO_20th'\n",
    "root = '/home/evankielley/IceDEF/WagnerModel'                           \n",
    "outloc = root + '/output/' + modelfull + '/'\n",
    "inFile = outloc + 'b_arr.mat'                                     \n",
    "b_mat = sio.loadmat(inFile)['b_arr'];"
   ]
  },
  {
   "cell_type": "code",
   "execution_count": 22,
   "metadata": {
    "collapsed": false
   },
   "outputs": [
    {
     "name": "stderr",
     "output_type": "stream",
     "text": [
      "/home/evankielley/anaconda3/lib/python3.5/site-packages/ipykernel/__main__.py:2: RuntimeWarning: invalid value encountered in sqrt\n",
      "  from ipykernel import kernelapp as app\n"
     ]
    }
   ],
   "source": [
    "u_start = 0.01; u_inc = 0.00001; u_end = 1.0 + u_inc \n",
    "u_range = np.arange(u_start,u_end,u_inc)\n",
    "u_linspace = np.linspace(u_start,u_end,u_inc)\n",
    "\n",
    "b_py = np.empty([len(u_range), 3])*np.nan\n",
    "\n",
    "u = u_start\n",
    "for  i in range(0,len(u_range)):\n",
    "    b_py[i,:] = u, b_naive(u), b35(u)\n",
    "    u = u + u_inc;"
   ]
  },
  {
   "cell_type": "code",
   "execution_count": 26,
   "metadata": {
    "collapsed": false
   },
   "outputs": [],
   "source": [
    "b_diff = b_mat - b_py"
   ]
  },
  {
   "cell_type": "code",
   "execution_count": 27,
   "metadata": {
    "collapsed": false,
    "scrolled": true
   },
   "outputs": [
    {
     "data": {
      "text/plain": [
       "<function matplotlib.pyplot.show>"
      ]
     },
     "execution_count": 27,
     "metadata": {},
     "output_type": "execute_result"
    },
    {
     "data": {
      "image/png": "[encoded data removed]",
      "text/plain": [
       "<matplotlib.figure.Figure at 0x7fd544b090b8>"
      ]
     },
     "metadata": {},
     "output_type": "display_data"
    }
   ],
   "source": [
    "#plt.plot(b_py.T[0,:],np.divide(b_diff[:,1],b35(u)),label='naive')\n",
    "#plt.plot(b_py.T[0,:],np.divide(b_diff[:,2],b35(u)),label='taylor')\n",
    "plt.plot(b_py.T[0,:],b_diff[:,1]-b_diff[:,2],label='taylor')\n",
    "\n",
    "#plt.ylim([0,1e-10])\n",
    "#plt.xlim([0.2,0.4])\n",
    "plt.legend()\n",
    "plt.yscale('log')\n",
    "plt.show"
   ]
  }
 ],
 "metadata": {
  "kernelspec": {
   "display_name": "Python 3",
   "language": "python",
   "name": "python3"
  },
  "language_info": {
   "codemirror_mode": {
    "name": "ipython",
    "version": 3
   },
   "file_extension": ".py",
   "mimetype": "text/x-python",
   "name": "python",
   "nbconvert_exporter": "python",
   "pygments_lexer": "ipython3",
   "version": "3.5.2"
  }
 },
 "nbformat": 4,
 "nbformat_minor": 2
}
