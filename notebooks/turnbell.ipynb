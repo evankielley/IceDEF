{
 "cells": [
  {
   "cell_type": "markdown",
   "metadata": {},
   "source": [
    "# Turnbell Model"
   ]
  },
  {
   "cell_type": "code",
   "execution_count": 1,
   "metadata": {
    "collapsed": true
   },
   "outputs": [],
   "source": [
    "import numpy as np"
   ]
  },
  {
   "cell_type": "code",
   "execution_count": 4,
   "metadata": {
    "collapsed": true
   },
   "outputs": [],
   "source": [
    "import os\n",
    "\n",
    "import matplotlib.pyplot as plt\n",
    "%matplotlib inline\n",
    "plt.style.use('default')\n",
    "from matplotlib.backends.backend_pdf import PdfPages"
   ]
  },
  {
   "cell_type": "code",
   "execution_count": 5,
   "metadata": {
    "collapsed": true
   },
   "outputs": [],
   "source": [
    "%run ../models/drift/wagner.py"
   ]
  },
  {
   "cell_type": "code",
   "execution_count": 6,
   "metadata": {
    "collapsed": true
   },
   "outputs": [],
   "source": [
    "%run ../models/iceberg/iceberg.py"
   ]
  },
  {
   "cell_type": "code",
   "execution_count": 18,
   "metadata": {
    "collapsed": false
   },
   "outputs": [],
   "source": [
    "%run ../models/metocean/metocean.py"
   ]
  },
  {
   "cell_type": "code",
   "execution_count": 12,
   "metadata": {
    "collapsed": true
   },
   "outputs": [],
   "source": [
    "%run ../plotting/plot.py"
   ]
  },
  {
   "cell_type": "code",
   "execution_count": 13,
   "metadata": {
    "collapsed": false
   },
   "outputs": [
    {
     "data": {
      "text/html": [
       "<div>\n",
       "<table border=\"1\" class=\"dataframe\">\n",
       "  <thead>\n",
       "    <tr style=\"text-align: right;\">\n",
       "      <th></th>\n",
       "      <th>index</th>\n",
       "      <th>ICE-YEAR</th>\n",
       "      <th>BERG_NUMBER</th>\n",
       "      <th>DATE</th>\n",
       "      <th>TIME</th>\n",
       "      <th>LATITUDE</th>\n",
       "      <th>LONGITUDE</th>\n",
       "      <th>METHOD</th>\n",
       "      <th>SIZE</th>\n",
       "      <th>SHAPE</th>\n",
       "      <th>SOURCE</th>\n",
       "      <th>DATETIME</th>\n",
       "      <th>t2000</th>\n",
       "    </tr>\n",
       "  </thead>\n",
       "  <tbody>\n",
       "    <tr>\n",
       "      <th>0</th>\n",
       "      <td>6319</td>\n",
       "      <td>2015</td>\n",
       "      <td>21511</td>\n",
       "      <td>6/16/2015</td>\n",
       "      <td>1442</td>\n",
       "      <td>48.16</td>\n",
       "      <td>-50.01</td>\n",
       "      <td>R/V</td>\n",
       "      <td>LG</td>\n",
       "      <td>TAB</td>\n",
       "      <td>GTJZ</td>\n",
       "      <td>2015-06-16 14:42:00</td>\n",
       "      <td>135494.70</td>\n",
       "    </tr>\n",
       "    <tr>\n",
       "      <th>1</th>\n",
       "      <td>6320</td>\n",
       "      <td>2015</td>\n",
       "      <td>21511</td>\n",
       "      <td>6/17/2015</td>\n",
       "      <td>1300</td>\n",
       "      <td>48.09</td>\n",
       "      <td>-50.02</td>\n",
       "      <td>R/V</td>\n",
       "      <td>LG</td>\n",
       "      <td>GEN</td>\n",
       "      <td>GMRS</td>\n",
       "      <td>2015-06-17 13:00:00</td>\n",
       "      <td>135517.00</td>\n",
       "    </tr>\n",
       "    <tr>\n",
       "      <th>2</th>\n",
       "      <td>6321</td>\n",
       "      <td>2015</td>\n",
       "      <td>21511</td>\n",
       "      <td>6/18/2015</td>\n",
       "      <td>1249</td>\n",
       "      <td>48.08</td>\n",
       "      <td>-49.76</td>\n",
       "      <td>VIS</td>\n",
       "      <td>LG</td>\n",
       "      <td>TAB</td>\n",
       "      <td>GTJZ</td>\n",
       "      <td>2015-06-18 12:49:00</td>\n",
       "      <td>135540.82</td>\n",
       "    </tr>\n",
       "  </tbody>\n",
       "</table>\n",
       "</div>"
      ],
      "text/plain": [
       "   index  ICE-YEAR  BERG_NUMBER       DATE  TIME  LATITUDE  LONGITUDE METHOD  \\\n",
       "0   6319      2015        21511  6/16/2015  1442     48.16     -50.01    R/V   \n",
       "1   6320      2015        21511  6/17/2015  1300     48.09     -50.02    R/V   \n",
       "2   6321      2015        21511  6/18/2015  1249     48.08     -49.76    VIS   \n",
       "\n",
       "  SIZE SHAPE SOURCE            DATETIME      t2000  \n",
       "0   LG   TAB   GTJZ 2015-06-16 14:42:00  135494.70  \n",
       "1   LG   GEN   GMRS 2015-06-17 13:00:00  135517.00  \n",
       "2   LG   TAB   GTJZ 2015-06-18 12:49:00  135540.82  "
      ]
     },
     "execution_count": 13,
     "metadata": {},
     "output_type": "execute_result"
    }
   ],
   "source": [
    "chosen_track_ind = 0\n",
    "iip_berg_df = get_berg_df(chosen_track_ind)\n",
    "iip_berg_df"
   ]
  },
  {
   "cell_type": "code",
   "execution_count": 14,
   "metadata": {
    "collapsed": true
   },
   "outputs": [],
   "source": [
    "iip_berg = Iceberg(iip_berg_df['BERG_NUMBER'].loc[0],\n",
    "                       iip_berg_df['DATETIME'].loc[:].tolist(),\n",
    "                       iip_berg_df['t2000'].loc[:].tolist(),\n",
    "                       iip_berg_df['LATITUDE'].loc[:].tolist(),\n",
    "                       iip_berg_df['LONGITUDE'].loc[:].tolist(),\n",
    "                       iip_berg_df['SIZE'].loc[0])"
   ]
  },
  {
   "cell_type": "code",
   "execution_count": 19,
   "metadata": {
    "collapsed": false
   },
   "outputs": [],
   "source": [
    "atm_data = ECMWF_Atm(min(iip_berg.lons), max(iip_berg.lons),\n",
    "                     min(iip_berg.lats), max(iip_berg.lats),\n",
    "                     iip_berg.times[0], iip_berg.times[-1])"
   ]
  },
  {
   "cell_type": "code",
   "execution_count": 20,
   "metadata": {
    "collapsed": true
   },
   "outputs": [],
   "source": [
    "ocean_data = ECMWF_Ocean(min(iip_berg.lons), max(iip_berg.lons),\n",
    "                         min(iip_berg.lats), max(iip_berg.lats),\n",
    "                         iip_berg.times[0], iip_berg.times[-1])"
   ]
  },
  {
   "cell_type": "code",
   "execution_count": 22,
   "metadata": {
    "collapsed": true
   },
   "outputs": [],
   "source": [
    "AU = atm_data.wind_u_interp\n",
    "AV = atm_data.wind_v_interp  \n",
    "WU = ocean_data.water_u_interp \n",
    "WV = ocean_data.water_v_interp"
   ]
  },
  {
   "cell_type": "code",
   "execution_count": 25,
   "metadata": {
    "collapsed": false
   },
   "outputs": [],
   "source": [
    "berg_size = 'LG'\n",
    "mod_berg = Iceberg(iip_berg_df['BERG_NUMBER'].loc[0],\n",
    "                   [iip_berg_df['DATETIME'].loc[0]],\n",
    "                   [iip_berg_df['t2000'].loc[0]],\n",
    "                   [iip_berg_df['LATITUDE'].loc[0]],\n",
    "                   [iip_berg_df['LONGITUDE'].loc[0]],\n",
    "                   berg_size)\n",
    "mod_berg.length = [mod_berg.length]\n",
    "mod_berg.width = [mod_berg.width]\n",
    "mod_berg.height = [mod_berg.height]"
   ]
  },
  {
   "cell_type": "code",
   "execution_count": 31,
   "metadata": {
    "collapsed": true
   },
   "outputs": [],
   "source": [
    "x0, y0 = mod_berg.lons[0], mod_berg.lats[0]\n",
    "vx0 = 0\n",
    "vy0 = 0\n",
    "t0 = iip_berg.t2000[0]\n",
    "tf = iip_berg.t2000[-1]\n",
    "l0, w0, h0 = mod_berg.length[0], mod_berg.width[0], mod_berg.height[0]"
   ]
  },
  {
   "cell_type": "code",
   "execution_count": null,
   "metadata": {
    "collapsed": true
   },
   "outputs": [],
   "source": []
  },
  {
   "cell_type": "code",
   "execution_count": null,
   "metadata": {
    "collapsed": true
   },
   "outputs": [],
   "source": []
  },
  {
   "cell_type": "code",
   "execution_count": 43,
   "metadata": {
    "collapsed": false
   },
   "outputs": [],
   "source": [
    "vx, vy, x, y = turnbell_drift(t0, vx0, vy0, x0, y0, l0, w0, h0, AU, AV, WU, WV)"
   ]
  },
  {
   "cell_type": "code",
   "execution_count": 44,
   "metadata": {
    "collapsed": false
   },
   "outputs": [
    {
     "data": {
      "text/plain": [
       "-50.009999999999998"
      ]
     },
     "execution_count": 44,
     "metadata": {},
     "output_type": "execute_result"
    }
   ],
   "source": [
    "x"
   ]
  },
  {
   "cell_type": "code",
   "execution_count": 45,
   "metadata": {
    "collapsed": false
   },
   "outputs": [
    {
     "data": {
      "text/plain": [
       "48.159999999999997"
      ]
     },
     "execution_count": 45,
     "metadata": {},
     "output_type": "execute_result"
    }
   ],
   "source": [
    "y"
   ]
  },
  {
   "cell_type": "code",
   "execution_count": 41,
   "metadata": {
    "collapsed": true
   },
   "outputs": [],
   "source": [
    "def turnbell_drift(t, vx, vy, x, y, l, w, h, AU, AV, WU, WV):\n",
    "    \n",
    "    dt = 60.0\n",
    "        \n",
    "    Vx = vx\n",
    "    Vy = vy\n",
    "        \n",
    "    # Air drag\n",
    "    Vax = 0*60.0*np.cos(1*np.pi*t/86400) # nominal value\n",
    "    Vay = 0\n",
    "    \n",
    "    # calculate air density\n",
    "    # TODO: effect of temperature and humidity\n",
    "    rhoa = 1.225 # density of air (kg/m^3)\n",
    "    \n",
    "    Ca = 0.1  # air drag coefficient\n",
    "    As = 72 * 22  # sail area (maximum width (m) * sail height (m))\n",
    "    \n",
    "    # TODO: add skin drag\n",
    "    Fax = (0.5 * rhoa * Ca * As) * abs(Vax - Vx) * (Vax - Vx)\n",
    "    Fay = (0.5 * rhoa * Ca * As) * abs(Vay - Vy) * (Vay - Vy)\n",
    "    \n",
    "    \n",
    "    # Water drag  \n",
    "    Vcx = 0\n",
    "    Vcy = 0\n",
    "    \n",
    "    rhow = 1027.5  # density of water (kg/m^3)\n",
    "    Cw = 2.5    # water drag coefficient\n",
    "    Ak = 7*110    # keel area (width (m) * keel depth (m))\n",
    "    \n",
    "    Cdw = 5.0e-4\n",
    "    \n",
    "    # TODO: extend to n-layer keel model\n",
    "    # TODO: add skin drag\n",
    "    Fwx = (0.5 * rhow * Cw * Ak *abs(Vcx - Vx)*(Vcx-Vx)) +(0)\n",
    "    Fwy = (0.5 * rhow * Cw * Ak *abs(Vcy - Vy)*(Vcy-Vy)) +(0)\n",
    "    \n",
    "    \n",
    "    # Coriolis force\n",
    "    om = 7.2921e-5  # rotation rate of earth in rad/s\n",
    "    f = 2*om*np.sin(np.deg2rad(y))  # Coriolis parameter (y is latitude in degrees)\n",
    "    rhoi = 850\n",
    "    berg_mass = l*w*h*rhoi\n",
    "    Fcx = + f * Vy * berg_mass\n",
    "    Fcy = - f * Vx * berg_mass\n",
    "    \n",
    "    \n",
    "    # Water pressure gradient\n",
    "    # Mean water current down to the iceberg keel\n",
    "    Vwmx = 0\n",
    "    Vwmy = 0\n",
    "    \n",
    "    # acceleration (time-derivative) of Vmw\n",
    "    Amwx = 0\n",
    "    Amwy = 0\n",
    "        \n",
    "    Fwpx = berg_mass*(Amwx + f*Vwmx)\n",
    "    Fwpy = berg_mass*(Amwy - f*Vwmy)\n",
    "    \n",
    "    \n",
    "    # Iceberg acceleration\n",
    "    \n",
    "    # added mass\n",
    "    Ma = 0.5*berg_mass\n",
    "                \n",
    "    ax = (Fax + Fcx + Fwx + Fwpx) / (berg_mass + Ma)\n",
    "    ay = (Fay + Fcy + Fwy + Fwpy) / (berg_mass + Ma)\n",
    "    \n",
    "    vx += dt*ax\n",
    "    vy += dt*ay\n",
    "    \n",
    "    earth_radius = 6378*1e3\n",
    "    y_new = y + dt*vy*(180/(np.pi*earth_radius))\n",
    "    x_new = x + dt*vx/(np.cos((((y + y_new)/2)*np.pi)/180))*(180/(np.pi*earth_radius))\n",
    "    \n",
    "    return vx, vy, x_new, y_new\n",
    "    "
   ]
  },
  {
   "cell_type": "code",
   "execution_count": 42,
   "metadata": {
    "collapsed": true
   },
   "outputs": [],
   "source": [
    "def solve(berg, dt=60.0):\n",
    "    \"\"\"\n",
    "    Solve the equations of motion with\n",
    "        dt time step in seconds\n",
    "        \n",
    "        berg is an Iceberg\n",
    "    \"\"\"\n",
    "    tmax_hours = 72\n",
    "    tmax = tmax_hours*60*60 # hours to seconds\n",
    "    \n",
    "    # total number of timesteps\n",
    "    N = round(tmax/dt)\n",
    "\n",
    "    # allocate memory for arrays\n",
    "    x = np.zeros(N)\n",
    "    y = np.zeros(N)\n",
    "    vx = np.zeros(N)\n",
    "    vy = np.zeros(N)\n",
    "    ax = np.zeros(N)\n",
    "    ay = np.zeros(N)\n",
    "    t = np.zeros(N)\n",
    "\n",
    "    # initial values\n",
    "    x[0] = 0\n",
    "    y[0] = 0\n",
    "    vx[0] = 2\n",
    "    vy[0] = 0\n",
    "    ax[0], ay[0] = turnbell_drift(berg, vx[0], vy[0], t[0])\n",
    "    t[0] = 0\n",
    "\n",
    "    # integrate numerically\n",
    "    for i in range(N-1):\n",
    "        \n",
    "        t[i+1] = t[i] + dt\n",
    "            \n",
    "        if i < 1:\n",
    "            # explicit Euler forward scheme\n",
    "            vx[i+1] = vx[i] + dt*ax[i]\n",
    "            vy[i+1] = vy[i] + dt*ay[i]  \n",
    "            ax[i+1], ay[i+1] = turnbell_drift(t[i+1], vx[i+1], vy[i+1])\n",
    "            \n",
    "        elif i < 3:\n",
    "            # second order Adams Bashforth\n",
    "            vx[i+1] = vx[i] + dt*(1.5*ax[i]-0.5*ax[i-1])\n",
    "            vy[i+1] = vy[i] + dt*(1.5*ay[i]-0.5*ay[i-1]) \n",
    "            ax[i+1], ay[i+1] = turnbell_drift(t[i+1], vx[i+1], vy[i+1])\n",
    "            \n",
    "        else:\n",
    "            # fourth order Adams Bashforth, predictor-corrector\n",
    "            vx[i+1] = vx[i] + dt/24*(55*ax[i]-59*ax[i-1]+37*ax[i-2]-9*ax[i-3])\n",
    "            vy[i+1] = vy[i] + dt/24*(55*ay[i]-59*ay[i-1]+37*ay[i-2]-9*ay[i-3])    \n",
    "            ax[i+1], ay[i+1] = turnbell_drift(t[i+1], vx[i+1], vy[i+1])\n",
    "            \n",
    "            vx[i+1] = vx[i] + dt/24*(9*ax[i+1]+19*ax[i]-5*ax[i-1]+ax[i-2])\n",
    "            vy[i+1] = vy[i] + dt/24*(9*ay[i+1]+19*ay[i]-5*ay[i-1]+ay[i-2]) \n",
    "            ax[i+1], ay[i+1] = turnbell_drift(t[i+1], vx[i+1], vy[i+1])\n",
    "            \n",
    "        x[i+1] = x[i] + dt*vx[i+1]\n",
    "        y[i+1] = y[i] + dt*vy[i+1]\n",
    "  \n",
    "    \n",
    "    return x, y, t"
   ]
  },
  {
   "cell_type": "code",
   "execution_count": null,
   "metadata": {
    "collapsed": true
   },
   "outputs": [],
   "source": []
  }
 ],
 "metadata": {
  "kernelspec": {
   "display_name": "Python 3",
   "language": "python",
   "name": "python3"
  },
  "language_info": {
   "codemirror_mode": {
    "name": "ipython",
    "version": 3
   },
   "file_extension": ".py",
   "mimetype": "text/x-python",
   "name": "python",
   "nbconvert_exporter": "python",
   "pygments_lexer": "ipython3",
   "version": "3.5.2"
  }
 },
 "nbformat": 4,
 "nbformat_minor": 0
}
