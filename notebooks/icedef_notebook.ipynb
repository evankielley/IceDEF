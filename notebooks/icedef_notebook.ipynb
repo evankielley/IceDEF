{
 "cells": [
  {
   "cell_type": "code",
   "execution_count": 22,
   "metadata": {
    "collapsed": true
   },
   "outputs": [],
   "source": [
    "import numpy as np"
   ]
  },
  {
   "cell_type": "code",
   "execution_count": 32,
   "metadata": {
    "collapsed": true
   },
   "outputs": [],
   "source": [
    "import pandas as pd"
   ]
  },
  {
   "cell_type": "code",
   "execution_count": 46,
   "metadata": {
    "collapsed": true
   },
   "outputs": [],
   "source": [
    "import xarray as xr"
   ]
  },
  {
   "cell_type": "code",
   "execution_count": 58,
   "metadata": {
    "collapsed": true
   },
   "outputs": [],
   "source": [
    "import urllib"
   ]
  },
  {
   "cell_type": "code",
   "execution_count": 62,
   "metadata": {
    "collapsed": false
   },
   "outputs": [],
   "source": [
    "# Choose iceberg year (2002 - 2015 available)\n",
    "# Note: Iceberg Season starts in November so many datasets include dates from year-1\n",
    "season_year = 2015\n",
    "iip_url_base = 'ftp://sidads.colorado.edu/pub/DATASETS/NOAA/G00807/' \n",
    "iip_filename = 'IIP_{}IcebergSeason.csv'.format(season_year)\n",
    "iip_url = iip_url_base + iip_filename\n",
    "r = urllib.request.urlretrieve(iip_url)\n",
    "iip_df = pd.read_csv(r[0], converters={'TIME':str})\n",
    "iip_df['DATETIME'] = pd.to_datetime(df['DATE'] + 'T' + df['TIME'])"
   ]
  },
  {
   "cell_type": "code",
   "execution_count": 63,
   "metadata": {
    "collapsed": false
   },
   "outputs": [
    {
     "data": {
      "text/html": [
       "<div>\n",
       "<table border=\"1\" class=\"dataframe\">\n",
       "  <thead>\n",
       "    <tr style=\"text-align: right;\">\n",
       "      <th></th>\n",
       "      <th>ICE-YEAR</th>\n",
       "      <th>BERG_NUMBER</th>\n",
       "      <th>DATE</th>\n",
       "      <th>TIME</th>\n",
       "      <th>LATITUDE</th>\n",
       "      <th>LONGITUDE</th>\n",
       "      <th>METHOD</th>\n",
       "      <th>SIZE</th>\n",
       "      <th>SHAPE</th>\n",
       "      <th>SOURCE</th>\n",
       "      <th>DATETIME</th>\n",
       "    </tr>\n",
       "  </thead>\n",
       "  <tbody>\n",
       "    <tr>\n",
       "      <th>0</th>\n",
       "      <td>2015</td>\n",
       "      <td>1</td>\n",
       "      <td>11/21/2014</td>\n",
       "      <td>1639</td>\n",
       "      <td>59.98</td>\n",
       "      <td>-63.44</td>\n",
       "      <td>VIS</td>\n",
       "      <td>GEN</td>\n",
       "      <td>GEN</td>\n",
       "      <td>GCFR</td>\n",
       "      <td>2014-11-21 16:39:00</td>\n",
       "    </tr>\n",
       "    <tr>\n",
       "      <th>1</th>\n",
       "      <td>2015</td>\n",
       "      <td>1</td>\n",
       "      <td>12/13/2014</td>\n",
       "      <td>2138</td>\n",
       "      <td>58.32</td>\n",
       "      <td>-61.18</td>\n",
       "      <td>SAT-HIGH</td>\n",
       "      <td>RAD</td>\n",
       "      <td>RAD</td>\n",
       "      <td>RSA2</td>\n",
       "      <td>2014-12-13 21:38:00</td>\n",
       "    </tr>\n",
       "    <tr>\n",
       "      <th>2</th>\n",
       "      <td>2015</td>\n",
       "      <td>2</td>\n",
       "      <td>11/29/2014</td>\n",
       "      <td>2147</td>\n",
       "      <td>58.57</td>\n",
       "      <td>-60.53</td>\n",
       "      <td>SAT-HIGH</td>\n",
       "      <td>RAD</td>\n",
       "      <td>RAD</td>\n",
       "      <td>RSA2</td>\n",
       "      <td>2014-11-29 21:47:00</td>\n",
       "    </tr>\n",
       "    <tr>\n",
       "      <th>3</th>\n",
       "      <td>2015</td>\n",
       "      <td>2</td>\n",
       "      <td>12/6/2014</td>\n",
       "      <td>2142</td>\n",
       "      <td>58.21</td>\n",
       "      <td>-60.05</td>\n",
       "      <td>SAT-HIGH</td>\n",
       "      <td>RAD</td>\n",
       "      <td>RAD</td>\n",
       "      <td>RSA2</td>\n",
       "      <td>2014-12-06 21:42:00</td>\n",
       "    </tr>\n",
       "    <tr>\n",
       "      <th>4</th>\n",
       "      <td>2015</td>\n",
       "      <td>2</td>\n",
       "      <td>12/16/2014</td>\n",
       "      <td>1553</td>\n",
       "      <td>57.69</td>\n",
       "      <td>-59.16</td>\n",
       "      <td>VIS</td>\n",
       "      <td>LG</td>\n",
       "      <td>GEN</td>\n",
       "      <td>GTJZ</td>\n",
       "      <td>2014-12-16 15:53:00</td>\n",
       "    </tr>\n",
       "  </tbody>\n",
       "</table>\n",
       "</div>"
      ],
      "text/plain": [
       "   ICE-YEAR  BERG_NUMBER        DATE  TIME  LATITUDE  LONGITUDE    METHOD  \\\n",
       "0      2015            1  11/21/2014  1639     59.98     -63.44       VIS   \n",
       "1      2015            1  12/13/2014  2138     58.32     -61.18  SAT-HIGH   \n",
       "2      2015            2  11/29/2014  2147     58.57     -60.53  SAT-HIGH   \n",
       "3      2015            2   12/6/2014  2142     58.21     -60.05  SAT-HIGH   \n",
       "4      2015            2  12/16/2014  1553     57.69     -59.16       VIS   \n",
       "\n",
       "  SIZE SHAPE SOURCE            DATETIME  \n",
       "0  GEN   GEN   GCFR 2014-11-21 16:39:00  \n",
       "1  RAD   RAD   RSA2 2014-12-13 21:38:00  \n",
       "2  RAD   RAD   RSA2 2014-11-29 21:47:00  \n",
       "3  RAD   RAD   RSA2 2014-12-06 21:42:00  \n",
       "4   LG   GEN   GTJZ 2014-12-16 15:53:00  "
      ]
     },
     "execution_count": 63,
     "metadata": {},
     "output_type": "execute_result"
    }
   ],
   "source": [
    "iip_df.head()"
   ]
  },
  {
   "cell_type": "code",
   "execution_count": 66,
   "metadata": {
    "collapsed": true
   },
   "outputs": [],
   "source": [
    "# Choose the min number of observations for an eligible iceberg\n",
    "min_num_obs = 10\n",
    "eligible_bergs = np.asarray(\n",
    "    iip_df['BERG_NUMBER'].value_counts()\\\n",
    "    .loc[iip_df['BERG_NUMBER'].value_counts() > min_num_obs].index)"
   ]
  },
  {
   "cell_type": "code",
   "execution_count": 69,
   "metadata": {
    "collapsed": false
   },
   "outputs": [],
   "source": [
    "chosen_inds_arr = []\n",
    "\n",
    "for i in range(eligible_bergs.size):\n",
    "\n",
    "    iip_berg_id = eligible_bergs[i]\n",
    "    iip_berg_df = iip_df.loc[iip_df['BERG_NUMBER'] == iip_berg_id]\n",
    "    \n",
    "    ind0 = iip_berg_df.index.tolist()[0]\n",
    "    indf = iip_berg_df.index.tolist()[-1]\n",
    "    \n",
    "    max_time_dif = np.timedelta64(24*60*3, 'm')\n",
    "    \n",
    "    chosen_inds = []\n",
    "\n",
    "    for j in range(len(iip_berg_df)-1):\n",
    "\n",
    "        time_dif = (iip_berg_df.DATETIME.values[j+1] - \\\n",
    "                    iip_berg_df.DATETIME.values[j]).astype('timedelta64[m]')\n",
    "        \n",
    "        if time_dif < max_time_dif:\n",
    "            chosen_inds.append(j+ind0)\n",
    "\n",
    "        elif len(chosen_inds) > 5:\n",
    "            chosen_inds_arr.append(chosen_inds)\n",
    "            chosen_inds = []\n",
    "        else:\n",
    "            chosen_inds = []\n",
    "\n",
    "    if len(chosen_inds) > 5:\n",
    "        chosen_inds_arr.append(chosen_inds)"
   ]
  },
  {
   "cell_type": "code",
   "execution_count": 74,
   "metadata": {
    "collapsed": true
   },
   "outputs": [],
   "source": [
    "# Choose which iceberg track to look at (index)\n",
    "chosen_track_ind = 2\n",
    "\n",
    "iip_berg_df = df.loc[chosen_inds_arr[chosen_track_ind]].reset_index()"
   ]
  },
  {
   "cell_type": "code",
   "execution_count": 75,
   "metadata": {
    "collapsed": false
   },
   "outputs": [
    {
     "data": {
      "text/html": [
       "<div>\n",
       "<table border=\"1\" class=\"dataframe\">\n",
       "  <thead>\n",
       "    <tr style=\"text-align: right;\">\n",
       "      <th></th>\n",
       "      <th>index</th>\n",
       "      <th>ICE-YEAR</th>\n",
       "      <th>BERG_NUMBER</th>\n",
       "      <th>DATE</th>\n",
       "      <th>TIME</th>\n",
       "      <th>LATITUDE</th>\n",
       "      <th>LONGITUDE</th>\n",
       "      <th>METHOD</th>\n",
       "      <th>SIZE</th>\n",
       "      <th>SHAPE</th>\n",
       "      <th>SOURCE</th>\n",
       "      <th>DATETIME</th>\n",
       "    </tr>\n",
       "  </thead>\n",
       "  <tbody>\n",
       "    <tr>\n",
       "      <th>0</th>\n",
       "      <td>4986</td>\n",
       "      <td>2015</td>\n",
       "      <td>21165</td>\n",
       "      <td>6/23/2015</td>\n",
       "      <td>1227</td>\n",
       "      <td>47.67</td>\n",
       "      <td>-48.80</td>\n",
       "      <td>R/V</td>\n",
       "      <td>GEN</td>\n",
       "      <td>GEN</td>\n",
       "      <td>GTJZ</td>\n",
       "      <td>2015-06-23 12:27:00</td>\n",
       "    </tr>\n",
       "    <tr>\n",
       "      <th>1</th>\n",
       "      <td>4987</td>\n",
       "      <td>2015</td>\n",
       "      <td>21165</td>\n",
       "      <td>6/23/2015</td>\n",
       "      <td>1914</td>\n",
       "      <td>47.59</td>\n",
       "      <td>-48.81</td>\n",
       "      <td>R/V</td>\n",
       "      <td>GEN</td>\n",
       "      <td>GEN</td>\n",
       "      <td>GTJZ</td>\n",
       "      <td>2015-06-23 19:14:00</td>\n",
       "    </tr>\n",
       "    <tr>\n",
       "      <th>2</th>\n",
       "      <td>4988</td>\n",
       "      <td>2015</td>\n",
       "      <td>21165</td>\n",
       "      <td>6/24/2015</td>\n",
       "      <td>1452</td>\n",
       "      <td>47.52</td>\n",
       "      <td>-48.84</td>\n",
       "      <td>R/V</td>\n",
       "      <td>SM</td>\n",
       "      <td>GEN</td>\n",
       "      <td>GTJZ</td>\n",
       "      <td>2015-06-24 14:52:00</td>\n",
       "    </tr>\n",
       "    <tr>\n",
       "      <th>3</th>\n",
       "      <td>4989</td>\n",
       "      <td>2015</td>\n",
       "      <td>21165</td>\n",
       "      <td>6/26/2015</td>\n",
       "      <td>1643</td>\n",
       "      <td>47.34</td>\n",
       "      <td>-48.72</td>\n",
       "      <td>R/V</td>\n",
       "      <td>SM</td>\n",
       "      <td>GEN</td>\n",
       "      <td>GMRS</td>\n",
       "      <td>2015-06-26 16:43:00</td>\n",
       "    </tr>\n",
       "    <tr>\n",
       "      <th>4</th>\n",
       "      <td>4990</td>\n",
       "      <td>2015</td>\n",
       "      <td>21165</td>\n",
       "      <td>6/27/2015</td>\n",
       "      <td>1116</td>\n",
       "      <td>47.32</td>\n",
       "      <td>-48.72</td>\n",
       "      <td>R/V</td>\n",
       "      <td>SM</td>\n",
       "      <td>GEN</td>\n",
       "      <td>GPGR</td>\n",
       "      <td>2015-06-27 11:16:00</td>\n",
       "    </tr>\n",
       "  </tbody>\n",
       "</table>\n",
       "</div>"
      ],
      "text/plain": [
       "   index  ICE-YEAR  BERG_NUMBER       DATE  TIME  LATITUDE  LONGITUDE METHOD  \\\n",
       "0   4986      2015        21165  6/23/2015  1227     47.67     -48.80    R/V   \n",
       "1   4987      2015        21165  6/23/2015  1914     47.59     -48.81    R/V   \n",
       "2   4988      2015        21165  6/24/2015  1452     47.52     -48.84    R/V   \n",
       "3   4989      2015        21165  6/26/2015  1643     47.34     -48.72    R/V   \n",
       "4   4990      2015        21165  6/27/2015  1116     47.32     -48.72    R/V   \n",
       "\n",
       "  SIZE SHAPE SOURCE            DATETIME  \n",
       "0  GEN   GEN   GTJZ 2015-06-23 12:27:00  \n",
       "1  GEN   GEN   GTJZ 2015-06-23 19:14:00  \n",
       "2   SM   GEN   GTJZ 2015-06-24 14:52:00  \n",
       "3   SM   GEN   GMRS 2015-06-26 16:43:00  \n",
       "4   SM   GEN   GPGR 2015-06-27 11:16:00  "
      ]
     },
     "execution_count": 75,
     "metadata": {},
     "output_type": "execute_result"
    }
   ],
   "source": [
    "iip_berg_df.head()"
   ]
  },
  {
   "cell_type": "code",
   "execution_count": 78,
   "metadata": {
    "collapsed": true
   },
   "outputs": [],
   "source": [
    "class Iceberg:\n",
    "    \n",
    "    def __init__(self, id_num, times, lats, lons, size):\n",
    "        self.id_num = id_num\n",
    "        self.times = times\n",
    "        self.times_ref0 = self.get_times_ref0(self.times)\n",
    "        self.lats = lats\n",
    "        self.lons = lons\n",
    "        \n",
    "        if type(size) == str:\n",
    "            self.length, self.width, self.height = self.get_berg_dims(size)\n",
    "        elif type(size) == list and len(size) == 3:\n",
    "            self.length, self.width, self.height = size[0], size[1], size[2]\n",
    "        else:\n",
    "            print('Invalid size argument')\n",
    "            \n",
    "    def get_times_ref0(self, times):\n",
    "        times_ref0 = []\n",
    "        t_offset = times[0].hour + times[0].minute/60  # from start of day\n",
    "        for i in range(len(times)):\n",
    "            times_ref0.append(round((times[i] - times[0]).days*24 + \\\n",
    "                                    (times[i] - times[0]).seconds/3600 + t_offset, 1))\n",
    "        return times_ref0\n",
    "    \n",
    "    def set_times_ref0(self, times):\n",
    "        self.times_ref0 = self.get_times_ref0(times)\n",
    "            \n",
    "    def get_berg_dims(self, size):\n",
    "        # Size must be GR, BB, SM, MED, LG, VLG\n",
    "        # See https://nsidc.org/data/g00807 for more info\n",
    "        if size == 'GR':\n",
    "            l = (0+5)/2; w = (0+5)/2; h = (0+1)/2*10\n",
    "        elif size == 'BB':\n",
    "            l = (5+15)/2; w = (5+15)/2; h = (1+5)/2*10        \n",
    "        elif size == 'SM':\n",
    "            l = (15+60)/2; w = (15+60)/2; h = (5+15)/2*10        \n",
    "        elif size == 'MED':\n",
    "            l = (60+120)/2; w = (60+120)/2; h = (15+45)/2*10               \n",
    "        elif size == 'LG':\n",
    "            l = (120)/2; w = (120)/2; h = (45+75)/2*10                \n",
    "        elif size == 'VLG':\n",
    "            # Sizes have no listed upper bound\n",
    "            l = (200+200/2)/2; w = (200+200/2)/2; h = (75+75/2)/2*10     \n",
    "        # This info for GEN is wrong!\n",
    "        elif size == 'GEN':\n",
    "            l = (120)/2; w = (120)/2; h = (45+75)/2*10            \n",
    "        else:\n",
    "            print('unknown size class')\n",
    "            l = None; w = None; h = None\n",
    "        return l, w, h"
   ]
  },
  {
   "cell_type": "code",
   "execution_count": 79,
   "metadata": {
    "collapsed": false
   },
   "outputs": [],
   "source": [
    "iip_berg = Iceberg(iip_berg_df['BERG_NUMBER'].loc[0],\n",
    "                   iip_berg_df['DATETIME'].loc[0:1].tolist(),\n",
    "                   iip_berg_df['LATITUDE'].loc[0:1].tolist(),\n",
    "                   iip_berg_df['LONGITUDE'].loc[0:1].tolist(),\n",
    "                   iip_berg_df['SIZE'].loc[0])"
   ]
  },
  {
   "cell_type": "code",
   "execution_count": 84,
   "metadata": {
    "collapsed": false
   },
   "outputs": [
    {
     "data": {
      "text/plain": [
       "47.59"
      ]
     },
     "execution_count": 84,
     "metadata": {},
     "output_type": "execute_result"
    }
   ],
   "source": [
    "min(iip_berg.lats)"
   ]
  },
  {
   "cell_type": "code",
   "execution_count": 105,
   "metadata": {
    "collapsed": false
   },
   "outputs": [],
   "source": [
    "class OceanModel(object):\n",
    "    def __init__(self, x_min, x_max, y_min, y_max, t_min, t_max):\n",
    "        self.x_min = x_min - abs(x_min-x_max) - self.xy_res\n",
    "        self.x_max = x_max + abs(x_min-x_max) + self.xy_res\n",
    "        self.y_min = y_min - abs(y_min-y_max) - self.xy_res\n",
    "        self.y_max = y_max + abs(y_min-y_max) + self.xy_res\n",
    "        if self.t_units == 'hours since 2000-01-01 00:00:00':\n",
    "            self.t_min = (t_min - pd.Timestamp('2000-01-01')).days*24 + \\\n",
    "                         (t_min - pd.Timestamp('2000-01-01')).seconds/3600 - self.t_res\n",
    "            self.t_max = (t_max - pd.Timestamp('2000-01-01')).days*24 + \\\n",
    "                         (t_max - pd.Timestamp('2000-01-01')).seconds/3600 + self.t_res               "
   ]
  },
  {
   "cell_type": "code",
   "execution_count": 106,
   "metadata": {
    "collapsed": false
   },
   "outputs": [],
   "source": [
    "class GLBv008(OceanModel):\n",
    "    url = 'http://tds.hycom.org/thredds/dodsC/GLBv0.08/expt_56.3'\n",
    "    xy_res = 0.08  # spatial resolution in degrees lat/lon\n",
    "    t_res = 3  # temporal resolution in hours\n",
    "    t_units = 'hours since 2000-01-01 00:00:00'\n",
    "    def __init__(self, x_min, x_max, y_min, y_max, t_min, t_max):\n",
    "        super().__init__(x_min, x_max, y_min, y_max, t_min, t_max)\n",
    "        self.ds = xr.open_dataset(self.url, decode_times=False).sel(depth=0.0, \n",
    "                  lat = slice(self.y_min, self.y_max), \n",
    "                  lon = slice(self.x_min, self.x_max), \n",
    "                  time = slice(self.t_min, self.t_max))"
   ]
  },
  {
   "cell_type": "code",
   "execution_count": 107,
   "metadata": {
    "collapsed": false
   },
   "outputs": [],
   "source": [
    "testobj = GLBv008(min(iip_berg.lons), max(iip_berg.lons),\n",
    "                  min(iip_berg.lats), max(iip_berg.lats),\n",
    "                  iip_berg.times[0], iip_berg.times[-1])"
   ]
  },
  {
   "cell_type": "code",
   "execution_count": 108,
   "metadata": {
    "collapsed": false
   },
   "outputs": [
    {
     "data": {
      "text/plain": [
       "<xarray.Dataset>\n",
       "Dimensions:            (lat: 10, lon: 3, time: 4)\n",
       "Coordinates:\n",
       "    depth              float64 0.0\n",
       "  * lat                (lat) float64 47.44 47.48 47.52 47.56 47.6 47.64 ...\n",
       "  * lon                (lon) float64 -48.88 -48.8 -48.72\n",
       "  * time               (time) float64 1.357e+05 1.357e+05 1.357e+05 1.357e+05\n",
       "Data variables:\n",
       "    tau                (time) float64 ...\n",
       "    water_u            (time, lat, lon) float64 ...\n",
       "    water_u_bottom     (time, lat, lon) float64 ...\n",
       "    water_v            (time, lat, lon) float64 ...\n",
       "    water_v_bottom     (time, lat, lon) float64 ...\n",
       "    water_temp         (time, lat, lon) float64 ...\n",
       "    water_temp_bottom  (time, lat, lon) float64 ...\n",
       "    salinity           (time, lat, lon) float64 ...\n",
       "    salinity_bottom    (time, lat, lon) float64 ...\n",
       "    surf_el            (time, lat, lon) float64 ...\n",
       "Attributes:\n",
       "    classification_level:      UNCLASSIFIED\n",
       "    distribution_statement:    Approved for public release. Distribution unli...\n",
       "    downgrade_date:            not applicable\n",
       "    classification_authority:  not applicable\n",
       "    institution:               Naval Oceanographic Office\n",
       "    source:                    HYCOM archive file\n",
       "    history:                   archv2ncdf3z\n",
       "    field_type:                instantaneous\n",
       "    Conventions:               CF-1.6 NAVO_netcdf_v1.1"
      ]
     },
     "execution_count": 108,
     "metadata": {},
     "output_type": "execute_result"
    }
   ],
   "source": [
    "testobj.ds"
   ]
  },
  {
   "cell_type": "code",
   "execution_count": null,
   "metadata": {
    "collapsed": true
   },
   "outputs": [],
   "source": []
  }
 ],
 "metadata": {
  "kernelspec": {
   "display_name": "Python 3",
   "language": "python",
   "name": "python3"
  },
  "language_info": {
   "codemirror_mode": {
    "name": "ipython",
    "version": 3
   },
   "file_extension": ".py",
   "mimetype": "text/x-python",
   "name": "python",
   "nbconvert_exporter": "python",
   "pygments_lexer": "ipython3",
   "version": "3.5.2"
  }
 },
 "nbformat": 4,
 "nbformat_minor": 0
}
