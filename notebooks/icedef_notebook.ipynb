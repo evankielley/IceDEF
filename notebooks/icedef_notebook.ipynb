{
 "cells": [
  {
   "cell_type": "code",
   "execution_count": 652,
   "metadata": {
    "collapsed": true
   },
   "outputs": [],
   "source": [
    "import numpy as np\n",
    "import pandas as pd\n",
    "import xarray as xr\n",
    "import urllib\n",
    "import netCDF4 as nc\n",
    "import datetime\n",
    "import scipy.interpolate as interp\n",
    "import cmath"
   ]
  },
  {
   "cell_type": "markdown",
   "metadata": {},
   "source": [
    "# IIP Iceberg Data"
   ]
  },
  {
   "cell_type": "code",
   "execution_count": 678,
   "metadata": {
    "collapsed": false
   },
   "outputs": [],
   "source": [
    "# Choose iceberg year (2002 - 2015 available)\n",
    "# Note: Iceberg Season starts in November so many datasets include dates from year-1\n",
    "season_year = 2015\n",
    "iip_url_base = 'ftp://sidads.colorado.edu/pub/DATASETS/NOAA/G00807/' \n",
    "iip_filename = 'IIP_{}IcebergSeason.csv'.format(season_year)\n",
    "iip_url = iip_url_base + iip_filename\n",
    "r = urllib.request.urlretrieve(iip_url)\n",
    "iip_df = pd.read_csv(r[0], converters={'TIME':str})\n",
    "iip_df['DATETIME'] = pd.to_datetime(iip_df['DATE'] + 'T' + iip_df['TIME'])\n",
    "iip_df['t2000'] = round((iip_df.DATETIME - pd.to_datetime('2000-01-01')).dt.days*24 + \\\n",
    "                  (iip_df.DATETIME - pd.to_datetime('2000-01-01')).dt.seconds/3600, 2)"
   ]
  },
  {
   "cell_type": "code",
   "execution_count": 654,
   "metadata": {
    "collapsed": false
   },
   "outputs": [
    {
     "data": {
      "text/html": [
       "<div>\n",
       "<table border=\"1\" class=\"dataframe\">\n",
       "  <thead>\n",
       "    <tr style=\"text-align: right;\">\n",
       "      <th></th>\n",
       "      <th>ICE-YEAR</th>\n",
       "      <th>BERG_NUMBER</th>\n",
       "      <th>DATE</th>\n",
       "      <th>TIME</th>\n",
       "      <th>LATITUDE</th>\n",
       "      <th>LONGITUDE</th>\n",
       "      <th>METHOD</th>\n",
       "      <th>SIZE</th>\n",
       "      <th>SHAPE</th>\n",
       "      <th>SOURCE</th>\n",
       "      <th>DATETIME</th>\n",
       "      <th>t2000</th>\n",
       "    </tr>\n",
       "  </thead>\n",
       "  <tbody>\n",
       "    <tr>\n",
       "      <th>0</th>\n",
       "      <td>2015</td>\n",
       "      <td>1</td>\n",
       "      <td>11/21/2014</td>\n",
       "      <td>1639</td>\n",
       "      <td>59.98</td>\n",
       "      <td>-63.44</td>\n",
       "      <td>VIS</td>\n",
       "      <td>GEN</td>\n",
       "      <td>GEN</td>\n",
       "      <td>GCFR</td>\n",
       "      <td>2014-11-21 16:39:00</td>\n",
       "      <td>130528.65</td>\n",
       "    </tr>\n",
       "    <tr>\n",
       "      <th>1</th>\n",
       "      <td>2015</td>\n",
       "      <td>1</td>\n",
       "      <td>12/13/2014</td>\n",
       "      <td>2138</td>\n",
       "      <td>58.32</td>\n",
       "      <td>-61.18</td>\n",
       "      <td>SAT-HIGH</td>\n",
       "      <td>RAD</td>\n",
       "      <td>RAD</td>\n",
       "      <td>RSA2</td>\n",
       "      <td>2014-12-13 21:38:00</td>\n",
       "      <td>131061.63</td>\n",
       "    </tr>\n",
       "    <tr>\n",
       "      <th>2</th>\n",
       "      <td>2015</td>\n",
       "      <td>2</td>\n",
       "      <td>11/29/2014</td>\n",
       "      <td>2147</td>\n",
       "      <td>58.57</td>\n",
       "      <td>-60.53</td>\n",
       "      <td>SAT-HIGH</td>\n",
       "      <td>RAD</td>\n",
       "      <td>RAD</td>\n",
       "      <td>RSA2</td>\n",
       "      <td>2014-11-29 21:47:00</td>\n",
       "      <td>130725.78</td>\n",
       "    </tr>\n",
       "    <tr>\n",
       "      <th>3</th>\n",
       "      <td>2015</td>\n",
       "      <td>2</td>\n",
       "      <td>12/6/2014</td>\n",
       "      <td>2142</td>\n",
       "      <td>58.21</td>\n",
       "      <td>-60.05</td>\n",
       "      <td>SAT-HIGH</td>\n",
       "      <td>RAD</td>\n",
       "      <td>RAD</td>\n",
       "      <td>RSA2</td>\n",
       "      <td>2014-12-06 21:42:00</td>\n",
       "      <td>130893.70</td>\n",
       "    </tr>\n",
       "    <tr>\n",
       "      <th>4</th>\n",
       "      <td>2015</td>\n",
       "      <td>2</td>\n",
       "      <td>12/16/2014</td>\n",
       "      <td>1553</td>\n",
       "      <td>57.69</td>\n",
       "      <td>-59.16</td>\n",
       "      <td>VIS</td>\n",
       "      <td>LG</td>\n",
       "      <td>GEN</td>\n",
       "      <td>GTJZ</td>\n",
       "      <td>2014-12-16 15:53:00</td>\n",
       "      <td>131127.88</td>\n",
       "    </tr>\n",
       "  </tbody>\n",
       "</table>\n",
       "</div>"
      ],
      "text/plain": [
       "   ICE-YEAR  BERG_NUMBER        DATE  TIME  LATITUDE  LONGITUDE    METHOD  \\\n",
       "0      2015            1  11/21/2014  1639     59.98     -63.44       VIS   \n",
       "1      2015            1  12/13/2014  2138     58.32     -61.18  SAT-HIGH   \n",
       "2      2015            2  11/29/2014  2147     58.57     -60.53  SAT-HIGH   \n",
       "3      2015            2   12/6/2014  2142     58.21     -60.05  SAT-HIGH   \n",
       "4      2015            2  12/16/2014  1553     57.69     -59.16       VIS   \n",
       "\n",
       "  SIZE SHAPE SOURCE            DATETIME      t2000  \n",
       "0  GEN   GEN   GCFR 2014-11-21 16:39:00  130528.65  \n",
       "1  RAD   RAD   RSA2 2014-12-13 21:38:00  131061.63  \n",
       "2  RAD   RAD   RSA2 2014-11-29 21:47:00  130725.78  \n",
       "3  RAD   RAD   RSA2 2014-12-06 21:42:00  130893.70  \n",
       "4   LG   GEN   GTJZ 2014-12-16 15:53:00  131127.88  "
      ]
     },
     "execution_count": 654,
     "metadata": {},
     "output_type": "execute_result"
    }
   ],
   "source": [
    "iip_df.head()"
   ]
  },
  {
   "cell_type": "code",
   "execution_count": 655,
   "metadata": {
    "collapsed": true
   },
   "outputs": [],
   "source": [
    "# Choose the min number of observations for an eligible iceberg\n",
    "min_num_obs = 10\n",
    "eligible_bergs = np.asarray(\n",
    "    iip_df['BERG_NUMBER'].value_counts()\\\n",
    "    .loc[iip_df['BERG_NUMBER'].value_counts() > min_num_obs].index)"
   ]
  },
  {
   "cell_type": "code",
   "execution_count": 656,
   "metadata": {
    "collapsed": false
   },
   "outputs": [],
   "source": [
    "chosen_inds_arr = []\n",
    "\n",
    "for i in range(eligible_bergs.size):\n",
    "\n",
    "    iip_berg_id = eligible_bergs[i]\n",
    "    iip_berg_df = iip_df.loc[iip_df['BERG_NUMBER'] == iip_berg_id]\n",
    "    \n",
    "    ind0 = iip_berg_df.index.tolist()[0]\n",
    "    indf = iip_berg_df.index.tolist()[-1]\n",
    "    \n",
    "    max_time_dif = np.timedelta64(24*60, 'm')\n",
    "    \n",
    "    chosen_inds = []\n",
    "\n",
    "    for j in range(len(iip_berg_df)-1):\n",
    "\n",
    "        time_dif = (iip_berg_df.DATETIME.values[j+1] - \\\n",
    "                    iip_berg_df.DATETIME.values[j]).astype('timedelta64[m]')\n",
    "        \n",
    "        if time_dif < max_time_dif:\n",
    "            chosen_inds.append(j+ind0)\n",
    "\n",
    "        elif len(chosen_inds) > 1:\n",
    "            chosen_inds_arr.append(chosen_inds)\n",
    "            chosen_inds = []\n",
    "        else:\n",
    "            chosen_inds = []\n",
    "\n",
    "    if len(chosen_inds) > 1:\n",
    "        chosen_inds_arr.append(chosen_inds)"
   ]
  },
  {
   "cell_type": "code",
   "execution_count": 657,
   "metadata": {
    "collapsed": true
   },
   "outputs": [],
   "source": [
    "# Choose which iceberg track to look at (index)\n",
    "chosen_track_ind = 7\n",
    "\n",
    "iip_berg_df = df.loc[chosen_inds_arr[chosen_track_ind]].reset_index()\n",
    "iip_berg_df['t2000'] = round((iip_berg_df.DATETIME - pd.to_datetime('2000-01-01')).dt.days*24 + \\\n",
    "                  (iip_berg_df.DATETIME - pd.to_datetime('2000-01-01')).dt.seconds/3600, 2)"
   ]
  },
  {
   "cell_type": "code",
   "execution_count": 658,
   "metadata": {
    "collapsed": false
   },
   "outputs": [
    {
     "data": {
      "text/html": [
       "<div>\n",
       "<table border=\"1\" class=\"dataframe\">\n",
       "  <thead>\n",
       "    <tr style=\"text-align: right;\">\n",
       "      <th></th>\n",
       "      <th>index</th>\n",
       "      <th>ICE-YEAR</th>\n",
       "      <th>BERG_NUMBER</th>\n",
       "      <th>DATE</th>\n",
       "      <th>TIME</th>\n",
       "      <th>LATITUDE</th>\n",
       "      <th>LONGITUDE</th>\n",
       "      <th>METHOD</th>\n",
       "      <th>SIZE</th>\n",
       "      <th>SHAPE</th>\n",
       "      <th>SOURCE</th>\n",
       "      <th>DATETIME</th>\n",
       "      <th>t2000</th>\n",
       "    </tr>\n",
       "  </thead>\n",
       "  <tbody>\n",
       "    <tr>\n",
       "      <th>0</th>\n",
       "      <td>3296</td>\n",
       "      <td>2015</td>\n",
       "      <td>20668</td>\n",
       "      <td>6/29/2015</td>\n",
       "      <td>1354</td>\n",
       "      <td>47.31</td>\n",
       "      <td>-49.56</td>\n",
       "      <td>R/V</td>\n",
       "      <td>LG</td>\n",
       "      <td>GEN</td>\n",
       "      <td>GPGR</td>\n",
       "      <td>2015-06-29 13:54:00</td>\n",
       "      <td>135805.90</td>\n",
       "    </tr>\n",
       "    <tr>\n",
       "      <th>1</th>\n",
       "      <td>3297</td>\n",
       "      <td>2015</td>\n",
       "      <td>20668</td>\n",
       "      <td>6/30/2015</td>\n",
       "      <td>1101</td>\n",
       "      <td>47.22</td>\n",
       "      <td>-49.40</td>\n",
       "      <td>R/V</td>\n",
       "      <td>LG</td>\n",
       "      <td>TAB</td>\n",
       "      <td>GMRS</td>\n",
       "      <td>2015-06-30 11:01:00</td>\n",
       "      <td>135827.02</td>\n",
       "    </tr>\n",
       "  </tbody>\n",
       "</table>\n",
       "</div>"
      ],
      "text/plain": [
       "   index  ICE-YEAR  BERG_NUMBER       DATE  TIME  LATITUDE  LONGITUDE METHOD  \\\n",
       "0   3296      2015        20668  6/29/2015  1354     47.31     -49.56    R/V   \n",
       "1   3297      2015        20668  6/30/2015  1101     47.22     -49.40    R/V   \n",
       "\n",
       "  SIZE SHAPE SOURCE            DATETIME      t2000  \n",
       "0   LG   GEN   GPGR 2015-06-29 13:54:00  135805.90  \n",
       "1   LG   TAB   GMRS 2015-06-30 11:01:00  135827.02  "
      ]
     },
     "execution_count": 658,
     "metadata": {},
     "output_type": "execute_result"
    }
   ],
   "source": [
    "iip_berg_df"
   ]
  },
  {
   "cell_type": "code",
   "execution_count": 659,
   "metadata": {
    "collapsed": true
   },
   "outputs": [],
   "source": [
    "class Iceberg:\n",
    "    \n",
    "    def __init__(self, id_num, times, t2000, lats, lons, size):\n",
    "        self.id_num = id_num\n",
    "        self.times = times\n",
    "        self.t2000 = t2000\n",
    "        self.times_ref0 = self.get_times_ref0(self.times)\n",
    "        self.lats = lats\n",
    "        self.lons = lons\n",
    "        \n",
    "        if type(size) == str:\n",
    "            self.length, self.width, self.height = self.get_berg_dims(size)\n",
    "        elif type(size) == list and len(size) == 3:\n",
    "            self.length, self.width, self.height = size[0], size[1], size[2]\n",
    "        else:\n",
    "            print('Invalid size argument')\n",
    "            \n",
    "    def get_times_ref0(self, times):\n",
    "        times_ref0 = []\n",
    "        t_offset = times[0].hour + times[0].minute/60  # from start of day\n",
    "        for i in range(len(times)):\n",
    "            times_ref0.append(round((times[i] - times[0]).days*24 + \\\n",
    "                                    (times[i] - times[0]).seconds/3600 + t_offset, 1))\n",
    "        return times_ref0\n",
    "    \n",
    "    def set_times_ref0(self, times):\n",
    "        self.times_ref0 = self.get_times_ref0(times)\n",
    "            \n",
    "    def get_berg_dims(self, size):\n",
    "        # Size must be GR, BB, SM, MED, LG, VLG\n",
    "        # See https://nsidc.org/data/g00807 for more info\n",
    "        if size == 'GR':\n",
    "            l = (0+5)/2; w = (0+5)/2; h = (0+1)/2*10\n",
    "        elif size == 'BB':\n",
    "            l = (5+15)/2; w = (5+15)/2; h = (1+5)/2*10        \n",
    "        elif size == 'SM':\n",
    "            l = (15+60)/2; w = (15+60)/2; h = (5+15)/2*10        \n",
    "        elif size == 'MED':\n",
    "            l = (60+120)/2; w = (60+120)/2; h = (15+45)/2*10               \n",
    "        elif size == 'LG':\n",
    "            l = (120)/2; w = (120)/2; h = (45+75)/2*10                \n",
    "        elif size == 'VLG':\n",
    "            # Sizes have no listed upper bound\n",
    "            l = (200+200/2)/2; w = (200+200/2)/2; h = (75+75/2)/2*10     \n",
    "        # This info for GEN is wrong!\n",
    "        elif size == 'GEN':\n",
    "            l = (120)/2; w = (120)/2; h = (45+75)/2*10            \n",
    "        else:\n",
    "            print('unknown size class')\n",
    "            l = None; w = None; h = None\n",
    "        return l, w, h"
   ]
  },
  {
   "cell_type": "code",
   "execution_count": 660,
   "metadata": {
    "collapsed": false
   },
   "outputs": [],
   "source": [
    "iip_berg = Iceberg(iip_berg_df['BERG_NUMBER'].loc[0],\n",
    "                   iip_berg_df['DATETIME'].loc[:].tolist(),\n",
    "                   iip_berg_df['t2000'].loc[:].tolist(),\n",
    "                   iip_berg_df['LATITUDE'].loc[:].tolist(),\n",
    "                   iip_berg_df['LONGITUDE'].loc[:].tolist(),\n",
    "                   iip_berg_df['SIZE'].loc[0])"
   ]
  },
  {
   "cell_type": "code",
   "execution_count": 661,
   "metadata": {
    "collapsed": false
   },
   "outputs": [
    {
     "data": {
      "text/plain": [
       "[135805.9, 135827.02]"
      ]
     },
     "execution_count": 661,
     "metadata": {},
     "output_type": "execute_result"
    }
   ],
   "source": [
    "iip_berg.t2000"
   ]
  },
  {
   "cell_type": "markdown",
   "metadata": {},
   "source": [
    "# Metocean Inputs"
   ]
  },
  {
   "cell_type": "code",
   "execution_count": 662,
   "metadata": {
    "collapsed": false
   },
   "outputs": [],
   "source": [
    "class MetoceanModel(object):\n",
    "    def __init__(self, x_min, x_max, y_min, y_max, t_min, t_max):\n",
    "        self.x_min = x_min - abs(x_min-x_max) - self.xy_res\n",
    "        self.x_max = x_max + abs(x_min-x_max) + self.xy_res\n",
    "        self.y_min = y_min - abs(y_min-y_max) - self.xy_res\n",
    "        self.y_max = y_max + abs(y_min-y_max) + self.xy_res\n",
    "        \n",
    "        if self.t_units == 'hours since 2000-01-01 00:00:00':\n",
    "            self.t_min = (t_min - pd.Timestamp('2000-01-01')).days*24 + \\\n",
    "                         (t_min - pd.Timestamp('2000-01-01')).seconds/3600 - self.t_res\n",
    "            self.t_max = (t_max - pd.Timestamp('2000-01-01')).days*24 + \\\n",
    "                         (t_max - pd.Timestamp('2000-01-01')).seconds/3600 + self.t_res\n",
    "                \n",
    "        elif self.t_units == 'numpy.datetime64':\n",
    "            self.t_min = np.datetime64((t_min - pd.Timedelta('{}h'.format(self.t_res))))\n",
    "            self.t_max = np.datetime64((t_max + pd.Timedelta('{}h'.format(self.t_res)))) \n",
    "            \n",
    "        elif self.t_units == 'hours since 1950-01-01 00:00:00':\n",
    "            self.t_min = (t_min - pd.Timestamp('1950-01-01')).days*24 + \\\n",
    "                         (t_min - pd.Timestamp('1950-01-01')).seconds/3600 - self.t_res\n",
    "            self.t_max = (t_max - pd.Timestamp('1950-01-01')).days*24 + \\\n",
    "                         (t_max - pd.Timestamp('1950-01-01')).seconds/3600 + self.t_res\n",
    "            self.t_min = nc.num2date(self.t_min, self.t_units, self.t_calendar)\n",
    "            self.t_max = nc.num2date(self.t_max, self.t_units, self.t_calendar)\n",
    "            self.year_min = str(self.t_min.year)\n",
    "            self.year_max = str(self.t_max.year)\n",
    "            self.month_min = str(self.t_min.month)\n",
    "            self.month_max = str(self.t_max.month)\n",
    "            self.day_min = str(self.t_min.day)\n",
    "            self.day_max = str(self.t_max.day)\n",
    "\n",
    "            if len(self.month_min) == 1:\n",
    "                self.month_min = '0' + self.month_min\n",
    "            if len(self.day_min) == 1:\n",
    "                self.day_min = '0' + self.day_min\n",
    "            if len(self.month_max) == 1:\n",
    "                self.month_max = '0' + self.month_max\n",
    "            if len(self.day_max) == 1:\n",
    "                self.day_max = '0' + self.day_max\n",
    "                \n",
    "        elif self.t_units == 'hours since 1900-01-01 00:00:00.0 00:00':\n",
    "            self.t_min = (t_min - pd.Timestamp('1900-01-01')).days*24 + \\\n",
    "                         (t_min - pd.Timestamp('1900-01-01')).seconds/3600 - self.t_res\n",
    "            self.t_max = (t_max - pd.Timestamp('1900-01-01')).days*24 + \\\n",
    "                         (t_max - pd.Timestamp('1900-01-01')).seconds/3600 + self.t_res\n",
    "            self.t_min = nc.num2date(self.t_min, self.t_units, self.t_calendar)\n",
    "            self.t_max = nc.num2date(self.t_max, self.t_units, self.t_calendar)\n",
    "            self.year_min = str(self.t_min.year)\n",
    "            self.year_max = str(self.t_max.year)\n",
    "            self.month_min = str(self.t_min.month)\n",
    "            self.month_max = str(self.t_max.month)\n",
    "            self.day_min = str(self.t_min.day)\n",
    "            self.day_max = str(self.t_max.day)\n",
    "\n",
    "            if len(self.month_min) == 1:\n",
    "                self.month_min = '0' + self.month_min\n",
    "            if len(self.day_min) == 1:\n",
    "                self.day_min = '0' + self.day_min\n",
    "            if len(self.month_max) == 1:\n",
    "                self.month_max = '0' + self.month_max\n",
    "            if len(self.day_max) == 1:\n",
    "                self.day_max = '0' + self.day_max"
   ]
  },
  {
   "cell_type": "code",
   "execution_count": 663,
   "metadata": {
    "collapsed": false
   },
   "outputs": [],
   "source": [
    "class GLBv008(MetoceanModel):\n",
    "    url = 'http://tds.hycom.org/thredds/dodsC/GLBv0.08/expt_56.3'\n",
    "    xy_res = 0.08  # spatial resolution in degrees lat/lon\n",
    "    t_res = 3  # temporal resolution in hours\n",
    "    t_units = 'hours since 2000-01-01 00:00:00'\n",
    "    def __init__(self, x_min, x_max, y_min, y_max, t_min, t_max):\n",
    "        super().__init__(x_min, x_max, y_min, y_max, t_min, t_max)\n",
    "        self.ds = xr.open_dataset(self.url, decode_times=False).sel(depth=0.0, \n",
    "                  lat = slice(self.y_min, self.y_max), \n",
    "                  lon = slice(self.x_min, self.x_max), \n",
    "                  time = slice(self.t_min, self.t_max))\n",
    "        self.times = self.ds.variables['time'].values[:]\n",
    "        self.datetimes = nc.num2date(testobj.ds.variables['time'].values[:],\n",
    "                                     testobj.ds.time.units,\n",
    "                                     testobj.ds.time.calendar)\n",
    "        self.t2000 = self.times\n",
    "        self.lats = np.asarray(self.ds.lat)\n",
    "        self.lons = np.asarray(self.ds.lon)\n",
    "        self.water_u = np.asarray(self.ds.water_u)\n",
    "        self.water_v = np.asarray(self.ds.water_v)\n",
    "        self.water_temp = np.asarray(self.ds.water_temp)"
   ]
  },
  {
   "cell_type": "code",
   "execution_count": 664,
   "metadata": {
    "collapsed": true
   },
   "outputs": [],
   "source": [
    "class Navgem(MetoceanModel):\n",
    "    url = 'http://coastwatch.pfeg.noaa.gov/erddap/griddap/erdNavgem05D10mWind_LonPM180'\n",
    "    xy_res = 0.5  # spatial resolution in degrees lat/lon\n",
    "    t_res = 6  # temporal resolution in hours\n",
    "    t_units = 'numpy.datetime64'\n",
    "    def __init__(self, x_min, x_max, y_min, y_max, t_min, t_max):\n",
    "        super().__init__(x_min, x_max, y_min, y_max, t_min, t_max)\n",
    "        self.ds = xr.open_dataset(self.url)\n",
    "        self.ds = self.ds.sel(time = slice(self.t_min, self.t_max),\n",
    "                  latitude = slice(self.y_min, self.y_max), \n",
    "                  longitude = slice(self.x_min, self.x_max))\n",
    "        self.times = self.ds.variables['time']\n",
    "        self.datetimes = []\n",
    "        for i in (self.times - np.datetime64(0, 's'))/ np.timedelta64(1, 's'):\n",
    "            self.datetimes.append(datetime.datetime.utcfromtimestamp(i))\n",
    "        self.lats = np.asarray(self.ds.latitude)\n",
    "        self.lons = np.asarray(self.ds.longitude)\n",
    "        self.wind_u = np.asarray(self.ds.wnd_ucmp_height_above_ground)\n",
    "        self.wind_v = np.asarray(self.ds.wnd_vcmp_height_above_ground)"
   ]
  },
  {
   "cell_type": "code",
   "execution_count": 665,
   "metadata": {
    "collapsed": true
   },
   "outputs": [],
   "source": [
    "class ECMWF_Ocean(MetoceanModel):\n",
    "    # product identifier: GLOBAL_ANALYSIS_FORECAST_PHY_001_024\n",
    "    path = '/media/evankielley/hd2/ECMWF/ocean/'\n",
    "    fname = '{}{}{}.nc' #.format(year, month, day)\n",
    "    xy_res = 1/12  # spatial resolution in degrees lat/lon\n",
    "    t_res = 1  # temporal resolution in hours\n",
    "    t_units = 'hours since 1950-01-01 00:00:00'\n",
    "    t_calendar = 'standard'\n",
    "    def __init__(self, x_min, x_max, y_min, y_max, t_min, t_max):\n",
    "        super().__init__(x_min, x_max, y_min, y_max, t_min, t_max)\n",
    "        if self.t_min.year == self.t_max.year and self.t_min.month == self.t_max.month and self.t_min.day == self.t_max.day:\n",
    "            self.ds = nc.Dataset(self.path + self.fname.format(self.year_min, self.month_min, self.day_min))\n",
    "        else:\n",
    "            self.ds = nc.MFDataset([self.path + self.fname.format(self.year_min, self.month_min, self.day_min),\n",
    "                                    self.path + self.fname.format(self.year_max, self.month_max, self.day_max)])\n",
    "        self.times = nc.num2date(self.ds.variables['time'][:], self.t_units, self.t_calendar)\n",
    "        self.datetimes = self.times\n",
    "        self.t2000 = []\n",
    "        for i in (self.datetimes - datetime.datetime(2000,1,1)):\n",
    "            self.t2000.append(i.days*24 + i.seconds/3600)\n",
    "        self.lats = self.ds.variables['latitude'][:]\n",
    "        self.lons = self.ds.variables['longitude'][:]\n",
    "        self.water_u = np.asarray(self.ds.variables['uo'][:,0,:,:])\n",
    "        self.water_v = np.asarray(self.ds.variables['vo'][:,0,:,:])\n",
    "        self.water_temp = np.asarray(self.ds.variables['thetao'][:,0,:,:])\n",
    "        self.water_u_interp = interp.RegularGridInterpolator((self.t2000, self.lats, self.lons), self.water_u)\n",
    "        self.water_v_interp = interp.RegularGridInterpolator((self.t2000, self.lats, self.lons), self.water_v)\n",
    "        self.water_temp_interp = interp.RegularGridInterpolator((self.t2000, self.lats, self.lons), self.water_temp)"
   ]
  },
  {
   "cell_type": "code",
   "execution_count": 666,
   "metadata": {
    "collapsed": false
   },
   "outputs": [],
   "source": [
    "class ECMWF_Atm(MetoceanModel):\n",
    "    # product identifier: WIND_GLO_WIND_L4_NRT_OBSERVATIONS_012_004\n",
    "    path = '/media/evankielley/hd2/ECMWF/atm/'\n",
    "    fname = 'sub{}{}{}.nc' #.format(year, month, day)\n",
    "    xy_res = 1/4  # spatial resolution in degrees lat/lon\n",
    "    t_res = 6  # temporal resolution in hours\n",
    "    t_units = 'hours since 1900-01-01 00:00:00.0 00:00'\n",
    "    t_calendar = 'standard'\n",
    "    def __init__(self, x_min, x_max, y_min, y_max, t_min, t_max):\n",
    "        super().__init__(x_min, x_max, y_min, y_max, t_min, t_max)\n",
    "        if self.t_min.year == self.t_max.year and self.t_min.month == self.t_max.month and self.t_min.day == self.t_max.day:\n",
    "            self.ds = nc.Dataset(self.path + self.fname.format(self.year_min, self.month_min, self.day_min))\n",
    "        else:\n",
    "            self.ds = nc.MFDataset([self.path + self.fname.format(self.year_min, self.month_min, self.day_min),\n",
    "                                    self.path + self.fname.format(self.year_max, self.month_max, self.day_max)])\n",
    "        self.times = nc.num2date(self.ds.variables['time'][:], self.t_units, self.t_calendar)\n",
    "        self.datetimes = self.times\n",
    "        self.t2000 = []\n",
    "        for i in (self.datetimes - datetime.datetime(2000,1,1)):\n",
    "            self.t2000.append(i.days*24 + i.seconds/3600)\n",
    "        self.lats = self.ds.variables['latitude'][:]\n",
    "        self.lons = self.ds.variables['longitude'][:]\n",
    "        self.wind_u = np.asarray(self.ds.variables['eastward_wind'][:,0,:,:])\n",
    "        self.wind_v = np.asarray(self.ds.variables['northward_wind'][:,0,:,:])\n",
    "        self.wind_u_interp = interp.RegularGridInterpolator((self.t2000, self.lats, self.lons), self.wind_u)\n",
    "        self.wind_v_interp = interp.RegularGridInterpolator((self.t2000, self.lats, self.lons), self.wind_v)"
   ]
  },
  {
   "cell_type": "code",
   "execution_count": 667,
   "metadata": {
    "collapsed": false
   },
   "outputs": [],
   "source": [
    "atm_data = ECMWF_Atm(min(iip_berg.lons), max(iip_berg.lons),\n",
    "                  min(iip_berg.lats), max(iip_berg.lats),\n",
    "                  iip_berg.times[0], iip_berg.times[-1])"
   ]
  },
  {
   "cell_type": "code",
   "execution_count": 668,
   "metadata": {
    "collapsed": false
   },
   "outputs": [],
   "source": [
    "ocean_data = ECMWF_Ocean(min(iip_berg.lons), max(iip_berg.lons),\n",
    "                  min(iip_berg.lats), max(iip_berg.lats),\n",
    "                  iip_berg.times[0], iip_berg.times[-1])"
   ]
  },
  {
   "cell_type": "code",
   "execution_count": 669,
   "metadata": {
    "collapsed": false
   },
   "outputs": [],
   "source": [
    "wind_u_interp = atm_data.wind_u_interp\n",
    "wind_v_interp = atm_data.wind_v_interp  \n",
    "water_u_interp = ocean_data.water_u_interp \n",
    "water_v_interp = ocean_data.water_v_interp\n",
    "water_temp_interp = ocean_data.water_temp_interp"
   ]
  },
  {
   "cell_type": "markdown",
   "metadata": {},
   "source": [
    "# Iceberg Model"
   ]
  },
  {
   "cell_type": "code",
   "execution_count": 670,
   "metadata": {
    "collapsed": true
   },
   "outputs": [],
   "source": [
    "# Constants\n",
    "R = 6378*1e3\n",
    "om = 7.2921e-5\n",
    "rhow = 1027\n",
    "rhoa = 1.2\n",
    "rhoi = 850\n",
    "drho = rhow - rhoi\n",
    "Cw = 0.9\n",
    "Ca = 1.3\n",
    "gam = np.sqrt(rhoa*drho/rhow/rhoi*(Ca/Cw))\n",
    "sst0 = -4\n",
    "Cs1 = 1.5; Cs2 = 0.5; Cs3 = 0.1\n",
    "CMv1 = 7.62e-3; CMv2 = 1.29e-3; CMe1 = 0.5\n",
    "CMb1 = 0.58; CMb2 = 0.8; CMb3 = 0.2"
   ]
  },
  {
   "cell_type": "code",
   "execution_count": 671,
   "metadata": {
    "collapsed": true
   },
   "outputs": [],
   "source": [
    "def iceDEF(t,x,y,l,w,h):\n",
    "\n",
    "\n",
    "    # Extract values from input fields\n",
    "    \n",
    "    vau = wind_u_interp([t, y, x])[0]\n",
    "    vav = wind_v_interp([t, y, x])[0]  \n",
    "    vwu = water_u_interp([t, y, x])[0] \n",
    "    vwv = water_v_interp([t, y, x])[0]\n",
    "    sst = water_temp_interp([t, y, x])[0]\n",
    "    \n",
    "    \n",
    "    # Drifting\n",
    "\n",
    "    S = np.pi*((l*w)/(l+w))\n",
    "    ff = 2*om*np.sin((np.abs(y)*np.pi)/180)\n",
    "    lam = np.sqrt(2)*Cw*(gam*np.sqrt(vau**2 + vav**2))/(ff*S)\n",
    "\n",
    "    \n",
    "    if lam < 0.1:\n",
    "        alpha = lam*(lam**4*(lam**4*(lam**4*(-0.0386699020961393*lam**4 + \\\n",
    "            0.055242717280199) - 0.0883883476483184) + \\\n",
    "            0.176776695296637) - 0.707106781186548)\n",
    "    else:\n",
    "        alpha = np.multiply(np.divide(np.sqrt(2),np.power(lam, 3)),(1-np.sqrt(1+np.power(lam,4))))\n",
    "        \n",
    "    if lam < 0.6:\n",
    "        beta = lam**3*(lam**4*(lam**4*(lam**4*(lam**4*(lam**4*(lam**4*(lam**4*(lam**4*\\\n",
    "            (0.0153268598203613*lam**4 - 0.0151656272365985) + \\\n",
    "            0.0180267866272764) + 0.0219176256311202) - \\\n",
    "            0.0274446790511418) + 0.0357675015202851) - \\\n",
    "            0.0493731785691779) + 0.0745776683282687) - \\\n",
    "            0.132582521472478) + 0.353553390593274)\n",
    "    else:\n",
    "        beta = np.real(np.multiply(np.divide(1.,np.power(lam,3.)),cmath.sqrt(np.multiply((4.+np.power(lam,4.)), \\\n",
    "            cmath.sqrt(1.+np.power(lam,4.)))-3.*np.power(lam,4.)-4.)))\n",
    "\n",
    "        \n",
    "    viu = vwu + gam*(-alpha*vav + beta*vau)\n",
    "    viv = vwv + gam*(alpha*vau + beta*vav)\n",
    "\n",
    "    y_new = y + (viv*dt)*(180/(np.pi*R))\n",
    "    x_new = x + (viu*dt)/(np.cos((((y + y_new)/2)*np.pi)/180))*(180/(np.pi*R))\n",
    "    \n",
    "    \n",
    "    # Melting\n",
    "\n",
    "    Me = CMe1*(Cs1*np.sqrt(vau**2 + vav**2)**Cs2 + Cs3*np.sqrt(vau**2 + vav**2))\n",
    "    Mv = CMv1*sst + CMv2*sst**2\n",
    "    Mb = CMb1*np.power(np.sqrt(np.square(viu-vwu)+np.square(viv-vwv)),CMb2)*(sst - sst0)/l**CMb3\n",
    "\n",
    "    l_new = l - (Mv + Me)*(dt/(24*3600))  # convert dt from secs to days\n",
    "    w_new = w - (Mv + Me)*(dt/(24*3600))\n",
    "    h_new = h - Mb*(dt/(24*3600))\n",
    "\n",
    "    if w_new < 0.85*h_new:\n",
    "        # Rollover\n",
    "        print('rollover')\n",
    "        w_new, h_new = h_new, w_new\n",
    "\n",
    "    if w_new > l_new:\n",
    "        # Ensure l is greater than w\n",
    "        print('swap l and w')\n",
    "        w_new, l_new = l_new, w_new\n",
    "\n",
    "    return x_new, y_new, l_new, w_new, h_new"
   ]
  },
  {
   "cell_type": "code",
   "execution_count": 672,
   "metadata": {
    "collapsed": false
   },
   "outputs": [],
   "source": [
    "# Model Timesteps\n",
    "# Ref time is 2000-01-01\n",
    "t0 = iip_berg.t2000[0]\n",
    "tf = iip_berg.t2000[-1]\n",
    "tstep = 0.1\n",
    "t_all = np.arange(t0, tf + tstep, tstep)\n",
    "dt = tstep*3600  # timestep in seconds"
   ]
  },
  {
   "cell_type": "code",
   "execution_count": 673,
   "metadata": {
    "collapsed": false
   },
   "outputs": [],
   "source": [
    "mod_berg = Iceberg(iip_berg_df['BERG_NUMBER'].loc[0],\n",
    "                   [iip_berg_df['DATETIME'].loc[0]],\n",
    "                   [iip_berg_df['t2000'].loc[0]],\n",
    "                   [iip_berg_df['LATITUDE'].loc[0]],\n",
    "                   [iip_berg_df['LONGITUDE'].loc[0]],\n",
    "                   iip_berg_df['SIZE'].loc[0])\n",
    "mod_berg.length = [mod_berg.length]\n",
    "mod_berg.width = [mod_berg.width]\n",
    "mod_berg.height = [mod_berg.height]"
   ]
  },
  {
   "cell_type": "code",
   "execution_count": 674,
   "metadata": {
    "collapsed": false
   },
   "outputs": [
    {
     "name": "stdout",
     "output_type": "stream",
     "text": [
      "Run number: 0, h = 600.0, l = 60.0, w = 60.0\n",
      "rollover\n",
      "swap l and w\n",
      "Final time: 135827.1\n"
     ]
    }
   ],
   "source": [
    "# Iceberg Initial Location\n",
    "x0, y0 = mod_berg.lons[0], mod_berg.lats[0]\n",
    "\n",
    "# Run number\n",
    "run_num = 0\n",
    "num_runs = 1\n",
    "\n",
    "# Buffer number for bounding spatial box\n",
    "buf = 0.5\n",
    "\n",
    "# Manual stop time\n",
    "#stop_time = 36\n",
    "stop_time = tf\n",
    "\n",
    "# Initialize output dict\n",
    "output_dict = {}\n",
    "\n",
    "for run_num in range(num_runs):\n",
    "    \n",
    "    # Iceberg Initials\n",
    "    l0, w0, h0 = mod_berg.length[0], mod_berg.width[0], mod_berg.height[0]\n",
    "    l0 = l0 + l0*0.1*run_num\n",
    "    w0 = w0 + w0*0.1*run_num\n",
    "    h0 = h0 + h0*0.1*run_num\n",
    "    l, w, h = l0, w0, h0\n",
    "    x, y = x0, y0\n",
    "    t = t0\n",
    "    #iceberg = np.array([[t0],[x0],[y0],[l0],[w0],[h0]])\n",
    "\n",
    "    print('Run number: {}, h = {}, l = {}, w = {}'.format(run_num, h0, l0, w0))\n",
    "    \n",
    "    while t < stop_time:\n",
    "        \n",
    "        #print('Timestep: {}'.format(t))\n",
    "\n",
    "        x_new, y_new, l_new, w_new, h_new = iceDEF(t, x, y, l, w, h)\n",
    "\n",
    "        if x_new > max(iip_berg.lons)+buf or x_new < min(iip_berg.lons)-buf or y_new > max(iip_berg.lats)+buf or y_new <= min(iip_berg.lats)-buf:\n",
    "            # Iceberg out-of-bounds\n",
    "            print('out-of-bounds')\n",
    "            break\n",
    "\n",
    "\n",
    "        if l_new <= 0 or w_new <= 0 or h_new <= 0:\n",
    "            # Iceberg melted\n",
    "            print('melted')\n",
    "            break\n",
    "\n",
    "        else:\n",
    "            x, y, l, w, h = x_new, y_new, l_new, w_new, h_new\n",
    "            t += tstep\n",
    "            t = round(t, 1)\n",
    "            #iceberg_new = np.array([[t],[x],[y],[l],[w],[h]])\n",
    "            mod_berg.times_ref0.append(t)\n",
    "            mod_berg.t2000.append(t)\n",
    "            mod_berg.lons.append(x)\n",
    "            mod_berg.lats.append(y)\n",
    "            mod_berg.length.append(l)\n",
    "            mod_berg.width.append(h)\n",
    "            #iceberg = np.column_stack((iceberg, iceberg_new))\n",
    "\n",
    "    print(\"Final time: {}\".format(t))"
   ]
  },
  {
   "cell_type": "markdown",
   "metadata": {},
   "source": [
    "# Plotting"
   ]
  },
  {
   "cell_type": "code",
   "execution_count": 675,
   "metadata": {
    "collapsed": true
   },
   "outputs": [],
   "source": [
    "%matplotlib inline\n",
    "import matplotlib.pyplot as plt\n",
    "plt.style.use('default')\n",
    "import cartopy.crs as ccrs\n",
    "from cartopy.mpl.gridliner import LONGITUDE_FORMATTER, LATITUDE_FORMATTER\n",
    "from mpl_toolkits.basemap import Basemap\n",
    "import bisect\n",
    "import os"
   ]
  },
  {
   "cell_type": "code",
   "execution_count": 676,
   "metadata": {
    "collapsed": false
   },
   "outputs": [],
   "source": [
    "def plot1(iip_berg, mod_berg):\n",
    "    tol = 0.1  # tstep\n",
    "    for i,t in enumerate(iip_berg.t2000):\n",
    "        diff = abs(np.asarray(mod_berg.t2000) - t)\n",
    "        for j,diff_t in enumerate(diff):\n",
    "            if diff_t < tol:\n",
    "                break\n",
    "        plt.plot(iip_berg.lats[i], iip_berg.lons[i], marker='o', color='red')\n",
    "        plt.text(iip_berg.lats[i], iip_berg.lons[i], '{0:.1f}'.format(t-iip_berg.t2000[0]))\n",
    "        plt.plot(mod_berg.lats[j], mod_berg.lons[j], marker='o', color='yellow')\n",
    "        plt.text(mod_berg.lats[j], mod_berg.lons[j], '{0:.1f}'.format(t-iip_berg.t2000[0]))\n",
    "    plt.plot(iip_berg.lats, iip_berg.lons, label='observed', color='red')\n",
    "    #plt.plot(iip_berg.lats[-1], iip_berg.lons[-1], marker='o', color='red')\n",
    "    #plt.text(iip_berg.lats[-1], iip_berg.lons[-1], '{0:.1f}'.format(iip_berg.t2000[-1]-iip_berg.t2000[0]))\n",
    "    plt.plot(mod_berg.lats, mod_berg.lons, label='computed', color='orange')\n",
    "    #plt.plot(mod_berg.lats[-1], mod_berg.lons[-1], marker='o', color='orange')\n",
    "    #plt.text(mod_berg.lats[-1], mod_berg.lons[-1], '{0:.1f}'.format(mod_berg.t2000[-1]-mod_berg.t2000[0]))\n",
    "    plt.legend()\n",
    "    plt.xlabel('Latitude'); plt.ylabel('Longitude')\n",
    "    plt.title('Iceberg: {}\\nStart time: {}'.format(iip_berg.id_num, iip_berg.times[0]))\n",
    "    i = 0\n",
    "    filename = './drift_track_{}'.format(iip_berg.id_num)\n",
    "    i = 0\n",
    "    while True:\n",
    "        i += 1\n",
    "        newname = '{}_{:d}.png'.format(filename, i)\n",
    "        if os.path.exists(newname):\n",
    "            continue\n",
    "        plt.savefig(newname)\n",
    "        break\n",
    "    plt.show()"
   ]
  },
  {
   "cell_type": "code",
   "execution_count": 677,
   "metadata": {
    "collapsed": false,
    "scrolled": true
   },
   "outputs": [
    {
     "data": {
      "image/png": "[encoded data removed]",
      "text/plain": [
       "<matplotlib.figure.Figure at 0x7f205dc31d68>"
      ]
     },
     "metadata": {},
     "output_type": "display_data"
    }
   ],
   "source": [
    "plot1(iip_berg, mod_berg)"
   ]
  }
 ],
 "metadata": {
  "kernelspec": {
   "display_name": "Python 3",
   "language": "python",
   "name": "python3"
  },
  "language_info": {
   "codemirror_mode": {
    "name": "ipython",
    "version": 3
   },
   "file_extension": ".py",
   "mimetype": "text/x-python",
   "name": "python",
   "nbconvert_exporter": "python",
   "pygments_lexer": "ipython3",
   "version": "3.5.2"
  }
 },
 "nbformat": 4,
 "nbformat_minor": 0
}
