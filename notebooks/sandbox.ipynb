{
 "cells": [
  {
   "cell_type": "code",
   "execution_count": 12,
   "metadata": {
    "collapsed": true
   },
   "outputs": [],
   "source": [
    "import urllib\n",
    "import pandas as pd\n",
    "import numpy as np\n",
    "from sklearn import datasets\n",
    "\n",
    "%matplotlib inline\n",
    "import matplotlib.pyplot as plt\n",
    "plt.style.use('default')\n",
    "import xarray as xr\n",
    "import scipy.interpolate as interp\n",
    "\n",
    "import scipy.io as sio\n",
    "import numpy.matlib\n",
    "import cmath"
   ]
  },
  {
   "cell_type": "code",
   "execution_count": 15,
   "metadata": {
    "collapsed": false
   },
   "outputs": [],
   "source": [
    "# Choose iceberg year (2002 - 2015 available)\n",
    "# Note: Iceberg Season starts in November so many datasets include dates from year-1\n",
    "season_year = 2015\n",
    "iip_url_base = 'ftp://sidads.colorado.edu/pub/DATASETS/NOAA/G00807/' \n",
    "iip_filename = 'IIP_{}IcebergSeason.csv'.format(season_year)\n",
    "iip_url = iip_url_base + iip_filename\n",
    "r = urllib.request.urlretrieve(iip_url)\n",
    "df = pd.read_csv(r[0], converters={'TIME':str})\n",
    "df['DATETIME'] = pd.to_datetime(df['DATE'] + 'T' + df['TIME'])"
   ]
  },
  {
   "cell_type": "code",
   "execution_count": 164,
   "metadata": {
    "collapsed": false
   },
   "outputs": [
    {
     "data": {
      "text/html": [
       "<div>\n",
       "<table border=\"1\" class=\"dataframe\">\n",
       "  <thead>\n",
       "    <tr style=\"text-align: right;\">\n",
       "      <th></th>\n",
       "      <th>ICE-YEAR</th>\n",
       "      <th>BERG_NUMBER</th>\n",
       "      <th>DATE</th>\n",
       "      <th>TIME</th>\n",
       "      <th>LATITUDE</th>\n",
       "      <th>LONGITUDE</th>\n",
       "      <th>METHOD</th>\n",
       "      <th>SIZE</th>\n",
       "      <th>SHAPE</th>\n",
       "      <th>SOURCE</th>\n",
       "      <th>DATETIME</th>\n",
       "    </tr>\n",
       "  </thead>\n",
       "  <tbody>\n",
       "    <tr>\n",
       "      <th>0</th>\n",
       "      <td>2015</td>\n",
       "      <td>1</td>\n",
       "      <td>11/21/2014</td>\n",
       "      <td>1639</td>\n",
       "      <td>59.98</td>\n",
       "      <td>-63.44</td>\n",
       "      <td>VIS</td>\n",
       "      <td>GEN</td>\n",
       "      <td>GEN</td>\n",
       "      <td>GCFR</td>\n",
       "      <td>2014-11-21 16:39:00</td>\n",
       "    </tr>\n",
       "    <tr>\n",
       "      <th>1</th>\n",
       "      <td>2015</td>\n",
       "      <td>1</td>\n",
       "      <td>12/13/2014</td>\n",
       "      <td>2138</td>\n",
       "      <td>58.32</td>\n",
       "      <td>-61.18</td>\n",
       "      <td>SAT-HIGH</td>\n",
       "      <td>RAD</td>\n",
       "      <td>RAD</td>\n",
       "      <td>RSA2</td>\n",
       "      <td>2014-12-13 21:38:00</td>\n",
       "    </tr>\n",
       "    <tr>\n",
       "      <th>2</th>\n",
       "      <td>2015</td>\n",
       "      <td>2</td>\n",
       "      <td>11/29/2014</td>\n",
       "      <td>2147</td>\n",
       "      <td>58.57</td>\n",
       "      <td>-60.53</td>\n",
       "      <td>SAT-HIGH</td>\n",
       "      <td>RAD</td>\n",
       "      <td>RAD</td>\n",
       "      <td>RSA2</td>\n",
       "      <td>2014-11-29 21:47:00</td>\n",
       "    </tr>\n",
       "    <tr>\n",
       "      <th>3</th>\n",
       "      <td>2015</td>\n",
       "      <td>2</td>\n",
       "      <td>12/6/2014</td>\n",
       "      <td>2142</td>\n",
       "      <td>58.21</td>\n",
       "      <td>-60.05</td>\n",
       "      <td>SAT-HIGH</td>\n",
       "      <td>RAD</td>\n",
       "      <td>RAD</td>\n",
       "      <td>RSA2</td>\n",
       "      <td>2014-12-06 21:42:00</td>\n",
       "    </tr>\n",
       "    <tr>\n",
       "      <th>4</th>\n",
       "      <td>2015</td>\n",
       "      <td>2</td>\n",
       "      <td>12/16/2014</td>\n",
       "      <td>1553</td>\n",
       "      <td>57.69</td>\n",
       "      <td>-59.16</td>\n",
       "      <td>VIS</td>\n",
       "      <td>LG</td>\n",
       "      <td>GEN</td>\n",
       "      <td>GTJZ</td>\n",
       "      <td>2014-12-16 15:53:00</td>\n",
       "    </tr>\n",
       "  </tbody>\n",
       "</table>\n",
       "</div>"
      ],
      "text/plain": [
       "   ICE-YEAR  BERG_NUMBER        DATE  TIME  LATITUDE  LONGITUDE    METHOD  \\\n",
       "0      2015            1  11/21/2014  1639     59.98     -63.44       VIS   \n",
       "1      2015            1  12/13/2014  2138     58.32     -61.18  SAT-HIGH   \n",
       "2      2015            2  11/29/2014  2147     58.57     -60.53  SAT-HIGH   \n",
       "3      2015            2   12/6/2014  2142     58.21     -60.05  SAT-HIGH   \n",
       "4      2015            2  12/16/2014  1553     57.69     -59.16       VIS   \n",
       "\n",
       "  SIZE SHAPE SOURCE            DATETIME  \n",
       "0  GEN   GEN   GCFR 2014-11-21 16:39:00  \n",
       "1  RAD   RAD   RSA2 2014-12-13 21:38:00  \n",
       "2  RAD   RAD   RSA2 2014-11-29 21:47:00  \n",
       "3  RAD   RAD   RSA2 2014-12-06 21:42:00  \n",
       "4   LG   GEN   GTJZ 2014-12-16 15:53:00  "
      ]
     },
     "execution_count": 164,
     "metadata": {},
     "output_type": "execute_result"
    }
   ],
   "source": [
    "df.head()"
   ]
  },
  {
   "cell_type": "code",
   "execution_count": 16,
   "metadata": {
    "collapsed": true
   },
   "outputs": [],
   "source": [
    "# Choose the min number of observations for an eligible iceberg\n",
    "min_num_obs = 10\n",
    "eligible_bergs = np.asarray(\n",
    "    df['BERG_NUMBER'].value_counts()\\\n",
    "    .loc[df['BERG_NUMBER'].value_counts() > min_num_obs].index)"
   ]
  },
  {
   "cell_type": "code",
   "execution_count": 17,
   "metadata": {
    "collapsed": true
   },
   "outputs": [],
   "source": [
    "chosen_inds_arr = []\n",
    "\n",
    "for i in range(eligible_bergs.size):\n",
    "\n",
    "    berg_id = eligible_bergs[i]\n",
    "    berg_df = df.loc[df['BERG_NUMBER'] == berg_id]\n",
    "    \n",
    "    ind0 = berg_df.index.tolist()[0]\n",
    "    indf = berg_df.index.tolist()[-1]\n",
    "    \n",
    "    max_time_dif = np.timedelta64(24*60*3, 'm')\n",
    "    \n",
    "    chosen_inds = []\n",
    "\n",
    "    for j in range(len(berg_df)-1):\n",
    "\n",
    "        time_dif = (berg_df.DATETIME.values[j+1] - \\\n",
    "                    berg_df.DATETIME.values[j]).astype('timedelta64[m]')\n",
    "        \n",
    "        if time_dif < max_time_dif:\n",
    "            chosen_inds.append(j+ind0)\n",
    "\n",
    "        elif len(chosen_inds) > 5:\n",
    "            chosen_inds_arr.append(chosen_inds)\n",
    "            chosen_inds = []\n",
    "        else:\n",
    "            chosen_inds = []\n",
    "\n",
    "    if len(chosen_inds) > 5:\n",
    "        chosen_inds_arr.append(chosen_inds)"
   ]
  },
  {
   "cell_type": "code",
   "execution_count": 18,
   "metadata": {
    "collapsed": true
   },
   "outputs": [],
   "source": [
    "# Choose which iceberg track to look at (index)\n",
    "chosen_track_ind = 2\n",
    "\n",
    "berg_df = df.loc[chosen_inds_arr[chosen_track_ind]].reset_index()"
   ]
  },
  {
   "cell_type": "code",
   "execution_count": 19,
   "metadata": {
    "collapsed": false
   },
   "outputs": [
    {
     "data": {
      "text/html": [
       "<div>\n",
       "<table border=\"1\" class=\"dataframe\">\n",
       "  <thead>\n",
       "    <tr style=\"text-align: right;\">\n",
       "      <th></th>\n",
       "      <th>index</th>\n",
       "      <th>ICE-YEAR</th>\n",
       "      <th>BERG_NUMBER</th>\n",
       "      <th>DATE</th>\n",
       "      <th>TIME</th>\n",
       "      <th>LATITUDE</th>\n",
       "      <th>LONGITUDE</th>\n",
       "      <th>METHOD</th>\n",
       "      <th>SIZE</th>\n",
       "      <th>SHAPE</th>\n",
       "      <th>SOURCE</th>\n",
       "      <th>DATETIME</th>\n",
       "    </tr>\n",
       "  </thead>\n",
       "  <tbody>\n",
       "    <tr>\n",
       "      <th>0</th>\n",
       "      <td>4986</td>\n",
       "      <td>2015</td>\n",
       "      <td>21165</td>\n",
       "      <td>6/23/2015</td>\n",
       "      <td>1227</td>\n",
       "      <td>47.67</td>\n",
       "      <td>-48.80</td>\n",
       "      <td>R/V</td>\n",
       "      <td>GEN</td>\n",
       "      <td>GEN</td>\n",
       "      <td>GTJZ</td>\n",
       "      <td>2015-06-23 12:27:00</td>\n",
       "    </tr>\n",
       "    <tr>\n",
       "      <th>1</th>\n",
       "      <td>4987</td>\n",
       "      <td>2015</td>\n",
       "      <td>21165</td>\n",
       "      <td>6/23/2015</td>\n",
       "      <td>1914</td>\n",
       "      <td>47.59</td>\n",
       "      <td>-48.81</td>\n",
       "      <td>R/V</td>\n",
       "      <td>GEN</td>\n",
       "      <td>GEN</td>\n",
       "      <td>GTJZ</td>\n",
       "      <td>2015-06-23 19:14:00</td>\n",
       "    </tr>\n",
       "    <tr>\n",
       "      <th>2</th>\n",
       "      <td>4988</td>\n",
       "      <td>2015</td>\n",
       "      <td>21165</td>\n",
       "      <td>6/24/2015</td>\n",
       "      <td>1452</td>\n",
       "      <td>47.52</td>\n",
       "      <td>-48.84</td>\n",
       "      <td>R/V</td>\n",
       "      <td>SM</td>\n",
       "      <td>GEN</td>\n",
       "      <td>GTJZ</td>\n",
       "      <td>2015-06-24 14:52:00</td>\n",
       "    </tr>\n",
       "    <tr>\n",
       "      <th>3</th>\n",
       "      <td>4989</td>\n",
       "      <td>2015</td>\n",
       "      <td>21165</td>\n",
       "      <td>6/26/2015</td>\n",
       "      <td>1643</td>\n",
       "      <td>47.34</td>\n",
       "      <td>-48.72</td>\n",
       "      <td>R/V</td>\n",
       "      <td>SM</td>\n",
       "      <td>GEN</td>\n",
       "      <td>GMRS</td>\n",
       "      <td>2015-06-26 16:43:00</td>\n",
       "    </tr>\n",
       "    <tr>\n",
       "      <th>4</th>\n",
       "      <td>4990</td>\n",
       "      <td>2015</td>\n",
       "      <td>21165</td>\n",
       "      <td>6/27/2015</td>\n",
       "      <td>1116</td>\n",
       "      <td>47.32</td>\n",
       "      <td>-48.72</td>\n",
       "      <td>R/V</td>\n",
       "      <td>SM</td>\n",
       "      <td>GEN</td>\n",
       "      <td>GPGR</td>\n",
       "      <td>2015-06-27 11:16:00</td>\n",
       "    </tr>\n",
       "    <tr>\n",
       "      <th>5</th>\n",
       "      <td>4991</td>\n",
       "      <td>2015</td>\n",
       "      <td>21165</td>\n",
       "      <td>6/28/2015</td>\n",
       "      <td>1212</td>\n",
       "      <td>47.26</td>\n",
       "      <td>-48.69</td>\n",
       "      <td>R/V</td>\n",
       "      <td>SM</td>\n",
       "      <td>GEN</td>\n",
       "      <td>GTJZ</td>\n",
       "      <td>2015-06-28 12:12:00</td>\n",
       "    </tr>\n",
       "    <tr>\n",
       "      <th>6</th>\n",
       "      <td>4992</td>\n",
       "      <td>2015</td>\n",
       "      <td>21165</td>\n",
       "      <td>6/29/2015</td>\n",
       "      <td>1353</td>\n",
       "      <td>47.15</td>\n",
       "      <td>-48.68</td>\n",
       "      <td>R/V</td>\n",
       "      <td>SM</td>\n",
       "      <td>TAB</td>\n",
       "      <td>GPGR</td>\n",
       "      <td>2015-06-29 13:53:00</td>\n",
       "    </tr>\n",
       "    <tr>\n",
       "      <th>7</th>\n",
       "      <td>4993</td>\n",
       "      <td>2015</td>\n",
       "      <td>21165</td>\n",
       "      <td>6/30/2015</td>\n",
       "      <td>1113</td>\n",
       "      <td>47.22</td>\n",
       "      <td>-48.50</td>\n",
       "      <td>R/V</td>\n",
       "      <td>SM</td>\n",
       "      <td>GEN</td>\n",
       "      <td>GMRS</td>\n",
       "      <td>2015-06-30 11:13:00</td>\n",
       "    </tr>\n",
       "    <tr>\n",
       "      <th>8</th>\n",
       "      <td>4994</td>\n",
       "      <td>2015</td>\n",
       "      <td>21165</td>\n",
       "      <td>6/30/2015</td>\n",
       "      <td>1730</td>\n",
       "      <td>47.32</td>\n",
       "      <td>-48.39</td>\n",
       "      <td>R/V</td>\n",
       "      <td>BB</td>\n",
       "      <td>GEN</td>\n",
       "      <td>GTJZ</td>\n",
       "      <td>2015-06-30 17:30:00</td>\n",
       "    </tr>\n",
       "    <tr>\n",
       "      <th>9</th>\n",
       "      <td>4995</td>\n",
       "      <td>2015</td>\n",
       "      <td>21165</td>\n",
       "      <td>7/1/2015</td>\n",
       "      <td>1121</td>\n",
       "      <td>47.27</td>\n",
       "      <td>-48.38</td>\n",
       "      <td>R/V</td>\n",
       "      <td>SM</td>\n",
       "      <td>GEN</td>\n",
       "      <td>GMRS</td>\n",
       "      <td>2015-07-01 11:21:00</td>\n",
       "    </tr>\n",
       "    <tr>\n",
       "      <th>10</th>\n",
       "      <td>4996</td>\n",
       "      <td>2015</td>\n",
       "      <td>21165</td>\n",
       "      <td>7/2/2015</td>\n",
       "      <td>1212</td>\n",
       "      <td>47.17</td>\n",
       "      <td>-48.26</td>\n",
       "      <td>R/V</td>\n",
       "      <td>SM</td>\n",
       "      <td>GEN</td>\n",
       "      <td>GMRS</td>\n",
       "      <td>2015-07-02 12:12:00</td>\n",
       "    </tr>\n",
       "    <tr>\n",
       "      <th>11</th>\n",
       "      <td>4997</td>\n",
       "      <td>2015</td>\n",
       "      <td>21165</td>\n",
       "      <td>7/3/2015</td>\n",
       "      <td>1746</td>\n",
       "      <td>47.18</td>\n",
       "      <td>-48.14</td>\n",
       "      <td>R/V</td>\n",
       "      <td>SM</td>\n",
       "      <td>GEN</td>\n",
       "      <td>GMRS</td>\n",
       "      <td>2015-07-03 17:46:00</td>\n",
       "    </tr>\n",
       "    <tr>\n",
       "      <th>12</th>\n",
       "      <td>4998</td>\n",
       "      <td>2015</td>\n",
       "      <td>21165</td>\n",
       "      <td>7/4/2015</td>\n",
       "      <td>2200</td>\n",
       "      <td>47.18</td>\n",
       "      <td>-48.16</td>\n",
       "      <td>R/V</td>\n",
       "      <td>SM</td>\n",
       "      <td>DOM</td>\n",
       "      <td>SHIP</td>\n",
       "      <td>2015-07-04 22:00:00</td>\n",
       "    </tr>\n",
       "  </tbody>\n",
       "</table>\n",
       "</div>"
      ],
      "text/plain": [
       "    index  ICE-YEAR  BERG_NUMBER       DATE  TIME  LATITUDE  LONGITUDE METHOD  \\\n",
       "0    4986      2015        21165  6/23/2015  1227     47.67     -48.80    R/V   \n",
       "1    4987      2015        21165  6/23/2015  1914     47.59     -48.81    R/V   \n",
       "2    4988      2015        21165  6/24/2015  1452     47.52     -48.84    R/V   \n",
       "3    4989      2015        21165  6/26/2015  1643     47.34     -48.72    R/V   \n",
       "4    4990      2015        21165  6/27/2015  1116     47.32     -48.72    R/V   \n",
       "5    4991      2015        21165  6/28/2015  1212     47.26     -48.69    R/V   \n",
       "6    4992      2015        21165  6/29/2015  1353     47.15     -48.68    R/V   \n",
       "7    4993      2015        21165  6/30/2015  1113     47.22     -48.50    R/V   \n",
       "8    4994      2015        21165  6/30/2015  1730     47.32     -48.39    R/V   \n",
       "9    4995      2015        21165   7/1/2015  1121     47.27     -48.38    R/V   \n",
       "10   4996      2015        21165   7/2/2015  1212     47.17     -48.26    R/V   \n",
       "11   4997      2015        21165   7/3/2015  1746     47.18     -48.14    R/V   \n",
       "12   4998      2015        21165   7/4/2015  2200     47.18     -48.16    R/V   \n",
       "\n",
       "   SIZE SHAPE SOURCE            DATETIME  \n",
       "0   GEN   GEN   GTJZ 2015-06-23 12:27:00  \n",
       "1   GEN   GEN   GTJZ 2015-06-23 19:14:00  \n",
       "2    SM   GEN   GTJZ 2015-06-24 14:52:00  \n",
       "3    SM   GEN   GMRS 2015-06-26 16:43:00  \n",
       "4    SM   GEN   GPGR 2015-06-27 11:16:00  \n",
       "5    SM   GEN   GTJZ 2015-06-28 12:12:00  \n",
       "6    SM   TAB   GPGR 2015-06-29 13:53:00  \n",
       "7    SM   GEN   GMRS 2015-06-30 11:13:00  \n",
       "8    BB   GEN   GTJZ 2015-06-30 17:30:00  \n",
       "9    SM   GEN   GMRS 2015-07-01 11:21:00  \n",
       "10   SM   GEN   GMRS 2015-07-02 12:12:00  \n",
       "11   SM   GEN   GMRS 2015-07-03 17:46:00  \n",
       "12   SM   DOM   SHIP 2015-07-04 22:00:00  "
      ]
     },
     "execution_count": 19,
     "metadata": {},
     "output_type": "execute_result"
    }
   ],
   "source": [
    "berg_df"
   ]
  },
  {
   "cell_type": "code",
   "execution_count": 77,
   "metadata": {
    "collapsed": true
   },
   "outputs": [],
   "source": [
    "class Iceberg:\n",
    "    \n",
    "    def __init__(self, id_num, times, lats, lons, size):\n",
    "        self.id_num = id_num\n",
    "        self.times = times\n",
    "        self.times_ref0 = self.get_times_ref0(self.times)\n",
    "        self.lats = lats\n",
    "        self.lons = lons\n",
    "        \n",
    "        if type(size) == str:\n",
    "            self.length, self.width, self.height = self.get_berg_dims(size)\n",
    "        elif type(size) == list and len(size) == 3:\n",
    "            self.length, self.width, self.height = size[0], size[1], size[2]\n",
    "        else:\n",
    "            print('Invalid size argument')\n",
    "            \n",
    "    def get_times_ref0(self, times):\n",
    "        times_ref0 = []\n",
    "        t_offset = iip_berg.times[0].hour + iip_berg.times[0].minute/60  # from start of day\n",
    "        for i in range(len(times)):\n",
    "            times_ref0.append(round((times[i] - times[0]).days*24 + \\\n",
    "                                    (times[i] - times[0]).seconds/3600 + t_offset, 1))\n",
    "        return times_ref0\n",
    "    \n",
    "    def set_times_ref0(self, times):\n",
    "        self.times_ref0 = self.get_times_ref0(times)\n",
    "            \n",
    "    def get_berg_dims(self, size):\n",
    "        # Size must be GR, BB, SM, MED, LG, VLG\n",
    "        # See https://nsidc.org/data/g00807 for more info\n",
    "        if size == 'GR':\n",
    "            l = (0+5)/2; w = (0+5)/2; h = (0+1)/2*10\n",
    "        elif size == 'BB':\n",
    "            l = (5+15)/2; w = (5+15)/2; h = (1+5)/2*10        \n",
    "        elif size == 'SM':\n",
    "            l = (15+60)/2; w = (15+60)/2; h = (5+15)/2*10        \n",
    "        elif size == 'MED':\n",
    "            l = (60+120)/2; w = (60+120)/2; h = (15+45)/2*10               \n",
    "        elif size == 'LG':\n",
    "            l = (120)/2; w = (120)/2; h = (45+75)/2*10                \n",
    "        elif size == 'VLG':\n",
    "            # Sizes have no listed upper bound\n",
    "            l = (200+200/2)/2; w = (200+200/2)/2; h = (75+75/2)/2*10     \n",
    "        # This info for GEN is wrong!\n",
    "        elif size == 'GEN':\n",
    "            l = (120)/2; w = (120)/2; h = (45+75)/2*10            \n",
    "        else:\n",
    "            print('unknown size class')\n",
    "            l = None; w = None; h = None\n",
    "        return l, w, h"
   ]
  },
  {
   "cell_type": "code",
   "execution_count": 79,
   "metadata": {
    "collapsed": true
   },
   "outputs": [],
   "source": [
    "class GLB:\n",
    "    \n",
    "    glb_url = 'http://tds.hycom.org/thredds/dodsC/GLBv0.08/expt_56.3'\n",
    "    \n",
    "    def __init__(self, berg):\n",
    "        self.ds = xr.open_dataset(self.glb_url, \n",
    "                                  decode_times=False).sel(\n",
    "                                  depth=0.0, \n",
    "                                  lat = slice(min(berg.lats)-1, max(berg.lats)+1), \n",
    "                                  lon = slice(min(berg.lons)-1, max(berg.lons)+1), \n",
    "                                  time = slice(self.convert_time(berg.times[0]), \n",
    "                                               self.convert_time(berg.times[-1], add_day=True)))\n",
    "        self.times = np.asarray(self.ds.time)\n",
    "        self.times_ref0 = self.times - self.times[0]\n",
    "        self.lats = np.asarray(self.ds.lat)\n",
    "        self.lons = np.asarray(self.ds.lon)\n",
    "        self.water_u = np.asarray(self.ds.water_u)\n",
    "        self.water_v = np.asarray(self.ds.water_v)\n",
    "        self.water_temp = np.asarray(self.ds.water_temp)\n",
    "        \n",
    "    def convert_time(self, berg_time, add_day = False):\n",
    "        date2000 = np.datetime64('2000-01-01')\n",
    "        diff = berg_time - date2000\n",
    "        days = diff.days\n",
    "        #seconds = diff.seconds\n",
    "        if add_day:\n",
    "            hours = (days+1)*24\n",
    "        else:\n",
    "            hours = days*24\n",
    "        return hours"
   ]
  },
  {
   "cell_type": "code",
   "execution_count": 23,
   "metadata": {
    "collapsed": true
   },
   "outputs": [],
   "source": [
    "glb = GLB(iip_berg)"
   ]
  },
  {
   "cell_type": "code",
   "execution_count": 168,
   "metadata": {
    "collapsed": false
   },
   "outputs": [
    {
     "data": {
      "text/plain": [
       "pandas.tslib.Timestamp"
      ]
     },
     "execution_count": 168,
     "metadata": {},
     "output_type": "execute_result"
    }
   ],
   "source": [
    "type(iip_berg.times[0])"
   ]
  },
  {
   "cell_type": "code",
   "execution_count": 24,
   "metadata": {
    "collapsed": false
   },
   "outputs": [
    {
     "data": {
      "text/plain": [
       "array([  0.,   3.,   6.,   9.,  12.,  15.,  18.,  21.,  24.])"
      ]
     },
     "execution_count": 24,
     "metadata": {},
     "output_type": "execute_result"
    }
   ],
   "source": [
    "glb.times_ref0"
   ]
  },
  {
   "cell_type": "code",
   "execution_count": 25,
   "metadata": {
    "collapsed": true
   },
   "outputs": [],
   "source": [
    "class Navgem:\n",
    "    navgem_url = 'http://coastwatch.pfeg.noaa.gov/erddap/griddap/erdNavgem05D10mWind_LonPM180'\n",
    "    \n",
    "    def __init__(self, berg):\n",
    "        self.ds = xr.open_dataset(self.navgem_url).sel(\n",
    "                         time=slice(self.convert_time(berg.times[0]), \n",
    "                                    self.convert_time(berg.times[-1], add_day=True)), \n",
    "                         latitude=slice(min(berg.lats)-1, max(berg.lats)+1), \n",
    "                         longitude=slice(min(berg.lons)-1, max(berg.lons)+1))\n",
    "        self.times = np.asarray(self.ds.time)\n",
    "        self.lats = np.asarray(self.ds.latitude)\n",
    "        self.lons = np.asarray(self.ds.longitude)\n",
    "        #self.wind_u = np.asarray(self.ds.wnd_ucmp_height_above_ground)\n",
    "        #self.wind_v = np.asarray(self.ds.wnd_vcmp_height_above_ground)\n",
    "            \n",
    "    def convert_time(self, berg_time, add_day=False):\n",
    "        if add_day:\n",
    "            one_day = pd.Timedelta('1 days')\n",
    "            date = '{}-{}-{}' .format((berg_time + one_day).year,\n",
    "                                      (berg_time + one_day).month,\n",
    "                                      (berg_time + one_day).day)\n",
    "        else:\n",
    "            date = '{}-{}-{}' .format(berg_time.year,\n",
    "                                      berg_time.month,\n",
    "                                      berg_time.day)\n",
    "        return date"
   ]
  },
  {
   "cell_type": "code",
   "execution_count": 26,
   "metadata": {
    "collapsed": true
   },
   "outputs": [],
   "source": [
    "#navgem = Navgem(iip_berg)"
   ]
  },
  {
   "cell_type": "code",
   "execution_count": 27,
   "metadata": {
    "collapsed": true
   },
   "outputs": [],
   "source": [
    "class NOAA:\n",
    "    noaa_url = 'http://coastwatch.pfeg.noaa.gov/erddap/griddap/ncdcOw6hrP_LonPM180'\n",
    "    \n",
    "    # Warning: u,v values are all nan at 00:00:00 of each day\n",
    "    \n",
    "    def __init__(self, berg):\n",
    "        self.ds = xr.open_dataset(self.noaa_url).sel(\n",
    "                         time=slice(self.convert_time(berg.times[0]), \n",
    "                                    self.convert_time(berg.times[-1], add_day=True)),\n",
    "                         altitude=10.0,\n",
    "                         latitude=slice(min(berg.lats)-1, max(berg.lats)+1), \n",
    "                         longitude=slice(min(berg.lons)-1, max(berg.lons)+1))\n",
    "        self.times = np.asarray(self.ds.time[3:])\n",
    "        self.lats = np.asarray(self.ds.latitude)\n",
    "        self.lons = np.asarray(self.ds.longitude)\n",
    "        self.wind_u = np.asarray(self.ds.u[3:])\n",
    "        self.wind_v = np.asarray(self.ds.v[3:])\n",
    "            \n",
    "    def convert_time(self, berg_time, add_day=False):\n",
    "        one_day = pd.Timedelta('1 days')\n",
    "\n",
    "        if add_day:\n",
    "            date = '{}-{}-{}' .format((berg_time + one_day).year,\n",
    "                                      (berg_time + one_day).month,\n",
    "                                      (berg_time + one_day).day)\n",
    "        else:\n",
    "            date = '{}-{}-{}' .format((berg_time - one_day).year,\n",
    "                                      (berg_time - one_day).month,\n",
    "                                      (berg_time - one_day).day)  # first time is nan\n",
    "        return date"
   ]
  },
  {
   "cell_type": "code",
   "execution_count": 28,
   "metadata": {
    "collapsed": true
   },
   "outputs": [],
   "source": [
    "#noaa = NOAA(iip_berg)"
   ]
  },
  {
   "cell_type": "code",
   "execution_count": 29,
   "metadata": {
    "collapsed": true
   },
   "outputs": [],
   "source": [
    "def convert_time(berg_time, add_day=False):\n",
    "    one_day = pd.Timedelta('1 days')\n",
    "\n",
    "    if add_day:\n",
    "        date = '{}-{}-{}' .format((berg_time + one_day).year,\n",
    "                                  (berg_time + one_day).month,\n",
    "                                  (berg_time + one_day).day)\n",
    "    else:\n",
    "        date = '{}-{}-{}' .format((berg_time).year,\n",
    "                                  (berg_time).month,\n",
    "                                  (berg_time).day)  # first time is nan\n",
    "    return date"
   ]
  },
  {
   "cell_type": "code",
   "execution_count": 30,
   "metadata": {
    "collapsed": true
   },
   "outputs": [],
   "source": [
    "navgem_url = 'http://coastwatch.pfeg.noaa.gov/erddap/griddap/erdNavgem05D10mWind_LonPM180'"
   ]
  },
  {
   "cell_type": "code",
   "execution_count": 31,
   "metadata": {
    "collapsed": true
   },
   "outputs": [],
   "source": [
    "navgem_ds = xr.open_dataset(navgem_url)"
   ]
  },
  {
   "cell_type": "code",
   "execution_count": 32,
   "metadata": {
    "collapsed": true
   },
   "outputs": [],
   "source": [
    "navgem_ds = navgem_ds.sel(\n",
    "                 time=slice(convert_time(iip_berg.times[0]), \n",
    "                            convert_time(iip_berg.times[-1], add_day=True)), \n",
    "                 latitude=slice(min(iip_berg.lats)-1, max(iip_berg.lats)+1), \n",
    "                 longitude=slice(min(iip_berg.lons)-1, max(iip_berg.lons)+1))"
   ]
  },
  {
   "cell_type": "code",
   "execution_count": 33,
   "metadata": {
    "collapsed": true
   },
   "outputs": [],
   "source": [
    "navgem_times = np.asarray(navgem_ds.time)\n",
    "navgem_lats = np.asarray(navgem_ds.latitude)\n",
    "navgem_lons = np.asarray(navgem_ds.longitude)"
   ]
  },
  {
   "cell_type": "code",
   "execution_count": 34,
   "metadata": {
    "collapsed": true
   },
   "outputs": [],
   "source": [
    "navgem_wind_u = np.asarray(navgem_ds.wnd_ucmp_height_above_ground)\n",
    "navgem_wind_v = np.asarray(navgem_ds.wnd_vcmp_height_above_ground)"
   ]
  },
  {
   "cell_type": "code",
   "execution_count": 35,
   "metadata": {
    "collapsed": true
   },
   "outputs": [],
   "source": [
    "navgem_ds.close()"
   ]
  },
  {
   "cell_type": "code",
   "execution_count": 36,
   "metadata": {
    "collapsed": true
   },
   "outputs": [],
   "source": [
    "navgem_wind_u = navgem_wind_u[:,0,:,:]\n",
    "navgem_wind_v = navgem_wind_v[:,0,:,:]"
   ]
  },
  {
   "cell_type": "code",
   "execution_count": 37,
   "metadata": {
    "collapsed": true
   },
   "outputs": [],
   "source": [
    "# must change navgem_times to numeric type for interpolator\n",
    "date2000 = np.datetime64('2000-01-01')\n",
    "one_hour = np.timedelta64(1, 'h')\n",
    "navgem_times = (navgem_times - date2000).astype('timedelta64[h]')/one_hour\n",
    "navgem_times_ref0 = navgem_times - navgem_times[0]"
   ]
  },
  {
   "cell_type": "code",
   "execution_count": 38,
   "metadata": {
    "collapsed": false
   },
   "outputs": [
    {
     "data": {
      "text/plain": [
       "array([  0.,   6.,  12.,  18.,  24.,  30.,  36.,  42.])"
      ]
     },
     "execution_count": 38,
     "metadata": {},
     "output_type": "execute_result"
    }
   ],
   "source": [
    "navgem_times_ref0"
   ]
  },
  {
   "cell_type": "code",
   "execution_count": 39,
   "metadata": {
    "collapsed": false
   },
   "outputs": [
    {
     "data": {
      "text/plain": [
       "array([ 135648.,  135654.,  135660.,  135666.,  135672.,  135678.,\n",
       "        135684.,  135690.])"
      ]
     },
     "execution_count": 39,
     "metadata": {},
     "output_type": "execute_result"
    }
   ],
   "source": [
    "navgem_times"
   ]
  },
  {
   "cell_type": "markdown",
   "metadata": {},
   "source": [
    "## Make interpolants"
   ]
  },
  {
   "cell_type": "code",
   "execution_count": 40,
   "metadata": {
    "collapsed": true
   },
   "outputs": [],
   "source": [
    "water_u_interp = interp.RegularGridInterpolator((glb.times_ref0, glb.lats, glb.lons), glb.water_u)\n",
    "water_v_interp = interp.RegularGridInterpolator((glb.times_ref0, glb.lats, glb.lons), glb.water_v)\n",
    "water_temp_interp = interp.RegularGridInterpolator((glb.times_ref0, glb.lats, glb.lons), glb.water_temp)"
   ]
  },
  {
   "cell_type": "code",
   "execution_count": 41,
   "metadata": {
    "collapsed": true
   },
   "outputs": [],
   "source": [
    "wind_u_interp = interp.RegularGridInterpolator((navgem_times_ref0, navgem_lats, navgem_lons), navgem_wind_u)\n",
    "wind_v_interp = interp.RegularGridInterpolator((navgem_times_ref0, navgem_lats, navgem_lons), navgem_wind_v)"
   ]
  },
  {
   "cell_type": "markdown",
   "metadata": {},
   "source": [
    "## Iceberg Model"
   ]
  },
  {
   "cell_type": "code",
   "execution_count": 80,
   "metadata": {
    "collapsed": true
   },
   "outputs": [],
   "source": [
    "# Constants\n",
    "R = 6378*1e3\n",
    "om = 7.2921e-5\n",
    "rhow = 1027\n",
    "rhoa = 1.2\n",
    "rhoi = 850\n",
    "drho = rhow - rhoi\n",
    "Cw = 0.9\n",
    "Ca = 1.3\n",
    "gam = np.sqrt(rhoa*drho/rhow/rhoi*(Ca/Cw))\n",
    "sst0 = -4\n",
    "Cs1 = 1.5; Cs2 = 0.5; Cs3 = 0.1\n",
    "CMv1 = 7.62e-3; CMv2 = 1.29e-3; CMe1 = 0.5\n",
    "CMb1 = 0.58; CMb2 = 0.8; CMb3 = 0.2"
   ]
  },
  {
   "cell_type": "code",
   "execution_count": 81,
   "metadata": {
    "collapsed": true
   },
   "outputs": [],
   "source": [
    "def iceDEF(t,x,y,l,w,h):\n",
    "\n",
    "    # Extract values from input fields\n",
    "    \n",
    "    vau = wind_u_interp([t, y, x])[0]\n",
    "    vav = wind_v_interp([t, y, x])[0]  \n",
    "    vwu = water_u_interp([t, y, x])[0] \n",
    "    vwv = water_v_interp([t, y, x])[0]\n",
    "    sst = water_temp_interp([t, y, x])[0]\n",
    "    \n",
    "    \n",
    "    # Drifting\n",
    "\n",
    "    S = np.pi*((l*w)/(l+w))\n",
    "    ff = 2*om*np.sin((np.abs(y)*np.pi)/180)\n",
    "    lam = np.sqrt(2)*Cw*(gam*np.sqrt(vau**2 + vav**2))/(ff*S)\n",
    "\n",
    "    \n",
    "    if lam < 0.1:\n",
    "        alpha = lam*(lam**4*(lam**4*(lam**4*(-0.0386699020961393*lam**4 + \\\n",
    "            0.055242717280199) - 0.0883883476483184) + \\\n",
    "            0.176776695296637) - 0.707106781186548)\n",
    "    else:\n",
    "        alpha = np.multiply(np.divide(np.sqrt(2),np.power(lam, 3)),(1-np.sqrt(1+np.power(lam,4))))\n",
    "        \n",
    "    if lam < 0.6:\n",
    "        beta = lam**3*(lam**4*(lam**4*(lam**4*(lam**4*(lam**4*(lam**4*(lam**4*(lam**4*\\\n",
    "            (0.0153268598203613*lam**4 - 0.0151656272365985) + \\\n",
    "            0.0180267866272764) + 0.0219176256311202) - \\\n",
    "            0.0274446790511418) + 0.0357675015202851) - \\\n",
    "            0.0493731785691779) + 0.0745776683282687) - \\\n",
    "            0.132582521472478) + 0.353553390593274)\n",
    "    else:\n",
    "        beta = np.real(np.multiply(np.divide(1.,np.power(lam,3.)),cmath.sqrt(np.multiply((4.+np.power(lam,4.)), \\\n",
    "            cmath.sqrt(1.+np.power(lam,4.)))-3.*np.power(lam,4.)-4.)))\n",
    "\n",
    "        \n",
    "    viu = vwu + gam*(-alpha*vav + beta*vau)\n",
    "    viv = vwv + gam*(alpha*vau + beta*vav)\n",
    "\n",
    "    y_new = y + (viv*dt)*(180/(np.pi*R))\n",
    "    x_new = x + (viu*dt)/(np.cos((((y + y_new)/2)*np.pi)/180))*(180/(np.pi*R))\n",
    "    \n",
    "    \n",
    "    # Melting\n",
    "\n",
    "    Me = CMe1*(Cs1*np.sqrt(vau**2 + vav**2)**Cs2 + Cs3*np.sqrt(vau**2 + vav**2))\n",
    "    Mv = CMv1*sst + CMv2*sst**2\n",
    "    Mb = CMb1*np.power(np.sqrt(np.square(viu-vwu)+np.square(viv-vwv)),CMb2)*(sst - sst0)/l**CMb3\n",
    "\n",
    "    l_new = l - (Mv + Me)*(dt/(24*3600))  # convert dt from secs to days\n",
    "    w_new = w - (Mv + Me)*(dt/(24*3600))\n",
    "    h_new = h - Mb*(dt/(24*3600))\n",
    "\n",
    "    if w_new < 0.85*h_new:\n",
    "        # Rollover\n",
    "        print('rollover')\n",
    "        w_new, h_new = h_new, w_new\n",
    "\n",
    "    if w_new > l_new:\n",
    "        # Ensure l is greater than w\n",
    "        print('swap l and w')\n",
    "        w_new, l_new = l_new, w_new\n",
    "\n",
    "    return x_new, y_new, l_new, w_new, h_new   "
   ]
  },
  {
   "cell_type": "code",
   "execution_count": 154,
   "metadata": {
    "collapsed": true
   },
   "outputs": [],
   "source": [
    "# Model Timesteps\n",
    "t0 = iip_berg.times_ref0[0]\n",
    "tf = iip_berg.times_ref0[-1]\n",
    "tstep = 0.1\n",
    "t_all = np.arange(t0, tf + tstep, tstep)\n",
    "dt = tstep*3600  # timestep in seconds"
   ]
  },
  {
   "cell_type": "code",
   "execution_count": 155,
   "metadata": {
    "collapsed": true
   },
   "outputs": [],
   "source": [
    "mod_berg = Iceberg(berg_df['BERG_NUMBER'].loc[0],\n",
    "                   [berg_df['DATETIME'].loc[0]],\n",
    "                   [berg_df['LATITUDE'].loc[0]],\n",
    "                   [berg_df['LONGITUDE'].loc[0]],\n",
    "                   berg_df['SIZE'].loc[0])"
   ]
  },
  {
   "cell_type": "code",
   "execution_count": 156,
   "metadata": {
    "collapsed": true
   },
   "outputs": [],
   "source": [
    "mod_berg.length = [mod_berg.length]\n",
    "mod_berg.width = [mod_berg.width]\n",
    "mod_berg.height = [mod_berg.height]"
   ]
  },
  {
   "cell_type": "code",
   "execution_count": 157,
   "metadata": {
    "collapsed": false
   },
   "outputs": [
    {
     "name": "stdout",
     "output_type": "stream",
     "text": [
      "Run number: 0, h = 600.0, l = 60.0, w = 60.0\n",
      "rollover\n",
      "swap l and w\n",
      "Final time: 19.2\n"
     ]
    }
   ],
   "source": [
    "# Iceberg Initial Location\n",
    "x0, y0 = mod_berg.lons[0], mod_berg.lats[0]\n",
    "\n",
    "# Run number\n",
    "run_num = 0\n",
    "num_runs = 1\n",
    "\n",
    "# Buffer number for bounding spatial box\n",
    "buf = 0.5\n",
    "\n",
    "# Manual stop time\n",
    "#stop_time = 36\n",
    "stop_time = tf\n",
    "\n",
    "# Initialize output dict\n",
    "output_dict = {}\n",
    "\n",
    "for run_num in range(num_runs):\n",
    "    \n",
    "    # Iceberg Initials\n",
    "    l0, w0, h0 = mod_berg.length[0], mod_berg.width[0], mod_berg.height[0]\n",
    "    l0 = l0 + l0*0.1*run_num\n",
    "    w0 = w0 + w0*0.1*run_num\n",
    "    h0 = h0 + h0*0.1*run_num\n",
    "    l, w, h = l0, w0, h0\n",
    "    x, y = x0, y0\n",
    "    t = t0\n",
    "    #iceberg = np.array([[t0],[x0],[y0],[l0],[w0],[h0]])\n",
    "\n",
    "    print('Run number: {}, h = {}, l = {}, w = {}'.format(run_num, h0, l0, w0))\n",
    "    \n",
    "    while t < stop_time:\n",
    "        \n",
    "        #print('Timestep: {}'.format(t))\n",
    "\n",
    "        x_new, y_new, l_new, w_new, h_new = iceDEF(t, x, y, l, w, h)\n",
    "\n",
    "        if x_new > max(iip_berg.lons)+buf or x_new < min(iip_berg.lons)-buf or y_new > max(iip_berg.lats)+buf or y_new <= min(iip_berg.lats)-buf:\n",
    "            # Iceberg out-of-bounds\n",
    "            print('out-of-bounds')\n",
    "            break\n",
    "\n",
    "\n",
    "        if l_new <= 0 or w_new <= 0 or h_new <= 0:\n",
    "            # Iceberg melted\n",
    "            print('melted')\n",
    "            break\n",
    "\n",
    "        else:\n",
    "            x, y, l, w, h = x_new, y_new, l_new, w_new, h_new\n",
    "            t += tstep\n",
    "            t = round(t, 1)\n",
    "            #iceberg_new = np.array([[t],[x],[y],[l],[w],[h]])\n",
    "            mod_berg.times_ref0.append(t)\n",
    "            mod_berg.lons.append(x)\n",
    "            mod_berg.lats.append(y)\n",
    "            mod_berg.length.append(l)\n",
    "            mod_berg.width.append(h)\n",
    "            #iceberg = np.column_stack((iceberg, iceberg_new))\n",
    "\n",
    "    print(\"Final time: {}\".format(t))"
   ]
  },
  {
   "cell_type": "markdown",
   "metadata": {},
   "source": [
    "## Plots"
   ]
  },
  {
   "cell_type": "code",
   "execution_count": 158,
   "metadata": {
    "collapsed": true
   },
   "outputs": [],
   "source": [
    "import cartopy.crs as ccrs\n",
    "from cartopy.mpl.gridliner import LONGITUDE_FORMATTER, LATITUDE_FORMATTER\n",
    "from mpl_toolkits.basemap import Basemap\n",
    "import bisect"
   ]
  },
  {
   "cell_type": "code",
   "execution_count": 159,
   "metadata": {
    "collapsed": true
   },
   "outputs": [],
   "source": [
    "def plot1(iip_berg, mod_berg):    \n",
    "    plt.plot(iip_berg.lats, iip_berg.lons, label='observed', color='red')\n",
    "    plt.plot(iip_berg.lats[-1], iip_berg.lons[-1], marker='o', color='red')\n",
    "    plt.text(iip_berg.lats[-1], iip_berg.lons[-1], '{0:.1f}'.format(iip_berg.times_ref0[-1]))\n",
    "    plt.plot(mod_berg.lats, mod_berg.lons, label='computed', color='orange')\n",
    "    plt.plot(mod_berg.lats[-1], mod_berg.lons[-1], marker='o', color='orange')\n",
    "    plt.text(mod_berg.lats[-1], mod_berg.lons[-1], '{0:.1f}'.format(mod_berg.times_ref0[-1]))\n",
    "    plt.legend()\n",
    "    plt.xlabel('Latitude'); plt.ylabel('Longitude')\n",
    "    plt.title('Iceberg Drift')\n",
    "    plt.savefig('./drift_track1.png')\n",
    "    plt.show()"
   ]
  },
  {
   "cell_type": "code",
   "execution_count": 160,
   "metadata": {
    "collapsed": false
   },
   "outputs": [
    {
     "data": {
      "image/png": "[encoded data removed]",
      "text/plain": [
       "<matplotlib.figure.Figure at 0x7ff9a743f7f0>"
      ]
     },
     "metadata": {},
     "output_type": "display_data"
    }
   ],
   "source": [
    "plot1(iip_berg, mod_berg)"
   ]
  },
  {
   "cell_type": "code",
   "execution_count": 161,
   "metadata": {
    "collapsed": true
   },
   "outputs": [],
   "source": [
    "def plot1a(iip_berg, mod_berg, mod_berg0):    \n",
    "    plt.plot(iip_berg.lats, iip_berg.lons, label='observed', color='red')\n",
    "    plt.plot(iip_berg.lats[-1], iip_berg.lons[-1], marker='o', color='red')\n",
    "    plt.text(iip_berg.lats[-1], iip_berg.lons[-1], '{0:.1f}'.format(iip_berg.times_ref0[-1]))\n",
    "    plt.plot(mod_berg.lats, mod_berg.lons, label='ecmwf', color='orange')\n",
    "    plt.plot(mod_berg.lats[-1], mod_berg.lons[-1], marker='o', color='orange')\n",
    "    plt.text(mod_berg.lats[-1], mod_berg.lons[-1], '{0:.1f}'.format(mod_berg.times_ref0[-1]))\n",
    "    plt.plot(mod_berg0.lats, mod_berg0.lons, label='glb/navgem', color='blue')\n",
    "    plt.plot(mod_berg0.lats[-1], mod_berg0.lons[-1], marker='o', color='blue')\n",
    "    plt.text(mod_berg0.lats[-1], mod_berg0.lons[-1], '{0:.1f}'.format(mod_berg0.times_ref0[-1]))\n",
    "    plt.legend()\n",
    "    plt.xlabel('Latitude'); plt.ylabel('Longitude')\n",
    "    plt.title('Iceberg Drift')\n",
    "    plt.savefig('./drift_track1a.png')\n",
    "    plt.show()"
   ]
  },
  {
   "cell_type": "code",
   "execution_count": 162,
   "metadata": {
    "collapsed": false
   },
   "outputs": [
    {
     "data": {
      "image/png": "[encoded data removed]",
      "text/plain": [
       "<matplotlib.figure.Figure at 0x7ff9a776c048>"
      ]
     },
     "metadata": {},
     "output_type": "display_data"
    }
   ],
   "source": [
    "plot1a(iip_berg,mod_berg,mod_berg0)"
   ]
  },
  {
   "cell_type": "code",
   "execution_count": 51,
   "metadata": {
    "collapsed": false
   },
   "outputs": [
    {
     "data": {
      "text/plain": [
       "0.064860233730017605"
      ]
     },
     "execution_count": 51,
     "metadata": {},
     "output_type": "execute_result"
    }
   ],
   "source": [
    "np.sqrt((mod_berg.lats[-1] - iip_berg.lats[-1])**2 + \\\n",
    "        (mod_berg.lons[-1] - iip_berg.lons[-1])**2)"
   ]
  },
  {
   "cell_type": "code",
   "execution_count": 52,
   "metadata": {
    "collapsed": true
   },
   "outputs": [],
   "source": [
    "def plot2(u, v, uv_mag, xticks=None, yticks=None):\n",
    "    plt.imshow(uv_mag)\n",
    "    plt.colorbar()\n",
    "    plt.quiver(u, v)\n",
    "    plt.xticks(np.arange(0, uv_mag.shape[1], 5), xticks[::5], rotation=90)\n",
    "    plt.yticks(np.arange(0, uv_mag.shape[0], 5), yticks[::5])\n",
    "    plt.xlabel('Latitude')\n",
    "    plt.ylabel('Longitude')\n",
    "    plt.title('Magnitude and Direction of Ocean Current')\n",
    "    plt.show()"
   ]
  },
  {
   "cell_type": "code",
   "execution_count": 53,
   "metadata": {
    "collapsed": false
   },
   "outputs": [
    {
     "data": {
      "image/png": "[encoded data removed]",
      "text/plain": [
       "<matplotlib.figure.Figure at 0x7ff9a785a4e0>"
      ]
     },
     "metadata": {},
     "output_type": "display_data"
    }
   ],
   "source": [
    "water_mag = np.sqrt(glb.water_u[0,:,:]**2 + glb.water_v[0,:,:]**2).T\n",
    "plot2(glb.water_u[0,:,:].T, glb.water_v[0,:,:].T,\n",
    "      water_mag, xticks=np.round(glb.lats,1), yticks=np.round(glb.lons,1))"
   ]
  },
  {
   "cell_type": "markdown",
   "metadata": {},
   "source": [
    "## ECMWF"
   ]
  },
  {
   "cell_type": "code",
   "execution_count": 97,
   "metadata": {
    "collapsed": true
   },
   "outputs": [],
   "source": [
    "mod_berg0 = mod_berg"
   ]
  },
  {
   "cell_type": "code",
   "execution_count": 54,
   "metadata": {
    "collapsed": true
   },
   "outputs": [],
   "source": [
    "import netCDF4 as nc"
   ]
  },
  {
   "cell_type": "code",
   "execution_count": 2,
   "metadata": {
    "collapsed": true
   },
   "outputs": [],
   "source": [
    "atm_path = '/media/evankielley/hd2/ECMWF/atm/'\n",
    "ocean_path = '/media/evankielley/hd2/ECMWF/ocean/'"
   ]
  },
  {
   "cell_type": "code",
   "execution_count": 5,
   "metadata": {
    "collapsed": true
   },
   "outputs": [],
   "source": [
    "year_path = '2014/'"
   ]
  },
  {
   "cell_type": "code",
   "execution_count": 8,
   "metadata": {
    "collapsed": false
   },
   "outputs": [],
   "source": [
    "f = nc.MFDataset([ocean_path + year_path + '20141101.nc', ocean_path + year_path + '20141102.nc'])"
   ]
  },
  {
   "cell_type": "code",
   "execution_count": 10,
   "metadata": {
    "collapsed": false
   },
   "outputs": [],
   "source": [
    "ft = f.variables['time']"
   ]
  },
  {
   "cell_type": "code",
   "execution_count": null,
   "metadata": {
    "collapsed": false
   },
   "outputs": [],
   "source": [
    "nc.num2date(ft[:], ft.units, ft.calendar)"
   ]
  },
  {
   "cell_type": "code",
   "execution_count": 55,
   "metadata": {
    "collapsed": false
   },
   "outputs": [
    {
     "data": {
      "text/plain": [
       "[Timestamp('2015-06-23 12:27:00'), Timestamp('2015-06-23 19:14:00')]"
      ]
     },
     "execution_count": 55,
     "metadata": {},
     "output_type": "execute_result"
    }
   ],
   "source": [
    "iip_berg.times"
   ]
  },
  {
   "cell_type": "code",
   "execution_count": 56,
   "metadata": {
    "collapsed": false
   },
   "outputs": [
    {
     "data": {
      "text/plain": [
       "2015"
      ]
     },
     "execution_count": 56,
     "metadata": {},
     "output_type": "execute_result"
    }
   ],
   "source": [
    "iip_berg.times[0].year"
   ]
  },
  {
   "cell_type": "code",
   "execution_count": 57,
   "metadata": {
    "collapsed": true
   },
   "outputs": [],
   "source": [
    "def get_ocean_fnames(date_0, date_n):\n",
    "    path = '/media/evankielley/hd2/ECMWF/ocean/'\n",
    "    fnames = ['{}{}{}.nc'.format(date_0.year, date_0.month, date_0.day)]"
   ]
  },
  {
   "cell_type": "code",
   "execution_count": 59,
   "metadata": {
    "collapsed": false
   },
   "outputs": [
    {
     "data": {
      "text/plain": [
       "[0.0, 6.8]"
      ]
     },
     "execution_count": 59,
     "metadata": {},
     "output_type": "execute_result"
    }
   ],
   "source": [
    "iip_berg.times_ref0"
   ]
  },
  {
   "cell_type": "markdown",
   "metadata": {},
   "source": [
    "### Ocean"
   ]
  },
  {
   "cell_type": "code",
   "execution_count": 98,
   "metadata": {
    "collapsed": true
   },
   "outputs": [],
   "source": [
    "ec_ocean_data = nc.Dataset('/media/evankielley/hd2/ECMWF/ocean/2015/20150623.nc')"
   ]
  },
  {
   "cell_type": "code",
   "execution_count": 100,
   "metadata": {
    "collapsed": false
   },
   "outputs": [],
   "source": [
    "ec_ocean_times = nc.num2date(ec_ocean_data.variables['time'][:], \n",
    "                             ec_ocean_data.variables['time'].units, \n",
    "                             ec_ocean_data.variables['time'].calendar)"
   ]
  },
  {
   "cell_type": "code",
   "execution_count": 101,
   "metadata": {
    "collapsed": false
   },
   "outputs": [
    {
     "data": {
      "text/plain": [
       "array([datetime.datetime(2015, 6, 23, 0, 30),\n",
       "       datetime.datetime(2015, 6, 23, 1, 30),\n",
       "       datetime.datetime(2015, 6, 23, 2, 30),\n",
       "       datetime.datetime(2015, 6, 23, 3, 30),\n",
       "       datetime.datetime(2015, 6, 23, 4, 30),\n",
       "       datetime.datetime(2015, 6, 23, 5, 30),\n",
       "       datetime.datetime(2015, 6, 23, 6, 30),\n",
       "       datetime.datetime(2015, 6, 23, 7, 30),\n",
       "       datetime.datetime(2015, 6, 23, 8, 30),\n",
       "       datetime.datetime(2015, 6, 23, 9, 30),\n",
       "       datetime.datetime(2015, 6, 23, 10, 30),\n",
       "       datetime.datetime(2015, 6, 23, 11, 30),\n",
       "       datetime.datetime(2015, 6, 23, 12, 30),\n",
       "       datetime.datetime(2015, 6, 23, 13, 30),\n",
       "       datetime.datetime(2015, 6, 23, 14, 30),\n",
       "       datetime.datetime(2015, 6, 23, 15, 30),\n",
       "       datetime.datetime(2015, 6, 23, 16, 30),\n",
       "       datetime.datetime(2015, 6, 23, 17, 30),\n",
       "       datetime.datetime(2015, 6, 23, 18, 30),\n",
       "       datetime.datetime(2015, 6, 23, 19, 30),\n",
       "       datetime.datetime(2015, 6, 23, 20, 30),\n",
       "       datetime.datetime(2015, 6, 23, 21, 30),\n",
       "       datetime.datetime(2015, 6, 23, 22, 30),\n",
       "       datetime.datetime(2015, 6, 23, 23, 30)], dtype=object)"
      ]
     },
     "execution_count": 101,
     "metadata": {},
     "output_type": "execute_result"
    }
   ],
   "source": [
    "ec_ocean_times"
   ]
  },
  {
   "cell_type": "code",
   "execution_count": 116,
   "metadata": {
    "collapsed": true
   },
   "outputs": [],
   "source": [
    "ec_ocean_times_ref0 = np.arange(0.5, 23.5+1, 1)"
   ]
  },
  {
   "cell_type": "code",
   "execution_count": 117,
   "metadata": {
    "collapsed": false
   },
   "outputs": [
    {
     "data": {
      "text/plain": [
       "array([  0.5,   1.5,   2.5,   3.5,   4.5,   5.5,   6.5,   7.5,   8.5,\n",
       "         9.5,  10.5,  11.5,  12.5,  13.5,  14.5,  15.5,  16.5,  17.5,\n",
       "        18.5,  19.5,  20.5,  21.5,  22.5,  23.5])"
      ]
     },
     "execution_count": 117,
     "metadata": {},
     "output_type": "execute_result"
    }
   ],
   "source": [
    "ec_ocean_times_ref0"
   ]
  },
  {
   "cell_type": "code",
   "execution_count": 118,
   "metadata": {
    "collapsed": false
   },
   "outputs": [
    {
     "data": {
      "text/plain": [
       "True"
      ]
     },
     "execution_count": 118,
     "metadata": {},
     "output_type": "execute_result"
    }
   ],
   "source": [
    "len(ec_ocean_times) == len(ec_ocean_times_ref0)"
   ]
  },
  {
   "cell_type": "code",
   "execution_count": 120,
   "metadata": {
    "collapsed": true
   },
   "outputs": [],
   "source": [
    "ec_ocean_lats = ec_ocean_data.variables['latitude'][:]\n",
    "ec_ocean_lons = ec_ocean_data.variables['longitude'][:]"
   ]
  },
  {
   "cell_type": "code",
   "execution_count": 132,
   "metadata": {
    "collapsed": false
   },
   "outputs": [
    {
     "data": {
      "text/plain": [
       "OrderedDict([('longitude', <class 'netCDF4._netCDF4.Variable'>\n",
       "              float32 longitude(longitude)\n",
       "                  standard_name: longitude\n",
       "                  long_name: longitude\n",
       "                  units: degrees_east\n",
       "                  axis: X\n",
       "              unlimited dimensions: \n",
       "              current shape = (301,)\n",
       "              filling off), ('latitude', <class 'netCDF4._netCDF4.Variable'>\n",
       "              float32 latitude(latitude)\n",
       "                  standard_name: latitude\n",
       "                  long_name: latitude\n",
       "                  units: degrees_north\n",
       "                  axis: Y\n",
       "              unlimited dimensions: \n",
       "              current shape = (301,)\n",
       "              filling off), ('depth', <class 'netCDF4._netCDF4.Variable'>\n",
       "              float32 depth(depth)\n",
       "                  standard_name: depth\n",
       "                  long_name: Depth\n",
       "                  units: m\n",
       "                  positive: down\n",
       "                  axis: Z\n",
       "                  unit_long: Meters\n",
       "                  _CoordinateAxisType: Height\n",
       "                  _CoordinateZisPositive: down\n",
       "              unlimited dimensions: \n",
       "              current shape = (1,)\n",
       "              filling off), ('time', <class 'netCDF4._netCDF4.Variable'>\n",
       "              float32 time(time)\n",
       "                  standard_name: time\n",
       "                  long_name: Time (hours since 1950-01-01)\n",
       "                  units: hours since 1950-01-01 00:00:00\n",
       "                  calendar: standard\n",
       "                  axis: T\n",
       "              unlimited dimensions: time\n",
       "              current shape = (24,)\n",
       "              filling off), ('thetao', <class 'netCDF4._netCDF4.Variable'>\n",
       "              int16 thetao(time, depth, latitude, longitude)\n",
       "                  standard_name: sea_water_potential_temperature\n",
       "                  long_name: Temperature\n",
       "                  units: degrees_C\n",
       "                  add_offset: 21.0\n",
       "                  scale_factor: 0.000732444\n",
       "                  _FillValue: -32767\n",
       "                  missing_value: -32767\n",
       "                  _CoordinateAxes: time depth latitude longitude \n",
       "                  unit_long: Degrees Celsius\n",
       "                  cell_methods: area: mean\n",
       "              unlimited dimensions: time\n",
       "              current shape = (24, 1, 301, 301)\n",
       "              filling off), ('uo', <class 'netCDF4._netCDF4.Variable'>\n",
       "              int16 uo(time, depth, latitude, longitude)\n",
       "                  standard_name: eastward_sea_water_velocity\n",
       "                  long_name: Eastward velocity\n",
       "                  units: m s-1\n",
       "                  add_offset: 0.0\n",
       "                  scale_factor: 0.00061037\n",
       "                  _FillValue: -32767\n",
       "                  missing_value: -32767\n",
       "                  _CoordinateAxes: time depth latitude longitude \n",
       "                  unit_long: Meters per second\n",
       "                  cell_methods: area: mean\n",
       "              unlimited dimensions: time\n",
       "              current shape = (24, 1, 301, 301)\n",
       "              filling off), ('vo', <class 'netCDF4._netCDF4.Variable'>\n",
       "              int16 vo(time, depth, latitude, longitude)\n",
       "                  standard_name: northward_sea_water_velocity\n",
       "                  long_name: Northward velocity\n",
       "                  units: m s-1\n",
       "                  add_offset: 0.0\n",
       "                  scale_factor: 0.00061037\n",
       "                  _FillValue: -32767\n",
       "                  missing_value: -32767\n",
       "                  _CoordinateAxes: time depth latitude longitude \n",
       "                  unit_long: Meters per second\n",
       "                  cell_methods: area: mean\n",
       "              unlimited dimensions: time\n",
       "              current shape = (24, 1, 301, 301)\n",
       "              filling off)])"
      ]
     },
     "execution_count": 132,
     "metadata": {},
     "output_type": "execute_result"
    }
   ],
   "source": [
    "ec_ocean_data.variables"
   ]
  },
  {
   "cell_type": "code",
   "execution_count": 133,
   "metadata": {
    "collapsed": true
   },
   "outputs": [],
   "source": [
    "ec_water_u = np.asarray(ec_ocean_data.variables['uo'][:,0,:,:])\n",
    "ec_water_v = np.asarray(ec_ocean_data.variables['vo'][:,0,:,:])"
   ]
  },
  {
   "cell_type": "code",
   "execution_count": 134,
   "metadata": {
    "collapsed": true
   },
   "outputs": [],
   "source": [
    "ec_temp = np.asarray(ec_ocean_data.variables['thetao'][:,0,:,:])"
   ]
  },
  {
   "cell_type": "markdown",
   "metadata": {},
   "source": [
    "### Atmosphere"
   ]
  },
  {
   "cell_type": "code",
   "execution_count": 144,
   "metadata": {
    "collapsed": false
   },
   "outputs": [],
   "source": [
    "ec_atm_data = nc.MFDataset(['/media/evankielley/hd2/ECMWF/atm/2015/sub2015062300.nc',\n",
    "                            '/media/evankielley/hd2/ECMWF/atm/2015/sub2015062306.nc',\n",
    "                            '/media/evankielley/hd2/ECMWF/atm/2015/sub2015062312.nc',\n",
    "                            '/media/evankielley/hd2/ECMWF/atm/2015/sub2015062318.nc',\n",
    "                            '/media/evankielley/hd2/ECMWF/atm/2015/sub2015062400.nc'])"
   ]
  },
  {
   "cell_type": "code",
   "execution_count": 145,
   "metadata": {
    "collapsed": false
   },
   "outputs": [],
   "source": [
    "ec_atm_times = nc.num2date(ec_atm_data.variables['time'][:], \n",
    "                             ec_atm_data.variables['time'].units, \n",
    "                             ec_atm_data.variables['time'].calendar)"
   ]
  },
  {
   "cell_type": "code",
   "execution_count": 146,
   "metadata": {
    "collapsed": false
   },
   "outputs": [
    {
     "data": {
      "text/plain": [
       "array([datetime.datetime(2015, 6, 23, 0, 0),\n",
       "       datetime.datetime(2015, 6, 23, 6, 0),\n",
       "       datetime.datetime(2015, 6, 23, 12, 0),\n",
       "       datetime.datetime(2015, 6, 23, 18, 0),\n",
       "       datetime.datetime(2015, 6, 24, 0, 0)], dtype=object)"
      ]
     },
     "execution_count": 146,
     "metadata": {},
     "output_type": "execute_result"
    }
   ],
   "source": [
    "ec_atm_times"
   ]
  },
  {
   "cell_type": "code",
   "execution_count": 147,
   "metadata": {
    "collapsed": true
   },
   "outputs": [],
   "source": [
    "ec_atm_times_ref0 = np.arange(0, 24+6, 6)"
   ]
  },
  {
   "cell_type": "code",
   "execution_count": 148,
   "metadata": {
    "collapsed": false
   },
   "outputs": [
    {
     "data": {
      "text/plain": [
       "array([ 0,  6, 12, 18, 24])"
      ]
     },
     "execution_count": 148,
     "metadata": {},
     "output_type": "execute_result"
    }
   ],
   "source": [
    "ec_atm_times_ref0"
   ]
  },
  {
   "cell_type": "code",
   "execution_count": 149,
   "metadata": {
    "collapsed": false
   },
   "outputs": [
    {
     "data": {
      "text/plain": [
       "True"
      ]
     },
     "execution_count": 149,
     "metadata": {},
     "output_type": "execute_result"
    }
   ],
   "source": [
    "len(ec_atm_times) == len(ec_atm_times_ref0)"
   ]
  },
  {
   "cell_type": "code",
   "execution_count": 150,
   "metadata": {
    "collapsed": true
   },
   "outputs": [],
   "source": [
    "ec_atm_lats = ec_atm_data.variables['latitude'][:]\n",
    "ec_atm_lons = ec_atm_data.variables['longitude'][:]"
   ]
  },
  {
   "cell_type": "code",
   "execution_count": 151,
   "metadata": {
    "collapsed": false
   },
   "outputs": [
    {
     "data": {
      "text/plain": [
       "OrderedDict([('longitude', <class 'netCDF4._netCDF4.Variable'>\n",
       "              float32 longitude(longitude)\n",
       "                  standard_name: longitude\n",
       "                  long_name: longitude\n",
       "                  units: degrees_east\n",
       "                  axis: X\n",
       "              unlimited dimensions: \n",
       "              current shape = (80,)\n",
       "              filling off), ('latitude', <class 'netCDF4._netCDF4.Variable'>\n",
       "              float32 latitude(latitude)\n",
       "                  standard_name: latitude\n",
       "                  long_name: latitude\n",
       "                  units: degrees_north\n",
       "                  axis: Y\n",
       "              unlimited dimensions: \n",
       "              current shape = (80,)\n",
       "              filling off), ('depth', <class 'netCDF4._netCDF4.Variable'>\n",
       "              float32 depth(depth)\n",
       "                  standard_name: depth\n",
       "                  long_name: depth\n",
       "                  units: m\n",
       "                  positive: up\n",
       "                  axis: Z\n",
       "              unlimited dimensions: \n",
       "              current shape = (1,)\n",
       "              filling off), ('time', <class 'netCDF4._netCDF4._Variable'>\n",
       "              float64 time('time',)\n",
       "                  standard_name: time\n",
       "                  long_name: time\n",
       "                  units: hours since 1900-01-01 00:00:00.0 00:00\n",
       "                  calendar: standard\n",
       "                  axis: T\n",
       "              unlimited dimensions = ('time',)\n",
       "              current size = (5,)), ('wind_speed',\n",
       "              <class 'netCDF4._netCDF4._Variable'>\n",
       "              int16 wind_speed('time', 'depth', 'latitude', 'longitude')\n",
       "                  standard_name: wind_speed\n",
       "                  long_name: wind speed\n",
       "                  units: m/s\n",
       "                  add_offset: 0.0\n",
       "                  scale_factor: 0.01\n",
       "                  _FillValue: -32768\n",
       "                  missing_value: -32768\n",
       "              unlimited dimensions = ('time',)\n",
       "              current size = (5, 1, 80, 80)), ('eastward_wind',\n",
       "              <class 'netCDF4._netCDF4._Variable'>\n",
       "              int16 eastward_wind('time', 'depth', 'latitude', 'longitude')\n",
       "                  standard_name: eastward_wind\n",
       "                  long_name: eastward wind speed\n",
       "                  units: m/s\n",
       "                  add_offset: 0.0\n",
       "                  scale_factor: 0.01\n",
       "                  _FillValue: -32768\n",
       "                  missing_value: -32768\n",
       "              unlimited dimensions = ('time',)\n",
       "              current size = (5, 1, 80, 80)), ('northward_wind',\n",
       "              <class 'netCDF4._netCDF4._Variable'>\n",
       "              int16 northward_wind('time', 'depth', 'latitude', 'longitude')\n",
       "                  standard_name: northward_wind\n",
       "                  long_name: northward wind speed\n",
       "                  units: m/s\n",
       "                  add_offset: 0.0\n",
       "                  scale_factor: 0.01\n",
       "                  _FillValue: -32768\n",
       "                  missing_value: -32768\n",
       "              unlimited dimensions = ('time',)\n",
       "              current size = (5, 1, 80, 80)), ('wind_stress',\n",
       "              <class 'netCDF4._netCDF4._Variable'>\n",
       "              int16 wind_stress('time', 'depth', 'latitude', 'longitude')\n",
       "                  long_name: wind stress\n",
       "                  units: Pa\n",
       "                  add_offset: 0.0\n",
       "                  scale_factor: 0.0001\n",
       "                  _FillValue: -32768\n",
       "                  missing_value: -32768\n",
       "              unlimited dimensions = ('time',)\n",
       "              current size = (5, 1, 80, 80)), ('surface_downward_eastward_stress',\n",
       "              <class 'netCDF4._netCDF4._Variable'>\n",
       "              int16 surface_downward_eastward_stress('time', 'depth', 'latitude', 'longitude')\n",
       "                  standard_name: surface_downward_eastward_stress\n",
       "                  long_name: eastward wind stress\n",
       "                  units: Pa\n",
       "                  add_offset: 0.0\n",
       "                  scale_factor: 0.0001\n",
       "                  _FillValue: -32768\n",
       "                  missing_value: -32768\n",
       "              unlimited dimensions = ('time',)\n",
       "              current size = (5, 1, 80, 80)), ('surface_downward_northward_stress',\n",
       "              <class 'netCDF4._netCDF4._Variable'>\n",
       "              int16 surface_downward_northward_stress('time', 'depth', 'latitude', 'longitude')\n",
       "                  standard_name: surface_downward_northward_stress\n",
       "                  long_name: northward wind stress\n",
       "                  units: Pa\n",
       "                  add_offset: 0.0\n",
       "                  scale_factor: 0.0001\n",
       "                  _FillValue: -32768\n",
       "                  missing_value: -32768\n",
       "              unlimited dimensions = ('time',)\n",
       "              current size = (5, 1, 80, 80)), ('land_ice_mask',\n",
       "              <class 'netCDF4._netCDF4._Variable'>\n",
       "              int8 land_ice_mask('time', 'depth', 'latitude', 'longitude')\n",
       "                  long_name: flag - 0:ocean - 1:earth/ice\n",
       "                  units: 1\n",
       "                  _FillValue: -128\n",
       "                  missing_value: -128\n",
       "              unlimited dimensions = ('time',)\n",
       "              current size = (5, 1, 80, 80)), ('wind_speed_rms',\n",
       "              <class 'netCDF4._netCDF4._Variable'>\n",
       "              int8 wind_speed_rms('time', 'depth', 'latitude', 'longitude')\n",
       "                  long_name: wind speed root mean square\n",
       "                  units: m/s\n",
       "                  add_offset: 0.0\n",
       "                  scale_factor: 0.1\n",
       "                  _FillValue: -128\n",
       "                  missing_value: -128\n",
       "              unlimited dimensions = ('time',)\n",
       "              current size = (5, 1, 80, 80)), ('eastward_wind_rms',\n",
       "              <class 'netCDF4._netCDF4._Variable'>\n",
       "              int8 eastward_wind_rms('time', 'depth', 'latitude', 'longitude')\n",
       "                  long_name: eastward wind speed root mean square\n",
       "                  units: m/s\n",
       "                  add_offset: 0.0\n",
       "                  scale_factor: 0.1\n",
       "                  _FillValue: -128\n",
       "                  missing_value: -128\n",
       "              unlimited dimensions = ('time',)\n",
       "              current size = (5, 1, 80, 80)), ('northward_wind_rms',\n",
       "              <class 'netCDF4._netCDF4._Variable'>\n",
       "              int8 northward_wind_rms('time', 'depth', 'latitude', 'longitude')\n",
       "                  long_name: northward wind speed root mean square\n",
       "                  units: m/s\n",
       "                  add_offset: 0.0\n",
       "                  scale_factor: 0.1\n",
       "                  _FillValue: -128\n",
       "                  missing_value: -128\n",
       "              unlimited dimensions = ('time',)\n",
       "              current size = (5, 1, 80, 80)), ('sampling_length',\n",
       "              <class 'netCDF4._netCDF4._Variable'>\n",
       "              int8 sampling_length('time', 'depth', 'latitude', 'longitude')\n",
       "                  long_name: sampling length\n",
       "                  units: 1\n",
       "                  _FillValue: -128\n",
       "                  missing_value: -128\n",
       "              unlimited dimensions = ('time',)\n",
       "              current size = (5, 1, 80, 80))])"
      ]
     },
     "execution_count": 151,
     "metadata": {},
     "output_type": "execute_result"
    }
   ],
   "source": [
    "ec_atm_data.variables"
   ]
  },
  {
   "cell_type": "code",
   "execution_count": 152,
   "metadata": {
    "collapsed": true
   },
   "outputs": [],
   "source": [
    "ec_wind_u = np.asarray(ec_atm_data.variables['eastward_wind'][:,0,:,:])\n",
    "ec_wind_v = np.asarray(ec_atm_data.variables['northward_wind'][:,0,:,:])"
   ]
  },
  {
   "cell_type": "markdown",
   "metadata": {},
   "source": [
    "## Make interpolants"
   ]
  },
  {
   "cell_type": "code",
   "execution_count": 138,
   "metadata": {
    "collapsed": false
   },
   "outputs": [],
   "source": [
    "water_u_interp = interp.RegularGridInterpolator((ec_ocean_times_ref0, ec_ocean_lats, ec_ocean_lons), ec_water_u)\n",
    "water_v_interp = interp.RegularGridInterpolator((ec_ocean_times_ref0, ec_ocean_lats, ec_ocean_lons), ec_water_v)\n",
    "water_temp_interp = interp.RegularGridInterpolator((ec_ocean_times_ref0, ec_ocean_lats, ec_ocean_lons), ec_temp)"
   ]
  },
  {
   "cell_type": "code",
   "execution_count": 153,
   "metadata": {
    "collapsed": true
   },
   "outputs": [],
   "source": [
    "wind_u_interp = interp.RegularGridInterpolator((ec_atm_times_ref0, ec_atm_lats, ec_atm_lons), ec_wind_u)\n",
    "wind_v_interp = interp.RegularGridInterpolator((ec_atm_times_ref0, ec_atm_lats, ec_atm_lons), ec_wind_v)"
   ]
  },
  {
   "cell_type": "code",
   "execution_count": null,
   "metadata": {
    "collapsed": true
   },
   "outputs": [],
   "source": []
  }
 ],
 "metadata": {
  "kernelspec": {
   "display_name": "Python 3",
   "language": "python",
   "name": "python3"
  },
  "language_info": {
   "codemirror_mode": {
    "name": "ipython",
    "version": 3
   },
   "file_extension": ".py",
   "mimetype": "text/x-python",
   "name": "python",
   "nbconvert_exporter": "python",
   "pygments_lexer": "ipython3",
   "version": "3.5.2"
  }
 },
 "nbformat": 4,
 "nbformat_minor": 2
}
