{
 "cells": [
  {
   "cell_type": "markdown",
   "metadata": {},
   "source": [
    "# SEAROSE ICE INCURSION INCIDENT"
   ]
  },
  {
   "cell_type": "code",
   "execution_count": 1,
   "metadata": {},
   "outputs": [],
   "source": [
    "import netCDF4 as nc\n",
    "import numpy as np\n",
    "import xarray as xr"
   ]
  },
  {
   "cell_type": "markdown",
   "metadata": {},
   "source": [
    "# CONSTANTS"
   ]
  },
  {
   "cell_type": "code",
   "execution_count": 2,
   "metadata": {},
   "outputs": [],
   "source": [
    "from icedef.constants import *"
   ]
  },
  {
   "cell_type": "markdown",
   "metadata": {},
   "source": [
    "# SEAROSE"
   ]
  },
  {
   "cell_type": "code",
   "execution_count": 3,
   "metadata": {},
   "outputs": [],
   "source": [
    "searose_latitude = 46.78851\n",
    "searose_longitude = -48.01405"
   ]
  },
  {
   "cell_type": "markdown",
   "metadata": {},
   "source": [
    "# ICEBERG"
   ]
  },
  {
   "cell_type": "code",
   "execution_count": 4,
   "metadata": {},
   "outputs": [],
   "source": [
    "from icedef.iceberg import quickstart, dx_to_dlon, dy_to_dlat"
   ]
  },
  {
   "cell_type": "code",
   "execution_count": 5,
   "metadata": {},
   "outputs": [],
   "source": [
    "# At 0145 on March 29, 2017, berg 011 was 4.2 NM away from SeaRose at a bearing of 346 deg T\n",
    "iceberg_time = np.datetime64('2017-03-29T01:45')\n",
    "iceberg_latitude = 46.85639904\n",
    "iceberg_longitude = -48.03872578\n",
    "iceberg = quickstart(iceberg_time, (iceberg_latitude, iceberg_longitude))"
   ]
  },
  {
   "cell_type": "code",
   "execution_count": 28,
   "metadata": {},
   "outputs": [],
   "source": [
    "start_time = iceberg_time\n",
    "end_time = np.datetime64(iceberg_time + np.timedelta64(1, 'D'))\n",
    "start_latitude = iceberg_latitude\n",
    "start_longitude = iceberg_longitude"
   ]
  },
  {
   "cell_type": "markdown",
   "metadata": {},
   "source": [
    "# METOCEAN"
   ]
  },
  {
   "cell_type": "code",
   "execution_count": 7,
   "metadata": {},
   "outputs": [],
   "source": [
    "from icedef import metocean"
   ]
  },
  {
   "cell_type": "code",
   "execution_count": 19,
   "metadata": {},
   "outputs": [],
   "source": [
    "ocean = metocean.ECMWFOcean((start_time, end_time))\n",
    "atm = metocean.NARRAtmosphere((start_time, end_time))"
   ]
  },
  {
   "cell_type": "markdown",
   "metadata": {},
   "source": [
    "# DRIFT"
   ]
  },
  {
   "cell_type": "code",
   "execution_count": 20,
   "metadata": {},
   "outputs": [],
   "source": [
    "from icedef import drift"
   ]
  },
  {
   "cell_type": "code",
   "execution_count": 27,
   "metadata": {},
   "outputs": [],
   "source": [
    "dt_hours = 0.1\n",
    "dt_seconds = dt_hours*3600\n",
    "dt = np.timedelta64(int(dt_seconds), 's')\n",
    "run_length = np.timedelta64(end_time - start_time, 's')\n",
    "nt = run_length / dt"
   ]
  },
  {
   "cell_type": "code",
   "execution_count": 23,
   "metadata": {},
   "outputs": [],
   "source": [
    "iceberg = quickstart(start_time, (start_latitude, start_longitude))\n",
    "\n",
    "iceberg_constants = {\n",
    "    'sail_area': iceberg.geometry.sail_area,\n",
    "    'keel_area': iceberg.geometry.keel_area,\n",
    "    'top_area': iceberg.geometry.waterline_length**2,\n",
    "    'bottom_area': 0,\n",
    "    'mass': iceberg.geometry.mass,\n",
    "    'latitude': iceberg.latitude\n",
    "}\n",
    "\n",
    "point = (iceberg.time, iceberg.latitude, iceberg.longitude)\n",
    "\n",
    "current_velocity = (metocean.interpolate(point, ocean.eastward_current_velocities),\n",
    "                    metocean.interpolate(point, ocean.northward_current_velocities))\n",
    "\n",
    "wind_velocity = (metocean.interpolate(point, atm.eastward_wind_velocities),\n",
    "                 metocean.interpolate(point, atm.northward_wind_velocities))\n",
    "\n",
    "for t in range(int(nt)):\n",
    "    \n",
    "    ax, ay = drift.newtonian_drift((iceberg.eastward_velocity, iceberg.northward_velocity), \n",
    "                             current_velocity, wind_velocity, \n",
    "                             iceberg_constants)\n",
    "    \n",
    "    iceberg.time += dt\n",
    "    iceberg.eastward_velocity += ax * dt_seconds\n",
    "    iceberg.northward_velocity += ay * dt_seconds\n",
    "    iceberg.latitude += dy_to_dlat(iceberg.northward_velocity * dt_seconds)\n",
    "    iceberg.longitude += dx_to_dlon(iceberg.eastward_velocity * dt_seconds, iceberg.latitude)\n",
    "    \n",
    "    point = (iceberg.time, iceberg.latitude, iceberg.longitude)\n",
    "    \n",
    "    current_velocity = (metocean.interpolate(point, ocean.eastward_current_velocities),\n",
    "                        metocean.interpolate(point, ocean.northward_current_velocities))\n",
    "\n",
    "    wind_velocity = (metocean.interpolate(point, atm.eastward_wind_velocities),\n",
    "                     metocean.interpolate(point, atm.northward_wind_velocities))\n",
    "    \n",
    "    iceberg_constants['latitude'] = iceberg.latitude\n",
    "    iceberg.update_history()"
   ]
  },
  {
   "cell_type": "markdown",
   "metadata": {},
   "source": [
    "# PLOT"
   ]
  },
  {
   "cell_type": "code",
   "execution_count": 24,
   "metadata": {},
   "outputs": [],
   "source": [
    "import matplotlib.pyplot as plt\n",
    "%matplotlib inline"
   ]
  },
  {
   "cell_type": "code",
   "execution_count": 25,
   "metadata": {},
   "outputs": [
    {
     "data": {
      "image/png": "[encoded data removed]",
      "text/plain": [
       "<Figure size 432x288 with 1 Axes>"
      ]
     },
     "metadata": {},
     "output_type": "display_data"
    }
   ],
   "source": [
    "plt.scatter(iceberg.history['longitude'], iceberg.history['latitude'], \n",
    "            s=2, label='iceberg')\n",
    "plt.scatter(searose_longitude, searose_latitude, marker='X', c='black', label='searose')\n",
    "plt.legend()\n",
    "plt.xlabel('Longitude')\n",
    "plt.ylabel('Latitude')\n",
    "plt.title('SeaRose Ice Incursion Incident, 29 March, 2017')\n",
    "plt.show()"
   ]
  },
  {
   "cell_type": "code",
   "execution_count": null,
   "metadata": {},
   "outputs": [],
   "source": []
  }
 ],
 "metadata": {
  "kernelspec": {
   "display_name": "Python 3",
   "language": "python",
   "name": "python3"
  },
  "language_info": {
   "codemirror_mode": {
    "name": "ipython",
    "version": 3
   },
   "file_extension": ".py",
   "mimetype": "text/x-python",
   "name": "python",
   "nbconvert_exporter": "python",
   "pygments_lexer": "ipython3",
   "version": "3.6.5"
  }
 },
 "nbformat": 4,
 "nbformat_minor": 2
}
