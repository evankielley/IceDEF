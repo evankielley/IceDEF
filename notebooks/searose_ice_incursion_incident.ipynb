{
 "cells": [
  {
   "cell_type": "markdown",
   "metadata": {},
   "source": [
    "# SEAROSE ICE INCURSION INCIDENT"
   ]
  },
  {
   "cell_type": "code",
   "execution_count": 1,
   "metadata": {},
   "outputs": [],
   "source": [
    "import netCDF4 as nc\n",
    "import numpy as np\n",
    "import xarray as xr\n",
    "#from scipy.interpolate import RegularGridInterpolator as RGI"
   ]
  },
  {
   "cell_type": "markdown",
   "metadata": {},
   "source": [
    "# CONSTANTS"
   ]
  },
  {
   "cell_type": "code",
   "execution_count": 2,
   "metadata": {},
   "outputs": [],
   "source": [
    "from icedef.constants import *"
   ]
  },
  {
   "cell_type": "markdown",
   "metadata": {},
   "source": [
    "# OCEAN DATA"
   ]
  },
  {
   "cell_type": "raw",
   "metadata": {},
   "source": [
    "ocean_ds = nc.Dataset('/home/evankielley/Data/Ocean/ECMWF/global-analysis-forecast-phy-001-024-hourly-t-u-v-ssh_1534612034498.nc')"
   ]
  },
  {
   "cell_type": "raw",
   "metadata": {},
   "source": [
    "eastward_current_velocities = ocean_ds.variables['uo'][:, 0, :, :]\n",
    "northward_current_velocities = ocean_ds.variables['vo'][:, 0, :, :]\n",
    "ocean_times = ocean_ds.variables['time'][:]  # units of hours since 1950-01-01\n",
    "ocean_latitudes = ocean_ds.variables['latitude'][:]\n",
    "ocean_longitudes = ocean_ds.variables['longitude'][:]"
   ]
  },
  {
   "cell_type": "raw",
   "metadata": {},
   "source": [
    "eastward_current_velocities_RGI = RGI((ocean_times, ocean_latitudes, ocean_longitudes),\n",
    "                                     eastward_current_velocities)\n",
    "northward_current_velocities_RGI = RGI((ocean_times, ocean_latitudes, ocean_longitudes),\n",
    "                                     northward_current_velocities)"
   ]
  },
  {
   "cell_type": "code",
   "execution_count": 3,
   "metadata": {},
   "outputs": [],
   "source": [
    "ocean_file = '/home/evankielley/Data/Ocean/ECMWF/global-analysis-forecast-phy-001-024-hourly-t-u-v-ssh_1534612034498.nc'\n",
    "ocean_dataset = xr.open_dataset(ocean_file)\n",
    "eastward_current_velocities = xr.DataArray(\n",
    "    data=ocean_dataset.uo.values[:, 0, :, :],\n",
    "    coords=[('time', ocean_dataset.time.values),\n",
    "            ('latitude', ocean_dataset.latitude.values),\n",
    "            ('longitude', ocean_dataset.longitude.values)],\n",
    "    attrs=ocean_dataset.uo.attrs)\n",
    "northward_current_velocities = xr.DataArray(\n",
    "    data=ocean_dataset.vo.values[:, 0, :, :],\n",
    "    coords=[('time', ocean_dataset.time.values),\n",
    "            ('latitude', ocean_dataset.latitude.values),\n",
    "            ('longitude', ocean_dataset.longitude.values)],\n",
    "    attrs=ocean_dataset.vo.attrs)"
   ]
  },
  {
   "cell_type": "markdown",
   "metadata": {},
   "source": [
    "# ATMOSPHERIC DATA"
   ]
  },
  {
   "cell_type": "raw",
   "metadata": {},
   "source": [
    "atm_ds = nc.MFDataset(['/home/evankielley/Data/Atm/NARR/2016/20160328.nc',\n",
    "                   '/home/evankielley/Data/Atm/NARR/2016/20160329.nc',\n",
    "                   '/home/evankielley/Data/Atm/NARR/2016/20160330.nc'])"
   ]
  },
  {
   "cell_type": "raw",
   "metadata": {},
   "source": [
    "eastward_wind_velocities = atm_ds.variables['uwnd']\n",
    "northward_wind_velocities = atm_ds.variables['vwnd']\n",
    "atm_times = atm_ds.variables['time'][:]\n",
    "atm_latitudes = atm_ds.variables['lat'][:]\n",
    "atm_longitudes = atm_ds.variables['lon'][:]"
   ]
  },
  {
   "cell_type": "raw",
   "metadata": {},
   "source": [
    "atm_longitudes = np.mod(atm_longitudes - 180, 360) - 180"
   ]
  },
  {
   "cell_type": "raw",
   "metadata": {},
   "source": [
    "eastward_wind_velocities_RGI = RGI((atm_times, atm_latitudes, atm_longitudes), \n",
    "                                  eastward_wind_velocities)\n",
    "northward_wind_velocities_RGI = RGI((atm_times, atm_latitudes, atm_longitudes), \n",
    "                                  northward_wind_velocities)"
   ]
  },
  {
   "cell_type": "code",
   "execution_count": 4,
   "metadata": {},
   "outputs": [],
   "source": [
    "atm_files = ['/home/evankielley/Data/Atm/NARR/2017/20170328.nc',\n",
    "                   '/home/evankielley/Data/Atm/NARR/2017/20170329.nc',\n",
    "                   '/home/evankielley/Data/Atm/NARR/2017/20170330.nc']\n",
    "atm_dataset = xr.open_mfdataset(atm_files)\n",
    "atm_dataset['lon'] = np.mod(atm_dataset.lon - 180, 360) - 180\n",
    "eastward_wind_velocities = xr.DataArray(\n",
    "    data=atm_dataset.uwnd.values,\n",
    "    coords=[('time', atm_dataset.time.values),\n",
    "            ('latitude', atm_dataset.lat.values),\n",
    "            ('longitude', atm_dataset.lon.values)],\n",
    "    attrs=atm_dataset.uwnd.attrs)\n",
    "northward_wind_velocities = xr.DataArray(\n",
    "    data=atm_dataset.vwnd.values,\n",
    "    coords=[('time', atm_dataset.time.values),\n",
    "            ('latitude', atm_dataset.lat.values),\n",
    "            ('longitude', atm_dataset.lon.values)],\n",
    "    attrs=atm_dataset.vwnd.attrs)"
   ]
  },
  {
   "cell_type": "markdown",
   "metadata": {},
   "source": [
    "# INTERPOLATION"
   ]
  },
  {
   "cell_type": "code",
   "execution_count": 5,
   "metadata": {},
   "outputs": [],
   "source": [
    "def interpolate(point, data):\n",
    "    def compute_interpolation(x0, xi, dx, data):\n",
    "        indx = (xi - x0) / dx\n",
    "        indx_floor = int(np.floor(indx))\n",
    "        dindx = indx - indx_floor\n",
    "        submatrix = data[indx_floor: indx_floor + 2, ...]\n",
    "        data = (1 - dindx) * submatrix[0, ...] + dindx * submatrix[1, ...]\n",
    "        return data\n",
    "\n",
    "    assert data.dims == ('time', 'latitude', 'longitude')\n",
    "\n",
    "    # time\n",
    "    nptimes = data.time.values\n",
    "    times = (nptimes - nptimes[0]) / np.timedelta64(1, 's')\n",
    "    t0 = times[0]\n",
    "    tn = times[-1]\n",
    "    dt = np.mean(np.diff((times)))\n",
    "    ti = (point[0] - nptimes[0]) / np.timedelta64(1, 's')\n",
    "    assert t0 <= ti <= tn\n",
    "\n",
    "    # latitude\n",
    "    lats = data.latitude.values\n",
    "    lat0 = lats[0]\n",
    "    latn = lats[-1]\n",
    "    dlat = np.mean(np.diff(lats))\n",
    "    lati = point[1]\n",
    "    assert lat0 <= lati <= latn\n",
    "\n",
    "    # longitude\n",
    "    lons = data.longitude.values\n",
    "    lon0 = lons[0]\n",
    "    lonn = lons[-1]\n",
    "    dlon = np.mean(np.diff(lons))\n",
    "    loni = point[2]\n",
    "    assert lon0 <= loni <= lonn\n",
    "\n",
    "    # crunch value\n",
    "    data = data.values\n",
    "    data = compute_interpolation(t0, ti, dt, data)\n",
    "    data = compute_interpolation(lat0, lati, dlat, data)\n",
    "    data = compute_interpolation(lon0, loni, dlon, data)\n",
    "\n",
    "    return data"
   ]
  },
  {
   "cell_type": "markdown",
   "metadata": {},
   "source": [
    "# SEAROSE"
   ]
  },
  {
   "cell_type": "code",
   "execution_count": 6,
   "metadata": {},
   "outputs": [],
   "source": [
    "searose_latitude = 46.78851\n",
    "searose_longitude = -48.01405"
   ]
  },
  {
   "cell_type": "markdown",
   "metadata": {},
   "source": [
    "# ICEBERG"
   ]
  },
  {
   "cell_type": "code",
   "execution_count": 16,
   "metadata": {},
   "outputs": [],
   "source": [
    "from icedef.iceberg import quickstart, dx_to_dlon, dy_to_dlat"
   ]
  },
  {
   "cell_type": "code",
   "execution_count": 17,
   "metadata": {},
   "outputs": [],
   "source": [
    "# At 0145 on March 29, 2017, berg 011 was 4.2 NM away from SeaRose at a bearing of 346 deg T\n",
    "iceberg_time = np.datetime64('2017-03-29T01:45')\n",
    "iceberg_latitude = 46.85639904\n",
    "iceberg_longitude = -48.03872578\n",
    "iceberg = quickstart(iceberg_time, (iceberg_latitude, iceberg_longitude))"
   ]
  },
  {
   "cell_type": "markdown",
   "metadata": {},
   "source": [
    "# DRIFT"
   ]
  },
  {
   "cell_type": "code",
   "execution_count": 18,
   "metadata": {},
   "outputs": [],
   "source": [
    "from icedef import drift"
   ]
  },
  {
   "cell_type": "code",
   "execution_count": 19,
   "metadata": {},
   "outputs": [],
   "source": [
    "from datetime import datetime"
   ]
  },
  {
   "cell_type": "code",
   "execution_count": 20,
   "metadata": {},
   "outputs": [],
   "source": [
    "start_time = iceberg_time\n",
    "start_datetime = datetime.utcfromtimestamp(start_time.astype(int) * 1e-9)\n",
    "end_time = np.datetime64(iceberg_time + np.timedelta64(1, 'D'))\n",
    "end_datetime = datetime.utcfromtimestamp(end_time.astype(int) * 1e-9)\n",
    "start_latitude = iceberg_latitude\n",
    "start_longitude = iceberg_longitude\n",
    "\n",
    "dt_hours = 0.1\n",
    "dt_seconds = dt_hours*3600\n",
    "dt = np.timedelta64(int(dt_seconds), 's')\n",
    "run_length = np.timedelta64(end_time - start_time, 's')\n",
    "nt = run_length / dt"
   ]
  },
  {
   "cell_type": "code",
   "execution_count": 21,
   "metadata": {},
   "outputs": [
    {
     "data": {
      "text/plain": [
       "240.0"
      ]
     },
     "execution_count": 21,
     "metadata": {},
     "output_type": "execute_result"
    }
   ],
   "source": [
    "nt"
   ]
  },
  {
   "cell_type": "code",
   "execution_count": 22,
   "metadata": {},
   "outputs": [],
   "source": [
    "iceberg = quickstart(start_time, (start_latitude, start_longitude))\n",
    "\n",
    "iceberg_constants = {\n",
    "    'sail_area': iceberg.geometry.sail_area,\n",
    "    'keel_area': iceberg.geometry.keel_area,\n",
    "    'top_area': iceberg.geometry.waterline_length**2,\n",
    "    'bottom_area': 0,\n",
    "    'mass': iceberg.geometry.mass,\n",
    "    'latitude': iceberg.latitude\n",
    "}\n",
    "\n",
    "point = (iceberg.time, iceberg.latitude, iceberg.longitude)\n",
    "\n",
    "current_velocity = (interpolate(point, eastward_current_velocities),\n",
    "                    interpolate(point, northward_current_velocities))\n",
    "\n",
    "wind_velocity = (interpolate(point, eastward_wind_velocities),\n",
    "                 interpolate(point, northward_wind_velocities))\n",
    "\n",
    "for t in range(int(nt)):\n",
    "    \n",
    "    ax, ay = drift.newtonian_drift((iceberg.eastward_velocity, iceberg.northward_velocity), \n",
    "                             current_velocity, wind_velocity, \n",
    "                             iceberg_constants)\n",
    "    \n",
    "    iceberg.time += dt\n",
    "    iceberg.eastward_velocity += ax * dt_seconds\n",
    "    iceberg.northward_velocity += ay * dt_seconds\n",
    "    iceberg.latitude += dy_to_dlat(iceberg.northward_velocity * dt_seconds)\n",
    "    iceberg.longitude += dx_to_dlon(iceberg.eastward_velocity * dt_seconds, iceberg.latitude)\n",
    "    \n",
    "    point = (iceberg.time, iceberg.latitude, iceberg.longitude)\n",
    "    \n",
    "    current_velocity = (interpolate(point, eastward_current_velocities),\n",
    "                       interpolate(point, northward_current_velocities))\n",
    "    \n",
    "    wind_velocity = (interpolate(point, eastward_wind_velocities),\n",
    "                    interpolate(point, northward_wind_velocities))    \n",
    "       \n",
    "    iceberg_constants['latitude'] = iceberg.latitude\n",
    "    iceberg.update_history()"
   ]
  },
  {
   "cell_type": "markdown",
   "metadata": {},
   "source": [
    "# PLOT"
   ]
  },
  {
   "cell_type": "code",
   "execution_count": 42,
   "metadata": {},
   "outputs": [],
   "source": [
    "import matplotlib.pyplot as plt\n",
    "%matplotlib inline"
   ]
  },
  {
   "cell_type": "code",
   "execution_count": 44,
   "metadata": {},
   "outputs": [
    {
     "data": {
      "image/png": "[encoded data removed]",
      "text/plain": [
       "<Figure size 432x288 with 1 Axes>"
      ]
     },
     "metadata": {},
     "output_type": "display_data"
    }
   ],
   "source": [
    "plt.scatter(iceberg.history['longitude'], iceberg.history['latitude'], \n",
    "            s=2, label='iceberg')\n",
    "plt.scatter(searose_longitude, searose_latitude, marker='X', c='black', label='searose')\n",
    "plt.legend()\n",
    "plt.xlabel('Longitude')\n",
    "plt.ylabel('Latitude')\n",
    "plt.title('SeaRose Ice Incursion Incident, 29 March, 2017')\n",
    "plt.show()"
   ]
  },
  {
   "cell_type": "code",
   "execution_count": null,
   "metadata": {},
   "outputs": [],
   "source": []
  }
 ],
 "metadata": {
  "kernelspec": {
   "display_name": "Python 3",
   "language": "python",
   "name": "python3"
  },
  "language_info": {
   "codemirror_mode": {
    "name": "ipython",
    "version": 3
   },
   "file_extension": ".py",
   "mimetype": "text/x-python",
   "name": "python",
   "nbconvert_exporter": "python",
   "pygments_lexer": "ipython3",
   "version": "3.6.5"
  }
 },
 "nbformat": 4,
 "nbformat_minor": 2
}
