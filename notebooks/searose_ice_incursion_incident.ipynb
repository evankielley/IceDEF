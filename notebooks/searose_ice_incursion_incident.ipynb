{
 "cells": [
  {
   "cell_type": "markdown",
   "metadata": {},
   "source": [
    "# SEAROSE ICE INCURSION INCIDENT"
   ]
  },
  {
   "cell_type": "code",
   "execution_count": 1,
   "metadata": {},
   "outputs": [],
   "source": [
    "import netCDF4 as nc\n",
    "import numpy as np\n",
    "import xarray as xr"
   ]
  },
  {
   "cell_type": "markdown",
   "metadata": {},
   "source": [
    "# CONSTANTS"
   ]
  },
  {
   "cell_type": "code",
   "execution_count": 2,
   "metadata": {},
   "outputs": [],
   "source": [
    "from icedef.constants import *"
   ]
  },
  {
   "cell_type": "markdown",
   "metadata": {},
   "source": [
    "# SEAROSE"
   ]
  },
  {
   "cell_type": "code",
   "execution_count": 3,
   "metadata": {},
   "outputs": [],
   "source": [
    "searose_latitude = 46.78851\n",
    "searose_longitude = -48.01405"
   ]
  },
  {
   "cell_type": "markdown",
   "metadata": {},
   "source": [
    "# ICEBERG"
   ]
  },
  {
   "cell_type": "code",
   "execution_count": 4,
   "metadata": {},
   "outputs": [],
   "source": [
    "from icedef.iceberg import quickstart, dx_to_dlon, dy_to_dlat"
   ]
  },
  {
   "cell_type": "code",
   "execution_count": 5,
   "metadata": {},
   "outputs": [],
   "source": [
    "# At 0145 on March 29, 2017, berg 011 was 4.2 NM away from SeaRose at a bearing of 346 deg T\n",
    "iceberg_time = np.datetime64('2017-03-29T01:45')\n",
    "iceberg_latitude = 46.85639904\n",
    "iceberg_longitude = -48.03872578\n",
    "iceberg = quickstart(iceberg_time, (iceberg_latitude, iceberg_longitude))"
   ]
  },
  {
   "cell_type": "code",
   "execution_count": 6,
   "metadata": {},
   "outputs": [],
   "source": [
    "start_time = iceberg_time\n",
    "end_time = np.datetime64(iceberg_time + np.timedelta64(1, 'D'))\n",
    "start_latitude = iceberg_latitude\n",
    "start_longitude = iceberg_longitude"
   ]
  },
  {
   "cell_type": "markdown",
   "metadata": {},
   "source": [
    "# METOCEAN"
   ]
  },
  {
   "cell_type": "code",
   "execution_count": 7,
   "metadata": {},
   "outputs": [],
   "source": [
    "from icedef import metocean"
   ]
  },
  {
   "cell_type": "code",
   "execution_count": 8,
   "metadata": {},
   "outputs": [
    {
     "name": "stdout",
     "output_type": "stream",
     "text": [
      "Attempting to download ftp://data.munroelab.ca/pub/ECMWF/ocean/daily/20170329.nc... done.\n"
     ]
    }
   ],
   "source": [
    "ocean = metocean.ECMWFOcean((start_time, end_time))\n",
    "atm = metocean.NARRAtmosphere((start_time, end_time))"
   ]
  },
  {
   "cell_type": "markdown",
   "metadata": {},
   "source": [
    "# DRIFT"
   ]
  },
  {
   "cell_type": "code",
   "execution_count": 9,
   "metadata": {},
   "outputs": [],
   "source": [
    "from icedef import drift"
   ]
  },
  {
   "cell_type": "code",
   "execution_count": 10,
   "metadata": {},
   "outputs": [],
   "source": [
    "tdelta = np.timedelta64(360, 's')\n",
    "dt = tdelta / np.timedelta64(1, 's')\n",
    "nt = int((end_time - start_time) / tdelta)"
   ]
  },
  {
   "cell_type": "code",
   "execution_count": 11,
   "metadata": {},
   "outputs": [],
   "source": [
    "iceberg = quickstart(start_time, (start_latitude, start_longitude))\n",
    "\n",
    "iceberg_constants = {\n",
    "    'sail_area': iceberg.geometry.sail_area,\n",
    "    'keel_area': iceberg.geometry.keel_area,\n",
    "    'top_area': iceberg.geometry.waterline_length**2,\n",
    "    'bottom_area': 0,\n",
    "    'mass': iceberg.geometry.mass,\n",
    "    'latitude': iceberg.latitude\n",
    "}\n",
    "\n",
    "point = (iceberg.time, iceberg.latitude, iceberg.longitude)\n",
    "\n",
    "current_velocity = (metocean.interpolate(point, ocean.eastward_current_velocities),\n",
    "                    metocean.interpolate(point, ocean.northward_current_velocities))\n",
    "\n",
    "wind_velocity = (metocean.interpolate(point, atm.eastward_wind_velocities),\n",
    "                 metocean.interpolate(point, atm.northward_wind_velocities))\n",
    "\n",
    "curr_vel_history = []\n",
    "wind_vel_history = []\n",
    "\n",
    "for t in range(nt):\n",
    "    \n",
    "    ax, ay = drift.newtonian_drift((iceberg.eastward_velocity, iceberg.northward_velocity), \n",
    "                             current_velocity, wind_velocity, \n",
    "                             iceberg_constants)\n",
    "    \n",
    "    iceberg.time += tdelta\n",
    "    iceberg.eastward_velocity += ax * dt\n",
    "    iceberg.northward_velocity += ay * dt\n",
    "    iceberg.latitude += dy_to_dlat(iceberg.northward_velocity * dt)\n",
    "    iceberg.longitude += dx_to_dlon(iceberg.eastward_velocity * dt, iceberg.latitude)\n",
    "    \n",
    "    point = (iceberg.time, iceberg.latitude, iceberg.longitude)\n",
    "    \n",
    "    curr_vel_history.append(current_velocity)\n",
    "    wind_vel_history.append(wind_velocity)\n",
    "    \n",
    "    current_velocity = (metocean.interpolate(point, ocean.eastward_current_velocities),\n",
    "                        metocean.interpolate(point, ocean.northward_current_velocities))\n",
    "\n",
    "    wind_velocity = (metocean.interpolate(point, atm.eastward_wind_velocities),\n",
    "                     metocean.interpolate(point, atm.northward_wind_velocities))\n",
    "    \n",
    "    iceberg_constants['latitude'] = iceberg.latitude\n",
    "    iceberg.update_history()"
   ]
  },
  {
   "cell_type": "markdown",
   "metadata": {},
   "source": [
    "# PLOT"
   ]
  },
  {
   "cell_type": "code",
   "execution_count": 12,
   "metadata": {},
   "outputs": [],
   "source": [
    "import matplotlib.pyplot as plt\n",
    "%matplotlib inline"
   ]
  },
  {
   "cell_type": "code",
   "execution_count": 13,
   "metadata": {},
   "outputs": [
    {
     "data": {
      "image/png": "[encoded data removed]",
      "text/plain": [
       "<Figure size 432x288 with 1 Axes>"
      ]
     },
     "metadata": {},
     "output_type": "display_data"
    }
   ],
   "source": [
    "plt.scatter(iceberg.history['longitude'], iceberg.history['latitude'], \n",
    "            s=2, label='iceberg')\n",
    "plt.scatter(searose_longitude, searose_latitude, marker='X', c='black', label='searose')\n",
    "plt.legend()\n",
    "plt.xlabel('Longitude')\n",
    "plt.ylabel('Latitude')\n",
    "plt.title('SeaRose Ice Incursion Incident, 29 March, 2017')\n",
    "plt.show()"
   ]
  },
  {
   "cell_type": "code",
   "execution_count": 32,
   "metadata": {},
   "outputs": [
    {
     "data": {
      "image/png": "[encoded data removed]",
      "text/plain": [
       "<Figure size 432x288 with 1 Axes>"
      ]
     },
     "metadata": {},
     "output_type": "display_data"
    }
   ],
   "source": [
    "curr_u_vel_history = [u for u, v in curr_vel_history]\n",
    "curr_v_vel_history = [v for u, v in curr_vel_history]\n",
    "curr_vel_mag_history = [np.sqrt(u**2 + v**2) for u, v in curr_vel_history]\n",
    "plt.plot(iceberg.history['time'], curr_u_vel_history, label='u')\n",
    "plt.plot(iceberg.history['time'], curr_v_vel_history, label='v')\n",
    "plt.plot(iceberg.history['time'], curr_vel_mag_history, label='magnitude')\n",
    "plt.legend()\n",
    "plt.show()\n",
    "plt.close()"
   ]
  },
  {
   "cell_type": "code",
   "execution_count": 23,
   "metadata": {},
   "outputs": [],
   "source": []
  },
  {
   "cell_type": "code",
   "execution_count": 33,
   "metadata": {},
   "outputs": [
    {
     "data": {
      "image/png": "[encoded data removed]",
      "text/plain": [
       "<Figure size 432x288 with 1 Axes>"
      ]
     },
     "metadata": {},
     "output_type": "display_data"
    }
   ],
   "source": [
    "wind_u_vel_history = [u for u, v in wind_vel_history]\n",
    "wind_v_vel_history = [v for u, v in wind_vel_history]\n",
    "wind_vel_mag_history = [np.sqrt(u**2 + v**2) for u, v in wind_vel_history]\n",
    "plt.plot(iceberg.history['time'], wind_u_vel_history, label='u')\n",
    "plt.plot(iceberg.history['time'], wind_v_vel_history, label='v')\n",
    "plt.plot(iceberg.history['time'], wind_vel_mag_history, label='magnitude')\n",
    "plt.legend()\n",
    "plt.show()\n",
    "plt.close()"
   ]
  },
  {
   "cell_type": "code",
   "execution_count": null,
   "metadata": {},
   "outputs": [],
   "source": []
  },
  {
   "cell_type": "markdown",
   "metadata": {},
   "source": [
    "### Why do some of the interpolated values of current velocity go to zero?"
   ]
  },
  {
   "cell_type": "markdown",
   "metadata": {},
   "source": [
    "#### Solved. There was an error downloading ocean data file 20170329.nc due to a slow internet connection. Therefore, the metocean class was reading in an file from cache that was incompletely downloaded.\""
   ]
  },
  {
   "cell_type": "code",
   "execution_count": 82,
   "metadata": {},
   "outputs": [
    {
     "data": {
      "text/plain": [
       "((23, 47), (79, 82), (144, 145))"
      ]
     },
     "execution_count": 82,
     "metadata": {},
     "output_type": "execute_result"
    }
   ],
   "source": [
    "lat_bounds = (46.65, 46.75)\n",
    "lon_bounds = (-47.96, -47.92)\n",
    "time_indx_bounds = np.where(abs(np.asarray(curr_vel_mag_history)) < 1e-6)[0][0], np.where(abs(np.asarray(curr_vel_mag_history)) < 1e-6)[0][-1]\n",
    "time_indx_bounds = np.where(ocean.dataset.time < iceberg.history['time'][time_indx_bounds[0]])[0][-1], np.where(ocean.dataset.time > iceberg.history['time'][time_indx_bounds[1]])[0][-1]\n",
    "lat_indx_bounds = np.where(ocean.dataset.latitude < lat_bounds[0])[0][-1], np.where(ocean.dataset.latitude > lat_bounds[1])[0][0]\n",
    "lon_indx_bounds = np.where(ocean.dataset.longitude < lon_bounds[0])[0][-1], np.where(ocean.dataset.longitude > lon_bounds[1])[0][0]\n",
    "time_indx_bounds, lat_indx_bounds, lon_indx_bounds"
   ]
  },
  {
   "cell_type": "code",
   "execution_count": 81,
   "metadata": {},
   "outputs": [
    {
     "data": {
      "text/plain": [
       "numpy.datetime64('2017-03-29T04:15:00')"
      ]
     },
     "execution_count": 81,
     "metadata": {},
     "output_type": "execute_result"
    }
   ],
   "source": [
    "iceberg.history['time'][time_indx_bounds[1]]"
   ]
  },
  {
   "cell_type": "code",
   "execution_count": 77,
   "metadata": {},
   "outputs": [
    {
     "data": {
      "text/plain": [
       "(array([24, 25, 26, 27, 28, 29, 30, 31, 32, 33, 34, 35, 36, 37, 38, 39, 40,\n",
       "        41, 42, 43, 44, 45, 46, 47]),)"
      ]
     },
     "execution_count": 77,
     "metadata": {},
     "output_type": "execute_result"
    }
   ],
   "source": [
    "np.where(ocean.dataset.time > iceberg.history['time'][time_indx_bounds[1]])"
   ]
  },
  {
   "cell_type": "code",
   "execution_count": 83,
   "metadata": {},
   "outputs": [],
   "source": [
    "eastward_current_velocity_subset = ocean.eastward_current_velocities[time_indx_bounds[0]: time_indx_bounds[1] + 1,\n",
    "                                                                      lat_indx_bounds[0]: lat_indx_bounds[1] + 1,\n",
    "                                                                      lon_indx_bounds[0]: lon_indx_bounds[1] + 1]"
   ]
  },
  {
   "cell_type": "code",
   "execution_count": 84,
   "metadata": {},
   "outputs": [
    {
     "data": {
      "text/plain": [
       "<xarray.DataArray (time: 25, latitude: 4, longitude: 2)>\n",
       "array([[[ 0.      ,  0.      ],\n",
       "        [ 0.      ,  0.      ],\n",
       "        [ 0.      ,  0.      ],\n",
       "        [ 0.      ,  0.      ]],\n",
       "\n",
       "       [[-0.022584, -0.026246],\n",
       "        [-0.001831, -0.005493],\n",
       "        [ 0.012818,  0.007324],\n",
       "        [ 0.025025,  0.020142]],\n",
       "\n",
       "       [[-0.027467, -0.031129],\n",
       "        [-0.006104, -0.010376],\n",
       "        [ 0.008545,  0.003662],\n",
       "        [ 0.020753,  0.01587 ]],\n",
       "\n",
       "       [[-0.030519, -0.034181],\n",
       "        [-0.009156, -0.012818],\n",
       "        [ 0.006104,  0.001831],\n",
       "        [ 0.018921,  0.014039]],\n",
       "\n",
       "       [[-0.031739, -0.035401],\n",
       "        [-0.009766, -0.014039],\n",
       "        [ 0.005493,  0.001831],\n",
       "        [ 0.018311,  0.014039]],\n",
       "\n",
       "       [[-0.031129, -0.035401],\n",
       "        [-0.009766, -0.014039],\n",
       "        [ 0.005493,  0.001831],\n",
       "        [ 0.018311,  0.015259]],\n",
       "\n",
       "       [[-0.028077, -0.03296 ],\n",
       "        [-0.007324, -0.012207],\n",
       "        [ 0.007324,  0.003662],\n",
       "        [ 0.018921,  0.01709 ]],\n",
       "\n",
       "       [[-0.023804, -0.029298],\n",
       "        [-0.003662, -0.008545],\n",
       "        [ 0.009766,  0.006714],\n",
       "        [ 0.020753,  0.018311]],\n",
       "\n",
       "       [[-0.020753, -0.026246],\n",
       "        [ 0.00061 , -0.005493],\n",
       "        [ 0.012818,  0.009766],\n",
       "        [ 0.023194,  0.020753]],\n",
       "\n",
       "       [[-0.018921, -0.025025],\n",
       "        [ 0.002441, -0.002441],\n",
       "        [ 0.01587 ,  0.012818],\n",
       "        [ 0.025636,  0.022584]],\n",
       "\n",
       "       [[-0.018921, -0.025636],\n",
       "        [ 0.001831, -0.003052],\n",
       "        [ 0.015259,  0.012818],\n",
       "        [ 0.025636,  0.023194]],\n",
       "\n",
       "       [[-0.020142, -0.027467],\n",
       "        [-0.00061 , -0.005493],\n",
       "        [ 0.011597,  0.009766],\n",
       "        [ 0.021973,  0.019532]],\n",
       "\n",
       "       [[-0.024415, -0.031739],\n",
       "        [-0.005493, -0.010987],\n",
       "        [ 0.005493,  0.003662],\n",
       "        [ 0.014649,  0.012207]],\n",
       "\n",
       "       [[-0.03296 , -0.039674],\n",
       "        [-0.014649, -0.019532],\n",
       "        [-0.003662, -0.006104],\n",
       "        [ 0.004883,  0.001831]],\n",
       "\n",
       "       [[-0.043947, -0.051271],\n",
       "        [-0.026246, -0.031129],\n",
       "        [-0.01648 , -0.017701],\n",
       "        [-0.007935, -0.010987]],\n",
       "\n",
       "       [[-0.053713, -0.061037],\n",
       "        [-0.036622, -0.040284],\n",
       "        [-0.026246, -0.027467],\n",
       "        [-0.018311, -0.021363]],\n",
       "\n",
       "       [[-0.061037, -0.067751],\n",
       "        [-0.043336, -0.046999],\n",
       "        [-0.03357 , -0.03357 ],\n",
       "        [-0.025025, -0.028077]],\n",
       "\n",
       "       [[-0.06653 , -0.072634],\n",
       "        [-0.048219, -0.051271],\n",
       "        [-0.037843, -0.037843],\n",
       "        [-0.029908, -0.03296 ]],\n",
       "\n",
       "       [[-0.069582, -0.075686],\n",
       "        [-0.051271, -0.053713],\n",
       "        [-0.040284, -0.039674],\n",
       "        [-0.03235 , -0.035401]],\n",
       "\n",
       "       [[-0.071413, -0.076907],\n",
       "        [-0.053102, -0.054933],\n",
       "        [-0.042116, -0.040895],\n",
       "        [-0.034181, -0.036622]],\n",
       "\n",
       "       [[-0.072024, -0.077517],\n",
       "        [-0.053713, -0.055544],\n",
       "        [-0.042726, -0.041505],\n",
       "        [-0.034791, -0.037233]],\n",
       "\n",
       "       [[-0.072024, -0.078127],\n",
       "        [-0.054323, -0.056154],\n",
       "        [-0.043336, -0.042116],\n",
       "        [-0.036012, -0.038453]],\n",
       "\n",
       "       [[-0.073244, -0.079348],\n",
       "        [-0.056154, -0.057375],\n",
       "        [-0.045778, -0.043947],\n",
       "        [-0.039064, -0.040895]],\n",
       "\n",
       "       [[-0.076296, -0.08179 ],\n",
       "        [-0.059206, -0.060427],\n",
       "        [-0.04944 , -0.047609],\n",
       "        [-0.043947, -0.045167]],\n",
       "\n",
       "       [[-0.080569, -0.086673],\n",
       "        [-0.064089, -0.06592 ],\n",
       "        [-0.054933, -0.053102],\n",
       "        [-0.05005 , -0.051881]]], dtype=float32)\n",
       "Coordinates:\n",
       "  * time       (time) datetime64[ns] 1950-01-01 2017-03-30T00:30:00 ...\n",
       "  * latitude   (latitude) float32 46.583332 46.666668 46.75 46.833332\n",
       "  * longitude  (longitude) float32 -48.0 -47.916668\n",
       "Attributes:\n",
       "    standard_name:  eastward_sea_water_velocity\n",
       "    long_name:      Eastward velocity\n",
       "    units:          m s-1\n",
       "    unit_long:      Meters per second\n",
       "    cell_methods:   area: mean"
      ]
     },
     "execution_count": 84,
     "metadata": {},
     "output_type": "execute_result"
    }
   ],
   "source": [
    "eastward_current_velocity_subset"
   ]
  },
  {
   "cell_type": "code",
   "execution_count": 85,
   "metadata": {},
   "outputs": [
    {
     "data": {
      "text/plain": [
       "<xarray.DataArray 'time' (time: 48)>\n",
       "array(['2017-03-29T00:30:00.000000000', '2017-03-29T01:30:00.000000000',\n",
       "       '2017-03-29T02:30:00.000000000', '2017-03-29T03:30:00.000000000',\n",
       "       '2017-03-29T04:30:00.000000000', '2017-03-29T05:30:00.000000000',\n",
       "       '2017-03-29T06:30:00.000000000', '2017-03-29T07:30:00.000000000',\n",
       "       '2017-03-29T08:30:00.000000000', '2017-03-29T09:30:00.000000000',\n",
       "       '2017-03-29T10:30:00.000000000', '2017-03-29T11:30:00.000000000',\n",
       "       '2017-03-29T12:30:00.000000000', '2017-03-29T13:30:00.000000000',\n",
       "       '2017-03-29T14:30:00.000000000', '2017-03-29T15:30:00.000000000',\n",
       "       '2017-03-29T16:30:00.000000000', '1950-01-01T00:00:00.000000000',\n",
       "       '1950-01-01T00:00:00.000000000', '1950-01-01T00:00:00.000000000',\n",
       "       '1950-01-01T00:00:00.000000000', '1950-01-01T00:00:00.000000000',\n",
       "       '1950-01-01T00:00:00.000000000', '1950-01-01T00:00:00.000000000',\n",
       "       '2017-03-30T00:30:00.000000000', '2017-03-30T01:30:00.000000000',\n",
       "       '2017-03-30T02:30:00.000000000', '2017-03-30T03:30:00.000000000',\n",
       "       '2017-03-30T04:30:00.000000000', '2017-03-30T05:30:00.000000000',\n",
       "       '2017-03-30T06:30:00.000000000', '2017-03-30T07:30:00.000000000',\n",
       "       '2017-03-30T08:30:00.000000000', '2017-03-30T09:30:00.000000000',\n",
       "       '2017-03-30T10:30:00.000000000', '2017-03-30T11:30:00.000000000',\n",
       "       '2017-03-30T12:30:00.000000000', '2017-03-30T13:30:00.000000000',\n",
       "       '2017-03-30T14:30:00.000000000', '2017-03-30T15:30:00.000000000',\n",
       "       '2017-03-30T16:30:00.000000000', '2017-03-30T17:30:00.000000000',\n",
       "       '2017-03-30T18:30:00.000000000', '2017-03-30T19:30:00.000000000',\n",
       "       '2017-03-30T20:30:00.000000000', '2017-03-30T21:30:00.000000000',\n",
       "       '2017-03-30T22:30:00.000000000', '2017-03-30T23:30:00.000000000'],\n",
       "      dtype='datetime64[ns]')\n",
       "Coordinates:\n",
       "  * time     (time) datetime64[ns] 2017-03-29T00:30:00 2017-03-29T01:30:00 ...\n",
       "Attributes:\n",
       "    standard_name:  time\n",
       "    long_name:      Time (hours since 1950-01-01)\n",
       "    axis:           T"
      ]
     },
     "execution_count": 85,
     "metadata": {},
     "output_type": "execute_result"
    }
   ],
   "source": [
    "ocean.dataset.time"
   ]
  },
  {
   "cell_type": "code",
   "execution_count": null,
   "metadata": {},
   "outputs": [],
   "source": []
  }
 ],
 "metadata": {
  "kernelspec": {
   "display_name": "Python 3",
   "language": "python",
   "name": "python3"
  },
  "language_info": {
   "codemirror_mode": {
    "name": "ipython",
    "version": 3
   },
   "file_extension": ".py",
   "mimetype": "text/x-python",
   "name": "python",
   "nbconvert_exporter": "python",
   "pygments_lexer": "ipython3",
   "version": "3.6.5"
  }
 },
 "nbformat": 4,
 "nbformat_minor": 2
}
