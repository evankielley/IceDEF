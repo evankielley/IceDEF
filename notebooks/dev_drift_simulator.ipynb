{
 "cells": [
  {
   "cell_type": "markdown",
   "metadata": {},
   "source": [
    "# Constants"
   ]
  },
  {
   "cell_type": "code",
   "execution_count": 1,
   "metadata": {},
   "outputs": [],
   "source": [
    "# units of density are: kilograms per meter cubed\n",
    "AIR_DENSITY = 1.027\n",
    "SEAWATER_DENSITY = 1025\n",
    "ICEBERG_DENSITY = 917\n",
    "\n",
    "# units of drag form coefficients are: unit-less\n",
    "ICEBERG_FORM_DRAG_COEFFICIENT_IN_AIR = 1.5\n",
    "ICEBERG_FORM_DRAG_COEFFICIENT_IN_WATER = 1.5\n",
    "ICEBERG_SKIN_DRAG_COEFFICIENT_IN_AIR = 2.5e-4\n",
    "ICEBERG_SKIN_DRAG_COEFFICIENT_IN_WATER = 5e-4\n",
    "\n",
    "EARTH_ROTATION_RATE = 7.2921e-5  # radians per second\n",
    "EARTH_RADIUS = 6378e3  # meters"
   ]
  },
  {
   "cell_type": "markdown",
   "metadata": {},
   "source": [
    "# Iceberg"
   ]
  },
  {
   "cell_type": "code",
   "execution_count": 42,
   "metadata": {},
   "outputs": [],
   "source": [
    "\"\"\"Creates iceberg object.\"\"\"\n",
    "\n",
    "import numpy as np\n",
    "\n",
    "WATERLINE_LENGTH_RANGE_BY_SIZE = {'LG': (120, 200)}\n",
    "SAIL_HEIGHT_RANGE_BY_SIZE = {'LG': (45, 75)}\n",
    "HEIGHT_TO_DRAFT_RATIO_BY_SHAPE = {'TAB': 0.2}\n",
    "SHAPE_FACTOR_BY_SHAPE = {'TAB': 0.5}\n",
    "\n",
    "EARTH_RADIUS = 6371e3  # meters\n",
    "\n",
    "\n",
    "class Position:\n",
    "\n",
    "    def __init__(self, latitude, longitude):\n",
    "        self._latitude = latitude\n",
    "        self._longitude = longitude\n",
    "        self._x = 0\n",
    "        self._y = 0\n",
    "\n",
    "    @property\n",
    "    def latitude(self):\n",
    "        return self._latitude\n",
    "\n",
    "    @latitude.setter\n",
    "    def latitude(self, value):\n",
    "        #dlat = value - self._latitude\n",
    "        #self._y += dlat_to_dy(dlat)\n",
    "        self._latitude = value\n",
    "\n",
    "    @property\n",
    "    def longitude(self):\n",
    "        return self._longitude\n",
    "\n",
    "    @longitude.setter\n",
    "    def longitude(self, value):\n",
    "        #dlon = value - self._longitude\n",
    "        #lat = self._latitude\n",
    "        #self._x += dlon_to_dx(dlon, lat)\n",
    "        self._longitude = value\n",
    "\n",
    "    @property\n",
    "    def x(self):\n",
    "        return self._x\n",
    "\n",
    "    @x.setter\n",
    "    def x(self, value):\n",
    "        #dx = value - self._x\n",
    "        #lat = self._latitude\n",
    "        #self._longitude += dx_to_dlon(dx, lat)\n",
    "        self._x = value\n",
    "\n",
    "    @property\n",
    "    def y(self):\n",
    "        return self._y\n",
    "\n",
    "    @y.setter\n",
    "    def y(self, value):\n",
    "        #dy = value - self._y\n",
    "        #self._latitude += dy_to_dlat(dy)\n",
    "        self._y = value\n",
    "\n",
    "\n",
    "class Velocity:\n",
    "\n",
    "    def __init__(self, vx, vy):\n",
    "        self.x = vx\n",
    "        self.y = vy\n",
    "\n",
    "\n",
    "class IcebergGeometry:\n",
    "\n",
    "    def __init__(self, size, shape):\n",
    "        self.size = size\n",
    "        self.shape = shape\n",
    "\n",
    "    @property\n",
    "    def waterline_length(self):\n",
    "        \"\"\"Return the mean waterline length for the size declared.\"\"\"\n",
    "        return np.mean(WATERLINE_LENGTH_RANGE_BY_SIZE[self.size])\n",
    "\n",
    "    @property\n",
    "    def sail_height(self):\n",
    "        \"\"\"Return the mean sail height for the size declared.\"\"\"\n",
    "        return np.mean(SAIL_HEIGHT_RANGE_BY_SIZE[self.size])\n",
    "\n",
    "    @property\n",
    "    def sail_area(self):\n",
    "        \"\"\"Return the area of rectangular sail.\"\"\"\n",
    "        return self.waterline_length * self.sail_height\n",
    "\n",
    "    @property\n",
    "    def height_to_draft_ratio(self):\n",
    "        \"\"\"Return the height to draft ratio for the shape declared.\"\"\"\n",
    "        return HEIGHT_TO_DRAFT_RATIO_BY_SHAPE[self.shape]\n",
    "\n",
    "    @property\n",
    "    def shape_factor(self):\n",
    "        \"\"\"Return the shape factor for the shape declared.\"\"\"\n",
    "        return SHAPE_FACTOR_BY_SHAPE[self.shape]\n",
    "\n",
    "    @property\n",
    "    def keel_depth(self):\n",
    "        \"\"\"Return the keel depth for the shape and sail height declared.\"\"\"\n",
    "        h2d_ratio = HEIGHT_TO_DRAFT_RATIO_BY_SHAPE[self.shape]\n",
    "        sail_height = self.sail_height\n",
    "        return sail_height / h2d_ratio\n",
    "\n",
    "    @property\n",
    "    def mass(self):\n",
    "        \"\"\"Return the mass using formula from Rudkin, 2005.\"\"\"\n",
    "        factor = self.shape_factor\n",
    "        length = self.waterline_length\n",
    "        height = self.sail_height\n",
    "        return 7.12e3 * factor * length ** 2 * height\n",
    "\n",
    "    @property\n",
    "    def keel_area(self):\n",
    "        \"\"\"Return the rectangular keel area.\"\"\"\n",
    "        return self.waterline_length * self.keel_depth\n",
    "\n",
    "\n",
    "class Iceberg:\n",
    "    \"\"\"Creates iceberg object.\"\"\"\n",
    "\n",
    "    def __init__(self, time, position, velocity, geometry, **kwargs):\n",
    "\n",
    "        self.time = time\n",
    "        self.latitude, self.longitude = position\n",
    "        self.eastward_velocity, self.northward_velocity = velocity\n",
    "        self.geometry = geometry\n",
    "        self.name = kwargs.get('name', None)\n",
    "        self.history = {'time': [], 'latitude': [], 'longitude': []}\n",
    "        \n",
    "    def update_history(self):\n",
    "        self.history['time'].append(self.time)\n",
    "        self.history['latitude'].append(self.latitude)\n",
    "        self.history['longitude'].append(self.longitude)\n",
    "        \n",
    "    \n",
    "def quickstart(time, position, **kwargs):\n",
    "    # position must be tuple of (latitude, longitude)\n",
    "    velocity = kwargs.get('velocity', (0, 0))\n",
    "    size = kwargs.get('size', 'LG')\n",
    "    shape = kwargs.get('shape', 'TAB')\n",
    "    geometry = IcebergGeometry(size, shape)\n",
    "    iceberg = Iceberg(time, position, velocity, geometry)\n",
    "    return iceberg\n",
    "    \n",
    "    \n",
    "def old_quickstart(time, latitude, longitude, **kwargs):\n",
    "\n",
    "    velocity = kwargs.get('velocity', (0, 0))\n",
    "    velocity = Velocity(velocity[0], velocity[1])\n",
    "    size = kwargs.get('size', 'LG')\n",
    "    shape = kwargs.get('shape', 'TAB')\n",
    "\n",
    "    geometry = IcebergGeometry(size, shape)\n",
    "    position = Position(latitude, longitude)\n",
    "    iceberg = Iceberg(time, position, velocity, geometry)\n",
    "\n",
    "    return iceberg\n",
    "\n",
    "def dx_to_dlon(dx, lat):\n",
    "    return dx / (np.cos((lat * np.pi) / 180)) * (180 / (np.pi * EARTH_RADIUS))\n",
    "\n",
    "def dy_to_dlat(dy):\n",
    "    return dy * (180 / (np.pi * EARTH_RADIUS))"
   ]
  },
  {
   "cell_type": "markdown",
   "metadata": {},
   "source": [
    "# Metocean"
   ]
  },
  {
   "cell_type": "code",
   "execution_count": 3,
   "metadata": {},
   "outputs": [],
   "source": [
    "import os\n",
    "import netCDF4 as nc\n",
    "import xarray as xr\n",
    "from urllib.request import urlretrieve\n",
    "from datetime import date, timedelta\n",
    "\n",
    "\n",
    "class ECMWFOcean:\n",
    "\n",
    "    ID = \"GLOBAL_ANALYSIS_FORECAST_PHY_001_024\"\n",
    "    PATH = 'ftp://data.munroelab.ca/pub/ECMWF/ocean/daily/'\n",
    "    SPATIAL_RESOLUTION = 1/12  # spatial resolution in degrees lat/lon\n",
    "    TIME_RESOLUTION = 1  # temporal resolution in hours\n",
    "    TIME_UNITS = 'hours since 1950-01-01 00:00:00'\n",
    "    TIME_CALENDAR = 'standard'\n",
    "\n",
    "    def __init__(self, date_bounds):\n",
    "\n",
    "        self.dataset = xr.open_mfdataset(get_files(self.ID, self.PATH,\n",
    "                                                   date_bounds))\n",
    "        self.eastward_current_velocities = xr.DataArray(\n",
    "            data=self.dataset.uo.values[:, 0, :, :],\n",
    "            coords=[('time', self.dataset.time.values),\n",
    "                    ('latitude', self.dataset.latitude.values),\n",
    "                    ('longitude', self.dataset.longitude.values)],\n",
    "            attrs=self.dataset.uo.attrs)\n",
    "        self.northward_current_velocities = xr.DataArray(\n",
    "            data=self.dataset.vo.values[:, 0, :, :],\n",
    "            coords=[('time', self.dataset.time.values),\n",
    "                    ('latitude', self.dataset.latitude.values),\n",
    "                    ('longitude', self.dataset.longitude.values)],\n",
    "            attrs=self.dataset.vo.attrs)\n",
    "        self.sea_surface_temperatures = xr.DataArray(\n",
    "            data=self.dataset.thetao.values[:, 0, :, :],\n",
    "            coords=[('time', self.dataset.time.values),\n",
    "                    ('latitude', self.dataset.latitude.values),\n",
    "                    ('longitude', self.dataset.longitude.values)],\n",
    "            attrs=self.dataset.thetao.attrs)\n",
    "\n",
    "\n",
    "class ECMWFAtmosphere:\n",
    "\n",
    "    ID = \"WIND_GLO_WIND_L4_NRT_OBSERVTIONS_012_004\"\n",
    "    PATH = 'ftp://data.munroelab.ca/pub/ECMWF/atm/daily/'\n",
    "    SPATIAL_RESOLUTION = 1/4  # spatial resolution in degrees lat/lon\n",
    "    TIME_RESOLUTION = 6  # temporal resolution in hours\n",
    "    TIME_UNITS = 'hours since 1900-01-01 00:00:00.0 00:00'\n",
    "    TIME_CALENDAR = 'standard'\n",
    "\n",
    "    def __init__(self, date_bounds):\n",
    "\n",
    "        self.dataset = xr.open_mfdataset(get_files(self.ID, self.PATH,\n",
    "                                                   date_bounds))\n",
    "\n",
    "        self.eastward_wind_velocities = xr.DataArray(\n",
    "            data=self.dataset.eastward_wind.values,\n",
    "            coords=[('time', self.dataset.time.values),\n",
    "                    ('latitude', self.dataset.latitude.values),\n",
    "                    ('longitude', self.dataset.longitude.values)],\n",
    "            attrs=self.dataset.eastward_wind.attrs)\n",
    "\n",
    "        self.northward_wind_velocities = xr.DataArray(\n",
    "            data=self.dataset.northward_wind.values[:, 0, :, :],\n",
    "            coords=[('time', self.dataset.time.values),\n",
    "                    ('latitude', self.dataset.latitude.values),\n",
    "                    ('longitude', self.dataset.longitude.values)],\n",
    "            attrs=self.dataset.northward_wind.attrs)\n",
    "\n",
    "\n",
    "class NARRAtmosphere:\n",
    "\n",
    "    ID = \"NCEP_North_American_Regional_Reanalysis_NARR\"\n",
    "    PATH = 'ftp://data.munroelab.ca/pub/NARR/atm/daily/'\n",
    "    SPATIAL_RESOLUTION = 1/4  # spatial resolution in degrees lat/lon\n",
    "    TIME_RESOLUTION = 3  # temporal resolution in hours\n",
    "    TIME_UNITS = 'hours since 1800-1-1 00:00:0.0'\n",
    "    TIME_CALENDAR = 'standard'\n",
    "\n",
    "    def __init__(self, date_bounds):\n",
    "\n",
    "        self.dataset = xr.open_mfdataset(get_files(self.ID, self.PATH,\n",
    "                                                   date_bounds))\n",
    "        self.dataset['lon'] = np.mod(self.dataset.lon - 180, 360) - 180\n",
    "        self.eastward_wind_velocities = xr.DataArray(\n",
    "            data=self.dataset.uwnd.values,\n",
    "            coords=[('time', self.dataset.time.values),\n",
    "                    ('latitude', self.dataset.lat.values),\n",
    "                    ('longitude', self.dataset.lon.values)],\n",
    "            attrs=self.dataset.uwnd.attrs)\n",
    "        self.northward_wind_velocities = xr.DataArray(\n",
    "            data=self.dataset.vwnd.values,\n",
    "            coords=[('time', self.dataset.time.values),\n",
    "                    ('latitude', self.dataset.lat.values),\n",
    "                    ('longitude', self.dataset.lon.values)],\n",
    "            attrs=self.dataset.vwnd.attrs)\n",
    "\n",
    "\n",
    "def get_files(id_, path, date_bounds, cache=True):\n",
    "\n",
    "    start_date, end_date = date_bounds\n",
    "    start_date = date(start_date.year, start_date.month, start_date.day)\n",
    "    end_date = date(end_date.year, end_date.month, end_date.day)\n",
    "    time_delta = end_date - start_date\n",
    "\n",
    "    if cache:\n",
    "        cache_path = 'cache/' + id_ + '/'\n",
    "        if not os.path.exists(cache_path):\n",
    "            try:\n",
    "                os.makedirs(cache_path)\n",
    "            except:\n",
    "                print(\"Couldn't make directory for cache\")\n",
    "    else:\n",
    "        cache_path = None\n",
    "\n",
    "    filenames = []\n",
    "    files = []\n",
    "\n",
    "    for i in range(time_delta.days + 1):\n",
    "        file_date = start_date + timedelta(days=i)\n",
    "        filename = str(file_date).replace('-', '') + '.nc'\n",
    "        filenames.append(filename)\n",
    "        cache_file = cache_path + filename\n",
    "\n",
    "        if os.path.isfile(cache_file):\n",
    "            files.append(cache_file)\n",
    "        else:\n",
    "            if cache and os.path.exists(cache_path):\n",
    "                files.append(urlretrieve(path +\n",
    "                                         filename, cache_path + filename)[\n",
    "                                 0])\n",
    "            else:\n",
    "                files.append(urlretrieve(path + filename)[0])\n",
    "\n",
    "    return files"
   ]
  },
  {
   "cell_type": "code",
   "execution_count": 4,
   "metadata": {},
   "outputs": [],
   "source": [
    "def interpolate(point, data):\n",
    "    \n",
    "    def compute_interpolation(x0, xi, dx, data):\n",
    "        indx = (xi - x0) / dx\n",
    "        indx_floor = int(np.floor(indx))\n",
    "        dindx = indx - indx_floor\n",
    "        submatrix = data[indx_floor: indx_floor + 2, ...]\n",
    "        data = (1 - dindx) * submatrix[0, ...] + dindx * submatrix[1, ...]\n",
    "        return data\n",
    "          \n",
    "    assert data.dims == ('time', 'latitude', 'longitude')\n",
    "    \n",
    "    # time\n",
    "    nptimes = data.time.values\n",
    "    times = (nptimes - nptimes[0]) / np.timedelta64(1, 's')\n",
    "    t0 = times[0]\n",
    "    tn = times[-1]\n",
    "    dt = np.mean(np.diff((times)))\n",
    "    ti = (point[0] - nptimes[0]) / np.timedelta64(1, 's')\n",
    "    assert t0 <= ti <= tn\n",
    "        \n",
    "    # latitude\n",
    "    lats = data.latitude.values\n",
    "    lat0 = lats[0]\n",
    "    latn = lats[-1]\n",
    "    dlat = np.mean(np.diff(lats))\n",
    "    lati = point[1]\n",
    "    assert lat0 <= lati <= latn\n",
    "    \n",
    "    # longitude\n",
    "    lons = data.longitude.values\n",
    "    lon0 = lons[0]\n",
    "    lonn = lons[-1]\n",
    "    dlon = np.mean(np.diff(lons))\n",
    "    loni = point[2]\n",
    "    assert lon0 <= loni <= lonn\n",
    "    \n",
    "    # crunch value\n",
    "    data = data.values\n",
    "    data = compute_interpolation(t0, ti, dt, data)\n",
    "    data = compute_interpolation(lat0, lati, dlat, data)\n",
    "    data = compute_interpolation(lon0, loni, dlon, data)\n",
    "    \n",
    "    return data  "
   ]
  },
  {
   "cell_type": "markdown",
   "metadata": {},
   "source": [
    "# Drift"
   ]
  },
  {
   "cell_type": "code",
   "execution_count": 5,
   "metadata": {},
   "outputs": [],
   "source": [
    "def newtonian_drift(iceberg_velocity, current_velocity, wind_velocity, iceberg_constants):\n",
    "    \"\"\"Computes instantaneous iceberg acceleration.\"\"\"\n",
    "\n",
    "    # Constants\n",
    "    Omega = EARTH_ROTATION_RATE\n",
    "    rhoa = AIR_DENSITY\n",
    "    rhow = SEAWATER_DENSITY\n",
    "    Ca = ICEBERG_FORM_DRAG_COEFFICIENT_IN_AIR\n",
    "    Cw = ICEBERG_FORM_DRAG_COEFFICIENT_IN_WATER\n",
    "    Cda = ICEBERG_SKIN_DRAG_COEFFICIENT_IN_AIR\n",
    "    Cdw = ICEBERG_SKIN_DRAG_COEFFICIENT_IN_WATER\n",
    "\n",
    "    Vwx, Vwy = wind_velocity\n",
    "    Vcx, Vcy = current_velocity\n",
    "    #Amwx, Amwy = current_acceleration\n",
    "    Amwx, Amwy = 0, 0\n",
    "    \n",
    "    As = iceberg_constants['sail_area']\n",
    "    Ak = iceberg_constants['keel_area']\n",
    "    At = iceberg_constants['top_area']\n",
    "    Ab = iceberg_constants['bottom_area']\n",
    "    M = iceberg_constants['mass']\n",
    "\n",
    "    phi = iceberg_constants['latitude']\n",
    "\n",
    "    # Args\n",
    "    Vx, Vy = iceberg_velocity\n",
    "\n",
    "\n",
    "    # Wind force\n",
    "    Fax = (0.5 * rhoa * Ca * As + rhoa * Cda * At) * abs(Vwx - Vx) * (Vwx - Vx)\n",
    "    Fay = (0.5 * rhoa * Ca * As + rhoa * Cda * At) * abs(Vwy - Vy) * (Vwy - Vy)\n",
    "\n",
    "    # Current force\n",
    "    Fwx = (0.5 * rhow * Cw * Ak + rhow * Cdw * Ab) * abs(Vcx - Vx) * (Vcx - Vx)\n",
    "    Fwy = (0.5 * rhow * Cw * Ak + rhow * Cdw * Ab) * abs(Vcy - Vy) * (Vcy - Vy)\n",
    "\n",
    "    # Coriolis force\n",
    "    f = 2 * Omega * np.sin(np.deg2rad(phi))\n",
    "    Fcx = f * M * Vy\n",
    "    Fcy = -f * M * Vx\n",
    "\n",
    "    # Water pressure force\n",
    "    Vmwx = Vcx\n",
    "    Vmwy = Vcy\n",
    "    Amwx = Amwx\n",
    "    Amwy = Amwy\n",
    "    Fwpx = M * (Amwx + f * Vmwx)\n",
    "    Fwpy = M * (Amwy - f * Vmwy)\n",
    "\n",
    "    # Iceberg acceleration\n",
    "    Ax = (Fax + Fwx + Fcx + Fwpx) / M\n",
    "    Ay = (Fay + Fwy + Fcy + Fwpy) / M\n",
    "\n",
    "    return Ax, Ay\n"
   ]
  },
  {
   "cell_type": "markdown",
   "metadata": {},
   "source": [
    "# Beacon Data"
   ]
  },
  {
   "cell_type": "code",
   "execution_count": 6,
   "metadata": {},
   "outputs": [],
   "source": [
    "import pandas as pd\n",
    "import urllib\n",
    "import matplotlib.pyplot as plt\n",
    "\n",
    "dir_path = 'ftp://data.munroelab.ca/pub/iceberg/beacon/'\n",
    "dir_contents = urllib.request.urlopen(dir_path).read().splitlines()\n",
    "filenames = [str(listing.split()[-1])[2:-1] for listing in dir_contents]\n",
    "csv_filenames = [filename for filename in filenames if filename.startswith('0')\n",
    "                and filename.endswith('csv')]\n",
    "kml_filenames = [filename for filename in filenames if filename.startswith('0')\n",
    "                and filename.endswith('kml')]\n",
    "metadata_filename = filenames[-1]\n",
    "\n",
    "def get_df(data_dir_path, data_fname):\n",
    "    \n",
    "    df = pd.read_csv(data_dir_path + data_fname)\n",
    "    df.loc[:, 'DataDate_UTC'] = pd.to_datetime(df['DataDate_UTC'])\n",
    "    \n",
    "    return df\n",
    "\n",
    "def get_day_idxs(dft, day_inc = 5):\n",
    "\n",
    "    day_idxs = []\n",
    "    day_js = []\n",
    "    day_j = 0\n",
    "    \n",
    "    for i in range(len(df)):\n",
    "        day = (dft[i] - dft[0]).days\n",
    "        if day == day_j:\n",
    "            day_idxs.append(i)\n",
    "            day_js.append(day_j)\n",
    "            day_j += day_inc\n",
    "    \n",
    "    return day_idxs, day_js\n",
    "\n",
    "def plot_drift_track(df, data_fname):\n",
    "    \n",
    "    fig = plt.figure()\n",
    "\n",
    "    x, y = df['Longitude'], df['Latitude']\n",
    "    \n",
    "    plt.scatter(x, y, s=2)\n",
    "    \n",
    "    t = df['DataDate_UTC']\n",
    "    day_idxs, day_js = get_day_idxs(t)\n",
    "    \n",
    "    for i, day_idx in enumerate(day_idxs):\n",
    "    \n",
    "        plt.text(x[day_idx], y[day_idx], str(day_js[i]), fontsize=16, )\n",
    "    \n",
    "    plt.title(f'Drift Track from {data_fname}')\n",
    "    plt.xlabel('Longitude')\n",
    "    plt.ylabel('Latitude')\n",
    "    return fig\n"
   ]
  },
  {
   "cell_type": "raw",
   "metadata": {},
   "source": [
    "for filename in csv_filenames:\n",
    "    df = get_df(dir_path, filename)\n",
    "    fig = plot_drift_track(df, filename)\n",
    "    plt.show()\n",
    "    plt.close()"
   ]
  },
  {
   "cell_type": "code",
   "execution_count": 7,
   "metadata": {},
   "outputs": [
    {
     "data": {
      "text/plain": [
       "['0204980_2015.csv',\n",
       " '0505190_2015.csv',\n",
       " '0906790_2015.csv',\n",
       " '0907780_2015.csv']"
      ]
     },
     "execution_count": 7,
     "metadata": {},
     "output_type": "execute_result"
    }
   ],
   "source": [
    "csv_filenames"
   ]
  },
  {
   "cell_type": "code",
   "execution_count": 8,
   "metadata": {},
   "outputs": [
    {
     "data": {
      "text/html": [
       "<div>\n",
       "<style scoped>\n",
       "    .dataframe tbody tr th:only-of-type {\n",
       "        vertical-align: middle;\n",
       "    }\n",
       "\n",
       "    .dataframe tbody tr th {\n",
       "        vertical-align: top;\n",
       "    }\n",
       "\n",
       "    .dataframe thead th {\n",
       "        text-align: right;\n",
       "    }\n",
       "</style>\n",
       "<table border=\"1\" class=\"dataframe\">\n",
       "  <thead>\n",
       "    <tr style=\"text-align: right;\">\n",
       "      <th></th>\n",
       "      <th>BeaconID</th>\n",
       "      <th>BeaconType</th>\n",
       "      <th>DataDate_UTC</th>\n",
       "      <th>TransmissionDate_UTC</th>\n",
       "      <th>Latitude</th>\n",
       "      <th>Longitude</th>\n",
       "      <th>VBatt</th>\n",
       "      <th>AT</th>\n",
       "      <th>ST</th>\n",
       "      <th>BP</th>\n",
       "      <th>Heading</th>\n",
       "      <th>Speed</th>\n",
       "      <th>LocAccuracy</th>\n",
       "      <th>MessageIndex</th>\n",
       "      <th>Satellites</th>\n",
       "      <th>GPSdelay</th>\n",
       "      <th>SNR</th>\n",
       "      <th>TTFF</th>\n",
       "    </tr>\n",
       "  </thead>\n",
       "  <tbody>\n",
       "    <tr>\n",
       "      <th>0</th>\n",
       "      <td>90679</td>\n",
       "      <td>Solara</td>\n",
       "      <td>2015-04-24 15:21:03</td>\n",
       "      <td>NaN</td>\n",
       "      <td>51.46240</td>\n",
       "      <td>-51.55285</td>\n",
       "      <td>NaN</td>\n",
       "      <td>NaN</td>\n",
       "      <td>NaN</td>\n",
       "      <td>NaN</td>\n",
       "      <td>NaN</td>\n",
       "      <td>NaN</td>\n",
       "      <td>NaN</td>\n",
       "      <td>NaN</td>\n",
       "      <td>NaN</td>\n",
       "      <td>NaN</td>\n",
       "      <td>NaN</td>\n",
       "      <td>NaN</td>\n",
       "    </tr>\n",
       "    <tr>\n",
       "      <th>1</th>\n",
       "      <td>90679</td>\n",
       "      <td>Solara</td>\n",
       "      <td>2015-04-24 15:21:29</td>\n",
       "      <td>NaN</td>\n",
       "      <td>51.46174</td>\n",
       "      <td>-51.55156</td>\n",
       "      <td>NaN</td>\n",
       "      <td>NaN</td>\n",
       "      <td>NaN</td>\n",
       "      <td>NaN</td>\n",
       "      <td>NaN</td>\n",
       "      <td>NaN</td>\n",
       "      <td>NaN</td>\n",
       "      <td>NaN</td>\n",
       "      <td>NaN</td>\n",
       "      <td>NaN</td>\n",
       "      <td>NaN</td>\n",
       "      <td>NaN</td>\n",
       "    </tr>\n",
       "    <tr>\n",
       "      <th>2</th>\n",
       "      <td>90679</td>\n",
       "      <td>Solara</td>\n",
       "      <td>2015-04-24 15:21:57</td>\n",
       "      <td>NaN</td>\n",
       "      <td>51.46176</td>\n",
       "      <td>-51.55161</td>\n",
       "      <td>NaN</td>\n",
       "      <td>NaN</td>\n",
       "      <td>NaN</td>\n",
       "      <td>NaN</td>\n",
       "      <td>NaN</td>\n",
       "      <td>NaN</td>\n",
       "      <td>NaN</td>\n",
       "      <td>NaN</td>\n",
       "      <td>NaN</td>\n",
       "      <td>NaN</td>\n",
       "      <td>NaN</td>\n",
       "      <td>NaN</td>\n",
       "    </tr>\n",
       "    <tr>\n",
       "      <th>3</th>\n",
       "      <td>90679</td>\n",
       "      <td>Solara</td>\n",
       "      <td>2015-04-24 15:22:23</td>\n",
       "      <td>NaN</td>\n",
       "      <td>51.46177</td>\n",
       "      <td>-51.55165</td>\n",
       "      <td>NaN</td>\n",
       "      <td>NaN</td>\n",
       "      <td>NaN</td>\n",
       "      <td>NaN</td>\n",
       "      <td>NaN</td>\n",
       "      <td>NaN</td>\n",
       "      <td>NaN</td>\n",
       "      <td>NaN</td>\n",
       "      <td>NaN</td>\n",
       "      <td>NaN</td>\n",
       "      <td>NaN</td>\n",
       "      <td>NaN</td>\n",
       "    </tr>\n",
       "    <tr>\n",
       "      <th>4</th>\n",
       "      <td>90679</td>\n",
       "      <td>Solara</td>\n",
       "      <td>2015-04-24 15:22:55</td>\n",
       "      <td>NaN</td>\n",
       "      <td>51.46175</td>\n",
       "      <td>-51.55176</td>\n",
       "      <td>NaN</td>\n",
       "      <td>NaN</td>\n",
       "      <td>NaN</td>\n",
       "      <td>NaN</td>\n",
       "      <td>NaN</td>\n",
       "      <td>NaN</td>\n",
       "      <td>NaN</td>\n",
       "      <td>NaN</td>\n",
       "      <td>NaN</td>\n",
       "      <td>NaN</td>\n",
       "      <td>NaN</td>\n",
       "      <td>NaN</td>\n",
       "    </tr>\n",
       "  </tbody>\n",
       "</table>\n",
       "</div>"
      ],
      "text/plain": [
       "   BeaconID BeaconType        DataDate_UTC  TransmissionDate_UTC  Latitude  \\\n",
       "0     90679     Solara 2015-04-24 15:21:03                   NaN  51.46240   \n",
       "1     90679     Solara 2015-04-24 15:21:29                   NaN  51.46174   \n",
       "2     90679     Solara 2015-04-24 15:21:57                   NaN  51.46176   \n",
       "3     90679     Solara 2015-04-24 15:22:23                   NaN  51.46177   \n",
       "4     90679     Solara 2015-04-24 15:22:55                   NaN  51.46175   \n",
       "\n",
       "   Longitude  VBatt  AT  ST  BP  Heading  Speed  LocAccuracy  MessageIndex  \\\n",
       "0  -51.55285    NaN NaN NaN NaN      NaN    NaN          NaN           NaN   \n",
       "1  -51.55156    NaN NaN NaN NaN      NaN    NaN          NaN           NaN   \n",
       "2  -51.55161    NaN NaN NaN NaN      NaN    NaN          NaN           NaN   \n",
       "3  -51.55165    NaN NaN NaN NaN      NaN    NaN          NaN           NaN   \n",
       "4  -51.55176    NaN NaN NaN NaN      NaN    NaN          NaN           NaN   \n",
       "\n",
       "   Satellites  GPSdelay  SNR  TTFF  \n",
       "0         NaN       NaN  NaN   NaN  \n",
       "1         NaN       NaN  NaN   NaN  \n",
       "2         NaN       NaN  NaN   NaN  \n",
       "3         NaN       NaN  NaN   NaN  \n",
       "4         NaN       NaN  NaN   NaN  "
      ]
     },
     "execution_count": 8,
     "metadata": {},
     "output_type": "execute_result"
    }
   ],
   "source": [
    "filename = '0906790_2015.csv'\n",
    "df = get_df(dir_path, filename)\n",
    "df.head()"
   ]
  },
  {
   "cell_type": "markdown",
   "metadata": {},
   "source": [
    "# Simulate"
   ]
  },
  {
   "cell_type": "code",
   "execution_count": 10,
   "metadata": {},
   "outputs": [],
   "source": [
    "from datetime import datetime"
   ]
  },
  {
   "cell_type": "code",
   "execution_count": 11,
   "metadata": {},
   "outputs": [],
   "source": [
    "start_time = np.datetime64(df.DataDate_UTC.values[0])\n",
    "start_datetime = datetime.utcfromtimestamp(start_time.astype(int) * 1e-9)\n",
    "end_time = np.datetime64(df.DataDate_UTC.values[1000])\n",
    "end_datetime = datetime.utcfromtimestamp(end_time.astype(int) * 1e-9)\n",
    "start_latitude = df.Latitude.values[0]\n",
    "start_longitude = df.Longitude.values[0]\n",
    "\n",
    "dt_hours = 0.1\n",
    "dt_seconds = dt_hours*3600\n",
    "dt = np.timedelta64(int(dt_seconds), 's')\n",
    "run_length = np.timedelta64(end_time - start_time, 's')\n",
    "nt = run_length / dt"
   ]
  },
  {
   "cell_type": "code",
   "execution_count": 12,
   "metadata": {},
   "outputs": [],
   "source": [
    "ocean = ECMWFOcean((start_datetime, end_datetime))\n",
    "atm = NARRAtmosphere((start_datetime, end_datetime))"
   ]
  },
  {
   "cell_type": "raw",
   "metadata": {},
   "source": [
    "current_velocity = (float(ocean.eastward_current_velocities.interp(\n",
    "    time=iceberg.time, latitude=iceberg.latitude, \n",
    "    longitude=iceberg.longitude)),\n",
    "    float(ocean.northward_current_velocities.interp(\n",
    "    time=iceberg.time, latitude=iceberg.latitude, \n",
    "    longitude=iceberg.longitude)))\n",
    "\n",
    "wind_velocity = (float(atm.eastward_wind_velocities.interp(\n",
    "    time=iceberg.time, latitude=iceberg.latitude, \n",
    "    longitude=iceberg.longitude)),\n",
    "    float(atm.northward_wind_velocities.interp(\n",
    "    time=iceberg.time, latitude=iceberg.latitude, \n",
    "    longitude=iceberg.longitude))) "
   ]
  },
  {
   "cell_type": "code",
   "execution_count": 44,
   "metadata": {},
   "outputs": [],
   "source": [
    "iceberg = quickstart(start_time, (start_latitude, start_longitude))\n",
    "\n",
    "iceberg_constants = {\n",
    "    'sail_area': iceberg.geometry.sail_area,\n",
    "    'keel_area': iceberg.geometry.keel_area,\n",
    "    'top_area': iceberg.geometry.waterline_length**2,\n",
    "    'bottom_area': 0,\n",
    "    'mass': iceberg.geometry.mass,\n",
    "    'latitude': iceberg.latitude\n",
    "}\n",
    "\n",
    "point = (iceberg.time, iceberg.latitude, iceberg.longitude)\n",
    "\n",
    "current_velocity = (interpolate(point, ocean.eastward_current_velocities),\n",
    "                    interpolate(point, ocean.northward_current_velocities))\n",
    "\n",
    "wind_velocity = (interpolate(point, atm.eastward_wind_velocities),\n",
    "                 interpolate(point, atm.northward_wind_velocities))\n",
    "\n",
    "for t in range(int(nt)):\n",
    "    \n",
    "    ax, ay = newtonian_drift((iceberg.eastward_velocity, iceberg.northward_velocity), \n",
    "                             current_velocity, wind_velocity, \n",
    "                             iceberg_constants)\n",
    "    \n",
    "    iceberg.time += dt\n",
    "    iceberg.eastward_velocity += ax * dt_seconds\n",
    "    iceberg.northward_velocity += ay * dt_seconds\n",
    "    iceberg.latitude += dy_to_dlat(iceberg.northward_velocity * dt_seconds)\n",
    "    iceberg.longitude += dx_to_dlon(iceberg.eastward_velocity * dt_seconds, iceberg.latitude)\n",
    "    \n",
    "    point = (iceberg.time, iceberg.latitude, iceberg.longitude)\n",
    "    \n",
    "    current_velocity = (interpolate(point, ocean.eastward_current_velocities),\n",
    "                       interpolate(point, ocean.northward_current_velocities))\n",
    "    \n",
    "    wind_velocity = (interpolate(point, atm.eastward_wind_velocities),\n",
    "                    interpolate(point, atm.northward_wind_velocities))    \n",
    "       \n",
    "    iceberg_constants['latitude'] = iceberg.latitude\n",
    "    iceberg.update_history()"
   ]
  },
  {
   "cell_type": "code",
   "execution_count": 45,
   "metadata": {},
   "outputs": [
    {
     "data": {
      "text/plain": [
       "(1903, 1903, 1903)"
      ]
     },
     "execution_count": 45,
     "metadata": {},
     "output_type": "execute_result"
    }
   ],
   "source": [
    "len(iceberg.history['time']), len(iceberg.history['latitude']), len(iceberg.history['longitude']) "
   ]
  },
  {
   "cell_type": "code",
   "execution_count": 40,
   "metadata": {},
   "outputs": [
    {
     "data": {
      "text/plain": [
       "-0.029467757754581103"
      ]
     },
     "execution_count": 40,
     "metadata": {},
     "output_type": "execute_result"
    }
   ],
   "source": [
    "iceberg.eastward_velocity"
   ]
  },
  {
   "cell_type": "code",
   "execution_count": 41,
   "metadata": {},
   "outputs": [
    {
     "data": {
      "text/plain": [
       "[<matplotlib.lines.Line2D at 0x7fa4e84ea0f0>]"
      ]
     },
     "execution_count": 41,
     "metadata": {},
     "output_type": "execute_result"
    },
    {
     "data": {
      "image/png": "[encoded data removed]",
      "text/plain": [
       "<Figure size 432x288 with 1 Axes>"
      ]
     },
     "metadata": {},
     "output_type": "display_data"
    }
   ],
   "source": [
    "plt.plot(iceberg.history['longitude'], iceberg.history['latitude'])\n",
    "plt.plot(df.Longitude[:1000], df.Latitude[:1000])"
   ]
  },
  {
   "cell_type": "code",
   "execution_count": 232,
   "metadata": {},
   "outputs": [
    {
     "data": {
      "text/plain": [
       "[<xarray.DataArray ()>\n",
       " array(-51.553879)\n",
       " Coordinates:\n",
       "     time       datetime64[ns] 2015-04-24T15:21:03\n",
       "     latitude   float64 51.46\n",
       "     longitude  float64 -51.55, <xarray.DataArray ()>\n",
       " array(-51.553879)\n",
       " Coordinates:\n",
       "     time       datetime64[ns] 2015-04-24T15:21:03\n",
       "     latitude   float64 51.46\n",
       "     longitude  float64 -51.55, <xarray.DataArray ()>\n",
       " array(-51.553879)\n",
       " Coordinates:\n",
       "     time       datetime64[ns] 2015-04-24T15:21:03\n",
       "     latitude   float64 51.46\n",
       "     longitude  float64 -51.55, <xarray.DataArray ()>\n",
       " array(-51.553879)\n",
       " Coordinates:\n",
       "     time       datetime64[ns] 2015-04-24T15:21:03\n",
       "     latitude   float64 51.46\n",
       "     longitude  float64 -51.55, <xarray.DataArray ()>\n",
       " array(-51.553879)\n",
       " Coordinates:\n",
       "     time       datetime64[ns] 2015-04-24T15:21:03\n",
       "     latitude   float64 51.46\n",
       "     longitude  float64 -51.55, <xarray.DataArray ()>\n",
       " array(-51.553879)\n",
       " Coordinates:\n",
       "     time       datetime64[ns] 2015-04-24T15:21:03\n",
       "     latitude   float64 51.46\n",
       "     longitude  float64 -51.55, <xarray.DataArray ()>\n",
       " array(-51.553879)\n",
       " Coordinates:\n",
       "     time       datetime64[ns] 2015-04-24T15:21:03\n",
       "     latitude   float64 51.46\n",
       "     longitude  float64 -51.55, <xarray.DataArray ()>\n",
       " array(-51.553879)\n",
       " Coordinates:\n",
       "     time       datetime64[ns] 2015-04-24T15:21:03\n",
       "     latitude   float64 51.46\n",
       "     longitude  float64 -51.55, <xarray.DataArray ()>\n",
       " array(-51.553879)\n",
       " Coordinates:\n",
       "     time       datetime64[ns] 2015-04-24T15:21:03\n",
       "     latitude   float64 51.46\n",
       "     longitude  float64 -51.55, <xarray.DataArray ()>\n",
       " array(-51.553879)\n",
       " Coordinates:\n",
       "     time       datetime64[ns] 2015-04-24T15:21:03\n",
       "     latitude   float64 51.46\n",
       "     longitude  float64 -51.55]"
      ]
     },
     "execution_count": 232,
     "metadata": {},
     "output_type": "execute_result"
    }
   ],
   "source": [
    "iceberg.history['longitude']"
   ]
  },
  {
   "cell_type": "code",
   "execution_count": 124,
   "metadata": {},
   "outputs": [
    {
     "data": {
      "text/plain": [
       "(<xarray.DataArray ()>\n",
       " array(0.006754)\n",
       " Coordinates:\n",
       "     time       datetime64[ns] 2015-04-24T15:21:03\n",
       "     latitude   float64 51.46\n",
       "     longitude  float64 -51.55, <xarray.DataArray ()>\n",
       " array(0.006769)\n",
       " Coordinates:\n",
       "     time       datetime64[ns] 2015-04-24T15:21:03\n",
       "     latitude   float64 51.46\n",
       "     longitude  float64 -51.55)"
      ]
     },
     "execution_count": 124,
     "metadata": {},
     "output_type": "execute_result"
    }
   ],
   "source": [
    "newtonian_drift(iceberg.velocity, current_velocity, wind_velocity, iceberg_constants)"
   ]
  },
  {
   "cell_type": "code",
   "execution_count": 125,
   "metadata": {},
   "outputs": [
    {
     "ename": "NameError",
     "evalue": "name 'dt' is not defined",
     "output_type": "error",
     "traceback": [
      "\u001b[0;31m---------------------------------------------------------------------------\u001b[0m",
      "\u001b[0;31mNameError\u001b[0m                                 Traceback (most recent call last)",
      "\u001b[0;32m<ipython-input-125-36673dcb6ee0>\u001b[0m in \u001b[0;36m<module>\u001b[0;34m()\u001b[0m\n\u001b[0;32m----> 1\u001b[0;31m \u001b[0mdt\u001b[0m\u001b[0;34m\u001b[0m\u001b[0m\n\u001b[0m",
      "\u001b[0;31mNameError\u001b[0m: name 'dt' is not defined"
     ]
    }
   ],
   "source": [
    "dt"
   ]
  },
  {
   "cell_type": "code",
   "execution_count": 118,
   "metadata": {},
   "outputs": [
    {
     "data": {
      "text/plain": [
       "(<xarray.DataArray ()>\n",
       " array(0.043057)\n",
       " Coordinates:\n",
       "     time       datetime64[ns] 2015-04-24T15:21:03\n",
       "     latitude   float64 51.46\n",
       "     longitude  float64 -51.55\n",
       " Attributes:\n",
       "     standard_name:    eastward_sea_water_velocity\n",
       "     long_name:        Eastward velocity\n",
       "     units:            m s-1\n",
       "     _CoordinateAxes:  time depth latitude longitude \n",
       "     unit_long:        Meters per second\n",
       "     cell_methods:     area: mean, <xarray.DataArray ()>\n",
       " array(0.072634)\n",
       " Coordinates:\n",
       "     time       datetime64[ns] 2015-04-24T15:21:03\n",
       "     latitude   float64 51.46\n",
       "     longitude  float64 -51.55\n",
       " Attributes:\n",
       "     standard_name:    northward_sea_water_velocity\n",
       "     long_name:        Northward velocity\n",
       "     units:            m s-1\n",
       "     _CoordinateAxes:  time depth latitude longitude \n",
       "     unit_long:        Meters per second\n",
       "     cell_methods:     area: mean)"
      ]
     },
     "execution_count": 118,
     "metadata": {},
     "output_type": "execute_result"
    }
   ],
   "source": [
    "ocean_velocity"
   ]
  },
  {
   "cell_type": "code",
   "execution_count": 119,
   "metadata": {},
   "outputs": [
    {
     "data": {
      "text/plain": [
       "(<xarray.DataArray ()>\n",
       " array(-3.239005)\n",
       " Coordinates:\n",
       "     time       datetime64[ns] 2015-04-24T15:21:03\n",
       "     latitude   float64 51.46\n",
       "     longitude  float64 -51.55\n",
       " Attributes:\n",
       "     standard_name:  eastward_wind\n",
       "     long_name:      3-hourly u-wind at 10 m\n",
       "     units:          m/s\n",
       "     GRIB_id:        33\n",
       "     GRIB_name:      UGRD\n",
       "     dataset:        NARR 3-hourly\n",
       "     level_desc:     10 m\n",
       "     parent_stat:    Other\n",
       "     statistic:      Individual Obs\n",
       "     var_desc:       u-wind\n",
       "     actual_range:   [-41.542862  29.228455], <xarray.DataArray ()>\n",
       " array(-0.953792)\n",
       " Coordinates:\n",
       "     time       datetime64[ns] 2015-04-24T15:21:03\n",
       "     latitude   float64 51.46\n",
       "     longitude  float64 -51.55\n",
       " Attributes:\n",
       "     standard_name:  northward_wind\n",
       "     long_name:      3-hourly v-wind at 10 m\n",
       "     units:          m/s\n",
       "     GRIB_id:        34\n",
       "     GRIB_name:      VGRD\n",
       "     dataset:        NARR 3-hourly\n",
       "     level_desc:     10 m\n",
       "     parent_stat:    Other\n",
       "     statistic:      Individual Obs\n",
       "     var_desc:       v-wind\n",
       "     actual_range:   [-32.7715    31.337936])"
      ]
     },
     "execution_count": 119,
     "metadata": {},
     "output_type": "execute_result"
    }
   ],
   "source": [
    "wind_velocity"
   ]
  },
  {
   "cell_type": "code",
   "execution_count": 71,
   "metadata": {},
   "outputs": [
    {
     "data": {
      "text/plain": [
       "(0, 0)"
      ]
     },
     "execution_count": 71,
     "metadata": {},
     "output_type": "execute_result"
    }
   ],
   "source": [
    "iceberg.velocity"
   ]
  },
  {
   "cell_type": "code",
   "execution_count": null,
   "metadata": {},
   "outputs": [],
   "source": []
  },
  {
   "cell_type": "code",
   "execution_count": null,
   "metadata": {},
   "outputs": [],
   "source": []
  },
  {
   "cell_type": "code",
   "execution_count": null,
   "metadata": {},
   "outputs": [],
   "source": []
  },
  {
   "cell_type": "code",
   "execution_count": null,
   "metadata": {},
   "outputs": [],
   "source": []
  },
  {
   "cell_type": "code",
   "execution_count": null,
   "metadata": {},
   "outputs": [],
   "source": []
  },
  {
   "cell_type": "code",
   "execution_count": null,
   "metadata": {},
   "outputs": [],
   "source": []
  },
  {
   "cell_type": "code",
   "execution_count": null,
   "metadata": {},
   "outputs": [],
   "source": []
  },
  {
   "cell_type": "code",
   "execution_count": null,
   "metadata": {},
   "outputs": [],
   "source": []
  },
  {
   "cell_type": "code",
   "execution_count": null,
   "metadata": {},
   "outputs": [],
   "source": []
  },
  {
   "cell_type": "code",
   "execution_count": null,
   "metadata": {},
   "outputs": [],
   "source": []
  },
  {
   "cell_type": "code",
   "execution_count": null,
   "metadata": {},
   "outputs": [],
   "source": []
  },
  {
   "cell_type": "code",
   "execution_count": null,
   "metadata": {},
   "outputs": [],
   "source": []
  },
  {
   "cell_type": "code",
   "execution_count": null,
   "metadata": {},
   "outputs": [],
   "source": []
  },
  {
   "cell_type": "code",
   "execution_count": null,
   "metadata": {},
   "outputs": [],
   "source": []
  },
  {
   "cell_type": "code",
   "execution_count": null,
   "metadata": {},
   "outputs": [],
   "source": []
  },
  {
   "cell_type": "code",
   "execution_count": null,
   "metadata": {},
   "outputs": [],
   "source": []
  },
  {
   "cell_type": "code",
   "execution_count": null,
   "metadata": {},
   "outputs": [],
   "source": []
  },
  {
   "cell_type": "code",
   "execution_count": null,
   "metadata": {},
   "outputs": [],
   "source": []
  },
  {
   "cell_type": "code",
   "execution_count": null,
   "metadata": {},
   "outputs": [],
   "source": []
  },
  {
   "cell_type": "code",
   "execution_count": null,
   "metadata": {},
   "outputs": [],
   "source": []
  },
  {
   "cell_type": "code",
   "execution_count": null,
   "metadata": {},
   "outputs": [],
   "source": []
  },
  {
   "cell_type": "code",
   "execution_count": null,
   "metadata": {},
   "outputs": [],
   "source": []
  },
  {
   "cell_type": "code",
   "execution_count": null,
   "metadata": {},
   "outputs": [],
   "source": []
  },
  {
   "cell_type": "code",
   "execution_count": null,
   "metadata": {},
   "outputs": [],
   "source": []
  },
  {
   "cell_type": "code",
   "execution_count": null,
   "metadata": {},
   "outputs": [],
   "source": []
  },
  {
   "cell_type": "code",
   "execution_count": null,
   "metadata": {},
   "outputs": [],
   "source": []
  },
  {
   "cell_type": "code",
   "execution_count": null,
   "metadata": {},
   "outputs": [],
   "source": []
  },
  {
   "cell_type": "code",
   "execution_count": null,
   "metadata": {},
   "outputs": [],
   "source": []
  },
  {
   "cell_type": "code",
   "execution_count": null,
   "metadata": {},
   "outputs": [],
   "source": []
  },
  {
   "cell_type": "code",
   "execution_count": null,
   "metadata": {},
   "outputs": [],
   "source": []
  },
  {
   "cell_type": "code",
   "execution_count": null,
   "metadata": {},
   "outputs": [],
   "source": []
  },
  {
   "cell_type": "code",
   "execution_count": null,
   "metadata": {},
   "outputs": [],
   "source": []
  },
  {
   "cell_type": "code",
   "execution_count": null,
   "metadata": {},
   "outputs": [],
   "source": []
  },
  {
   "cell_type": "code",
   "execution_count": null,
   "metadata": {},
   "outputs": [],
   "source": []
  },
  {
   "cell_type": "code",
   "execution_count": null,
   "metadata": {},
   "outputs": [],
   "source": []
  },
  {
   "cell_type": "code",
   "execution_count": null,
   "metadata": {},
   "outputs": [],
   "source": []
  },
  {
   "cell_type": "code",
   "execution_count": null,
   "metadata": {},
   "outputs": [],
   "source": []
  },
  {
   "cell_type": "code",
   "execution_count": null,
   "metadata": {},
   "outputs": [],
   "source": []
  },
  {
   "cell_type": "code",
   "execution_count": 25,
   "metadata": {},
   "outputs": [
    {
     "data": {
      "text/plain": [
       "Frozen(OrderedDict([('longitude', <xarray.IndexVariable 'longitude' (longitude: 301)>\n",
       "array([-65.      , -64.916664, -64.833336, ..., -40.166668, -40.083332,\n",
       "       -40.      ], dtype=float32)\n",
       "Attributes:\n",
       "    standard_name:  longitude\n",
       "    long_name:      longitude\n",
       "    units:          degrees_east\n",
       "    axis:           X), ('latitude', <xarray.IndexVariable 'latitude' (latitude: 301)>\n",
       "array([40.      , 40.083332, 40.166668, ..., 64.833336, 64.916664, 65.      ],\n",
       "      dtype=float32)\n",
       "Attributes:\n",
       "    standard_name:  latitude\n",
       "    long_name:      latitude\n",
       "    units:          degrees_north\n",
       "    axis:           Y), ('depth', <xarray.IndexVariable 'depth' (depth: 1)>\n",
       "array([0.494025], dtype=float32)\n",
       "Attributes:\n",
       "    standard_name:           depth\n",
       "    long_name:               Depth\n",
       "    units:                   m\n",
       "    positive:                down\n",
       "    axis:                    Z\n",
       "    unit_long:               Meters\n",
       "    _CoordinateAxisType:     Height\n",
       "    _CoordinateZisPositive:  down), ('time', <xarray.IndexVariable 'time' (time: 24)>\n",
       "array(['2015-04-24T00:30:00.000000000', '2015-04-24T01:30:00.000000000',\n",
       "       '2015-04-24T02:30:00.000000000', '2015-04-24T03:30:00.000000000',\n",
       "       '2015-04-24T04:30:00.000000000', '2015-04-24T05:30:00.000000000',\n",
       "       '2015-04-24T06:30:00.000000000', '2015-04-24T07:30:00.000000000',\n",
       "       '2015-04-24T08:30:00.000000000', '2015-04-24T09:30:00.000000000',\n",
       "       '2015-04-24T10:30:00.000000000', '2015-04-24T11:30:00.000000000',\n",
       "       '2015-04-24T12:30:00.000000000', '2015-04-24T13:30:00.000000000',\n",
       "       '2015-04-24T14:30:00.000000000', '2015-04-24T15:30:00.000000000',\n",
       "       '2015-04-24T16:30:00.000000000', '2015-04-24T17:30:00.000000000',\n",
       "       '2015-04-24T18:30:00.000000000', '2015-04-24T19:30:00.000000000',\n",
       "       '2015-04-24T20:30:00.000000000', '2015-04-24T21:30:00.000000000',\n",
       "       '2015-04-24T22:30:00.000000000', '2015-04-24T23:30:00.000000000'],\n",
       "      dtype='datetime64[ns]')\n",
       "Attributes:\n",
       "    standard_name:  time\n",
       "    long_name:      Time (hours since 1950-01-01)\n",
       "    axis:           T), ('thetao', <xarray.Variable (time: 24, depth: 1, latitude: 301, longitude: 301)>\n",
       "dask.array<shape=(24, 1, 301, 301), dtype=float32, chunksize=(24, 1, 301, 301)>\n",
       "Attributes:\n",
       "    standard_name:    sea_water_potential_temperature\n",
       "    long_name:        Temperature\n",
       "    units:            degrees_C\n",
       "    _CoordinateAxes:  time depth latitude longitude \n",
       "    unit_long:        Degrees Celsius\n",
       "    cell_methods:     area: mean), ('uo', <xarray.Variable (time: 24, depth: 1, latitude: 301, longitude: 301)>\n",
       "dask.array<shape=(24, 1, 301, 301), dtype=float32, chunksize=(24, 1, 301, 301)>\n",
       "Attributes:\n",
       "    standard_name:    eastward_sea_water_velocity\n",
       "    long_name:        Eastward velocity\n",
       "    units:            m s-1\n",
       "    _CoordinateAxes:  time depth latitude longitude \n",
       "    unit_long:        Meters per second\n",
       "    cell_methods:     area: mean), ('vo', <xarray.Variable (time: 24, depth: 1, latitude: 301, longitude: 301)>\n",
       "dask.array<shape=(24, 1, 301, 301), dtype=float32, chunksize=(24, 1, 301, 301)>\n",
       "Attributes:\n",
       "    standard_name:    northward_sea_water_velocity\n",
       "    long_name:        Northward velocity\n",
       "    units:            m s-1\n",
       "    _CoordinateAxes:  time depth latitude longitude \n",
       "    unit_long:        Meters per second\n",
       "    cell_methods:     area: mean)]))"
      ]
     },
     "execution_count": 25,
     "metadata": {},
     "output_type": "execute_result"
    }
   ],
   "source": [
    "ocean.dataset.variables"
   ]
  },
  {
   "cell_type": "code",
   "execution_count": 26,
   "metadata": {},
   "outputs": [
    {
     "data": {
      "text/plain": [
       "<xarray.DataArray (time: 24, latitude: 301, longitude: 301)>\n",
       "array([[[ 6.506546e-01,  5.981628e-01, ...,  3.662221e-01,  3.460799e-01],\n",
       "        [ 6.463820e-01,  6.207465e-01, ...,  3.393658e-01,  3.283792e-01],\n",
       "        ...,\n",
       "        [ 0.000000e+00,  2.441481e-03, ..., -9.216590e-02, -1.098666e-01],\n",
       "        [-6.714072e-03, -9.765923e-03, ..., -1.721244e-01, -1.751762e-01]],\n",
       "\n",
       "       [[ 6.396680e-01,  5.829035e-01, ...,  3.631703e-01,  3.430280e-01],\n",
       "        [ 6.390576e-01,  6.103702e-01, ...,  3.381451e-01,  3.265480e-01],\n",
       "        ...,\n",
       "        [ 6.103702e-04,  3.662221e-03, ..., -4.028443e-02, -5.432295e-02],\n",
       "        [-5.493332e-03, -8.545183e-03, ..., -1.519822e-01, -1.452681e-01]],\n",
       "\n",
       "       ...,\n",
       "\n",
       "       [[ 7.861568e-01,  7.147435e-01, ...,  3.637806e-01,  3.344828e-01],\n",
       "        [ 7.782220e-01,  7.232887e-01, ...,  3.112888e-01,  3.082370e-01],\n",
       "        ...,\n",
       "        [ 2.502518e-02,  2.624592e-02, ...,  2.380444e-02,  1.403851e-02],\n",
       "        [ 1.953185e-02,  2.136296e-02, ...,  1.428266e-01,  1.001007e-01]],\n",
       "\n",
       "       [[ 7.727287e-01,  6.994842e-01, ...,  3.668325e-01,  3.369243e-01],\n",
       "        [ 7.684560e-01,  7.098605e-01, ...,  3.106784e-01,  3.076266e-01],\n",
       "        ...,\n",
       "        [ 2.563555e-02,  2.624592e-02, ...,  1.342814e-02, -1.831111e-03],\n",
       "        [ 1.770074e-02,  2.014222e-02, ...,  1.330607e-01,  8.423109e-02]]],\n",
       "      dtype=float32)\n",
       "Coordinates:\n",
       "  * time       (time) datetime64[ns] 2015-04-24T00:30:00 2015-04-24T01:30:00 ...\n",
       "  * latitude   (latitude) float32 40.0 40.083332 40.166668 40.25 40.333332 ...\n",
       "  * longitude  (longitude) float32 -65.0 -64.916664 -64.833336 -64.75 ...\n",
       "Attributes:\n",
       "    standard_name:    eastward_sea_water_velocity\n",
       "    long_name:        Eastward velocity\n",
       "    units:            m s-1\n",
       "    _CoordinateAxes:  time depth latitude longitude \n",
       "    unit_long:        Meters per second\n",
       "    cell_methods:     area: mean"
      ]
     },
     "execution_count": 26,
     "metadata": {},
     "output_type": "execute_result"
    }
   ],
   "source": [
    "ocean.eastward_current_velocities"
   ]
  },
  {
   "cell_type": "code",
   "execution_count": 34,
   "metadata": {},
   "outputs": [],
   "source": [
    "datetimes = pd.to_datetime(ocean.dataset.time.values).to_pydatetime()"
   ]
  },
  {
   "cell_type": "code",
   "execution_count": 43,
   "metadata": {},
   "outputs": [],
   "source": [
    "hours_since_1800 = nc.date2num(datetimes, units='hours since 1800-1-1', calendar='standard')"
   ]
  },
  {
   "cell_type": "code",
   "execution_count": 44,
   "metadata": {},
   "outputs": [],
   "source": [
    "ocean.eastward_current_velocities['time'] = hours_since_1800"
   ]
  },
  {
   "cell_type": "code",
   "execution_count": 51,
   "metadata": {},
   "outputs": [
    {
     "data": {
      "text/plain": [
       "<xarray.DataArray ()>\n",
       "array(0.054846)\n",
       "Coordinates:\n",
       "    time       float64 1.887e+06\n",
       "    latitude   float64 51.46\n",
       "    longitude  float64 -51.55\n",
       "Attributes:\n",
       "    standard_name:    eastward_sea_water_velocity\n",
       "    long_name:        Eastward velocity\n",
       "    units:            m s-1\n",
       "    _CoordinateAxes:  time depth latitude longitude \n",
       "    unit_long:        Meters per second\n",
       "    cell_methods:     area: mean"
      ]
     },
     "execution_count": 51,
     "metadata": {},
     "output_type": "execute_result"
    }
   ],
   "source": [
    "ocean.eastward_current_velocities.interp(\n",
    "    time=hours_since_1800[1], latitude=start_latitude, longitude=start_longitude)"
   ]
  },
  {
   "cell_type": "code",
   "execution_count": 56,
   "metadata": {},
   "outputs": [
    {
     "data": {
      "text/plain": [
       "<xarray.DataArray ()>\n",
       "array(0.091206)\n",
       "Coordinates:\n",
       "    time       datetime64[ns] 2015-04-24T00:36:00\n",
       "    latitude   float64 51.46\n",
       "    longitude  float64 -51.55\n",
       "Attributes:\n",
       "    standard_name:    northward_sea_water_velocity\n",
       "    long_name:        Northward velocity\n",
       "    units:            m s-1\n",
       "    _CoordinateAxes:  time depth latitude longitude \n",
       "    unit_long:        Meters per second\n",
       "    cell_methods:     area: mean"
      ]
     },
     "execution_count": 56,
     "metadata": {},
     "output_type": "execute_result"
    }
   ],
   "source": [
    "ocean.northward_current_velocities.interp(\n",
    "time=np.datetime64('2015-04-24T00:36:00'), latitude=start_latitude, \n",
    "    longitude=start_longitude)"
   ]
  },
  {
   "cell_type": "code",
   "execution_count": 61,
   "metadata": {},
   "outputs": [
    {
     "data": {
      "text/plain": [
       "2015"
      ]
     },
     "execution_count": 61,
     "metadata": {},
     "output_type": "execute_result"
    }
   ],
   "source": [
    "np.datetime64('2015-04-24T00:30:00').astype(object).year"
   ]
  },
  {
   "cell_type": "code",
   "execution_count": 62,
   "metadata": {},
   "outputs": [
    {
     "data": {
      "text/plain": [
       "numpy.datetime64('2015-04-24T00:36:00')"
      ]
     },
     "execution_count": 62,
     "metadata": {},
     "output_type": "execute_result"
    }
   ],
   "source": [
    "np.datetime64('2015-04-24T00:30:00') + np.timedelta64(6, 'm')"
   ]
  },
  {
   "cell_type": "code",
   "execution_count": 63,
   "metadata": {},
   "outputs": [],
   "source": [
    "datetime64 = np.datetime64('2015-04-24T00:30:00')"
   ]
  },
  {
   "cell_type": "code",
   "execution_count": 69,
   "metadata": {},
   "outputs": [
    {
     "data": {
      "text/plain": [
       "2015"
      ]
     },
     "execution_count": 69,
     "metadata": {},
     "output_type": "execute_result"
    }
   ],
   "source": [
    "datetime64.astype(object).year"
   ]
  },
  {
   "cell_type": "code",
   "execution_count": null,
   "metadata": {},
   "outputs": [],
   "source": []
  }
 ],
 "metadata": {
  "kernelspec": {
   "display_name": "Python 3",
   "language": "python",
   "name": "python3"
  },
  "language_info": {
   "codemirror_mode": {
    "name": "ipython",
    "version": 3
   },
   "file_extension": ".py",
   "mimetype": "text/x-python",
   "name": "python",
   "nbconvert_exporter": "python",
   "pygments_lexer": "ipython3",
   "version": "3.6.5"
  }
 },
 "nbformat": 4,
 "nbformat_minor": 2
}
