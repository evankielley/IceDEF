{
 "cells": [
  {
   "cell_type": "code",
   "execution_count": 108,
   "metadata": {},
   "outputs": [],
   "source": [
    "import xarray as xr\n",
    "import numpy as np\n",
    "import matplotlib.pyplot as plt"
   ]
  },
  {
   "cell_type": "code",
   "execution_count": 109,
   "metadata": {},
   "outputs": [],
   "source": [
    "url = \"http://www.ncei.noaa.gov/thredds/dodsC/uv/6h_agg_rt/Preliminary_Aggregation_of_6h_Ocean_Wind_best.ncd\""
   ]
  },
  {
   "cell_type": "code",
   "execution_count": 137,
   "metadata": {},
   "outputs": [
    {
     "data": {
      "text/plain": [
       "<xarray.DataArray 'lat' (lat: 81)>\n",
       "array([ 40.  ,  40.25,  40.5 ,  40.75,  41.  ,  41.25,  41.5 ,  41.75,  42.  ,\n",
       "        42.25,  42.5 ,  42.75,  43.  ,  43.25,  43.5 ,  43.75,  44.  ,  44.25,\n",
       "        44.5 ,  44.75,  45.  ,  45.25,  45.5 ,  45.75,  46.  ,  46.25,  46.5 ,\n",
       "        46.75,  47.  ,  47.25,  47.5 ,  47.75,  48.  ,  48.25,  48.5 ,  48.75,\n",
       "        49.  ,  49.25,  49.5 ,  49.75,  50.  ,  50.25,  50.5 ,  50.75,  51.  ,\n",
       "        51.25,  51.5 ,  51.75,  52.  ,  52.25,  52.5 ,  52.75,  53.  ,  53.25,\n",
       "        53.5 ,  53.75,  54.  ,  54.25,  54.5 ,  54.75,  55.  ,  55.25,  55.5 ,\n",
       "        55.75,  56.  ,  56.25,  56.5 ,  56.75,  57.  ,  57.25,  57.5 ,  57.75,\n",
       "        58.  ,  58.25,  58.5 ,  58.75,  59.  ,  59.25,  59.5 ,  59.75,  60.  ], dtype=float32)\n",
       "Coordinates:\n",
       "  * lat      (lat) float32 40.0 40.25 40.5 40.75 41.0 41.25 41.5 41.75 42.0 ...\n",
       "Attributes:\n",
       "    units:                degrees_north\n",
       "    long_name:            latitude\n",
       "    grids:                uniform grids from -89.75 to 89.75 by 0.25\n",
       "    _CoordinateAxisType:  Lat\n",
       "    standard_name:        latitude"
      ]
     },
     "execution_count": 137,
     "metadata": {},
     "output_type": "execute_result"
    }
   ],
   "source": [
    "ds['lat']"
   ]
  },
  {
   "cell_type": "code",
   "execution_count": 110,
   "metadata": {},
   "outputs": [],
   "source": [
    "t_min = np.datetime64('2015-06-01T00:00:00')\n",
    "t_max = np.datetime64('2015-06-02T00:00:00')\n",
    "x_min = 360-60\n",
    "x_max = 360-40\n",
    "y_min = 40\n",
    "y_max = 60"
   ]
  },
  {
   "cell_type": "code",
   "execution_count": 111,
   "metadata": {},
   "outputs": [],
   "source": [
    "ds = xr.open_dataset(url).sel(\n",
    "                                time = slice(t_min, t_max),\n",
    "                                lat = slice(y_min, y_max), \n",
    "                                lon = slice(x_min, x_max))"
   ]
  },
  {
   "cell_type": "code",
   "execution_count": 112,
   "metadata": {},
   "outputs": [
    {
     "data": {
      "text/plain": [
       "array(['2015-06-01T00:00:00.000000000', '2015-06-01T06:00:00.000000000',\n",
       "       '2015-06-01T12:00:00.000000000', '2015-06-01T18:00:00.000000000',\n",
       "       '2015-06-02T00:00:00.000000000'], dtype='datetime64[ns]')"
      ]
     },
     "execution_count": 112,
     "metadata": {},
     "output_type": "execute_result"
    }
   ],
   "source": [
    "ds.variables['time'].values"
   ]
  },
  {
   "cell_type": "code",
   "execution_count": 113,
   "metadata": {},
   "outputs": [
    {
     "data": {
      "text/plain": [
       "<xarray.IndexVariable 'lon' (lon: 81)>\n",
       "array([ 300.  ,  300.25,  300.5 ,  300.75,  301.  ,  301.25,  301.5 ,  301.75,\n",
       "        302.  ,  302.25,  302.5 ,  302.75,  303.  ,  303.25,  303.5 ,  303.75,\n",
       "        304.  ,  304.25,  304.5 ,  304.75,  305.  ,  305.25,  305.5 ,  305.75,\n",
       "        306.  ,  306.25,  306.5 ,  306.75,  307.  ,  307.25,  307.5 ,  307.75,\n",
       "        308.  ,  308.25,  308.5 ,  308.75,  309.  ,  309.25,  309.5 ,  309.75,\n",
       "        310.  ,  310.25,  310.5 ,  310.75,  311.  ,  311.25,  311.5 ,  311.75,\n",
       "        312.  ,  312.25,  312.5 ,  312.75,  313.  ,  313.25,  313.5 ,  313.75,\n",
       "        314.  ,  314.25,  314.5 ,  314.75,  315.  ,  315.25,  315.5 ,  315.75,\n",
       "        316.  ,  316.25,  316.5 ,  316.75,  317.  ,  317.25,  317.5 ,  317.75,\n",
       "        318.  ,  318.25,  318.5 ,  318.75,  319.  ,  319.25,  319.5 ,  319.75,\n",
       "        320.  ], dtype=float32)\n",
       "Attributes:\n",
       "    units:                degrees_east\n",
       "    long_name:            longitude\n",
       "    grids:                uniform grids from 0.00 to 359.75 by 0.25\n",
       "    _CoordinateAxisType:  Lon\n",
       "    standard_name:        longitude"
      ]
     },
     "execution_count": 113,
     "metadata": {},
     "output_type": "execute_result"
    }
   ],
   "source": [
    "ds.variables['lon']"
   ]
  },
  {
   "cell_type": "code",
   "execution_count": 114,
   "metadata": {},
   "outputs": [
    {
     "data": {
      "text/plain": [
       "Frozen(OrderedDict([('zlev', <xarray.IndexVariable 'zlev' (zlev: 1)>\n",
       "array([ 10.], dtype=float32)\n",
       "Attributes:\n",
       "    units:                   meters\n",
       "    long_name:               height above sea level\n",
       "    _CoordinateAxisType:     Height\n",
       "    positive:                up\n",
       "    _CoordinateZisPositive:  up), ('lat', <xarray.IndexVariable 'lat' (lat: 81)>\n",
       "array([ 40.  ,  40.25,  40.5 ,  40.75,  41.  ,  41.25,  41.5 ,  41.75,  42.  ,\n",
       "        42.25,  42.5 ,  42.75,  43.  ,  43.25,  43.5 ,  43.75,  44.  ,  44.25,\n",
       "        44.5 ,  44.75,  45.  ,  45.25,  45.5 ,  45.75,  46.  ,  46.25,  46.5 ,\n",
       "        46.75,  47.  ,  47.25,  47.5 ,  47.75,  48.  ,  48.25,  48.5 ,  48.75,\n",
       "        49.  ,  49.25,  49.5 ,  49.75,  50.  ,  50.25,  50.5 ,  50.75,  51.  ,\n",
       "        51.25,  51.5 ,  51.75,  52.  ,  52.25,  52.5 ,  52.75,  53.  ,  53.25,\n",
       "        53.5 ,  53.75,  54.  ,  54.25,  54.5 ,  54.75,  55.  ,  55.25,  55.5 ,\n",
       "        55.75,  56.  ,  56.25,  56.5 ,  56.75,  57.  ,  57.25,  57.5 ,  57.75,\n",
       "        58.  ,  58.25,  58.5 ,  58.75,  59.  ,  59.25,  59.5 ,  59.75,  60.  ], dtype=float32)\n",
       "Attributes:\n",
       "    units:                degrees_north\n",
       "    long_name:            latitude\n",
       "    grids:                uniform grids from -89.75 to 89.75 by 0.25\n",
       "    _CoordinateAxisType:  Lat\n",
       "    standard_name:        latitude), ('lon', <xarray.IndexVariable 'lon' (lon: 81)>\n",
       "array([ 300.  ,  300.25,  300.5 ,  300.75,  301.  ,  301.25,  301.5 ,  301.75,\n",
       "        302.  ,  302.25,  302.5 ,  302.75,  303.  ,  303.25,  303.5 ,  303.75,\n",
       "        304.  ,  304.25,  304.5 ,  304.75,  305.  ,  305.25,  305.5 ,  305.75,\n",
       "        306.  ,  306.25,  306.5 ,  306.75,  307.  ,  307.25,  307.5 ,  307.75,\n",
       "        308.  ,  308.25,  308.5 ,  308.75,  309.  ,  309.25,  309.5 ,  309.75,\n",
       "        310.  ,  310.25,  310.5 ,  310.75,  311.  ,  311.25,  311.5 ,  311.75,\n",
       "        312.  ,  312.25,  312.5 ,  312.75,  313.  ,  313.25,  313.5 ,  313.75,\n",
       "        314.  ,  314.25,  314.5 ,  314.75,  315.  ,  315.25,  315.5 ,  315.75,\n",
       "        316.  ,  316.25,  316.5 ,  316.75,  317.  ,  317.25,  317.5 ,  317.75,\n",
       "        318.  ,  318.25,  318.5 ,  318.75,  319.  ,  319.25,  319.5 ,  319.75,\n",
       "        320.  ], dtype=float32)\n",
       "Attributes:\n",
       "    units:                degrees_east\n",
       "    long_name:            longitude\n",
       "    grids:                uniform grids from 0.00 to 359.75 by 0.25\n",
       "    _CoordinateAxisType:  Lon\n",
       "    standard_name:        longitude), ('time', <xarray.IndexVariable 'time' (time: 5)>\n",
       "array(['2015-06-01T00:00:00.000000000', '2015-06-01T06:00:00.000000000',\n",
       "       '2015-06-01T12:00:00.000000000', '2015-06-01T18:00:00.000000000',\n",
       "       '2015-06-02T00:00:00.000000000'], dtype='datetime64[ns]')\n",
       "Attributes:\n",
       "    long_name:            Forecast time for ForecastModelRunCollection\n",
       "    standard_name:        time\n",
       "    _CoordinateAxisType:  Time), ('time_run', <xarray.Variable (time: 5)>\n",
       "array(['2015-06-01T00:00:00.000000000', '2015-06-01T00:00:00.000000000',\n",
       "       '2015-06-01T00:00:00.000000000', '2015-06-01T00:00:00.000000000',\n",
       "       '2015-06-02T00:00:00.000000000'], dtype='datetime64[ns]')\n",
       "Attributes:\n",
       "    long_name:            run times for coordinate = time\n",
       "    standard_name:        forecast_reference_time\n",
       "    _CoordinateAxisType:  RunTime), ('time_offset', <xarray.Variable (time: 5)>\n",
       "array(['2011-10-01T00:00:00.000000000', '2011-10-01T06:00:00.000000000',\n",
       "       '2011-10-01T12:00:00.000000000', '2011-10-01T18:00:00.000000000',\n",
       "       '2011-10-01T00:00:00.000000000'], dtype='datetime64[ns]')\n",
       "Attributes:\n",
       "    long_name:      offset hour from start of run for coordinate = time\n",
       "    standard_name:  forecast_period), ('u', <xarray.Variable (time: 5, zlev: 1, lat: 81, lon: 81)>\n",
       "array([[[[      nan, ...,  5.956565],\n",
       "         ..., \n",
       "         [      nan, ...,       nan]]],\n",
       "\n",
       "\n",
       "       ..., \n",
       "       [[[      nan, ...,  6.357687],\n",
       "         ..., \n",
       "         [      nan, ...,       nan]]]])\n",
       "Attributes:\n",
       "    units:          m s-1\n",
       "    long_name:      Sea Surface Wind: x-component\n",
       "    standard_name:  x_wind), ('v', <xarray.Variable (time: 5, zlev: 1, lat: 81, lon: 81)>\n",
       "array([[[[      nan, ...,  0.277089],\n",
       "         ..., \n",
       "         [      nan, ...,       nan]]],\n",
       "\n",
       "\n",
       "       ..., \n",
       "       [[[      nan, ..., -1.951419],\n",
       "         ..., \n",
       "         [      nan, ...,       nan]]]])\n",
       "Attributes:\n",
       "    units:          m s-1\n",
       "    long_name:      Sea Surface Wind: y-component\n",
       "    standard_name:  y_wind)]))"
      ]
     },
     "execution_count": 114,
     "metadata": {},
     "output_type": "execute_result"
    }
   ],
   "source": [
    "ds.variables"
   ]
  },
  {
   "cell_type": "code",
   "execution_count": 115,
   "metadata": {},
   "outputs": [
    {
     "data": {
      "text/plain": [
       "<xarray.IndexVariable 'lon' (lon: 81)>\n",
       "array([ 300.  ,  300.25,  300.5 ,  300.75,  301.  ,  301.25,  301.5 ,  301.75,\n",
       "        302.  ,  302.25,  302.5 ,  302.75,  303.  ,  303.25,  303.5 ,  303.75,\n",
       "        304.  ,  304.25,  304.5 ,  304.75,  305.  ,  305.25,  305.5 ,  305.75,\n",
       "        306.  ,  306.25,  306.5 ,  306.75,  307.  ,  307.25,  307.5 ,  307.75,\n",
       "        308.  ,  308.25,  308.5 ,  308.75,  309.  ,  309.25,  309.5 ,  309.75,\n",
       "        310.  ,  310.25,  310.5 ,  310.75,  311.  ,  311.25,  311.5 ,  311.75,\n",
       "        312.  ,  312.25,  312.5 ,  312.75,  313.  ,  313.25,  313.5 ,  313.75,\n",
       "        314.  ,  314.25,  314.5 ,  314.75,  315.  ,  315.25,  315.5 ,  315.75,\n",
       "        316.  ,  316.25,  316.5 ,  316.75,  317.  ,  317.25,  317.5 ,  317.75,\n",
       "        318.  ,  318.25,  318.5 ,  318.75,  319.  ,  319.25,  319.5 ,  319.75,\n",
       "        320.  ], dtype=float32)\n",
       "Attributes:\n",
       "    units:                degrees_east\n",
       "    long_name:            longitude\n",
       "    grids:                uniform grids from 0.00 to 359.75 by 0.25\n",
       "    _CoordinateAxisType:  Lon\n",
       "    standard_name:        longitude"
      ]
     },
     "execution_count": 115,
     "metadata": {},
     "output_type": "execute_result"
    }
   ],
   "source": [
    "ds.variables['lon']"
   ]
  },
  {
   "cell_type": "code",
   "execution_count": null,
   "metadata": {},
   "outputs": [],
   "source": []
  },
  {
   "cell_type": "markdown",
   "metadata": {},
   "source": [
    "# Plot"
   ]
  },
  {
   "cell_type": "code",
   "execution_count": 116,
   "metadata": {},
   "outputs": [],
   "source": [
    "from icedef import plot"
   ]
  },
  {
   "cell_type": "code",
   "execution_count": 119,
   "metadata": {},
   "outputs": [
    {
     "data": {
      "text/plain": [
       "<xarray.DataArray 'lon' ()>\n",
       "array(320.0, dtype=float32)\n",
       "Coordinates:\n",
       "    lon      float32 320.0\n",
       "Attributes:\n",
       "    units:                degrees_east\n",
       "    long_name:            longitude\n",
       "    grids:                uniform grids from 0.00 to 359.75 by 0.25\n",
       "    _CoordinateAxisType:  Lon\n",
       "    standard_name:        longitude"
      ]
     },
     "execution_count": 119,
     "metadata": {},
     "output_type": "execute_result"
    }
   ],
   "source": [
    "ds['lon'][-1]"
   ]
  },
  {
   "cell_type": "code",
   "execution_count": 120,
   "metadata": {},
   "outputs": [],
   "source": [
    "lats = np.asarray(ds.lat)\n",
    "lons = np.asarray(ds.lon) - 360"
   ]
  },
  {
   "cell_type": "code",
   "execution_count": 121,
   "metadata": {},
   "outputs": [],
   "source": [
    "u = np.asarray(ds.u)[:,0,:,:]\n",
    "\n",
    "v = np.asarray(ds.v)[:,0,:,:]"
   ]
  },
  {
   "cell_type": "code",
   "execution_count": 122,
   "metadata": {},
   "outputs": [
    {
     "data": {
      "text/plain": [
       "(5, 81, 81)"
      ]
     },
     "execution_count": 122,
     "metadata": {},
     "output_type": "execute_result"
    }
   ],
   "source": [
    "u.shape"
   ]
  },
  {
   "cell_type": "code",
   "execution_count": 123,
   "metadata": {},
   "outputs": [
    {
     "data": {
      "text/plain": [
       "(array([0, 0, 0, ..., 4, 4, 4]),\n",
       " array([ 0,  0,  0, ..., 80, 80, 80]),\n",
       " array([ 0,  1,  2, ..., 78, 79, 80]))"
      ]
     },
     "execution_count": 123,
     "metadata": {},
     "output_type": "execute_result"
    }
   ],
   "source": [
    "np.where(np.isnan(u))"
   ]
  },
  {
   "cell_type": "code",
   "execution_count": 124,
   "metadata": {},
   "outputs": [],
   "source": [
    "tis, yis, xis = np.where(np.isnan(u))\n",
    "bad_lats = lats[yis]\n",
    "bad_lons = lons[xis]\n"
   ]
  },
  {
   "cell_type": "code",
   "execution_count": 125,
   "metadata": {},
   "outputs": [
    {
     "data": {
      "text/plain": [
       "nan"
      ]
     },
     "execution_count": 125,
     "metadata": {},
     "output_type": "execute_result"
    }
   ],
   "source": [
    "u[4, 80, 80]"
   ]
  },
  {
   "cell_type": "code",
   "execution_count": 126,
   "metadata": {},
   "outputs": [
    {
     "data": {
      "text/plain": [
       "array([ 0,  0,  0, ..., 80, 80, 80])"
      ]
     },
     "execution_count": 126,
     "metadata": {},
     "output_type": "execute_result"
    }
   ],
   "source": [
    "yis"
   ]
  },
  {
   "cell_type": "code",
   "execution_count": 127,
   "metadata": {},
   "outputs": [
    {
     "data": {
      "text/plain": [
       "array([0, 0, 0, ..., 4, 4, 4])"
      ]
     },
     "execution_count": 127,
     "metadata": {},
     "output_type": "execute_result"
    }
   ],
   "source": [
    "tis"
   ]
  },
  {
   "cell_type": "code",
   "execution_count": 128,
   "metadata": {},
   "outputs": [
    {
     "data": {
      "text/plain": [
       "array([ 0,  1,  2, ..., 78, 79, 80])"
      ]
     },
     "execution_count": 128,
     "metadata": {},
     "output_type": "execute_result"
    }
   ],
   "source": [
    "xis"
   ]
  },
  {
   "cell_type": "code",
   "execution_count": 129,
   "metadata": {},
   "outputs": [
    {
     "data": {
      "text/plain": [
       "nan"
      ]
     },
     "execution_count": 129,
     "metadata": {},
     "output_type": "execute_result"
    }
   ],
   "source": [
    "max(u.flatten())"
   ]
  },
  {
   "cell_type": "code",
   "execution_count": 130,
   "metadata": {},
   "outputs": [
    {
     "data": {
      "text/plain": [
       "13909"
      ]
     },
     "execution_count": 130,
     "metadata": {},
     "output_type": "execute_result"
    }
   ],
   "source": [
    "len(bad_lons)"
   ]
  },
  {
   "cell_type": "code",
   "execution_count": 131,
   "metadata": {},
   "outputs": [
    {
     "data": {
      "text/plain": [
       "13909"
      ]
     },
     "execution_count": 131,
     "metadata": {},
     "output_type": "execute_result"
    }
   ],
   "source": [
    "len(bad_lats)"
   ]
  },
  {
   "cell_type": "code",
   "execution_count": 132,
   "metadata": {},
   "outputs": [
    {
     "data": {
      "text/plain": [
       "array([-60.  , -59.75, -59.5 , ..., -40.5 , -40.25, -40.  ], dtype=float32)"
      ]
     },
     "execution_count": 132,
     "metadata": {},
     "output_type": "execute_result"
    }
   ],
   "source": [
    "bad_lons"
   ]
  },
  {
   "cell_type": "code",
   "execution_count": 133,
   "metadata": {},
   "outputs": [
    {
     "name": "stderr",
     "output_type": "stream",
     "text": [
      "/home/evankielley/.conda/envs/icedef/lib/python3.6/site-packages/mpl_toolkits/basemap/__init__.py:1708: MatplotlibDeprecationWarning: The axesPatch function was deprecated in version 2.1. Use Axes.patch instead.\n",
      "  limb = ax.axesPatch\n",
      "/home/evankielley/.conda/envs/icedef/lib/python3.6/site-packages/mpl_toolkits/basemap/__init__.py:1711: MatplotlibDeprecationWarning: The axesPatch function was deprecated in version 2.1. Use Axes.patch instead.\n",
      "  if limb is not ax.axesPatch:\n"
     ]
    },
    {
     "data": {
      "image/png": "[encoded data removed]",
      "text/plain": [
       "<matplotlib.figure.Figure at 0x7f0e3c1cf198>"
      ]
     },
     "metadata": {},
     "output_type": "display_data"
    }
   ],
   "source": [
    "fig, ax = plt.subplots(dpi=150)\n",
    "m = plot.get_mercator_basemap(bad_lons[0], bad_lons[-1], bad_lats[0], bad_lats[-1])\n",
    "\n",
    "xs, ys = m(bad_lons, bad_lats)\n",
    "\n",
    "ax.scatter(xs, ys)\n",
    "plt.title('Areas where wind speeds are nan')\n",
    "plt.show()"
   ]
  },
  {
   "cell_type": "code",
   "execution_count": 105,
   "metadata": {},
   "outputs": [
    {
     "ename": "TypeError",
     "evalue": "'float' object is not callable",
     "output_type": "error",
     "traceback": [
      "\u001b[0;31m---------------------------------------------------------------------------\u001b[0m",
      "\u001b[0;31mTypeError\u001b[0m                                 Traceback (most recent call last)",
      "\u001b[0;32m<ipython-input-105-a7dfd126a04d>\u001b[0m in \u001b[0;36m<module>\u001b[0;34m()\u001b[0m\n\u001b[0;32m----> 1\u001b[0;31m \u001b[0mnp\u001b[0m\u001b[0;34m.\u001b[0m\u001b[0mmean\u001b[0m\u001b[0;34m(\u001b[0m\u001b[0mu\u001b[0m\u001b[0;34m[\u001b[0m\u001b[0;34m~\u001b[0m\u001b[0mnp\u001b[0m\u001b[0;34m.\u001b[0m\u001b[0mnan\u001b[0m\u001b[0;34m(\u001b[0m\u001b[0mu\u001b[0m\u001b[0;34m)\u001b[0m\u001b[0;34m]\u001b[0m\u001b[0;34m)\u001b[0m\u001b[0;34m\u001b[0m\u001b[0m\n\u001b[0m",
      "\u001b[0;31mTypeError\u001b[0m: 'float' object is not callable"
     ]
    }
   ],
   "source": [
    "np.mean(u[~np.nan(u)])"
   ]
  },
  {
   "cell_type": "code",
   "execution_count": 107,
   "metadata": {},
   "outputs": [
    {
     "data": {
      "text/plain": [
       "array([[[        nan,         nan,         nan, ...,  6.24250364,\n",
       "          5.72690105,         nan],\n",
       "        [        nan,         nan,         nan, ...,  6.30847359,\n",
       "          5.52858734,         nan],\n",
       "        [        nan,         nan,         nan, ...,  6.9082942 ,\n",
       "          7.24985123,         nan],\n",
       "        ..., \n",
       "        [        nan,         nan,         nan, ...,         nan,\n",
       "                 nan,         nan],\n",
       "        [        nan,         nan,         nan, ...,         nan,\n",
       "                 nan,         nan],\n",
       "        [        nan,         nan,         nan, ...,         nan,\n",
       "                 nan,         nan]],\n",
       "\n",
       "       [[        nan,         nan,         nan, ...,  2.94563079,\n",
       "          2.51748228,         nan],\n",
       "        [        nan,         nan,         nan, ...,  3.17055464,\n",
       "          1.52119076,         nan],\n",
       "        [        nan,         nan,         nan, ...,  3.29515171,\n",
       "          4.02740049,         nan],\n",
       "        ..., \n",
       "        [        nan,         nan,         nan, ...,         nan,\n",
       "                 nan,         nan],\n",
       "        [        nan,         nan,         nan, ...,         nan,\n",
       "                 nan,         nan],\n",
       "        [        nan,         nan,         nan, ...,         nan,\n",
       "                 nan,         nan]],\n",
       "\n",
       "       [[        nan,         nan,         nan, ...,  3.6458478 ,\n",
       "          2.47273946,         nan],\n",
       "        [        nan,         nan,         nan, ...,  4.1381011 ,\n",
       "          3.23749804,         nan],\n",
       "        [        nan,         nan,         nan, ...,  4.79886961,\n",
       "          4.72486973,  4.16705799],\n",
       "        ..., \n",
       "        [        nan,         nan,         nan, ...,         nan,\n",
       "                 nan,         nan],\n",
       "        [        nan,         nan,         nan, ...,         nan,\n",
       "                 nan,         nan],\n",
       "        [        nan,         nan,         nan, ...,         nan,\n",
       "                 nan,         nan]],\n",
       "\n",
       "       [[        nan,         nan,         nan, ...,  2.35054612,\n",
       "          2.59090137,         nan],\n",
       "        [        nan,         nan,         nan, ...,  3.60986614,\n",
       "          3.44837427,         nan],\n",
       "        [        nan,         nan,         nan, ...,  4.4378376 ,\n",
       "          4.71796417,  4.53344679],\n",
       "        ..., \n",
       "        [        nan,         nan,         nan, ...,         nan,\n",
       "                 nan,         nan],\n",
       "        [        nan,         nan,         nan, ...,         nan,\n",
       "                 nan,         nan],\n",
       "        [        nan,         nan,         nan, ...,         nan,\n",
       "                 nan,         nan]],\n",
       "\n",
       "       [[        nan,         nan,         nan, ...,  4.03654289,\n",
       "          4.0547657 ,  4.06789303],\n",
       "        [        nan,         nan,         nan, ...,  4.53452349,\n",
       "          4.54436779,  4.0237031 ],\n",
       "        [        nan,         nan,         nan, ...,  5.14235926,\n",
       "          5.11851025,  5.40299797],\n",
       "        ..., \n",
       "        [        nan,         nan,         nan, ...,         nan,\n",
       "                 nan,         nan],\n",
       "        [        nan,         nan,         nan, ...,         nan,\n",
       "                 nan,         nan],\n",
       "        [        nan,         nan,         nan, ...,         nan,\n",
       "                 nan,         nan]]])"
      ]
     },
     "execution_count": 107,
     "metadata": {},
     "output_type": "execute_result"
    }
   ],
   "source": [
    "v"
   ]
  },
  {
   "cell_type": "code",
   "execution_count": null,
   "metadata": {},
   "outputs": [],
   "source": []
  }
 ],
 "metadata": {
  "kernelspec": {
   "display_name": "Python 3",
   "language": "python",
   "name": "python3"
  },
  "language_info": {
   "codemirror_mode": {
    "name": "ipython",
    "version": 3
   },
   "file_extension": ".py",
   "mimetype": "text/x-python",
   "name": "python",
   "nbconvert_exporter": "python",
   "pygments_lexer": "ipython3",
   "version": "3.6.3"
  }
 },
 "nbformat": 4,
 "nbformat_minor": 2
}
