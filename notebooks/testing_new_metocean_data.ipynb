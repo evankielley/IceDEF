{
 "cells": [
  {
   "cell_type": "code",
   "execution_count": 22,
   "metadata": {},
   "outputs": [],
   "source": [
    "import xarray as xr\n",
    "import numpy as np\n",
    "import matplotlib.pyplot as plt"
   ]
  },
  {
   "cell_type": "code",
   "execution_count": 4,
   "metadata": {},
   "outputs": [],
   "source": [
    "url = \"http://www.ncei.noaa.gov/thredds/dodsC/uv/6h_agg_rt/Preliminary_Aggregation_of_6h_Ocean_Wind_best.ncd\""
   ]
  },
  {
   "cell_type": "code",
   "execution_count": 23,
   "metadata": {},
   "outputs": [],
   "source": [
    "t_min = np.datetime64('2015-06-01T00:00:00')\n",
    "t_max = np.datetime64('2015-06-02T00:00:00')\n",
    "x_min = -60 + 180\n",
    "x_max = -40 + 180\n",
    "y_min = 40\n",
    "y_max = 60"
   ]
  },
  {
   "cell_type": "code",
   "execution_count": 24,
   "metadata": {},
   "outputs": [],
   "source": [
    "ds = xr.open_dataset(url).sel(\n",
    "                                time = slice(t_min, t_max),\n",
    "                                lat = slice(y_min, y_max), \n",
    "                                lon = slice(x_min, x_max))"
   ]
  },
  {
   "cell_type": "code",
   "execution_count": 20,
   "metadata": {},
   "outputs": [
    {
     "data": {
      "text/plain": [
       "array(['2015-06-01T00:00:00.000000000', '2015-06-01T06:00:00.000000000',\n",
       "       '2015-06-01T12:00:00.000000000', '2015-06-01T18:00:00.000000000',\n",
       "       '2015-06-02T00:00:00.000000000'], dtype='datetime64[ns]')"
      ]
     },
     "execution_count": 20,
     "metadata": {},
     "output_type": "execute_result"
    }
   ],
   "source": [
    "ds.variables['time'].values"
   ]
  },
  {
   "cell_type": "code",
   "execution_count": 21,
   "metadata": {},
   "outputs": [
    {
     "data": {
      "text/plain": [
       "<xarray.IndexVariable 'lon' (lon: 0)>\n",
       "array([], dtype=float32)\n",
       "Attributes:\n",
       "    units:                degrees_east\n",
       "    long_name:            longitude\n",
       "    grids:                uniform grids from 0.00 to 359.75 by 0.25\n",
       "    _CoordinateAxisType:  Lon\n",
       "    standard_name:        longitude"
      ]
     },
     "execution_count": 21,
     "metadata": {},
     "output_type": "execute_result"
    }
   ],
   "source": [
    "ds.variables['lon']"
   ]
  },
  {
   "cell_type": "code",
   "execution_count": 15,
   "metadata": {},
   "outputs": [
    {
     "data": {
      "text/plain": [
       "Frozen(OrderedDict([('zlev', <xarray.IndexVariable 'zlev' (zlev: 1)>\n",
       "array([ 10.], dtype=float32)\n",
       "Attributes:\n",
       "    units:                   meters\n",
       "    long_name:               height above sea level\n",
       "    _CoordinateAxisType:     Height\n",
       "    positive:                up\n",
       "    _CoordinateZisPositive:  up), ('lat', <xarray.IndexVariable 'lat' (lat: 719)>\n",
       "array([-89.75, -89.5 , -89.25, ...,  89.25,  89.5 ,  89.75], dtype=float32)\n",
       "Attributes:\n",
       "    units:                degrees_north\n",
       "    long_name:            latitude\n",
       "    grids:                uniform grids from -89.75 to 89.75 by 0.25\n",
       "    _CoordinateAxisType:  Lat\n",
       "    standard_name:        latitude), ('lon', <xarray.IndexVariable 'lon' (lon: 1440)>\n",
       "array([  0.000000e+00,   2.500000e-01,   5.000000e-01, ...,   3.592500e+02,\n",
       "         3.595000e+02,   3.597500e+02], dtype=float32)\n",
       "Attributes:\n",
       "    units:                degrees_east\n",
       "    long_name:            longitude\n",
       "    grids:                uniform grids from 0.00 to 359.75 by 0.25\n",
       "    _CoordinateAxisType:  Lon\n",
       "    standard_name:        longitude), ('time', <xarray.IndexVariable 'time' (time: 9808)>\n",
       "array(['2011-10-01T00:00:00.000000000', '2011-10-01T06:00:00.000000000',\n",
       "       '2011-10-01T12:00:00.000000000', ..., '2018-06-25T06:00:00.000000000',\n",
       "       '2018-06-25T12:00:00.000000000', '2018-06-25T18:00:00.000000000'], dtype='datetime64[ns]')\n",
       "Attributes:\n",
       "    long_name:            Forecast time for ForecastModelRunCollection\n",
       "    standard_name:        time\n",
       "    _CoordinateAxisType:  Time), ('time_run', <xarray.Variable (time: 9808)>\n",
       "array(['2011-10-01T00:00:00.000000000', '2011-10-01T00:00:00.000000000',\n",
       "       '2011-10-01T00:00:00.000000000', ..., '2018-06-25T00:00:00.000000000',\n",
       "       '2018-06-25T00:00:00.000000000', '2018-06-25T00:00:00.000000000'], dtype='datetime64[ns]')\n",
       "Attributes:\n",
       "    long_name:            run times for coordinate = time\n",
       "    standard_name:        forecast_reference_time\n",
       "    _CoordinateAxisType:  RunTime), ('time_offset', <xarray.Variable (time: 9808)>\n",
       "array(['2011-10-01T00:00:00.000000000', '2011-10-01T06:00:00.000000000',\n",
       "       '2011-10-01T12:00:00.000000000', ..., '2011-10-01T06:00:00.000000000',\n",
       "       '2011-10-01T12:00:00.000000000', '2011-10-01T18:00:00.000000000'], dtype='datetime64[ns]')\n",
       "Attributes:\n",
       "    long_name:      offset hour from start of run for coordinate = time\n",
       "    standard_name:  forecast_period), ('u', <xarray.Variable (time: 9808, zlev: 1, lat: 719, lon: 1440)>\n",
       "[10154810880 values with dtype=float64]\n",
       "Attributes:\n",
       "    units:          m s-1\n",
       "    long_name:      Sea Surface Wind: x-component\n",
       "    standard_name:  x_wind), ('v', <xarray.Variable (time: 9808, zlev: 1, lat: 719, lon: 1440)>\n",
       "[10154810880 values with dtype=float64]\n",
       "Attributes:\n",
       "    units:          m s-1\n",
       "    long_name:      Sea Surface Wind: y-component\n",
       "    standard_name:  y_wind)]))"
      ]
     },
     "execution_count": 15,
     "metadata": {},
     "output_type": "execute_result"
    }
   ],
   "source": [
    "ds.variables"
   ]
  },
  {
   "cell_type": "code",
   "execution_count": 12,
   "metadata": {},
   "outputs": [
    {
     "data": {
      "text/plain": [
       "<xarray.IndexVariable 'lon' (lon: 1440)>\n",
       "array([  0.000000e+00,   2.500000e-01,   5.000000e-01, ...,   3.592500e+02,\n",
       "         3.595000e+02,   3.597500e+02], dtype=float32)\n",
       "Attributes:\n",
       "    units:                degrees_east\n",
       "    long_name:            longitude\n",
       "    grids:                uniform grids from 0.00 to 359.75 by 0.25\n",
       "    _CoordinateAxisType:  Lon\n",
       "    standard_name:        longitude"
      ]
     },
     "execution_count": 12,
     "metadata": {},
     "output_type": "execute_result"
    }
   ],
   "source": [
    "ds.variables['lon']"
   ]
  },
  {
   "cell_type": "code",
   "execution_count": null,
   "metadata": {},
   "outputs": [],
   "source": []
  },
  {
   "cell_type": "markdown",
   "metadata": {},
   "source": [
    "# Plot"
   ]
  },
  {
   "cell_type": "code",
   "execution_count": 31,
   "metadata": {},
   "outputs": [],
   "source": [
    "from icedef import plot"
   ]
  },
  {
   "cell_type": "code",
   "execution_count": 29,
   "metadata": {},
   "outputs": [],
   "source": [
    "lats = np.asarray(ds.lat)\n",
    "lons = np.asarray(ds.lon) - 180"
   ]
  },
  {
   "cell_type": "code",
   "execution_count": 34,
   "metadata": {},
   "outputs": [],
   "source": [
    "u = np.asarray(ds.u)[:,0,:,:]\n",
    "\n",
    "v = np.asarray(ds.v)[:,0,:,:]"
   ]
  },
  {
   "cell_type": "code",
   "execution_count": 61,
   "metadata": {},
   "outputs": [
    {
     "data": {
      "text/plain": [
       "(5, 81, 81)"
      ]
     },
     "execution_count": 61,
     "metadata": {},
     "output_type": "execute_result"
    }
   ],
   "source": [
    "u.shape"
   ]
  },
  {
   "cell_type": "code",
   "execution_count": 92,
   "metadata": {},
   "outputs": [
    {
     "data": {
      "text/plain": [
       "(array([0, 0, 0, ..., 4, 4, 4]),\n",
       " array([ 0,  0,  0, ..., 80, 80, 80]),\n",
       " array([ 0,  1,  2, ..., 78, 79, 80]))"
      ]
     },
     "execution_count": 92,
     "metadata": {},
     "output_type": "execute_result"
    }
   ],
   "source": [
    "np.where(np.isnan(u))"
   ]
  },
  {
   "cell_type": "code",
   "execution_count": 93,
   "metadata": {},
   "outputs": [],
   "source": [
    "tis, yis, xis = np.where(np.isnan(u))\n",
    "bad_lats = lats[yis]\n",
    "bad_lons = lons[xis]\n"
   ]
  },
  {
   "cell_type": "code",
   "execution_count": 99,
   "metadata": {},
   "outputs": [
    {
     "data": {
      "text/plain": [
       "nan"
      ]
     },
     "execution_count": 99,
     "metadata": {},
     "output_type": "execute_result"
    }
   ],
   "source": [
    "u[4, 80, 80]"
   ]
  },
  {
   "cell_type": "code",
   "execution_count": 97,
   "metadata": {},
   "outputs": [
    {
     "data": {
      "text/plain": [
       "array([ 0,  0,  0, ..., 80, 80, 80])"
      ]
     },
     "execution_count": 97,
     "metadata": {},
     "output_type": "execute_result"
    }
   ],
   "source": [
    "yis"
   ]
  },
  {
   "cell_type": "code",
   "execution_count": 96,
   "metadata": {},
   "outputs": [
    {
     "data": {
      "text/plain": [
       "array([0, 0, 0, ..., 4, 4, 4])"
      ]
     },
     "execution_count": 96,
     "metadata": {},
     "output_type": "execute_result"
    }
   ],
   "source": [
    "tis"
   ]
  },
  {
   "cell_type": "code",
   "execution_count": 94,
   "metadata": {},
   "outputs": [
    {
     "data": {
      "text/plain": [
       "array([ 0,  1,  2, ..., 78, 79, 80])"
      ]
     },
     "execution_count": 94,
     "metadata": {},
     "output_type": "execute_result"
    }
   ],
   "source": [
    "xis"
   ]
  },
  {
   "cell_type": "code",
   "execution_count": 82,
   "metadata": {},
   "outputs": [
    {
     "data": {
      "text/plain": [
       "nan"
      ]
     },
     "execution_count": 82,
     "metadata": {},
     "output_type": "execute_result"
    }
   ],
   "source": [
    "max(u.flatten())"
   ]
  },
  {
   "cell_type": "code",
   "execution_count": 80,
   "metadata": {},
   "outputs": [
    {
     "data": {
      "text/plain": [
       "0"
      ]
     },
     "execution_count": 80,
     "metadata": {},
     "output_type": "execute_result"
    }
   ],
   "source": [
    "len(bad_lons)"
   ]
  },
  {
   "cell_type": "code",
   "execution_count": 74,
   "metadata": {},
   "outputs": [
    {
     "data": {
      "text/plain": [
       "3990"
      ]
     },
     "execution_count": 74,
     "metadata": {},
     "output_type": "execute_result"
    }
   ],
   "source": [
    "len(bad_lats)"
   ]
  },
  {
   "cell_type": "code",
   "execution_count": 69,
   "metadata": {},
   "outputs": [
    {
     "data": {
      "text/plain": [
       "array([-51.25, -51.  , -50.75, ..., -40.25, -40.  , -40.  ], dtype=float32)"
      ]
     },
     "execution_count": 69,
     "metadata": {},
     "output_type": "execute_result"
    }
   ],
   "source": [
    "bad_lons"
   ]
  },
  {
   "cell_type": "code",
   "execution_count": 102,
   "metadata": {},
   "outputs": [
    {
     "name": "stderr",
     "output_type": "stream",
     "text": [
      "/home/evankielley/.conda/envs/icedef/lib/python3.6/site-packages/mpl_toolkits/basemap/__init__.py:1708: MatplotlibDeprecationWarning: The axesPatch function was deprecated in version 2.1. Use Axes.patch instead.\n",
      "  limb = ax.axesPatch\n",
      "/home/evankielley/.conda/envs/icedef/lib/python3.6/site-packages/mpl_toolkits/basemap/__init__.py:1711: MatplotlibDeprecationWarning: The axesPatch function was deprecated in version 2.1. Use Axes.patch instead.\n",
      "  if limb is not ax.axesPatch:\n"
     ]
    },
    {
     "data": {
      "image/png": "[encoded data removed]",
      "text/plain": [
       "<matplotlib.figure.Figure at 0x7f0e301a2b38>"
      ]
     },
     "metadata": {},
     "output_type": "display_data"
    }
   ],
   "source": [
    "fig, ax = plt.subplots(dpi=150)\n",
    "m = plot.get_mercator_basemap(bad_lons[0], bad_lons[-1], bad_lats[0], bad_lats[-1])\n",
    "\n",
    "xs, ys = m(bad_lons, bad_lats)\n",
    "\n",
    "ax.scatter(xs, ys)\n",
    "plt.title('Areas where wind speeds are nan')\n",
    "plt.show()"
   ]
  },
  {
   "cell_type": "code",
   "execution_count": 105,
   "metadata": {},
   "outputs": [
    {
     "ename": "TypeError",
     "evalue": "'float' object is not callable",
     "output_type": "error",
     "traceback": [
      "\u001b[0;31m---------------------------------------------------------------------------\u001b[0m",
      "\u001b[0;31mTypeError\u001b[0m                                 Traceback (most recent call last)",
      "\u001b[0;32m<ipython-input-105-a7dfd126a04d>\u001b[0m in \u001b[0;36m<module>\u001b[0;34m()\u001b[0m\n\u001b[0;32m----> 1\u001b[0;31m \u001b[0mnp\u001b[0m\u001b[0;34m.\u001b[0m\u001b[0mmean\u001b[0m\u001b[0;34m(\u001b[0m\u001b[0mu\u001b[0m\u001b[0;34m[\u001b[0m\u001b[0;34m~\u001b[0m\u001b[0mnp\u001b[0m\u001b[0;34m.\u001b[0m\u001b[0mnan\u001b[0m\u001b[0;34m(\u001b[0m\u001b[0mu\u001b[0m\u001b[0;34m)\u001b[0m\u001b[0;34m]\u001b[0m\u001b[0;34m)\u001b[0m\u001b[0;34m\u001b[0m\u001b[0m\n\u001b[0m",
      "\u001b[0;31mTypeError\u001b[0m: 'float' object is not callable"
     ]
    }
   ],
   "source": [
    "np.mean(u[~np.nan(u)])"
   ]
  },
  {
   "cell_type": "code",
   "execution_count": 107,
   "metadata": {},
   "outputs": [
    {
     "data": {
      "text/plain": [
       "array([[[        nan,         nan,         nan, ...,  6.24250364,\n",
       "          5.72690105,         nan],\n",
       "        [        nan,         nan,         nan, ...,  6.30847359,\n",
       "          5.52858734,         nan],\n",
       "        [        nan,         nan,         nan, ...,  6.9082942 ,\n",
       "          7.24985123,         nan],\n",
       "        ..., \n",
       "        [        nan,         nan,         nan, ...,         nan,\n",
       "                 nan,         nan],\n",
       "        [        nan,         nan,         nan, ...,         nan,\n",
       "                 nan,         nan],\n",
       "        [        nan,         nan,         nan, ...,         nan,\n",
       "                 nan,         nan]],\n",
       "\n",
       "       [[        nan,         nan,         nan, ...,  2.94563079,\n",
       "          2.51748228,         nan],\n",
       "        [        nan,         nan,         nan, ...,  3.17055464,\n",
       "          1.52119076,         nan],\n",
       "        [        nan,         nan,         nan, ...,  3.29515171,\n",
       "          4.02740049,         nan],\n",
       "        ..., \n",
       "        [        nan,         nan,         nan, ...,         nan,\n",
       "                 nan,         nan],\n",
       "        [        nan,         nan,         nan, ...,         nan,\n",
       "                 nan,         nan],\n",
       "        [        nan,         nan,         nan, ...,         nan,\n",
       "                 nan,         nan]],\n",
       "\n",
       "       [[        nan,         nan,         nan, ...,  3.6458478 ,\n",
       "          2.47273946,         nan],\n",
       "        [        nan,         nan,         nan, ...,  4.1381011 ,\n",
       "          3.23749804,         nan],\n",
       "        [        nan,         nan,         nan, ...,  4.79886961,\n",
       "          4.72486973,  4.16705799],\n",
       "        ..., \n",
       "        [        nan,         nan,         nan, ...,         nan,\n",
       "                 nan,         nan],\n",
       "        [        nan,         nan,         nan, ...,         nan,\n",
       "                 nan,         nan],\n",
       "        [        nan,         nan,         nan, ...,         nan,\n",
       "                 nan,         nan]],\n",
       "\n",
       "       [[        nan,         nan,         nan, ...,  2.35054612,\n",
       "          2.59090137,         nan],\n",
       "        [        nan,         nan,         nan, ...,  3.60986614,\n",
       "          3.44837427,         nan],\n",
       "        [        nan,         nan,         nan, ...,  4.4378376 ,\n",
       "          4.71796417,  4.53344679],\n",
       "        ..., \n",
       "        [        nan,         nan,         nan, ...,         nan,\n",
       "                 nan,         nan],\n",
       "        [        nan,         nan,         nan, ...,         nan,\n",
       "                 nan,         nan],\n",
       "        [        nan,         nan,         nan, ...,         nan,\n",
       "                 nan,         nan]],\n",
       "\n",
       "       [[        nan,         nan,         nan, ...,  4.03654289,\n",
       "          4.0547657 ,  4.06789303],\n",
       "        [        nan,         nan,         nan, ...,  4.53452349,\n",
       "          4.54436779,  4.0237031 ],\n",
       "        [        nan,         nan,         nan, ...,  5.14235926,\n",
       "          5.11851025,  5.40299797],\n",
       "        ..., \n",
       "        [        nan,         nan,         nan, ...,         nan,\n",
       "                 nan,         nan],\n",
       "        [        nan,         nan,         nan, ...,         nan,\n",
       "                 nan,         nan],\n",
       "        [        nan,         nan,         nan, ...,         nan,\n",
       "                 nan,         nan]]])"
      ]
     },
     "execution_count": 107,
     "metadata": {},
     "output_type": "execute_result"
    }
   ],
   "source": [
    "v"
   ]
  },
  {
   "cell_type": "code",
   "execution_count": null,
   "metadata": {},
   "outputs": [],
   "source": []
  }
 ],
 "metadata": {
  "kernelspec": {
   "display_name": "Python 3",
   "language": "python",
   "name": "python3"
  },
  "language_info": {
   "codemirror_mode": {
    "name": "ipython",
    "version": 3
   },
   "file_extension": ".py",
   "mimetype": "text/x-python",
   "name": "python",
   "nbconvert_exporter": "python",
   "pygments_lexer": "ipython3",
   "version": "3.6.3"
  }
 },
 "nbformat": 4,
 "nbformat_minor": 2
}
