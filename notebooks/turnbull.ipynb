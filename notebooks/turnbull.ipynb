{
 "cells": [
  {
   "cell_type": "markdown",
   "metadata": {},
   "source": [
    "# Turnbull"
   ]
  },
  {
   "cell_type": "code",
   "execution_count": 1,
   "metadata": {
    "collapsed": true
   },
   "outputs": [],
   "source": [
    "import numpy as np\n",
    "import os\n",
    "\n",
    "import matplotlib.pyplot as plt\n",
    "%matplotlib inline\n",
    "plt.style.use('default')\n",
    "from matplotlib.backends.backend_pdf import PdfPages"
   ]
  },
  {
   "cell_type": "code",
   "execution_count": 2,
   "metadata": {
    "collapsed": true
   },
   "outputs": [],
   "source": [
    "%run ../models/iceberg/iceberg.py\n",
    "%run ../models/metocean/metocean.py\n",
    "%run ../plotting/plot.py"
   ]
  },
  {
   "cell_type": "markdown",
   "metadata": {},
   "source": [
    "# Iceberg"
   ]
  },
  {
   "cell_type": "code",
   "execution_count": 3,
   "metadata": {
    "collapsed": false
   },
   "outputs": [
    {
     "data": {
      "text/html": [
       "<div>\n",
       "<table border=\"1\" class=\"dataframe\">\n",
       "  <thead>\n",
       "    <tr style=\"text-align: right;\">\n",
       "      <th></th>\n",
       "      <th>index</th>\n",
       "      <th>ICE-YEAR</th>\n",
       "      <th>BERG_NUMBER</th>\n",
       "      <th>DATE</th>\n",
       "      <th>TIME</th>\n",
       "      <th>LATITUDE</th>\n",
       "      <th>LONGITUDE</th>\n",
       "      <th>METHOD</th>\n",
       "      <th>SIZE</th>\n",
       "      <th>SHAPE</th>\n",
       "      <th>SOURCE</th>\n",
       "      <th>TIMESTAMP</th>\n",
       "    </tr>\n",
       "  </thead>\n",
       "  <tbody>\n",
       "    <tr>\n",
       "      <th>0</th>\n",
       "      <td>6319</td>\n",
       "      <td>2015</td>\n",
       "      <td>21511</td>\n",
       "      <td>6/16/2015</td>\n",
       "      <td>1442</td>\n",
       "      <td>48.16</td>\n",
       "      <td>-50.01</td>\n",
       "      <td>R/V</td>\n",
       "      <td>LG</td>\n",
       "      <td>TAB</td>\n",
       "      <td>GTJZ</td>\n",
       "      <td>2015-06-16 14:42:00</td>\n",
       "    </tr>\n",
       "    <tr>\n",
       "      <th>1</th>\n",
       "      <td>6320</td>\n",
       "      <td>2015</td>\n",
       "      <td>21511</td>\n",
       "      <td>6/17/2015</td>\n",
       "      <td>1300</td>\n",
       "      <td>48.09</td>\n",
       "      <td>-50.02</td>\n",
       "      <td>R/V</td>\n",
       "      <td>LG</td>\n",
       "      <td>GEN</td>\n",
       "      <td>GMRS</td>\n",
       "      <td>2015-06-17 13:00:00</td>\n",
       "    </tr>\n",
       "    <tr>\n",
       "      <th>2</th>\n",
       "      <td>6321</td>\n",
       "      <td>2015</td>\n",
       "      <td>21511</td>\n",
       "      <td>6/18/2015</td>\n",
       "      <td>1249</td>\n",
       "      <td>48.08</td>\n",
       "      <td>-49.76</td>\n",
       "      <td>VIS</td>\n",
       "      <td>LG</td>\n",
       "      <td>TAB</td>\n",
       "      <td>GTJZ</td>\n",
       "      <td>2015-06-18 12:49:00</td>\n",
       "    </tr>\n",
       "  </tbody>\n",
       "</table>\n",
       "</div>"
      ],
      "text/plain": [
       "   index  ICE-YEAR  BERG_NUMBER       DATE  TIME  LATITUDE  LONGITUDE METHOD  \\\n",
       "0   6319      2015        21511  6/16/2015  1442     48.16     -50.01    R/V   \n",
       "1   6320      2015        21511  6/17/2015  1300     48.09     -50.02    R/V   \n",
       "2   6321      2015        21511  6/18/2015  1249     48.08     -49.76    VIS   \n",
       "\n",
       "  SIZE SHAPE SOURCE           TIMESTAMP  \n",
       "0   LG   TAB   GTJZ 2015-06-16 14:42:00  \n",
       "1   LG   GEN   GMRS 2015-06-17 13:00:00  \n",
       "2   LG   TAB   GTJZ 2015-06-18 12:49:00  "
      ]
     },
     "execution_count": 3,
     "metadata": {},
     "output_type": "execute_result"
    }
   ],
   "source": [
    "chosen_track_ind = 0\n",
    "iip_berg_df = get_berg_df(chosen_track_ind)\n",
    "iip_berg_df"
   ]
  },
  {
   "cell_type": "code",
   "execution_count": 4,
   "metadata": {
    "collapsed": true
   },
   "outputs": [],
   "source": [
    "iip_berg = Iceberg(iip_berg_df['BERG_NUMBER'].loc[0],\n",
    "                    iip_berg_df['TIMESTAMP'].dt.to_pydatetime(),\n",
    "                    iip_berg_df['LATITUDE'].loc[:].tolist(),\n",
    "                    iip_berg_df['LONGITUDE'].loc[:].tolist(),\n",
    "                    iip_berg_df['SIZE'].loc[0])"
   ]
  },
  {
   "cell_type": "markdown",
   "metadata": {},
   "source": [
    "# Metocean"
   ]
  },
  {
   "cell_type": "code",
   "execution_count": 5,
   "metadata": {
    "collapsed": true
   },
   "outputs": [],
   "source": [
    "ocean_data = ECMWF_Ocean(min(iip_berg.lons), max(iip_berg.lons),\n",
    "                         min(iip_berg.lats), max(iip_berg.lats),\n",
    "                         iip_berg.datetimes[0], iip_berg.datetimes[-1])"
   ]
  },
  {
   "cell_type": "code",
   "execution_count": 6,
   "metadata": {
    "collapsed": false
   },
   "outputs": [
    {
     "data": {
      "text/plain": [
       "['ftp://data.munroelab.ca/pub/ECMWF/ocean/daily/20150616.nc',\n",
       " 'ftp://data.munroelab.ca/pub/ECMWF/ocean/daily/20150617.nc',\n",
       " 'ftp://data.munroelab.ca/pub/ECMWF/ocean/daily/20150618.nc']"
      ]
     },
     "execution_count": 6,
     "metadata": {},
     "output_type": "execute_result"
    }
   ],
   "source": [
    "ocean_data.filenames"
   ]
  },
  {
   "cell_type": "code",
   "execution_count": 7,
   "metadata": {
    "collapsed": true
   },
   "outputs": [],
   "source": [
    "atm_data = ECMWF_Atm(min(iip_berg.lons), max(iip_berg.lons),\n",
    "                     min(iip_berg.lats), max(iip_berg.lats),\n",
    "                     iip_berg.datetimes[0], iip_berg.datetimes[-1])"
   ]
  },
  {
   "cell_type": "code",
   "execution_count": 8,
   "metadata": {
    "collapsed": false
   },
   "outputs": [
    {
     "data": {
      "text/plain": [
       "['ftp://data.munroelab.ca/pub/ECMWF/atm/daily/sub20150616.nc',\n",
       " 'ftp://data.munroelab.ca/pub/ECMWF/atm/daily/sub20150617.nc',\n",
       " 'ftp://data.munroelab.ca/pub/ECMWF/atm/daily/sub20150618.nc']"
      ]
     },
     "execution_count": 8,
     "metadata": {},
     "output_type": "execute_result"
    }
   ],
   "source": [
    "atm_data.filenames"
   ]
  },
  {
   "cell_type": "markdown",
   "metadata": {},
   "source": [
    "# Drift"
   ]
  },
  {
   "cell_type": "code",
   "execution_count": 9,
   "metadata": {
    "collapsed": true
   },
   "outputs": [],
   "source": [
    "def turnbull_drift(t, dt, vx, vy, x, y, l, w, h, UA, VA, UW, VW):\n",
    "\n",
    "    Vax = UA\n",
    "    Vay = VA\n",
    "    Vcx = UW\n",
    "    Vcy = VW\n",
    "        \n",
    "    Vx = vx\n",
    "    Vy = vy\n",
    "        \n",
    "\n",
    "    \n",
    "    # calculate air density\n",
    "    # TODO: effect of temperature and humidity\n",
    "    rhoa = 1.225 # density of air (kg/m^3)\n",
    "    rhow = 1027.5  # density of water (kg/m^3)\n",
    "    rhoi = 850\n",
    "    Ca = 0.1  # air drag coefficient\n",
    "    Cw = 2.5    # water drag coefficient\n",
    "    Cdw = 5.0e-4\n",
    "    \n",
    "    Ak = (rhoi/rhow)*(2/np.pi)*(l+w)*h  # from Wagner\n",
    "    As = ((rhow - rhoi)/rhoi)*Ak   # from Wagner\n",
    "    \n",
    "    om = 7.2921e-5  # rotation rate of earth in rad/s\n",
    "    f = 2*om*np.sin(np.deg2rad(y))  # Coriolis parameter (y is latitude in degrees)\n",
    "\n",
    "    berg_mass = l*w*h*rhoi\n",
    "    Ma = 0.5*berg_mass\n",
    "    \n",
    "    earth_radius = 6378*1e3\n",
    "\n",
    "\n",
    "    \n",
    "    #As = l * 0.1*h  # sail area (maximum width (m) * sail height (m))\n",
    "    \n",
    "    # TODO: add skin drag\n",
    "    Fax = (0.5 * rhoa * Ca * As) * abs(Vax - Vx) * (Vax - Vx)\n",
    "    Fay = (0.5 * rhoa * Ca * As) * abs(Vay - Vy) * (Vay - Vy)\n",
    "\n",
    "    \n",
    "    #Ak = 7*110    # keel area (width (m) * keel depth (m))\n",
    "    #Ak = l * 0.9*h\n",
    "    \n",
    "    \n",
    "    # TODO: extend to n-layer keel model\n",
    "    # TODO: add skin drag\n",
    "    Fwx = (0.5 * rhow * Cw * Ak *abs(Vcx - Vx)*(Vcx-Vx)) +(0)\n",
    "    Fwy = (0.5 * rhow * Cw * Ak *abs(Vcy - Vy)*(Vcy-Vy)) +(0)\n",
    "    \n",
    "    \n",
    "    # Coriolis force\n",
    "    Fcx = + f * Vy * berg_mass\n",
    "    Fcy = - f * Vx * berg_mass\n",
    "    \n",
    "    \n",
    "    # Water pressure gradient\n",
    "    # Mean water current down to the iceberg keel\n",
    "    Vwmx = 0\n",
    "    Vwmy = 0\n",
    "    \n",
    "    # acceleration (time-derivative) of Vmw\n",
    "    Amwx = 0\n",
    "    Amwy = 0\n",
    "        \n",
    "    Fwpx = berg_mass*(Amwx + f*Vwmx)\n",
    "    Fwpy = berg_mass*(Amwy - f*Vwmy)\n",
    "    \n",
    "    \n",
    "    # Iceberg acceleration\n",
    "    \n",
    "    # added mass\n",
    "                \n",
    "    ax = (Fax + Fcx + Fwx + Fwpx) / (berg_mass + Ma)\n",
    "    ay = (Fay + Fcy + Fwy + Fwpy) / (berg_mass + Ma)\n",
    "    \n",
    "    vx += dt*ax\n",
    "    vy += dt*ay\n",
    "    \n",
    "    y_new = y + dt*vy*(180/(np.pi*earth_radius))\n",
    "    x_new = x + dt*vx/(np.cos((((y + y_new)/2)*np.pi)/180))*(180/(np.pi*earth_radius))\n",
    "    \n",
    "    return vx, vy, x_new, y_new\n"
   ]
  },
  {
   "cell_type": "markdown",
   "metadata": {},
   "source": [
    "# Driver"
   ]
  },
  {
   "cell_type": "code",
   "execution_count": 10,
   "metadata": {
    "collapsed": false
   },
   "outputs": [
    {
     "name": "stdout",
     "output_type": "stream",
     "text": [
      "Run number: 0, h = 5.0, l = 2.5, w = 2.5\n",
      "out-of-bounds\n",
      "Final time: 2015-06-16 14:48:00\n",
      "Run number: 0, h = 30.0, l = 10.0, w = 10.0\n",
      "out-of-bounds\n",
      "Final time: 2015-06-16 14:54:00\n",
      "Run number: 0, h = 100.0, l = 37.5, w = 37.5\n",
      "Final time: 2015-06-18 12:54:00\n",
      "Run number: 0, h = 300.0, l = 90.0, w = 90.0\n",
      "Final time: 2015-06-18 12:54:00\n",
      "Run number: 0, h = 600.0, l = 60.0, w = 60.0\n",
      "Final time: 2015-06-18 12:54:00\n",
      "Run number: 0, h = 562.5, l = 150.0, w = 150.0\n",
      "Final time: 2015-06-18 12:54:00\n"
     ]
    }
   ],
   "source": [
    "# Timesteps\n",
    "\n",
    "t0 = iip_berg.datetimes[0]\n",
    "tf = iip_berg.datetimes[-1]\n",
    "\n",
    "t_delta = tf - t0\n",
    "t_delta_hours = t_delta.days*24 + t_delta.seconds/3600\n",
    "t_step_hours = 0.1\n",
    "t_step = timedelta(hours = t_step_hours)\n",
    "dt = t_step_hours*3600  # timestep in seconds\n",
    "t_all = []\n",
    "\n",
    "for i in np.arange(0, t_delta_hours + t_step_hours, t_step_hours):\n",
    "    new_date = t0 + timedelta(hours=i)\n",
    "    t_all.append(new_date)\n",
    "\n",
    "\n",
    "\n",
    "berg_sizes = ['GR', 'BB', 'SM', 'MED', 'LG', 'VLG']\n",
    "bergs_by_size = []\n",
    "\n",
    "plot_list = []\n",
    "\n",
    "for berg_size in berg_sizes:\n",
    "    \n",
    "\n",
    "    \n",
    "    mod_berg = Iceberg(iip_berg_df['BERG_NUMBER'][0],\n",
    "                        iip_berg_df['TIMESTAMP'].dt.to_pydatetime(),\n",
    "                        [iip_berg_df['LATITUDE'][0]],\n",
    "                        [iip_berg_df['LONGITUDE'][0]],\n",
    "                        berg_size)\n",
    "    \n",
    "    \n",
    "    mod_berg.length = [mod_berg.length]\n",
    "    mod_berg.width = [mod_berg.width]\n",
    "    mod_berg.height = [mod_berg.height]\n",
    "    \n",
    "    # Iceberg Initial Location\n",
    "    x0, y0 = mod_berg.lons[0], mod_berg.lats[0]\n",
    "\n",
    "    # Run number\n",
    "    run_num = 0\n",
    "    num_runs = 1\n",
    "\n",
    "    # Buffer number for bounding spatial box\n",
    "    buf = 0.5\n",
    "\n",
    "    # Initialize output dict\n",
    "    output_dict = {}\n",
    "\n",
    "    for run_num in range(num_runs):\n",
    "\n",
    "        # Iceberg Initials\n",
    "        l0, w0, h0 = mod_berg.length[0], mod_berg.width[0], mod_berg.height[0]\n",
    "        l0 = l0 + l0*0.1*run_num\n",
    "        w0 = w0 + w0*0.1*run_num\n",
    "        h0 = h0 + h0*0.1*run_num\n",
    "        l, w, h = l0, w0, h0\n",
    "        x, y = x0, y0\n",
    "        vx, vy = 0, 0\n",
    "\n",
    "        print('Run number: {}, h = {}, l = {}, w = {}'.format(run_num, h0, l0, w0))\n",
    "        \n",
    "        for t in t_all:\n",
    "            \n",
    "                \n",
    "            t_ocean = nc.date2num(t, 'hours since 1950-01-01 00:00:00.0 00:00', 'standard')\n",
    "            t_atm = nc.date2num(t, 'hours since 1900-01-01 00:00:00.0 00:00', 'standard')\n",
    "            \n",
    "            vau = atm_data.iUA([t_atm, y, x])[0]\n",
    "            vav = atm_data.iVA([t_atm, y, x])[0]\n",
    "            vwu = ocean_data.iUW([t_ocean, y, x])[0]\n",
    "            vwv = ocean_data.iVW([t_ocean, y, x])[0]\n",
    "\n",
    "\n",
    "            #print('Timestep: {}'.format(t))\n",
    "\n",
    "            vx, vy, x_new, y_new = turnbull_drift(t, dt, vx, vy, x, y, l, w, h, vau, vav, vwu, vwv) \n",
    "\n",
    "\n",
    "            if x_new > max(iip_berg.lons)+buf or x_new < min(iip_berg.lons)-buf or \\\n",
    "               y_new > max(iip_berg.lats)+buf or y_new <= min(iip_berg.lats)-buf:\n",
    "                # Iceberg out-of-bounds\n",
    "                print('out-of-bounds')\n",
    "                break\n",
    "\n",
    "\n",
    "            else:\n",
    "                vx, vy, x, y = vx, vy, x_new, y_new\n",
    "                mod_berg.lons.append(x)\n",
    "                mod_berg.lats.append(y)\n",
    "\n",
    "\n",
    "\n",
    "    print(\"Final time: {}\".format(t)) \n",
    "    bergs_by_size.append(mod_berg)"
   ]
  },
  {
   "cell_type": "markdown",
   "metadata": {},
   "source": [
    "# Plotting"
   ]
  },
  {
   "cell_type": "code",
   "execution_count": 11,
   "metadata": {
    "collapsed": false
   },
   "outputs": [
    {
     "data": {
      "image/png": "[encoded data removed]",
      "text/plain": [
       "<matplotlib.figure.Figure at 0x7fb2f22410b8>"
      ]
     },
     "metadata": {},
     "output_type": "display_data"
    }
   ],
   "source": [
    "plot = plot_return_size_vary_no_time(iip_berg, bergs_by_size[0], bergs_by_size[1],\n",
    "                            bergs_by_size[2],bergs_by_size[3],bergs_by_size[4],\n",
    "                            bergs_by_size[5], chosen_track_ind)\n",
    "\n",
    "plot_list.append(plot)\n",
    "if not os.path.exists('plots'):\n",
    "    os.makedirs('plots')\n",
    "with PdfPages('plots/plots_size_vary.pdf') as pdf:\n",
    "    for plot in plot_list:\n",
    "        pdf.savefig(plot)"
   ]
  },
  {
   "cell_type": "code",
   "execution_count": null,
   "metadata": {
    "collapsed": true
   },
   "outputs": [],
   "source": []
  }
 ],
 "metadata": {
  "kernelspec": {
   "display_name": "Python 3",
   "language": "python",
   "name": "python3"
  },
  "language_info": {
   "codemirror_mode": {
    "name": "ipython",
    "version": 3
   },
   "file_extension": ".py",
   "mimetype": "text/x-python",
   "name": "python",
   "nbconvert_exporter": "python",
   "pygments_lexer": "ipython3",
   "version": "3.5.2"
  }
 },
 "nbformat": 4,
 "nbformat_minor": 0
}
