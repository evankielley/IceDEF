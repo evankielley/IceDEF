{
 "cells": [
  {
   "cell_type": "markdown",
   "metadata": {},
   "source": [
    "# Analyzing Beacon Data "
   ]
  },
  {
   "cell_type": "code",
   "execution_count": 1,
   "metadata": {},
   "outputs": [],
   "source": [
    "import numpy as np\n",
    "import pandas as pd\n",
    "import matplotlib.pyplot as plt\n",
    "from matplotlib.backends.backend_pdf import PdfPages\n",
    "import urllib\n",
    "import os"
   ]
  },
  {
   "cell_type": "code",
   "execution_count": 2,
   "metadata": {},
   "outputs": [],
   "source": [
    "dir_path = 'ftp://data.munroelab.ca/pub/iceberg/beacon/'\n",
    "dir_contents = urllib.request.urlopen(dir_path).read().splitlines()\n",
    "filenames = [str(listing.split()[-1])[2:-1] for listing in dir_contents]\n",
    "csv_filenames = [filename for filename in filenames if filename.startswith('0')\n",
    "                and filename.endswith('csv')]\n",
    "kml_filenames = [filename for filename in filenames if filename.startswith('0')\n",
    "                and filename.endswith('kml')]\n",
    "metadata_filename = filenames[-1]"
   ]
  },
  {
   "cell_type": "code",
   "execution_count": 3,
   "metadata": {},
   "outputs": [],
   "source": [
    "beacon_metadata = pd.read_csv(dir_path + metadata_filename)"
   ]
  },
  {
   "cell_type": "code",
   "execution_count": 4,
   "metadata": {},
   "outputs": [
    {
     "data": {
      "text/html": [
       "<div>\n",
       "<style scoped>\n",
       "    .dataframe tbody tr th:only-of-type {\n",
       "        vertical-align: middle;\n",
       "    }\n",
       "\n",
       "    .dataframe tbody tr th {\n",
       "        vertical-align: top;\n",
       "    }\n",
       "\n",
       "    .dataframe thead th {\n",
       "        text-align: right;\n",
       "    }\n",
       "</style>\n",
       "<table border=\"1\" class=\"dataframe\">\n",
       "  <thead>\n",
       "    <tr style=\"text-align: right;\">\n",
       "      <th></th>\n",
       "      <th>BeaconID</th>\n",
       "      <th>IMEI</th>\n",
       "      <th>ArgosID</th>\n",
       "      <th>WMO</th>\n",
       "      <th>DataOwner</th>\n",
       "      <th>DataSharingRestrictions</th>\n",
       "      <th>Contact</th>\n",
       "      <th>BeaconType</th>\n",
       "      <th>Manufacturer</th>\n",
       "      <th>Transmitter</th>\n",
       "      <th>...</th>\n",
       "      <th>RelatedBeaconIDs</th>\n",
       "      <th>AdditionalDatasets</th>\n",
       "      <th>Project</th>\n",
       "      <th>Photos_Y_N</th>\n",
       "      <th>NumberPhotos</th>\n",
       "      <th>PhotoCredits</th>\n",
       "      <th>PhotoRestrictions</th>\n",
       "      <th>PhotoComments</th>\n",
       "      <th>PhotoNames</th>\n",
       "      <th>Comments</th>\n",
       "    </tr>\n",
       "  </thead>\n",
       "  <tbody>\n",
       "    <tr>\n",
       "      <th>0</th>\n",
       "      <td>204980</td>\n",
       "      <td>300000000000000</td>\n",
       "      <td>NaN</td>\n",
       "      <td>NaN</td>\n",
       "      <td>Water and Ice Research Laboratory, Carleton Un...</td>\n",
       "      <td>1</td>\n",
       "      <td>Derek Mueller</td>\n",
       "      <td>FT-2000</td>\n",
       "      <td>Solara</td>\n",
       "      <td>Iridium</td>\n",
       "      <td>...</td>\n",
       "      <td>906790, 2790480, 2792490</td>\n",
       "      <td>sail/keel mapping with laser and multibeam, CT...</td>\n",
       "      <td>Statoil/ArcticNet Research Cruise 2015</td>\n",
       "      <td>Y</td>\n",
       "      <td>7</td>\n",
       "      <td>Derek Mueller, Anna Crawford</td>\n",
       "      <td>4</td>\n",
       "      <td>NaN</td>\n",
       "      <td>204980_2015_approaching the saddle berg 1.JPG,...</td>\n",
       "      <td>Beacon deployed during ArcticNet/Statoil/WIRL ...</td>\n",
       "    </tr>\n",
       "    <tr>\n",
       "      <th>1</th>\n",
       "      <td>505190</td>\n",
       "      <td>300000000000000</td>\n",
       "      <td>NaN</td>\n",
       "      <td>NaN</td>\n",
       "      <td>Water and Ice Research Laboratory, Carleton Un...</td>\n",
       "      <td>1</td>\n",
       "      <td>Derek Mueller</td>\n",
       "      <td>FT-2000</td>\n",
       "      <td>Solara</td>\n",
       "      <td>Iridium</td>\n",
       "      <td>...</td>\n",
       "      <td>907780, 2791420</td>\n",
       "      <td>photogrammetry, laser scanning</td>\n",
       "      <td>Statoil/ArcticNet Research Cruise 2015</td>\n",
       "      <td>Y</td>\n",
       "      <td>10</td>\n",
       "      <td>Derek Mueller, Anna Crawford</td>\n",
       "      <td>4</td>\n",
       "      <td>NaN</td>\n",
       "      <td>505190_2015_Approaching tabular berg.JPG, 5051...</td>\n",
       "      <td>Beacon deployed during ArcticNet/Statoil/WIRL ...</td>\n",
       "    </tr>\n",
       "    <tr>\n",
       "      <th>2</th>\n",
       "      <td>906790</td>\n",
       "      <td>300000000000000</td>\n",
       "      <td>NaN</td>\n",
       "      <td>NaN</td>\n",
       "      <td>Water and Ice Research Laboratory, Carleton Un...</td>\n",
       "      <td>1</td>\n",
       "      <td>Derek Mueller</td>\n",
       "      <td>FT-2000</td>\n",
       "      <td>Solara</td>\n",
       "      <td>Iridium</td>\n",
       "      <td>...</td>\n",
       "      <td>204980, 2790480,  2792490</td>\n",
       "      <td>sail/keel mapping with laser and multibeam, CT...</td>\n",
       "      <td>Statoil/ArcticNet Research Cruise 2015</td>\n",
       "      <td>Y</td>\n",
       "      <td>See 204980</td>\n",
       "      <td>See 204980</td>\n",
       "      <td>4</td>\n",
       "      <td>NaN</td>\n",
       "      <td>see 204980</td>\n",
       "      <td>Beacon deployed during ArcticNet/Statoil/WIRL ...</td>\n",
       "    </tr>\n",
       "    <tr>\n",
       "      <th>3</th>\n",
       "      <td>907780</td>\n",
       "      <td>300000000000000</td>\n",
       "      <td>NaN</td>\n",
       "      <td>NaN</td>\n",
       "      <td>Water and Ice Research Laboratory, Carleton Un...</td>\n",
       "      <td>1</td>\n",
       "      <td>Derek Mueller</td>\n",
       "      <td>FT-2000</td>\n",
       "      <td>Solara</td>\n",
       "      <td>Iridium</td>\n",
       "      <td>...</td>\n",
       "      <td>505190, 2791420</td>\n",
       "      <td>photogrammetry, laser scanning</td>\n",
       "      <td>Statoil/ArcticNet Research Cruise 2015</td>\n",
       "      <td>Y</td>\n",
       "      <td>See 505190</td>\n",
       "      <td>See 505190</td>\n",
       "      <td>4</td>\n",
       "      <td>NaN</td>\n",
       "      <td>see 505190</td>\n",
       "      <td>Beacon deployed during ArcticNet/Statoil/WIRL ...</td>\n",
       "    </tr>\n",
       "  </tbody>\n",
       "</table>\n",
       "<p>4 rows × 62 columns</p>\n",
       "</div>"
      ],
      "text/plain": [
       "   BeaconID             IMEI  ArgosID  WMO  \\\n",
       "0    204980  300000000000000      NaN  NaN   \n",
       "1    505190  300000000000000      NaN  NaN   \n",
       "2    906790  300000000000000      NaN  NaN   \n",
       "3    907780  300000000000000      NaN  NaN   \n",
       "\n",
       "                                           DataOwner  DataSharingRestrictions  \\\n",
       "0  Water and Ice Research Laboratory, Carleton Un...                        1   \n",
       "1  Water and Ice Research Laboratory, Carleton Un...                        1   \n",
       "2  Water and Ice Research Laboratory, Carleton Un...                        1   \n",
       "3  Water and Ice Research Laboratory, Carleton Un...                        1   \n",
       "\n",
       "         Contact BeaconType Manufacturer Transmitter  \\\n",
       "0  Derek Mueller    FT-2000       Solara     Iridium   \n",
       "1  Derek Mueller    FT-2000       Solara     Iridium   \n",
       "2  Derek Mueller    FT-2000       Solara     Iridium   \n",
       "3  Derek Mueller    FT-2000       Solara     Iridium   \n",
       "\n",
       "                         ...                          \\\n",
       "0                        ...                           \n",
       "1                        ...                           \n",
       "2                        ...                           \n",
       "3                        ...                           \n",
       "\n",
       "             RelatedBeaconIDs  \\\n",
       "0    906790, 2790480, 2792490   \n",
       "1             907780, 2791420   \n",
       "2  204980, 2790480,  2792490    \n",
       "3             505190, 2791420   \n",
       "\n",
       "                                  AdditionalDatasets  \\\n",
       "0  sail/keel mapping with laser and multibeam, CT...   \n",
       "1                     photogrammetry, laser scanning   \n",
       "2  sail/keel mapping with laser and multibeam, CT...   \n",
       "3                     photogrammetry, laser scanning   \n",
       "\n",
       "                                  Project Photos_Y_N NumberPhotos  \\\n",
       "0  Statoil/ArcticNet Research Cruise 2015          Y            7   \n",
       "1  Statoil/ArcticNet Research Cruise 2015          Y           10   \n",
       "2  Statoil/ArcticNet Research Cruise 2015          Y   See 204980   \n",
       "3  Statoil/ArcticNet Research Cruise 2015          Y   See 505190   \n",
       "\n",
       "                   PhotoCredits  PhotoRestrictions  PhotoComments  \\\n",
       "0  Derek Mueller, Anna Crawford                  4            NaN   \n",
       "1  Derek Mueller, Anna Crawford                  4            NaN   \n",
       "2                    See 204980                  4            NaN   \n",
       "3                    See 505190                  4            NaN   \n",
       "\n",
       "                                          PhotoNames  \\\n",
       "0  204980_2015_approaching the saddle berg 1.JPG,...   \n",
       "1  505190_2015_Approaching tabular berg.JPG, 5051...   \n",
       "2                                         see 204980   \n",
       "3                                         see 505190   \n",
       "\n",
       "                                            Comments  \n",
       "0  Beacon deployed during ArcticNet/Statoil/WIRL ...  \n",
       "1  Beacon deployed during ArcticNet/Statoil/WIRL ...  \n",
       "2  Beacon deployed during ArcticNet/Statoil/WIRL ...  \n",
       "3  Beacon deployed during ArcticNet/Statoil/WIRL ...  \n",
       "\n",
       "[4 rows x 62 columns]"
      ]
     },
     "execution_count": 4,
     "metadata": {},
     "output_type": "execute_result"
    }
   ],
   "source": [
    "beacon_metadata"
   ]
  },
  {
   "cell_type": "code",
   "execution_count": 5,
   "metadata": {},
   "outputs": [],
   "source": [
    "def get_df(data_dir_path, data_fname):\n",
    "    \n",
    "    df = pd.read_csv(data_dir_path + data_fname)\n",
    "    df.loc[:, 'DataDate_UTC'] = pd.to_datetime(df['DataDate_UTC'])\n",
    "    \n",
    "    return df"
   ]
  },
  {
   "cell_type": "code",
   "execution_count": 6,
   "metadata": {},
   "outputs": [],
   "source": [
    "df = get_df(dir_path, csv_filenames[1])"
   ]
  },
  {
   "cell_type": "code",
   "execution_count": 7,
   "metadata": {},
   "outputs": [
    {
     "data": {
      "text/html": [
       "<div>\n",
       "<style scoped>\n",
       "    .dataframe tbody tr th:only-of-type {\n",
       "        vertical-align: middle;\n",
       "    }\n",
       "\n",
       "    .dataframe tbody tr th {\n",
       "        vertical-align: top;\n",
       "    }\n",
       "\n",
       "    .dataframe thead th {\n",
       "        text-align: right;\n",
       "    }\n",
       "</style>\n",
       "<table border=\"1\" class=\"dataframe\">\n",
       "  <thead>\n",
       "    <tr style=\"text-align: right;\">\n",
       "      <th></th>\n",
       "      <th>BeaconID</th>\n",
       "      <th>BeaconType</th>\n",
       "      <th>DataDate_UTC</th>\n",
       "      <th>TransmissionDate_UTC</th>\n",
       "      <th>Latitude</th>\n",
       "      <th>Longitude</th>\n",
       "      <th>VBatt</th>\n",
       "      <th>AT</th>\n",
       "      <th>ST</th>\n",
       "      <th>BP</th>\n",
       "      <th>Heading</th>\n",
       "      <th>Speed</th>\n",
       "      <th>LocAccuracy</th>\n",
       "      <th>MessageIndex</th>\n",
       "      <th>Satellites</th>\n",
       "      <th>GPSdelay</th>\n",
       "      <th>SNR</th>\n",
       "      <th>TTFF</th>\n",
       "    </tr>\n",
       "  </thead>\n",
       "  <tbody>\n",
       "    <tr>\n",
       "      <th>0</th>\n",
       "      <td>50519</td>\n",
       "      <td>Solara</td>\n",
       "      <td>2015-04-23 18:48:37</td>\n",
       "      <td>NaN</td>\n",
       "      <td>49.22403</td>\n",
       "      <td>-51.25820</td>\n",
       "      <td>NaN</td>\n",
       "      <td>NaN</td>\n",
       "      <td>NaN</td>\n",
       "      <td>NaN</td>\n",
       "      <td>NaN</td>\n",
       "      <td>NaN</td>\n",
       "      <td>NaN</td>\n",
       "      <td>NaN</td>\n",
       "      <td>NaN</td>\n",
       "      <td>NaN</td>\n",
       "      <td>NaN</td>\n",
       "      <td>NaN</td>\n",
       "    </tr>\n",
       "    <tr>\n",
       "      <th>1</th>\n",
       "      <td>50519</td>\n",
       "      <td>Solara</td>\n",
       "      <td>2015-04-23 18:49:07</td>\n",
       "      <td>NaN</td>\n",
       "      <td>49.22401</td>\n",
       "      <td>-51.25817</td>\n",
       "      <td>NaN</td>\n",
       "      <td>NaN</td>\n",
       "      <td>NaN</td>\n",
       "      <td>NaN</td>\n",
       "      <td>NaN</td>\n",
       "      <td>NaN</td>\n",
       "      <td>NaN</td>\n",
       "      <td>NaN</td>\n",
       "      <td>NaN</td>\n",
       "      <td>NaN</td>\n",
       "      <td>NaN</td>\n",
       "      <td>NaN</td>\n",
       "    </tr>\n",
       "    <tr>\n",
       "      <th>2</th>\n",
       "      <td>50519</td>\n",
       "      <td>Solara</td>\n",
       "      <td>2015-04-23 18:49:34</td>\n",
       "      <td>NaN</td>\n",
       "      <td>49.22400</td>\n",
       "      <td>-51.25809</td>\n",
       "      <td>NaN</td>\n",
       "      <td>NaN</td>\n",
       "      <td>NaN</td>\n",
       "      <td>NaN</td>\n",
       "      <td>NaN</td>\n",
       "      <td>NaN</td>\n",
       "      <td>NaN</td>\n",
       "      <td>NaN</td>\n",
       "      <td>NaN</td>\n",
       "      <td>NaN</td>\n",
       "      <td>NaN</td>\n",
       "      <td>NaN</td>\n",
       "    </tr>\n",
       "    <tr>\n",
       "      <th>3</th>\n",
       "      <td>50519</td>\n",
       "      <td>Solara</td>\n",
       "      <td>2015-04-23 18:49:59</td>\n",
       "      <td>NaN</td>\n",
       "      <td>49.22403</td>\n",
       "      <td>-51.25789</td>\n",
       "      <td>NaN</td>\n",
       "      <td>NaN</td>\n",
       "      <td>NaN</td>\n",
       "      <td>NaN</td>\n",
       "      <td>NaN</td>\n",
       "      <td>NaN</td>\n",
       "      <td>NaN</td>\n",
       "      <td>NaN</td>\n",
       "      <td>NaN</td>\n",
       "      <td>NaN</td>\n",
       "      <td>NaN</td>\n",
       "      <td>NaN</td>\n",
       "    </tr>\n",
       "    <tr>\n",
       "      <th>4</th>\n",
       "      <td>50519</td>\n",
       "      <td>Solara</td>\n",
       "      <td>2015-04-23 18:50:26</td>\n",
       "      <td>NaN</td>\n",
       "      <td>49.22399</td>\n",
       "      <td>-51.25789</td>\n",
       "      <td>NaN</td>\n",
       "      <td>NaN</td>\n",
       "      <td>NaN</td>\n",
       "      <td>NaN</td>\n",
       "      <td>NaN</td>\n",
       "      <td>NaN</td>\n",
       "      <td>NaN</td>\n",
       "      <td>NaN</td>\n",
       "      <td>NaN</td>\n",
       "      <td>NaN</td>\n",
       "      <td>NaN</td>\n",
       "      <td>NaN</td>\n",
       "    </tr>\n",
       "  </tbody>\n",
       "</table>\n",
       "</div>"
      ],
      "text/plain": [
       "   BeaconID BeaconType        DataDate_UTC  TransmissionDate_UTC  Latitude  \\\n",
       "0     50519     Solara 2015-04-23 18:48:37                   NaN  49.22403   \n",
       "1     50519     Solara 2015-04-23 18:49:07                   NaN  49.22401   \n",
       "2     50519     Solara 2015-04-23 18:49:34                   NaN  49.22400   \n",
       "3     50519     Solara 2015-04-23 18:49:59                   NaN  49.22403   \n",
       "4     50519     Solara 2015-04-23 18:50:26                   NaN  49.22399   \n",
       "\n",
       "   Longitude  VBatt  AT  ST  BP  Heading  Speed  LocAccuracy  MessageIndex  \\\n",
       "0  -51.25820    NaN NaN NaN NaN      NaN    NaN          NaN           NaN   \n",
       "1  -51.25817    NaN NaN NaN NaN      NaN    NaN          NaN           NaN   \n",
       "2  -51.25809    NaN NaN NaN NaN      NaN    NaN          NaN           NaN   \n",
       "3  -51.25789    NaN NaN NaN NaN      NaN    NaN          NaN           NaN   \n",
       "4  -51.25789    NaN NaN NaN NaN      NaN    NaN          NaN           NaN   \n",
       "\n",
       "   Satellites  GPSdelay  SNR  TTFF  \n",
       "0         NaN       NaN  NaN   NaN  \n",
       "1         NaN       NaN  NaN   NaN  \n",
       "2         NaN       NaN  NaN   NaN  \n",
       "3         NaN       NaN  NaN   NaN  \n",
       "4         NaN       NaN  NaN   NaN  "
      ]
     },
     "execution_count": 7,
     "metadata": {},
     "output_type": "execute_result"
    }
   ],
   "source": [
    "df.head()"
   ]
  },
  {
   "cell_type": "code",
   "execution_count": 8,
   "metadata": {},
   "outputs": [],
   "source": [
    "def get_day_idxs(dft, day_inc = 5):\n",
    "\n",
    "    day_idxs = []\n",
    "    day_js = []\n",
    "    day_j = 0\n",
    "    \n",
    "    for i in range(len(df)):\n",
    "        day = (dft[i] - dft[0]).days\n",
    "        if day == day_j:\n",
    "            day_idxs.append(i)\n",
    "            day_js.append(day_j)\n",
    "            day_j += day_inc\n",
    "    \n",
    "    return day_idxs, day_js"
   ]
  },
  {
   "cell_type": "code",
   "execution_count": 9,
   "metadata": {},
   "outputs": [],
   "source": [
    "def plot_drift_track(df, data_fname):\n",
    "    \n",
    "    fig = plt.figure()\n",
    "\n",
    "    x, y = df['Longitude'], df['Latitude']\n",
    "    \n",
    "    plt.scatter(x, y, s=2)\n",
    "    \n",
    "    t = df['DataDate_UTC']\n",
    "    day_idxs, day_js = get_day_idxs(t)\n",
    "    \n",
    "    for i, day_idx in enumerate(day_idxs):\n",
    "    \n",
    "        plt.text(x[day_idx], y[day_idx], str(day_js[i]), fontsize=16, )\n",
    "    \n",
    "    plt.title(f'Drift Track from {data_fname}')\n",
    "    plt.xlabel('Longitude')\n",
    "    plt.ylabel('Latitude')\n",
    "    return fig"
   ]
  },
  {
   "cell_type": "raw",
   "metadata": {},
   "source": [
    "try:\n",
    "    os.makedirs('plots')\n",
    "except:\n",
    "    pass\n",
    "\n",
    "with PdfPages('plots/beacon_tracks.pdf') as pdf:\n",
    "    for filename in csv_filenames:\n",
    "        df = get_df(dir_path, filename)\n",
    "        fig = plot_drift_track(df, filename)\n",
    "        plt.show()\n",
    "        plt.close()\n",
    "        pdf.savefig(fig)"
   ]
  },
  {
   "cell_type": "markdown",
   "metadata": {},
   "source": [
    "# Animation"
   ]
  },
  {
   "cell_type": "raw",
   "metadata": {},
   "source": [
    "from matplotlib import animation\n",
    "from IPython.display import HTML"
   ]
  },
  {
   "cell_type": "raw",
   "metadata": {},
   "source": [
    "df0 = get_df(dir_path, csv_filenames[0])\n",
    "df1 = get_df(dir_path, csv_filenames[1])\n",
    "df2 = get_df(dir_path, csv_filenames[2])\n",
    "df3 = get_df(dir_path, csv_filenames[3])"
   ]
  },
  {
   "cell_type": "raw",
   "metadata": {},
   "source": [
    "df = pd.concat([df0, df1, df2, df3], ignore_index=False)"
   ]
  },
  {
   "cell_type": "raw",
   "metadata": {},
   "source": [
    "df['old_index'] = pd.Series(df.index.values)\n",
    "sorted_df = df.sort_values(by='DataDate_UTC').reset_index(drop=True)"
   ]
  },
  {
   "cell_type": "raw",
   "metadata": {},
   "source": [
    "sorted_df.BeaconID.unique()"
   ]
  },
  {
   "cell_type": "raw",
   "metadata": {},
   "source": [
    "x0_list = df0.Longitude.values; y0_list = df0.Latitude.values; id0 = 204980\n",
    "x1_list = df1.Longitude.values; y1_list = df1.Latitude.values; id1 = 50519\n",
    "x2_list = df2.Longitude.values; y2_list = df2.Latitude.values; id2 = 90679\n",
    "x3_list = df3.Longitude.values; y3_list = df3.Latitude.values; id3 = 90778\n",
    "\n",
    "t_list = sorted_df.DataDate_UTC.values\n",
    "x_list = sorted_df.Longitude.values\n",
    "y_list = sorted_df.Latitude.values\n",
    "id_list = sorted_df.BeaconID.values\n",
    "\n",
    "fig, ax = plt.subplots()\n",
    "ax.axis([min(x_list), max(x_list), min(y_list), max(y_list)])\n",
    "ax.set_xlabel('Longitude')\n",
    "ax.set_ylabel('Latitude')\n",
    "ax.set_title('')\n",
    "\n",
    "l0, = ax.plot([],[], color='red', label=str(id0))\n",
    "l1, = ax.plot([],[], color='green', label=str(id1))\n",
    "l2, = ax.plot([],[], color='blue', label=str(id2))\n",
    "l3, = ax.plot([],[], color='black', label=str(id3))\n",
    "\n",
    "ax.legend(loc='lower right', title='Beacon ID')\n",
    "\n",
    "def animate(i):\n",
    "    j = sorted_df.old_index[i]\n",
    "    if id_list[i] == id0:\n",
    "        l0.set_data(x0_list[:j], y0_list[:j])\n",
    "    elif id_list[i] == id1:\n",
    "        l1.set_data(x1_list[:j], y1_list[:j])\n",
    "    elif id_list[i] == id2:\n",
    "        l2.set_data(x2_list[:j], y2_list[:j])\n",
    "    elif id_list[i] == id3:\n",
    "        l3.set_data(x3_list[:j], y3_list[:j])\n",
    "    else:\n",
    "        pass\n",
    "    ax.set_title(pd.Timestamp(t_list[i]))\n",
    "\n",
    "anim = animation.FuncAnimation(fig, animate, frames=len(t_list), interval=20)#len(t_list))\n",
    "\n",
    "#HTML(anim.to_html5_video())"
   ]
  },
  {
   "cell_type": "code",
   "execution_count": null,
   "metadata": {},
   "outputs": [],
   "source": []
  },
  {
   "cell_type": "markdown",
   "metadata": {},
   "source": [
    "# Simulation"
   ]
  },
  {
   "cell_type": "code",
   "execution_count": 10,
   "metadata": {},
   "outputs": [],
   "source": [
    "from icedef import constants, iceberg, metocean, drift, tools"
   ]
  },
  {
   "cell_type": "code",
   "execution_count": 11,
   "metadata": {},
   "outputs": [],
   "source": [
    "def get_iceberg_velocity_from_dataframe(df, start_index, end_index):\n",
    "    \n",
    "    dt = (df.DataDate_UTC[end_index] - df.DataDate_UTC[start_index]).total_seconds()  \n",
    "    dlat = df.Latitude[end_index] - df.Latitude[start_index]\n",
    "    dlon = df.Longitude[end_index] - df.Longitude[start_index]\n",
    "    \n",
    "    mid_lat = (df.Latitude[end_index] + df.Latitude[start_index]) / 2\n",
    "    \n",
    "    dy = tools.dlat_to_dy(dlat)\n",
    "    dx = tools.dlon_to_dx(dlon, mid_lat)\n",
    "    \n",
    "    vx = dx/dt\n",
    "    vy = dy/dt\n",
    "    \n",
    "    v = (vx, vy)\n",
    "    \n",
    "    return v"
   ]
  },
  {
   "cell_type": "code",
   "execution_count": 12,
   "metadata": {},
   "outputs": [
    {
     "data": {
      "text/plain": [
       "['0204980_2015.csv',\n",
       " '0505190_2015.csv',\n",
       " '0906790_2015.csv',\n",
       " '0907780_2015.csv']"
      ]
     },
     "execution_count": 12,
     "metadata": {},
     "output_type": "execute_result"
    }
   ],
   "source": [
    "csv_filenames"
   ]
  },
  {
   "cell_type": "code",
   "execution_count": 13,
   "metadata": {},
   "outputs": [],
   "source": [
    "def drift_wrapper(berg_inits, meto, time_info, **kwargs):\n",
    "    \n",
    "    start_time, start_latitude, start_longitude, start_velocity = berg_inits\n",
    "    \n",
    "    berg = iceberg.quickstart(start_time, (start_latitude, start_longitude), \n",
    "                              velocity=start_velocity)\n",
    "            \n",
    "    time_step, end_time = time_info\n",
    "    dt = time_step.item().total_seconds()\n",
    "\n",
    "    berg_constants = {\n",
    "    'form_drag_coefficient_in_air': kwargs.pop('Ca', berg.FORM_DRAG_COEFFICIENT_IN_AIR),\n",
    "    'form_drag_coefficient_in_water': kwargs.pop('Cw', berg.FORM_DRAG_COEFFICIENT_IN_WATER),\n",
    "    'skin_drag_coefficient_in_air': berg.SKIN_DRAG_COEFFICIENT_IN_AIR,\n",
    "    'skin_drag_coefficient_in_water': berg.SKIN_DRAG_COEFFICIENT_IN_WATER,\n",
    "    'sail_area': berg.geometry.sail_area,\n",
    "    'keel_area': berg.geometry.keel_area,\n",
    "    'top_area': berg.geometry.waterline_length**2,\n",
    "    'bottom_area': 0,\n",
    "    'mass': berg.geometry.mass,\n",
    "    'latitude': berg.latitude\n",
    "    }\n",
    "        \n",
    "    point = (berg.time, berg.latitude, berg.longitude)\n",
    "    \n",
    "    current_velocity = (meto.interpolate(point, meto.ocean.eastward_current_velocities),\n",
    "                        meto.interpolate(point, meto.ocean.northward_current_velocities))\n",
    "\n",
    "    wind_velocity = (meto.interpolate(point, meto.atmosphere.eastward_wind_velocities),\n",
    "                     meto.interpolate(point, meto.atmosphere.northward_wind_velocities))\n",
    "\n",
    "    while berg.time < end_time:\n",
    "        \n",
    "        berg.update_history()\n",
    "\n",
    "        ax, ay = drift.newtonian_drift((berg.eastward_velocity, berg.northward_velocity), \n",
    "                                 current_velocity, wind_velocity, \n",
    "                                 berg_constants)\n",
    "\n",
    "        berg.time += time_step\n",
    "        berg.eastward_velocity += ax * dt\n",
    "        berg.northward_velocity += ay * dt\n",
    "        berg.latitude += tools.dy_to_dlat(berg.northward_velocity * dt)\n",
    "        berg.longitude += tools.dx_to_dlon(berg.eastward_velocity * dt, berg.latitude)\n",
    "\n",
    "        point = (berg.time, berg.latitude, berg.longitude)\n",
    "\n",
    "        current_velocity = (meto.interpolate(point, meto.ocean.eastward_current_velocities),\n",
    "                            meto.interpolate(point, meto.ocean.northward_current_velocities))\n",
    "\n",
    "        wind_velocity = (meto.interpolate(point, meto.atmosphere.eastward_wind_velocities),\n",
    "                         meto.interpolate(point, meto.atmosphere.northward_wind_velocities))\n",
    "\n",
    "        berg_constants['latitude'] = berg.latitude\n",
    "            \n",
    "    return berg"
   ]
  },
  {
   "cell_type": "code",
   "execution_count": 14,
   "metadata": {},
   "outputs": [],
   "source": [
    "df = get_df(dir_path, csv_filenames[2])\n",
    "\n",
    "start_index = 1100\n",
    "end_index = 1120\n",
    "\n",
    "start_time = np.datetime64(df.DataDate_UTC[start_index])\n",
    "start_latitude = df.Latitude[start_index]\n",
    "start_longitude = df.Longitude[start_index]\n",
    "start_velocity = get_iceberg_velocity_from_dataframe(df, start_index, start_index + 10)\n",
    "\n",
    "end_time = np.datetime64(df.DataDate_UTC[end_index])\n",
    "\n",
    "ref_berg = iceberg.quickstart(start_time, (start_latitude, start_longitude))\n",
    "\n",
    "for i in range(end_index - start_index + 2):\n",
    "\n",
    "    ref_berg.time = np.datetime64(df.DataDate_UTC[start_index + i])\n",
    "    ref_berg.latitude = df.Latitude[start_index + i]\n",
    "    ref_berg.longitude = df.Longitude[start_index + i]\n",
    "    ref_berg.update_history()\n",
    "\n",
    "time_step = np.timedelta64(360, 's')\n",
    "#dt = time_step.item().total_seconds()\n",
    "#nt = int((end_time - start_time) / time_step)\n",
    "\n",
    "time_info = (time_step, end_time)\n",
    "\n",
    "berg = iceberg.quickstart(start_time, (start_latitude, start_longitude), velocity=start_velocity)\n",
    "\n",
    "meto = metocean.Metocean((start_time, end_time))"
   ]
  },
  {
   "cell_type": "raw",
   "metadata": {},
   "source": [
    "berg = iceberg.quickstart(start_time, (start_latitude, start_longitude), velocity=start_velocity)\n",
    "berg2 = drift_wrapper(berg, meto, time_info, Ca=0.1, Cw=0.1)\n",
    "berg = iceberg.quickstart(start_time, (start_latitude, start_longitude), velocity=start_velocity)\n",
    "berg3 = drift_wrapper(berg, meto, time_info, Ca=5, Cw=5)"
   ]
  },
  {
   "cell_type": "code",
   "execution_count": 15,
   "metadata": {},
   "outputs": [],
   "source": [
    "berg2 = drift_wrapper((start_time, start_latitude, start_longitude, start_velocity), \n",
    "                      meto, time_info, Ca=3, Cw=0.1)\n",
    "berg3 = drift_wrapper((start_time, start_latitude, start_longitude, start_velocity), \n",
    "                      meto, time_info, Ca=0.1, Cw=5)"
   ]
  },
  {
   "cell_type": "code",
   "execution_count": 16,
   "metadata": {},
   "outputs": [
    {
     "data": {
      "image/png": "[encoded data removed]",
      "text/plain": [
       "<Figure size 432x288 with 1 Axes>"
      ]
     },
     "metadata": {},
     "output_type": "display_data"
    }
   ],
   "source": [
    "plt.scatter(berg2.history['longitude'], berg2.history['latitude'], s=2, label='iceberg2')\n",
    "plt.scatter(berg3.history['longitude'], berg3.history['latitude'], s=2, label='iceberg3')\n",
    "\n",
    "plt.scatter(ref_berg.history['longitude'], ref_berg.history['latitude'], s=4, label='beacon')\n",
    "plt.legend()\n",
    "plt.xlabel('Longitude')\n",
    "plt.ylabel('Latitude')\n",
    "plt.title('Beacon Drift Track')\n",
    "plt.show()"
   ]
  },
  {
   "cell_type": "markdown",
   "metadata": {},
   "source": [
    "# Optimization"
   ]
  },
  {
   "cell_type": "code",
   "execution_count": 17,
   "metadata": {},
   "outputs": [],
   "source": [
    "from scipy.optimize import minimize"
   ]
  },
  {
   "cell_type": "code",
   "execution_count": 18,
   "metadata": {},
   "outputs": [],
   "source": [
    "def optimization_wrapper(form_drag_coefficients, ref_berg, berg_inits, meto, time_info):\n",
    "    \n",
    "    Ca, Cw = form_drag_coefficients\n",
    "    \n",
    "    berg = drift_wrapper(berg_inits, meto, time_info, Ca=Ca, Cw=Cw)\n",
    "    \n",
    "    try:\n",
    "        mse = tools.compute_mse((berg.longitude, berg.latitude, berg.time),\n",
    "                           (ref_berg.history['longitude'], ref_berg.history['latitude'], ref_berg.history['time']),\n",
    "                           ref_berg.history['time'][0] - np.timedelta64(1,'D'))\n",
    "    except:\n",
    "        print(berg2.time)\n",
    "        raise\n",
    "    \n",
    "    return mse\n",
    "    "
   ]
  },
  {
   "cell_type": "code",
   "execution_count": 61,
   "metadata": {},
   "outputs": [],
   "source": [
    "callback_mses = []\n",
    "callback_Cas = []\n",
    "callback_Cws = []\n",
    "\n",
    "def callback(x):\n",
    "    \n",
    "    result = optimization_wrapper(x, ref_berg, (start_time, start_latitude, start_longitude, start_velocity), \n",
    "                                     meto, time_info)\n",
    "    callback_mses.append(result)\n",
    "    callback_Cas.append(x[0])\n",
    "    callback_Cws.append(x[1])"
   ]
  },
  {
   "cell_type": "code",
   "execution_count": 76,
   "metadata": {},
   "outputs": [
    {
     "data": {
      "text/plain": [
       "      fun: 0.026560046409399265\n",
       " hess_inv: <2x2 LbfgsInvHessProduct with dtype=float64>\n",
       "      jac: array([ 8.28816182e-06, -4.65634475e-06])\n",
       "  message: b'CONVERGENCE: NORM_OF_PROJECTED_GRADIENT_<=_PGTOL'\n",
       "     nfev: 57\n",
       "      nit: 15\n",
       "   status: 0\n",
       "  success: True\n",
       "        x: array([ 2.05533429, 12.42601852])"
      ]
     },
     "execution_count": 76,
     "metadata": {},
     "output_type": "execute_result"
    }
   ],
   "source": [
    "# WARNING: make sure to re-init berg before running minimization\n",
    "\n",
    "berg = iceberg.quickstart(start_time, (start_latitude, start_longitude), velocity=start_velocity)\n",
    "\n",
    "optimization_result = minimize(optimization_wrapper, x0=(1, 1), bounds=((0.5, 15), (0.5, 15)), \n",
    "                               args=(ref_berg, (start_time, start_latitude, start_longitude, start_velocity), \n",
    "                                     meto, time_info), callback=callback)\n",
    "optimization_result"
   ]
  },
  {
   "cell_type": "code",
   "execution_count": 77,
   "metadata": {},
   "outputs": [],
   "source": [
    "from mpl_toolkits.mplot3d import Axes3D"
   ]
  },
  {
   "cell_type": "code",
   "execution_count": 78,
   "metadata": {},
   "outputs": [
    {
     "data": {
      "image/png": "[encoded data removed]",
      "text/plain": [
       "<Figure size 432x288 with 1 Axes>"
      ]
     },
     "metadata": {},
     "output_type": "display_data"
    }
   ],
   "source": [
    "fig = plt.figure()\n",
    "ax = fig.add_subplot(111, projection='3d')\n",
    "\n",
    "ax.scatter(np.array(callback_Cas), np.array(callback_Cws), np.array(callback_mses))\n",
    "\n",
    "ax.set_xlabel('Ca')\n",
    "ax.set_ylabel('Cw')\n",
    "ax.set_zlabel('MSE')\n",
    "\n",
    "plt.show()"
   ]
  },
  {
   "cell_type": "code",
   "execution_count": null,
   "metadata": {},
   "outputs": [],
   "source": []
  },
  {
   "cell_type": "code",
   "execution_count": 79,
   "metadata": {},
   "outputs": [
    {
     "data": {
      "text/plain": [
       "      fun: 0.026560046409399265\n",
       " hess_inv: <2x2 LbfgsInvHessProduct with dtype=float64>\n",
       "      jac: array([ 8.28816182e-06, -4.65634475e-06])\n",
       "  message: b'CONVERGENCE: NORM_OF_PROJECTED_GRADIENT_<=_PGTOL'\n",
       "     nfev: 57\n",
       "      nit: 15\n",
       "   status: 0\n",
       "  success: True\n",
       "        x: array([ 2.05533429, 12.42601852])"
      ]
     },
     "execution_count": 79,
     "metadata": {},
     "output_type": "execute_result"
    }
   ],
   "source": [
    "# WARNING: make sure to re-init berg before running minimization\n",
    "\n",
    "berg = iceberg.quickstart(start_time, (start_latitude, start_longitude), velocity=start_velocity)\n",
    "\n",
    "optimization_result = minimize(optimization_wrapper, x0=(1, 1), bounds=((0, 15), (0, 15)), \n",
    "                               args=(ref_berg, (start_time, start_latitude, start_longitude, start_velocity), \n",
    "                                     meto, time_info), callback=callback)\n",
    "optimization_result"
   ]
  },
  {
   "cell_type": "code",
   "execution_count": null,
   "metadata": {},
   "outputs": [],
   "source": []
  }
 ],
 "metadata": {
  "kernelspec": {
   "display_name": "Python 3",
   "language": "python",
   "name": "python3"
  },
  "language_info": {
   "codemirror_mode": {
    "name": "ipython",
    "version": 3
   },
   "file_extension": ".py",
   "mimetype": "text/x-python",
   "name": "python",
   "nbconvert_exporter": "python",
   "pygments_lexer": "ipython3",
   "version": "3.6.5"
  }
 },
 "nbformat": 4,
 "nbformat_minor": 2
}
