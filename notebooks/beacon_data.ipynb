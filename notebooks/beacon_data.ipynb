{
 "cells": [
  {
   "cell_type": "code",
   "execution_count": 1,
   "metadata": {},
   "outputs": [],
   "source": [
    "import numpy as np\n",
    "import pandas as pd\n",
    "import matplotlib.pyplot as plt\n",
    "from matplotlib.backends.backend_pdf import PdfPages\n",
    "import os"
   ]
  },
  {
   "cell_type": "code",
   "execution_count": 4,
   "metadata": {},
   "outputs": [],
   "source": [
    "data_dir_path = '/home/evankielley/IceDEF/data/'\n",
    "\n",
    "data_fnames = [fname for fname in os.listdir(\n",
    "    data_dir_path) if fname.endswith('csv') and fname.startswith('0')]\n",
    "\n",
    "data_fname = data_fnames[0]"
   ]
  },
  {
   "cell_type": "code",
   "execution_count": 5,
   "metadata": {},
   "outputs": [],
   "source": [
    "def get_df(data_dir_path, data_fname):\n",
    "    \n",
    "    df = pd.read_csv(data_dir_path + data_fname)\n",
    "    df.loc[:, 'DataDate_UTC'] = pd.to_datetime(df['DataDate_UTC'])\n",
    "    \n",
    "    return df"
   ]
  },
  {
   "cell_type": "code",
   "execution_count": 7,
   "metadata": {},
   "outputs": [],
   "source": [
    "def get_day_idxs(dft, day_inc = 5):\n",
    "\n",
    "    day_idxs = []\n",
    "    day_js = []\n",
    "    day_j = 0\n",
    "    \n",
    "    for i in range(len(df)):\n",
    "        day = (dft[i] - dft[0]).days\n",
    "        if day == day_j:\n",
    "            day_idxs.append(i)\n",
    "            day_js.append(day_j)\n",
    "            day_j += day_inc\n",
    "    \n",
    "    return day_idxs, day_js"
   ]
  },
  {
   "cell_type": "code",
   "execution_count": 9,
   "metadata": {},
   "outputs": [],
   "source": [
    "def plot_drift_track(df, data_fname):\n",
    "    \n",
    "    fig = plt.figure()\n",
    "\n",
    "    x, y = df['Longitude'], df['Latitude']\n",
    "    \n",
    "    plt.scatter(x, y, s=2)\n",
    "    \n",
    "    t = df['DataDate_UTC']\n",
    "    day_idxs, day_js = get_day_idxs(t)\n",
    "    \n",
    "    for i, day_idx in enumerate(day_idxs):\n",
    "    \n",
    "        plt.text(x[day_idx], y[day_idx], str(day_js[i]), fontsize=16, )\n",
    "    \n",
    "    plt.title(f'Drift Track from {data_fname}')\n",
    "    plt.xlabel('Longitude')\n",
    "    plt.ylabel('Latitude')\n",
    "    return fig"
   ]
  },
  {
   "cell_type": "code",
   "execution_count": 12,
   "metadata": {},
   "outputs": [],
   "source": [
    "try:\n",
    "    os.makedirs('plots')\n",
    "except:\n",
    "    pass\n",
    "\n",
    "with PdfPages('plots/beacon_tracks.pdf') as pdf:\n",
    "    for data_fname in data_fnames:\n",
    "        df = get_df(data_dir_path, data_fname)\n",
    "        fig = plot_drift_track(df, data_fname)\n",
    "        pdf.savefig(fig)\n"
   ]
  },
  {
   "cell_type": "code",
   "execution_count": null,
   "metadata": {},
   "outputs": [],
   "source": []
  }
 ],
 "metadata": {
  "kernelspec": {
   "display_name": "Python 3",
   "language": "python",
   "name": "python3"
  },
  "language_info": {
   "codemirror_mode": {
    "name": "ipython",
    "version": 3
   },
   "file_extension": ".py",
   "mimetype": "text/x-python",
   "name": "python",
   "nbconvert_exporter": "python",
   "pygments_lexer": "ipython3",
   "version": "3.6.3"
  }
 },
 "nbformat": 4,
 "nbformat_minor": 2
}
