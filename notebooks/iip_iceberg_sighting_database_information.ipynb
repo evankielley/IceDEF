{
 "cells": [
  {
   "cell_type": "markdown",
   "metadata": {},
   "source": [
    "# IIP Iceberg Sighting Database Information"
   ]
  },
  {
   "cell_type": "code",
   "execution_count": 1,
   "metadata": {},
   "outputs": [],
   "source": [
    "url = lambda year: f'ftp://sidads.colorado.edu/pub/DATASETS/NOAA/G00807/IIP_{year}IcebergSeason.csv'"
   ]
  },
  {
   "cell_type": "code",
   "execution_count": 2,
   "metadata": {},
   "outputs": [
    {
     "data": {
      "text/plain": [
       "'ftp://sidads.colorado.edu/pub/DATASETS/NOAA/G00807/IIP_2011IcebergSeason.csv'"
      ]
     },
     "execution_count": 2,
     "metadata": {},
     "output_type": "execute_result"
    }
   ],
   "source": [
    "url(2011)"
   ]
  },
  {
   "cell_type": "code",
   "execution_count": 11,
   "metadata": {},
   "outputs": [],
   "source": [
    "from pandas import read_csv, to_datetime"
   ]
  },
  {
   "cell_type": "code",
   "execution_count": 4,
   "metadata": {},
   "outputs": [],
   "source": [
    "df = read_csv(url(2011))"
   ]
  },
  {
   "cell_type": "code",
   "execution_count": 9,
   "metadata": {},
   "outputs": [
    {
     "data": {
      "text/html": [
       "<div>\n",
       "<style scoped>\n",
       "    .dataframe tbody tr th:only-of-type {\n",
       "        vertical-align: middle;\n",
       "    }\n",
       "\n",
       "    .dataframe tbody tr th {\n",
       "        vertical-align: top;\n",
       "    }\n",
       "\n",
       "    .dataframe thead th {\n",
       "        text-align: right;\n",
       "    }\n",
       "</style>\n",
       "<table border=\"1\" class=\"dataframe\">\n",
       "  <thead>\n",
       "    <tr style=\"text-align: right;\">\n",
       "      <th></th>\n",
       "      <th>ICEBERG_YEAR</th>\n",
       "      <th>ICEBERG_NUMBER</th>\n",
       "      <th>SIGHTING_DATE</th>\n",
       "      <th>SIGHTING_TIME</th>\n",
       "      <th>SIGHTING_LATITUDE</th>\n",
       "      <th>SIGHTING_LONGITUDE</th>\n",
       "      <th>SIGHTING_METHOD</th>\n",
       "      <th>SIZE</th>\n",
       "      <th>SHAPE</th>\n",
       "      <th>SOURCE</th>\n",
       "    </tr>\n",
       "  </thead>\n",
       "  <tbody>\n",
       "    <tr>\n",
       "      <th>0</th>\n",
       "      <td>2011</td>\n",
       "      <td>2.0</td>\n",
       "      <td>11/30/2010</td>\n",
       "      <td>1751.0</td>\n",
       "      <td>60.36</td>\n",
       "      <td>-62.88</td>\n",
       "      <td>RAD</td>\n",
       "      <td>RAD</td>\n",
       "      <td>RAD</td>\n",
       "      <td>GTJZ</td>\n",
       "    </tr>\n",
       "    <tr>\n",
       "      <th>1</th>\n",
       "      <td>2011</td>\n",
       "      <td>3.0</td>\n",
       "      <td>1/12/2011</td>\n",
       "      <td>0.0</td>\n",
       "      <td>60.50</td>\n",
       "      <td>-63.50</td>\n",
       "      <td>RAD</td>\n",
       "      <td>RAD</td>\n",
       "      <td>RAD</td>\n",
       "      <td>BOGU</td>\n",
       "    </tr>\n",
       "  </tbody>\n",
       "</table>\n",
       "</div>"
      ],
      "text/plain": [
       "   ICEBERG_YEAR  ICEBERG_NUMBER SIGHTING_DATE  SIGHTING_TIME  SIGHTING_LATITUDE  SIGHTING_LONGITUDE SIGHTING_METHOD SIZE SHAPE SOURCE\n",
       "0          2011             2.0    11/30/2010         1751.0              60.36              -62.88             RAD  RAD   RAD   GTJZ\n",
       "1          2011             3.0     1/12/2011            0.0              60.50              -63.50             RAD  RAD   RAD   BOGU"
      ]
     },
     "execution_count": 9,
     "metadata": {},
     "output_type": "execute_result"
    }
   ],
   "source": [
    "df.head(2)"
   ]
  },
  {
   "cell_type": "code",
   "execution_count": 19,
   "metadata": {},
   "outputs": [],
   "source": [
    "def convert_str_column_to_datetime_column(df, *column_names):\n",
    "    for column_name in column_names:\n",
    "        df[column_name] = to_datetime(df[column_name])\n",
    "    return df"
   ]
  },
  {
   "cell_type": "code",
   "execution_count": 195,
   "metadata": {},
   "outputs": [],
   "source": [
    "def convert_float_column_to_int_column(df, *column_names, drop_nan_rows=True):\n",
    "    for column_name in column_names:\n",
    "        try:\n",
    "            df[column_name] = df[column_name].astype(int)\n",
    "        except ValueError:\n",
    "            if drop_nan_rows:\n",
    "                df = df.dropna(subset=[column_name]).reset_index(drop=True)\n",
    "                df[column_name] = df[column_name].astype(int)\n",
    "            else:\n",
    "                raise\n",
    "    return df"
   ]
  },
  {
   "cell_type": "code",
   "execution_count": 196,
   "metadata": {},
   "outputs": [],
   "source": [
    "def convert_sighting_time_column_to_timedelta_column(df, time_column_name, timedelta_column_name):\n",
    "    df[time_column_name] = df[time_column_name].astype(str).str.zfill(4)\n",
    "    df[timedelta_column_name] = df[timedelta_column_name].str[0:2] + ':' + df[timedelta_column_name].str[2:4] + ':00'\n",
    "    df[timedelta_column_name] = pd.to_timedelta(df[timedelta_column_name])\n",
    "    return df"
   ]
  },
  {
   "cell_type": "code",
   "execution_count": 201,
   "metadata": {},
   "outputs": [],
   "source": [
    "def create_sighting_datetime_column(df, date_column_name, timedelta_column_name, datetime_column_name):\n",
    "    df[datetime_column_name] = df[date_column_name] + df[timedelta_column_name]\n",
    "    return df"
   ]
  },
  {
   "cell_type": "code",
   "execution_count": 198,
   "metadata": {},
   "outputs": [],
   "source": [
    "df2 = convert_float_column_to_int_column(df, 'ICEBERG_NUMBER', 'SIGHTING_TIME')"
   ]
  },
  {
   "cell_type": "code",
   "execution_count": 199,
   "metadata": {},
   "outputs": [],
   "source": [
    "df3 = convert_sighting_time_column_to_timedelta_column(df2, 'SIGHTING_TIME', 'SIGHTING_TIMEDELTA')"
   ]
  },
  {
   "cell_type": "code",
   "execution_count": 202,
   "metadata": {},
   "outputs": [],
   "source": [
    "df4 = create_sighting_datetime_column(df3, 'SIGHTING_DATE', 'SIGHTING_TIMEDELTA', 'SIGHTING_DATETIME')"
   ]
  },
  {
   "cell_type": "code",
   "execution_count": 203,
   "metadata": {},
   "outputs": [
    {
     "data": {
      "text/html": [
       "<div>\n",
       "<style scoped>\n",
       "    .dataframe tbody tr th:only-of-type {\n",
       "        vertical-align: middle;\n",
       "    }\n",
       "\n",
       "    .dataframe tbody tr th {\n",
       "        vertical-align: top;\n",
       "    }\n",
       "\n",
       "    .dataframe thead th {\n",
       "        text-align: right;\n",
       "    }\n",
       "</style>\n",
       "<table border=\"1\" class=\"dataframe\">\n",
       "  <thead>\n",
       "    <tr style=\"text-align: right;\">\n",
       "      <th></th>\n",
       "      <th>ICEBERG_YEAR</th>\n",
       "      <th>ICEBERG_NUMBER</th>\n",
       "      <th>SIGHTING_DATE</th>\n",
       "      <th>SIGHTING_TIME</th>\n",
       "      <th>SIGHTING_LATITUDE</th>\n",
       "      <th>SIGHTING_LONGITUDE</th>\n",
       "      <th>SIGHTING_METHOD</th>\n",
       "      <th>SIZE</th>\n",
       "      <th>SHAPE</th>\n",
       "      <th>SOURCE</th>\n",
       "      <th>SIGHTING_TIMEDELTA</th>\n",
       "      <th>SIGHTING_DATETIME</th>\n",
       "    </tr>\n",
       "  </thead>\n",
       "  <tbody>\n",
       "    <tr>\n",
       "      <th>0</th>\n",
       "      <td>2011</td>\n",
       "      <td>2</td>\n",
       "      <td>2010-11-30</td>\n",
       "      <td>1751</td>\n",
       "      <td>60.36</td>\n",
       "      <td>-62.88</td>\n",
       "      <td>RAD</td>\n",
       "      <td>RAD</td>\n",
       "      <td>RAD</td>\n",
       "      <td>GTJZ</td>\n",
       "      <td>17:51:00</td>\n",
       "      <td>2010-11-30 17:51:00</td>\n",
       "    </tr>\n",
       "    <tr>\n",
       "      <th>1</th>\n",
       "      <td>2011</td>\n",
       "      <td>3</td>\n",
       "      <td>2011-01-12</td>\n",
       "      <td>0</td>\n",
       "      <td>60.50</td>\n",
       "      <td>-63.50</td>\n",
       "      <td>RAD</td>\n",
       "      <td>RAD</td>\n",
       "      <td>RAD</td>\n",
       "      <td>BOGU</td>\n",
       "      <td>00:00:00</td>\n",
       "      <td>2011-01-12 00:00:00</td>\n",
       "    </tr>\n",
       "    <tr>\n",
       "      <th>2</th>\n",
       "      <td>2011</td>\n",
       "      <td>4</td>\n",
       "      <td>2011-07-30</td>\n",
       "      <td>723</td>\n",
       "      <td>49.84</td>\n",
       "      <td>-56.69</td>\n",
       "      <td>SAT-HIGH</td>\n",
       "      <td>LG</td>\n",
       "      <td>GEN</td>\n",
       "      <td>RSA1</td>\n",
       "      <td>07:23:00</td>\n",
       "      <td>2011-07-30 07:23:00</td>\n",
       "    </tr>\n",
       "  </tbody>\n",
       "</table>\n",
       "</div>"
      ],
      "text/plain": [
       "   ICEBERG_YEAR  ICEBERG_NUMBER SIGHTING_DATE  SIGHTING_TIME  SIGHTING_LATITUDE  SIGHTING_LONGITUDE SIGHTING_METHOD SIZE SHAPE SOURCE SIGHTING_TIMEDELTA   SIGHTING_DATETIME\n",
       "0          2011               2    2010-11-30           1751              60.36              -62.88             RAD  RAD   RAD   GTJZ           17:51:00 2010-11-30 17:51:00\n",
       "1          2011               3    2011-01-12              0              60.50              -63.50             RAD  RAD   RAD   BOGU           00:00:00 2011-01-12 00:00:00\n",
       "2          2011               4    2011-07-30            723              49.84              -56.69        SAT-HIGH   LG   GEN   RSA1           07:23:00 2011-07-30 07:23:00"
      ]
     },
     "execution_count": 203,
     "metadata": {},
     "output_type": "execute_result"
    }
   ],
   "source": [
    "df4.head(3)"
   ]
  },
  {
   "cell_type": "code",
   "execution_count": null,
   "metadata": {},
   "outputs": [],
   "source": []
  }
 ],
 "metadata": {
  "kernelspec": {
   "display_name": "Python 3",
   "language": "python",
   "name": "python3"
  },
  "language_info": {
   "codemirror_mode": {
    "name": "ipython",
    "version": 3
   },
   "file_extension": ".py",
   "mimetype": "text/x-python",
   "name": "python",
   "nbconvert_exporter": "python",
   "pygments_lexer": "ipython3",
   "version": "3.6.5"
  }
 },
 "nbformat": 4,
 "nbformat_minor": 2
}
