{
 "cells": [
  {
   "cell_type": "code",
   "execution_count": 32,
   "metadata": {},
   "outputs": [
    {
     "data": {
      "text/plain": [
       "<module 'icedef.statoil_arcticnet_data' from '/home/evankielley/IceDEF/icedef/statoil_arcticnet_data.py'>"
      ]
     },
     "execution_count": 32,
     "metadata": {},
     "output_type": "execute_result"
    }
   ],
   "source": [
    "import numpy as np\n",
    "import pandas as pd\n",
    "import matplotlib.pyplot as plt\n",
    "#from matplotlib.backends.backend_pdf import PdfPages\n",
    "#import urllib\n",
    "#import os\n",
    "#import copy\n",
    "#from scipy.optimize import minimize\n",
    "from importlib import reload\n",
    "\n",
    "from icedef import drift, metocean, simulator, plot, iceberg, test_case\n",
    "from icedef import statoil_arcticnet_data as sd\n",
    "\n",
    "reload(drift)\n",
    "reload(metocean)\n",
    "reload(simulator)\n",
    "reload(plot)\n",
    "reload(iceberg)\n",
    "reload(test_case)\n",
    "reload(sd)"
   ]
  },
  {
   "cell_type": "code",
   "execution_count": 22,
   "metadata": {},
   "outputs": [],
   "source": [
    "plt.rcParams['figure.figsize'] = (10.0, 10.0)"
   ]
  },
  {
   "cell_type": "markdown",
   "metadata": {},
   "source": [
    "# 20180928"
   ]
  },
  {
   "cell_type": "markdown",
   "metadata": {},
   "source": [
    "# Read in Beacon Data "
   ]
  },
  {
   "cell_type": "code",
   "execution_count": 23,
   "metadata": {},
   "outputs": [
    {
     "data": {
      "text/html": [
       "<div>\n",
       "<style scoped>\n",
       "    .dataframe tbody tr th:only-of-type {\n",
       "        vertical-align: middle;\n",
       "    }\n",
       "\n",
       "    .dataframe tbody tr th {\n",
       "        vertical-align: top;\n",
       "    }\n",
       "\n",
       "    .dataframe thead th {\n",
       "        text-align: right;\n",
       "    }\n",
       "</style>\n",
       "<table border=\"1\" class=\"dataframe\">\n",
       "  <thead>\n",
       "    <tr style=\"text-align: right;\">\n",
       "      <th></th>\n",
       "      <th>BeaconID</th>\n",
       "      <th>BeaconType</th>\n",
       "      <th>DataDate_UTC</th>\n",
       "      <th>TransmissionDate_UTC</th>\n",
       "      <th>Latitude</th>\n",
       "      <th>Longitude</th>\n",
       "      <th>VBatt</th>\n",
       "      <th>AT</th>\n",
       "      <th>ST</th>\n",
       "      <th>BP</th>\n",
       "      <th>Heading</th>\n",
       "      <th>Speed</th>\n",
       "      <th>LocAccuracy</th>\n",
       "      <th>MessageIndex</th>\n",
       "      <th>Satellites</th>\n",
       "      <th>GPSdelay</th>\n",
       "      <th>SNR</th>\n",
       "      <th>TTFF</th>\n",
       "    </tr>\n",
       "  </thead>\n",
       "  <tbody>\n",
       "    <tr>\n",
       "      <th>0</th>\n",
       "      <td>50519</td>\n",
       "      <td>Solara</td>\n",
       "      <td>2015-04-23 18:48:37</td>\n",
       "      <td>NaN</td>\n",
       "      <td>49.22403</td>\n",
       "      <td>-51.25820</td>\n",
       "      <td>NaN</td>\n",
       "      <td>NaN</td>\n",
       "      <td>NaN</td>\n",
       "      <td>NaN</td>\n",
       "      <td>NaN</td>\n",
       "      <td>NaN</td>\n",
       "      <td>NaN</td>\n",
       "      <td>NaN</td>\n",
       "      <td>NaN</td>\n",
       "      <td>NaN</td>\n",
       "      <td>NaN</td>\n",
       "      <td>NaN</td>\n",
       "    </tr>\n",
       "    <tr>\n",
       "      <th>1</th>\n",
       "      <td>50519</td>\n",
       "      <td>Solara</td>\n",
       "      <td>2015-04-23 18:49:07</td>\n",
       "      <td>NaN</td>\n",
       "      <td>49.22401</td>\n",
       "      <td>-51.25817</td>\n",
       "      <td>NaN</td>\n",
       "      <td>NaN</td>\n",
       "      <td>NaN</td>\n",
       "      <td>NaN</td>\n",
       "      <td>NaN</td>\n",
       "      <td>NaN</td>\n",
       "      <td>NaN</td>\n",
       "      <td>NaN</td>\n",
       "      <td>NaN</td>\n",
       "      <td>NaN</td>\n",
       "      <td>NaN</td>\n",
       "      <td>NaN</td>\n",
       "    </tr>\n",
       "    <tr>\n",
       "      <th>2</th>\n",
       "      <td>50519</td>\n",
       "      <td>Solara</td>\n",
       "      <td>2015-04-23 18:49:34</td>\n",
       "      <td>NaN</td>\n",
       "      <td>49.22400</td>\n",
       "      <td>-51.25809</td>\n",
       "      <td>NaN</td>\n",
       "      <td>NaN</td>\n",
       "      <td>NaN</td>\n",
       "      <td>NaN</td>\n",
       "      <td>NaN</td>\n",
       "      <td>NaN</td>\n",
       "      <td>NaN</td>\n",
       "      <td>NaN</td>\n",
       "      <td>NaN</td>\n",
       "      <td>NaN</td>\n",
       "      <td>NaN</td>\n",
       "      <td>NaN</td>\n",
       "    </tr>\n",
       "    <tr>\n",
       "      <th>3</th>\n",
       "      <td>50519</td>\n",
       "      <td>Solara</td>\n",
       "      <td>2015-04-23 18:49:59</td>\n",
       "      <td>NaN</td>\n",
       "      <td>49.22403</td>\n",
       "      <td>-51.25789</td>\n",
       "      <td>NaN</td>\n",
       "      <td>NaN</td>\n",
       "      <td>NaN</td>\n",
       "      <td>NaN</td>\n",
       "      <td>NaN</td>\n",
       "      <td>NaN</td>\n",
       "      <td>NaN</td>\n",
       "      <td>NaN</td>\n",
       "      <td>NaN</td>\n",
       "      <td>NaN</td>\n",
       "      <td>NaN</td>\n",
       "      <td>NaN</td>\n",
       "    </tr>\n",
       "    <tr>\n",
       "      <th>4</th>\n",
       "      <td>50519</td>\n",
       "      <td>Solara</td>\n",
       "      <td>2015-04-23 18:50:26</td>\n",
       "      <td>NaN</td>\n",
       "      <td>49.22399</td>\n",
       "      <td>-51.25789</td>\n",
       "      <td>NaN</td>\n",
       "      <td>NaN</td>\n",
       "      <td>NaN</td>\n",
       "      <td>NaN</td>\n",
       "      <td>NaN</td>\n",
       "      <td>NaN</td>\n",
       "      <td>NaN</td>\n",
       "      <td>NaN</td>\n",
       "      <td>NaN</td>\n",
       "      <td>NaN</td>\n",
       "      <td>NaN</td>\n",
       "      <td>NaN</td>\n",
       "    </tr>\n",
       "  </tbody>\n",
       "</table>\n",
       "</div>"
      ],
      "text/plain": [
       "   BeaconID BeaconType        DataDate_UTC  TransmissionDate_UTC  Latitude  \\\n",
       "0     50519     Solara 2015-04-23 18:48:37                   NaN  49.22403   \n",
       "1     50519     Solara 2015-04-23 18:49:07                   NaN  49.22401   \n",
       "2     50519     Solara 2015-04-23 18:49:34                   NaN  49.22400   \n",
       "3     50519     Solara 2015-04-23 18:49:59                   NaN  49.22403   \n",
       "4     50519     Solara 2015-04-23 18:50:26                   NaN  49.22399   \n",
       "\n",
       "   Longitude  VBatt  AT  ST  BP  Heading  Speed  LocAccuracy  MessageIndex  \\\n",
       "0  -51.25820    NaN NaN NaN NaN      NaN    NaN          NaN           NaN   \n",
       "1  -51.25817    NaN NaN NaN NaN      NaN    NaN          NaN           NaN   \n",
       "2  -51.25809    NaN NaN NaN NaN      NaN    NaN          NaN           NaN   \n",
       "3  -51.25789    NaN NaN NaN NaN      NaN    NaN          NaN           NaN   \n",
       "4  -51.25789    NaN NaN NaN NaN      NaN    NaN          NaN           NaN   \n",
       "\n",
       "   Satellites  GPSdelay  SNR  TTFF  \n",
       "0         NaN       NaN  NaN   NaN  \n",
       "1         NaN       NaN  NaN   NaN  \n",
       "2         NaN       NaN  NaN   NaN  \n",
       "3         NaN       NaN  NaN   NaN  \n",
       "4         NaN       NaN  NaN   NaN  "
      ]
     },
     "execution_count": 23,
     "metadata": {},
     "output_type": "execute_result"
    }
   ],
   "source": [
    "df = sd.get_df(sd.dir_path + sd.csv_filenames[1])\n",
    "df.head()"
   ]
  },
  {
   "cell_type": "markdown",
   "metadata": {},
   "source": [
    "# Simulation"
   ]
  },
  {
   "cell_type": "code",
   "execution_count": 24,
   "metadata": {},
   "outputs": [
    {
     "data": {
      "text/plain": [
       "(numpy.datetime64('2015-05-06T15:27:39.000000'),\n",
       " numpy.datetime64('2015-05-07T06:25:51.000000'))"
      ]
     },
     "execution_count": 24,
     "metadata": {},
     "output_type": "execute_result"
    }
   ],
   "source": [
    "start_time, end_time"
   ]
  },
  {
   "cell_type": "code",
   "execution_count": 25,
   "metadata": {},
   "outputs": [],
   "source": [
    "tc = test_case.TestCase()\n",
    "start_latitude = tc.start_latitude\n",
    "start_longitude = tc.start_longitude\n",
    "start_velocity = tc.start_velocity\n",
    "start_time = tc.start_time\n",
    "end_time = tc.end_time\n",
    "ref_times = tc.ref_times\n",
    "ref_lons = tc.ref_lons\n",
    "ref_lats = tc.ref_lats"
   ]
  },
  {
   "cell_type": "code",
   "execution_count": 26,
   "metadata": {},
   "outputs": [
    {
     "name": "stderr",
     "output_type": "stream",
     "text": [
      "/home/evankielley/.conda/envs/icedef/lib/python3.6/site-packages/xarray/core/computation.py:560: RuntimeWarning: invalid value encountered in sqrt\n",
      "  result_data = func(*input_data)\n",
      "/home/evankielley/.conda/envs/icedef/lib/python3.6/site-packages/xarray/core/computation.py:560: RuntimeWarning: invalid value encountered in sqrt\n",
      "  result_data = func(*input_data)\n"
     ]
    },
    {
     "data": {
      "image/png": "[encoded data removed]",
      "text/plain": [
       "<Figure size 720x720 with 1 Axes>"
      ]
     },
     "metadata": {},
     "output_type": "display_data"
    }
   ],
   "source": [
    "# df = sd.get_df(sd.dir_path + sd.csv_filenames[2])\n",
    "# start_index = 1100\n",
    "# end_index = 1120\n",
    "# ref_berg = sd.create_ref_berg_from_df(df, start_index, end_index)\n",
    "# start_time = np.datetime64(df.DataDate_UTC[start_index])\n",
    "# end_time = np.datetime64(df.DataDate_UTC[end_index])\n",
    "# time_frame = start_time, end_time\n",
    "# start_latitude = df.Latitude[start_index]\n",
    "# start_longitude = df.Longitude[start_index]\n",
    "# start_location = start_latitude, start_longitude\n",
    "# start_velocity = sd.get_iceberg_velocity_from_dataframe(df, start_index, start_index + 10)\n",
    "\n",
    "plt.scatter(tc.ref_lons, tc.ref_lats)\n",
    "\n",
    "sim = simulator.Simulator()\n",
    "\n",
    "sim.start_latitude = start_latitude\n",
    "sim.start_longitude = start_longitude\n",
    "sim.start_time = start_time\n",
    "sim.end_time = end_time\n",
    "\n",
    "Ca, Cw = 3, 0.1\n",
    "label = f'Ca: {Ca}, Cw: {Cw}'\n",
    "run_sim_kwargs = {'start_velocity': start_velocity, 'Ca': Ca, 'Cw': Cw}\n",
    "results = sim.run_simulation(store_results_as=label, **run_sim_kwargs)\n",
    "plt.scatter(results['longitude'], results['latitude'], s=1, label=label)\n",
    "\n",
    "Ca, Cw = 0.1, 5\n",
    "label = f'Ca: {Ca}, Cw: {Cw}'\n",
    "run_sim_kwargs = {'start_velocity': start_velocity, 'Ca': Ca, 'Cw': Cw}\n",
    "results = sim.run_simulation(store_results_as=label, **run_sim_kwargs)\n",
    "plt.scatter(results['longitude'], results['latitude'], s=1, label=label)\n",
    "\n",
    "plt.legend()\n",
    "plt.xlabel('Longitude')\n",
    "plt.ylabel('Latitude')\n",
    "plt.title('Beacon Drift Track')\n",
    "plt.show()\n"
   ]
  },
  {
   "cell_type": "markdown",
   "metadata": {},
   "source": [
    "## Plot stereographically"
   ]
  },
  {
   "cell_type": "code",
   "execution_count": 27,
   "metadata": {},
   "outputs": [],
   "source": [
    "my_plot = plot.Plot()"
   ]
  },
  {
   "cell_type": "code",
   "execution_count": 30,
   "metadata": {},
   "outputs": [
    {
     "data": {
      "image/png": "[encoded data removed]",
      "text/plain": [
       "<Figure size 720x720 with 1 Axes>"
      ]
     },
     "metadata": {},
     "output_type": "display_data"
    }
   ],
   "source": [
    "my_plot.plot_track(\n",
    "    [results['latitude'].values, results['longitude'].values], \n",
    "    [tc.ref_lats.values, tc.ref_lons.values],\n",
    "    s=4\n",
    ")"
   ]
  },
  {
   "cell_type": "markdown",
   "metadata": {},
   "source": [
    "# Optimization"
   ]
  },
  {
   "cell_type": "code",
   "execution_count": 49,
   "metadata": {},
   "outputs": [
    {
     "data": {
      "text/plain": [
       "<module 'icedef.simulator' from '/home/evankielley/IceDEF/icedef/simulator.py'>"
      ]
     },
     "execution_count": 49,
     "metadata": {},
     "output_type": "execute_result"
    }
   ],
   "source": [
    "reload(simulator)"
   ]
  },
  {
   "cell_type": "code",
   "execution_count": 51,
   "metadata": {
    "scrolled": true
   },
   "outputs": [],
   "source": [
    "keys = ['Ca', 'Cw']\n",
    "x0 = [1, 1]\n",
    "bounds = [[1, 10], [1,10]]\n",
    "reference_vectors = [tc.ref_lats, tc.ref_lons]\n",
    "\n",
    "sim = simulator.Simulator()\n",
    "sim.start_latitude = start_latitude\n",
    "sim.start_longitude = start_longitude\n",
    "sim.start_time = start_time\n",
    "sim.end_time = end_time\n",
    "\n",
    "optimization_result = sim.run_optimization(keys, x0, bounds, reference_vectors)"
   ]
  },
  {
   "cell_type": "code",
   "execution_count": 52,
   "metadata": {},
   "outputs": [
    {
     "data": {
      "text/plain": [
       "      fun: 0.008472958905718028\n",
       " hess_inv: <2x2 LbfgsInvHessProduct with dtype=float64>\n",
       "      jac: array([ 0.00062478, -0.00010841])\n",
       "  message: b'CONVERGENCE: NORM_OF_PROJECTED_GRADIENT_<=_PGTOL'\n",
       "     nfev: 27\n",
       "      nit: 8\n",
       "   status: 0\n",
       "  success: True\n",
       "        x: array([ 1., 10.])"
      ]
     },
     "execution_count": 52,
     "metadata": {},
     "output_type": "execute_result"
    }
   ],
   "source": [
    "optimization_result"
   ]
  },
  {
   "cell_type": "markdown",
   "metadata": {},
   "source": [
    "## Simulation with Optimization Result"
   ]
  },
  {
   "cell_type": "code",
   "execution_count": 53,
   "metadata": {},
   "outputs": [
    {
     "data": {
      "image/png": "[encoded data removed]",
      "text/plain": [
       "<Figure size 720x720 with 1 Axes>"
      ]
     },
     "metadata": {},
     "output_type": "display_data"
    }
   ],
   "source": [
    "Ca, Cw = optimization_result.x\n",
    "\n",
    "run_sim_kwargs = {'start_velocity': start_velocity, 'Ca': Ca, 'Cw': Cw}\n",
    "results = sim.run_simulation(**run_sim_kwargs)\n",
    "\n",
    "my_plot.plot_track(\n",
    "    [results['latitude'].values, results['longitude'].values], \n",
    "    [ref_berg.history['latitude'], ref_berg.history['longitude']],\n",
    "    s=4\n",
    ")"
   ]
  },
  {
   "cell_type": "markdown",
   "metadata": {},
   "source": [
    "# Surface Optimization"
   ]
  },
  {
   "cell_type": "code",
   "execution_count": 55,
   "metadata": {},
   "outputs": [],
   "source": [
    "Ca_num = 3\n",
    "Cw_num = 3\n",
    "Ca_lower_bound = 1; Ca_upper_bound = 5\n",
    "Cw_lower_bound = 5; Cw_upper_bound = 16\n",
    "\n",
    "scaling = 'lin'\n",
    "\n",
    "if scaling == 'log':\n",
    "\n",
    "    Ca_vec = np.logspace(np.log10(Ca_lower_bound), np.log10(Ca_upper_bound), num=Ca_num)\n",
    "    Cw_vec = np.logspace(np.log10(Cw_lower_bound), np.log10(Cw_upper_bound), Cw_num=num)\n",
    "\n",
    "elif scaling == 'lin':\n",
    "    \n",
    "    Ca_vec = np.linspace(Ca_lower_bound, Ca_upper_bound, Ca_num)\n",
    "    Cw_vec = np.linspace(Cw_lower_bound, Cw_upper_bound, Cw_num)\n",
    "\n",
    "\n",
    "Ca_mesh, Cw_mesh = np.meshgrid(Ca_vec, Cw_vec)"
   ]
  },
  {
   "cell_type": "code",
   "execution_count": 56,
   "metadata": {},
   "outputs": [],
   "source": [
    "mse_matrix = np.zeros((Ca_num, Cw_num))\n",
    "keys = ['Ca', 'Cw']\n",
    "reference_vectors = [tc.ref_lats, tc.ref_lons]\n",
    "\n",
    "for i in range(Ca_num):\n",
    "    for j in range(Cw_num):\n",
    "        form_drag_coefficients = (Ca_mesh[i][j], Cw_mesh[i][j])\n",
    "        mse_matrix[i][j] = sim.optimization_wrapper(form_drag_coefficients, keys, reference_vectors)"
   ]
  },
  {
   "cell_type": "code",
   "execution_count": 57,
   "metadata": {
    "scrolled": false
   },
   "outputs": [
    {
     "data": {
      "image/png": "[encoded data removed]",
      "text/plain": [
       "<Figure size 1008x504 with 2 Axes>"
      ]
     },
     "metadata": {},
     "output_type": "display_data"
    }
   ],
   "source": [
    "fig = plt.figure(figsize=(14,7))\n",
    "\n",
    "plt.pcolormesh(Ca_vec, Cw_vec, mse_matrix)#, vmin=0.02525, vmax=0.02675)\n",
    "\n",
    "plt.xticks(Ca_vec, rotation='vertical')\n",
    "plt.yticks(Cw_vec)\n",
    "\n",
    "plt.xlabel('Ca')\n",
    "plt.ylabel('Cw')\n",
    "\n",
    "plt.colorbar()\n",
    "\n",
    "plt.show()"
   ]
  },
  {
   "cell_type": "markdown",
   "metadata": {},
   "source": [
    "# 20181011"
   ]
  },
  {
   "cell_type": "code",
   "execution_count": 8,
   "metadata": {},
   "outputs": [],
   "source": [
    "tc = test_case.TestCase()\n",
    "start_latitude = tc.start_latitude\n",
    "start_longitude = tc.start_longitude\n",
    "start_velocity = tc.start_velocity\n",
    "start_time = tc.start_time\n",
    "end_time = tc.end_time\n",
    "ref_times = tc.ref_times\n",
    "ref_lons = tc.ref_lons\n",
    "ref_lats = tc.ref_lats"
   ]
  },
  {
   "cell_type": "code",
   "execution_count": 39,
   "metadata": {},
   "outputs": [
    {
     "name": "stderr",
     "output_type": "stream",
     "text": [
      "/home/evankielley/.conda/envs/icedef/lib/python3.6/site-packages/xarray/core/computation.py:560: RuntimeWarning: invalid value encountered in sqrt\n",
      "  result_data = func(*input_data)\n",
      "/home/evankielley/.conda/envs/icedef/lib/python3.6/site-packages/xarray/core/computation.py:560: RuntimeWarning: invalid value encountered in sqrt\n",
      "  result_data = func(*input_data)\n",
      "/home/evankielley/.conda/envs/icedef/lib/python3.6/site-packages/xarray/core/computation.py:560: RuntimeWarning: invalid value encountered in sqrt\n",
      "  result_data = func(*input_data)\n"
     ]
    },
    {
     "data": {
      "image/png": "[encoded data removed]",
      "text/plain": [
       "<Figure size 720x720 with 1 Axes>"
      ]
     },
     "metadata": {},
     "output_type": "display_data"
    }
   ],
   "source": [
    "xds = sim.run_simulation(start_velocity=start_velocity, Ca=1.5, Cw=1.5, ekman=False, store_results_as='no_ekman')\n",
    "xds = sim.run_simulation(start_velocity=start_velocity, Ca=1.5, Cw=1.5, ekman=True, store_results_as='ekman_100')\n",
    "xds = sim.run_simulation(start_velocity=start_velocity, Ca=1.5, Cw=1.5, ekman=False, \n",
    "                         depth_vec=np.arange(0, -1100, -100), store_results_as='ekman_1000')\n",
    "\n",
    "my_plot.plot_track([sim.results['no_ekman']['latitude'].values, sim.results['ekman']['longitude'].values], \n",
    "                   [sim.results['ekman_100']['latitude'].values, sim.results['ekman_100']['longitude'].values], \n",
    "                   [sim.results['ekman_1000']['latitude'].values, sim.results['ekman_1000']['longitude'].values])"
   ]
  },
  {
   "cell_type": "code",
   "execution_count": 38,
   "metadata": {},
   "outputs": [
    {
     "data": {
      "text/plain": [
       "<xarray.Dataset>\n",
       "Dimensions:                     (time: 179)\n",
       "Coordinates:\n",
       "  * time                        (time) datetime64[ns] 2015-05-06T15:27:39 ...\n",
       "Data variables:\n",
       "    latitude                    (time) float64 51.38 51.38 51.38 51.38 51.38 ...\n",
       "    longitude                   (time) float64 -53.21 -53.21 -53.21 -53.21 ...\n",
       "    easting                     (time) float64 0.0 7.651 17.26 28.52 41.22 ...\n",
       "    northing                    (time) float64 0.0 -44.04 -86.78 -128.5 ...\n",
       "    iceberg_eastward_velocity   (time) float64 0.0255 0.03202 0.03754 ...\n",
       "    iceberg_northward_velocity  (time) float64 -0.1468 -0.1425 -0.1392 ..."
      ]
     },
     "execution_count": 38,
     "metadata": {},
     "output_type": "execute_result"
    }
   ],
   "source": [
    "xds"
   ]
  },
  {
   "cell_type": "code",
   "execution_count": null,
   "metadata": {},
   "outputs": [],
   "source": []
  }
 ],
 "metadata": {
  "kernelspec": {
   "display_name": "Python 3",
   "language": "python",
   "name": "python3"
  },
  "language_info": {
   "codemirror_mode": {
    "name": "ipython",
    "version": 3
   },
   "file_extension": ".py",
   "mimetype": "text/x-python",
   "name": "python",
   "nbconvert_exporter": "python",
   "pygments_lexer": "ipython3",
   "version": "3.6.5"
  }
 },
 "nbformat": 4,
 "nbformat_minor": 2
}
