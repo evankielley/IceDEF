{
 "cells": [
  {
   "cell_type": "markdown",
   "metadata": {},
   "source": [
    "# Optimized Turnbull Driver"
   ]
  },
  {
   "cell_type": "code",
   "execution_count": 9,
   "metadata": {},
   "outputs": [],
   "source": [
    "import numpy as np\n",
    "import os\n",
    "\n",
    "import matplotlib.pyplot as plt\n",
    "%matplotlib inline\n",
    "plt.style.use('default')\n",
    "from matplotlib.backends.backend_pdf import PdfPages\n",
    "\n",
    "from scipy.stats import truncnorm\n",
    "from scipy.optimize import minimize"
   ]
  },
  {
   "cell_type": "code",
   "execution_count": 2,
   "metadata": {},
   "outputs": [],
   "source": [
    "%run ../source/models/iceberg/iceberg.py\n",
    "%run ../source/models/metocean/metocean.py\n",
    "%run ../source/models/drift/turnbull.py\n",
    "%run ../source/plotting/plot.py"
   ]
  },
  {
   "cell_type": "code",
   "execution_count": 3,
   "metadata": {},
   "outputs": [
    {
     "data": {
      "text/html": [
       "<div>\n",
       "<style>\n",
       "    .dataframe thead tr:only-child th {\n",
       "        text-align: right;\n",
       "    }\n",
       "\n",
       "    .dataframe thead th {\n",
       "        text-align: left;\n",
       "    }\n",
       "\n",
       "    .dataframe tbody tr th {\n",
       "        vertical-align: top;\n",
       "    }\n",
       "</style>\n",
       "<table border=\"1\" class=\"dataframe\">\n",
       "  <thead>\n",
       "    <tr style=\"text-align: right;\">\n",
       "      <th></th>\n",
       "      <th>index</th>\n",
       "      <th>ICEBERG_YEAR</th>\n",
       "      <th>ICEBERG_NUMBER</th>\n",
       "      <th>SIGHTING_DATE</th>\n",
       "      <th>SIGHTING_TIME</th>\n",
       "      <th>SIGHTING_LATITUDE</th>\n",
       "      <th>SIGHTING_LONGITUDE</th>\n",
       "      <th>SIGHTING_METHOD</th>\n",
       "      <th>SIZE</th>\n",
       "      <th>SHAPE</th>\n",
       "      <th>SOURCE</th>\n",
       "      <th>TIMESTAMP</th>\n",
       "    </tr>\n",
       "  </thead>\n",
       "  <tbody>\n",
       "    <tr>\n",
       "      <th>0</th>\n",
       "      <td>6319</td>\n",
       "      <td>2015</td>\n",
       "      <td>21511</td>\n",
       "      <td>6/16/2015</td>\n",
       "      <td>1442</td>\n",
       "      <td>48.16</td>\n",
       "      <td>-50.01</td>\n",
       "      <td>R/V</td>\n",
       "      <td>LG</td>\n",
       "      <td>TAB</td>\n",
       "      <td>GTJZ</td>\n",
       "      <td>2015-06-16 14:42:00</td>\n",
       "    </tr>\n",
       "    <tr>\n",
       "      <th>1</th>\n",
       "      <td>6320</td>\n",
       "      <td>2015</td>\n",
       "      <td>21511</td>\n",
       "      <td>6/17/2015</td>\n",
       "      <td>1300</td>\n",
       "      <td>48.09</td>\n",
       "      <td>-50.02</td>\n",
       "      <td>R/V</td>\n",
       "      <td>LG</td>\n",
       "      <td>GEN</td>\n",
       "      <td>GMRS</td>\n",
       "      <td>2015-06-17 13:00:00</td>\n",
       "    </tr>\n",
       "    <tr>\n",
       "      <th>2</th>\n",
       "      <td>6321</td>\n",
       "      <td>2015</td>\n",
       "      <td>21511</td>\n",
       "      <td>6/18/2015</td>\n",
       "      <td>1249</td>\n",
       "      <td>48.08</td>\n",
       "      <td>-49.76</td>\n",
       "      <td>VIS</td>\n",
       "      <td>LG</td>\n",
       "      <td>TAB</td>\n",
       "      <td>GTJZ</td>\n",
       "      <td>2015-06-18 12:49:00</td>\n",
       "    </tr>\n",
       "  </tbody>\n",
       "</table>\n",
       "</div>"
      ],
      "text/plain": [
       "   index  ICEBERG_YEAR  ICEBERG_NUMBER SIGHTING_DATE  SIGHTING_TIME  \\\n",
       "0   6319          2015           21511     6/16/2015           1442   \n",
       "1   6320          2015           21511     6/17/2015           1300   \n",
       "2   6321          2015           21511     6/18/2015           1249   \n",
       "\n",
       "   SIGHTING_LATITUDE  SIGHTING_LONGITUDE SIGHTING_METHOD SIZE SHAPE SOURCE  \\\n",
       "0              48.16              -50.01             R/V   LG   TAB   GTJZ   \n",
       "1              48.09              -50.02             R/V   LG   GEN   GMRS   \n",
       "2              48.08              -49.76             VIS   LG   TAB   GTJZ   \n",
       "\n",
       "            TIMESTAMP  \n",
       "0 2015-06-16 14:42:00  \n",
       "1 2015-06-17 13:00:00  \n",
       "2 2015-06-18 12:49:00  "
      ]
     },
     "execution_count": 3,
     "metadata": {},
     "output_type": "execute_result"
    }
   ],
   "source": [
    "chosen_track_ind = 0\n",
    "iip_berg_df, iip_df, chosen_inds_arr = get_berg_df(2015, chosen_track_ind)\n",
    "iip_berg_df"
   ]
  },
  {
   "cell_type": "code",
   "execution_count": 4,
   "metadata": {},
   "outputs": [
    {
     "data": {
      "text/html": [
       "<div>\n",
       "<style>\n",
       "    .dataframe thead tr:only-child th {\n",
       "        text-align: right;\n",
       "    }\n",
       "\n",
       "    .dataframe thead th {\n",
       "        text-align: left;\n",
       "    }\n",
       "\n",
       "    .dataframe tbody tr th {\n",
       "        vertical-align: top;\n",
       "    }\n",
       "</style>\n",
       "<table border=\"1\" class=\"dataframe\">\n",
       "  <thead>\n",
       "    <tr style=\"text-align: right;\">\n",
       "      <th></th>\n",
       "      <th>index</th>\n",
       "      <th>ICEBERG_YEAR</th>\n",
       "      <th>ICEBERG_NUMBER</th>\n",
       "      <th>SIGHTING_DATE</th>\n",
       "      <th>SIGHTING_TIME</th>\n",
       "      <th>SIGHTING_LATITUDE</th>\n",
       "      <th>SIGHTING_LONGITUDE</th>\n",
       "      <th>SIGHTING_METHOD</th>\n",
       "      <th>SIZE</th>\n",
       "      <th>SHAPE</th>\n",
       "      <th>SOURCE</th>\n",
       "      <th>TIMESTAMP</th>\n",
       "    </tr>\n",
       "  </thead>\n",
       "  <tbody>\n",
       "    <tr>\n",
       "      <th>0</th>\n",
       "      <td>10822</td>\n",
       "      <td>2015</td>\n",
       "      <td>23525</td>\n",
       "      <td>6/24/2015</td>\n",
       "      <td>1306</td>\n",
       "      <td>47.71</td>\n",
       "      <td>-49.50</td>\n",
       "      <td>R/V</td>\n",
       "      <td>LG</td>\n",
       "      <td>GEN</td>\n",
       "      <td>GTJZ</td>\n",
       "      <td>2015-06-24 13:06:00</td>\n",
       "    </tr>\n",
       "    <tr>\n",
       "      <th>1</th>\n",
       "      <td>10823</td>\n",
       "      <td>2015</td>\n",
       "      <td>23525</td>\n",
       "      <td>6/25/2015</td>\n",
       "      <td>1118</td>\n",
       "      <td>47.55</td>\n",
       "      <td>-49.41</td>\n",
       "      <td>R/V</td>\n",
       "      <td>LG</td>\n",
       "      <td>GEN</td>\n",
       "      <td>GTJZ</td>\n",
       "      <td>2015-06-25 11:18:00</td>\n",
       "    </tr>\n",
       "    <tr>\n",
       "      <th>2</th>\n",
       "      <td>10824</td>\n",
       "      <td>2015</td>\n",
       "      <td>23525</td>\n",
       "      <td>6/25/2015</td>\n",
       "      <td>1918</td>\n",
       "      <td>47.49</td>\n",
       "      <td>-49.44</td>\n",
       "      <td>R/V</td>\n",
       "      <td>LG</td>\n",
       "      <td>GEN</td>\n",
       "      <td>GPGR</td>\n",
       "      <td>2015-06-25 19:18:00</td>\n",
       "    </tr>\n",
       "    <tr>\n",
       "      <th>3</th>\n",
       "      <td>10825</td>\n",
       "      <td>2015</td>\n",
       "      <td>23525</td>\n",
       "      <td>6/26/2015</td>\n",
       "      <td>1046</td>\n",
       "      <td>47.46</td>\n",
       "      <td>-49.45</td>\n",
       "      <td>R/V</td>\n",
       "      <td>GEN</td>\n",
       "      <td>GEN</td>\n",
       "      <td>GTJZ</td>\n",
       "      <td>2015-06-26 10:46:00</td>\n",
       "    </tr>\n",
       "    <tr>\n",
       "      <th>4</th>\n",
       "      <td>10826</td>\n",
       "      <td>2015</td>\n",
       "      <td>23525</td>\n",
       "      <td>6/26/2015</td>\n",
       "      <td>1636</td>\n",
       "      <td>47.43</td>\n",
       "      <td>-49.44</td>\n",
       "      <td>R/V</td>\n",
       "      <td>LG</td>\n",
       "      <td>GEN</td>\n",
       "      <td>GMRS</td>\n",
       "      <td>2015-06-26 16:36:00</td>\n",
       "    </tr>\n",
       "    <tr>\n",
       "      <th>5</th>\n",
       "      <td>10827</td>\n",
       "      <td>2015</td>\n",
       "      <td>23525</td>\n",
       "      <td>6/27/2015</td>\n",
       "      <td>1105</td>\n",
       "      <td>47.38</td>\n",
       "      <td>-49.47</td>\n",
       "      <td>R/V</td>\n",
       "      <td>LG</td>\n",
       "      <td>GEN</td>\n",
       "      <td>GPGR</td>\n",
       "      <td>2015-06-27 11:05:00</td>\n",
       "    </tr>\n",
       "    <tr>\n",
       "      <th>6</th>\n",
       "      <td>10828</td>\n",
       "      <td>2015</td>\n",
       "      <td>23525</td>\n",
       "      <td>6/27/2015</td>\n",
       "      <td>1331</td>\n",
       "      <td>47.35</td>\n",
       "      <td>-49.49</td>\n",
       "      <td>RAD</td>\n",
       "      <td>GEN</td>\n",
       "      <td>GEN</td>\n",
       "      <td>2005</td>\n",
       "      <td>2015-06-27 13:31:00</td>\n",
       "    </tr>\n",
       "  </tbody>\n",
       "</table>\n",
       "</div>"
      ],
      "text/plain": [
       "   index  ICEBERG_YEAR  ICEBERG_NUMBER SIGHTING_DATE  SIGHTING_TIME  \\\n",
       "0  10822          2015           23525     6/24/2015           1306   \n",
       "1  10823          2015           23525     6/25/2015           1118   \n",
       "2  10824          2015           23525     6/25/2015           1918   \n",
       "3  10825          2015           23525     6/26/2015           1046   \n",
       "4  10826          2015           23525     6/26/2015           1636   \n",
       "5  10827          2015           23525     6/27/2015           1105   \n",
       "6  10828          2015           23525     6/27/2015           1331   \n",
       "\n",
       "   SIGHTING_LATITUDE  SIGHTING_LONGITUDE SIGHTING_METHOD SIZE SHAPE SOURCE  \\\n",
       "0              47.71              -49.50             R/V   LG   GEN   GTJZ   \n",
       "1              47.55              -49.41             R/V   LG   GEN   GTJZ   \n",
       "2              47.49              -49.44             R/V   LG   GEN   GPGR   \n",
       "3              47.46              -49.45             R/V  GEN   GEN   GTJZ   \n",
       "4              47.43              -49.44             R/V   LG   GEN   GMRS   \n",
       "5              47.38              -49.47             R/V   LG   GEN   GPGR   \n",
       "6              47.35              -49.49             RAD  GEN   GEN   2005   \n",
       "\n",
       "            TIMESTAMP  \n",
       "0 2015-06-24 13:06:00  \n",
       "1 2015-06-25 11:18:00  \n",
       "2 2015-06-25 19:18:00  \n",
       "3 2015-06-26 10:46:00  \n",
       "4 2015-06-26 16:36:00  \n",
       "5 2015-06-27 11:05:00  \n",
       "6 2015-06-27 13:31:00  "
      ]
     },
     "execution_count": 4,
     "metadata": {},
     "output_type": "execute_result"
    }
   ],
   "source": [
    "chosen_inds_arr.sort(key=len, reverse=True)\n",
    "iip_berg_df = iip_df.loc[chosen_inds_arr[0]].reset_index()\n",
    "iip_berg_df"
   ]
  },
  {
   "cell_type": "code",
   "execution_count": 5,
   "metadata": {},
   "outputs": [],
   "source": [
    "iip_berg = Iceberg(iip_berg_df['ICEBERG_NUMBER'].loc[0],\n",
    "                    iip_berg_df['TIMESTAMP'].dt.to_pydatetime(),\n",
    "                    [0], [0],\n",
    "                    iip_berg_df['SIGHTING_LATITUDE'].loc[:].tolist(),\n",
    "                    iip_berg_df['SIGHTING_LONGITUDE'].loc[:].tolist(),\n",
    "                    iip_berg_df['SIZE'].loc[0],\n",
    "                    iip_berg_df['SHAPE'].loc[0])"
   ]
  },
  {
   "cell_type": "code",
   "execution_count": 6,
   "metadata": {},
   "outputs": [],
   "source": [
    "ocean_data = ECMWF_Ocean(min(iip_berg.lons), max(iip_berg.lons),\n",
    "                         min(iip_berg.lats), max(iip_berg.lats),\n",
    "                         iip_berg.datetimes[0], iip_berg.datetimes[-1])"
   ]
  },
  {
   "cell_type": "code",
   "execution_count": 7,
   "metadata": {},
   "outputs": [],
   "source": [
    "atm_data = ECMWF_Atm(min(iip_berg.lons), max(iip_berg.lons),\n",
    "                     min(iip_berg.lats), max(iip_berg.lats),\n",
    "                     iip_berg.datetimes[0], iip_berg.datetimes[-1])"
   ]
  },
  {
   "cell_type": "code",
   "execution_count": 66,
   "metadata": {},
   "outputs": [],
   "source": [
    "def optimize_turnbull(params):\n",
    "    \n",
    "    # params = [Ca, Cw, l, w, h, vx0, vy0]\n",
    "    \n",
    "    assert(len(params) == 7)\n",
    "    \n",
    "    Ca = params[0]\n",
    "    Cw = params[1]\n",
    "    l = params[2]\n",
    "    w = params[3]\n",
    "    h = params[4]\n",
    "    vx0 = params[5]\n",
    "    vy0 = params[6]\n",
    "\n",
    "    # Buffer number for bounding spatial box\n",
    "    buf = 0.5\n",
    "\n",
    "\n",
    "    # Create model iceberg\n",
    "    mod_berg = Iceberg(iip_berg_df['ICEBERG_NUMBER'][0],\n",
    "                        [iip_berg_df['TIMESTAMP'].dt.to_pydatetime()[0]],\n",
    "                        [0], [0],\n",
    "                        [iip_berg_df['SIGHTING_LATITUDE'][0]],\n",
    "                        [iip_berg_df['SIGHTING_LONGITUDE'][0]],\n",
    "                        iip_berg_df['SIZE'][0], iip_berg_df['SHAPE'].loc[0])\n",
    "\n",
    "    mod_berg.air_drag_coeff = Ca\n",
    "    mod_berg.water_drag_coeff = Cw\n",
    "    \n",
    "    mod_berg.length = [l]\n",
    "    mod_berg.width = [w]\n",
    "    mod_berg.height = [h]\n",
    "    \n",
    "    mod_berg.xvels[0] = vx0\n",
    "    mod_berg.yvels[0] = vy0\n",
    "    \n",
    "\n",
    "    # Timesteps\n",
    "    t0 = iip_berg.datetimes[0]\n",
    "    tf = iip_berg.datetimes[-1]\n",
    "    t_delta = tf - t0\n",
    "    t_delta_hours = t_delta.days*24 + t_delta.seconds/3600\n",
    "    t_step_hours = 0.1\n",
    "    t_step = timedelta(hours = t_step_hours)\n",
    "    dt = t_step_hours*3600  # timestep in seconds\n",
    "    t_all = []\n",
    "    for i in np.arange(0, t_delta_hours + t_step_hours, t_step_hours):\n",
    "        new_date = t0 + timedelta(hours=i)\n",
    "        t_all.append(new_date)\n",
    "\n",
    "\n",
    "\n",
    "    # Iceberg Initials\n",
    "    x0, y0 = mod_berg.lons[0], mod_berg.lats[0]\n",
    "    l0, w0, h0 = mod_berg.length[0], mod_berg.width[0], mod_berg.height[0]\n",
    "\n",
    "    l, w, h = l0, w0, h0\n",
    "    x, y = x0, y0\n",
    "    vx, vy = vx0, vy0\n",
    "\n",
    "\n",
    "    for t in t_all:\n",
    "\n",
    "\n",
    "        t_ocean = nc.date2num(t, 'hours since 1950-01-01 00:00:00.0 00:00', 'standard')\n",
    "        t_atm = nc.date2num(t, 'hours since 1900-01-01 00:00:00.0 00:00', 'standard')\n",
    "\n",
    "        vau = atm_data.iUA([t_atm, y, x])[0]\n",
    "        vav = atm_data.iVA([t_atm, y, x])[0]\n",
    "        vwu = ocean_data.iUW([t_ocean, y, x])[0]\n",
    "        vwv = ocean_data.iVW([t_ocean, y, x])[0]\n",
    "\n",
    "\n",
    "        vx, vy, x, y = turnbull_drift(mod_berg, vau, vav, vwu, vwv, dt) \n",
    "\n",
    "\n",
    "        if x > max(iip_berg.lons)+buf or x < min(iip_berg.lons)-buf or y > max(iip_berg.lats)+buf or y <= min(iip_berg.lats)-buf:\n",
    "            # Iceberg out-of-bounds\n",
    "            print('out-of-bounds')\n",
    "            break\n",
    "\n",
    "\n",
    "        else:\n",
    "            mod_berg.xvels.append(vx)\n",
    "            mod_berg.yvels.append(vy)\n",
    "            mod_berg.lons.append(x)\n",
    "            mod_berg.lats.append(y)\n",
    "            mod_berg.datetimes.append(t)\n",
    "\n",
    "            \n",
    "    all_iip_times = []\n",
    "    for iip_datetime in iip_berg.datetimes:\n",
    "        all_iip_times.append(round((iip_datetime - iip_berg.datetimes[0]).total_seconds()/3600,1))\n",
    "    all_iip_times = np.asarray(all_iip_times)\n",
    "    \n",
    "    all_mod_times = []\n",
    "    for mod_datetime in mod_berg.datetimes:\n",
    "        all_mod_times.append(round((mod_datetime - mod_berg.datetimes[0]).total_seconds()/3600,1))\n",
    "    all_mod_times = np.asarray(all_mod_times)\n",
    "\n",
    "    time_inds = []\n",
    "    for j in range(all_iip_times.size):\n",
    "        if np.any(all_mod_times == all_iip_times[j]):\n",
    "            time_inds.append(np.where(all_mod_times == all_iip_times[j])[0][0])\n",
    "                        \n",
    "    all_xy_mse = []\n",
    "    counter = 0\n",
    "    for iip_time_ind, mod_time_ind in enumerate(time_inds):\n",
    "        xy_mse = np.sqrt((mod_berg.lons[mod_time_ind] - iip_berg.lons[iip_time_ind])**2 + (mod_berg.lats[mod_time_ind] - iip_berg.lats[iip_time_ind])**2)\n",
    "        all_xy_mse.append(xy_mse)\n",
    "       \n",
    "    avg_xy_mse = np.mean(all_xy_mse)\n",
    "    \n",
    "    return avg_xy_mse"
   ]
  },
  {
   "cell_type": "code",
   "execution_count": 67,
   "metadata": {},
   "outputs": [
    {
     "data": {
      "text/plain": [
       "0.12040074635893525"
      ]
     },
     "execution_count": 67,
     "metadata": {},
     "output_type": "execute_result"
    }
   ],
   "source": [
    "optimize_turnbull([0.25, 2.25, 125, 174, 288, 0.004, -0.022])"
   ]
  },
  {
   "cell_type": "code",
   "execution_count": 74,
   "metadata": {},
   "outputs": [
    {
     "data": {
      "text/plain": [
       "     fun: 0.12683009052032596\n",
       "     jac: array([  70628.98493886, -292459.37785281,   64132.30520577,\n",
       "       -244415.17015657,  439122.39632295, -301111.61655886,\n",
       "        278293.6926238 ])\n",
       " message: 'Converged (|f_n-f_(n-1)| ~= 0)'\n",
       "    nfev: 9\n",
       "     nit: 1\n",
       "  status: 1\n",
       " success: True\n",
       "       x: array([  2.50000000e-01,   2.25000000e+00,   1.25000000e+02,\n",
       "         1.74000000e+02,   2.88000000e+02,   4.00000000e-03,\n",
       "        -2.20000000e-02])"
      ]
     },
     "execution_count": 74,
     "metadata": {},
     "output_type": "execute_result"
    }
   ],
   "source": [
    "minimize(optimize_turnbull, \n",
    "         x0 = [0.25, 2.25, 125, 174, 288, 0.004, -0.022], \n",
    "         method = 'TNC', options = {'ftol': 1e-2},\n",
    "         bounds = ((0.01, 0.5), (2.0, 2.5), (120, 200), (120, 200), (200, 400), (0.0, 0.05), (-0.05, 0.0)))"
   ]
  },
  {
   "cell_type": "code",
   "execution_count": 157,
   "metadata": {},
   "outputs": [],
   "source": [
    "def get_surf_plot_data(optimize_turnbull):\n",
    "    surf_plot_data = {'Ca': [], 'Cw': [], 'fval': []}\n",
    "    lb = 0.01; ub = 2.5; inc = 0.5\n",
    "    Ca = np.arange(lb, ub+inc, inc)\n",
    "    Cw = np.arange(lb, ub+inc, inc)\n",
    "    Ca, Cw = np.meshgrid(Ca, Cw)\n",
    "    Ca = np.array(Ca).flatten(); Cw = np.array(Cw).flatten()\n",
    "    for i in range(len(Ca)):\n",
    "        fval = optimize_turnbull([Ca[i], Cw[i], 125, 174, 288, 0.004, -0.022])\n",
    "        surf_plot_data['Ca'].append(Ca[i]); surf_plot_data['Cw'].append(Cw[i]); surf_plot_data['fval'].append(fval);\n",
    "\n",
    "    #for i in range(100):\n",
    "    #    Ca = np.random.uniform(0.01, 2.5); surf_plot_data['Ca'].append(Ca)\n",
    "    #    Cw = np.random.uniform(0.01, 2.5); surf_plot_data['Cw'].append(Cw)\n",
    "    #    fval = optimize_turnbull([Ca, Cw, 125, 174, 288, 0.004, -0.022]); surf_plot_data['fval'].append(fval)\n",
    "    return surf_plot_data"
   ]
  },
  {
   "cell_type": "code",
   "execution_count": 158,
   "metadata": {},
   "outputs": [],
   "source": [
    "surf_plot_data = get_surf_plot_data(optimize_turnbull)"
   ]
  },
  {
   "cell_type": "code",
   "execution_count": 164,
   "metadata": {},
   "outputs": [
    {
     "data": {
      "text/plain": [
       "36"
      ]
     },
     "execution_count": 164,
     "metadata": {},
     "output_type": "execute_result"
    }
   ],
   "source": [
    "len(surf_plot_data['fval'])"
   ]
  },
  {
   "cell_type": "code",
   "execution_count": 163,
   "metadata": {},
   "outputs": [
    {
     "data": {
      "text/plain": [
       "36"
      ]
     },
     "execution_count": 163,
     "metadata": {},
     "output_type": "execute_result"
    }
   ],
   "source": [
    "len(surf_plot_data['Ca'])"
   ]
  },
  {
   "cell_type": "code",
   "execution_count": 167,
   "metadata": {},
   "outputs": [],
   "source": [
    "def make_surf_plot(surf_plot_data):\n",
    "    from mpl_toolkits.mplot3d import Axes3D\n",
    "    from matplotlib import cm\n",
    "\n",
    "    fig = plt.figure()\n",
    "    ax = fig.gca(projection='3d')\n",
    "\n",
    "    X = surf_plot_data['Ca']\n",
    "    Y = surf_plot_data['Cw']\n",
    "    X, Y = np.meshgrid(X,Y)\n",
    "    #lb = 0.01; ub = 2.5; inc = 0.5\n",
    "    #X = np.arange(lb, ub+inc, inc)\n",
    "    #Y = np.arange(lb, ub+inc, inc)\n",
    "    #X, Y = np.meshgrid(Ca, Cw)\n",
    "    Z = surf_plot_data['fval']\n",
    "\n",
    "    surf = ax.plot_surface(X, Y, Z, cmap=cm.coolwarm, linewidth=0, antialiased=False)\n",
    "    fig.colorbar(surf, shrink=0.5, aspect=5)\n",
    "        \n",
    "    ax.set_xlabel('Ca')\n",
    "    ax.set_ylabel('Cw')\n",
    "    ax.set_zlabel('MSE')    \n",
    "    plt.show()\n",
    "    plt.savefig('plots/surf_plot.png')"
   ]
  },
  {
   "cell_type": "code",
   "execution_count": 168,
   "metadata": {},
   "outputs": [
    {
     "data": {
      "image/png": "[encoded data removed]",
      "text/plain": [
       "<matplotlib.figure.Figure at 0x7faf3aea9a90>"
      ]
     },
     "metadata": {},
     "output_type": "display_data"
    },
    {
     "data": {
      "text/plain": [
       "<matplotlib.figure.Figure at 0x7faf3aebec50>"
      ]
     },
     "metadata": {},
     "output_type": "display_data"
    }
   ],
   "source": [
    "make_surf_plot(surf_plot_data)"
   ]
  },
  {
   "cell_type": "code",
   "execution_count": 134,
   "metadata": {},
   "outputs": [],
   "source": [
    "lb = 0.01; ub = 2.5; inc = 0.05\n",
    "Ca = np.arange(lb, ub+inc, inc)\n",
    "Cw = np.arange(lb, ub+inc, inc)\n",
    "Ca, Cw = np.meshgrid(Ca, Cw)"
   ]
  },
  {
   "cell_type": "code",
   "execution_count": 135,
   "metadata": {},
   "outputs": [
    {
     "data": {
      "text/plain": [
       "array([[ 0.01,  0.06,  0.11, ...,  2.41,  2.46,  2.51],\n",
       "       [ 0.01,  0.06,  0.11, ...,  2.41,  2.46,  2.51],\n",
       "       [ 0.01,  0.06,  0.11, ...,  2.41,  2.46,  2.51],\n",
       "       ..., \n",
       "       [ 0.01,  0.06,  0.11, ...,  2.41,  2.46,  2.51],\n",
       "       [ 0.01,  0.06,  0.11, ...,  2.41,  2.46,  2.51],\n",
       "       [ 0.01,  0.06,  0.11, ...,  2.41,  2.46,  2.51]])"
      ]
     },
     "execution_count": 135,
     "metadata": {},
     "output_type": "execute_result"
    }
   ],
   "source": [
    "Ca"
   ]
  },
  {
   "cell_type": "code",
   "execution_count": 148,
   "metadata": {},
   "outputs": [
    {
     "data": {
      "text/plain": [
       "0.01"
      ]
     },
     "execution_count": 148,
     "metadata": {},
     "output_type": "execute_result"
    }
   ],
   "source": [
    "np.array(Ca).flatten()[102]"
   ]
  },
  {
   "cell_type": "code",
   "execution_count": 147,
   "metadata": {},
   "outputs": [
    {
     "data": {
      "text/plain": [
       "0.11"
      ]
     },
     "execution_count": 147,
     "metadata": {},
     "output_type": "execute_result"
    }
   ],
   "source": [
    "np.array(Cw).flatten()[102]"
   ]
  },
  {
   "cell_type": "code",
   "execution_count": null,
   "metadata": {},
   "outputs": [],
   "source": []
  }
 ],
 "metadata": {
  "kernelspec": {
   "display_name": "Python 3",
   "language": "python",
   "name": "python3"
  },
  "language_info": {
   "codemirror_mode": {
    "name": "ipython",
    "version": 3
   },
   "file_extension": ".py",
   "mimetype": "text/x-python",
   "name": "python",
   "nbconvert_exporter": "python",
   "pygments_lexer": "ipython3",
   "version": "3.5.2"
  }
 },
 "nbformat": 4,
 "nbformat_minor": 2
}
