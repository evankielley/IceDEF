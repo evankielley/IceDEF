{
 "cells": [
  {
   "cell_type": "markdown",
   "metadata": {},
   "source": [
    "# Iceberg Drift Models"
   ]
  },
  {
   "cell_type": "markdown",
   "metadata": {},
   "source": [
    "Most iceberg drift models are written in the form:\n",
    "\\begin{equation}\n",
    "M \\frac{d\\mathbf{v}_i}{dt} = -Mf\\hat{\\mathbf{k}} \\times \\mathbf{v}_i + F_p + F_w + F_r + F_i\n",
    "\\end{equation}\n",
    "\n",
    "where $M$ is the mass of the iceberg, $\\mathbf{v}_i$ is the iceberg velocity, $f$ is the Coriolis parameter, $F_p$ is the pressure gradient force, $F_w$ is the water drag, $F_a$ is the air drag, $F_r$ is the wave radiation force, $F_i$ is the sea ice drag, and $-Mf\\hat{\\mathbf{k}} \\times \\mathbf{v}_i$ is the Coriolis force."
   ]
  },
  {
   "cell_type": "markdown",
   "metadata": {},
   "source": [
    "## Drift Model 1"
   ]
  },
  {
   "cell_type": "markdown",
   "metadata": {},
   "source": [
    "The Wagner Model simplified \\ref{eqn:general-iceberg-drift-model} for use in their model by making several key assumptions. These are that:\n",
    "\n",
    "\n",
    "1. The acceleration of the iceberg is small and can be neglected.\n",
    "2. The pressure gradient force can be approximated by ocean velocity because of geostrophic ocean currents.\n",
    "3. The iceberg speed is much smaller than the speed of the surface wind.\n",
    "4. The drag forces from sea ice and wave radiation are small and can be neglected.\n",
    "5. Vertical variations of the ocean current and wind velocities are small and can be neglected.\n",
    "6. All icebergs can be approximated as being cuboid.\n",
    "\n",
    "\n",
    "Reasons for making these assumptions are elaborated upon in their paper \\cite{wagner2017}. By making these assumptions, the water and air drag terms can be simplified to:\n",
    "\n",
    "\\begin{equation}\\label{wagner-drags}\n",
    "\\begin{split}\n",
    "F_w &= \\tilde{C}_w \\vert \\mathbf{v}_w - \\mathbf{v}_i \\vert (\\mathbf{v}_w - \\mathbf{v}_i) \\\\\n",
    "F_a &= \\tilde{C}_a \\vert \\mathbf{v}_a - \\mathbf{v}_i \\vert (\\mathbf{v}_a - \\mathbf{v}_i)\n",
    "\\end{split}\n",
    "\\end{equation}\n",
    "\n",
    "with $\\tilde{C}_w \\equiv \\frac{1}{2} \\rho _w C_w A_w$ and $\\tilde{C}_a \\equiv \\frac{1}{2} \\rho _a C_a A_a$ where $C_w$ and $C_a$ are the drag coefficients of water and air, $\\rho_w$ and $\\rho_a$ are the densities of water of air, and $A_w$ and $A_a$ are the cross-sectional areas upon which the ocean current and wind velocities act, respectively, and are represented by, $A_w=\\frac{\\rho_i}{\\rho_w}\\frac{2(L+W)H}{\\pi}$ and $A_a=\\frac{A_w(\\rho_w - \\rho_i)}{\\rho_i}$, where $L$, $W$, and $H$ are the length, width, and height of the iceberg, respectively.\n",
    "\n",
    "\\begin{equation}\\label{wagner-forces}\n",
    "\\begin{split}\n",
    "0 &= -Mf\\mathbf{\\hat{k}} \\times \\mathbf{v}_i + Mf\\mathbf{\\hat{k}} \\times \\mathbf{v}_w + \\tilde{C}_w \\vert \\mathbf{v}_w - \\mathbf{v}_i \\vert (\\mathbf{v}_w - \\mathbf{v}_i) + \\tilde{C}_w \\vert \\mathbf{v}_a \\vert \\mathbf{v}_a\\\\\n",
    "0 &= Mf\\mathbf{\\hat{k}} \\times \\Delta \\mathbf{v} + \\tilde{C}_w \\vert \\Delta \\mathbf{v} \\vert \\Delta \\mathbf{v} + \\tilde{C}_a \\vert \\mathbf{v}_a \\vert \\mathbf{v}_a\n",
    "\\end{split}\n",
    "\\end{equation}\n",
    "\n",
    "where $\\Delta \\mathbf{v} \\equiv \\mathbf{v}_w - \\mathbf{v}_i$ and $\\mathbf{v}_a \\approx \\mathbf{v}_a - \\mathbf{v}_i$.\n",
    "\n",
    "This allows us then to introduce two dimensionless quantities:\n",
    "\n",
    "\\begin{equation}\n",
    "\\begin{split}\n",
    "\\Lambda_w &\\equiv \\frac{\\tilde{C}_w \\vert \\Delta \\mathbf{v} \\vert}{Mf} \\\\\n",
    "\\Lambda_a &\\equiv \\frac{\\tilde{C}_a \\vert \\mathbf{v}_a \\vert^2}{Mf \\vert \\Delta \\mathbf{v} \\vert}\n",
    "\\end{split}\n",
    "\\end{equation}\n",
    "\n",
    "which represent the magnitudes of the air and water drag relative to the Coriolis force, respectively.\n",
    "\n",
    "This then allows equation \\ref{wagner-forces} to be written as:\n",
    "\n",
    "\\begin{equation}\n",
    "0 = \\mathbf{\\hat{k}} \\times \\Delta \\mathbf{\\hat{v}} + \\Lambda_w \\Delta \\mathbf{\\hat{v}} + \\Lambda_a \\mathbf{\\hat{v}}_a\n",
    "\\end{equation}\n",
    "\n",
    "where $\\mathbf{\\hat{v}}$ and $\\mathbf{\\hat{v}}_a$ are the units vectors for $\\mathbf{v}$ and $\\mathbf{v}_a$, respectively. Now, equation \\ref{eqn:wagner-forces-short} can be rearranged as:\n",
    "\n",
    "\\begin{equation}\n",
    "\\mathbf{v}_i = \\mathbf{v}_w + \\gamma(-\\alpha \\mathbf{\\hat{k}} \\times \\mathbf{v}_a + \\beta \\mathbf{v}_a)\n",
    "\\end{equation}\n",
    "\n",
    "where $\\gamma$ is a dimensionless parameter that represents the proportion of water and air drag acting on the iceberg given by:\n",
    "\n",
    "\\begin{equation}\n",
    "\\gamma = \\sqrt[]{\\frac{\\tilde{C}_a}{\\tilde{C}_w}}\n",
    "\\end{equation}\n",
    "\n",
    "and $\\alpha$ and $\\beta$ are also dimensionless parameters,\n",
    "\n",
    "\\begin{equation}\\label{wagner-alpha-beta}\n",
    "\\begin{split}\n",
    "\\alpha &\\equiv \\frac{\\sqrt[]{1+4\\Lambda^4}-1}{2\\Lambda^3} \\\\\n",
    "\\beta &\\equiv \\frac{1}{2\\Lambda^3}\\sqrt[]{1+4\\Lambda^4 \\sqrt[]{1+4\\Lambda^4}-3\\Lambda^4 -1}\n",
    "\\end{split}\n",
    "\\end{equation}\n",
    "\n",
    "with,\n",
    "\n",
    "\\begin{equation}\n",
    "\\Lambda \\equiv \\sqrt[]{\\Lambda_w\\Lambda_a} = \\frac{\\gamma C_w\\vert \\mathbf{v}_a \\vert}{\\pi f S}\n",
    "\\end{equation}\n",
    "\n",
    "and $S = \\frac{LW}{L+W}$ as the horizontal mean length of the iceberg."
   ]
  },
  {
   "cell_type": "markdown",
   "metadata": {},
   "source": [
    "## Drift Model 2"
   ]
  },
  {
   "cell_type": "markdown",
   "metadata": {},
   "source": [
    "The drift model produced by Turnbull et. al. (2015) \\cite{turnbull2015} for Shell's Greenland coring campaign in 2012, is based upon the same fundamental iceberg drift equation of motion (equation \\ref{eqn:general-iceberg-drift-model}) as Wagner et. al. (2017). However, the timescale of drifting was $2.5 - 113.5$ hours (versus the aforementioned Wagner models timescale of $1$ year) so for that reason, among others, the final equation of motion for this model differs significantly from that of the Wagner model. \\\\\n",
    "\n",
    "The assumptions made for this model are as follows:\n",
    "\n",
    "1. Wave forcing is negligible because it's inclusion made no improvement to the forecast quality.\n",
    "2. Sea ice forcing is negligible because no sea ice was observed during the campaign.\n",
    "3. Tidal currents for the coring region near Cape North were deemed significant and were thus accounted for but for this region only.\n",
    "4. Sea surface slope was neglected because it was not possible for them to measure these during this campaign.\n",
    "5. Skin drag across the top face for icebergs of shape tabular, non-tabular, dome, wedge, and blocky was significant was thus accounted for.\n",
    "6. All icebergs had either triangular or semi-elliptical keels.\n",
    "7. Skin drag across the bottom surface of the iceberg for all iceberg shapes was ignored because the cross-sectional area of the keel's tip was negligible.\n",
    "\n",
    "\n",
    "\\begin{equation}\n",
    "M_i \\frac{d\\vec{V}_i}{dt} = \\vec{F}_a + \\vec{F}_w + \\vec{F}_c + \\vec{F}_{wp}\n",
    "\\end{equation}\n",
    "\n",
    "Where $M_i$ and $\\vec{V}_i$ are the mass and the velocity of the iceberg; respectively, $t$ is the time, and $\\vec{F}_a$, $\\vec{F}_w$, $\\vec{F}_c$, and $\\vec{F}_{wp}$ are the forces of air, water, Coriolis, and water pressure; respectively.\n",
    "\n",
    "\\begin{equation}\n",
    "\\vec{F}_a = (0.5 \\rho_a C_a A_s + \\rho_a C_{da} A_t) \\vert \\vec{V}_a - \\vec{V}_i \\vert (\\vec{V}_a - \\vec{V}_i)\n",
    "\\end{equation}\n",
    "\n",
    "Where $\\rho_a$, $C_a$, $C_{da}$, and $\\vec{V}_a$ are the density, drag coefficient, skin drag coefficient, and velocity of the air; respectively, and $A_s$, $A_t$ are the area of the sail and the top of the iceberg; respectively.\n",
    "\n",
    "\\begin{equation}\n",
    "\\vec{F}_w = 0.5 \\rho_w (C_w \\sum_n A_k(n) \\vert \\vec{V}_w(n) - \\vec{V}_i \\vert (\\vec{V}_w(n) - \\vec{V}_i) + C_{dw} A_b \\vert \\vec{V}_w - \\vec{V}_i \\vert (\\vec{V}_w - \\vec{V}_i))\n",
    "\\end{equation}\n",
    "\n",
    "\\begin{equation}\n",
    "\\vec{F}_w = 0.5 \\rho_w (C_w A_k + C_{dw} A_b) \\vert \\vec{V}_w - \\vec{V}_i \\vert (\\vec{V}_w - \\vec{V}_i)\n",
    "\\end{equation}\n",
    "\n",
    "Where $\\rho_w$, $C_w$, $C_{dw}$, and $\\vec{V}_w$ are the density, drag coefficient, skin drag coefficient, and velocity of the water; respectively, and $A_k$, $A_b$ are the area of the keel and the bottom of the iceberg; respectively.\n",
    "\n",
    "\\begin{equation}\n",
    "\\vec{F}_c = 2M \\Omega sin \\phi \\vec{k} \\times \\vec{V}_i\n",
    "\\end{equation}\n",
    "\n",
    "Where $\\vec{F}_c$ is the Coriolis Force, $\\Omega$ is the angular speed of Earth, $\\phi$ is the iceberg's latitude, and $\\vec{k}$ is the unit vector perpendicular to the Earth's surface.\n",
    "\n",
    "\\begin{equation}\n",
    "\\vec{F}_{wp} = M(\\frac{d\\bar{\\vec{V}}_{w}}{dt} + f \\times \\bar{\\vec{V}}_{w})\n",
    "\\end{equation}\n",
    "\n",
    "Where $\\bar{\\vec{V}}_{w}$ is the mean water velocity along the iceberg's keel and $f$ is the Coriolis parameter."
   ]
  },
  {
   "cell_type": "markdown",
   "metadata": {},
   "source": [
    "## References"
   ]
  },
  {
   "cell_type": "markdown",
   "metadata": {},
   "source": [
    "Wagner, T., Dell, R., & Eisenman, I. (2017). An Analytical Model of Iceberg Drift. Journal of Physical Oceanography, 47(7), 1605-1616.\n",
    "\n",
    "Turnbull, Fournier, Stolwijk, Fosnaes, & Mcgonigal. (2015). Operational iceberg drift forecasting in Northwest Greenland. Cold Regions Science and Technology, 110, 1-18."
   ]
  },
  {
   "cell_type": "code",
   "execution_count": null,
   "metadata": {},
   "outputs": [],
   "source": []
  },
  {
   "cell_type": "code",
   "execution_count": null,
   "metadata": {},
   "outputs": [],
   "source": []
  },
  {
   "cell_type": "code",
   "execution_count": null,
   "metadata": {},
   "outputs": [],
   "source": []
  },
  {
   "cell_type": "code",
   "execution_count": null,
   "metadata": {},
   "outputs": [],
   "source": []
  },
  {
   "cell_type": "code",
   "execution_count": null,
   "metadata": {},
   "outputs": [],
   "source": []
  },
  {
   "cell_type": "code",
   "execution_count": 1,
   "metadata": {},
   "outputs": [],
   "source": [
    "import numpy as np\n",
    "import xarray as xr\n",
    "import matplotlib.pyplot as plt\n",
    "from scipy.optimize import minimize\n",
    "from matplotlib.backends.backend_pdf import PdfPages\n",
    "\n",
    "from icedef import constants, iceberg, metocean, drift, tools, simulator, test_case"
   ]
  },
  {
   "cell_type": "code",
   "execution_count": 2,
   "metadata": {},
   "outputs": [],
   "source": [
    "def run_simulation(start_location, time_frame, **kwargs):\n",
    "\n",
    "    # Args\n",
    "    start_latitude, start_longitude = start_location\n",
    "    start_time, end_time = time_frame\n",
    "\n",
    "    # Kwargs\n",
    "    time_step = kwargs.pop('time_step', np.timedelta64(300, 's'))\n",
    "\n",
    "    # Object creation\n",
    "    iceberg_ = iceberg.quickstart(start_time, start_location)\n",
    "    metocean_ = metocean.Metocean(time_frame)\n",
    "\n",
    "    dt = time_step.item().total_seconds()\n",
    "    nt = int((end_time - start_time).item().total_seconds() / dt)\n",
    "\n",
    "    times = np.zeros(nt, dtype='datetime64[ns]')\n",
    "\n",
    "    results = {'latitude': np.zeros(nt),\n",
    "               'longitude': np.zeros(nt),\n",
    "               'iceberg_eastward_velocity': np.zeros(nt),\n",
    "               'iceberg_northward_velocity': np.zeros(nt),\n",
    "               'current_eastward_velocity': np.zeros(nt),\n",
    "               'current_northward_velocity': np.zeros(nt),\n",
    "               'wind_eastward_velocity': np.zeros(nt),\n",
    "               'wind_northward_velocity': np.zeros(nt)}\n",
    "\n",
    "    iceberg_constants = {'iceberg_length': 160,\n",
    "                         'iceberg_width': 160,\n",
    "                         'form_drag_coefficient_in_water': kwargs.pop('Cw', 1.5),\n",
    "                         'form_drag_coefficient_in_air': kwargs.pop('Ca', 1.5)}\n",
    "\n",
    "    point = (iceberg_.time, iceberg_.latitude, iceberg_.longitude)\n",
    "\n",
    "    current_velocity = (metocean_.interpolate(point, metocean_.ocean.eastward_current_velocities),\n",
    "                        metocean_.interpolate(point, metocean_.ocean.northward_current_velocities))\n",
    "\n",
    "    wind_velocity = (metocean_.interpolate(point, metocean_.atmosphere.eastward_wind_velocities),\n",
    "                     metocean_.interpolate(point, metocean_.atmosphere.northward_wind_velocities))\n",
    "\n",
    "    for i in range(nt):\n",
    "\n",
    "        # Compute iceberg velocity from drift model\n",
    "        vx, vy, = drift.analytical_drift((iceberg_.latitude, iceberg_.longitude), \n",
    "                                   current_velocity, wind_velocity, **iceberg_constants)\n",
    "\n",
    "        # Store results from this timestep\n",
    "        times[i] = iceberg_.time\n",
    "        results['latitude'][i] = iceberg_.latitude\n",
    "        results['longitude'][i] = iceberg_.longitude\n",
    "        results['iceberg_eastward_velocity'][i] = iceberg_.eastward_velocity\n",
    "        results['iceberg_northward_velocity'][i] = iceberg_.northward_velocity\n",
    "        results['current_eastward_velocity'][i] = current_velocity[0]\n",
    "        results['current_northward_velocity'][i] = current_velocity[1]\n",
    "        results['wind_eastward_velocity'][i] = wind_velocity[0]\n",
    "        results['wind_northward_velocity'][i] = wind_velocity[1]\n",
    "\n",
    "        # Update parameters for next timestep\n",
    "        iceberg_.time += time_step\n",
    "        iceberg_.eastward_velocity = vx\n",
    "        iceberg_.northward_velocity = vy\n",
    "        iceberg_.latitude += tools.dy_to_dlat(iceberg_.northward_velocity * dt)\n",
    "        iceberg_.longitude += tools.dx_to_dlon(iceberg_.eastward_velocity * dt, iceberg_.latitude)\n",
    "        \n",
    "        point = (iceberg_.time, iceberg_.latitude, iceberg_.longitude)\n",
    "        \n",
    "        current_velocity = (metocean_.interpolate(point, metocean_.ocean.eastward_current_velocities),\n",
    "                            metocean_.interpolate(point, metocean_.ocean.northward_current_velocities))\n",
    "        \n",
    "        wind_velocity = (metocean_.interpolate(point, metocean_.atmosphere.eastward_wind_velocities),\n",
    "                         metocean_.interpolate(point, metocean_.atmosphere.northward_wind_velocities))\n",
    "\n",
    "    xds = xr.Dataset()\n",
    "\n",
    "    for key, value in results.items():\n",
    "\n",
    "        xarr = xr.DataArray(data=value, coords=[times], dims=['time'])\n",
    "        xds[key] = xarr\n",
    "\n",
    "    return xds\n"
   ]
  },
  {
   "cell_type": "code",
   "execution_count": 3,
   "metadata": {},
   "outputs": [
    {
     "data": {
      "image/png": "[encoded data removed]",
      "text/plain": [
       "<Figure size 720x576 with 1 Axes>"
      ]
     },
     "metadata": {},
     "output_type": "display_data"
    }
   ],
   "source": [
    "tc = test_case.TestCase()\n",
    "start_latitude = tc.start_latitude\n",
    "start_longitude = tc.start_longitude\n",
    "start_time = tc.start_time\n",
    "end_time = tc.end_time\n",
    "ref_lons = tc.ref_lons\n",
    "ref_lats = tc.ref_lats\n",
    "xds = run_simulation((start_latitude, start_longitude), (start_time, end_time), Ca=1, Cw=1)\n",
    "fig = plt.figure(figsize=(10, 8))\n",
    "plt.scatter(xds['longitude'], xds['latitude'], s=4)\n",
    "plt.scatter(ref_lons, ref_lats, s=4)\n",
    "plt.show()"
   ]
  },
  {
   "cell_type": "code",
   "execution_count": 41,
   "metadata": {},
   "outputs": [
    {
     "data": {
      "image/png": "[encoded data removed]",
      "text/plain": [
       "<Figure size 1008x864 with 1 Axes>"
      ]
     },
     "metadata": {},
     "output_type": "display_data"
    }
   ],
   "source": [
    "Ca_list = [1, 3, 5]#, 10]\n",
    "Cw_list = [1, 3, 5]#, 10]\n",
    "\n",
    "fig = plt.figure(figsize=(14, 12))\n",
    "plt.scatter(ref_lons, ref_lats, s=4)      \n",
    "\n",
    "for Ca in Ca_list:\n",
    "    for Cw in Cw_list:\n",
    "        xds = run_simulation((start_latitude, start_longitude), (start_time, end_time), Ca=Ca, Cw=Cw)\n",
    "        plt.scatter(xds['longitude'], xds['latitude'], s=4, label='Ca: {:.2f}, Cw: {:.2f}'.format(Ca, Cw))\n",
    "\n",
    "plt.legend()\n",
    "plt.show()"
   ]
  },
  {
   "cell_type": "code",
   "execution_count": null,
   "metadata": {},
   "outputs": [],
   "source": []
  }
 ],
 "metadata": {
  "kernelspec": {
   "display_name": "Python 3",
   "language": "python",
   "name": "python3"
  },
  "language_info": {
   "codemirror_mode": {
    "name": "ipython",
    "version": 3
   },
   "file_extension": ".py",
   "mimetype": "text/x-python",
   "name": "python",
   "nbconvert_exporter": "python",
   "pygments_lexer": "ipython3",
   "version": "3.6.5"
  }
 },
 "nbformat": 4,
 "nbformat_minor": 2
}
