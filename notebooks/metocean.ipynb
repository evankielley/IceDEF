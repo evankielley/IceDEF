{
 "cells": [
  {
   "cell_type": "markdown",
   "metadata": {},
   "source": [
    "# Metocean Data"
   ]
  },
  {
   "cell_type": "code",
   "execution_count": 1,
   "metadata": {
    "collapsed": true
   },
   "outputs": [],
   "source": [
    "%matplotlib inline\n",
    "import numpy as np\n",
    "import matplotlib.pyplot as plt\n",
    "plt.style.use('default')\n",
    "import xarray as xr\n",
    "import distributed"
   ]
  },
  {
   "cell_type": "code",
   "execution_count": null,
   "metadata": {
    "collapsed": true
   },
   "outputs": [],
   "source": [
    "client = distributed.Client()\n",
    "client"
   ]
  },
  {
   "cell_type": "markdown",
   "metadata": {},
   "source": [
    "# CANADIAN DATA"
   ]
  },
  {
   "cell_type": "markdown",
   "metadata": {},
   "source": [
    "## GIOPS"
   ]
  },
  {
   "cell_type": "markdown",
   "metadata": {},
   "source": [
    "http://dd.weather.gc.ca/model_giops/doc/README_GIOPS.txt"
   ]
  },
  {
   "cell_type": "markdown",
   "metadata": {},
   "source": [
    "## RIOPS"
   ]
  },
  {
   "cell_type": "code",
   "execution_count": null,
   "metadata": {
    "collapsed": true
   },
   "outputs": [],
   "source": [
    "ds = xr.open_dataset('http://navigator.oceansdata.ca/thredds/dodsC/riops/riopsf/2016091918_006_3D_nps.nc',\n",
    "                       chunks={'depth':1, 'yc':200, 'xc':200})"
   ]
  },
  {
   "cell_type": "code",
   "execution_count": null,
   "metadata": {
    "collapsed": true
   },
   "outputs": [],
   "source": [
    "ncfiles = ['http://navigator.oceansdata.ca/thredds/dodsC/riops/riopsf/2016091906_006_3D_nps.nc',\n",
    "           'http://navigator.oceansdata.ca/thredds/dodsC/riops/riopsf/2016091912_006_3D_nps.nc',\n",
    "           'http://navigator.oceansdata.ca/thredds/dodsC/riops/riopsf/2016091918_006_3D_nps.nc']"
   ]
  },
  {
   "cell_type": "code",
   "execution_count": null,
   "metadata": {
    "collapsed": true
   },
   "outputs": [],
   "source": [
    "ds = xr.open_mfdataset(ncfiles, chunks={'depth':10, 'yc':400, 'xc':400})"
   ]
  },
  {
   "cell_type": "code",
   "execution_count": null,
   "metadata": {
    "collapsed": true
   },
   "outputs": [],
   "source": [
    "ds.vomecrty"
   ]
  },
  {
   "cell_type": "code",
   "execution_count": null,
   "metadata": {
    "collapsed": true
   },
   "outputs": [],
   "source": [
    "vx = ds.vozocrtx.isel(depth=0).sel(xc=slice(6e6-1, 8e6-1),\n",
    "                              yc=slice(2e6-1, 4e6-1))\n",
    "vy = ds.vomecrty.isel(depth=0).sel(xc=slice(6e6-1, 8e6-1),\n",
    "                              yc=slice(2e6-1, 4e6-1))"
   ]
  },
  {
   "cell_type": "code",
   "execution_count": null,
   "metadata": {
    "collapsed": true
   },
   "outputs": [],
   "source": [
    "v = np.sqrt(vx**2+vy**2)"
   ]
  },
  {
   "cell_type": "code",
   "execution_count": null,
   "metadata": {
    "collapsed": true
   },
   "outputs": [],
   "source": [
    "v"
   ]
  },
  {
   "cell_type": "code",
   "execution_count": null,
   "metadata": {
    "collapsed": true
   },
   "outputs": [],
   "source": [
    "v.isel(time=2).plot(vmax=0.8)"
   ]
  },
  {
   "cell_type": "code",
   "execution_count": null,
   "metadata": {
    "collapsed": true
   },
   "outputs": [],
   "source": [
    "ds.latitude.sel(xc=slice(6e6, 8e6), yc=slice(2e6, 4e6))"
   ]
  },
  {
   "cell_type": "markdown",
   "metadata": {},
   "source": [
    "# AMERICAN DATA"
   ]
  },
  {
   "cell_type": "markdown",
   "metadata": {},
   "source": [
    "## NOMADS - GFS"
   ]
  },
  {
   "cell_type": "markdown",
   "metadata": {},
   "source": [
    "- 3 hour"
   ]
  },
  {
   "cell_type": "code",
   "execution_count": 2,
   "metadata": {
    "collapsed": true
   },
   "outputs": [],
   "source": [
    "gfs_url ='https://www.ncei.noaa.gov/thredds/dodsC/gfs-g4-anl-files/201512/20151231/gfsanl_4_20151231_1800_006.grb2'"
   ]
  },
  {
   "cell_type": "code",
   "execution_count": 3,
   "metadata": {
    "collapsed": true
   },
   "outputs": [],
   "source": [
    "gfs_ds = xr.open_dataset(gfs_url)"
   ]
  },
  {
   "cell_type": "code",
   "execution_count": 4,
   "metadata": {
    "collapsed": true
   },
   "outputs": [
    {
     "data": {
      "text/plain": [
       "<xarray.Dataset>\n",
       "Dimensions:                                                                   (altitude_above_msl: 3, depth_below_surface_layer: 4, depth_below_surface_layer_bounds_1: 2, height_above_ground: 1, height_above_ground1: 2, height_above_ground2: 1, height_above_ground3: 3, height_above_ground4: 3, height_above_ground_layer: 1, height_above_ground_layer1: 1, height_above_ground_layer1_bounds_1: 2, height_above_ground_layer_bounds_1: 2, isobaric: 12, isobaric1: 1, isobaric2: 21, isobaric3: 26, lat: 361, lon: 720, potential_vorticity_surface: 2, pressure_difference_layer: 1, pressure_difference_layer1: 1, pressure_difference_layer1_bounds_1: 2, pressure_difference_layer2: 2, pressure_difference_layer2_bounds_1: 2, pressure_difference_layer_bounds_1: 2, sigma: 1, sigma_layer: 4, sigma_layer_bounds_1: 2, time: 1, time1: 1, time_bounds_1: 2)\n",
       "Coordinates:\n",
       "  * lat                                                                       (lat) float32 90.0 ...\n",
       "  * lon                                                                       (lon) float32 0.0 ...\n",
       "    reftime                                                                   datetime64[ns] ...\n",
       "  * time                                                                      (time) datetime64[ns] 2016-01-01 ...\n",
       "  * time1                                                                     (time1) datetime64[ns] 2016-01-01 ...\n",
       "  * height_above_ground_layer                                                 (height_above_ground_layer) float32 1500.0 ...\n",
       "  * isobaric                                                                  (isobaric) float32 1000.0 ...\n",
       "  * height_above_ground                                                       (height_above_ground) float32 2.0 ...\n",
       "  * sigma                                                                     (sigma) float32 0.995 ...\n",
       "  * depth_below_surface_layer                                                 (depth_below_surface_layer) float32 0.05 ...\n",
       "  * pressure_difference_layer                                                 (pressure_difference_layer) float32 1500.0 ...\n",
       "  * isobaric1                                                                 (isobaric1) float32 50000.0 ...\n",
       "  * height_above_ground1                                                      (height_above_ground1) float32 2.0 ...\n",
       "  * height_above_ground2                                                      (height_above_ground2) float32 80.0 ...\n",
       "  * isobaric2                                                                 (isobaric2) float32 10000.0 ...\n",
       "  * altitude_above_msl                                                        (altitude_above_msl) float32 1829.0 ...\n",
       "  * height_above_ground3                                                      (height_above_ground3) float32 10.0 ...\n",
       "  * height_above_ground_layer1                                                (height_above_ground_layer1) float32 3000.0 ...\n",
       "  * pressure_difference_layer1                                                (pressure_difference_layer1) float32 12750.0 ...\n",
       "  * isobaric3                                                                 (isobaric3) float32 1000.0 ...\n",
       "  * pressure_difference_layer2                                                (pressure_difference_layer2) float32 9000.0 ...\n",
       "  * sigma_layer                                                               (sigma_layer) float32 0.58 ...\n",
       "  * height_above_ground4                                                      (height_above_ground4) float32 2.0 ...\n",
       "  * potential_vorticity_surface                                               (potential_vorticity_surface) float32 -2e-06 ...\n",
       "Dimensions without coordinates: depth_below_surface_layer_bounds_1, height_above_ground_layer1_bounds_1, height_above_ground_layer_bounds_1, pressure_difference_layer1_bounds_1, pressure_difference_layer2_bounds_1, pressure_difference_layer_bounds_1, sigma_layer_bounds_1, time_bounds_1\n",
       "Data variables:\n",
       "    LatLon_Projection                                                         int32 ...\n",
       "    time_bounds                                                               (time, time_bounds_1) datetime64[ns] ...\n",
       "    height_above_ground_layer_bounds                                          (height_above_ground_layer, height_above_ground_layer_bounds_1) float32 ...\n",
       "    depth_below_surface_layer_bounds                                          (depth_below_surface_layer, depth_below_surface_layer_bounds_1) float32 ...\n",
       "    pressure_difference_layer_bounds                                          (pressure_difference_layer, pressure_difference_layer_bounds_1) float32 ...\n",
       "    height_above_ground_layer1_bounds                                         (height_above_ground_layer1, height_above_ground_layer1_bounds_1) float32 ...\n",
       "    pressure_difference_layer1_bounds                                         (pressure_difference_layer1, pressure_difference_layer1_bounds_1) float32 ...\n",
       "    pressure_difference_layer2_bounds                                         (pressure_difference_layer2, pressure_difference_layer2_bounds_1) float32 ...\n",
       "    sigma_layer_bounds                                                        (sigma_layer, sigma_layer_bounds_1) float32 ...\n",
       "    Absolute_vorticity_isobaric                                               (time1, isobaric3, lat, lon) float32 ...\n",
       "    Albedo_surface_6_Hour_Average                                             (time, lat, lon) float32 ...\n",
       "    Apparent_temperature_height_above_ground                                  (time1, height_above_ground, lat, lon) float32 ...\n",
       "    Cloud_mixing_ratio_isobaric                                               (time1, isobaric2, lat, lon) float32 ...\n",
       "    Cloud_water_entire_atmosphere_single_layer                                (time1, lat, lon) float32 ...\n",
       "    Convective_available_potential_energy_surface                             (time1, lat, lon) float32 ...\n",
       "    Convective_available_potential_energy_pressure_difference_layer           (time1, pressure_difference_layer2, lat, lon) float32 ...\n",
       "    Convective_inhibition_surface                                             (time1, lat, lon) float32 ...\n",
       "    Convective_inhibition_pressure_difference_layer                           (time1, pressure_difference_layer2, lat, lon) float32 ...\n",
       "    Convective_precipitation_surface_6_Hour_Accumulation                      (time, lat, lon) float32 ...\n",
       "    Dewpoint_temperature_height_above_ground                                  (time1, height_above_ground, lat, lon) float32 ...\n",
       "    Geopotential_height_potential_vorticity_surface                           (time1, potential_vorticity_surface, lat, lon) float32 ...\n",
       "    Geopotential_height_surface                                               (time1, lat, lon) float32 ...\n",
       "    Geopotential_height_isobaric                                              (time1, isobaric3, lat, lon) float32 ...\n",
       "    Geopotential_height_zeroDegC_isotherm                                     (time1, lat, lon) float32 ...\n",
       "    Geopotential_height_maximum_wind                                          (time1, lat, lon) float32 ...\n",
       "    Geopotential_height_tropopause                                            (time1, lat, lon) float32 ...\n",
       "    Geopotential_height_highest_tropospheric_freezing                         (time1, lat, lon) float32 ...\n",
       "    Haines_index_surface                                                      (time1, lat, lon) float32 ...\n",
       "    ICAO_Standard_Atmosphere_Reference_Height_maximum_wind                    (time1, lat, lon) float32 ...\n",
       "    ICAO_Standard_Atmosphere_Reference_Height_tropopause                      (time1, lat, lon) float32 ...\n",
       "    Ice_cover_surface                                                         (time1, lat, lon) float32 ...\n",
       "    Land_cover_0__sea_1__land_surface                                         (time1, lat, lon) float32 ...\n",
       "    Latent_heat_net_flux_surface_6_Hour_Average                               (time, lat, lon) float32 ...\n",
       "    Maximum_temperature_height_above_ground_6_Hour_Maximum                    (time, height_above_ground, lat, lon) float32 ...\n",
       "    Minimum_temperature_height_above_ground_6_Hour_Minimum                    (time, height_above_ground, lat, lon) float32 ...\n",
       "    Momentum_flux_u-component_surface_6_Hour_Average                          (time, lat, lon) float32 ...\n",
       "    Momentum_flux_v-component_surface_6_Hour_Average                          (time, lat, lon) float32 ...\n",
       "    Per_cent_frozen_precipitation_surface                                     (time1, lat, lon) float32 ...\n",
       "    Potential_temperature_sigma                                               (time1, sigma, lat, lon) float32 ...\n",
       "    Precipitable_water_entire_atmosphere_single_layer                         (time1, lat, lon) float32 ...\n",
       "    Precipitation_rate_surface_6_Hour_Average                                 (time, lat, lon) float32 ...\n",
       "    Pressure_potential_vorticity_surface                                      (time1, potential_vorticity_surface, lat, lon) float32 ...\n",
       "    Pressure_convective_cloud_bottom                                          (time1, lat, lon) float32 ...\n",
       "    Pressure_low_cloud_bottom_6_Hour_Average                                  (time, lat, lon) float32 ...\n",
       "    Pressure_middle_cloud_bottom_6_Hour_Average                               (time, lat, lon) float32 ...\n",
       "    Pressure_high_cloud_bottom_6_Hour_Average                                 (time, lat, lon) float32 ...\n",
       "    Pressure_high_cloud_top_6_Hour_Average                                    (time, lat, lon) float32 ...\n",
       "    Pressure_convective_cloud_top                                             (time1, lat, lon) float32 ...\n",
       "    Pressure_low_cloud_top_6_Hour_Average                                     (time, lat, lon) float32 ...\n",
       "    Pressure_middle_cloud_top_6_Hour_Average                                  (time, lat, lon) float32 ...\n",
       "    Pressure_surface                                                          (time1, lat, lon) float32 ...\n",
       "    Pressure_maximum_wind                                                     (time1, lat, lon) float32 ...\n",
       "    Pressure_tropopause                                                       (time1, lat, lon) float32 ...\n",
       "    Pressure_height_above_ground                                              (time1, height_above_ground2, lat, lon) float32 ...\n",
       "    Pressure_reduced_to_MSL_msl                                               (time1, lat, lon) float32 ...\n",
       "    Relative_humidity_entire_atmosphere_single_layer                          (time1, lat, lon) float32 ...\n",
       "    Relative_humidity_highest_tropospheric_freezing                           (time1, lat, lon) float32 ...\n",
       "    Relative_humidity_pressure_difference_layer                               (time1, pressure_difference_layer, lat, lon) float32 ...\n",
       "    Relative_humidity_sigma_layer                                             (time1, sigma_layer, lat, lon) float32 ...\n",
       "    Relative_humidity_isobaric                                                (time1, isobaric3, lat, lon) float32 ...\n",
       "    Relative_humidity_zeroDegC_isotherm                                       (time1, lat, lon) float32 ...\n",
       "    Relative_humidity_height_above_ground                                     (time1, height_above_ground, lat, lon) float32 ...\n",
       "    Relative_humidity_sigma                                                   (time1, sigma, lat, lon) float32 ...\n",
       "    Sensible_heat_net_flux_surface_6_Hour_Average                             (time, lat, lon) float32 ...\n",
       "    Snow_depth_surface                                                        (time1, lat, lon) float32 ...\n",
       "    Soil_temperature_depth_below_surface_layer                                (time1, depth_below_surface_layer, lat, lon) float32 ...\n",
       "    Specific_humidity_pressure_difference_layer                               (time1, pressure_difference_layer, lat, lon) float32 ...\n",
       "    Specific_humidity_height_above_ground                                     (time1, height_above_ground1, lat, lon) float32 ...\n",
       "    Storm_relative_helicity_height_above_ground_layer                         (time1, height_above_ground_layer, lat, lon) float32 ...\n",
       "    Temperature_potential_vorticity_surface                                   (time1, potential_vorticity_surface, lat, lon) float32 ...\n",
       "    Temperature_low_cloud_top_6_Hour_Average                                  (time, lat, lon) float32 ...\n",
       "    Temperature_middle_cloud_top_6_Hour_Average                               (time, lat, lon) float32 ...\n",
       "    Temperature_high_cloud_top_6_Hour_Average                                 (time, lat, lon) float32 ...\n",
       "    Temperature_surface                                                       (time1, lat, lon) float32 ...\n",
       "    Temperature_pressure_difference_layer                                     (time1, pressure_difference_layer, lat, lon) float32 ...\n",
       "    Temperature_isobaric                                                      (time1, isobaric3, lat, lon) float32 ...\n",
       "    Temperature_maximum_wind                                                  (time1, lat, lon) float32 ...\n",
       "    Temperature_altitude_above_msl                                            (time1, altitude_above_msl, lat, lon) float32 ...\n",
       "    Temperature_height_above_ground                                           (time1, height_above_ground4, lat, lon) float32 ...\n",
       "    Temperature_tropopause                                                    (time1, lat, lon) float32 ...\n",
       "    Temperature_sigma                                                         (time1, sigma, lat, lon) float32 ...\n",
       "    Total_cloud_cover_entire_atmosphere_6_Hour_Average                        (time, lat, lon) float32 ...\n",
       "    Total_cloud_cover_low_cloud_6_Hour_Average                                (time, lat, lon) float32 ...\n",
       "    Total_cloud_cover_middle_cloud_6_Hour_Average                             (time, lat, lon) float32 ...\n",
       "    Total_cloud_cover_high_cloud_6_Hour_Average                               (time, lat, lon) float32 ...\n",
       "    Total_cloud_cover_convective_cloud                                        (time1, lat, lon) float32 ...\n",
       "    Total_cloud_cover_boundary_layer_cloud_6_Hour_Average                     (time, lat, lon) float32 ...\n",
       "    Total_ozone_entire_atmosphere_single_layer                                (time1, lat, lon) float32 ...\n",
       "    Total_precipitation_surface_6_Hour_Accumulation                           (time, lat, lon) float32 ...\n",
       "    Categorical_Rain_surface_6_Hour_Average                                   (time, lat, lon) float32 ...\n",
       "    Categorical_Freezing_Rain_surface_6_Hour_Average                          (time, lat, lon) float32 ...\n",
       "    Categorical_Ice_Pellets_surface_6_Hour_Average                            (time, lat, lon) float32 ...\n",
       "    Categorical_Snow_surface_6_Hour_Average                                   (time, lat, lon) float32 ...\n",
       "    Convective_Precipitation_Rate_surface_6_Hour_Average                      (time, lat, lon) float32 ...\n",
       "    Potential_Evaporation_Rate_surface                                        (time1, lat, lon) float32 ...\n",
       "    Ozone_Mixing_Ratio_isobaric                                               (time1, isobaric, lat, lon) float32 ...\n",
       "    Vertical_Speed_Shear_tropopause                                           (time1, lat, lon) float32 ...\n",
       "    Vertical_Speed_Shear_potential_vorticity_surface                          (time1, potential_vorticity_surface, lat, lon) float32 ...\n",
       "    U-Component_Storm_Motion_height_above_ground_layer                        (time1, height_above_ground_layer1, lat, lon) float32 ...\n",
       "    V-Component_Storm_Motion_height_above_ground_layer                        (time1, height_above_ground_layer1, lat, lon) float32 ...\n",
       "    Ventilation_Rate_planetary_boundary                                       (time1, lat, lon) float32 ...\n",
       "    MSLP_Eta_model_reduction_msl                                              (time1, lat, lon) float32 ...\n",
       "    5-Wave_Geopotential_Height_isobaric                                       (time1, isobaric1, lat, lon) float32 ...\n",
       "    Zonal_Flux_of_Gravity_Wave_Stress_surface_6_Hour_Average                  (time, lat, lon) float32 ...\n",
       "    Meridional_Flux_of_Gravity_Wave_Stress_surface_6_Hour_Average             (time, lat, lon) float32 ...\n",
       "    Planetary_Boundary_Layer_Height_surface                                   (time1, lat, lon) float32 ...\n",
       "    Pressure_of_level_from_which_parcel_was_lifted_pressure_difference_layer  (time1, pressure_difference_layer1, lat, lon) float32 ...\n",
       "    Downward_Short-Wave_Radiation_Flux_surface_6_Hour_Average                 (time, lat, lon) float32 ...\n",
       "    Upward_Short-Wave_Radiation_Flux_surface_6_Hour_Average                   (time, lat, lon) float32 ...\n",
       "    Upward_Short-Wave_Radiation_Flux_atmosphere_top_6_Hour_Average            (time, lat, lon) float32 ...\n",
       "    Downward_Long-Wave_Radp_Flux_surface_6_Hour_Average                       (time, lat, lon) float32 ...\n",
       "    Upward_Long-Wave_Radp_Flux_surface_6_Hour_Average                         (time, lat, lon) float32 ...\n",
       "    Upward_Long-Wave_Radp_Flux_atmosphere_top_6_Hour_Average                  (time, lat, lon) float32 ...\n",
       "    Cloud_Work_Function_entire_atmosphere_single_layer_6_Hour_Average         (time, lat, lon) float32 ...\n",
       "    Sunshine_Duration_surface                                                 (time1, lat, lon) float32 ...\n",
       "    Surface_Lifted_Index_surface                                              (time1, lat, lon) float32 ...\n",
       "    Best_4_layer_Lifted_Index_surface                                         (time1, lat, lon) float32 ...\n",
       "    Volumetric_Soil_Moisture_Content_depth_below_surface_layer                (time1, depth_below_surface_layer, lat, lon) float32 ...\n",
       "    Ground_Heat_Flux_surface_6_Hour_Average                                   (time, lat, lon) float32 ...\n",
       "    Wilting_Point_surface                                                     (time1, lat, lon) float32 ...\n",
       "    Field_Capacity_surface                                                    (time1, lat, lon) float32 ...\n",
       "    Vertical_velocity_pressure_isobaric                                       (time1, isobaric2, lat, lon) float32 ...\n",
       "    Vertical_velocity_pressure_sigma                                          (time1, sigma, lat, lon) float32 ...\n",
       "    Water_equivalent_of_accumulated_snow_depth_surface                        (time1, lat, lon) float32 ...\n",
       "    Water_runoff_surface_6_Hour_Accumulation                                  (time, lat, lon) float32 ...\n",
       "    Wind_speed_gust_surface                                                   (time1, lat, lon) float32 ...\n",
       "    u-component_of_wind_planetary_boundary                                    (time1, lat, lon) float32 ...\n",
       "    u-component_of_wind_potential_vorticity_surface                           (time1, potential_vorticity_surface, lat, lon) float32 ...\n",
       "    u-component_of_wind_pressure_difference_layer                             (time1, pressure_difference_layer, lat, lon) float32 ...\n",
       "    u-component_of_wind_isobaric                                              (time1, isobaric3, lat, lon) float32 ...\n",
       "    u-component_of_wind_maximum_wind                                          (time1, lat, lon) float32 ...\n",
       "    u-component_of_wind_altitude_above_msl                                    (time1, altitude_above_msl, lat, lon) float32 ...\n",
       "    u-component_of_wind_height_above_ground                                   (time1, height_above_ground3, lat, lon) float32 ...\n",
       "    u-component_of_wind_tropopause                                            (time1, lat, lon) float32 ...\n",
       "    u-component_of_wind_sigma                                                 (time1, sigma, lat, lon) float32 ...\n",
       "    v-component_of_wind_planetary_boundary                                    (time1, lat, lon) float32 ...\n",
       "    v-component_of_wind_potential_vorticity_surface                           (time1, potential_vorticity_surface, lat, lon) float32 ...\n",
       "    v-component_of_wind_pressure_difference_layer                             (time1, pressure_difference_layer, lat, lon) float32 ...\n",
       "    v-component_of_wind_isobaric                                              (time1, isobaric3, lat, lon) float32 ...\n",
       "    v-component_of_wind_maximum_wind                                          (time1, lat, lon) float32 ...\n",
       "    v-component_of_wind_altitude_above_msl                                    (time1, altitude_above_msl, lat, lon) float32 ...\n",
       "    v-component_of_wind_height_above_ground                                   (time1, height_above_ground3, lat, lon) float32 ...\n",
       "    v-component_of_wind_tropopause                                            (time1, lat, lon) float32 ...\n",
       "    v-component_of_wind_sigma                                                 (time1, sigma, lat, lon) float32 ...\n",
       "Attributes:\n",
       "    Originating_or_generating_Center:                                        ...\n",
       "    Originating_or_generating_Subcenter:                                     ...\n",
       "    GRIB_table_version:                                                      ...\n",
       "    Type_of_generating_process:                                              ...\n",
       "    Analysis_or_forecast_generating_process_identifier_defined_by_originating...\n",
       "    file_format:                                                             ...\n",
       "    Conventions:                                                             ...\n",
       "    history:                                                                 ...\n",
       "    featureType:                                                             ..."
      ]
     },
     "execution_count": 4,
     "metadata": {},
     "output_type": "execute_result"
    }
   ],
   "source": [
    "gfs_ds"
   ]
  },
  {
   "cell_type": "code",
   "execution_count": 5,
   "metadata": {
    "collapsed": true
   },
   "outputs": [],
   "source": [
    "u_wind = gfs_ds.__getitem__('u-component_of_wind_height_above_ground')\n",
    "v_wind = gfs_ds.__getitem__('v-component_of_wind_height_above_ground')"
   ]
  },
  {
   "cell_type": "code",
   "execution_count": 6,
   "metadata": {},
   "outputs": [
    {
     "data": {
      "text/plain": [
       "('time1', 'height_above_ground3', 'lat', 'lon')"
      ]
     },
     "execution_count": 6,
     "metadata": {},
     "output_type": "execute_result"
    }
   ],
   "source": [
    "u_wind.dims"
   ]
  },
  {
   "cell_type": "markdown",
   "metadata": {},
   "source": [
    "## NOMADS RTOFS"
   ]
  },
  {
   "cell_type": "markdown",
   "metadata": {},
   "source": [
    "- 1 hour"
   ]
  },
  {
   "cell_type": "markdown",
   "metadata": {},
   "source": [
    "http://polar.ncep.noaa.gov/mmab/papers/tn284/v211p211.pdf"
   ]
  },
  {
   "cell_type": "markdown",
   "metadata": {},
   "source": [
    "https://data.nodc.noaa.gov/thredds/catalog/ncep/rtofs/catalog.html"
   ]
  },
  {
   "cell_type": "code",
   "execution_count": 7,
   "metadata": {
    "collapsed": true
   },
   "outputs": [],
   "source": [
    "rotfs_url = 'https://data.nodc.noaa.gov/thredds/dodsC/ncep/rtofs/2015/201512/ofs.20151231/surface/ofs_atl.t00z.n000.20151231.grb.grib2'"
   ]
  },
  {
   "cell_type": "code",
   "execution_count": 8,
   "metadata": {
    "collapsed": true
   },
   "outputs": [],
   "source": [
    "rotfs_ds = xr.open_dataset(rotfs_url)"
   ]
  },
  {
   "cell_type": "code",
   "execution_count": 9,
   "metadata": {},
   "outputs": [
    {
     "data": {
      "text/plain": [
       "<xarray.Dataset>\n",
       "Dimensions:                                    (bounds_dim: 2, hybrid_layer: 1, time: 1, x: 1200, y: 1684)\n",
       "Coordinates:\n",
       "    Longitude_of_V_Wind_Component_of_Velocity  (y, x) float32 ...\n",
       "    Latitude_of_V_Wind_Component_of_Velocity   (y, x) float32 ...\n",
       "    Latitude_of_U_Wind_Component_of_Velocity   (y, x) float32 ...\n",
       "    Longitude_of_U_Wind_Component_of_Velocity  (y, x) float32 ...\n",
       "    Longitude_of_Pressure_Point                (y, x) float32 ...\n",
       "    Latitude_of_Pressure_Point                 (y, x) float32 ...\n",
       "  * time                                       (time) datetime64[ns] 2015-12-31\n",
       "  * hybrid_layer                               (hybrid_layer) float64 1.5\n",
       "Dimensions without coordinates: bounds_dim, x, y\n",
       "Data variables:\n",
       "    V-component_of_current                     (time, hybrid_layer, y, x) float32 ...\n",
       "    U-component_of_current                     (time, hybrid_layer, y, x) float32 ...\n",
       "    Barotropic_U_velocity                      (time, y, x) float32 ...\n",
       "    Sea_Surface_Height_Relative_to_Geoid       (time, y, x) float32 ...\n",
       "    Montgomery_stream_function                 (time, y, x) float32 ...\n",
       "    Barotropic_V_velocity                      (time, y, x) float32 ...\n",
       "    N3-D_Salinity                              (time, hybrid_layer, y, x) float32 ...\n",
       "    mixed_layer_depth                          (time, y, x) float32 ...\n",
       "    N3-D_Temperature                           (time, hybrid_layer, y, x) float32 ...\n",
       "    Curvilinear_Orthogonal                     |S64 ...\n",
       "    hybrid_layer_bounds                        (hybrid_layer, bounds_dim) float64 ...\n",
       "Attributes:\n",
       "    Conventions:              CF-1.4\n",
       "    Originating_center:       US National Weather Service - NCEP(WMC) (7)\n",
       "    Generating_Model:         HYCOM - North Pacific basin\n",
       "    Product_Status:           Operational products\n",
       "    Product_Type:             Forecast products\n",
       "    title:                    US National Weather Service - NCEP(WMC) HYCOM -...\n",
       "    institution:              Center US National Weather Service - NCEP(WMC) (7)\n",
       "    source:                   Type: Forecast products Status: Operational pro...\n",
       "    history:                  Direct read of GRIB-2 into NetCDF-Java 4 API\n",
       "    CF%3afeature_type:        GRID\n",
       "    file_format:              GRIB-2\n",
       "    location:                 /sites/data.nodc/htdocs/ncep/rtofs/2015/201512/...\n",
       "    _CoordinateModelRunDate:  2015-12-31T00:00:00Z\n",
       "    DODS.strlen:              0"
      ]
     },
     "execution_count": 9,
     "metadata": {},
     "output_type": "execute_result"
    }
   ],
   "source": [
    "rotfs_ds"
   ]
  },
  {
   "cell_type": "code",
   "execution_count": 10,
   "metadata": {},
   "outputs": [
    {
     "data": {
      "text/plain": [
       "<xarray.DataArray 'Longitude_of_U_Wind_Component_of_Velocity' (y: 1684, x: 1200)>\n",
       "[2020800 values with dtype=float32]\n",
       "Coordinates:\n",
       "    Longitude_of_V_Wind_Component_of_Velocity  (y, x) float32 ...\n",
       "    Latitude_of_V_Wind_Component_of_Velocity   (y, x) float32 ...\n",
       "    Latitude_of_U_Wind_Component_of_Velocity   (y, x) float32 ...\n",
       "    Longitude_of_U_Wind_Component_of_Velocity  (y, x) float32 ...\n",
       "    Longitude_of_Pressure_Point                (y, x) float32 ...\n",
       "    Latitude_of_Pressure_Point                 (y, x) float32 ...\n",
       "Dimensions without coordinates: y, x\n",
       "Attributes:\n",
       "    units:                                  degrees_east\n",
       "    long_name:                              longitude coordinate\n",
       "    grid_mapping:                           Curvilinear_Orthogonal\n",
       "    GRIB_param_discipline:                  Meteorological_products\n",
       "    GRIB_param_category:                    Momentum\n",
       "    GRIB_param_name:                        Longitude_of_U_Wind_Component_of_...\n",
       "    GRIB_generating_process_type:           Forecast\n",
       "    GRIB_param_id:                          [  2   0   2 199]\n",
       "    GRIB_product_definition_template:       0\n",
       "    GRIB_product_definition_template_desc:  Analysis/forecast at horizontal l...\n",
       "    GRIB_level_type:                        1\n",
       "    GRIB_level_type_name:                   surface\n",
       "    GRIB_VectorComponentFlag:               gridRelative\n",
       "    standard_name:                          longitude\n",
       "    _CoordinateAxisType:                    Lon"
      ]
     },
     "execution_count": 10,
     "metadata": {},
     "output_type": "execute_result"
    }
   ],
   "source": [
    "rotfs_ds.Longitude_of_U_Wind_Component_of_Velocity"
   ]
  },
  {
   "cell_type": "code",
   "execution_count": 11,
   "metadata": {
    "collapsed": true
   },
   "outputs": [],
   "source": [
    "v_current = rotfs_ds.__getitem__('V-component_of_current')\n",
    "u_current = rotfs_ds.__getitem__('U-component_of_current')\n",
    "n3d_temperature = rotfs_ds.__getitem__('N3-D_Temperature')"
   ]
  },
  {
   "cell_type": "code",
   "execution_count": 12,
   "metadata": {},
   "outputs": [
    {
     "data": {
      "text/plain": [
       "('time', 'hybrid_layer', 'y', 'x')"
      ]
     },
     "execution_count": 12,
     "metadata": {},
     "output_type": "execute_result"
    }
   ],
   "source": [
    "v_current.dims"
   ]
  },
  {
   "cell_type": "code",
   "execution_count": 13,
   "metadata": {},
   "outputs": [
    {
     "data": {
      "text/plain": [
       "('time', 'hybrid_layer', 'y', 'x')"
      ]
     },
     "execution_count": 13,
     "metadata": {},
     "output_type": "execute_result"
    }
   ],
   "source": [
    "n3d_temperature.dims"
   ]
  },
  {
   "cell_type": "markdown",
   "metadata": {},
   "source": [
    "### Convert lon, lat to x, y"
   ]
  },
  {
   "cell_type": "code",
   "execution_count": null,
   "metadata": {
    "collapsed": true
   },
   "outputs": [],
   "source": []
  },
  {
   "cell_type": "markdown",
   "metadata": {},
   "source": [
    "### Old Examples"
   ]
  },
  {
   "cell_type": "code",
   "execution_count": null,
   "metadata": {
    "collapsed": true
   },
   "outputs": [],
   "source": [
    "ds = xr.open_dataset('http://nomads.ncep.noaa.gov:9090/dods/rtofs/rtofs_global20180111/rtofs_glo_2ds_forecast_3hrly_diag',\n",
    "                       chunks={'lat':400, 'lon':400, 'time':10})"
   ]
  },
  {
   "cell_type": "code",
   "execution_count": null,
   "metadata": {
    "collapsed": true
   },
   "outputs": [],
   "source": [
    "ds"
   ]
  },
  {
   "cell_type": "code",
   "execution_count": null,
   "metadata": {
    "collapsed": true
   },
   "outputs": [],
   "source": [
    "ds.ssh.isel(time=0).plot()"
   ]
  },
  {
   "cell_type": "code",
   "execution_count": null,
   "metadata": {
    "collapsed": true
   },
   "outputs": [],
   "source": []
  },
  {
   "cell_type": "markdown",
   "metadata": {},
   "source": [
    "## Local Files"
   ]
  },
  {
   "cell_type": "code",
   "execution_count": 15,
   "metadata": {
    "collapsed": true
   },
   "outputs": [],
   "source": [
    "import netCDF4 as nc"
   ]
  },
  {
   "cell_type": "code",
   "execution_count": 17,
   "metadata": {},
   "outputs": [
    {
     "name": "stdout",
     "output_type": "stream",
     "text": [
      "Help on class Dataset in module netCDF4._netCDF4:\n",
      "\n",
      "class Dataset(builtins.object)\n",
      " |  A netCDF `netCDF4.Dataset` is a collection of dimensions, groups, variables and\n",
      " |  attributes. Together they describe the meaning of data and relations among\n",
      " |  data fields stored in a netCDF file. See `netCDF4.Dataset.__init__` for more\n",
      " |  details.\n",
      " |  \n",
      " |  A list of attribute names corresponding to global netCDF attributes\n",
      " |  defined for the `netCDF4.Dataset` can be obtained with the\n",
      " |  `netCDF4.Dataset.ncattrs` method.\n",
      " |  These attributes can be created by assigning to an attribute of the\n",
      " |  `netCDF4.Dataset` instance. A dictionary containing all the netCDF attribute\n",
      " |  name/value pairs is provided by the `__dict__` attribute of a\n",
      " |  `netCDF4.Dataset` instance.\n",
      " |  \n",
      " |  The following class variables are read-only and should not be\n",
      " |  modified by the user.\n",
      " |  \n",
      " |  **`dimensions`**: The `dimensions` dictionary maps the names of\n",
      " |  dimensions defined for the `netCDF4.Group` or `netCDF4.Dataset` to instances of the\n",
      " |  `netCDF4.Dimension` class.\n",
      " |  \n",
      " |  **`variables`**: The `variables` dictionary maps the names of variables\n",
      " |  defined for this `netCDF4.Dataset` or `netCDF4.Group` to instances of the \n",
      " |  `netCDF4.Variable` class.\n",
      " |  \n",
      " |  **`groups`**: The groups dictionary maps the names of groups created for\n",
      " |  this `netCDF4.Dataset` or `netCDF4.Group` to instances of the `netCDF4.Group` class (the\n",
      " |  `netCDF4.Dataset` class is simply a special case of the `netCDF4.Group` class which\n",
      " |  describes the root group in the netCDF4 file).\n",
      " |  \n",
      " |  **`cmptypes`**: The `cmptypes` dictionary maps the names of\n",
      " |  compound types defined for the `netCDF4.Group` or `netCDF4.Dataset` to instances of the\n",
      " |  `netCDF4.CompoundType` class.\n",
      " |  \n",
      " |  **`vltypes`**: The `vltypes` dictionary maps the names of\n",
      " |  variable-length types defined for the `netCDF4.Group` or `netCDF4.Dataset` to instances \n",
      " |  of the `netCDF4.VLType` class.\n",
      " |  \n",
      " |  **`enumtypes`**: The `enumtypes` dictionary maps the names of\n",
      " |  Enum types defined for the `netCDF4.Group` or `netCDF4.Dataset` to instances \n",
      " |  of the `netCDF4.EnumType` class.\n",
      " |  \n",
      " |  **`data_model`**: `data_model` describes the netCDF\n",
      " |  data model version, one of `NETCDF3_CLASSIC`, `NETCDF4`,\n",
      " |  `NETCDF4_CLASSIC`, `NETCDF3_64BIT_OFFSET` or `NETCDF3_64BIT_DATA`.\n",
      " |  \n",
      " |  **`file_format`**: same as `data_model`, retained for backwards compatibility.\n",
      " |  \n",
      " |  **`disk_format`**: `disk_format` describes the underlying\n",
      " |  file format, one of `NETCDF3`, `HDF5`, `HDF4`,\n",
      " |  `PNETCDF`, `DAP2`, `DAP4` or `UNDEFINED`. Only available if using\n",
      " |  netcdf C library version >= 4.3.1, otherwise will always return\n",
      " |  `UNDEFINED`.\n",
      " |  \n",
      " |  **`parent`**: `parent` is a reference to the parent\n",
      " |  `netCDF4.Group` instance. `None` for the root group or `netCDF4.Dataset`\n",
      " |  instance.\n",
      " |  \n",
      " |  **`path`**: `path` shows the location of the `netCDF4.Group` in\n",
      " |  the `netCDF4.Dataset` in a unix directory format (the names of groups in the\n",
      " |  hierarchy separated by backslashes). A `netCDF4.Dataset` instance is the root\n",
      " |  group, so the path is simply `'/'`.\n",
      " |  \n",
      " |  **`keepweakref`**: If `True`, child Dimension and Variables objects only keep weak \n",
      " |  references to the parent Dataset or Group.\n",
      " |  \n",
      " |  Methods defined here:\n",
      " |  \n",
      " |  __delattr__(self, name, /)\n",
      " |      Implement delattr(self, name).\n",
      " |  \n",
      " |  __enter__(...)\n",
      " |  \n",
      " |  __exit__(...)\n",
      " |  \n",
      " |  __getattr__(...)\n",
      " |  \n",
      " |  __getattribute__(self, name, /)\n",
      " |      Return getattr(self, name).\n",
      " |  \n",
      " |  __getitem__(self, key, /)\n",
      " |      Return self[key].\n",
      " |  \n",
      " |  __init__(...)\n",
      " |      **`__init__(self, filename, mode=\"r\", clobber=True, diskless=False,\n",
      " |      persist=False, keepweakref=False, format='NETCDF4')`**\n",
      " |      \n",
      " |      `netCDF4.Dataset` constructor.\n",
      " |      \n",
      " |      **`filename`**: Name of netCDF file to hold dataset. Can also\n",
      " |      be a python 3 pathlib instance or the URL of an OpenDAP dataset.  When memory is\n",
      " |      set this is just used to set the `filepath()`.\n",
      " |      \n",
      " |      **`mode`**: access mode. `r` means read-only; no data can be\n",
      " |      modified. `w` means write; a new file is created, an existing file with\n",
      " |      the same name is deleted. `a` and `r+` mean append (in analogy with\n",
      " |      serial files); an existing file is opened for reading and writing.\n",
      " |      Appending `s` to modes `w`, `r+` or `a` will enable unbuffered shared\n",
      " |      access to `NETCDF3_CLASSIC`, `NETCDF3_64BIT_OFFSET` or\n",
      " |      `NETCDF3_64BIT_DATA` formatted files.\n",
      " |      Unbuffered access may be useful even if you don't need shared\n",
      " |      access, since it may be faster for programs that don't access data\n",
      " |      sequentially. This option is ignored for `NETCDF4` and `NETCDF4_CLASSIC`\n",
      " |      formatted files.\n",
      " |      \n",
      " |      **`clobber`**: if `True` (default), opening a file with `mode='w'`\n",
      " |      will clobber an existing file with the same name.  if `False`, an\n",
      " |      exception will be raised if a file with the same name already exists.\n",
      " |      \n",
      " |      **`format`**: underlying file format (one of `'NETCDF4',\n",
      " |      'NETCDF4_CLASSIC', 'NETCDF3_CLASSIC'`, `'NETCDF3_64BIT_OFFSET'` or\n",
      " |      `'NETCDF3_64BIT_DATA'`.\n",
      " |      Only relevant if `mode = 'w'` (if `mode = 'r','a'` or `'r+'` the file format\n",
      " |      is automatically detected). Default `'NETCDF4'`, which means the data is\n",
      " |      stored in an HDF5 file, using netCDF 4 API features.  Setting\n",
      " |      `format='NETCDF4_CLASSIC'` will create an HDF5 file, using only netCDF 3\n",
      " |      compatible API features. netCDF 3 clients must be recompiled and linked\n",
      " |      against the netCDF 4 library to read files in `NETCDF4_CLASSIC` format.\n",
      " |      `'NETCDF3_CLASSIC'` is the classic netCDF 3 file format that does not\n",
      " |      handle 2+ Gb files. `'NETCDF3_64BIT_OFFSET'` is the 64-bit offset\n",
      " |      version of the netCDF 3 file format, which fully supports 2+ GB files, but\n",
      " |      is only compatible with clients linked against netCDF version 3.6.0 or\n",
      " |      later. `'NETCDF3_64BIT_DATA'` is the 64-bit data version of the netCDF 3\n",
      " |      file format, which supports 64-bit dimension sizes plus unsigned and\n",
      " |      64 bit integer data types, but is only compatible with clients linked against\n",
      " |      netCDF version 4.4.0 or later.\n",
      " |      \n",
      " |      **`diskless`**: If `True`, create diskless (in memory) file.  \n",
      " |      This is an experimental feature added to the C library after the\n",
      " |      netcdf-4.2 release.\n",
      " |      \n",
      " |      **`persist`**: if `diskless=True`, persist file to disk when closed\n",
      " |      (default `False`).\n",
      " |      \n",
      " |      **`keepweakref`**: if `True`, child Dimension and Variable instances will keep weak\n",
      " |      references to the parent Dataset or Group object.  Default is `False`, which\n",
      " |      means strong references will be kept.  Having Dimension and Variable instances\n",
      " |      keep a strong reference to the parent Dataset instance, which in turn keeps a\n",
      " |      reference to child Dimension and Variable instances, creates circular references.\n",
      " |      Circular references complicate garbage collection, which may mean increased\n",
      " |      memory usage for programs that create may Dataset instances with lots of\n",
      " |      Variables. It also will result in the Dataset object never being deleted, which\n",
      " |      means it may keep open files alive as well. Setting `keepweakref=True` allows\n",
      " |      Dataset instances to be garbage collected as soon as they go out of scope, potentially\n",
      " |      reducing memory usage and open file handles.  However, in many cases this is not\n",
      " |      desirable, since the associated Variable instances may still be needed, but are\n",
      " |      rendered unusable when the parent Dataset instance is garbage collected.\n",
      " |      \n",
      " |      **`memory`**: if not `None`, open file with contents taken from this block of memory.\n",
      " |      Must be a sequence of bytes.  Note this only works with \"r\" mode.\n",
      " |      \n",
      " |      **`encoding`**: encoding used to encode filename string into bytes.\n",
      " |      Default is None (`sys.getdefaultfileencoding()` is used).\n",
      " |      \n",
      " |      **`parallel`**: open for parallel access using MPI (requires mpi4py and\n",
      " |      parallel-enabled netcdf-c and hdf5 libraries).  Default is `False`. If\n",
      " |      `True`, `comm` and `info` kwargs may also be specified.\n",
      " |      \n",
      " |      **`comm`**: MPI_Comm object for parallel access. Default `None`, which\n",
      " |      means MPI_COMM_WORLD will be used.  Ignored if `parallel=False`.\n",
      " |      \n",
      " |      **`info`**: MPI_Info object for parallel access. Default `None`, which\n",
      " |      means MPI_INFO_NULL will be used.  Ignored if `parallel=False`.\n",
      " |  \n",
      " |  __new__(*args, **kwargs) from builtins.type\n",
      " |      Create and return a new object.  See help(type) for accurate signature.\n",
      " |  \n",
      " |  __reduce__(...)\n",
      " |      helper for pickle\n",
      " |  \n",
      " |  __repr__(self, /)\n",
      " |      Return repr(self).\n",
      " |  \n",
      " |  __setattr__(self, name, value, /)\n",
      " |      Implement setattr(self, name, value).\n",
      " |  \n",
      " |  __unicode__(...)\n",
      " |  \n",
      " |  close(...)\n",
      " |      **`close(self)`**\n",
      " |      \n",
      " |      Close the Dataset.\n",
      " |  \n",
      " |  createCompoundType(...)\n",
      " |      **`createCompoundType(self, datatype, datatype_name)`**\n",
      " |      \n",
      " |      Creates a new compound data type named `datatype_name` from the numpy\n",
      " |      dtype object `datatype`.\n",
      " |      \n",
      " |      ***Note***: If the new compound data type contains other compound data types\n",
      " |      (i.e. it is a 'nested' compound type, where not all of the elements\n",
      " |      are homogeneous numeric data types), then the 'inner' compound types **must** be\n",
      " |      created first.\n",
      " |      \n",
      " |      The return value is the `netCDF4.CompoundType` class instance describing the new\n",
      " |      datatype.\n",
      " |  \n",
      " |  createDimension(...)\n",
      " |      **`createDimension(self, dimname, size=None)`**\n",
      " |      \n",
      " |      Creates a new dimension with the given `dimname` and `size`.\n",
      " |      \n",
      " |      `size` must be a positive integer or `None`, which stands for\n",
      " |      \"unlimited\" (default is `None`). Specifying a size of 0 also\n",
      " |      results in an unlimited dimension. The return value is the `netCDF4.Dimension`\n",
      " |      class instance describing the new dimension.  To determine the current\n",
      " |      maximum size of the dimension, use the `len` function on the `netCDF4.Dimension`\n",
      " |      instance. To determine if a dimension is 'unlimited', use the\n",
      " |      `netCDF4.Dimension.isunlimited` method of the `netCDF4.Dimension` instance.\n",
      " |  \n",
      " |  createEnumType(...)\n",
      " |      **`createEnumType(self, datatype, datatype_name, enum_dict)`**\n",
      " |      \n",
      " |      Creates a new Enum data type named `datatype_name` from a numpy\n",
      " |      integer dtype object `datatype`, and a python dictionary\n",
      " |      defining the enum fields and values.\n",
      " |      \n",
      " |      The return value is the `netCDF4.EnumType` class instance describing the new\n",
      " |      datatype.\n",
      " |  \n",
      " |  createGroup(...)\n",
      " |      **`createGroup(self, groupname)`**\n",
      " |      \n",
      " |      Creates a new `netCDF4.Group` with the given `groupname`.\n",
      " |      \n",
      " |      If `groupname` is specified as a path, using forward slashes as in unix to\n",
      " |      separate components, then intermediate groups will be created as necessary \n",
      " |      (analogous to `mkdir -p` in unix).  For example,\n",
      " |      `createGroup('/GroupA/GroupB/GroupC')` will create `GroupA`,\n",
      " |      `GroupA/GroupB`, and `GroupA/GroupB/GroupC`, if they don't already exist.\n",
      " |      If the specified path describes a group that already exists, no error is\n",
      " |      raised.\n",
      " |      \n",
      " |      The return value is a `netCDF4.Group` class instance.\n",
      " |  \n",
      " |  createVLType(...)\n",
      " |      **`createVLType(self, datatype, datatype_name)`**\n",
      " |      \n",
      " |      Creates a new VLEN data type named `datatype_name` from a numpy\n",
      " |      dtype object `datatype`.\n",
      " |      \n",
      " |      The return value is the `netCDF4.VLType` class instance describing the new\n",
      " |      datatype.\n",
      " |  \n",
      " |  createVariable(...)\n",
      " |      **`createVariable(self, varname, datatype, dimensions=(), zlib=False,\n",
      " |      complevel=4, shuffle=True, fletcher32=False, contiguous=False, chunksizes=None,\n",
      " |      endian='native', least_significant_digit=None, fill_value=None)`**\n",
      " |      \n",
      " |      Creates a new variable with the given `varname`, `datatype`, and\n",
      " |      `dimensions`. If dimensions are not given, the variable is assumed to be\n",
      " |      a scalar.\n",
      " |      \n",
      " |      If `varname` is specified as a path, using forward slashes as in unix to\n",
      " |      separate components, then intermediate groups will be created as necessary \n",
      " |      For example, `createVariable('/GroupA/GroupB/VarC', float, ('x','y'))` will create groups `GroupA`\n",
      " |      and `GroupA/GroupB`, plus the variable `GroupA/GroupB/VarC`, if the preceding\n",
      " |      groups don't already exist.\n",
      " |      \n",
      " |      The `datatype` can be a numpy datatype object, or a string that describes\n",
      " |      a numpy dtype object (like the `dtype.str` attribute of a numpy array).\n",
      " |      Supported specifiers include: `'S1' or 'c' (NC_CHAR), 'i1' or 'b' or 'B'\n",
      " |      (NC_BYTE), 'u1' (NC_UBYTE), 'i2' or 'h' or 's' (NC_SHORT), 'u2'\n",
      " |      (NC_USHORT), 'i4' or 'i' or 'l' (NC_INT), 'u4' (NC_UINT), 'i8' (NC_INT64),\n",
      " |      'u8' (NC_UINT64), 'f4' or 'f' (NC_FLOAT), 'f8' or 'd' (NC_DOUBLE)`.\n",
      " |      `datatype` can also be a `netCDF4.CompoundType` instance\n",
      " |      (for a structured, or compound array), a `netCDF4.VLType` instance\n",
      " |      (for a variable-length array), or the python `str` builtin\n",
      " |      (for a variable-length string array). Numpy string and unicode datatypes with\n",
      " |      length greater than one are aliases for `str`.\n",
      " |      \n",
      " |      Data from netCDF variables is presented to python as numpy arrays with\n",
      " |      the corresponding data type.\n",
      " |      \n",
      " |      `dimensions` must be a tuple containing dimension names (strings) that\n",
      " |      have been defined previously using `netCDF4.Dataset.createDimension`. The default value\n",
      " |      is an empty tuple, which means the variable is a scalar.\n",
      " |      \n",
      " |      If the optional keyword `zlib` is `True`, the data will be compressed in\n",
      " |      the netCDF file using gzip compression (default `False`).\n",
      " |      \n",
      " |      The optional keyword `complevel` is an integer between 1 and 9 describing\n",
      " |      the level of compression desired (default 4). Ignored if `zlib=False`.\n",
      " |      \n",
      " |      If the optional keyword `shuffle` is `True`, the HDF5 shuffle filter\n",
      " |      will be applied before compressing the data (default `True`).  This\n",
      " |      significantly improves compression. Default is `True`. Ignored if\n",
      " |      `zlib=False`.\n",
      " |      \n",
      " |      If the optional keyword `fletcher32` is `True`, the Fletcher32 HDF5\n",
      " |      checksum algorithm is activated to detect errors. Default `False`.\n",
      " |      \n",
      " |      If the optional keyword `contiguous` is `True`, the variable data is\n",
      " |      stored contiguously on disk.  Default `False`. Setting to `True` for\n",
      " |      a variable with an unlimited dimension will trigger an error.\n",
      " |      \n",
      " |      The optional keyword `chunksizes` can be used to manually specify the\n",
      " |      HDF5 chunksizes for each dimension of the variable. A detailed\n",
      " |      discussion of HDF chunking and I/O performance is available\n",
      " |      [here](http://www.hdfgroup.org/HDF5/doc/H5.user/Chunking.html).\n",
      " |      Basically, you want the chunk size for each dimension to match as\n",
      " |      closely as possible the size of the data block that users will read\n",
      " |      from the file.  `chunksizes` cannot be set if `contiguous=True`.\n",
      " |      \n",
      " |      The optional keyword `endian` can be used to control whether the\n",
      " |      data is stored in little or big endian format on disk. Possible\n",
      " |      values are `little, big` or `native` (default). The library\n",
      " |      will automatically handle endian conversions when the data is read,\n",
      " |      but if the data is always going to be read on a computer with the\n",
      " |      opposite format as the one used to create the file, there may be\n",
      " |      some performance advantage to be gained by setting the endian-ness.\n",
      " |      \n",
      " |      The `zlib, complevel, shuffle, fletcher32, contiguous, chunksizes` and `endian`\n",
      " |      keywords are silently ignored for netCDF 3 files that do not use HDF5.\n",
      " |      \n",
      " |      The optional keyword `fill_value` can be used to override the default\n",
      " |      netCDF `_FillValue` (the value that the variable gets filled with before\n",
      " |      any data is written to it, defaults given in `netCDF4.default_fillvals`).\n",
      " |      If fill_value is set to `False`, then the variable is not pre-filled.\n",
      " |      \n",
      " |      If the optional keyword parameter `least_significant_digit` is\n",
      " |      specified, variable data will be truncated (quantized). In conjunction\n",
      " |      with `zlib=True` this produces 'lossy', but significantly more\n",
      " |      efficient compression. For example, if `least_significant_digit=1`,\n",
      " |      data will be quantized using `numpy.around(scale*data)/scale`, where\n",
      " |      scale = 2**bits, and bits is determined so that a precision of 0.1 is\n",
      " |      retained (in this case bits=4). From the \n",
      " |      [PSD metadata conventions](http://www.esrl.noaa.gov/psd/data/gridded/conventions/cdc_netcdf_standard.shtml):\n",
      " |      \"least_significant_digit -- power of ten of the smallest decimal place\n",
      " |      in unpacked data that is a reliable value.\" Default is `None`, or no\n",
      " |      quantization, or 'lossless' compression.\n",
      " |      \n",
      " |      When creating variables in a `NETCDF4` or `NETCDF4_CLASSIC` formatted file,\n",
      " |      HDF5 creates something called a 'chunk cache' for each variable.  The\n",
      " |      default size of the chunk cache may be large enough to completely fill\n",
      " |      available memory when creating thousands of variables.  The optional\n",
      " |      keyword `chunk_cache` allows you to reduce (or increase) the size of\n",
      " |      the default chunk cache when creating a variable.  The setting only\n",
      " |      persists as long as the Dataset is open - you can use the set_var_chunk_cache\n",
      " |      method to change it the next time the Dataset is opened.\n",
      " |      Warning - messing with this parameter can seriously degrade performance.\n",
      " |      \n",
      " |      The return value is the `netCDF4.Variable` class instance describing the new\n",
      " |      variable.\n",
      " |      \n",
      " |      A list of names corresponding to netCDF variable attributes can be\n",
      " |      obtained with the `netCDF4.Variable` method `netCDF4.Variable.ncattrs`. A dictionary\n",
      " |      containing all the netCDF attribute name/value pairs is provided by\n",
      " |      the `__dict__` attribute of a `netCDF4.Variable` instance.\n",
      " |      \n",
      " |      `netCDF4.Variable` instances behave much like array objects. Data can be\n",
      " |      assigned to or retrieved from a variable with indexing and slicing\n",
      " |      operations on the `netCDF4.Variable` instance. A `netCDF4.Variable` instance has six\n",
      " |      Dataset standard attributes: `dimensions, dtype, shape, ndim, name` and\n",
      " |      `least_significant_digit`. Application programs should never modify\n",
      " |      these attributes. The `dimensions` attribute is a tuple containing the\n",
      " |      names of the dimensions associated with this variable. The `dtype`\n",
      " |      attribute is a string describing the variable's data type (`i4, f8,\n",
      " |      S1,` etc). The `shape` attribute is a tuple describing the current\n",
      " |      sizes of all the variable's dimensions. The `name` attribute is a\n",
      " |      string containing the name of the Variable instance.\n",
      " |      The `least_significant_digit`\n",
      " |      attributes describes the power of ten of the smallest decimal place in\n",
      " |      the data the contains a reliable value.  assigned to the `netCDF4.Variable`\n",
      " |      instance. If `None`, the data is not truncated. The `ndim` attribute\n",
      " |      is the number of variable dimensions.\n",
      " |  \n",
      " |  delncattr(...)\n",
      " |      **`delncattr(self,name,value)`**\n",
      " |      \n",
      " |      delete a netCDF dataset or group attribute.  Use if you need to delete a\n",
      " |      netCDF attribute with the same name as one of the reserved python\n",
      " |      attributes.\n",
      " |  \n",
      " |  filepath(...)\n",
      " |      **`filepath(self,encoding=None)`**\n",
      " |      \n",
      " |      Get the file system path (or the opendap URL) which was used to\n",
      " |      open/create the Dataset. Requires netcdf >= 4.1.2.  The path\n",
      " |      is decoded into a string using `sys.getfilesystemencoding()` by default, this can be\n",
      " |      changed using the `encoding` kwarg.\n",
      " |  \n",
      " |  get_variables_by_attributes(...)\n",
      " |      **`get_variables_by_attribute(self, **kwargs)`**\n",
      " |      \n",
      " |      Returns a list of variables that match specific conditions.\n",
      " |      \n",
      " |      Can pass in key=value parameters and variables are returned that\n",
      " |      contain all of the matches. For example, \n",
      " |      \n",
      " |          :::python\n",
      " |          >>> # Get variables with x-axis attribute.\n",
      " |          >>> vs = nc.get_variables_by_attributes(axis='X')\n",
      " |          >>> # Get variables with matching \"standard_name\" attribute\n",
      " |          >>> vs = nc.get_variables_by_attributes(standard_name='northward_sea_water_velocity')\n",
      " |      \n",
      " |      Can pass in key=callable parameter and variables are returned if the\n",
      " |      callable returns True.  The callable should accept a single parameter,\n",
      " |      the attribute value.  None is given as the attribute value when the\n",
      " |      attribute does not exist on the variable. For example,\n",
      " |      \n",
      " |          :::python\n",
      " |          >>> # Get Axis variables\n",
      " |          >>> vs = nc.get_variables_by_attributes(axis=lambda v: v in ['X', 'Y', 'Z', 'T'])\n",
      " |          >>> # Get variables that don't have an \"axis\" attribute\n",
      " |          >>> vs = nc.get_variables_by_attributes(axis=lambda v: v is None)\n",
      " |          >>> # Get variables that have a \"grid_mapping\" attribute\n",
      " |          >>> vs = nc.get_variables_by_attributes(grid_mapping=lambda v: v is not None)\n",
      " |  \n",
      " |  getncattr(...)\n",
      " |      **`getncattr(self,name)`**\n",
      " |      \n",
      " |      retrieve a netCDF dataset or group attribute.\n",
      " |      Use if you need to get a netCDF attribute with the same\n",
      " |      name as one of the reserved python attributes.\n",
      " |      \n",
      " |      option kwarg `encoding` can be used to specify the\n",
      " |      character encoding of a string attribute (default is `utf-8`).\n",
      " |  \n",
      " |  isopen(...)\n",
      " |      **`close(self)`**\n",
      " |      \n",
      " |      is the Dataset open or closed?\n",
      " |  \n",
      " |  ncattrs(...)\n",
      " |      **`ncattrs(self)`**\n",
      " |      \n",
      " |      return netCDF global attribute names for this `netCDF4.Dataset` or `netCDF4.Group` in a list.\n",
      " |  \n",
      " |  renameAttribute(...)\n",
      " |      **`renameAttribute(self, oldname, newname)`**\n",
      " |      \n",
      " |      rename a `netCDF4.Dataset` or `netCDF4.Group` attribute named `oldname` to `newname`.\n",
      " |  \n",
      " |  renameDimension(...)\n",
      " |      **`renameDimension(self, oldname, newname)`**\n",
      " |      \n",
      " |      rename a `netCDF4.Dimension` named `oldname` to `newname`.\n",
      " |  \n",
      " |  renameGroup(...)\n",
      " |      **`renameGroup(self, oldname, newname)`**\n",
      " |      \n",
      " |      rename a `netCDF4.Group` named `oldname` to `newname` (requires netcdf >= 4.3.1).\n",
      " |  \n",
      " |  renameVariable(...)\n",
      " |      **`renameVariable(self, oldname, newname)`**\n",
      " |      \n",
      " |      rename a `netCDF4.Variable` named `oldname` to `newname`\n",
      " |  \n",
      " |  set_auto_chartostring(...)\n",
      " |      **`set_auto_chartostring(self, True_or_False)`**\n",
      " |      \n",
      " |      Call `netCDF4.Variable.set_auto_chartostring` for all variables contained in this `netCDF4.Dataset` or\n",
      " |      `netCDF4.Group`, as well as for all variables in all its subgroups.\n",
      " |      \n",
      " |      **`True_or_False`**: Boolean determining if automatic conversion of\n",
      " |      all character arrays <--> string arrays should be performed for \n",
      " |      character variables (variables of type `NC_CHAR` or `S1`) with the\n",
      " |      `_Encoding` attribute set.\n",
      " |      \n",
      " |      ***Note***: Calling this function only affects existing variables. Variables created\n",
      " |      after calling this function will follow the default behaviour.\n",
      " |  \n",
      " |  set_auto_mask(...)\n",
      " |      **`set_auto_mask(self, True_or_False)`**\n",
      " |      \n",
      " |      Call `netCDF4.Variable.set_auto_mask` for all variables contained in this `netCDF4.Dataset` or\n",
      " |      `netCDF4.Group`, as well as for all variables in all its subgroups.\n",
      " |      \n",
      " |      **`True_or_False`**: Boolean determining if automatic conversion to masked arrays\n",
      " |      shall be applied for all variables.\n",
      " |      \n",
      " |      ***Note***: Calling this function only affects existing variables. Variables created\n",
      " |      after calling this function will follow the default behaviour.\n",
      " |  \n",
      " |  set_auto_maskandscale(...)\n",
      " |      **`set_auto_maskandscale(self, True_or_False)`**\n",
      " |      \n",
      " |      Call `netCDF4.Variable.set_auto_maskandscale` for all variables contained in this `netCDF4.Dataset` or\n",
      " |      `netCDF4.Group`, as well as for all variables in all its subgroups.\n",
      " |      \n",
      " |      **`True_or_False`**: Boolean determining if automatic conversion to masked arrays\n",
      " |      and variable scaling shall be applied for all variables.\n",
      " |      \n",
      " |      ***Note***: Calling this function only affects existing variables. Variables created\n",
      " |      after calling this function will follow the default behaviour.\n",
      " |  \n",
      " |  set_auto_scale(...)\n",
      " |      **`set_auto_scale(self, True_or_False)`**\n",
      " |      \n",
      " |      Call `netCDF4.Variable.set_auto_scale` for all variables contained in this `netCDF4.Dataset` or\n",
      " |      `netCDF4.Group`, as well as for all variables in all its subgroups.\n",
      " |      \n",
      " |      **`True_or_False`**: Boolean determining if automatic variable scaling\n",
      " |      shall be applied for all variables.\n",
      " |      \n",
      " |      ***Note***: Calling this function only affects existing variables. Variables created\n",
      " |      after calling this function will follow the default behaviour.\n",
      " |  \n",
      " |  set_fill_off(...)\n",
      " |      **`set_fill_off(self)`**\n",
      " |      \n",
      " |      Sets the fill mode for a `netCDF4.Dataset` open for writing to `off`.\n",
      " |      \n",
      " |      This will prevent the data from being pre-filled with fill values, which\n",
      " |      may result in some performance improvements. However, you must then make\n",
      " |      sure the data is actually written before being read.\n",
      " |  \n",
      " |  set_fill_on(...)\n",
      " |      **`set_fill_on(self)`**\n",
      " |      \n",
      " |      Sets the fill mode for a `netCDF4.Dataset` open for writing to `on`.\n",
      " |      \n",
      " |      This causes data to be pre-filled with fill values. The fill values can be\n",
      " |      controlled by the variable's `_Fill_Value` attribute, but is usually\n",
      " |      sufficient to the use the netCDF default `_Fill_Value` (defined\n",
      " |      separately for each variable type). The default behavior of the netCDF\n",
      " |      library corresponds to `set_fill_on`.  Data which are equal to the\n",
      " |      `_Fill_Value` indicate that the variable was created, but never written\n",
      " |      to.\n",
      " |  \n",
      " |  setncattr(...)\n",
      " |      **`setncattr(self,name,value)`**\n",
      " |      \n",
      " |      set a netCDF dataset or group attribute using name,value pair.\n",
      " |      Use if you need to set a netCDF attribute with the\n",
      " |      with the same name as one of the reserved python attributes.\n",
      " |  \n",
      " |  setncattr_string(...)\n",
      " |      **`setncattr_string(self,name,value)`**\n",
      " |      \n",
      " |      set a netCDF dataset or group string attribute using name,value pair.\n",
      " |      Use if you need to ensure that a netCDF attribute is created with type\n",
      " |      `NC_STRING` if the file format is `NETCDF4`.\n",
      " |      Use if you need to set an attribute to an array of variable-length strings.\n",
      " |  \n",
      " |  setncatts(...)\n",
      " |      **`setncatts(self,attdict)`**\n",
      " |      \n",
      " |      set a bunch of netCDF dataset or group attributes at once using a python dictionary.\n",
      " |      This may be faster when setting a lot of attributes for a `NETCDF3`\n",
      " |      formatted file, since nc_redef/nc_enddef is not called in between setting\n",
      " |      each attribute\n",
      " |  \n",
      " |  sync(...)\n",
      " |      **`sync(self)`**\n",
      " |      \n",
      " |      Writes all buffered data in the `netCDF4.Dataset` to the disk file.\n",
      " |  \n",
      " |  ----------------------------------------------------------------------\n",
      " |  Data descriptors defined here:\n",
      " |  \n",
      " |  __orthogonal_indexing__\n",
      " |  \n",
      " |  cmptypes\n",
      " |  \n",
      " |  data_model\n",
      " |  \n",
      " |  dimensions\n",
      " |  \n",
      " |  disk_format\n",
      " |  \n",
      " |  enumtypes\n",
      " |  \n",
      " |  file_format\n",
      " |  \n",
      " |  groups\n",
      " |  \n",
      " |  keepweakref\n",
      " |  \n",
      " |  parent\n",
      " |  \n",
      " |  path\n",
      " |  \n",
      " |  variables\n",
      " |  \n",
      " |  vltypes\n",
      "\n"
     ]
    }
   ],
   "source": [
    "help(nc.Dataset) "
   ]
  },
  {
   "cell_type": "code",
   "execution_count": 18,
   "metadata": {
    "collapsed": true
   },
   "outputs": [],
   "source": [
    "nc_file = nc.Dataset('/home/evankielley/Downloads/expt_56.3.nc')"
   ]
  },
  {
   "cell_type": "code",
   "execution_count": 28,
   "metadata": {},
   "outputs": [
    {
     "ename": "AttributeError",
     "evalue": "'netCDF4._netCDF4.Dimension' object has no attribute 'values'",
     "output_type": "error",
     "traceback": [
      "\u001b[0;31m---------------------------------------------------------------------------\u001b[0m",
      "\u001b[0;31mAttributeError\u001b[0m                            Traceback (most recent call last)",
      "\u001b[0;32m<ipython-input-28-72d3a5124c0b>\u001b[0m in \u001b[0;36m<module>\u001b[0;34m()\u001b[0m\n\u001b[0;32m----> 1\u001b[0;31m \u001b[0mnc_file\u001b[0m\u001b[0;34m.\u001b[0m\u001b[0mdimensions\u001b[0m\u001b[0;34m[\u001b[0m\u001b[0;34m'time'\u001b[0m\u001b[0;34m]\u001b[0m\u001b[0;34m.\u001b[0m\u001b[0mvalues\u001b[0m\u001b[0;34m\u001b[0m\u001b[0m\n\u001b[0m",
      "\u001b[0;31mAttributeError\u001b[0m: 'netCDF4._netCDF4.Dimension' object has no attribute 'values'"
     ]
    }
   ],
   "source": [
    "nc_file.['time']"
   ]
  },
  {
   "cell_type": "code",
   "execution_count": null,
   "metadata": {
    "collapsed": true
   },
   "outputs": [],
   "source": []
  },
  {
   "cell_type": "markdown",
   "metadata": {},
   "source": [
    "## NAVGEM"
   ]
  },
  {
   "cell_type": "markdown",
   "metadata": {},
   "source": [
    "- 12 hr\n",
    "- 0.5 degree"
   ]
  },
  {
   "cell_type": "code",
   "execution_count": null,
   "metadata": {
    "collapsed": true
   },
   "outputs": [],
   "source": [
    "url = 'http://usgodae.org/dods/GDS/navgem/NAVGEM_0100_010132-000000wnd_ucmp'"
   ]
  },
  {
   "cell_type": "code",
   "execution_count": 2,
   "metadata": {
    "collapsed": true
   },
   "outputs": [],
   "source": [
    "url = 'http://usgodae.org/dods/GDS/navgem/NAVGEM_0105_000100-000000wnd_ucmp'"
   ]
  },
  {
   "cell_type": "code",
   "execution_count": 3,
   "metadata": {
    "collapsed": true
   },
   "outputs": [],
   "source": [
    "ds = xr.open_dataset(url)"
   ]
  },
  {
   "cell_type": "code",
   "execution_count": 4,
   "metadata": {},
   "outputs": [
    {
     "data": {
      "text/plain": [
       "<xarray.Dataset>\n",
       "Dimensions:     (lat: 361, lon: 720, time: 3604)\n",
       "Coordinates:\n",
       "  * time        (time) datetime64[ns] 2013-02-13 2013-02-13T12:00:00 ...\n",
       "  * lat         (lat) float64 -90.0 -89.5 -89.0 -88.5 -88.0 -87.5 -87.0 ...\n",
       "  * lon         (lon) float64 0.0 0.5 1.0 1.5 2.0 2.5 3.0 3.5 4.0 4.5 5.0 ...\n",
       "Data variables:\n",
       "    ugrd10m_10  (time, lat, lon) float64 ...\n",
       "Attributes:\n",
       "    title:          US058GMET-GR1mdl.0018_0056_00000F0RLTIMESERIES_0105_00010...\n",
       "    Conventions:    COARDS\\nGrADS\n",
       "    dataType:       Grid\n",
       "    documentation:  http://www.usgodae.org\n",
       "    history:        Fri Jan 19 18:38:20 UTC 2018 : imported by GrADS Data Ser..."
      ]
     },
     "execution_count": 4,
     "metadata": {},
     "output_type": "execute_result"
    }
   ],
   "source": [
    "ds"
   ]
  },
  {
   "cell_type": "code",
   "execution_count": 5,
   "metadata": {},
   "outputs": [
    {
     "data": {
      "text/plain": [
       "<xarray.DataArray 'time' (time: 3604)>\n",
       "array(['2013-02-13T00:00:00.000000000', '2013-02-13T12:00:00.000000000',\n",
       "       '2013-02-14T00:00:00.000000000', ..., '2018-01-18T12:00:00.000000000',\n",
       "       '2018-01-19T00:00:00.000000000', '2018-01-19T12:00:00.000000000'], dtype='datetime64[ns]')\n",
       "Coordinates:\n",
       "  * time     (time) datetime64[ns] 2013-02-13 2013-02-13T12:00:00 2013-02-14 ...\n",
       "Attributes:\n",
       "    grads_dim:      t\n",
       "    grads_mapping:  linear\n",
       "    grads_size:     3604\n",
       "    grads_min:      00z13feb2013\n",
       "    grads_step:     12hr\n",
       "    long_name:      time\n",
       "    minimum:        00z13feb2013\n",
       "    maximum:        12z19jan2018\n",
       "    resolution:     0.5"
      ]
     },
     "execution_count": 5,
     "metadata": {},
     "output_type": "execute_result"
    }
   ],
   "source": [
    "ds['time']"
   ]
  },
  {
   "cell_type": "code",
   "execution_count": 6,
   "metadata": {},
   "outputs": [
    {
     "data": {
      "text/plain": [
       "<xarray.DataArray 'ugrd10m_10' (time: 3604, lat: 361, lon: 720)>\n",
       "[936751680 values with dtype=float64]\n",
       "Coordinates:\n",
       "  * time     (time) datetime64[ns] 2013-02-13 2013-02-13T12:00:00 2013-02-14 ...\n",
       "  * lat      (lat) float64 -90.0 -89.5 -89.0 -88.5 -88.0 -87.5 -87.0 -86.5 ...\n",
       "  * lon      (lon) float64 0.0 0.5 1.0 1.5 2.0 2.5 3.0 3.5 4.0 4.5 5.0 5.5 ...\n",
       "Attributes:\n",
       "    long_name:  ** 10 m u wind [m/s] "
      ]
     },
     "execution_count": 6,
     "metadata": {},
     "output_type": "execute_result"
    }
   ],
   "source": [
    "ds.ugrd10m_10"
   ]
  },
  {
   "cell_type": "code",
   "execution_count": 23,
   "metadata": {},
   "outputs": [
    {
     "data": {
      "text/plain": [
       "<xarray.DataArray 'ugrd10m_10' (lat: 10, lon: 10)>\n",
       "array([[  3.879152e+03,   3.178646e+30,   1.356316e-19,   4.416006e+21,\n",
       "          1.601957e-19,   2.107628e-03,   1.358872e-19,   1.928259e+31,\n",
       "          4.729414e+22,   3.163622e-18],\n",
       "       [  7.155773e+22,   3.176899e+30,   4.623582e+30,   1.934460e-19,\n",
       "          1.849871e+20,   1.765821e+28,   4.360454e+21,   1.270943e+31,\n",
       "          1.141805e+33,   5.393902e+28],\n",
       "       [  3.974212e+03,   3.025672e+29,   1.440086e+28,   2.745414e+20,\n",
       "          3.094673e+32,   1.893809e+23,   3.038569e+29,   4.713871e+33,\n",
       "          4.735676e+22,   7.409798e+28],\n",
       "       [  1.788248e+28,   6.713558e-07,   2.625702e-06,   2.389918e-06,\n",
       "          7.271552e+31,   2.113177e-03,            nan,            nan,\n",
       "                   nan,            nan],\n",
       "       [           nan,            nan,            nan,            nan,\n",
       "                   nan,            nan,            nan,            nan,\n",
       "                   nan,            nan],\n",
       "       [           nan,            nan,            nan,            nan,\n",
       "                   nan,            nan,            nan,            nan,\n",
       "                   nan,            nan],\n",
       "       [           nan,            nan,            nan,            nan,\n",
       "                   nan,            nan,            nan,            nan,\n",
       "                   nan,            nan],\n",
       "       [           nan,            nan,            nan,            nan,\n",
       "                   nan,            nan,            nan,            nan,\n",
       "                   nan,            nan],\n",
       "       [           nan,            nan,            nan,            nan,\n",
       "                   nan,            nan,            nan,            nan,\n",
       "                   nan,            nan],\n",
       "       [           nan,            nan,            nan,            nan,\n",
       "                   nan,            nan,            nan,            nan,\n",
       "                   nan,            nan]])\n",
       "Coordinates:\n",
       "    time     datetime64[ns] 2013-02-13\n",
       "  * lat      (lat) float64 -90.0 -89.5 -89.0 -88.5 -88.0 -87.5 -87.0 -86.5 ...\n",
       "  * lon      (lon) float64 0.0 0.5 1.0 1.5 2.0 2.5 3.0 3.5 4.0 4.5\n",
       "Attributes:\n",
       "    long_name:  ** 10 m u wind [m/s] "
      ]
     },
     "execution_count": 23,
     "metadata": {},
     "output_type": "execute_result"
    }
   ],
   "source": [
    "ds.ugrd10m_10.sel(time='2013-02-13')[0,:10,:10]"
   ]
  },
  {
   "cell_type": "markdown",
   "metadata": {},
   "source": [
    "## ERDAP NAVEGM"
   ]
  },
  {
   "cell_type": "code",
   "execution_count": null,
   "metadata": {
    "collapsed": true
   },
   "outputs": [],
   "source": []
  },
  {
   "cell_type": "code",
   "execution_count": 24,
   "metadata": {
    "collapsed": true
   },
   "outputs": [],
   "source": [
    "url = 'http://coastwatch.pfeg.noaa.gov/erddap/griddap/erdNavgem05D10mWind_LonPM180'"
   ]
  },
  {
   "cell_type": "code",
   "execution_count": 25,
   "metadata": {
    "collapsed": true
   },
   "outputs": [],
   "source": [
    "ds = xr.open_dataset(url)"
   ]
  },
  {
   "cell_type": "code",
   "execution_count": 26,
   "metadata": {},
   "outputs": [
    {
     "data": {
      "text/plain": [
       "<xarray.Dataset>\n",
       "Dimensions:                       (height_above_ground: 1, latitude: 361, longitude: 720, time: 6495)\n",
       "Coordinates:\n",
       "  * time                          (time) datetime64[ns] 2013-02-15T12:00:00 ...\n",
       "  * height_above_ground           (height_above_ground) float32 10.0\n",
       "  * latitude                      (latitude) float32 -90.0 -89.5 -89.0 -88.5 ...\n",
       "  * longitude                     (longitude) float32 -180.0 -179.5 -179.0 ...\n",
       "Data variables:\n",
       "    wnd_ucmp_height_above_ground  (time, height_above_ground, latitude, longitude) float32 ...\n",
       "    wnd_vcmp_height_above_ground  (time, height_above_ground, latitude, longitude) float32 ...\n",
       "Attributes:\n",
       "    _CoordSysBuilder:                     ucar.nc2.dataset.conv.CF1Convention\n",
       "    cdm_data_type:                        Grid\n",
       "    Conventions:                          CF-1.6, COARDS, ACDD-1.3\n",
       "    creator_name:                         FNMOC\n",
       "    creator_type:                         institution\n",
       "    creator_url:                          http://www.usno.navy.mil/FNMOC/\n",
       "    defaultGraphQuery:                    &.draw=vectors\n",
       "    Easternmost_Easting:                  179.5\n",
       "    file_format:                          GRIB-1\n",
       "    geospatial_lat_max:                   89.99999\n",
       "    geospatial_lat_min:                   -90.00001\n",
       "    geospatial_lat_resolution:            0.5\n",
       "    geospatial_lat_units:                 degrees_north\n",
       "    geospatial_lon_max:                   179.5\n",
       "    geospatial_lon_min:                   -180.0\n",
       "    geospatial_lon_resolution:            0.5\n",
       "    geospatial_lon_units:                 degrees_east\n",
       "    GRIB_table_version:                   0,3\n",
       "    history:                              Read using CDM IOSP GribCollection ...\n",
       "    infoUrl:                              https://en.wikipedia.org/wiki/NAVGEM\n",
       "    institution:                          FNMOC\n",
       "    keywords:                             above, data, direction, Earth Scien...\n",
       "    keywords_vocabulary:                  GCMD Science Keywords\n",
       "    license:                              The data may be used and redistribu...\n",
       "    Northernmost_Northing:                89.99999\n",
       "    Originating_or_generating_Center:     Fleet Numerical Meteorology and Oce...\n",
       "    Originating_or_generating_Subcenter:  0\n",
       "    sourceUrl:                            http://oceanwatch.pfeg.noaa.gov/thr...\n",
       "    Southernmost_Northing:                -90.00001\n",
       "    standard_name_vocabulary:             CF Standard Name Table v29\n",
       "    summary:                              Navy Global Environmental Model (NA...\n",
       "    testOutOfDate:                        now-2days\n",
       "    time_coverage_end:                    2018-01-18T18:00:00Z\n",
       "    time_coverage_start:                  2013-02-15T12:00:00Z\n",
       "    title:                                Navy Global Environmental Model (NA...\n",
       "    Westernmost_Easting:                  -180.0"
      ]
     },
     "execution_count": 26,
     "metadata": {},
     "output_type": "execute_result"
    }
   ],
   "source": [
    "ds"
   ]
  },
  {
   "cell_type": "code",
   "execution_count": 27,
   "metadata": {},
   "outputs": [
    {
     "data": {
      "text/plain": [
       "<xarray.DataArray 'time' (time: 6495)>\n",
       "array(['2013-02-15T12:00:00.000000000', '2013-02-15T18:00:00.000000000',\n",
       "       '2013-02-16T00:00:00.000000000', ..., '2018-01-18T06:00:00.000000000',\n",
       "       '2018-01-18T12:00:00.000000000', '2018-01-18T18:00:00.000000000'], dtype='datetime64[ns]')\n",
       "Coordinates:\n",
       "  * time     (time) datetime64[ns] 2013-02-15T12:00:00 2013-02-15T18:00:00 ...\n",
       "Attributes:\n",
       "    _CoordinateAxisType:  Time\n",
       "    actual_range:         [  1.36092960e+09   1.51629840e+09]\n",
       "    axis:                 T\n",
       "    comment:              Uninitialized analysis / image product / forecast p...\n",
       "    ioos_category:        Time\n",
       "    long_name:            Time\n",
       "    standard_name:        time\n",
       "    time_origin:          01-JAN-1970 00:00:00"
      ]
     },
     "execution_count": 27,
     "metadata": {},
     "output_type": "execute_result"
    }
   ],
   "source": [
    "ds['time']"
   ]
  },
  {
   "cell_type": "code",
   "execution_count": 29,
   "metadata": {},
   "outputs": [
    {
     "data": {
      "text/plain": [
       "<xarray.Dataset>\n",
       "Dimensions:                       (height_above_ground: 1, latitude: 4, longitude: 7, time: 120)\n",
       "Coordinates:\n",
       "  * time                          (time) datetime64[ns] 2015-06-01 ...\n",
       "  * height_above_ground           (height_above_ground) float32 10.0\n",
       "  * latitude                      (latitude) float32 47.5 48.0 48.5 49.0\n",
       "  * longitude                     (longitude) float32 -52.0 -51.5 -51.0 ...\n",
       "Data variables:\n",
       "    wnd_ucmp_height_above_ground  (time, height_above_ground, latitude, longitude) float32 ...\n",
       "    wnd_vcmp_height_above_ground  (time, height_above_ground, latitude, longitude) float32 ...\n",
       "Attributes:\n",
       "    _CoordSysBuilder:                     ucar.nc2.dataset.conv.CF1Convention\n",
       "    cdm_data_type:                        Grid\n",
       "    Conventions:                          CF-1.6, COARDS, ACDD-1.3\n",
       "    creator_name:                         FNMOC\n",
       "    creator_type:                         institution\n",
       "    creator_url:                          http://www.usno.navy.mil/FNMOC/\n",
       "    defaultGraphQuery:                    &.draw=vectors\n",
       "    Easternmost_Easting:                  179.5\n",
       "    file_format:                          GRIB-1\n",
       "    geospatial_lat_max:                   89.99999\n",
       "    geospatial_lat_min:                   -90.00001\n",
       "    geospatial_lat_resolution:            0.5\n",
       "    geospatial_lat_units:                 degrees_north\n",
       "    geospatial_lon_max:                   179.5\n",
       "    geospatial_lon_min:                   -180.0\n",
       "    geospatial_lon_resolution:            0.5\n",
       "    geospatial_lon_units:                 degrees_east\n",
       "    GRIB_table_version:                   0,3\n",
       "    history:                              Read using CDM IOSP GribCollection ...\n",
       "    infoUrl:                              https://en.wikipedia.org/wiki/NAVGEM\n",
       "    institution:                          FNMOC\n",
       "    keywords:                             above, data, direction, Earth Scien...\n",
       "    keywords_vocabulary:                  GCMD Science Keywords\n",
       "    license:                              The data may be used and redistribu...\n",
       "    Northernmost_Northing:                89.99999\n",
       "    Originating_or_generating_Center:     Fleet Numerical Meteorology and Oce...\n",
       "    Originating_or_generating_Subcenter:  0\n",
       "    sourceUrl:                            http://oceanwatch.pfeg.noaa.gov/thr...\n",
       "    Southernmost_Northing:                -90.00001\n",
       "    standard_name_vocabulary:             CF Standard Name Table v29\n",
       "    summary:                              Navy Global Environmental Model (NA...\n",
       "    testOutOfDate:                        now-2days\n",
       "    time_coverage_end:                    2018-01-18T18:00:00Z\n",
       "    time_coverage_start:                  2013-02-15T12:00:00Z\n",
       "    title:                                Navy Global Environmental Model (NA...\n",
       "    Westernmost_Easting:                  -180.0"
      ]
     },
     "execution_count": 29,
     "metadata": {},
     "output_type": "execute_result"
    }
   ],
   "source": [
    "ds.sel(time=slice('2015-06-01','2015-07-01'), longitude=slice(-52,-49), latitude=slice(47,49))"
   ]
  },
  {
   "cell_type": "code",
   "execution_count": null,
   "metadata": {
    "collapsed": true
   },
   "outputs": [],
   "source": []
  }
 ],
 "metadata": {
  "kernelspec": {
   "display_name": "Python 3",
   "language": "python",
   "name": "python3"
  },
  "language_info": {
   "codemirror_mode": {
    "name": "ipython",
    "version": 3
   },
   "file_extension": ".py",
   "mimetype": "text/x-python",
   "name": "python",
   "nbconvert_exporter": "python",
   "pygments_lexer": "ipython3",
   "version": "3.6.3"
  }
 },
 "nbformat": 4,
 "nbformat_minor": 2
}
