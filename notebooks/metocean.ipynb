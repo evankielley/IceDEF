{
 "cells": [
  {
   "cell_type": "markdown",
   "metadata": {},
   "source": [
    "# Metocean Data"
   ]
  },
  {
   "cell_type": "code",
   "execution_count": 4,
   "metadata": {
    "collapsed": true
   },
   "outputs": [],
   "source": [
    "%matplotlib inline\n",
    "import numpy as np\n",
    "import matplotlib.pyplot as plt\n",
    "plt.style.use('default')\n",
    "import xarray as xr\n",
    "import distributed"
   ]
  },
  {
   "cell_type": "code",
   "execution_count": null,
   "metadata": {
    "collapsed": true
   },
   "outputs": [],
   "source": [
    "client = distributed.Client()\n",
    "client"
   ]
  },
  {
   "cell_type": "markdown",
   "metadata": {},
   "source": [
    "# CANADIAN DATA"
   ]
  },
  {
   "cell_type": "markdown",
   "metadata": {},
   "source": [
    "## GIOPS"
   ]
  },
  {
   "cell_type": "markdown",
   "metadata": {},
   "source": [
    "http://dd.weather.gc.ca/model_giops/doc/README_GIOPS.txt"
   ]
  },
  {
   "cell_type": "markdown",
   "metadata": {},
   "source": [
    "## RIOPS"
   ]
  },
  {
   "cell_type": "code",
   "execution_count": null,
   "metadata": {
    "collapsed": true
   },
   "outputs": [],
   "source": [
    "ds = xr.open_dataset('http://navigator.oceansdata.ca/thredds/dodsC/riops/riopsf/2016091918_006_3D_nps.nc',\n",
    "                       chunks={'depth':1, 'yc':200, 'xc':200})"
   ]
  },
  {
   "cell_type": "code",
   "execution_count": null,
   "metadata": {
    "collapsed": true
   },
   "outputs": [],
   "source": [
    "ncfiles = ['http://navigator.oceansdata.ca/thredds/dodsC/riops/riopsf/2016091906_006_3D_nps.nc',\n",
    "           'http://navigator.oceansdata.ca/thredds/dodsC/riops/riopsf/2016091912_006_3D_nps.nc',\n",
    "           'http://navigator.oceansdata.ca/thredds/dodsC/riops/riopsf/2016091918_006_3D_nps.nc']"
   ]
  },
  {
   "cell_type": "code",
   "execution_count": null,
   "metadata": {
    "collapsed": true
   },
   "outputs": [],
   "source": [
    "ds = xr.open_mfdataset(ncfiles, chunks={'depth':10, 'yc':400, 'xc':400})"
   ]
  },
  {
   "cell_type": "code",
   "execution_count": null,
   "metadata": {
    "collapsed": true
   },
   "outputs": [],
   "source": [
    "ds.vomecrty"
   ]
  },
  {
   "cell_type": "code",
   "execution_count": null,
   "metadata": {
    "collapsed": true
   },
   "outputs": [],
   "source": [
    "vx = ds.vozocrtx.isel(depth=0).sel(xc=slice(6e6-1, 8e6-1),\n",
    "                              yc=slice(2e6-1, 4e6-1))\n",
    "vy = ds.vomecrty.isel(depth=0).sel(xc=slice(6e6-1, 8e6-1),\n",
    "                              yc=slice(2e6-1, 4e6-1))"
   ]
  },
  {
   "cell_type": "code",
   "execution_count": null,
   "metadata": {
    "collapsed": true
   },
   "outputs": [],
   "source": [
    "v = np.sqrt(vx**2+vy**2)"
   ]
  },
  {
   "cell_type": "code",
   "execution_count": null,
   "metadata": {
    "collapsed": true
   },
   "outputs": [],
   "source": [
    "v"
   ]
  },
  {
   "cell_type": "code",
   "execution_count": null,
   "metadata": {
    "collapsed": true
   },
   "outputs": [],
   "source": [
    "v.isel(time=2).plot(vmax=0.8)"
   ]
  },
  {
   "cell_type": "code",
   "execution_count": null,
   "metadata": {
    "collapsed": true
   },
   "outputs": [],
   "source": [
    "ds.latitude.sel(xc=slice(6e6, 8e6), yc=slice(2e6, 4e6))"
   ]
  },
  {
   "cell_type": "markdown",
   "metadata": {},
   "source": [
    "# AMERICAN DATA"
   ]
  },
  {
   "cell_type": "markdown",
   "metadata": {},
   "source": [
    "## NOMADS - GFS"
   ]
  },
  {
   "cell_type": "markdown",
   "metadata": {},
   "source": [
    "- 3 hour"
   ]
  },
  {
   "cell_type": "code",
   "execution_count": 2,
   "metadata": {
    "collapsed": true
   },
   "outputs": [],
   "source": [
    "gfs_url ='https://www.ncei.noaa.gov/thredds/dodsC/gfs-g4-anl-files/201512/20151231/gfsanl_4_20151231_1800_006.grb2'"
   ]
  },
  {
   "cell_type": "code",
   "execution_count": 3,
   "metadata": {
    "collapsed": true
   },
   "outputs": [],
   "source": [
    "gfs_ds = xr.open_dataset(gfs_url)"
   ]
  },
  {
   "cell_type": "code",
   "execution_count": 4,
   "metadata": {
    "collapsed": true
   },
   "outputs": [
    {
     "data": {
      "text/plain": [
       "<xarray.Dataset>\n",
       "Dimensions:                                                                   (altitude_above_msl: 3, depth_below_surface_layer: 4, depth_below_surface_layer_bounds_1: 2, height_above_ground: 1, height_above_ground1: 2, height_above_ground2: 1, height_above_ground3: 3, height_above_ground4: 3, height_above_ground_layer: 1, height_above_ground_layer1: 1, height_above_ground_layer1_bounds_1: 2, height_above_ground_layer_bounds_1: 2, isobaric: 12, isobaric1: 1, isobaric2: 21, isobaric3: 26, lat: 361, lon: 720, potential_vorticity_surface: 2, pressure_difference_layer: 1, pressure_difference_layer1: 1, pressure_difference_layer1_bounds_1: 2, pressure_difference_layer2: 2, pressure_difference_layer2_bounds_1: 2, pressure_difference_layer_bounds_1: 2, sigma: 1, sigma_layer: 4, sigma_layer_bounds_1: 2, time: 1, time1: 1, time_bounds_1: 2)\n",
       "Coordinates:\n",
       "  * lat                                                                       (lat) float32 90.0 ...\n",
       "  * lon                                                                       (lon) float32 0.0 ...\n",
       "    reftime                                                                   datetime64[ns] ...\n",
       "  * time                                                                      (time) datetime64[ns] 2016-01-01 ...\n",
       "  * time1                                                                     (time1) datetime64[ns] 2016-01-01 ...\n",
       "  * height_above_ground_layer                                                 (height_above_ground_layer) float32 1500.0 ...\n",
       "  * isobaric                                                                  (isobaric) float32 1000.0 ...\n",
       "  * height_above_ground                                                       (height_above_ground) float32 2.0 ...\n",
       "  * sigma                                                                     (sigma) float32 0.995 ...\n",
       "  * depth_below_surface_layer                                                 (depth_below_surface_layer) float32 0.05 ...\n",
       "  * pressure_difference_layer                                                 (pressure_difference_layer) float32 1500.0 ...\n",
       "  * isobaric1                                                                 (isobaric1) float32 50000.0 ...\n",
       "  * height_above_ground1                                                      (height_above_ground1) float32 2.0 ...\n",
       "  * height_above_ground2                                                      (height_above_ground2) float32 80.0 ...\n",
       "  * isobaric2                                                                 (isobaric2) float32 10000.0 ...\n",
       "  * altitude_above_msl                                                        (altitude_above_msl) float32 1829.0 ...\n",
       "  * height_above_ground3                                                      (height_above_ground3) float32 10.0 ...\n",
       "  * height_above_ground_layer1                                                (height_above_ground_layer1) float32 3000.0 ...\n",
       "  * pressure_difference_layer1                                                (pressure_difference_layer1) float32 12750.0 ...\n",
       "  * isobaric3                                                                 (isobaric3) float32 1000.0 ...\n",
       "  * pressure_difference_layer2                                                (pressure_difference_layer2) float32 9000.0 ...\n",
       "  * sigma_layer                                                               (sigma_layer) float32 0.58 ...\n",
       "  * height_above_ground4                                                      (height_above_ground4) float32 2.0 ...\n",
       "  * potential_vorticity_surface                                               (potential_vorticity_surface) float32 -2e-06 ...\n",
       "Dimensions without coordinates: depth_below_surface_layer_bounds_1, height_above_ground_layer1_bounds_1, height_above_ground_layer_bounds_1, pressure_difference_layer1_bounds_1, pressure_difference_layer2_bounds_1, pressure_difference_layer_bounds_1, sigma_layer_bounds_1, time_bounds_1\n",
       "Data variables:\n",
       "    LatLon_Projection                                                         int32 ...\n",
       "    time_bounds                                                               (time, time_bounds_1) datetime64[ns] ...\n",
       "    height_above_ground_layer_bounds                                          (height_above_ground_layer, height_above_ground_layer_bounds_1) float32 ...\n",
       "    depth_below_surface_layer_bounds                                          (depth_below_surface_layer, depth_below_surface_layer_bounds_1) float32 ...\n",
       "    pressure_difference_layer_bounds                                          (pressure_difference_layer, pressure_difference_layer_bounds_1) float32 ...\n",
       "    height_above_ground_layer1_bounds                                         (height_above_ground_layer1, height_above_ground_layer1_bounds_1) float32 ...\n",
       "    pressure_difference_layer1_bounds                                         (pressure_difference_layer1, pressure_difference_layer1_bounds_1) float32 ...\n",
       "    pressure_difference_layer2_bounds                                         (pressure_difference_layer2, pressure_difference_layer2_bounds_1) float32 ...\n",
       "    sigma_layer_bounds                                                        (sigma_layer, sigma_layer_bounds_1) float32 ...\n",
       "    Absolute_vorticity_isobaric                                               (time1, isobaric3, lat, lon) float32 ...\n",
       "    Albedo_surface_6_Hour_Average                                             (time, lat, lon) float32 ...\n",
       "    Apparent_temperature_height_above_ground                                  (time1, height_above_ground, lat, lon) float32 ...\n",
       "    Cloud_mixing_ratio_isobaric                                               (time1, isobaric2, lat, lon) float32 ...\n",
       "    Cloud_water_entire_atmosphere_single_layer                                (time1, lat, lon) float32 ...\n",
       "    Convective_available_potential_energy_surface                             (time1, lat, lon) float32 ...\n",
       "    Convective_available_potential_energy_pressure_difference_layer           (time1, pressure_difference_layer2, lat, lon) float32 ...\n",
       "    Convective_inhibition_surface                                             (time1, lat, lon) float32 ...\n",
       "    Convective_inhibition_pressure_difference_layer                           (time1, pressure_difference_layer2, lat, lon) float32 ...\n",
       "    Convective_precipitation_surface_6_Hour_Accumulation                      (time, lat, lon) float32 ...\n",
       "    Dewpoint_temperature_height_above_ground                                  (time1, height_above_ground, lat, lon) float32 ...\n",
       "    Geopotential_height_potential_vorticity_surface                           (time1, potential_vorticity_surface, lat, lon) float32 ...\n",
       "    Geopotential_height_surface                                               (time1, lat, lon) float32 ...\n",
       "    Geopotential_height_isobaric                                              (time1, isobaric3, lat, lon) float32 ...\n",
       "    Geopotential_height_zeroDegC_isotherm                                     (time1, lat, lon) float32 ...\n",
       "    Geopotential_height_maximum_wind                                          (time1, lat, lon) float32 ...\n",
       "    Geopotential_height_tropopause                                            (time1, lat, lon) float32 ...\n",
       "    Geopotential_height_highest_tropospheric_freezing                         (time1, lat, lon) float32 ...\n",
       "    Haines_index_surface                                                      (time1, lat, lon) float32 ...\n",
       "    ICAO_Standard_Atmosphere_Reference_Height_maximum_wind                    (time1, lat, lon) float32 ...\n",
       "    ICAO_Standard_Atmosphere_Reference_Height_tropopause                      (time1, lat, lon) float32 ...\n",
       "    Ice_cover_surface                                                         (time1, lat, lon) float32 ...\n",
       "    Land_cover_0__sea_1__land_surface                                         (time1, lat, lon) float32 ...\n",
       "    Latent_heat_net_flux_surface_6_Hour_Average                               (time, lat, lon) float32 ...\n",
       "    Maximum_temperature_height_above_ground_6_Hour_Maximum                    (time, height_above_ground, lat, lon) float32 ...\n",
       "    Minimum_temperature_height_above_ground_6_Hour_Minimum                    (time, height_above_ground, lat, lon) float32 ...\n",
       "    Momentum_flux_u-component_surface_6_Hour_Average                          (time, lat, lon) float32 ...\n",
       "    Momentum_flux_v-component_surface_6_Hour_Average                          (time, lat, lon) float32 ...\n",
       "    Per_cent_frozen_precipitation_surface                                     (time1, lat, lon) float32 ...\n",
       "    Potential_temperature_sigma                                               (time1, sigma, lat, lon) float32 ...\n",
       "    Precipitable_water_entire_atmosphere_single_layer                         (time1, lat, lon) float32 ...\n",
       "    Precipitation_rate_surface_6_Hour_Average                                 (time, lat, lon) float32 ...\n",
       "    Pressure_potential_vorticity_surface                                      (time1, potential_vorticity_surface, lat, lon) float32 ...\n",
       "    Pressure_convective_cloud_bottom                                          (time1, lat, lon) float32 ...\n",
       "    Pressure_low_cloud_bottom_6_Hour_Average                                  (time, lat, lon) float32 ...\n",
       "    Pressure_middle_cloud_bottom_6_Hour_Average                               (time, lat, lon) float32 ...\n",
       "    Pressure_high_cloud_bottom_6_Hour_Average                                 (time, lat, lon) float32 ...\n",
       "    Pressure_high_cloud_top_6_Hour_Average                                    (time, lat, lon) float32 ...\n",
       "    Pressure_convective_cloud_top                                             (time1, lat, lon) float32 ...\n",
       "    Pressure_low_cloud_top_6_Hour_Average                                     (time, lat, lon) float32 ...\n",
       "    Pressure_middle_cloud_top_6_Hour_Average                                  (time, lat, lon) float32 ...\n",
       "    Pressure_surface                                                          (time1, lat, lon) float32 ...\n",
       "    Pressure_maximum_wind                                                     (time1, lat, lon) float32 ...\n",
       "    Pressure_tropopause                                                       (time1, lat, lon) float32 ...\n",
       "    Pressure_height_above_ground                                              (time1, height_above_ground2, lat, lon) float32 ...\n",
       "    Pressure_reduced_to_MSL_msl                                               (time1, lat, lon) float32 ...\n",
       "    Relative_humidity_entire_atmosphere_single_layer                          (time1, lat, lon) float32 ...\n",
       "    Relative_humidity_highest_tropospheric_freezing                           (time1, lat, lon) float32 ...\n",
       "    Relative_humidity_pressure_difference_layer                               (time1, pressure_difference_layer, lat, lon) float32 ...\n",
       "    Relative_humidity_sigma_layer                                             (time1, sigma_layer, lat, lon) float32 ...\n",
       "    Relative_humidity_isobaric                                                (time1, isobaric3, lat, lon) float32 ...\n",
       "    Relative_humidity_zeroDegC_isotherm                                       (time1, lat, lon) float32 ...\n",
       "    Relative_humidity_height_above_ground                                     (time1, height_above_ground, lat, lon) float32 ...\n",
       "    Relative_humidity_sigma                                                   (time1, sigma, lat, lon) float32 ...\n",
       "    Sensible_heat_net_flux_surface_6_Hour_Average                             (time, lat, lon) float32 ...\n",
       "    Snow_depth_surface                                                        (time1, lat, lon) float32 ...\n",
       "    Soil_temperature_depth_below_surface_layer                                (time1, depth_below_surface_layer, lat, lon) float32 ...\n",
       "    Specific_humidity_pressure_difference_layer                               (time1, pressure_difference_layer, lat, lon) float32 ...\n",
       "    Specific_humidity_height_above_ground                                     (time1, height_above_ground1, lat, lon) float32 ...\n",
       "    Storm_relative_helicity_height_above_ground_layer                         (time1, height_above_ground_layer, lat, lon) float32 ...\n",
       "    Temperature_potential_vorticity_surface                                   (time1, potential_vorticity_surface, lat, lon) float32 ...\n",
       "    Temperature_low_cloud_top_6_Hour_Average                                  (time, lat, lon) float32 ...\n",
       "    Temperature_middle_cloud_top_6_Hour_Average                               (time, lat, lon) float32 ...\n",
       "    Temperature_high_cloud_top_6_Hour_Average                                 (time, lat, lon) float32 ...\n",
       "    Temperature_surface                                                       (time1, lat, lon) float32 ...\n",
       "    Temperature_pressure_difference_layer                                     (time1, pressure_difference_layer, lat, lon) float32 ...\n",
       "    Temperature_isobaric                                                      (time1, isobaric3, lat, lon) float32 ...\n",
       "    Temperature_maximum_wind                                                  (time1, lat, lon) float32 ...\n",
       "    Temperature_altitude_above_msl                                            (time1, altitude_above_msl, lat, lon) float32 ...\n",
       "    Temperature_height_above_ground                                           (time1, height_above_ground4, lat, lon) float32 ...\n",
       "    Temperature_tropopause                                                    (time1, lat, lon) float32 ...\n",
       "    Temperature_sigma                                                         (time1, sigma, lat, lon) float32 ...\n",
       "    Total_cloud_cover_entire_atmosphere_6_Hour_Average                        (time, lat, lon) float32 ...\n",
       "    Total_cloud_cover_low_cloud_6_Hour_Average                                (time, lat, lon) float32 ...\n",
       "    Total_cloud_cover_middle_cloud_6_Hour_Average                             (time, lat, lon) float32 ...\n",
       "    Total_cloud_cover_high_cloud_6_Hour_Average                               (time, lat, lon) float32 ...\n",
       "    Total_cloud_cover_convective_cloud                                        (time1, lat, lon) float32 ...\n",
       "    Total_cloud_cover_boundary_layer_cloud_6_Hour_Average                     (time, lat, lon) float32 ...\n",
       "    Total_ozone_entire_atmosphere_single_layer                                (time1, lat, lon) float32 ...\n",
       "    Total_precipitation_surface_6_Hour_Accumulation                           (time, lat, lon) float32 ...\n",
       "    Categorical_Rain_surface_6_Hour_Average                                   (time, lat, lon) float32 ...\n",
       "    Categorical_Freezing_Rain_surface_6_Hour_Average                          (time, lat, lon) float32 ...\n",
       "    Categorical_Ice_Pellets_surface_6_Hour_Average                            (time, lat, lon) float32 ...\n",
       "    Categorical_Snow_surface_6_Hour_Average                                   (time, lat, lon) float32 ...\n",
       "    Convective_Precipitation_Rate_surface_6_Hour_Average                      (time, lat, lon) float32 ...\n",
       "    Potential_Evaporation_Rate_surface                                        (time1, lat, lon) float32 ...\n",
       "    Ozone_Mixing_Ratio_isobaric                                               (time1, isobaric, lat, lon) float32 ...\n",
       "    Vertical_Speed_Shear_tropopause                                           (time1, lat, lon) float32 ...\n",
       "    Vertical_Speed_Shear_potential_vorticity_surface                          (time1, potential_vorticity_surface, lat, lon) float32 ...\n",
       "    U-Component_Storm_Motion_height_above_ground_layer                        (time1, height_above_ground_layer1, lat, lon) float32 ...\n",
       "    V-Component_Storm_Motion_height_above_ground_layer                        (time1, height_above_ground_layer1, lat, lon) float32 ...\n",
       "    Ventilation_Rate_planetary_boundary                                       (time1, lat, lon) float32 ...\n",
       "    MSLP_Eta_model_reduction_msl                                              (time1, lat, lon) float32 ...\n",
       "    5-Wave_Geopotential_Height_isobaric                                       (time1, isobaric1, lat, lon) float32 ...\n",
       "    Zonal_Flux_of_Gravity_Wave_Stress_surface_6_Hour_Average                  (time, lat, lon) float32 ...\n",
       "    Meridional_Flux_of_Gravity_Wave_Stress_surface_6_Hour_Average             (time, lat, lon) float32 ...\n",
       "    Planetary_Boundary_Layer_Height_surface                                   (time1, lat, lon) float32 ...\n",
       "    Pressure_of_level_from_which_parcel_was_lifted_pressure_difference_layer  (time1, pressure_difference_layer1, lat, lon) float32 ...\n",
       "    Downward_Short-Wave_Radiation_Flux_surface_6_Hour_Average                 (time, lat, lon) float32 ...\n",
       "    Upward_Short-Wave_Radiation_Flux_surface_6_Hour_Average                   (time, lat, lon) float32 ...\n",
       "    Upward_Short-Wave_Radiation_Flux_atmosphere_top_6_Hour_Average            (time, lat, lon) float32 ...\n",
       "    Downward_Long-Wave_Radp_Flux_surface_6_Hour_Average                       (time, lat, lon) float32 ...\n",
       "    Upward_Long-Wave_Radp_Flux_surface_6_Hour_Average                         (time, lat, lon) float32 ...\n",
       "    Upward_Long-Wave_Radp_Flux_atmosphere_top_6_Hour_Average                  (time, lat, lon) float32 ...\n",
       "    Cloud_Work_Function_entire_atmosphere_single_layer_6_Hour_Average         (time, lat, lon) float32 ...\n",
       "    Sunshine_Duration_surface                                                 (time1, lat, lon) float32 ...\n",
       "    Surface_Lifted_Index_surface                                              (time1, lat, lon) float32 ...\n",
       "    Best_4_layer_Lifted_Index_surface                                         (time1, lat, lon) float32 ...\n",
       "    Volumetric_Soil_Moisture_Content_depth_below_surface_layer                (time1, depth_below_surface_layer, lat, lon) float32 ...\n",
       "    Ground_Heat_Flux_surface_6_Hour_Average                                   (time, lat, lon) float32 ...\n",
       "    Wilting_Point_surface                                                     (time1, lat, lon) float32 ...\n",
       "    Field_Capacity_surface                                                    (time1, lat, lon) float32 ...\n",
       "    Vertical_velocity_pressure_isobaric                                       (time1, isobaric2, lat, lon) float32 ...\n",
       "    Vertical_velocity_pressure_sigma                                          (time1, sigma, lat, lon) float32 ...\n",
       "    Water_equivalent_of_accumulated_snow_depth_surface                        (time1, lat, lon) float32 ...\n",
       "    Water_runoff_surface_6_Hour_Accumulation                                  (time, lat, lon) float32 ...\n",
       "    Wind_speed_gust_surface                                                   (time1, lat, lon) float32 ...\n",
       "    u-component_of_wind_planetary_boundary                                    (time1, lat, lon) float32 ...\n",
       "    u-component_of_wind_potential_vorticity_surface                           (time1, potential_vorticity_surface, lat, lon) float32 ...\n",
       "    u-component_of_wind_pressure_difference_layer                             (time1, pressure_difference_layer, lat, lon) float32 ...\n",
       "    u-component_of_wind_isobaric                                              (time1, isobaric3, lat, lon) float32 ...\n",
       "    u-component_of_wind_maximum_wind                                          (time1, lat, lon) float32 ...\n",
       "    u-component_of_wind_altitude_above_msl                                    (time1, altitude_above_msl, lat, lon) float32 ...\n",
       "    u-component_of_wind_height_above_ground                                   (time1, height_above_ground3, lat, lon) float32 ...\n",
       "    u-component_of_wind_tropopause                                            (time1, lat, lon) float32 ...\n",
       "    u-component_of_wind_sigma                                                 (time1, sigma, lat, lon) float32 ...\n",
       "    v-component_of_wind_planetary_boundary                                    (time1, lat, lon) float32 ...\n",
       "    v-component_of_wind_potential_vorticity_surface                           (time1, potential_vorticity_surface, lat, lon) float32 ...\n",
       "    v-component_of_wind_pressure_difference_layer                             (time1, pressure_difference_layer, lat, lon) float32 ...\n",
       "    v-component_of_wind_isobaric                                              (time1, isobaric3, lat, lon) float32 ...\n",
       "    v-component_of_wind_maximum_wind                                          (time1, lat, lon) float32 ...\n",
       "    v-component_of_wind_altitude_above_msl                                    (time1, altitude_above_msl, lat, lon) float32 ...\n",
       "    v-component_of_wind_height_above_ground                                   (time1, height_above_ground3, lat, lon) float32 ...\n",
       "    v-component_of_wind_tropopause                                            (time1, lat, lon) float32 ...\n",
       "    v-component_of_wind_sigma                                                 (time1, sigma, lat, lon) float32 ...\n",
       "Attributes:\n",
       "    Originating_or_generating_Center:                                        ...\n",
       "    Originating_or_generating_Subcenter:                                     ...\n",
       "    GRIB_table_version:                                                      ...\n",
       "    Type_of_generating_process:                                              ...\n",
       "    Analysis_or_forecast_generating_process_identifier_defined_by_originating...\n",
       "    file_format:                                                             ...\n",
       "    Conventions:                                                             ...\n",
       "    history:                                                                 ...\n",
       "    featureType:                                                             ..."
      ]
     },
     "execution_count": 4,
     "metadata": {},
     "output_type": "execute_result"
    }
   ],
   "source": [
    "gfs_ds"
   ]
  },
  {
   "cell_type": "code",
   "execution_count": 5,
   "metadata": {
    "collapsed": true
   },
   "outputs": [],
   "source": [
    "u_wind = gfs_ds.__getitem__('u-component_of_wind_height_above_ground')\n",
    "v_wind = gfs_ds.__getitem__('v-component_of_wind_height_above_ground')"
   ]
  },
  {
   "cell_type": "code",
   "execution_count": 6,
   "metadata": {
    "collapsed": false
   },
   "outputs": [
    {
     "data": {
      "text/plain": [
       "('time1', 'height_above_ground3', 'lat', 'lon')"
      ]
     },
     "execution_count": 6,
     "metadata": {},
     "output_type": "execute_result"
    }
   ],
   "source": [
    "u_wind.dims"
   ]
  },
  {
   "cell_type": "markdown",
   "metadata": {},
   "source": [
    "## GOCD"
   ]
  },
  {
   "cell_type": "markdown",
   "metadata": {},
   "source": [
    "- up to 2013"
   ]
  },
  {
   "cell_type": "code",
   "execution_count": 24,
   "metadata": {
    "collapsed": true
   },
   "outputs": [],
   "source": [
    "gocd_url = 'https://data.nodc.noaa.gov/thredds/dodsC/gocd/a0123302/gocd_a0123302_01961v3.nc'"
   ]
  },
  {
   "cell_type": "code",
   "execution_count": 25,
   "metadata": {
    "collapsed": false
   },
   "outputs": [],
   "source": [
    "gocd_ds = xr.open_dataset(gocd_url)"
   ]
  },
  {
   "cell_type": "code",
   "execution_count": 26,
   "metadata": {
    "collapsed": true
   },
   "outputs": [
    {
     "data": {
      "text/plain": [
       "<xarray.DataArray 'time' (time: 95)>\n",
       "array(['2013-12-19T19:02:00.038400000', '2013-12-19T19:59:59.971200000',\n",
       "       '2013-12-19T21:00:00.000000000', '2013-12-19T22:00:00.028800000',\n",
       "       '2013-12-19T22:59:59.971200000', '2013-12-20T00:00:00.000000000',\n",
       "       '2013-12-20T01:00:00.028800000', '2013-12-20T01:59:59.971200000',\n",
       "       '2013-12-20T03:00:00.000000000', '2013-12-20T04:00:00.028800000',\n",
       "       '2013-12-20T04:59:59.971200000', '2013-12-20T06:00:00.000000000',\n",
       "       '2013-12-20T07:00:00.028800000', '2013-12-20T07:59:59.971200000',\n",
       "       '2013-12-20T09:00:00.000000000', '2013-12-20T10:00:00.028800000',\n",
       "       '2013-12-20T10:59:59.971200000', '2013-12-20T12:00:00.000000000',\n",
       "       '2013-12-20T13:00:00.028800000', '2013-12-20T13:59:59.971200000',\n",
       "       '2013-12-20T15:00:00.000000000', '2013-12-20T16:00:00.028800000',\n",
       "       '2013-12-20T16:59:59.971200000', '2013-12-20T18:00:00.000000000',\n",
       "       '2013-12-20T19:00:00.028800000', '2013-12-20T19:59:59.971200000',\n",
       "       '2013-12-20T21:00:00.000000000', '2013-12-20T22:00:00.028800000',\n",
       "       '2013-12-20T22:59:59.971200000', '2013-12-21T00:00:00.000000000',\n",
       "       '2013-12-21T01:00:00.028800000', '2013-12-21T01:59:59.971200000',\n",
       "       '2013-12-21T03:00:00.000000000', '2013-12-21T04:00:00.028800000',\n",
       "       '2013-12-21T04:59:59.971200000', '2013-12-21T06:00:00.000000000',\n",
       "       '2013-12-21T07:00:00.028800000', '2013-12-21T07:59:59.971200000',\n",
       "       '2013-12-21T09:00:00.000000000', '2013-12-21T10:00:00.028800000',\n",
       "       '2013-12-21T10:59:59.971200000', '2013-12-21T12:00:00.000000000',\n",
       "       '2013-12-21T13:00:00.028800000', '2013-12-21T13:59:59.971200000',\n",
       "       '2013-12-21T15:00:00.000000000', '2013-12-21T16:00:00.028800000',\n",
       "       '2013-12-21T16:59:59.971200000', '2013-12-21T18:00:00.000000000',\n",
       "       '2013-12-21T19:00:00.028800000', '2013-12-21T19:59:59.971200000',\n",
       "       '2013-12-21T21:00:00.000000000', '2013-12-21T22:00:00.028800000',\n",
       "       '2013-12-21T22:59:59.971200000', '2013-12-22T00:00:00.000000000',\n",
       "       '2013-12-22T01:00:00.028800000', '2013-12-22T01:59:59.971200000',\n",
       "       '2013-12-22T03:00:00.000000000', '2013-12-22T04:00:00.028800000',\n",
       "       '2013-12-22T04:59:59.971200000', '2013-12-22T06:00:00.000000000',\n",
       "       '2013-12-22T07:00:00.028800000', '2013-12-22T07:59:59.971200000',\n",
       "       '2013-12-22T09:00:00.000000000', '2013-12-22T10:00:00.028800000',\n",
       "       '2013-12-22T10:59:59.971200000', '2013-12-22T12:00:00.000000000',\n",
       "       '2013-12-22T13:00:00.028800000', '2013-12-22T13:59:59.971200000',\n",
       "       '2013-12-22T15:00:00.000000000', '2013-12-22T16:00:00.028800000',\n",
       "       '2013-12-22T16:59:59.971200000', '2013-12-22T18:00:00.000000000',\n",
       "       '2013-12-22T19:00:00.028800000', '2013-12-22T19:59:59.971200000',\n",
       "       '2013-12-22T21:00:00.000000000', '2013-12-22T22:00:00.028800000',\n",
       "       '2013-12-22T22:59:59.971200000', '2013-12-23T00:00:00.000000000',\n",
       "       '2013-12-23T01:00:00.028800000', '2013-12-23T01:59:59.971200000',\n",
       "       '2013-12-23T03:00:00.000000000', '2013-12-23T04:00:00.028800000',\n",
       "       '2013-12-23T04:59:59.971200000', '2013-12-23T06:00:00.000000000',\n",
       "       '2013-12-23T07:00:00.028800000', '2013-12-23T07:59:59.971200000',\n",
       "       '2013-12-23T09:00:00.000000000', '2013-12-23T10:00:00.028800000',\n",
       "       '2013-12-23T10:59:59.971200000', '2013-12-23T12:00:00.000000000',\n",
       "       '2013-12-23T13:00:00.028800000', '2013-12-23T13:59:59.971200000',\n",
       "       '2013-12-23T15:00:00.000000000', '2013-12-23T16:00:00.028800000',\n",
       "       '2013-12-23T16:54:00.028800000'], dtype='datetime64[ns]')\n",
       "Coordinates:\n",
       "  * time     (time) datetime64[ns] 2013-12-19T19:02:00.038400 ...\n",
       "Attributes:\n",
       "    long_name:            time\n",
       "    standard_name:        time\n",
       "    axis:                 T\n",
       "    ancillary_variables:  time_quality_flag\n",
       "    data_min:             2456646.29306\n",
       "    data_max:             2456650.20417"
      ]
     },
     "execution_count": 26,
     "metadata": {},
     "output_type": "execute_result"
    }
   ],
   "source": [
    "gocd_ds.time"
   ]
  },
  {
   "cell_type": "markdown",
   "metadata": {},
   "source": [
    "## OSCAR"
   ]
  },
  {
   "cell_type": "markdown",
   "metadata": {},
   "source": [
    "- 1/3 degree "
   ]
  },
  {
   "cell_type": "code",
   "execution_count": 29,
   "metadata": {
    "collapsed": true
   },
   "outputs": [],
   "source": [
    "oscar_url = 'https://podaac-opendap.jpl.nasa.gov:443/opendap/allData/oscar/preview/L4/oscar_third_deg/oscar_vel2015.nc.gz'"
   ]
  },
  {
   "cell_type": "code",
   "execution_count": 30,
   "metadata": {
    "collapsed": true
   },
   "outputs": [
    {
     "ename": "FileNotFoundError",
     "evalue": "[Errno 2] No such file or directory: 'https://podaac-opendap.jpl.nasa.gov:443/opendap/allData/oscar/preview/L4/oscar_third_deg/oscar_vel2015.nc.gz'",
     "output_type": "error",
     "traceback": [
      "\u001b[1;31m---------------------------------------------------------------------------\u001b[0m",
      "\u001b[1;31mFileNotFoundError\u001b[0m                         Traceback (most recent call last)",
      "\u001b[1;32m<ipython-input-30-7f3ad3c87aaa>\u001b[0m in \u001b[0;36m<module>\u001b[1;34m()\u001b[0m\n\u001b[1;32m----> 1\u001b[1;33m \u001b[0moscar_ds\u001b[0m \u001b[1;33m=\u001b[0m \u001b[0mxr\u001b[0m\u001b[1;33m.\u001b[0m\u001b[0mopen_dataset\u001b[0m\u001b[1;33m(\u001b[0m\u001b[0moscar_url\u001b[0m\u001b[1;33m)\u001b[0m\u001b[1;33m\u001b[0m\u001b[0m\n\u001b[0m",
      "\u001b[1;32m/home/evankielley/anaconda3/lib/python3.5/site-packages/xarray/backends/api.py\u001b[0m in \u001b[0;36mopen_dataset\u001b[1;34m(filename_or_obj, group, decode_cf, mask_and_scale, decode_times, autoclose, concat_characters, decode_coords, engine, chunks, lock, cache, drop_variables)\u001b[0m\n\u001b[0;32m    283\u001b[0m         \u001b[1;32melif\u001b[0m \u001b[0mengine\u001b[0m \u001b[1;33m==\u001b[0m \u001b[1;34m'scipy'\u001b[0m\u001b[1;33m:\u001b[0m\u001b[1;33m\u001b[0m\u001b[0m\n\u001b[0;32m    284\u001b[0m             store = backends.ScipyDataStore(filename_or_obj,\n\u001b[1;32m--> 285\u001b[1;33m                                             autoclose=autoclose)\n\u001b[0m\u001b[0;32m    286\u001b[0m         \u001b[1;32melif\u001b[0m \u001b[0mengine\u001b[0m \u001b[1;33m==\u001b[0m \u001b[1;34m'pydap'\u001b[0m\u001b[1;33m:\u001b[0m\u001b[1;33m\u001b[0m\u001b[0m\n\u001b[0;32m    287\u001b[0m             \u001b[0mstore\u001b[0m \u001b[1;33m=\u001b[0m \u001b[0mbackends\u001b[0m\u001b[1;33m.\u001b[0m\u001b[0mPydapDataStore\u001b[0m\u001b[1;33m(\u001b[0m\u001b[0mfilename_or_obj\u001b[0m\u001b[1;33m)\u001b[0m\u001b[1;33m\u001b[0m\u001b[0m\n",
      "\u001b[1;32m/home/evankielley/anaconda3/lib/python3.5/site-packages/xarray/backends/scipy_.py\u001b[0m in \u001b[0;36m__init__\u001b[1;34m(self, filename_or_obj, mode, format, group, writer, mmap, autoclose)\u001b[0m\n\u001b[0;32m    133\u001b[0m                                    \u001b[0mfilename\u001b[0m\u001b[1;33m=\u001b[0m\u001b[0mfilename_or_obj\u001b[0m\u001b[1;33m,\u001b[0m\u001b[1;33m\u001b[0m\u001b[0m\n\u001b[0;32m    134\u001b[0m                                    mode=mode, mmap=mmap, version=version)\n\u001b[1;32m--> 135\u001b[1;33m         \u001b[0mself\u001b[0m\u001b[1;33m.\u001b[0m\u001b[0mds\u001b[0m \u001b[1;33m=\u001b[0m \u001b[0mopener\u001b[0m\u001b[1;33m(\u001b[0m\u001b[1;33m)\u001b[0m\u001b[1;33m\u001b[0m\u001b[0m\n\u001b[0m\u001b[0;32m    136\u001b[0m         \u001b[0mself\u001b[0m\u001b[1;33m.\u001b[0m\u001b[0m_autoclose\u001b[0m \u001b[1;33m=\u001b[0m \u001b[0mautoclose\u001b[0m\u001b[1;33m\u001b[0m\u001b[0m\n\u001b[0;32m    137\u001b[0m         \u001b[0mself\u001b[0m\u001b[1;33m.\u001b[0m\u001b[0m_isopen\u001b[0m \u001b[1;33m=\u001b[0m \u001b[1;32mTrue\u001b[0m\u001b[1;33m\u001b[0m\u001b[0m\n",
      "\u001b[1;32m/home/evankielley/anaconda3/lib/python3.5/site-packages/xarray/backends/scipy_.py\u001b[0m in \u001b[0;36m_open_scipy_netcdf\u001b[1;34m(filename, mode, mmap, version)\u001b[0m\n\u001b[0;32m     65\u001b[0m     \u001b[1;32mif\u001b[0m \u001b[0misinstance\u001b[0m\u001b[1;33m(\u001b[0m\u001b[0mfilename\u001b[0m\u001b[1;33m,\u001b[0m \u001b[0mbasestring\u001b[0m\u001b[1;33m)\u001b[0m \u001b[1;32mand\u001b[0m \u001b[0mfilename\u001b[0m\u001b[1;33m.\u001b[0m\u001b[0mendswith\u001b[0m\u001b[1;33m(\u001b[0m\u001b[1;34m'.gz'\u001b[0m\u001b[1;33m)\u001b[0m\u001b[1;33m:\u001b[0m\u001b[1;33m\u001b[0m\u001b[0m\n\u001b[0;32m     66\u001b[0m         \u001b[1;32mtry\u001b[0m\u001b[1;33m:\u001b[0m\u001b[1;33m\u001b[0m\u001b[0m\n\u001b[1;32m---> 67\u001b[1;33m             return scipy.io.netcdf_file(gzip.open(filename), mode=mode,\n\u001b[0m\u001b[0;32m     68\u001b[0m                                         mmap=mmap, version=version)\n\u001b[0;32m     69\u001b[0m         \u001b[1;32mexcept\u001b[0m \u001b[0mTypeError\u001b[0m \u001b[1;32mas\u001b[0m \u001b[0me\u001b[0m\u001b[1;33m:\u001b[0m\u001b[1;33m\u001b[0m\u001b[0m\n",
      "\u001b[1;32m/home/evankielley/anaconda3/lib/python3.5/gzip.py\u001b[0m in \u001b[0;36mopen\u001b[1;34m(filename, mode, compresslevel, encoding, errors, newline)\u001b[0m\n\u001b[0;32m     51\u001b[0m     \u001b[0mgz_mode\u001b[0m \u001b[1;33m=\u001b[0m \u001b[0mmode\u001b[0m\u001b[1;33m.\u001b[0m\u001b[0mreplace\u001b[0m\u001b[1;33m(\u001b[0m\u001b[1;34m\"t\"\u001b[0m\u001b[1;33m,\u001b[0m \u001b[1;34m\"\"\u001b[0m\u001b[1;33m)\u001b[0m\u001b[1;33m\u001b[0m\u001b[0m\n\u001b[0;32m     52\u001b[0m     \u001b[1;32mif\u001b[0m \u001b[0misinstance\u001b[0m\u001b[1;33m(\u001b[0m\u001b[0mfilename\u001b[0m\u001b[1;33m,\u001b[0m \u001b[1;33m(\u001b[0m\u001b[0mstr\u001b[0m\u001b[1;33m,\u001b[0m \u001b[0mbytes\u001b[0m\u001b[1;33m)\u001b[0m\u001b[1;33m)\u001b[0m\u001b[1;33m:\u001b[0m\u001b[1;33m\u001b[0m\u001b[0m\n\u001b[1;32m---> 53\u001b[1;33m         \u001b[0mbinary_file\u001b[0m \u001b[1;33m=\u001b[0m \u001b[0mGzipFile\u001b[0m\u001b[1;33m(\u001b[0m\u001b[0mfilename\u001b[0m\u001b[1;33m,\u001b[0m \u001b[0mgz_mode\u001b[0m\u001b[1;33m,\u001b[0m \u001b[0mcompresslevel\u001b[0m\u001b[1;33m)\u001b[0m\u001b[1;33m\u001b[0m\u001b[0m\n\u001b[0m\u001b[0;32m     54\u001b[0m     \u001b[1;32melif\u001b[0m \u001b[0mhasattr\u001b[0m\u001b[1;33m(\u001b[0m\u001b[0mfilename\u001b[0m\u001b[1;33m,\u001b[0m \u001b[1;34m\"read\"\u001b[0m\u001b[1;33m)\u001b[0m \u001b[1;32mor\u001b[0m \u001b[0mhasattr\u001b[0m\u001b[1;33m(\u001b[0m\u001b[0mfilename\u001b[0m\u001b[1;33m,\u001b[0m \u001b[1;34m\"write\"\u001b[0m\u001b[1;33m)\u001b[0m\u001b[1;33m:\u001b[0m\u001b[1;33m\u001b[0m\u001b[0m\n\u001b[0;32m     55\u001b[0m         \u001b[0mbinary_file\u001b[0m \u001b[1;33m=\u001b[0m \u001b[0mGzipFile\u001b[0m\u001b[1;33m(\u001b[0m\u001b[1;32mNone\u001b[0m\u001b[1;33m,\u001b[0m \u001b[0mgz_mode\u001b[0m\u001b[1;33m,\u001b[0m \u001b[0mcompresslevel\u001b[0m\u001b[1;33m,\u001b[0m \u001b[0mfilename\u001b[0m\u001b[1;33m)\u001b[0m\u001b[1;33m\u001b[0m\u001b[0m\n",
      "\u001b[1;32m/home/evankielley/anaconda3/lib/python3.5/gzip.py\u001b[0m in \u001b[0;36m__init__\u001b[1;34m(self, filename, mode, compresslevel, fileobj, mtime)\u001b[0m\n\u001b[0;32m    161\u001b[0m             \u001b[0mmode\u001b[0m \u001b[1;33m+=\u001b[0m \u001b[1;34m'b'\u001b[0m\u001b[1;33m\u001b[0m\u001b[0m\n\u001b[0;32m    162\u001b[0m         \u001b[1;32mif\u001b[0m \u001b[0mfileobj\u001b[0m \u001b[1;32mis\u001b[0m \u001b[1;32mNone\u001b[0m\u001b[1;33m:\u001b[0m\u001b[1;33m\u001b[0m\u001b[0m\n\u001b[1;32m--> 163\u001b[1;33m             \u001b[0mfileobj\u001b[0m \u001b[1;33m=\u001b[0m \u001b[0mself\u001b[0m\u001b[1;33m.\u001b[0m\u001b[0mmyfileobj\u001b[0m \u001b[1;33m=\u001b[0m \u001b[0mbuiltins\u001b[0m\u001b[1;33m.\u001b[0m\u001b[0mopen\u001b[0m\u001b[1;33m(\u001b[0m\u001b[0mfilename\u001b[0m\u001b[1;33m,\u001b[0m \u001b[0mmode\u001b[0m \u001b[1;32mor\u001b[0m \u001b[1;34m'rb'\u001b[0m\u001b[1;33m)\u001b[0m\u001b[1;33m\u001b[0m\u001b[0m\n\u001b[0m\u001b[0;32m    164\u001b[0m         \u001b[1;32mif\u001b[0m \u001b[0mfilename\u001b[0m \u001b[1;32mis\u001b[0m \u001b[1;32mNone\u001b[0m\u001b[1;33m:\u001b[0m\u001b[1;33m\u001b[0m\u001b[0m\n\u001b[0;32m    165\u001b[0m             \u001b[0mfilename\u001b[0m \u001b[1;33m=\u001b[0m \u001b[0mgetattr\u001b[0m\u001b[1;33m(\u001b[0m\u001b[0mfileobj\u001b[0m\u001b[1;33m,\u001b[0m \u001b[1;34m'name'\u001b[0m\u001b[1;33m,\u001b[0m \u001b[1;34m''\u001b[0m\u001b[1;33m)\u001b[0m\u001b[1;33m\u001b[0m\u001b[0m\n",
      "\u001b[1;31mFileNotFoundError\u001b[0m: [Errno 2] No such file or directory: 'https://podaac-opendap.jpl.nasa.gov:443/opendap/allData/oscar/preview/L4/oscar_third_deg/oscar_vel2015.nc.gz'"
     ]
    }
   ],
   "source": [
    "oscar_ds = xr.open_dataset(oscar_url)"
   ]
  },
  {
   "cell_type": "markdown",
   "metadata": {},
   "source": [
    "## HYCOM GLB V0.08"
   ]
  },
  {
   "cell_type": "code",
   "execution_count": 37,
   "metadata": {
    "collapsed": true
   },
   "outputs": [],
   "source": [
    "glb_url = 'http://tds.hycom.org/thredds/dodsC/GLBv0.08/expt_56.3'"
   ]
  },
  {
   "cell_type": "code",
   "execution_count": 39,
   "metadata": {
    "collapsed": false
   },
   "outputs": [],
   "source": [
    "glb_ds = xr.open_dataset(glb_url, decode_times=False)"
   ]
  },
  {
   "cell_type": "code",
   "execution_count": 77,
   "metadata": {
    "collapsed": false
   },
   "outputs": [
    {
     "data": {
      "text/plain": [
       "'hours since 2000-01-01 00:00:00'"
      ]
     },
     "execution_count": 77,
     "metadata": {},
     "output_type": "execute_result"
    }
   ],
   "source": [
    "glb_ds.time.units"
   ]
  },
  {
   "cell_type": "code",
   "execution_count": 79,
   "metadata": {
    "collapsed": false
   },
   "outputs": [],
   "source": [
    "# June 1, 00:00 = 135120., July 1, 00:00 = 135840.\n",
    "glb_ds = glb_ds.sel(depth=0.0, lat = slice(47., 49.), lon = slice(-51., -49.), time=slice(135120., 135840.))"
   ]
  },
  {
   "cell_type": "code",
   "execution_count": 80,
   "metadata": {
    "collapsed": false
   },
   "outputs": [
    {
     "data": {
      "text/plain": [
       "<xarray.Dataset>\n",
       "Dimensions:            (lat: 51, lon: 25, time: 236)\n",
       "Coordinates:\n",
       "    depth              float64 0.0\n",
       "  * lat                (lat) float64 47.0 47.04 47.08 47.12 47.16 47.2 47.24 ...\n",
       "  * lon                (lon) float64 -50.96 -50.88 -50.8 -50.72 -50.64 ...\n",
       "  * time               (time) float64 1.351e+05 1.351e+05 1.351e+05 ...\n",
       "Data variables:\n",
       "    tau                (time) float64 ...\n",
       "    water_u            (time, lat, lon) float64 ...\n",
       "    water_u_bottom     (time, lat, lon) float64 ...\n",
       "    water_v            (time, lat, lon) float64 ...\n",
       "    water_v_bottom     (time, lat, lon) float64 ...\n",
       "    water_temp         (time, lat, lon) float64 ...\n",
       "    water_temp_bottom  (time, lat, lon) float64 ...\n",
       "    salinity           (time, lat, lon) float64 ...\n",
       "    salinity_bottom    (time, lat, lon) float64 ...\n",
       "    surf_el            (time, lat, lon) float64 ...\n",
       "Attributes:\n",
       "    classification_level:      UNCLASSIFIED\n",
       "    distribution_statement:    Approved for public release. Distribution unli...\n",
       "    downgrade_date:            not applicable\n",
       "    classification_authority:  not applicable\n",
       "    institution:               Naval Oceanographic Office\n",
       "    source:                    HYCOM archive file\n",
       "    history:                   archv2ncdf3z\n",
       "    field_type:                instantaneous\n",
       "    Conventions:               CF-1.6 NAVO_netcdf_v1.1"
      ]
     },
     "execution_count": 80,
     "metadata": {},
     "output_type": "execute_result"
    }
   ],
   "source": [
    "glb_ds"
   ]
  },
  {
   "cell_type": "code",
   "execution_count": 83,
   "metadata": {
    "collapsed": true
   },
   "outputs": [],
   "source": [
    "water_u = glb_ds.water_u\n",
    "water_v = glb_ds.water_v\n",
    "water_temp = glb_ds.water_temp"
   ]
  },
  {
   "cell_type": "code",
   "execution_count": 82,
   "metadata": {
    "collapsed": false
   },
   "outputs": [
    {
     "data": {
      "text/plain": [
       "<xarray.DataArray 'water_u' (time: 236, lat: 51, lon: 25)>\n",
       "[300900 values with dtype=float64]\n",
       "Coordinates:\n",
       "    depth    float64 0.0\n",
       "  * lat      (lat) float64 47.0 47.04 47.08 47.12 47.16 47.2 47.24 47.28 ...\n",
       "  * lon      (lon) float64 -50.96 -50.88 -50.8 -50.72 -50.64 -50.56 -50.48 ...\n",
       "  * time     (time) float64 1.351e+05 1.351e+05 1.351e+05 1.351e+05 ...\n",
       "Attributes:\n",
       "    long_name:      Eastward Water Velocity\n",
       "    standard_name:  eastward_sea_water_velocity\n",
       "    units:          m/s\n",
       "    NAVO_code:      17"
      ]
     },
     "execution_count": 82,
     "metadata": {},
     "output_type": "execute_result"
    }
   ],
   "source": [
    "water_u"
   ]
  },
  {
   "cell_type": "code",
   "execution_count": null,
   "metadata": {
    "collapsed": true
   },
   "outputs": [],
   "source": []
  },
  {
   "cell_type": "code",
   "execution_count": null,
   "metadata": {
    "collapsed": true
   },
   "outputs": [],
   "source": []
  },
  {
   "cell_type": "markdown",
   "metadata": {},
   "source": [
    "## ECCO (WVEL)"
   ]
  },
  {
   "cell_type": "markdown",
   "metadata": {},
   "source": [
    "- up to 2013\n",
    "- 1/4 degree\n",
    "- 3-day average"
   ]
  },
  {
   "cell_type": "code",
   "execution_count": 34,
   "metadata": {
    "collapsed": true
   },
   "outputs": [],
   "source": [
    "ecco_url = 'http://harbor.mit.edu:8180/thredds/dodsC/las/ecco2.jpl.nasa.gov/cube92/quart_90S_90N/WVEL.nc/WVEL.1440x720x50.20120814.nc'"
   ]
  },
  {
   "cell_type": "code",
   "execution_count": 35,
   "metadata": {
    "collapsed": false
   },
   "outputs": [],
   "source": [
    "ecco_ds = xr.open_dataset(ecco_url)"
   ]
  },
  {
   "cell_type": "code",
   "execution_count": 36,
   "metadata": {
    "collapsed": false
   },
   "outputs": [
    {
     "data": {
      "text/plain": [
       "<xarray.Dataset>\n",
       "Dimensions:      (DEPTH_T: 50, LATITUDE_T: 720, LONGITUDE_T: 1440, TIME: 1)\n",
       "Coordinates:\n",
       "  * TIME         (TIME) datetime64[ns] 2012-08-14T12:00:00\n",
       "  * DEPTH_T      (DEPTH_T) float32 5.0 15.0 25.0 35.0 45.0 55.0 65.0 75.005 ...\n",
       "  * LATITUDE_T   (LATITUDE_T) float32 -89.875 -89.625 -89.375 -89.125 ...\n",
       "  * LONGITUDE_T  (LONGITUDE_T) float32 0.125 0.375 0.625 0.875 1.125 1.375 ...\n",
       "Data variables:\n",
       "    WVEL         (TIME, DEPTH_T, LATITUDE_T, LONGITUDE_T) float64 ...\n",
       "Attributes:\n",
       "    description:  ECCO2 cube92 3-day average"
      ]
     },
     "execution_count": 36,
     "metadata": {},
     "output_type": "execute_result"
    }
   ],
   "source": [
    "ecco_ds"
   ]
  },
  {
   "cell_type": "markdown",
   "metadata": {},
   "source": [
    "## Globcurrent"
   ]
  },
  {
   "cell_type": "markdown",
   "metadata": {},
   "source": [
    "- up to 2014"
   ]
  },
  {
   "cell_type": "code",
   "execution_count": 31,
   "metadata": {
    "collapsed": true
   },
   "outputs": [],
   "source": [
    "globcurrent_url = 'http://www.ifremer.fr/opendap/cerdap1/globcurrent/v2.0/global_012_deg/geostrophic/2014/001/20140101000000-GLOBCURRENT-L4-CURgeo_0m-ALT_OI-v02.0-fv01.0.nc'"
   ]
  },
  {
   "cell_type": "code",
   "execution_count": 32,
   "metadata": {
    "collapsed": true
   },
   "outputs": [],
   "source": [
    "globcurrent_ds = xr.open_dataset(globcurrent_url)"
   ]
  },
  {
   "cell_type": "code",
   "execution_count": 33,
   "metadata": {
    "collapsed": false,
    "scrolled": true
   },
   "outputs": [
    {
     "data": {
      "text/plain": [
       "<xarray.Dataset>\n",
       "Dimensions:                                       (lat: 1280, lon: 2880, time: 1)\n",
       "Coordinates:\n",
       "  * time                                          (time) datetime64[ns] 2014-01-01 ...\n",
       "  * lat                                           (lat) float64 -79.94 ...\n",
       "  * lon                                           (lon) float64 -179.9 ...\n",
       "Data variables:\n",
       "    eastward_geostrophic_current_velocity         (time, lat, lon) float64 ...\n",
       "    eastward_geostrophic_current_velocity_error   (time, lat, lon) float64 ...\n",
       "    northward_geostrophic_current_velocity        (time, lat, lon) float64 ...\n",
       "    northward_geostrophic_current_velocity_error  (time, lat, lon) float64 ...\n",
       "Attributes:\n",
       "    cdm_data_type:                 grid\n",
       "    time_coverage_resolution:      P1D\n",
       "    format_version:                GlobCurrent v2.0\n",
       "    product_version:               1.0\n",
       "    processing_software:           Cersat/Cerbere 1.0\n",
       "    sensor_type:                   altimeter\n",
       "    references:                    http://www.globcurrent.org\n",
       "    Metadata_Conventions:          Unidata Dataset Discovery v1.0\n",
       "    keywords:                      Oceans > Ocean circulation > Ocean currents\n",
       "    Conventions:                   CF-1.6, Unidata Observation Dataset v1.0\n",
       "    publisher_name:                ifremer/cersat\n",
       "    id:                            CLS-L4-CURgeo_0m-ALT_OI-v01.0\n",
       "    naming_authority:              fr.ifremer.cersat\n",
       "    spatial_resolution:            0.25\n",
       "    uuid:                          \n",
       "    title:                         Merged Global Ocean Gridded Absolute Geost...\n",
       "    standard_name_vocabulary:      NetCDF Climate and Forecast (CF) Metadata ...\n",
       "    netcdf_version_id:             4.1.1 of Jan 26 2011 17:41:44 $\n",
       "    platform:                      \n",
       "    publisher_url:                 http,//cersat.ifremer.fr\n",
       "    source_version:                \n",
       "    sensor:                        Jason-2; AltiKa; Cryosat-2\n",
       "    processing_level:              L4\n",
       "    publisher_email:               cersat@ifremer.fr\n",
       "    creator_email:                 mrio@cls.fr\n",
       "    globcurrent_version_id:        1.0\n",
       "    metadata_link:                 \n",
       "    band:                          \n",
       "    keywords_vocabulary:           NASA Global Change Master Directory (GCMD)...\n",
       "    institution:                   Collecte Localisation Satellite\n",
       "    scientific_project:            GlobCurrent\n",
       "    institution_abbreviation:      CLS\n",
       "    license:                       GlobCurrent protocol describes data use as...\n",
       "    creator_name:                  Marie-Helene Rio, for GlobCurrent project\n",
       "    acknowledgement:               Data produced by GlobCurrent project\n",
       "    summary:                       This dataset contains absolute geostrophic...\n",
       "    platform_type:                 leo satellite\n",
       "    source:                        \n",
       "    geospatial_vertical_positive:  up\n",
       "    creator_url:                   \n",
       "    geospatial_vertical_units:     meters above mean sea level\n",
       "    history:                       Original file creation by CLS\n",
       "    geospatial_lat_min:            -80.0\n",
       "    geospatial_lat_max:            80.0\n",
       "    geospatial_lon_min:            -180.0\n",
       "    geospatial_lon_max:            180.0\n",
       "    geospatial_vertical_min:       0.0\n",
       "    geospatial_vertical_max:       0.0\n",
       "    geospatial_lat_units:          degrees\n",
       "    geospatial_lon_units:          degrees\n",
       "    geospatial_lat_resolution:     0.125\n",
       "    geospatial_lon_resolution:     0.125\n",
       "    date_created:                  20151117T232748Z\n",
       "    date_modified:                 20151117T232748Z\n",
       "    time_coverage_start:           20140101T000000Z\n",
       "    time_coverage_end:             20140101T000000Z"
      ]
     },
     "execution_count": 33,
     "metadata": {},
     "output_type": "execute_result"
    }
   ],
   "source": [
    "globcurrent_ds"
   ]
  },
  {
   "cell_type": "markdown",
   "metadata": {},
   "source": [
    "## NOMADS RTOFS"
   ]
  },
  {
   "cell_type": "markdown",
   "metadata": {},
   "source": [
    "- 1 hour"
   ]
  },
  {
   "cell_type": "markdown",
   "metadata": {},
   "source": [
    "http://polar.ncep.noaa.gov/mmab/papers/tn284/v211p211.pdf"
   ]
  },
  {
   "cell_type": "markdown",
   "metadata": {},
   "source": [
    "https://data.nodc.noaa.gov/thredds/catalog/ncep/rtofs/catalog.html"
   ]
  },
  {
   "cell_type": "code",
   "execution_count": 5,
   "metadata": {
    "collapsed": true
   },
   "outputs": [],
   "source": [
    "rotfs_url = 'https://data.nodc.noaa.gov/thredds/dodsC/ncep/rtofs/2015/201512/ofs.20151231/surface/ofs_atl.t00z.n000.20151231.grb.grib2'"
   ]
  },
  {
   "cell_type": "code",
   "execution_count": 6,
   "metadata": {
    "collapsed": true
   },
   "outputs": [],
   "source": [
    "rotfs_ds = xr.open_dataset(rotfs_url)"
   ]
  },
  {
   "cell_type": "code",
   "execution_count": 7,
   "metadata": {
    "collapsed": false
   },
   "outputs": [
    {
     "data": {
      "text/plain": [
       "<xarray.Dataset>\n",
       "Dimensions:                                    (bounds_dim: 2, hybrid_layer: 1, time: 1, x: 1200, y: 1684)\n",
       "Coordinates:\n",
       "    Longitude_of_V_Wind_Component_of_Velocity  (y, x) float32 ...\n",
       "    Latitude_of_V_Wind_Component_of_Velocity   (y, x) float32 ...\n",
       "    Latitude_of_U_Wind_Component_of_Velocity   (y, x) float32 ...\n",
       "    Longitude_of_U_Wind_Component_of_Velocity  (y, x) float32 ...\n",
       "    Longitude_of_Pressure_Point                (y, x) float32 ...\n",
       "    Latitude_of_Pressure_Point                 (y, x) float32 ...\n",
       "  * time                                       (time) datetime64[ns] 2015-12-31\n",
       "  * hybrid_layer                               (hybrid_layer) float64 1.5\n",
       "Dimensions without coordinates: bounds_dim, x, y\n",
       "Data variables:\n",
       "    V-component_of_current                     (time, hybrid_layer, y, x) float32 ...\n",
       "    U-component_of_current                     (time, hybrid_layer, y, x) float32 ...\n",
       "    Barotropic_U_velocity                      (time, y, x) float32 ...\n",
       "    Sea_Surface_Height_Relative_to_Geoid       (time, y, x) float32 ...\n",
       "    Montgomery_stream_function                 (time, y, x) float32 ...\n",
       "    Barotropic_V_velocity                      (time, y, x) float32 ...\n",
       "    N3-D_Salinity                              (time, hybrid_layer, y, x) float32 ...\n",
       "    mixed_layer_depth                          (time, y, x) float32 ...\n",
       "    N3-D_Temperature                           (time, hybrid_layer, y, x) float32 ...\n",
       "    Curvilinear_Orthogonal                     |S64 ...\n",
       "    hybrid_layer_bounds                        (hybrid_layer, bounds_dim) float64 ...\n",
       "Attributes:\n",
       "    Conventions:              CF-1.4\n",
       "    Originating_center:       US National Weather Service - NCEP(WMC) (7)\n",
       "    Generating_Model:         HYCOM - North Pacific basin\n",
       "    Product_Status:           Operational products\n",
       "    Product_Type:             Forecast products\n",
       "    title:                    US National Weather Service - NCEP(WMC) HYCOM -...\n",
       "    institution:              Center US National Weather Service - NCEP(WMC) (7)\n",
       "    source:                   Type: Forecast products Status: Operational pro...\n",
       "    history:                  Direct read of GRIB-2 into NetCDF-Java 4 API\n",
       "    CF%3afeature_type:        GRID\n",
       "    file_format:              GRIB-2\n",
       "    location:                 /sites/data.nodc/htdocs/ncep/rtofs/2015/201512/...\n",
       "    _CoordinateModelRunDate:  2015-12-31T00:00:00Z\n",
       "    DODS.strlen:              0"
      ]
     },
     "execution_count": 7,
     "metadata": {},
     "output_type": "execute_result"
    }
   ],
   "source": [
    "rotfs_ds"
   ]
  },
  {
   "cell_type": "code",
   "execution_count": 8,
   "metadata": {
    "collapsed": false
   },
   "outputs": [
    {
     "data": {
      "text/plain": [
       "<xarray.DataArray 'Longitude_of_U_Wind_Component_of_Velocity' (y: 10, x: 10)>\n",
       "array([[ 67.943001,  67.914001,  67.885002,  67.856003,  67.825996,  67.795998,\n",
       "         67.765999,  67.735001,  67.704002,  67.672997],\n",
       "       [ 67.700996,  67.672997,  67.643997,  67.613998,  67.584999,  67.555   ,\n",
       "         67.525002,  67.495003,  67.463997,  67.432999],\n",
       "       [ 67.459999,  67.431   ,  67.403   ,  67.374001,  67.344002,  67.315002,\n",
       "         67.285004,  67.254997,  67.223999,  67.194   ],\n",
       "       [ 67.219002,  67.190002,  67.162003,  67.133003,  67.103996,  67.074997,\n",
       "         67.044998,  67.014999,  66.985001,  66.954002],\n",
       "       [ 66.977997,  66.949997,  66.920998,  66.892998,  66.863998,  66.834999,\n",
       "         66.805   ,  66.776001,  66.746002,  66.714996],\n",
       "       [ 66.737   ,  66.709   ,  66.681   ,  66.653   ,  66.624001,  66.595001,\n",
       "         66.566002,  66.536003,  66.507004,  66.476997],\n",
       "       [ 66.497002,  66.469002,  66.441002,  66.413002,  66.385002,  66.356003,\n",
       "         66.327003,  66.296997,  66.267998,  66.237999],\n",
       "       [ 66.257004,  66.228996,  66.200996,  66.174004,  66.144997,  66.116997,\n",
       "         66.087997,  66.058998,  66.028999,  66.      ],\n",
       "       [ 66.016998,  65.989998,  65.961998,  65.933998,  65.905998,  65.877998,\n",
       "         65.848999,  65.82    ,  65.791   ,  65.762001],\n",
       "       [ 65.777   ,  65.75    ,  65.723   ,  65.695   ,  65.667999,  65.639   ,\n",
       "         65.611   ,  65.582001,  65.553001,  65.524002]], dtype=float32)\n",
       "Coordinates:\n",
       "    Longitude_of_V_Wind_Component_of_Velocity  (y, x) float32 ...\n",
       "    Latitude_of_V_Wind_Component_of_Velocity   (y, x) float32 ...\n",
       "    Latitude_of_U_Wind_Component_of_Velocity   (y, x) float32 ...\n",
       "    Longitude_of_U_Wind_Component_of_Velocity  (y, x) float32 ...\n",
       "    Longitude_of_Pressure_Point                (y, x) float32 ...\n",
       "    Latitude_of_Pressure_Point                 (y, x) float32 ...\n",
       "Dimensions without coordinates: y, x\n",
       "Attributes:\n",
       "    units:                                  degrees_east\n",
       "    long_name:                              longitude coordinate\n",
       "    grid_mapping:                           Curvilinear_Orthogonal\n",
       "    GRIB_param_discipline:                  Meteorological_products\n",
       "    GRIB_param_category:                    Momentum\n",
       "    GRIB_param_name:                        Longitude_of_U_Wind_Component_of_...\n",
       "    GRIB_generating_process_type:           Forecast\n",
       "    GRIB_param_id:                          [  2   0   2 199]\n",
       "    GRIB_product_definition_template:       0\n",
       "    GRIB_product_definition_template_desc:  Analysis/forecast at horizontal l...\n",
       "    GRIB_level_type:                        1\n",
       "    GRIB_level_type_name:                   surface\n",
       "    GRIB_VectorComponentFlag:               gridRelative\n",
       "    standard_name:                          longitude\n",
       "    _CoordinateAxisType:                    Lon"
      ]
     },
     "execution_count": 8,
     "metadata": {},
     "output_type": "execute_result"
    }
   ],
   "source": [
    "rotfs_ds.Longitude_of_U_Wind_Component_of_Velocity[:10,:10]"
   ]
  },
  {
   "cell_type": "code",
   "execution_count": 11,
   "metadata": {
    "collapsed": true
   },
   "outputs": [],
   "source": [
    "v_current = rotfs_ds.__getitem__('V-component_of_current')\n",
    "u_current = rotfs_ds.__getitem__('U-component_of_current')\n",
    "n3d_temperature = rotfs_ds.__getitem__('N3-D_Temperature')"
   ]
  },
  {
   "cell_type": "code",
   "execution_count": 12,
   "metadata": {
    "collapsed": false
   },
   "outputs": [
    {
     "data": {
      "text/plain": [
       "('time', 'hybrid_layer', 'y', 'x')"
      ]
     },
     "execution_count": 12,
     "metadata": {},
     "output_type": "execute_result"
    }
   ],
   "source": [
    "v_current.dims"
   ]
  },
  {
   "cell_type": "code",
   "execution_count": 13,
   "metadata": {
    "collapsed": false
   },
   "outputs": [
    {
     "data": {
      "text/plain": [
       "('time', 'hybrid_layer', 'y', 'x')"
      ]
     },
     "execution_count": 13,
     "metadata": {},
     "output_type": "execute_result"
    }
   ],
   "source": [
    "n3d_temperature.dims"
   ]
  },
  {
   "cell_type": "markdown",
   "metadata": {},
   "source": [
    "### Convert lon, lat to x, y"
   ]
  },
  {
   "cell_type": "code",
   "execution_count": null,
   "metadata": {
    "collapsed": true
   },
   "outputs": [],
   "source": []
  },
  {
   "cell_type": "markdown",
   "metadata": {},
   "source": [
    "### Old Examples"
   ]
  },
  {
   "cell_type": "code",
   "execution_count": null,
   "metadata": {
    "collapsed": true
   },
   "outputs": [],
   "source": [
    "ds = xr.open_dataset('http://nomads.ncep.noaa.gov:9090/dods/rtofs/rtofs_global20180111/rtofs_glo_2ds_forecast_3hrly_diag',\n",
    "                       chunks={'lat':400, 'lon':400, 'time':10})"
   ]
  },
  {
   "cell_type": "code",
   "execution_count": null,
   "metadata": {
    "collapsed": true
   },
   "outputs": [],
   "source": [
    "ds"
   ]
  },
  {
   "cell_type": "code",
   "execution_count": null,
   "metadata": {
    "collapsed": true
   },
   "outputs": [],
   "source": [
    "ds.ssh.isel(time=0).plot()"
   ]
  },
  {
   "cell_type": "code",
   "execution_count": null,
   "metadata": {
    "collapsed": true
   },
   "outputs": [],
   "source": []
  },
  {
   "cell_type": "markdown",
   "metadata": {},
   "source": [
    "## Local Files"
   ]
  },
  {
   "cell_type": "code",
   "execution_count": 49,
   "metadata": {
    "collapsed": true
   },
   "outputs": [],
   "source": [
    "import netCDF4 as nc"
   ]
  },
  {
   "cell_type": "code",
   "execution_count": 2,
   "metadata": {
    "collapsed": true
   },
   "outputs": [
    {
     "name": "stdout",
     "output_type": "stream",
     "text": [
      "Help on class Dataset in module netCDF4._netCDF4:\n",
      "\n",
      "class Dataset(builtins.object)\n",
      " |  A netCDF `netCDF4.Dataset` is a collection of dimensions, groups, variables and\n",
      " |  attributes. Together they describe the meaning of data and relations among\n",
      " |  data fields stored in a netCDF file. See `netCDF4.Dataset.__init__` for more\n",
      " |  details.\n",
      " |  \n",
      " |  A list of attribute names corresponding to global netCDF attributes\n",
      " |  defined for the `netCDF4.Dataset` can be obtained with the\n",
      " |  `netCDF4.Dataset.ncattrs` method.\n",
      " |  These attributes can be created by assigning to an attribute of the\n",
      " |  `netCDF4.Dataset` instance. A dictionary containing all the netCDF attribute\n",
      " |  name/value pairs is provided by the `__dict__` attribute of a\n",
      " |  `netCDF4.Dataset` instance.\n",
      " |  \n",
      " |  The following class variables are read-only and should not be\n",
      " |  modified by the user.\n",
      " |  \n",
      " |  **`dimensions`**: The `dimensions` dictionary maps the names of\n",
      " |  dimensions defined for the `netCDF4.Group` or `netCDF4.Dataset` to instances of the\n",
      " |  `netCDF4.Dimension` class.\n",
      " |  \n",
      " |  **`variables`**: The `variables` dictionary maps the names of variables\n",
      " |  defined for this `netCDF4.Dataset` or `netCDF4.Group` to instances of the \n",
      " |  `netCDF4.Variable` class.\n",
      " |  \n",
      " |  **`groups`**: The groups dictionary maps the names of groups created for\n",
      " |  this `netCDF4.Dataset` or `netCDF4.Group` to instances of the `netCDF4.Group` class (the\n",
      " |  `netCDF4.Dataset` class is simply a special case of the `netCDF4.Group` class which\n",
      " |  describes the root group in the netCDF4 file).\n",
      " |  \n",
      " |  **`cmptypes`**: The `cmptypes` dictionary maps the names of\n",
      " |  compound types defined for the `netCDF4.Group` or `netCDF4.Dataset` to instances of the\n",
      " |  `netCDF4.CompoundType` class.\n",
      " |  \n",
      " |  **`vltypes`**: The `vltypes` dictionary maps the names of\n",
      " |  variable-length types defined for the `netCDF4.Group` or `netCDF4.Dataset` to instances \n",
      " |  of the `netCDF4.VLType` class.\n",
      " |  \n",
      " |  **`enumtypes`**: The `enumtypes` dictionary maps the names of\n",
      " |  Enum types defined for the `netCDF4.Group` or `netCDF4.Dataset` to instances \n",
      " |  of the `netCDF4.EnumType` class.\n",
      " |  \n",
      " |  **`data_model`**: `data_model` describes the netCDF\n",
      " |  data model version, one of `NETCDF3_CLASSIC`, `NETCDF4`,\n",
      " |  `NETCDF4_CLASSIC`, `NETCDF3_64BIT_OFFSET` or `NETCDF3_64BIT_DATA`.\n",
      " |  \n",
      " |  **`file_format`**: same as `data_model`, retained for backwards compatibility.\n",
      " |  \n",
      " |  **`disk_format`**: `disk_format` describes the underlying\n",
      " |  file format, one of `NETCDF3`, `HDF5`, `HDF4`,\n",
      " |  `PNETCDF`, `DAP2`, `DAP4` or `UNDEFINED`. Only available if using\n",
      " |  netcdf C library version >= 4.3.1, otherwise will always return\n",
      " |  `UNDEFINED`.\n",
      " |  \n",
      " |  **`parent`**: `parent` is a reference to the parent\n",
      " |  `netCDF4.Group` instance. `None` for the root group or `netCDF4.Dataset`\n",
      " |  instance.\n",
      " |  \n",
      " |  **`path`**: `path` shows the location of the `netCDF4.Group` in\n",
      " |  the `netCDF4.Dataset` in a unix directory format (the names of groups in the\n",
      " |  hierarchy separated by backslashes). A `netCDF4.Dataset` instance is the root\n",
      " |  group, so the path is simply `'/'`.\n",
      " |  \n",
      " |  **`keepweakref`**: If `True`, child Dimension and Variables objects only keep weak \n",
      " |  references to the parent Dataset or Group.\n",
      " |  \n",
      " |  Methods defined here:\n",
      " |  \n",
      " |  __delattr__(self, name, /)\n",
      " |      Implement delattr(self, name).\n",
      " |  \n",
      " |  __enter__(...)\n",
      " |  \n",
      " |  __exit__(...)\n",
      " |  \n",
      " |  __getattr__(...)\n",
      " |  \n",
      " |  __getattribute__(self, name, /)\n",
      " |      Return getattr(self, name).\n",
      " |  \n",
      " |  __getitem__(self, key, /)\n",
      " |      Return self[key].\n",
      " |  \n",
      " |  __init__(...)\n",
      " |      **`__init__(self, filename, mode=\"r\", clobber=True, diskless=False,\n",
      " |      persist=False, weakref=False, format='NETCDF4')`**\n",
      " |      \n",
      " |      `netCDF4.Dataset` constructor.\n",
      " |      \n",
      " |      **`filename`**: Name of netCDF file to hold dataset. Can also\n",
      " |      be a python 3 pathlib instance or the URL of an OpenDAP dataset.\n",
      " |      \n",
      " |      **`mode`**: access mode. `r` means read-only; no data can be\n",
      " |      modified. `w` means write; a new file is created, an existing file with\n",
      " |      the same name is deleted. `a` and `r+` mean append (in analogy with\n",
      " |      serial files); an existing file is opened for reading and writing.\n",
      " |      Appending `s` to modes `w`, `r+` or `a` will enable unbuffered shared\n",
      " |      access to `NETCDF3_CLASSIC`, `NETCDF3_64BIT_OFFSET` or\n",
      " |      `NETCDF3_64BIT_DATA` formatted files.\n",
      " |      Unbuffered acesss may be useful even if you don't need shared\n",
      " |      access, since it may be faster for programs that don't access data\n",
      " |      sequentially. This option is ignored for `NETCDF4` and `NETCDF4_CLASSIC`\n",
      " |      formatted files.\n",
      " |      \n",
      " |      **`clobber`**: if `True` (default), opening a file with `mode='w'`\n",
      " |      will clobber an existing file with the same name.  if `False`, an\n",
      " |      exception will be raised if a file with the same name already exists.\n",
      " |      \n",
      " |      **`format`**: underlying file format (one of `'NETCDF4',\n",
      " |      'NETCDF4_CLASSIC', 'NETCDF3_CLASSIC'`, `'NETCDF3_64BIT_OFFSET'` or\n",
      " |      `'NETCDF3_64BIT_DATA'`.\n",
      " |      Only relevant if `mode = 'w'` (if `mode = 'r','a'` or `'r+'` the file format\n",
      " |      is automatically detected). Default `'NETCDF4'`, which means the data is\n",
      " |      stored in an HDF5 file, using netCDF 4 API features.  Setting\n",
      " |      `format='NETCDF4_CLASSIC'` will create an HDF5 file, using only netCDF 3\n",
      " |      compatibile API features. netCDF 3 clients must be recompiled and linked\n",
      " |      against the netCDF 4 library to read files in `NETCDF4_CLASSIC` format.\n",
      " |      `'NETCDF3_CLASSIC'` is the classic netCDF 3 file format that does not\n",
      " |      handle 2+ Gb files. `'NETCDF3_64BIT_OFFSET'` is the 64-bit offset\n",
      " |      version of the netCDF 3 file format, which fully supports 2+ GB files, but\n",
      " |      is only compatible with clients linked against netCDF version 3.6.0 or\n",
      " |      later. `'NETCDF3_64BIT_DATA'` is the 64-bit data version of the netCDF 3\n",
      " |      file format, which supports 64-bit dimension sizes plus unsigned and\n",
      " |      64 bit integer data types, but is only compatible with clients linked against\n",
      " |      netCDF version 4.4.0 or later.\n",
      " |      \n",
      " |      **`diskless`**: If `True`, create diskless (in memory) file.  \n",
      " |      This is an experimental feature added to the C library after the\n",
      " |      netcdf-4.2 release.\n",
      " |      \n",
      " |      **`persist`**: if `diskless=True`, persist file to disk when closed\n",
      " |      (default `False`).\n",
      " |      \n",
      " |      **`keepweakref`**: if `True`, child Dimension and Variable instances will keep weak\n",
      " |      references to the parent Dataset or Group object.  Default is `False`, which\n",
      " |      means strong references will be kept.  Having Dimension and Variable instances\n",
      " |      keep a strong reference to the parent Dataset instance, which in turn keeps a\n",
      " |      reference to child Dimension and Variable instances, creates circular references.\n",
      " |      Circular references complicate garbage collection, which may mean increased\n",
      " |      memory usage for programs that create may Dataset instances with lots of\n",
      " |      Variables.  Setting `keepweakref=True` allows Dataset instances to be\n",
      " |      garbage collected as soon as they go out of scope, potential reducing memory\n",
      " |      usage.  However, in most cases this is not desirable, since the associated\n",
      " |      Variable instances may still be needed, but are rendered unusable when the\n",
      " |      parent Dataset instance is garbage collected.\n",
      " |  \n",
      " |  __new__(*args, **kwargs) from builtins.type\n",
      " |      Create and return a new object.  See help(type) for accurate signature.\n",
      " |  \n",
      " |  __repr__(self, /)\n",
      " |      Return repr(self).\n",
      " |  \n",
      " |  __setattr__(self, name, value, /)\n",
      " |      Implement setattr(self, name, value).\n",
      " |  \n",
      " |  __unicode__(...)\n",
      " |  \n",
      " |  close(...)\n",
      " |      **`close(self)`**\n",
      " |      \n",
      " |      Close the Dataset.\n",
      " |  \n",
      " |  createCompoundType(...)\n",
      " |      **`createCompoundType(self, datatype, datatype_name)`**\n",
      " |      \n",
      " |      Creates a new compound data type named `datatype_name` from the numpy\n",
      " |      dtype object `datatype`.\n",
      " |      \n",
      " |      ***Note***: If the new compound data type contains other compound data types\n",
      " |      (i.e. it is a 'nested' compound type, where not all of the elements\n",
      " |      are homogeneous numeric data types), then the 'inner' compound types **must** be\n",
      " |      created first.\n",
      " |      \n",
      " |      The return value is the `netCDF4.CompoundType` class instance describing the new\n",
      " |      datatype.\n",
      " |  \n",
      " |  createDimension(...)\n",
      " |      **`createDimension(self, dimname, size=None)`**\n",
      " |      \n",
      " |      Creates a new dimension with the given `dimname` and `size`.\n",
      " |      \n",
      " |      `size` must be a positive integer or `None`, which stands for\n",
      " |      \"unlimited\" (default is `None`). Specifying a size of 0 also\n",
      " |      results in an unlimited dimension. The return value is the `netCDF4.Dimension`\n",
      " |      class instance describing the new dimension.  To determine the current\n",
      " |      maximum size of the dimension, use the `len` function on the `netCDF4.Dimension`\n",
      " |      instance. To determine if a dimension is 'unlimited', use the\n",
      " |      `netCDF4.Dimension.isunlimited` method of the `netCDF4.Dimension` instance.\n",
      " |  \n",
      " |  createEnumType(...)\n",
      " |      **`createEnumType(self, datatype, datatype_name, enum_dict)`**\n",
      " |      \n",
      " |      Creates a new Enum data type named `datatype_name` from a numpy\n",
      " |      integer dtype object `datatype`, and a python dictionary\n",
      " |      defining the enum fields and values.\n",
      " |      \n",
      " |      The return value is the `netCDF4.EnumType` class instance describing the new\n",
      " |      datatype.\n",
      " |  \n",
      " |  createGroup(...)\n",
      " |      **`createGroup(self, groupname)`**\n",
      " |      \n",
      " |      Creates a new `netCDF4.Group` with the given `groupname`.\n",
      " |      \n",
      " |      If `groupname` is specified as a path, using forward slashes as in unix to\n",
      " |      separate components, then intermediate groups will be created as necessary \n",
      " |      (analogous to `mkdir -p` in unix).  For example,\n",
      " |      `createGroup('/GroupA/GroupB/GroupC')` will create `GroupA`,\n",
      " |      `GroupA/GroupB`, and `GroupA/GroupB/GroupC`, if they don't already exist.\n",
      " |      If the specified path describes a group that already exists, no error is\n",
      " |      raised.\n",
      " |      \n",
      " |      The return value is a `netCDF4.Group` class instance.\n",
      " |  \n",
      " |  createVLType(...)\n",
      " |      **`createVLType(self, datatype, datatype_name)`**\n",
      " |      \n",
      " |      Creates a new VLEN data type named `datatype_name` from a numpy\n",
      " |      dtype object `datatype`.\n",
      " |      \n",
      " |      The return value is the `netCDF4.VLType` class instance describing the new\n",
      " |      datatype.\n",
      " |  \n",
      " |  createVariable(...)\n",
      " |      **`createVariable(self, varname, datatype, dimensions=(), zlib=False,\n",
      " |      complevel=4, shuffle=True, fletcher32=False, contiguous=False, chunksizes=None,\n",
      " |      endian='native', least_significant_digit=None, fill_value=None)`**\n",
      " |      \n",
      " |      Creates a new variable with the given `varname`, `datatype`, and\n",
      " |      `dimensions`. If dimensions are not given, the variable is assumed to be\n",
      " |      a scalar.\n",
      " |      \n",
      " |      If `varname` is specified as a path, using forward slashes as in unix to\n",
      " |      separate components, then intermediate groups will be created as necessary \n",
      " |      For example, `createVariable('/GroupA/GroupB/VarC', float, ('x','y'))` will create groups `GroupA`\n",
      " |      and `GroupA/GroupB`, plus the variable `GroupA/GroupB/VarC`, if the preceding\n",
      " |      groups don't already exist.\n",
      " |      \n",
      " |      The `datatype` can be a numpy datatype object, or a string that describes\n",
      " |      a numpy dtype object (like the `dtype.str` attribue of a numpy array).\n",
      " |      Supported specifiers include: `'S1' or 'c' (NC_CHAR), 'i1' or 'b' or 'B'\n",
      " |      (NC_BYTE), 'u1' (NC_UBYTE), 'i2' or 'h' or 's' (NC_SHORT), 'u2'\n",
      " |      (NC_USHORT), 'i4' or 'i' or 'l' (NC_INT), 'u4' (NC_UINT), 'i8' (NC_INT64),\n",
      " |      'u8' (NC_UINT64), 'f4' or 'f' (NC_FLOAT), 'f8' or 'd' (NC_DOUBLE)`.\n",
      " |      `datatype` can also be a `netCDF4.CompoundType` instance\n",
      " |      (for a structured, or compound array), a `netCDF4.VLType` instance\n",
      " |      (for a variable-length array), or the python `str` builtin\n",
      " |      (for a variable-length string array). Numpy string and unicode datatypes with\n",
      " |      length greater than one are aliases for `str`.\n",
      " |      \n",
      " |      Data from netCDF variables is presented to python as numpy arrays with\n",
      " |      the corresponding data type.\n",
      " |      \n",
      " |      `dimensions` must be a tuple containing dimension names (strings) that\n",
      " |      have been defined previously using `netCDF4.Dataset.createDimension`. The default value\n",
      " |      is an empty tuple, which means the variable is a scalar.\n",
      " |      \n",
      " |      If the optional keyword `zlib` is `True`, the data will be compressed in\n",
      " |      the netCDF file using gzip compression (default `False`).\n",
      " |      \n",
      " |      The optional keyword `complevel` is an integer between 1 and 9 describing\n",
      " |      the level of compression desired (default 4). Ignored if `zlib=False`.\n",
      " |      \n",
      " |      If the optional keyword `shuffle` is `True`, the HDF5 shuffle filter\n",
      " |      will be applied before compressing the data (default `True`).  This\n",
      " |      significantly improves compression. Default is `True`. Ignored if\n",
      " |      `zlib=False`.\n",
      " |      \n",
      " |      If the optional keyword `fletcher32` is `True`, the Fletcher32 HDF5\n",
      " |      checksum algorithm is activated to detect errors. Default `False`.\n",
      " |      \n",
      " |      If the optional keyword `contiguous` is `True`, the variable data is\n",
      " |      stored contiguously on disk.  Default `False`. Setting to `True` for\n",
      " |      a variable with an unlimited dimension will trigger an error.\n",
      " |      \n",
      " |      The optional keyword `chunksizes` can be used to manually specify the\n",
      " |      HDF5 chunksizes for each dimension of the variable. A detailed\n",
      " |      discussion of HDF chunking and I/O performance is available\n",
      " |      [here](http://www.hdfgroup.org/HDF5/doc/H5.user/Chunking.html).\n",
      " |      Basically, you want the chunk size for each dimension to match as\n",
      " |      closely as possible the size of the data block that users will read\n",
      " |      from the file.  `chunksizes` cannot be set if `contiguous=True`.\n",
      " |      \n",
      " |      The optional keyword `endian` can be used to control whether the\n",
      " |      data is stored in little or big endian format on disk. Possible\n",
      " |      values are `little, big` or `native` (default). The library\n",
      " |      will automatically handle endian conversions when the data is read,\n",
      " |      but if the data is always going to be read on a computer with the\n",
      " |      opposite format as the one used to create the file, there may be\n",
      " |      some performance advantage to be gained by setting the endian-ness.\n",
      " |      \n",
      " |      The `zlib, complevel, shuffle, fletcher32, contiguous, chunksizes` and `endian`\n",
      " |      keywords are silently ignored for netCDF 3 files that do not use HDF5.\n",
      " |      \n",
      " |      The optional keyword `fill_value` can be used to override the default\n",
      " |      netCDF `_FillValue` (the value that the variable gets filled with before\n",
      " |      any data is written to it, defaults given in `netCDF4.default_fillvals`).\n",
      " |      If fill_value is set to `False`, then the variable is not pre-filled.\n",
      " |      \n",
      " |      If the optional keyword parameter `least_significant_digit` is\n",
      " |      specified, variable data will be truncated (quantized). In conjunction\n",
      " |      with `zlib=True` this produces 'lossy', but significantly more\n",
      " |      efficient compression. For example, if `least_significant_digit=1`,\n",
      " |      data will be quantized using `numpy.around(scale*data)/scale`, where\n",
      " |      scale = 2**bits, and bits is determined so that a precision of 0.1 is\n",
      " |      retained (in this case bits=4). From the \n",
      " |      [PSD metadata conventions](http://www.esrl.noaa.gov/psd/data/gridded/conventions/cdc_netcdf_standard.shtml):\n",
      " |      \"least_significant_digit -- power of ten of the smallest decimal place\n",
      " |      in unpacked data that is a reliable value.\" Default is `None`, or no\n",
      " |      quantization, or 'lossless' compression.\n",
      " |      \n",
      " |      When creating variables in a `NETCDF4` or `NETCDF4_CLASSIC` formatted file,\n",
      " |      HDF5 creates something called a 'chunk cache' for each variable.  The\n",
      " |      default size of the chunk cache may be large enough to completely fill\n",
      " |      available memory when creating thousands of variables.  The optional\n",
      " |      keyword `chunk_cache` allows you to reduce (or increase) the size of\n",
      " |      the default chunk cache when creating a variable.  The setting only\n",
      " |      persists as long as the Dataset is open - you can use the set_var_chunk_cache\n",
      " |      method to change it the next time the Dataset is opened.\n",
      " |      Warning - messing with this parameter can seriously degrade performance.\n",
      " |      \n",
      " |      The return value is the `netCDF4.Variable` class instance describing the new\n",
      " |      variable.\n",
      " |      \n",
      " |      A list of names corresponding to netCDF variable attributes can be\n",
      " |      obtained with the `netCDF4.Variable` method `netCDF4.Variable.ncattrs`. A dictionary\n",
      " |      containing all the netCDF attribute name/value pairs is provided by\n",
      " |      the `__dict__` attribute of a `netCDF4.Variable` instance.\n",
      " |      \n",
      " |      `netCDF4.Variable` instances behave much like array objects. Data can be\n",
      " |      assigned to or retrieved from a variable with indexing and slicing\n",
      " |      operations on the `netCDF4.Variable` instance. A `netCDF4.Variable` instance has six\n",
      " |      Dataset standard attributes: `dimensions, dtype, shape, ndim, name` and\n",
      " |      `least_significant_digit`. Application programs should never modify\n",
      " |      these attributes. The `dimensions` attribute is a tuple containing the\n",
      " |      names of the dimensions associated with this variable. The `dtype`\n",
      " |      attribute is a string describing the variable's data type (`i4, f8,\n",
      " |      S1,` etc). The `shape` attribute is a tuple describing the current\n",
      " |      sizes of all the variable's dimensions. The `name` attribute is a\n",
      " |      string containing the name of the Variable instance.\n",
      " |      The `least_significant_digit`\n",
      " |      attributes describes the power of ten of the smallest decimal place in\n",
      " |      the data the contains a reliable value.  assigned to the `netCDF4.Variable`\n",
      " |      instance. If `None`, the data is not truncated. The `ndim` attribute\n",
      " |      is the number of variable dimensions.\n",
      " |  \n",
      " |  delncattr(...)\n",
      " |      **`delncattr(self,name,value)`**\n",
      " |      \n",
      " |      delete a netCDF dataset or group attribute.  Use if you need to delete a\n",
      " |      netCDF attribute with the same name as one of the reserved python\n",
      " |      attributes.\n",
      " |  \n",
      " |  filepath(...)\n",
      " |      **`filepath(self)`**\n",
      " |      \n",
      " |      Get the file system path (or the opendap URL) which was used to\n",
      " |      open/create the Dataset. Requires netcdf >= 4.1.2\n",
      " |  \n",
      " |  get_variables_by_attributes(...)\n",
      " |      **`get_variables_by_attribute(self, **kwargs)`**\n",
      " |      \n",
      " |      Returns a list of variables that match specific conditions.\n",
      " |      \n",
      " |      Can pass in key=value parameters and variables are returned that\n",
      " |      contain all of the matches. For example, \n",
      " |      \n",
      " |          :::python\n",
      " |          >>> # Get variables with x-axis attribute.\n",
      " |          >>> vs = nc.get_variables_by_attributes(axis='X')\n",
      " |          >>> # Get variables with matching \"standard_name\" attribute\n",
      " |          >>> vs = nc.get_variables_by_attributes(standard_name='northward_sea_water_velocity')\n",
      " |      \n",
      " |      Can pass in key=callable parameter and variables are returned if the\n",
      " |      callable returns True.  The callable should accept a single parameter,\n",
      " |      the attribute value.  None is given as the attribute value when the\n",
      " |      attribute does not exist on the variable. For example,\n",
      " |      \n",
      " |          :::python\n",
      " |          >>> # Get Axis variables\n",
      " |          >>> vs = nc.get_variables_by_attributes(axis=lambda v: v in ['X', 'Y', 'Z', 'T'])\n",
      " |          >>> # Get variables that don't have an \"axis\" attribute\n",
      " |          >>> vs = nc.get_variables_by_attributes(axis=lambda v: v is None)\n",
      " |          >>> # Get variables that have a \"grid_mapping\" attribute\n",
      " |          >>> vs = nc.get_variables_by_attributes(grid_mapping=lambda v: v is not None)\n",
      " |  \n",
      " |  getncattr(...)\n",
      " |      **`getncattr(self,name)`**\n",
      " |      \n",
      " |      retrievel a netCDF dataset or group attribute.\n",
      " |      Use if you need to get a netCDF attribute with the same \n",
      " |      name as one of the reserved python attributes.\n",
      " |  \n",
      " |  isopen(...)\n",
      " |      **`close(self)`**\n",
      " |      \n",
      " |      is the Dataset open or closed?\n",
      " |  \n",
      " |  ncattrs(...)\n",
      " |      **`ncattrs(self)`**\n",
      " |      \n",
      " |      return netCDF global attribute names for this `netCDF4.Dataset` or `netCDF4.Group` in a list.\n",
      " |  \n",
      " |  renameAttribute(...)\n",
      " |      **`renameAttribute(self, oldname, newname)`**\n",
      " |      \n",
      " |      rename a `netCDF4.Dataset` or `netCDF4.Group` attribute named `oldname` to `newname`.\n",
      " |  \n",
      " |  renameDimension(...)\n",
      " |      **`renameDimension(self, oldname, newname)`**\n",
      " |      \n",
      " |      rename a `netCDF4.Dimension` named `oldname` to `newname`.\n",
      " |  \n",
      " |  renameGroup(...)\n",
      " |      **`renameGroup(self, oldname, newname)`**\n",
      " |      \n",
      " |      rename a `netCDF4.Group` named `oldname` to `newname` (requires netcdf >= 4.3.1).\n",
      " |  \n",
      " |  renameVariable(...)\n",
      " |      **`renameVariable(self, oldname, newname)`**\n",
      " |      \n",
      " |      rename a `netCDF4.Variable` named `oldname` to `newname`\n",
      " |  \n",
      " |  set_auto_mask(...)\n",
      " |      **`set_auto_mask(self, True_or_False)`**\n",
      " |      \n",
      " |      Call `netCDF4.Variable.set_auto_mask` for all variables contained in this `netCDF4.Dataset` or\n",
      " |      `netCDF4.Group`, as well as for all variables in all its subgroups.\n",
      " |      \n",
      " |      **`True_or_False`**: Boolean determining if automatic conversion to masked arrays\n",
      " |      shall be applied for all variables.\n",
      " |      \n",
      " |      ***Note***: Calling this function only affects existing variables. Variables created\n",
      " |      after calling this function will follow the default behaviour.\n",
      " |  \n",
      " |  set_auto_maskandscale(...)\n",
      " |      **`set_auto_maskandscale(self, True_or_False)`**\n",
      " |      \n",
      " |      Call `netCDF4.Variable.set_auto_maskandscale` for all variables contained in this `netCDF4.Dataset` or\n",
      " |      `netCDF4.Group`, as well as for all variables in all its subgroups.\n",
      " |      \n",
      " |      **`True_or_False`**: Boolean determining if automatic conversion to masked arrays\n",
      " |      and variable scaling shall be applied for all variables.\n",
      " |      \n",
      " |      ***Note***: Calling this function only affects existing variables. Variables created\n",
      " |      after calling this function will follow the default behaviour.\n",
      " |  \n",
      " |  set_auto_scale(...)\n",
      " |      **`set_auto_scale(self, True_or_False)`**\n",
      " |      \n",
      " |      Call `netCDF4.Variable.set_auto_scale` for all variables contained in this `netCDF4.Dataset` or\n",
      " |      `netCDF4.Group`, as well as for all variables in all its subgroups.\n",
      " |      \n",
      " |      **`True_or_False`**: Boolean determining if automatic variable scaling\n",
      " |      shall be applied for all variables.\n",
      " |      \n",
      " |      ***Note***: Calling this function only affects existing variables. Variables created\n",
      " |      after calling this function will follow the default behaviour.\n",
      " |  \n",
      " |  set_fill_off(...)\n",
      " |      **`set_fill_off(self)`**\n",
      " |      \n",
      " |      Sets the fill mode for a `netCDF4.Dataset` open for writing to `off`.\n",
      " |      \n",
      " |      This will prevent the data from being pre-filled with fill values, which\n",
      " |      may result in some performance improvements. However, you must then make\n",
      " |      sure the data is actually written before being read.\n",
      " |  \n",
      " |  set_fill_on(...)\n",
      " |      **`set_fill_on(self)`**\n",
      " |      \n",
      " |      Sets the fill mode for a `netCDF4.Dataset` open for writing to `on`.\n",
      " |      \n",
      " |      This causes data to be pre-filled with fill values. The fill values can be\n",
      " |      controlled by the variable's `_Fill_Value` attribute, but is usually\n",
      " |      sufficient to the use the netCDF default `_Fill_Value` (defined\n",
      " |      separately for each variable type). The default behavior of the netCDF\n",
      " |      library correspongs to `set_fill_on`.  Data which are equal to the\n",
      " |      `_Fill_Value` indicate that the variable was created, but never written\n",
      " |      to.\n",
      " |  \n",
      " |  setncattr(...)\n",
      " |      **`setncattr(self,name,value)`**\n",
      " |      \n",
      " |      set a netCDF dataset or group attribute using name,value pair.\n",
      " |      Use if you need to set a netCDF attribute with the\n",
      " |      with the same name as one of the reserved python attributes.\n",
      " |  \n",
      " |  setncattr_string(...)\n",
      " |      **`setncattr_string(self,name,value)`**\n",
      " |      \n",
      " |      set a netCDF dataset or group string attribute using name,value pair.\n",
      " |      Use if you need to ensure that a netCDF attribute is created with type\n",
      " |      `NC_STRING` if the file format is `NETCDF4`.\n",
      " |  \n",
      " |  setncatts(...)\n",
      " |      **`setncatts(self,attdict)`**\n",
      " |      \n",
      " |      set a bunch of netCDF dataset or group attributes at once using a python dictionary.\n",
      " |      This may be faster when setting a lot of attributes for a `NETCDF3`\n",
      " |      formatted file, since nc_redef/nc_enddef is not called in between setting\n",
      " |      each attribute\n",
      " |  \n",
      " |  sync(...)\n",
      " |      **`sync(self)`**\n",
      " |      \n",
      " |      Writes all buffered data in the `netCDF4.Dataset` to the disk file.\n",
      " |  \n",
      " |  ----------------------------------------------------------------------\n",
      " |  Data descriptors defined here:\n",
      " |  \n",
      " |  __orthogonal_indexing__\n",
      " |  \n",
      " |  cmptypes\n",
      " |  \n",
      " |  data_model\n",
      " |  \n",
      " |  dimensions\n",
      " |  \n",
      " |  disk_format\n",
      " |  \n",
      " |  enumtypes\n",
      " |  \n",
      " |  file_format\n",
      " |  \n",
      " |  groups\n",
      " |  \n",
      " |  keepweakref\n",
      " |  \n",
      " |  parent\n",
      " |  \n",
      " |  path\n",
      " |  \n",
      " |  variables\n",
      " |  \n",
      " |  vltypes\n",
      "\n"
     ]
    }
   ],
   "source": [
    "help(nc.Dataset) "
   ]
  },
  {
   "cell_type": "code",
   "execution_count": 50,
   "metadata": {
    "collapsed": true
   },
   "outputs": [],
   "source": [
    "nc_file = nc.Dataset('/home/evankielley/Downloads/expt_56.3.nc')"
   ]
  },
  {
   "cell_type": "code",
   "execution_count": 59,
   "metadata": {
    "collapsed": false,
    "scrolled": true
   },
   "outputs": [
    {
     "data": {
      "text/plain": [
       "<class 'netCDF4._netCDF4.Variable'>\n",
       "int16 water_u(time, depth, lat, lon)\n",
       "    long_name: Eastward Water Velocity\n",
       "    standard_name: eastward_sea_water_velocity\n",
       "    units: m/s\n",
       "    _FillValue: -30000\n",
       "    missing_value: -30000\n",
       "    scale_factor: 0.001\n",
       "    add_offset: 0.0\n",
       "    NAVO_code: 17\n",
       "    coordinates: time depth lat lon lat lon\n",
       "unlimited dimensions: \n",
       "current shape = (236, 1, 51, 26)\n",
       "filling off"
      ]
     },
     "execution_count": 59,
     "metadata": {},
     "output_type": "execute_result"
    }
   ],
   "source": [
    "nc_file.variables['water_u']"
   ]
  },
  {
   "cell_type": "code",
   "execution_count": 62,
   "metadata": {
    "collapsed": false
   },
   "outputs": [
    {
     "data": {
      "text/plain": [
       "array([ 135120.,  135123.,  135126.,  135129.,  135132.,  135135.,\n",
       "        135138.,  135141.,  135144.,  135147.,  135150.,  135153.,\n",
       "        135156.,  135159.,  135162.,  135165.,  135168.,  135171.,\n",
       "        135174.,  135177.,  135180.,  135183.,  135186.,  135189.,\n",
       "        135192.,  135195.,  135198.,  135201.,  135207.,  135210.,\n",
       "        135213.,  135216.,  135219.,  135222.,  135225.,  135228.,\n",
       "        135231.,  135234.,  135237.,  135240.,  135243.,  135246.,\n",
       "        135249.,  135252.,  135255.,  135258.,  135261.,  135264.,\n",
       "        135267.,  135270.,  135273.,  135276.,  135279.,  135282.,\n",
       "        135285.,  135288.,  135291.,  135294.,  135297.,  135300.,\n",
       "        135303.,  135309.,  135312.,  135315.,  135318.,  135321.,\n",
       "        135324.,  135327.,  135330.,  135333.,  135336.,  135339.,\n",
       "        135342.,  135345.,  135348.,  135351.,  135354.,  135357.,\n",
       "        135360.,  135363.,  135366.,  135369.,  135372.,  135375.,\n",
       "        135378.,  135381.,  135384.,  135387.,  135393.,  135396.,\n",
       "        135399.,  135402.,  135405.,  135408.,  135411.,  135414.,\n",
       "        135417.,  135420.,  135423.,  135426.,  135429.,  135432.,\n",
       "        135435.,  135438.,  135441.,  135444.,  135447.,  135450.,\n",
       "        135453.,  135456.,  135459.,  135462.,  135465.,  135468.,\n",
       "        135471.,  135474.,  135477.,  135480.,  135483.,  135486.,\n",
       "        135489.,  135492.,  135495.,  135498.,  135501.,  135504.,\n",
       "        135507.,  135510.,  135513.,  135516.,  135519.,  135522.,\n",
       "        135525.,  135528.,  135531.,  135534.,  135537.,  135543.,\n",
       "        135546.,  135549.,  135552.,  135555.,  135558.,  135561.,\n",
       "        135564.,  135567.,  135570.,  135573.,  135576.,  135579.,\n",
       "        135582.,  135585.,  135588.,  135591.,  135594.,  135597.,\n",
       "        135600.,  135603.,  135606.,  135609.,  135612.,  135615.,\n",
       "        135618.,  135621.,  135624.,  135627.,  135630.,  135633.,\n",
       "        135636.,  135639.,  135642.,  135645.,  135648.,  135651.,\n",
       "        135654.,  135657.,  135660.,  135663.,  135666.,  135669.,\n",
       "        135672.,  135675.,  135678.,  135681.,  135684.,  135687.,\n",
       "        135690.,  135693.,  135696.,  135699.,  135702.,  135705.,\n",
       "        135708.,  135711.,  135714.,  135717.,  135720.,  135723.,\n",
       "        135726.,  135729.,  135732.,  135735.,  135738.,  135741.,\n",
       "        135744.,  135747.,  135750.,  135753.,  135756.,  135759.,\n",
       "        135762.,  135765.,  135768.,  135771.,  135774.,  135777.,\n",
       "        135780.,  135783.,  135786.,  135789.,  135792.,  135795.,\n",
       "        135798.,  135801.,  135804.,  135810.,  135813.,  135816.,\n",
       "        135819.,  135822.,  135825.,  135828.,  135831.,  135834.,\n",
       "        135837.,  135840.])"
      ]
     },
     "execution_count": 62,
     "metadata": {},
     "output_type": "execute_result"
    }
   ],
   "source": [
    "nc_file.variables['time'][:]"
   ]
  },
  {
   "cell_type": "code",
   "execution_count": null,
   "metadata": {
    "collapsed": true
   },
   "outputs": [],
   "source": []
  },
  {
   "cell_type": "markdown",
   "metadata": {},
   "source": [
    "## NAVGEM"
   ]
  },
  {
   "cell_type": "markdown",
   "metadata": {},
   "source": [
    "- 12 hr\n",
    "- 0.5 degree"
   ]
  },
  {
   "cell_type": "code",
   "execution_count": null,
   "metadata": {
    "collapsed": true
   },
   "outputs": [],
   "source": [
    "url = 'http://usgodae.org/dods/GDS/navgem/NAVGEM_0100_010132-000000wnd_ucmp'"
   ]
  },
  {
   "cell_type": "code",
   "execution_count": 2,
   "metadata": {
    "collapsed": true
   },
   "outputs": [],
   "source": [
    "url = 'http://usgodae.org/dods/GDS/navgem/NAVGEM_0105_000100-000000wnd_ucmp'"
   ]
  },
  {
   "cell_type": "code",
   "execution_count": 3,
   "metadata": {
    "collapsed": true
   },
   "outputs": [],
   "source": [
    "ds = xr.open_dataset(url)"
   ]
  },
  {
   "cell_type": "code",
   "execution_count": null,
   "metadata": {
    "collapsed": false
   },
   "outputs": [],
   "source": [
    "ds"
   ]
  },
  {
   "cell_type": "code",
   "execution_count": null,
   "metadata": {
    "collapsed": false
   },
   "outputs": [],
   "source": [
    "ds['time']"
   ]
  },
  {
   "cell_type": "code",
   "execution_count": null,
   "metadata": {
    "collapsed": false
   },
   "outputs": [],
   "source": [
    "ds.ugrd10m_10"
   ]
  },
  {
   "cell_type": "code",
   "execution_count": null,
   "metadata": {
    "collapsed": false
   },
   "outputs": [],
   "source": [
    "ds.ugrd10m_10.sel(time='2013-02-13')[0,:10,:10]"
   ]
  },
  {
   "cell_type": "markdown",
   "metadata": {},
   "source": [
    "## ERDAP NAVGEM"
   ]
  },
  {
   "cell_type": "code",
   "execution_count": 24,
   "metadata": {
    "collapsed": true
   },
   "outputs": [],
   "source": [
    "url = 'http://coastwatch.pfeg.noaa.gov/erddap/griddap/erdNavgem05D10mWind_LonPM180'"
   ]
  },
  {
   "cell_type": "code",
   "execution_count": 25,
   "metadata": {
    "collapsed": true
   },
   "outputs": [],
   "source": [
    "ds = xr.open_dataset(url)"
   ]
  },
  {
   "cell_type": "code",
   "execution_count": 26,
   "metadata": {
    "collapsed": false
   },
   "outputs": [
    {
     "data": {
      "text/plain": [
       "<xarray.Dataset>\n",
       "Dimensions:                       (height_above_ground: 1, latitude: 361, longitude: 720, time: 6495)\n",
       "Coordinates:\n",
       "  * time                          (time) datetime64[ns] 2013-02-15T12:00:00 ...\n",
       "  * height_above_ground           (height_above_ground) float32 10.0\n",
       "  * latitude                      (latitude) float32 -90.0 -89.5 -89.0 -88.5 ...\n",
       "  * longitude                     (longitude) float32 -180.0 -179.5 -179.0 ...\n",
       "Data variables:\n",
       "    wnd_ucmp_height_above_ground  (time, height_above_ground, latitude, longitude) float32 ...\n",
       "    wnd_vcmp_height_above_ground  (time, height_above_ground, latitude, longitude) float32 ...\n",
       "Attributes:\n",
       "    _CoordSysBuilder:                     ucar.nc2.dataset.conv.CF1Convention\n",
       "    cdm_data_type:                        Grid\n",
       "    Conventions:                          CF-1.6, COARDS, ACDD-1.3\n",
       "    creator_name:                         FNMOC\n",
       "    creator_type:                         institution\n",
       "    creator_url:                          http://www.usno.navy.mil/FNMOC/\n",
       "    defaultGraphQuery:                    &.draw=vectors\n",
       "    Easternmost_Easting:                  179.5\n",
       "    file_format:                          GRIB-1\n",
       "    geospatial_lat_max:                   89.99999\n",
       "    geospatial_lat_min:                   -90.00001\n",
       "    geospatial_lat_resolution:            0.5\n",
       "    geospatial_lat_units:                 degrees_north\n",
       "    geospatial_lon_max:                   179.5\n",
       "    geospatial_lon_min:                   -180.0\n",
       "    geospatial_lon_resolution:            0.5\n",
       "    geospatial_lon_units:                 degrees_east\n",
       "    GRIB_table_version:                   0,3\n",
       "    history:                              Read using CDM IOSP GribCollection ...\n",
       "    infoUrl:                              https://en.wikipedia.org/wiki/NAVGEM\n",
       "    institution:                          FNMOC\n",
       "    keywords:                             above, data, direction, Earth Scien...\n",
       "    keywords_vocabulary:                  GCMD Science Keywords\n",
       "    license:                              The data may be used and redistribu...\n",
       "    Northernmost_Northing:                89.99999\n",
       "    Originating_or_generating_Center:     Fleet Numerical Meteorology and Oce...\n",
       "    Originating_or_generating_Subcenter:  0\n",
       "    sourceUrl:                            http://oceanwatch.pfeg.noaa.gov/thr...\n",
       "    Southernmost_Northing:                -90.00001\n",
       "    standard_name_vocabulary:             CF Standard Name Table v29\n",
       "    summary:                              Navy Global Environmental Model (NA...\n",
       "    testOutOfDate:                        now-2days\n",
       "    time_coverage_end:                    2018-01-18T18:00:00Z\n",
       "    time_coverage_start:                  2013-02-15T12:00:00Z\n",
       "    title:                                Navy Global Environmental Model (NA...\n",
       "    Westernmost_Easting:                  -180.0"
      ]
     },
     "execution_count": 26,
     "metadata": {},
     "output_type": "execute_result"
    }
   ],
   "source": [
    "ds"
   ]
  },
  {
   "cell_type": "code",
   "execution_count": 27,
   "metadata": {
    "collapsed": false
   },
   "outputs": [
    {
     "data": {
      "text/plain": [
       "<xarray.DataArray 'time' (time: 6495)>\n",
       "array(['2013-02-15T12:00:00.000000000', '2013-02-15T18:00:00.000000000',\n",
       "       '2013-02-16T00:00:00.000000000', ..., '2018-01-18T06:00:00.000000000',\n",
       "       '2018-01-18T12:00:00.000000000', '2018-01-18T18:00:00.000000000'], dtype='datetime64[ns]')\n",
       "Coordinates:\n",
       "  * time     (time) datetime64[ns] 2013-02-15T12:00:00 2013-02-15T18:00:00 ...\n",
       "Attributes:\n",
       "    _CoordinateAxisType:  Time\n",
       "    actual_range:         [  1.36092960e+09   1.51629840e+09]\n",
       "    axis:                 T\n",
       "    comment:              Uninitialized analysis / image product / forecast p...\n",
       "    ioos_category:        Time\n",
       "    long_name:            Time\n",
       "    standard_name:        time\n",
       "    time_origin:          01-JAN-1970 00:00:00"
      ]
     },
     "execution_count": 27,
     "metadata": {},
     "output_type": "execute_result"
    }
   ],
   "source": [
    "ds['time']"
   ]
  },
  {
   "cell_type": "code",
   "execution_count": 29,
   "metadata": {
    "collapsed": false
   },
   "outputs": [
    {
     "data": {
      "text/plain": [
       "<xarray.Dataset>\n",
       "Dimensions:                       (height_above_ground: 1, latitude: 4, longitude: 7, time: 120)\n",
       "Coordinates:\n",
       "  * time                          (time) datetime64[ns] 2015-06-01 ...\n",
       "  * height_above_ground           (height_above_ground) float32 10.0\n",
       "  * latitude                      (latitude) float32 47.5 48.0 48.5 49.0\n",
       "  * longitude                     (longitude) float32 -52.0 -51.5 -51.0 ...\n",
       "Data variables:\n",
       "    wnd_ucmp_height_above_ground  (time, height_above_ground, latitude, longitude) float32 ...\n",
       "    wnd_vcmp_height_above_ground  (time, height_above_ground, latitude, longitude) float32 ...\n",
       "Attributes:\n",
       "    _CoordSysBuilder:                     ucar.nc2.dataset.conv.CF1Convention\n",
       "    cdm_data_type:                        Grid\n",
       "    Conventions:                          CF-1.6, COARDS, ACDD-1.3\n",
       "    creator_name:                         FNMOC\n",
       "    creator_type:                         institution\n",
       "    creator_url:                          http://www.usno.navy.mil/FNMOC/\n",
       "    defaultGraphQuery:                    &.draw=vectors\n",
       "    Easternmost_Easting:                  179.5\n",
       "    file_format:                          GRIB-1\n",
       "    geospatial_lat_max:                   89.99999\n",
       "    geospatial_lat_min:                   -90.00001\n",
       "    geospatial_lat_resolution:            0.5\n",
       "    geospatial_lat_units:                 degrees_north\n",
       "    geospatial_lon_max:                   179.5\n",
       "    geospatial_lon_min:                   -180.0\n",
       "    geospatial_lon_resolution:            0.5\n",
       "    geospatial_lon_units:                 degrees_east\n",
       "    GRIB_table_version:                   0,3\n",
       "    history:                              Read using CDM IOSP GribCollection ...\n",
       "    infoUrl:                              https://en.wikipedia.org/wiki/NAVGEM\n",
       "    institution:                          FNMOC\n",
       "    keywords:                             above, data, direction, Earth Scien...\n",
       "    keywords_vocabulary:                  GCMD Science Keywords\n",
       "    license:                              The data may be used and redistribu...\n",
       "    Northernmost_Northing:                89.99999\n",
       "    Originating_or_generating_Center:     Fleet Numerical Meteorology and Oce...\n",
       "    Originating_or_generating_Subcenter:  0\n",
       "    sourceUrl:                            http://oceanwatch.pfeg.noaa.gov/thr...\n",
       "    Southernmost_Northing:                -90.00001\n",
       "    standard_name_vocabulary:             CF Standard Name Table v29\n",
       "    summary:                              Navy Global Environmental Model (NA...\n",
       "    testOutOfDate:                        now-2days\n",
       "    time_coverage_end:                    2018-01-18T18:00:00Z\n",
       "    time_coverage_start:                  2013-02-15T12:00:00Z\n",
       "    title:                                Navy Global Environmental Model (NA...\n",
       "    Westernmost_Easting:                  -180.0"
      ]
     },
     "execution_count": 29,
     "metadata": {},
     "output_type": "execute_result"
    }
   ],
   "source": [
    "ds.sel(time=slice('2015-06-01','2015-07-01'), longitude=slice(-52,-49), latitude=slice(47,49))"
   ]
  },
  {
   "cell_type": "code",
   "execution_count": null,
   "metadata": {
    "collapsed": true
   },
   "outputs": [],
   "source": []
  }
 ],
 "metadata": {
  "kernelspec": {
   "display_name": "Python 3",
   "language": "python",
   "name": "python3"
  },
  "language_info": {
   "codemirror_mode": {
    "name": "ipython",
    "version": 3
   },
   "file_extension": ".py",
   "mimetype": "text/x-python",
   "name": "python",
   "nbconvert_exporter": "python",
   "pygments_lexer": "ipython3",
   "version": "3.5.2"
  }
 },
 "nbformat": 4,
 "nbformat_minor": 2
}
