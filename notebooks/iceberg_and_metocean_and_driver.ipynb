{
 "cells": [
  {
   "cell_type": "markdown",
   "metadata": {},
   "source": [
    "# Iceberg"
   ]
  },
  {
   "cell_type": "code",
   "execution_count": 1,
   "metadata": {
    "collapsed": true
   },
   "outputs": [],
   "source": [
    "import urllib\n",
    "import pandas as pd\n",
    "import numpy as np\n",
    "\n",
    "\n",
    "class Iceberg:\n",
    "    \n",
    "    def __init__(self, id_num, datetimes, lats, lons, size):\n",
    "        self.id_num = id_num\n",
    "        self.datetimes = datetimes\n",
    "        self.lats = lats\n",
    "        self.lons = lons\n",
    "        self.size = size\n",
    "        self.length, self.width, self.height = self.get_berg_dims(size)\n",
    "        \n",
    "            \n",
    "    def get_berg_dims(self, size):\n",
    "        # Size must be GR, BB, SM, MED, LG, VLG, or a list of [l, w, h]\n",
    "        # See https://nsidc.org/data/g00807 for more info\n",
    "        \n",
    "        if type(size) == list and len(size) == 3:\n",
    "            l, w, h = size[0], size[1], size[2]\n",
    "        \n",
    "        elif type(size) == str:\n",
    "            if size == 'GR':\n",
    "                l = (0+5)/2; w = (0+5)/2; h = (0+1)/2*10\n",
    "            elif size == 'BB':\n",
    "                l = (5+15)/2; w = (5+15)/2; h = (1+5)/2*10        \n",
    "            elif size == 'SM':\n",
    "                l = (15+60)/2; w = (15+60)/2; h = (5+15)/2*10        \n",
    "            elif size == 'MED':\n",
    "                l = (60+120)/2; w = (60+120)/2; h = (15+45)/2*10               \n",
    "            elif size == 'LG':\n",
    "                l = (120)/2; w = (120)/2; h = (45+75)/2*10                \n",
    "            elif size == 'VLG':\n",
    "                # Sizes have no listed upper bound\n",
    "                l = (200+200/2)/2; w = (200+200/2)/2; h = (75+75/2)/2*10     \n",
    "            # This info for GEN is wrong!\n",
    "            elif size == 'GEN':\n",
    "                l = (120)/2; w = (120)/2; h = (45+75)/2*10            \n",
    "            else:\n",
    "                print('unknown size class')\n",
    "                l = None; w = None; h = None\n",
    "                \n",
    "        return l, w, h"
   ]
  },
  {
   "cell_type": "code",
   "execution_count": 2,
   "metadata": {
    "collapsed": true
   },
   "outputs": [],
   "source": [
    "def get_berg_df(chosen_track_ind):\n",
    "\n",
    "    # Choose iceberg year (2002 - 2015 available)\n",
    "    # Note: Iceberg Season starts in November so many datasets include dates from year-1\n",
    "    season_year = 2015\n",
    "    iip_url_base = 'ftp://sidads.colorado.edu/pub/DATASETS/NOAA/G00807/' \n",
    "    iip_filename = 'IIP_{}IcebergSeason.csv'.format(season_year)\n",
    "    iip_url = iip_url_base + iip_filename\n",
    "    r = urllib.request.urlretrieve(iip_url)\n",
    "    iip_df = pd.read_csv(r[0], converters={'TIME':str})\n",
    "    iip_df['TIMESTAMP'] = pd.to_datetime(iip_df['DATE'] + 'T' + iip_df['TIME'])\n",
    "\n",
    "\n",
    "    # Choose the min number of observations for an eligible iceberg\n",
    "    min_num_obs = 10\n",
    "    eligible_bergs = np.asarray(\n",
    "        iip_df['BERG_NUMBER'].value_counts()\\\n",
    "        .loc[iip_df['BERG_NUMBER'].value_counts() > min_num_obs].index)\n",
    "\n",
    "    chosen_inds_arr = []\n",
    "\n",
    "    for i in range(eligible_bergs.size):\n",
    "\n",
    "        iip_berg_id = eligible_bergs[i]\n",
    "        iip_berg_df = iip_df.loc[iip_df['BERG_NUMBER'] == iip_berg_id]\n",
    "        \n",
    "        ind0 = iip_berg_df.index.tolist()[0]\n",
    "        indf = iip_berg_df.index.tolist()[-1]\n",
    "        \n",
    "        max_time_dif = np.timedelta64(24*60, 'm')\n",
    "        \n",
    "        chosen_inds = []\n",
    "\n",
    "        for j in range(len(iip_berg_df)-1):\n",
    "\n",
    "            time_dif = (iip_berg_df.TIMESTAMP.values[j+1] - \\\n",
    "                        iip_berg_df.TIMESTAMP.values[j]).astype('timedelta64[m]')\n",
    "            \n",
    "            if time_dif < max_time_dif:\n",
    "                chosen_inds.append(j+ind0)\n",
    "\n",
    "            elif len(chosen_inds) > 1:\n",
    "                chosen_inds_arr.append(chosen_inds)\n",
    "                chosen_inds = []\n",
    "            else:\n",
    "                chosen_inds = []\n",
    "\n",
    "        if len(chosen_inds) > 1:\n",
    "            chosen_inds_arr.append(chosen_inds)\n",
    "\n",
    "    iip_berg_df = iip_df.loc[chosen_inds_arr[chosen_track_ind]].reset_index()\n",
    "\n",
    "    return iip_berg_df"
   ]
  },
  {
   "cell_type": "code",
   "execution_count": 3,
   "metadata": {
    "collapsed": true
   },
   "outputs": [],
   "source": [
    "chosen_track_ind = 0"
   ]
  },
  {
   "cell_type": "code",
   "execution_count": 4,
   "metadata": {
    "collapsed": false
   },
   "outputs": [],
   "source": [
    "iip_berg_df = get_berg_df(chosen_track_ind)"
   ]
  },
  {
   "cell_type": "code",
   "execution_count": 5,
   "metadata": {
    "collapsed": false
   },
   "outputs": [
    {
     "data": {
      "text/html": [
       "<div>\n",
       "<table border=\"1\" class=\"dataframe\">\n",
       "  <thead>\n",
       "    <tr style=\"text-align: right;\">\n",
       "      <th></th>\n",
       "      <th>index</th>\n",
       "      <th>ICE-YEAR</th>\n",
       "      <th>BERG_NUMBER</th>\n",
       "      <th>DATE</th>\n",
       "      <th>TIME</th>\n",
       "      <th>LATITUDE</th>\n",
       "      <th>LONGITUDE</th>\n",
       "      <th>METHOD</th>\n",
       "      <th>SIZE</th>\n",
       "      <th>SHAPE</th>\n",
       "      <th>SOURCE</th>\n",
       "      <th>TIMESTAMP</th>\n",
       "    </tr>\n",
       "  </thead>\n",
       "  <tbody>\n",
       "    <tr>\n",
       "      <th>0</th>\n",
       "      <td>6319</td>\n",
       "      <td>2015</td>\n",
       "      <td>21511</td>\n",
       "      <td>6/16/2015</td>\n",
       "      <td>1442</td>\n",
       "      <td>48.16</td>\n",
       "      <td>-50.01</td>\n",
       "      <td>R/V</td>\n",
       "      <td>LG</td>\n",
       "      <td>TAB</td>\n",
       "      <td>GTJZ</td>\n",
       "      <td>2015-06-16 14:42:00</td>\n",
       "    </tr>\n",
       "    <tr>\n",
       "      <th>1</th>\n",
       "      <td>6320</td>\n",
       "      <td>2015</td>\n",
       "      <td>21511</td>\n",
       "      <td>6/17/2015</td>\n",
       "      <td>1300</td>\n",
       "      <td>48.09</td>\n",
       "      <td>-50.02</td>\n",
       "      <td>R/V</td>\n",
       "      <td>LG</td>\n",
       "      <td>GEN</td>\n",
       "      <td>GMRS</td>\n",
       "      <td>2015-06-17 13:00:00</td>\n",
       "    </tr>\n",
       "    <tr>\n",
       "      <th>2</th>\n",
       "      <td>6321</td>\n",
       "      <td>2015</td>\n",
       "      <td>21511</td>\n",
       "      <td>6/18/2015</td>\n",
       "      <td>1249</td>\n",
       "      <td>48.08</td>\n",
       "      <td>-49.76</td>\n",
       "      <td>VIS</td>\n",
       "      <td>LG</td>\n",
       "      <td>TAB</td>\n",
       "      <td>GTJZ</td>\n",
       "      <td>2015-06-18 12:49:00</td>\n",
       "    </tr>\n",
       "  </tbody>\n",
       "</table>\n",
       "</div>"
      ],
      "text/plain": [
       "   index  ICE-YEAR  BERG_NUMBER       DATE  TIME  LATITUDE  LONGITUDE METHOD  \\\n",
       "0   6319      2015        21511  6/16/2015  1442     48.16     -50.01    R/V   \n",
       "1   6320      2015        21511  6/17/2015  1300     48.09     -50.02    R/V   \n",
       "2   6321      2015        21511  6/18/2015  1249     48.08     -49.76    VIS   \n",
       "\n",
       "  SIZE SHAPE SOURCE           TIMESTAMP  \n",
       "0   LG   TAB   GTJZ 2015-06-16 14:42:00  \n",
       "1   LG   GEN   GMRS 2015-06-17 13:00:00  \n",
       "2   LG   TAB   GTJZ 2015-06-18 12:49:00  "
      ]
     },
     "execution_count": 5,
     "metadata": {},
     "output_type": "execute_result"
    }
   ],
   "source": [
    "iip_berg_df"
   ]
  },
  {
   "cell_type": "code",
   "execution_count": 6,
   "metadata": {
    "collapsed": false
   },
   "outputs": [],
   "source": [
    "iip_berg = Iceberg(iip_berg_df['BERG_NUMBER'].loc[0],\n",
    "                iip_berg_df['TIMESTAMP'].dt.to_pydatetime(),\n",
    "                iip_berg_df['LATITUDE'].loc[:].tolist(),\n",
    "                iip_berg_df['LONGITUDE'].loc[:].tolist(),\n",
    "                iip_berg_df['SIZE'].loc[0])"
   ]
  },
  {
   "cell_type": "code",
   "execution_count": 7,
   "metadata": {
    "collapsed": false
   },
   "outputs": [
    {
     "data": {
      "text/plain": [
       "array([datetime.datetime(2015, 6, 16, 14, 42),\n",
       "       datetime.datetime(2015, 6, 17, 13, 0),\n",
       "       datetime.datetime(2015, 6, 18, 12, 49)], dtype=object)"
      ]
     },
     "execution_count": 7,
     "metadata": {},
     "output_type": "execute_result"
    }
   ],
   "source": [
    "iip_berg_df['TIMESTAMP'].dt.to_pydatetime()"
   ]
  },
  {
   "cell_type": "code",
   "execution_count": null,
   "metadata": {
    "collapsed": true
   },
   "outputs": [],
   "source": []
  },
  {
   "cell_type": "code",
   "execution_count": null,
   "metadata": {
    "collapsed": true
   },
   "outputs": [],
   "source": []
  },
  {
   "cell_type": "code",
   "execution_count": null,
   "metadata": {
    "collapsed": true
   },
   "outputs": [],
   "source": []
  },
  {
   "cell_type": "code",
   "execution_count": null,
   "metadata": {
    "collapsed": true
   },
   "outputs": [],
   "source": []
  },
  {
   "cell_type": "markdown",
   "metadata": {},
   "source": [
    "# Metocean"
   ]
  },
  {
   "cell_type": "code",
   "execution_count": 8,
   "metadata": {
    "collapsed": false
   },
   "outputs": [],
   "source": [
    "import pandas as pd\n",
    "import numpy as np\n",
    "import netCDF4 as nc\n",
    "import xarray as xr\n",
    "import scipy.interpolate as interp\n",
    "import datetime\n",
    "from datetime import date, timedelta\n",
    "import urllib\n",
    "\n",
    "\n",
    "class Metocean(object):\n",
    "\n",
    "    def __init__(self, x_min, x_max, y_min, y_max, t_min, t_max):\n",
    "        self.x_min = x_min - abs(x_min-x_max) - self.xy_res\n",
    "        self.x_max = x_max + abs(x_min-x_max) + self.xy_res\n",
    "        self.y_min = y_min - abs(y_min-y_max) - self.xy_res\n",
    "        self.y_max = y_max + abs(y_min-y_max) + self.xy_res\n",
    "        self.t_min = t_min - timedelta(hours = self.t_res)\n",
    "        self.t_max = t_max + timedelta(hours = self.t_res)\n",
    "\n",
    "                                           \n",
    "    \n",
    "    def convert_datetime2time(self, t, t_units, t_calendar, t_offset=0):\n",
    "                                                \n",
    "        dt += timedelta(hours = t_offset)\n",
    "        t = nc.date2num(t, t_units, t_calendar)\n",
    "        \n",
    "        return t\n",
    "\n",
    "\n",
    "\n",
    "class ECMWF_Ocean(Metocean):\n",
    "    \n",
    "    # product identifier: GLOBAL_ANALYSIS_FORECAST_PHY_001_024\n",
    "\n",
    "    path = 'ftp://data.munroelab.ca/pub/ECMWF/ocean/daily/'\n",
    "    xy_res = 1/12  # spatial resolution in degrees lat/lon\n",
    "    t_res = 1  # temporal resolution in hours\n",
    "    t_units = 'hours since 1950-01-01 00:00:00'\n",
    "    t_calendar = 'standard'\n",
    "    \n",
    "    def __init__(self, x_min, x_max, y_min, y_max, t_min, t_max):\n",
    "        \n",
    "        super().__init__(x_min, x_max, y_min, y_max, t_min, t_max)\n",
    "        \n",
    "        self.filenames, self.files = self.get_filenames(self.t_min, self.t_max, self.path)\n",
    "        self.ds = nc.MFDataset(self.files)\n",
    "        self.times = self.ds.variables['time'][:]\n",
    "        self.datetimes = nc.num2date(self.times, self.t_units, self.t_calendar)\n",
    "        self.t1900 = nc.date2num(self.datetimes, 'hours since 1900-01-01 00:00:00.0 00:00', 'standard')\n",
    "        self.t1950 = nc.date2num(self.datetimes, 'hours since 1950-01-01 00:00:00.0 00:00', 'standard')\n",
    "        self.t2000 = nc.date2num(self.datetimes, 'hours since 2000-01-01 00:00:00.0 00:00', 'standard')\n",
    "        self.lats = self.ds.variables['latitude'][:]\n",
    "        self.lons = self.ds.variables['longitude'][:]\n",
    "        self.UW = np.asarray(self.ds.variables['uo'][:,0,:,:])\n",
    "        self.VW = np.asarray(self.ds.variables['vo'][:,0,:,:])\n",
    "        self.SST = np.asarray(self.ds.variables['thetao'][:,0,:,:])\n",
    "        self.iUW = interp.RegularGridInterpolator((self.times, self.lats, self.lons), self.UW)\n",
    "        self.iVW = interp.RegularGridInterpolator((self.times, self.lats, self.lons), self.VW)\n",
    "        self.iSST = interp.RegularGridInterpolator((self.times, self.lats, self.lons), self.SST)\n",
    "\n",
    "\n",
    "    \n",
    "    def get_filenames(self, t_min, t_max, path):\n",
    "\n",
    "        d1 = date(self.t_min.year, self.t_min.month, self.t_min.day)  # start date\n",
    "        d2 = date(self.t_max.year, self.t_max.month, self.t_max.day)  # end date\n",
    "        delta = d2 - d1  # timedelta\n",
    "\n",
    "        filenames = []\n",
    "        files = []\n",
    "\n",
    "        for i in range(delta.days + 1):\n",
    "            new_date = d1 + timedelta(days=i)\n",
    "            filenames.append(path + str(new_date).replace('-', '') + '.nc')\n",
    "            files.append(urllib.request.urlretrieve(filenames[i])[0])\n",
    "\n",
    "        return filenames, files\n",
    "\n",
    "\n",
    "\n",
    "class ECMWF_Atm(Metocean):\n",
    "    \n",
    "    # product identifier: WIND_GLO_WIND_L4_NRT_OBSERVATIONS_012_004\n",
    "    path = 'ftp://data.munroelab.ca/pub/ECMWF/atm/daily/'\n",
    "    xy_res = 1/4  # spatial resolution in degrees lat/lon\n",
    "    t_res = 6  # temporal resolution in hours\n",
    "    t_units = 'hours since 1900-01-01 00:00:00.0 00:00'\n",
    "    t_calendar = 'standard'\n",
    "    \n",
    "    def __init__(self, x_min, x_max, y_min, y_max, t_min, t_max):\n",
    "        \n",
    "        super().__init__(x_min, x_max, y_min, y_max, t_min, t_max)\n",
    "        \n",
    "        self.filenames, self.files = self.get_filenames(self.t_min, self.t_max, self.path)\n",
    "        self.ds = nc.MFDataset(self.files)\n",
    "        self.times = self.ds.variables['time'][:]\n",
    "        self.datetimes = nc.num2date(self.times, self.t_units, self.t_calendar)\n",
    "        self.t1900 = nc.date2num(self.datetimes, 'hours since 1900-01-01 00:00:00.0 00:00', 'standard')\n",
    "        self.t1950 = nc.date2num(self.datetimes, 'hours since 1950-01-01 00:00:00.0 00:00', 'standard')\n",
    "        self.t2000 = nc.date2num(self.datetimes, 'hours since 2000-01-01 00:00:00.0 00:00', 'standard')\n",
    "        self.lats = self.ds.variables['latitude'][:]\n",
    "        self.lons = self.ds.variables['longitude'][:]\n",
    "        self.UA = np.asarray(self.ds.variables['eastward_wind'][:,0,:,:])\n",
    "        self.VA = np.asarray(self.ds.variables['northward_wind'][:,0,:,:])\n",
    "        self.iUA = interp.RegularGridInterpolator((self.times, self.lats, self.lons), self.UA)\n",
    "        self.iVA = interp.RegularGridInterpolator((self.times, self.lats, self.lons), self.VA)\n",
    "        \n",
    "\n",
    "    def get_filenames(self, t_min, t_max, path):\n",
    "\n",
    "        d1 = date(self.t_min.year, self.t_min.month, self.t_min.day)  # start date\n",
    "        d2 = date(self.t_max.year, self.t_max.month, self.t_max.day)  # end date\n",
    "        delta = d2 - d1  # timedelta\n",
    "\n",
    "        filenames = []\n",
    "        files = []\n",
    "\n",
    "        for i in range(delta.days + 1):\n",
    "            new_date = d1 + timedelta(days=i)\n",
    "            filenames.append(path + 'sub' + str(new_date).replace('-', '') + '.nc')\n",
    "            files.append(urllib.request.urlretrieve(filenames[i])[0])\n",
    "\n",
    "        return filenames, files"
   ]
  },
  {
   "cell_type": "code",
   "execution_count": 9,
   "metadata": {
    "collapsed": false
   },
   "outputs": [],
   "source": [
    "ocean_data = ECMWF_Ocean(min(iip_berg.lons), max(iip_berg.lons),\n",
    "                         min(iip_berg.lats), max(iip_berg.lats),\n",
    "                         iip_berg.datetimes[0], iip_berg.datetimes[-1])"
   ]
  },
  {
   "cell_type": "code",
   "execution_count": 10,
   "metadata": {
    "collapsed": false
   },
   "outputs": [
    {
     "data": {
      "text/plain": [
       "['ftp://data.munroelab.ca/pub/ECMWF/ocean/daily/20150616.nc',\n",
       " 'ftp://data.munroelab.ca/pub/ECMWF/ocean/daily/20150617.nc',\n",
       " 'ftp://data.munroelab.ca/pub/ECMWF/ocean/daily/20150618.nc']"
      ]
     },
     "execution_count": 10,
     "metadata": {},
     "output_type": "execute_result"
    }
   ],
   "source": [
    "ocean_data.filenames"
   ]
  },
  {
   "cell_type": "code",
   "execution_count": 11,
   "metadata": {
    "collapsed": false
   },
   "outputs": [],
   "source": [
    "atm_data = ECMWF_Atm(min(iip_berg.lons), max(iip_berg.lons),\n",
    "                         min(iip_berg.lats), max(iip_berg.lats),\n",
    "                         iip_berg.datetimes[0], iip_berg.datetimes[-1])"
   ]
  },
  {
   "cell_type": "code",
   "execution_count": 12,
   "metadata": {
    "collapsed": false
   },
   "outputs": [
    {
     "data": {
      "text/plain": [
       "['ftp://data.munroelab.ca/pub/ECMWF/atm/daily/sub20150616.nc',\n",
       " 'ftp://data.munroelab.ca/pub/ECMWF/atm/daily/sub20150617.nc',\n",
       " 'ftp://data.munroelab.ca/pub/ECMWF/atm/daily/sub20150618.nc']"
      ]
     },
     "execution_count": 12,
     "metadata": {},
     "output_type": "execute_result"
    }
   ],
   "source": [
    "atm_data.filenames"
   ]
  },
  {
   "cell_type": "code",
   "execution_count": null,
   "metadata": {
    "collapsed": true
   },
   "outputs": [],
   "source": []
  },
  {
   "cell_type": "code",
   "execution_count": null,
   "metadata": {
    "collapsed": true
   },
   "outputs": [],
   "source": []
  },
  {
   "cell_type": "code",
   "execution_count": null,
   "metadata": {
    "collapsed": true
   },
   "outputs": [],
   "source": []
  },
  {
   "cell_type": "code",
   "execution_count": null,
   "metadata": {
    "collapsed": true
   },
   "outputs": [],
   "source": []
  },
  {
   "cell_type": "code",
   "execution_count": null,
   "metadata": {
    "collapsed": true
   },
   "outputs": [],
   "source": []
  },
  {
   "cell_type": "code",
   "execution_count": null,
   "metadata": {
    "collapsed": true
   },
   "outputs": [],
   "source": []
  },
  {
   "cell_type": "markdown",
   "metadata": {},
   "source": [
    "# Wagner wrapper"
   ]
  },
  {
   "cell_type": "code",
   "execution_count": 22,
   "metadata": {
    "collapsed": true
   },
   "outputs": [],
   "source": [
    "import numpy as np\n",
    "import cmath\n",
    "\n",
    "# Constants\n",
    "R = 6378*1e3\n",
    "om = 7.2921e-5\n",
    "rhow = 1027\n",
    "rhoa = 1.2\n",
    "rhoi = 850\n",
    "drho = rhow - rhoi\n",
    "Cw = 0.9\n",
    "Ca = 1.3\n",
    "gam = np.sqrt(rhoa*drho/rhow/rhoi*(Ca/Cw))\n",
    "sst0 = -4\n",
    "Cs1 = 1.5; Cs2 = 0.5; Cs3 = 0.1\n",
    "CMv1 = 7.62e-3; CMv2 = 1.29e-3; CMe1 = 0.5\n",
    "CMb1 = 0.58; CMb2 = 0.8; CMb3 = 0.2\n",
    "\n",
    "\n",
    "\n",
    "def wagner_drift(x, y, l, w, h, AU, AV, WU, WV, SST, t_ocean, t_atm, dt):\n",
    "\n",
    "\n",
    "    # Extract values from input fields\n",
    "    \n",
    "    vau = AU([t_atm, y, x])[0]\n",
    "    vav = AV([t_atm, y, x])[0]  \n",
    "    vwu = WU([t_ocean, y, x])[0] \n",
    "    vwv = WV([t_ocean, y, x])[0]\n",
    "    sst = SST([t_ocean, y, x])[0]\n",
    "    \n",
    "    \n",
    "    # Drift\n",
    "\n",
    "    S = np.pi*((l*w)/(l+w))\n",
    "    ff = 2*om*np.sin((np.abs(y)*np.pi)/180)\n",
    "    lam = np.sqrt(2)*Cw*(gam*np.sqrt(vau**2 + vav**2))/(ff*S)\n",
    "\n",
    "    \n",
    "    if lam < 0.1:\n",
    "        alpha = lam*(lam**4*(lam**4*(lam**4*(-0.0386699020961393*lam**4 + \\\n",
    "            0.055242717280199) - 0.0883883476483184) + \\\n",
    "            0.176776695296637) - 0.707106781186548)\n",
    "    else:\n",
    "        alpha = np.multiply(np.divide(np.sqrt(2),np.power(lam, 3)),(1-np.sqrt(1+np.power(lam,4))))\n",
    "        \n",
    "    if lam < 0.6:\n",
    "        beta = lam**3*(lam**4*(lam**4*(lam**4*(lam**4*(lam**4*(lam**4*(lam**4*(lam**4*\\\n",
    "            (0.0153268598203613*lam**4 - 0.0151656272365985) + \\\n",
    "            0.0180267866272764) + 0.0219176256311202) - \\\n",
    "            0.0274446790511418) + 0.0357675015202851) - \\\n",
    "            0.0493731785691779) + 0.0745776683282687) - \\\n",
    "            0.132582521472478) + 0.353553390593274)\n",
    "    else:\n",
    "        beta = np.real(np.multiply(np.divide(1.,np.power(lam,3.)),cmath.sqrt(np.multiply((4.+np.power(lam,4.)), \\\n",
    "            cmath.sqrt(1.+np.power(lam,4.)))-3.*np.power(lam,4.)-4.)))\n",
    "\n",
    "        \n",
    "    viu = vwu + gam*(-alpha*vav + beta*vau)\n",
    "    viv = vwv + gam*(alpha*vau + beta*vav)\n",
    "\n",
    "    y_new = y + (viv*dt)*(180/(np.pi*R))\n",
    "    x_new = x + (viu*dt)/(np.cos((((y + y_new)/2)*np.pi)/180))*(180/(np.pi*R))\n",
    "\n",
    "\n",
    "    # Decay\n",
    "\n",
    "    Me = CMe1*(Cs1*np.sqrt(vau**2 + vav**2)**Cs2 + Cs3*np.sqrt(vau**2 + vav**2))\n",
    "    Mv = CMv1*sst + CMv2*sst**2\n",
    "    Mb = CMb1*np.power(np.sqrt(np.square(viu-vwu)+np.square(viv-vwv)),CMb2)*(sst - sst0)/l**CMb3\n",
    "\n",
    "    l_new = l - (Mv + Me)*(dt/(24*3600))  # convert dt from secs to days\n",
    "    w_new = w - (Mv + Me)*(dt/(24*3600))\n",
    "    h_new = h - Mb*(dt/(24*3600))\n",
    "\n",
    "    if w_new < 0.85*h_new:\n",
    "        # Rollover\n",
    "        print('rollover')\n",
    "        w_new, h_new = h_new, w_new\n",
    "\n",
    "    if w_new > l_new:\n",
    "        # Ensure l is greater than w\n",
    "        print('swap l and w')\n",
    "        w_new, l_new = l_new, w_new\n",
    "        \n",
    "    return x_new, y_new, l_new, w_new, h_new"
   ]
  },
  {
   "cell_type": "code",
   "execution_count": 14,
   "metadata": {
    "collapsed": false
   },
   "outputs": [
    {
     "data": {
      "text/plain": [
       "array([datetime.datetime(2015, 6, 16, 14, 42),\n",
       "       datetime.datetime(2015, 6, 17, 13, 0),\n",
       "       datetime.datetime(2015, 6, 18, 12, 49)], dtype=object)"
      ]
     },
     "execution_count": 14,
     "metadata": {},
     "output_type": "execute_result"
    }
   ],
   "source": [
    "iip_berg.datetimes"
   ]
  },
  {
   "cell_type": "code",
   "execution_count": 23,
   "metadata": {
    "collapsed": false
   },
   "outputs": [
    {
     "name": "stdout",
     "output_type": "stream",
     "text": [
      "Run number: 0, h = 5.0, l = 2.5, w = 2.5\n",
      "rollover\n",
      "swap l and w\n",
      "rollover\n",
      "rollover\n",
      "rollover\n",
      "rollover\n",
      "rollover\n",
      "rollover\n",
      "rollover\n",
      "rollover\n",
      "rollover\n",
      "rollover\n",
      "rollover\n",
      "rollover\n",
      "rollover\n",
      "rollover\n",
      "rollover\n",
      "melted\n",
      "Final time: 2015-06-17 22:24:00\n",
      "Run number: 0, h = 30.0, l = 10.0, w = 10.0\n",
      "rollover\n",
      "swap l and w\n",
      "rollover\n",
      "rollover\n",
      "Final time: 2015-06-18 12:54:00\n",
      "Run number: 0, h = 100.0, l = 37.5, w = 37.5\n",
      "rollover\n",
      "swap l and w\n",
      "Final time: 2015-06-18 12:54:00\n",
      "Run number: 0, h = 300.0, l = 90.0, w = 90.0\n",
      "rollover\n",
      "swap l and w\n",
      "Final time: 2015-06-18 12:54:00\n",
      "Run number: 0, h = 600.0, l = 60.0, w = 60.0\n",
      "rollover\n",
      "swap l and w\n",
      "Final time: 2015-06-18 12:54:00\n",
      "Run number: 0, h = 562.5, l = 150.0, w = 150.0\n",
      "rollover\n",
      "swap l and w\n",
      "Final time: 2015-06-18 12:54:00\n"
     ]
    }
   ],
   "source": [
    "# Timesteps\n",
    "\n",
    "t0 = iip_berg.datetimes[0]\n",
    "tf = iip_berg.datetimes[-1]\n",
    "\n",
    "t_delta = tf - t0\n",
    "t_delta_hours = t_delta.days*24 + t_delta.seconds/3600\n",
    "t_step_hours = 0.1\n",
    "t_step = timedelta(hours = t_step_hours)\n",
    "dt = t_step_hours*3600  # timestep in seconds\n",
    "t_all = []\n",
    "\n",
    "for i in np.arange(0, t_delta_hours + t_step_hours, t_step_hours):\n",
    "    new_date = t0 + timedelta(hours=i)\n",
    "    t_all.append(new_date)\n",
    "\n",
    "\n",
    "\n",
    "berg_sizes = ['GR', 'BB', 'SM', 'MED', 'LG', 'VLG']\n",
    "bergs_by_size = []\n",
    "\n",
    "plot_list = []\n",
    "\n",
    "for berg_size in berg_sizes:\n",
    "    \n",
    "\n",
    "    \n",
    "    mod_berg = Iceberg(iip_berg_df['BERG_NUMBER'][0],\n",
    "                        iip_berg_df['TIMESTAMP'].dt.to_pydatetime(),\n",
    "                        [iip_berg_df['LATITUDE'][0]],\n",
    "                        [iip_berg_df['LONGITUDE'][0]],\n",
    "                        berg_size)\n",
    "    \n",
    "    \n",
    "    mod_berg.length = [mod_berg.length]\n",
    "    mod_berg.width = [mod_berg.width]\n",
    "    mod_berg.height = [mod_berg.height]\n",
    "    \n",
    "    # Iceberg Initial Location\n",
    "    x0, y0 = mod_berg.lons[0], mod_berg.lats[0]\n",
    "\n",
    "    # Run number\n",
    "    run_num = 0\n",
    "    num_runs = 1\n",
    "\n",
    "    # Buffer number for bounding spatial box\n",
    "    buf = 0.5\n",
    "\n",
    "    # Initialize output dict\n",
    "    output_dict = {}\n",
    "\n",
    "    for run_num in range(num_runs):\n",
    "\n",
    "        # Iceberg Initials\n",
    "        l0, w0, h0 = mod_berg.length[0], mod_berg.width[0], mod_berg.height[0]\n",
    "        l0 = l0 + l0*0.1*run_num\n",
    "        w0 = w0 + w0*0.1*run_num\n",
    "        h0 = h0 + h0*0.1*run_num\n",
    "        l, w, h = l0, w0, h0\n",
    "        x, y = x0, y0\n",
    "\n",
    "        print('Run number: {}, h = {}, l = {}, w = {}'.format(run_num, h0, l0, w0))\n",
    "        \n",
    "        for t in t_all:\n",
    "            \n",
    "                \n",
    "            t_ocean = nc.date2num(t, 'hours since 1950-01-01 00:00:00.0 00:00', 'standard')\n",
    "            t_atm = nc.date2num(t, 'hours since 1900-01-01 00:00:00.0 00:00', 'standard')\n",
    "\n",
    "            #print('Timestep: {}'.format(t))\n",
    "\n",
    "            x_new, y_new, l_new, w_new, h_new = wagner_drift(x, y, l, w, h, \n",
    "                                                             atm_data.iUA, atm_data.iVA, \n",
    "                                                             ocean_data.iUW, ocean_data.iVW, \n",
    "                                                             ocean_data.iSST, \n",
    "                                                             t_ocean, t_atm, dt)\n",
    "\n",
    "            if x_new > max(iip_berg.lons)+buf or x_new < min(iip_berg.lons)-buf or \\\n",
    "               y_new > max(iip_berg.lats)+buf or y_new <= min(iip_berg.lats)-buf:\n",
    "                # Iceberg out-of-bounds\n",
    "                print('out-of-bounds')\n",
    "                break\n",
    "\n",
    "\n",
    "            if l_new <= 0 or w_new <= 0 or h_new <= 0:\n",
    "                # Iceberg melted\n",
    "                print('melted')\n",
    "                break\n",
    "\n",
    "            else:\n",
    "                x, y, l, w, h = x_new, y_new, l_new, w_new, h_new\n",
    "                mod_berg.lons.append(x)\n",
    "                mod_berg.lats.append(y)\n",
    "                mod_berg.length.append(l)\n",
    "                mod_berg.width.append(w)\n",
    "                mod_berg.height.append(h)\n",
    "\n",
    "\n",
    "    print(\"Final time: {}\".format(t)) \n",
    "    bergs_by_size.append(mod_berg)"
   ]
  },
  {
   "cell_type": "code",
   "execution_count": 18,
   "metadata": {
    "collapsed": true
   },
   "outputs": [],
   "source": [
    "import matplotlib.pyplot as plt\n",
    "import numpy as np\n",
    "import cartopy.crs as ccrs\n",
    "from cartopy.mpl.gridliner import LONGITUDE_FORMATTER, LATITUDE_FORMATTER\n",
    "from mpl_toolkits.basemap import Basemap\n",
    "import bisect\n",
    "from matplotlib.animation import FuncAnimation"
   ]
  },
  {
   "cell_type": "code",
   "execution_count": 19,
   "metadata": {
    "collapsed": true
   },
   "outputs": [],
   "source": [
    "import os\n",
    "%matplotlib inline\n",
    "plt.style.use('default')\n",
    "from matplotlib.backends.backend_pdf import PdfPages"
   ]
  },
  {
   "cell_type": "code",
   "execution_count": 20,
   "metadata": {
    "collapsed": true
   },
   "outputs": [],
   "source": [
    "def plot_return_size_vary_no_time(iip_berg, mod_berg_gr, mod_berg_bb, mod_berg_sm, mod_berg_med, \n",
    "                         mod_berg_lg, mod_berg_vlg, ind=None):\n",
    "    f = plt.figure()\n",
    "\n",
    "    plt.plot(iip_berg.lons, iip_berg.lats, label='observed', color='red')\n",
    "    plt.plot(mod_berg_gr.lons, mod_berg_gr.lats, label='gr', color='orange')\n",
    "    plt.plot(mod_berg_bb.lons, mod_berg_bb.lats, label='bb', color='green')\n",
    "    plt.plot(mod_berg_sm.lons, mod_berg_sm.lats, label='sm', color='blue')\n",
    "    plt.plot(mod_berg_med.lons, mod_berg_med.lats, label='med', color='black')\n",
    "    plt.plot(mod_berg_lg.lons, mod_berg_lg.lats, label='lg', color='purple')\n",
    "    plt.plot(mod_berg_vlg.lons, mod_berg_vlg.lats, label='vlg', color='yellow')\n",
    "    plt.legend()\n",
    "    plt.xlabel('Longitude'); plt.ylabel('Latitude')\n",
    "\n",
    "    return f"
   ]
  },
  {
   "cell_type": "code",
   "execution_count": 21,
   "metadata": {
    "collapsed": false
   },
   "outputs": [
    {
     "data": {
      "image/png": "[encoded data removed]",
      "text/plain": [
       "<matplotlib.figure.Figure at 0x7f35768b0668>"
      ]
     },
     "metadata": {},
     "output_type": "display_data"
    }
   ],
   "source": [
    "\n",
    "plot = plot_return_size_vary_no_time(iip_berg, bergs_by_size[0], bergs_by_size[1],\n",
    "                            bergs_by_size[2],bergs_by_size[3],bergs_by_size[4],\n",
    "                            bergs_by_size[5], chosen_track_ind)\n",
    "\n",
    "plot_list.append(plot)\n",
    "if not os.path.exists('plots'):\n",
    "    os.makedirs('plots')\n",
    "with PdfPages('plots/plots_size_vary.pdf') as pdf:\n",
    "    for plot in plot_list:\n",
    "        pdf.savefig(plot)"
   ]
  },
  {
   "cell_type": "code",
   "execution_count": null,
   "metadata": {
    "collapsed": true
   },
   "outputs": [],
   "source": []
  }
 ],
 "metadata": {
  "kernelspec": {
   "display_name": "Python 3",
   "language": "python",
   "name": "python3"
  },
  "language_info": {
   "codemirror_mode": {
    "name": "ipython",
    "version": 3
   },
   "file_extension": ".py",
   "mimetype": "text/x-python",
   "name": "python",
   "nbconvert_exporter": "python",
   "pygments_lexer": "ipython3",
   "version": "3.5.2"
  }
 },
 "nbformat": 4,
 "nbformat_minor": 0
}
