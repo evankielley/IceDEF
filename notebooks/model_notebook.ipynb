{
 "cells": [
  {
   "cell_type": "code",
   "execution_count": null,
   "metadata": {
    "collapsed": true
   },
   "outputs": [],
   "source": [
    "%matplotlib inline\n",
    "import matplotlib.pyplot as plt\n",
    "plt.style.use('default')\n",
    "import numpy as np\n",
    "import xarray as xr\n",
    "from ftplib import FTP\n",
    "import urllib\n",
    "import pandas as pd\n",
    "import scipy.interpolate as interp"
   ]
  },
  {
   "cell_type": "code",
   "execution_count": null,
   "metadata": {
    "collapsed": true
   },
   "outputs": [],
   "source": [
    "from distributed import Client"
   ]
  },
  {
   "cell_type": "code",
   "execution_count": null,
   "metadata": {
    "collapsed": true
   },
   "outputs": [],
   "source": [
    "client = Client()"
   ]
  },
  {
   "cell_type": "code",
   "execution_count": null,
   "metadata": {},
   "outputs": [],
   "source": [
    "client"
   ]
  },
  {
   "cell_type": "markdown",
   "metadata": {},
   "source": [
    "# Real Iceberg"
   ]
  },
  {
   "cell_type": "code",
   "execution_count": null,
   "metadata": {
    "collapsed": true
   },
   "outputs": [],
   "source": [
    "year = 2015 # 2002 through 2015 available\n",
    "iip_url_base = 'ftp://sidads.colorado.edu/pub/DATASETS/NOAA/G00807/' \n",
    "iip_filename = 'IIP_{}IcebergSeason.csv'.format(year)\n",
    "iip_url = iip_url_base + iip_filename"
   ]
  },
  {
   "cell_type": "code",
   "execution_count": null,
   "metadata": {
    "collapsed": true
   },
   "outputs": [],
   "source": [
    "r = urllib.request.urlretrieve(iip_url)\n",
    "df = pd.read_csv(r[0])"
   ]
  },
  {
   "cell_type": "code",
   "execution_count": null,
   "metadata": {
    "collapsed": true
   },
   "outputs": [],
   "source": [
    "n = df.BERG_NUMBER.mode()[0]"
   ]
  },
  {
   "cell_type": "code",
   "execution_count": null,
   "metadata": {
    "collapsed": true
   },
   "outputs": [],
   "source": [
    "real_berg = df.loc[df['BERG_NUMBER'] == n]"
   ]
  },
  {
   "cell_type": "code",
   "execution_count": null,
   "metadata": {
    "collapsed": true
   },
   "outputs": [],
   "source": [
    "real_berg_track = real_berg.loc[6318:6333]"
   ]
  },
  {
   "cell_type": "code",
   "execution_count": null,
   "metadata": {},
   "outputs": [],
   "source": [
    "some_dates = real_berg_track.DATE + ' ' + real_berg_track.TIME.astype(str)\n",
    "pd.to_datetime(some_dates)"
   ]
  },
  {
   "cell_type": "code",
   "execution_count": null,
   "metadata": {},
   "outputs": [],
   "source": [
    "real_berg_track['time'] = pd.to_datetime(some_dates)"
   ]
  },
  {
   "cell_type": "code",
   "execution_count": null,
   "metadata": {},
   "outputs": [],
   "source": [
    "real_berg_track"
   ]
  },
  {
   "cell_type": "markdown",
   "metadata": {},
   "source": [
    "# Input Fields"
   ]
  },
  {
   "cell_type": "markdown",
   "metadata": {},
   "source": [
    "## Ocean (GLBv0.08)"
   ]
  },
  {
   "cell_type": "markdown",
   "metadata": {},
   "source": [
    "- 3 hr\n",
    "- 0.08 degree"
   ]
  },
  {
   "cell_type": "code",
   "execution_count": null,
   "metadata": {
    "collapsed": true
   },
   "outputs": [],
   "source": [
    "glb_url = 'http://tds.hycom.org/thredds/dodsC/GLBv0.08/expt_56.3'"
   ]
  },
  {
   "cell_type": "code",
   "execution_count": null,
   "metadata": {
    "collapsed": true
   },
   "outputs": [],
   "source": [
    "glb_ds = xr.open_dataset(glb_url, decode_times=False)"
   ]
  },
  {
   "cell_type": "code",
   "execution_count": null,
   "metadata": {
    "collapsed": true
   },
   "outputs": [],
   "source": [
    "# June 1, 00:00 = 135120., July 1, 00:00 = 135840.\n",
    "glb_ds = glb_ds.sel(depth=0.0, lat = slice(45., 51.), lon = slice(-53., -47.), time=slice(135120., 135840.))"
   ]
  },
  {
   "cell_type": "code",
   "execution_count": null,
   "metadata": {
    "collapsed": true
   },
   "outputs": [],
   "source": [
    "water_u_data = glb_ds.water_u\n",
    "water_v_data = glb_ds.water_v\n",
    "water_temp_data = glb_ds.water_temp"
   ]
  },
  {
   "cell_type": "code",
   "execution_count": null,
   "metadata": {},
   "outputs": [],
   "source": [
    "water_u_data.time"
   ]
  },
  {
   "cell_type": "code",
   "execution_count": null,
   "metadata": {
    "collapsed": true
   },
   "outputs": [],
   "source": [
    "glb_times = np.asarray(water_u_data.time)\n",
    "glb_lats = np.asarray(water_u_data.lat)\n",
    "glb_lons = np.asarray(water_u_data.lon)"
   ]
  },
  {
   "cell_type": "code",
   "execution_count": null,
   "metadata": {
    "collapsed": true
   },
   "outputs": [],
   "source": [
    "glb_times = glb_times - 135120"
   ]
  },
  {
   "cell_type": "markdown",
   "metadata": {},
   "source": [
    "#### Warning -- the box below takes a few minutes to run"
   ]
  },
  {
   "cell_type": "code",
   "execution_count": null,
   "metadata": {
    "collapsed": true
   },
   "outputs": [],
   "source": [
    "water_u = np.asarray(water_u_data)\n",
    "water_v = np.asarray(water_v_data)\n",
    "water_temp = np.asarray(water_temp_data)"
   ]
  },
  {
   "cell_type": "code",
   "execution_count": null,
   "metadata": {
    "collapsed": true
   },
   "outputs": [],
   "source": [
    "water_u_interp = interp.RegularGridInterpolator((glb_times, glb_lats, glb_lons), water_u)\n",
    "water_v_interp = interp.RegularGridInterpolator((glb_times, glb_lats, glb_lons), water_v)\n",
    "water_temp_interp = interp.RegularGridInterpolator((glb_times, glb_lats, glb_lons), water_temp)"
   ]
  },
  {
   "cell_type": "markdown",
   "metadata": {},
   "source": [
    "## Atmosphere (NAVGEM)"
   ]
  },
  {
   "cell_type": "markdown",
   "metadata": {},
   "source": [
    "- 6 hr\n",
    "- 0.5 degree"
   ]
  },
  {
   "cell_type": "code",
   "execution_count": null,
   "metadata": {
    "collapsed": true
   },
   "outputs": [],
   "source": [
    "navgem_url = 'http://coastwatch.pfeg.noaa.gov/erddap/griddap/erdNavgem05D10mWind_LonPM180'"
   ]
  },
  {
   "cell_type": "code",
   "execution_count": null,
   "metadata": {
    "collapsed": true
   },
   "outputs": [],
   "source": [
    "navgem_ds = xr.open_dataset(navgem_url)"
   ]
  },
  {
   "cell_type": "code",
   "execution_count": null,
   "metadata": {
    "collapsed": true
   },
   "outputs": [],
   "source": [
    "navgem_ds = navgem_ds.sel(time=slice('2015-06-01','2015-07-01'), latitude=slice(45,51), longitude=slice(-53,-47))"
   ]
  },
  {
   "cell_type": "code",
   "execution_count": null,
   "metadata": {
    "collapsed": true
   },
   "outputs": [],
   "source": [
    "wind_u = navgem_ds.wnd_ucmp_height_above_ground\n",
    "wind_v = navgem_ds.wnd_vcmp_height_above_ground"
   ]
  },
  {
   "cell_type": "code",
   "execution_count": null,
   "metadata": {
    "collapsed": true
   },
   "outputs": [],
   "source": [
    "navgem_times = np.linspace(0, 120*6 - 6, 120)\n",
    "navgem_lats = np.asarray(wind_u.latitude)\n",
    "navgem_lons = np.asarray(wind_u.longitude)"
   ]
  },
  {
   "cell_type": "code",
   "execution_count": null,
   "metadata": {
    "collapsed": true
   },
   "outputs": [],
   "source": [
    "wind_u = np.asarray(wind_u[:,0,:,:])\n",
    "wind_v = np.asarray(wind_v[:,0,:,:])"
   ]
  },
  {
   "cell_type": "code",
   "execution_count": null,
   "metadata": {
    "collapsed": true
   },
   "outputs": [],
   "source": [
    "wind_u_interp = interp.RegularGridInterpolator((navgem_times, navgem_lats, navgem_lons), wind_u)\n",
    "wind_v_interp = interp.RegularGridInterpolator((navgem_times, navgem_lats, navgem_lons), wind_v)"
   ]
  },
  {
   "cell_type": "code",
   "execution_count": null,
   "metadata": {
    "collapsed": true
   },
   "outputs": [],
   "source": []
  },
  {
   "cell_type": "markdown",
   "metadata": {},
   "source": [
    "# Input Analysis"
   ]
  },
  {
   "cell_type": "code",
   "execution_count": null,
   "metadata": {
    "collapsed": true
   },
   "outputs": [],
   "source": [
    "import cartopy.crs as ccrs\n",
    "from cartopy.mpl.gridliner import LONGITUDE_FORMATTER, LATITUDE_FORMATTER"
   ]
  },
  {
   "cell_type": "code",
   "execution_count": null,
   "metadata": {},
   "outputs": [],
   "source": [
    "ax = plt.axes(projection=ccrs.PlateCarree())\n",
    "ax.set_extent([-40, -60, 40, 60], ccrs.PlateCarree())\n",
    "#ax.stock_img()\n",
    "ax.coastlines('50m')\n",
    "gl = ax.gridlines(crs=ccrs.PlateCarree(), draw_labels=True,\n",
    "                  linewidth=2, color='gray', alpha=0.5, linestyle='--')\n",
    "#gl.xlabels_top = False\n",
    "#gl.ylabels_left = False\n",
    "#gl.xlines = False\n",
    "#gl.xlocator = mticker.FixedLocator([-180, -45, 0, 45, 180])\n",
    "gl.xformatter = LONGITUDE_FORMATTER\n",
    "gl.yformatter = LATITUDE_FORMATTER\n",
    "gl.xlabel_style = {'size': 15, 'color': 'gray'}\n",
    "gl.xlabel_style = {'color': 'red', 'weight': 'bold'}\n",
    "ax.plot(real_berg_track['LONGITUDE'], real_berg_track['LATITUDE'])\n",
    "plt.show()"
   ]
  },
  {
   "cell_type": "code",
   "execution_count": null,
   "metadata": {
    "collapsed": true
   },
   "outputs": [],
   "source": [
    "from matplotlib.animation import FuncAnimation"
   ]
  },
  {
   "cell_type": "code",
   "execution_count": null,
   "metadata": {
    "collapsed": true
   },
   "outputs": [],
   "source": [
    "from IPython.display import HTML"
   ]
  },
  {
   "cell_type": "code",
   "execution_count": null,
   "metadata": {
    "collapsed": true
   },
   "outputs": [],
   "source": [
    "water_mag = np.sqrt(water_u**2 + water_v**2)"
   ]
  },
  {
   "cell_type": "code",
   "execution_count": null,
   "metadata": {},
   "outputs": [],
   "source": [
    "(real_berg_track.LATITUDE.values[0], real_berg_track.LONGITUDE.values[0])"
   ]
  },
  {
   "cell_type": "code",
   "execution_count": null,
   "metadata": {},
   "outputs": [],
   "source": [
    "np.datetime64(npdt, 's')"
   ]
  },
  {
   "cell_type": "code",
   "execution_count": null,
   "metadata": {
    "collapsed": true
   },
   "outputs": [],
   "source": [
    "rbt_days_arr = pd.DatetimeIndex(real_berg_track.time).day"
   ]
  },
  {
   "cell_type": "code",
   "execution_count": null,
   "metadata": {
    "collapsed": true
   },
   "outputs": [],
   "source": [
    "rbt_hours_arr = pd.DatetimeIndex(real_berg_track.time).hour"
   ]
  },
  {
   "cell_type": "code",
   "execution_count": null,
   "metadata": {
    "collapsed": true
   },
   "outputs": [],
   "source": [
    "rbt_minutes_arr = pd.DatetimeIndex(real_berg_track.time).minute"
   ]
  },
  {
   "cell_type": "code",
   "execution_count": null,
   "metadata": {
    "collapsed": true
   },
   "outputs": [],
   "source": [
    "def rbt_hours_since(days_arr, hours_arr, mins_arr):\n",
    "    days_arr = days_arr - days_arr[0]  # must be same month\n",
    "    rbt_hours_since = np.empty(days_arr.size)\n",
    "    for i in range(rbt_hours_since.size):\n",
    "        rbt_hours_since[i] = days_arr[i]*24 + hours_arr[i] + mins_arr[i]/60\n",
    "    return rbt_hours_since"
   ]
  },
  {
   "cell_type": "code",
   "execution_count": null,
   "metadata": {},
   "outputs": [],
   "source": [
    "rbt_hours_since_arr"
   ]
  },
  {
   "cell_type": "code",
   "execution_count": null,
   "metadata": {
    "collapsed": true
   },
   "outputs": [],
   "source": [
    "rbt_hours_since_arr = rbt_hours_since(rbt_days_arr, rbt_hours_arr, rbt_minutes_arr)"
   ]
  },
  {
   "cell_type": "code",
   "execution_count": null,
   "metadata": {},
   "outputs": [],
   "source": [
    "glb_times[50] - rbt_hours_since_arr"
   ]
  },
  {
   "cell_type": "code",
   "execution_count": null,
   "metadata": {},
   "outputs": [],
   "source": [
    "fig = plt.figure()\n",
    "ax = plt.axes(projection=ccrs.PlateCarree())\n",
    "ax.set_extent([-54, -44, 44, 54], ccrs.PlateCarree())\n",
    "#ax.stock_img()\n",
    "ax.coastlines('50m')\n",
    "gl = ax.gridlines(crs=ccrs.PlateCarree(), draw_labels=True,\n",
    "                  linewidth=2, color='gray', alpha=0.5, linestyle='--')\n",
    "gl.xlabels_top = False\n",
    "gl.ylabels_right = False\n",
    "gl.xformatter = LONGITUDE_FORMATTER\n",
    "gl.yformatter = LATITUDE_FORMATTER\n",
    "\n",
    "#ax.plot(real_berg_track['LONGITUDE'], real_berg_track['LATITUDE'])\n",
    "\n",
    "line, = plt.plot(real_berg_track.LONGITUDE.values[0], real_berg_track.LATITUDE.values[0], 'o')\n",
    "im = plt.imshow(water_mag[0,:,:], extent=[glb_lons[0], glb_lons[-1], glb_lats[0], glb_lats[-1]],\n",
    "                origin = 'lower', vmin = -1, vmax = 1)\n",
    "plt.colorbar()\n",
    "title = plt.title('')\n",
    "\n",
    "\n",
    "def animate(i):\n",
    "\n",
    "    im.set_data(water_mag[i,:,:])\n",
    "    \n",
    "    time = glb_times[i]\n",
    "    days = time//24\n",
    "    hours = time%24\n",
    "    diff = abs(time - rbt_hours_since_arr)\n",
    "\n",
    "    if any(diff) <= 3:\n",
    "        k = np.where(diff <= 3)[0]\n",
    "        line.set_data(real_berg_track.LONGITUDE.values[k], real_berg_track.LATITUDE.values[k])\n",
    "        ax.plot(real_berg_track.LONGITUDE.values[k], real_berg_track.LATITUDE.values[k], marker='o')\n",
    "\n",
    "        \n",
    "    title.set_text('time: {:.0f} days {:.0f} hours'.format(days, hours))\n",
    "    \n",
    "    return im, title, line\n",
    "\n",
    "anim = FuncAnimation(fig, animate, frames=100)"
   ]
  },
  {
   "cell_type": "code",
   "execution_count": null,
   "metadata": {},
   "outputs": [],
   "source": [
    "HTML(anim.to_html5_video())"
   ]
  },
  {
   "cell_type": "markdown",
   "metadata": {},
   "source": [
    "# Model"
   ]
  },
  {
   "cell_type": "code",
   "execution_count": null,
   "metadata": {
    "collapsed": true
   },
   "outputs": [],
   "source": [
    "import scipy.io as sio\n",
    "import numpy.matlib\n",
    "import cmath"
   ]
  },
  {
   "cell_type": "code",
   "execution_count": null,
   "metadata": {
    "collapsed": true
   },
   "outputs": [],
   "source": [
    "# Constants\n",
    "R = 6378*1e3\n",
    "om = 7.2921e-5\n",
    "rhow = 1027\n",
    "rhoa = 1.2\n",
    "rhoi = 850\n",
    "drho = rhow - rhoi\n",
    "Cw = 0.9\n",
    "Ca = 1.3\n",
    "gam = np.sqrt(rhoa*drho/rhow/rhoi*(Ca/Cw))\n",
    "sst0 = -4\n",
    "Cs1 = 1.5; Cs2 = 0.5; Cs3 = 0.1\n",
    "CMv1 = 7.62e-3; CMv2 = 1.29e-3; CMe1 = 0.5\n",
    "CMb1 = 0.58; CMb2 = 0.8; CMb3 = 0.2"
   ]
  },
  {
   "cell_type": "code",
   "execution_count": null,
   "metadata": {
    "collapsed": true
   },
   "outputs": [],
   "source": [
    "def iceDEF(t,x,y,l,w,h):\n",
    "\n",
    "    #print('\\ntimestep: {}\\n'.format(t))\n",
    "    \n",
    "\n",
    "    # Extract values from input fields\n",
    "    \n",
    "    vau = wind_u_interp([t, y, x])[0]\n",
    "    vav = wind_v_interp([t, y, x])[0]  \n",
    "    vwu = water_u_interp([t, y, x])[0] \n",
    "    vwv = water_v_interp([t, y, x])[0]\n",
    "    sst = water_temp_interp([t, y, x])[0]\n",
    "\n",
    "    #print('vau = ', vau)\n",
    "    #print('vav = ', vav)\n",
    "    #print('vwu = ', vwu)\n",
    "    #print('vwv = ', vwv)\n",
    "    #print('sst = ', sst)\n",
    "    \n",
    "\n",
    "    # Drifting\n",
    "\n",
    "    S = np.pi*((l*w)/(l+w))\n",
    "    ff = 2*om*np.sin((np.abs(y)*np.pi)/180)\n",
    "    lam = np.sqrt(2)*Cw*(gam*np.sqrt(vau**2 + vav**2))/(ff*S)\n",
    "    #print('S = {0:.15f}'.format(S))\n",
    "    #print('ff = {0:.15f}'.format(ff))\n",
    "    #print('lam = {0:.15f}'.format(lam))\n",
    "    \n",
    "    if lam < 0.1:\n",
    "        #print('Taylor approx used for alpha')\n",
    "        alpha = lam*(lam**4*(lam**4*(lam**4*(-0.0386699020961393*lam**4 + \\\n",
    "            0.055242717280199) - 0.0883883476483184) + \\\n",
    "            0.176776695296637) - 0.707106781186548)\n",
    "    else:\n",
    "        alpha = np.multiply(np.divide(np.sqrt(2),np.power(lam, 3)),(1-np.sqrt(1+np.power(lam,4))))\n",
    "        \n",
    "    if lam < 0.6:\n",
    "        #print('Taylor approx used for beta')\n",
    "        beta = lam**3*(lam**4*(lam**4*(lam**4*(lam**4*(lam**4*(lam**4*(lam**4*(lam**4*\\\n",
    "            (0.0153268598203613*lam**4 - 0.0151656272365985) + \\\n",
    "            0.0180267866272764) + 0.0219176256311202) - \\\n",
    "            0.0274446790511418) + 0.0357675015202851) - \\\n",
    "            0.0493731785691779) + 0.0745776683282687) - \\\n",
    "            0.132582521472478) + 0.353553390593274)\n",
    "    else:\n",
    "        beta = np.real(np.multiply(np.divide(1.,np.power(lam,3.)),cmath.sqrt(np.multiply((4.+np.power(lam,4.)), \\\n",
    "            cmath.sqrt(1.+np.power(lam,4.)))-3.*np.power(lam,4.)-4.)))\n",
    "\n",
    "    #print('alpha = {0:.15f}'.format(alpha))\n",
    "    #print('beta = {}'.format(beta))\n",
    "\n",
    "    viu = vwu + gam*(-alpha*vav + beta*vau)\n",
    "    viv = vwv + gam*(alpha*vau + beta*vav)\n",
    "\n",
    "    #print('viu = {0:.15f}'.format(viu))\n",
    "    #print('viv = {0:.15f}'.format(viv))\n",
    "\n",
    "    y_new = y + (viv*dt)*(180/(np.pi*R))\n",
    "    x_new = x + (viu*dt)/(np.cos((((y + y_new)/2)*np.pi)/180))*(180/(np.pi*R))\n",
    "\n",
    "    #print('x_new = {0:.15f}'.format(x_new))\n",
    "    #print('y_new = {0:.15f}'.format(y_new))\n",
    "    \n",
    "    \n",
    "    # Melting\n",
    "\n",
    "    Me = CMe1*(Cs1*np.sqrt(vau**2 + vav**2)**Cs2 + Cs3*np.sqrt(vau**2 + vav**2))\n",
    "    Mv = CMv1*sst + CMv2*sst**2\n",
    "    Mb = CMb1*np.power(np.sqrt(np.square(viu-vwu)+np.square(viv-vwv)),CMb2)*(sst - sst0)/l**CMb3\n",
    "\n",
    "    #print('Me = {0:.15f}'.format(Me))\n",
    "    #print('Mv = {0:.15f}'.format(Mv))\n",
    "    #print('Mb = {0:.15f}'.format(Mb))\n",
    "\n",
    "    l_new = l - (Mv + Me)*(dt/(24*3600))  # convert dt from secs to days\n",
    "    w_new = w - (Mv + Me)*(dt/(24*3600))\n",
    "    h_new = h - Mb*(dt/(24*3600))\n",
    "\n",
    "    if w_new < 0.85*h_new:\n",
    "        # Rollover\n",
    "        print('rollover')\n",
    "        w_new, h_new = h_new, w_new\n",
    "\n",
    "    if w_new > l_new:\n",
    "        # Ensure l is greater than w\n",
    "        print('swap l and w')\n",
    "        w_new, l_new = l_new, w_new\n",
    "\n",
    "    #print('l_new = {0:.15f}'.format(l_new))\n",
    "    #print('w_new = {0:.15f}'.format(w_new))\n",
    "    #print('h_new = {0:.15f}'.format(h_new))\n",
    "\n",
    "    return x_new, y_new, l_new, w_new, h_new    \n"
   ]
  },
  {
   "cell_type": "code",
   "execution_count": null,
   "metadata": {
    "collapsed": true
   },
   "outputs": [],
   "source": [
    "# Timesteps\n",
    "t0 = 360 + 11  # initial hour\n",
    "t_inc = 1  # hours\n",
    "num_days = 14\n",
    "tn = t_inc*num_days*24  # total number of timesteps\n",
    "dt = t_inc*3600  # model timestep in seconds\n",
    "tf = t0 + tn*dt  # final timestep in seconds  \n",
    "t_all = np.arange(t0, t0+tn, t_inc)"
   ]
  },
  {
   "cell_type": "code",
   "execution_count": null,
   "metadata": {},
   "outputs": [],
   "source": [
    "rbt_hours_since_arr"
   ]
  },
  {
   "cell_type": "code",
   "execution_count": null,
   "metadata": {},
   "outputs": [],
   "source": [
    "# Iceberg Initial Location\n",
    "x0, y0 = -50.14, 48.49   # lon, lat\n",
    "\n",
    "# Run number\n",
    "run_num = 0\n",
    "num_runs = 1\n",
    "\n",
    "for run_num in range(num_runs):\n",
    "    \n",
    "    # Iceberg Initial Size\n",
    "    # Large berg: \n",
    "        # Height: 46 metres to 75 metres above surface \n",
    "        # Length or width: 121 metres to 200 metres\n",
    "    l0 = 121\n",
    "    w0 = 121\n",
    "    h0 = 46*10\n",
    "    l0 = l0 + l0*0.1*run_num\n",
    "    w0 = w0 + w0*0.1*run_num\n",
    "    h0 = h0 + h0*0.1*run_num\n",
    "    l, w, h = l0, w0, h0\n",
    "    \n",
    "    x, y = x0, y0\n",
    "    t = t0\n",
    "    iceberg = np.array([[t0],[x0],[y0],[l0],[w0],[h0]])\n",
    "\n",
    "    print('Run number: {}, h = {}, l = {}, w = {}'.format(run_num, h0, l0, w0))\n",
    "    \n",
    "    while t < max(t_all):\n",
    "\n",
    "        x_new, y_new, l_new, w_new, h_new = iceDEF(t, x, y, l, w, h)\n",
    "\n",
    "\n",
    "        if x_new > -47.1 or x_new < -53 or y_new > 51 or y_new < 45:\n",
    "            # Iceberg out-of-bounds\n",
    "            #print(x_new)\n",
    "            #print(y_new)\n",
    "            print('out-of-bounds')\n",
    "            break\n",
    "\n",
    "\n",
    "        if l_new <= 0 or w_new <= 0 or h_new <= 0:\n",
    "            # Iceberg melted\n",
    "            print('melted')\n",
    "            break\n",
    "\n",
    "        else:\n",
    "            x, y, l, w, h = x_new, y_new, l_new, w_new, h_new\n",
    "            t += t_inc\n",
    "            iceberg_new = np.array([[t],[x],[y],[l],[w],[h]])\n",
    "            iceberg = np.column_stack((iceberg, iceberg_new))\n",
    "\n",
    "    plt.plot(real_berg_track['LONGITUDE'], real_berg_track['LATITUDE'], label='observed', marker='o')\n",
    "    plt.plot(iceberg[1,:],iceberg[2,:], label='computed')\n",
    "    \n",
    "    for real_berg_hour in rbt_hours_since_arr: \n",
    "        diff = abs((iceberg[0,:]-360) - real_berg_hour)\n",
    "        k = np.where(diff < (t_inc/2))[0]\n",
    "        plt.plot(iceberg[1,k],iceberg[2,k],marker='D')\n",
    "        if len(k) >= 1:\n",
    "            plt.annotate('{0:.1f}'.format(real_berg_hour), xy=(iceberg[1,k][0],iceberg[2,k][0]))\n",
    "    #plt.legend()\n",
    "\n",
    "    if run_num == 0:\n",
    "        output_dict = {\n",
    "                        't_arr{}'.format(run_num): iceberg[0,:],\n",
    "                        'x_arr{}'.format(run_num): iceberg[1,:],\n",
    "                        'y_arr{}'.format(run_num): iceberg[2,:],\n",
    "                        'l_arr{}'.format(run_num): iceberg[3,:],\n",
    "                        'w_arr{}'.format(run_num): iceberg[4,:],\n",
    "                        'h_arr{}'.format(run_num): iceberg[5,:]\n",
    "                    }\n",
    "    else:\n",
    "        output_dict['t_arr{}'.format(run_num)] = iceberg[0,:]\n",
    "        output_dict['x_arr{}'.format(run_num)] = iceberg[1,:]\n",
    "        output_dict['y_arr{}'.format(run_num)] = iceberg[2,:]\n",
    "        output_dict['l_arr{}'.format(run_num)] = iceberg[3,:]\n",
    "        output_dict['w_arr{}'.format(run_num)] = iceberg[4,:]\n",
    "        output_dict['h_arr{}'.format(run_num)] = iceberg[5,:]\n"
   ]
  },
  {
   "cell_type": "code",
   "execution_count": null,
   "metadata": {
    "collapsed": true
   },
   "outputs": [],
   "source": []
  }
 ],
 "metadata": {
  "kernelspec": {
   "display_name": "Python 3",
   "language": "python",
   "name": "python3"
  },
  "language_info": {
   "codemirror_mode": {
    "name": "ipython",
    "version": 3
   },
   "file_extension": ".py",
   "mimetype": "text/x-python",
   "name": "python",
   "nbconvert_exporter": "python",
   "pygments_lexer": "ipython3",
   "version": "3.6.3"
  }
 },
 "nbformat": 4,
 "nbformat_minor": 1
}
