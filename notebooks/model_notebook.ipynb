{
 "cells": [
  {
   "cell_type": "code",
   "execution_count": 1,
   "metadata": {
    "collapsed": true
   },
   "outputs": [],
   "source": [
    "%matplotlib inline\n",
    "import matplotlib.pyplot as plt\n",
    "plt.style.use('default')\n",
    "import numpy as np\n",
    "import xarray as xr\n",
    "from ftplib import FTP\n",
    "import urllib\n",
    "import pandas as pd"
   ]
  },
  {
   "cell_type": "markdown",
   "metadata": {},
   "source": [
    "# Real Iceberg"
   ]
  },
  {
   "cell_type": "code",
   "execution_count": 2,
   "metadata": {
    "collapsed": false
   },
   "outputs": [],
   "source": [
    "year = 2015 # 2002 through 2015 available\n",
    "iip_url_base = 'ftp://sidads.colorado.edu/pub/DATASETS/NOAA/G00807/' \n",
    "iip_filename = 'IIP_{}IcebergSeason.csv'.format(year)\n",
    "iip_url = iip_url_base + iip_filename"
   ]
  },
  {
   "cell_type": "code",
   "execution_count": 3,
   "metadata": {
    "collapsed": true
   },
   "outputs": [],
   "source": [
    "r = urllib.request.urlretrieve(iip_url)\n",
    "df = pd.read_csv(r[0])"
   ]
  },
  {
   "cell_type": "code",
   "execution_count": 4,
   "metadata": {
    "collapsed": true
   },
   "outputs": [],
   "source": [
    "n = df.BERG_NUMBER.mode()[0]"
   ]
  },
  {
   "cell_type": "code",
   "execution_count": 5,
   "metadata": {
    "collapsed": false
   },
   "outputs": [],
   "source": [
    "real_berg = df.loc[df['BERG_NUMBER'] == n]"
   ]
  },
  {
   "cell_type": "code",
   "execution_count": 6,
   "metadata": {
    "collapsed": false
   },
   "outputs": [],
   "source": [
    "real_berg_track = real_berg.loc[6318:6333]"
   ]
  },
  {
   "cell_type": "markdown",
   "metadata": {},
   "source": [
    "# Input Fields"
   ]
  },
  {
   "cell_type": "markdown",
   "metadata": {},
   "source": [
    "## Ocean"
   ]
  },
  {
   "cell_type": "markdown",
   "metadata": {},
   "source": [
    "### GLBv0.08"
   ]
  },
  {
   "cell_type": "markdown",
   "metadata": {},
   "source": [
    "- 3 hr\n",
    "- 0.08 degree"
   ]
  },
  {
   "cell_type": "code",
   "execution_count": 7,
   "metadata": {
    "collapsed": true
   },
   "outputs": [],
   "source": [
    "glb_url = 'http://tds.hycom.org/thredds/dodsC/GLBv0.08/expt_56.3'"
   ]
  },
  {
   "cell_type": "code",
   "execution_count": 8,
   "metadata": {
    "collapsed": true
   },
   "outputs": [],
   "source": [
    "glb_ds = xr.open_dataset(glb_url, decode_times=False)"
   ]
  },
  {
   "cell_type": "code",
   "execution_count": 9,
   "metadata": {
    "collapsed": false
   },
   "outputs": [],
   "source": [
    "# June 1, 00:00 = 135120., July 1, 00:00 = 135840.\n",
    "glb_ds = glb_ds.sel(depth=0.0, lat = slice(45., 51.), lon = slice(-53., -47.), time=slice(135120., 135840.))"
   ]
  },
  {
   "cell_type": "code",
   "execution_count": 10,
   "metadata": {
    "collapsed": false
   },
   "outputs": [],
   "source": [
    "water_u = glb_ds.water_u\n",
    "water_v = glb_ds.water_v\n",
    "water_temp = glb_ds.water_temp"
   ]
  },
  {
   "cell_type": "code",
   "execution_count": 11,
   "metadata": {
    "collapsed": false
   },
   "outputs": [],
   "source": [
    "glb_times = np.asarray(water_u.time)\n",
    "glb_lats = np.asarray(water_u.lat)\n",
    "glb_lons = np.asarray(water_u.lon)"
   ]
  },
  {
   "cell_type": "code",
   "execution_count": 12,
   "metadata": {
    "collapsed": false
   },
   "outputs": [],
   "source": [
    "glb_times = glb_times - 135120"
   ]
  },
  {
   "cell_type": "markdown",
   "metadata": {},
   "source": [
    "###"
   ]
  },
  {
   "cell_type": "code",
   "execution_count": 13,
   "metadata": {
    "collapsed": true
   },
   "outputs": [],
   "source": [
    "water_u = np.asarray(water_u)\n",
    "water_v = np.asarray(water_v)\n",
    "water_temp = np.asarray(water_temp)"
   ]
  },
  {
   "cell_type": "code",
   "execution_count": null,
   "metadata": {
    "collapsed": false
   },
   "outputs": [],
   "source": [
    "glb_times"
   ]
  },
  {
   "cell_type": "markdown",
   "metadata": {},
   "source": [
    "## Atmosphere"
   ]
  },
  {
   "cell_type": "markdown",
   "metadata": {},
   "source": [
    "### NAVGEM"
   ]
  },
  {
   "cell_type": "markdown",
   "metadata": {},
   "source": [
    "- 6 hr\n",
    "- 0.08 degree"
   ]
  },
  {
   "cell_type": "code",
   "execution_count": null,
   "metadata": {
    "collapsed": true
   },
   "outputs": [],
   "source": [
    "navgem_url = 'http://coastwatch.pfeg.noaa.gov/erddap/griddap/erdNavgem05D10mWind_LonPM180'"
   ]
  },
  {
   "cell_type": "code",
   "execution_count": null,
   "metadata": {
    "collapsed": true
   },
   "outputs": [],
   "source": [
    "navgem_ds = xr.open_dataset(navgem_url)"
   ]
  },
  {
   "cell_type": "code",
   "execution_count": null,
   "metadata": {
    "collapsed": true
   },
   "outputs": [],
   "source": [
    "navgem_ds = navgem_ds.sel(time=slice('2015-06-01','2015-07-01'), latitude=slice(45,51), longitude=slice(-53,-47))"
   ]
  },
  {
   "cell_type": "code",
   "execution_count": null,
   "metadata": {
    "collapsed": false
   },
   "outputs": [],
   "source": [
    "wind_u = navgem_ds.wnd_ucmp_height_above_ground\n",
    "wind_v = navgem_ds.wnd_vcmp_height_above_ground"
   ]
  },
  {
   "cell_type": "code",
   "execution_count": null,
   "metadata": {
    "collapsed": true
   },
   "outputs": [],
   "source": [
    "#navgem_times = np.asarray(wind_u.time)\n",
    "navgem_times = np.linspace(0, 120*6 - 6, 120)\n",
    "navgem_lats = np.asarray(wind_u.latitude)\n",
    "navgem_lons = np.asarray(wind_u.longitude)"
   ]
  },
  {
   "cell_type": "code",
   "execution_count": null,
   "metadata": {
    "collapsed": false
   },
   "outputs": [],
   "source": [
    "wind_u = np.asarray(wind_u)\n",
    "wind_v = np.asarray(wind_v)"
   ]
  },
  {
   "cell_type": "markdown",
   "metadata": {},
   "source": [
    "# Tools"
   ]
  },
  {
   "cell_type": "code",
   "execution_count": null,
   "metadata": {
    "collapsed": true
   },
   "outputs": [],
   "source": [
    "def find_nearest(val, arr):\n",
    "    diff_arr = abs(arr - val)\n",
    "    smallest_ind = np.argpartition(diff_arr, 0)[0]\n",
    "    smallest_val = arr[smallest_ind]\n",
    "    next_smallest_ind = np.argpartition(diff_arr, 1)[1]\n",
    "    next_smallest_val = arr[next_smallest_ind]\n",
    "    return smallest_ind, smallest_val, next_smallest_ind, next_smallest_val       "
   ]
  },
  {
   "cell_type": "code",
   "execution_count": null,
   "metadata": {
    "collapsed": true
   },
   "outputs": [],
   "source": [
    "def linear_interp_1D(x, x1, x2):  \n",
    "    xi1 = (x2 - x)/(x2 - x1)\n",
    "    xi2 = (x - x1)/(x2 - x1)\n",
    "    xi = x1*xi1 + x2*xi2\n",
    "    return xi"
   ]
  },
  {
   "cell_type": "markdown",
   "metadata": {},
   "source": [
    "# Model"
   ]
  },
  {
   "cell_type": "code",
   "execution_count": null,
   "metadata": {
    "collapsed": true
   },
   "outputs": [],
   "source": [
    "import scipy.io as sio\n",
    "import numpy.matlib\n",
    "import cmath"
   ]
  },
  {
   "cell_type": "code",
   "execution_count": null,
   "metadata": {
    "collapsed": true
   },
   "outputs": [],
   "source": [
    "# Constants\n",
    "R = 6378*1e3\n",
    "om = 7.2921e-5\n",
    "rhow = 1027\n",
    "rhoa = 1.2\n",
    "rhoi = 850\n",
    "drho = rhow - rhoi\n",
    "Cw = 0.9\n",
    "Ca = 1.3\n",
    "gam = np.sqrt(rhoa*drho/rhow/rhoi*(Ca/Cw))\n",
    "sst0 = -4\n",
    "Cs1 = 1.5; Cs2 = 0.5; Cs3 = 0.1\n",
    "CMv1 = 7.62e-3; CMv2 = 1.29e-3; CMe1 = 0.5\n",
    "CMb1 = 0.58; CMb2 = 0.8; CMb3 = 0.2"
   ]
  },
  {
   "cell_type": "code",
   "execution_count": null,
   "metadata": {
    "collapsed": true
   },
   "outputs": [],
   "source": [
    "# Timesteps\n",
    "t0 = 360  # initial hour\n",
    "t_inc = 3  # 3 hr\n",
    "num_days = 15\n",
    "tn = t_inc * num_days  # total number of timesteps\n",
    "dt = 1*3*3600  # model timestep in seconds\n",
    "tf = t0 + tn*dt  # final timestep in seconds  \n",
    "t_all = np.arange(t0, 720, 3)"
   ]
  },
  {
   "cell_type": "code",
   "execution_count": null,
   "metadata": {
    "collapsed": false
   },
   "outputs": [],
   "source": [
    "t_all"
   ]
  },
  {
   "cell_type": "code",
   "execution_count": null,
   "metadata": {
    "collapsed": false
   },
   "outputs": [],
   "source": [
    "# Iceberg Inits\n",
    "x0, y0 = -50.14, 48.49   # lon, lat\n",
    "l0, w0, h0 = 600, 500, 400   # length, width, height"
   ]
  },
  {
   "cell_type": "code",
   "execution_count": null,
   "metadata": {
    "collapsed": false
   },
   "outputs": [],
   "source": [
    "def main():\n",
    "\n",
    "    x, y = x0, y0\n",
    "    l, w, h = l0, w0, h0\n",
    "    t = t0\n",
    "    iceberg = np.array([[t0],[x0],[y0],[l0],[w0],[h0]])\n",
    "\n",
    "    while t < max(t_all):\n",
    "\n",
    "        x_new, y_new, l_new, w_new, h_new = iceDEF(t, x, y, l, w, h)\n",
    "\n",
    "        \n",
    "        if x_new > -47 or x_new < -53 or y_new > 51 or y_new < 45:\n",
    "            # Iceberg out-of-bounds\n",
    "            print(x_new)\n",
    "            print(y_new)\n",
    "            print('out-of-bounds')\n",
    "            break\n",
    "        \n",
    "\n",
    "        if l_new <= 0 or w_new <= 0 or h_new <= 0:\n",
    "            # Iceberg melted\n",
    "            print('melted')\n",
    "            break\n",
    "\n",
    "        else:\n",
    "            x, y, l, w, h = x_new, y_new, l_new, w_new, h_new\n",
    "            t += t_inc\n",
    "            iceberg_new = np.array([[t],[x],[y],[l],[w],[h]])\n",
    "            iceberg = np.column_stack((iceberg, iceberg_new))\n",
    "\n",
    "    plt.plot(real_berg_track['LONGITUDE'], real_berg_track['LATITUDE'], label='observed')        \n",
    "    plt.plot(iceberg[1,:],iceberg[2,:], label='computed')\n",
    "    plt.legend()\n",
    "\n",
    "        \n",
    "    save_dict = {\n",
    "                    't_arr': iceberg[0,:],\n",
    "                    'x_arr': iceberg[1,:],\n",
    "                    'y_arr': iceberg[2,:],\n",
    "                    'l_arr': iceberg[3,:],\n",
    "                    'w_arr': iceberg[4,:],\n",
    "                    'h_arr': iceberg[5,:]\n",
    "                }\n",
    "\n",
    "    \n",
    "\n",
    "def iceDEF(t,x,y,l,w,h):\n",
    "\n",
    "    print('\\ntimestep: {}\\n'.format(t))\n",
    "    \n",
    "\n",
    "    # Atmosphere\n",
    "\n",
    "    t_atm_ind1, t_atm_val1, t_atm_ind2, t_atm_val2 = find_nearest(t, navgem_times)\n",
    "    x_atm_ind1, x_atm_val1, x_atm_ind2, x_atm_val2 = find_nearest(t, navgem_lons)\n",
    "    y_atm_ind1, y_atm_val1, y_atm_ind2, y_atm_val2 = find_nearest(t, navgem_lats)\n",
    "    \n",
    "    #(t, height, lat, lon)\n",
    "    vau = wind_u[t_atm_ind1, 0, y_atm_ind1, x_atm_ind1] \n",
    "    vav = wind_v[t_atm_ind1, 0, y_atm_ind1, x_atm_ind1] \n",
    "\n",
    "    \n",
    "    # Ocean\n",
    "    \n",
    "    t_ocean_ind1, t_ocean_val1, t_ocean_ind2, t_ocean_val2 = find_nearest(t, glb_times)\n",
    "    x_ocean_ind1, x_ocean_val1, x_ocean_ind2, x_ocean_val2 = find_nearest(t, glb_lons)\n",
    "    y_ocean_ind1, y_ocean_val1, y_ocean_ind2, y_ocean_val2 = find_nearest(t, glb_lats)\n",
    "    \n",
    "    #(t, lat, lon)\n",
    "    vwu = water_u[t_ocean_ind1, y_ocean_ind1, x_ocean_ind1] \n",
    "    vwv = water_v[t_ocean_ind1, y_ocean_ind1, x_ocean_ind1] \n",
    "    sst = water_temp[t_ocean_ind1, y_ocean_ind1, x_ocean_ind1] \n",
    "\n",
    "    print('vau = ', vau)\n",
    "    print('vav = ', vav)\n",
    "    print('vwu = ', vwu)\n",
    "    print('vwv = ', vwv)\n",
    "    print('sst = ', sst)\n",
    "    \n",
    "\n",
    "    # Drifting\n",
    "\n",
    "    S = np.pi*((l*w)/(l+w))\n",
    "    ff = 2*om*np.sin((np.abs(y)*np.pi)/180)\n",
    "    lam = np.sqrt(2)*Cw*(gam*np.sqrt(vau**2 + vav**2))/(ff*S)\n",
    "    print('S = {0:.15f}'.format(S))\n",
    "    print('ff = {0:.15f}'.format(ff))\n",
    "    print('lam = {0:.15f}'.format(lam))\n",
    "    \n",
    "    if lam < 0.1:\n",
    "        print('Taylor approx used for alpha')\n",
    "        alpha = lam*(lam**4*(lam**4*(lam**4*(-0.0386699020961393*lam**4 + \\\n",
    "            0.055242717280199) - 0.0883883476483184) + \\\n",
    "            0.176776695296637) - 0.707106781186548)\n",
    "    else:\n",
    "        alpha = np.multiply(np.divide(np.sqrt(2),np.power(lam, 3)),(1-np.sqrt(1+np.power(lam,4))))\n",
    "        \n",
    "    if lam < 0.6:\n",
    "        print('Taylor approx used for beta')\n",
    "        beta = lam**3*(lam**4*(lam**4*(lam**4*(lam**4*(lam**4*(lam**4*(lam**4*(lam**4*\\\n",
    "            (0.0153268598203613*lam**4 - 0.0151656272365985) + \\\n",
    "            0.0180267866272764) + 0.0219176256311202) - \\\n",
    "            0.0274446790511418) + 0.0357675015202851) - \\\n",
    "            0.0493731785691779) + 0.0745776683282687) - \\\n",
    "            0.132582521472478) + 0.353553390593274)\n",
    "    else:\n",
    "        beta = np.real(np.multiply(np.divide(1.,np.power(lam,3.)),cmath.sqrt(np.multiply((4.+np.power(lam,4.)), \\\n",
    "            cmath.sqrt(1.+np.power(lam,4.)))-3.*np.power(lam,4.)-4.)))\n",
    "\n",
    "    print('alpha = {0:.15f}'.format(alpha))\n",
    "    print(beta)\n",
    "    print('beta = {}'.format(beta))\n",
    "\n",
    "    viu = vwu + gam*(-alpha*vav + beta*vau)\n",
    "    viv = vwv + gam*(alpha*vau + beta*vav)\n",
    "\n",
    "    print('viu = {0:.15f}'.format(viu))\n",
    "    print('viv = {0:.15f}'.format(viv))\n",
    "\n",
    "    y_new = y + (viv*dt)*(180/(np.pi*R))\n",
    "    x_new = x + (viu*dt)/(np.cos((((y + y_new)/2)*np.pi)/180))*(180/(np.pi*R))\n",
    "\n",
    "    print('x_new = {0:.15f}'.format(x_new))\n",
    "    print('y_new = {0:.15f}'.format(y_new))\n",
    "    \n",
    "    # Melting\n",
    "\n",
    "    Me = CMe1*(Cs1*np.sqrt(vau**2 + vav**2)**Cs2 + Cs3*np.sqrt(vau**2 + vav**2))\n",
    "    Mv = CMv1*sst + CMv2*sst**2\n",
    "    Mb = CMb1*np.power(np.sqrt(np.square(viu-vwu)+np.square(viv-vwv)),CMb2)*(sst - sst0)/l**CMb3\n",
    "\n",
    "    print('Me = {0:.15f}'.format(Me))\n",
    "    print('Mv = {0:.15f}'.format(Mv))\n",
    "    print('Mb = {0:.15f}'.format(Mb))\n",
    "\n",
    "    l_new = l - (Mv + Me)*(dt/(24*3600))  # convert dt from secs to days\n",
    "    w_new = w - (Mv + Me)*(dt/(24*3600))\n",
    "    h_new = h - Mb*(dt/(24*3600))\n",
    "\n",
    "    if w_new < 0.85*h_new:\n",
    "        # Rollover\n",
    "        print('rollover')\n",
    "        w_new, h_new = h_new, w_new\n",
    "\n",
    "    if w_new > l_new:\n",
    "        # Ensure l is greater than w\n",
    "        print('swap l and w')\n",
    "        w_new, l_new = l_new, w_new\n",
    "\n",
    "    print('l_new = {0:.15f}'.format(l_new))\n",
    "    print('w_new = {0:.15f}'.format(w_new))\n",
    "    print('h_new = {0:.15f}'.format(h_new))\n",
    "\n",
    "    return x_new, y_new, l_new, w_new, h_new    \n",
    "\n",
    "\n",
    "if __name__==\"__main__\":\n",
    "    main()"
   ]
  },
  {
   "cell_type": "code",
   "execution_count": null,
   "metadata": {
    "collapsed": true
   },
   "outputs": [],
   "source": []
  }
 ],
 "metadata": {
  "kernelspec": {
   "display_name": "Python 3",
   "language": "python",
   "name": "python3"
  },
  "language_info": {
   "codemirror_mode": {
    "name": "ipython",
    "version": 3
   },
   "file_extension": ".py",
   "mimetype": "text/x-python",
   "name": "python",
   "nbconvert_exporter": "python",
   "pygments_lexer": "ipython3",
   "version": "3.5.2"
  }
 },
 "nbformat": 4,
 "nbformat_minor": 0
}
