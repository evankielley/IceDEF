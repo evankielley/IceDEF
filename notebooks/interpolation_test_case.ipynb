{
 "cells": [
  {
   "cell_type": "code",
   "execution_count": 1,
   "metadata": {},
   "outputs": [],
   "source": [
    "import scipy.interpolate as interp\n",
    "import numpy as np"
   ]
  },
  {
   "cell_type": "markdown",
   "metadata": {},
   "source": [
    "# Create Test Data"
   ]
  },
  {
   "cell_type": "code",
   "execution_count": 76,
   "metadata": {},
   "outputs": [],
   "source": [
    "X = np.asarray([x for x in range(0,10)])\n",
    "Y = X\n",
    "T = X"
   ]
  },
  {
   "cell_type": "code",
   "execution_count": 77,
   "metadata": {},
   "outputs": [],
   "source": [
    "data2D = np.asarray([[ y for y in range(Y.size)] for x in range(X.size)])\n",
    "data3D = np.asarray([[[ t for t in range(T.size)] \\\n",
    "                     for y in range(Y.size)] for x in range(X.size)])"
   ]
  },
  {
   "cell_type": "code",
   "execution_count": 78,
   "metadata": {},
   "outputs": [
    {
     "data": {
      "text/plain": [
       "array([[0, 1, 2, 3, 4, 5, 6, 7, 8, 9],\n",
       "       [0, 1, 2, 3, 4, 5, 6, 7, 8, 9],\n",
       "       [0, 1, 2, 3, 4, 5, 6, 7, 8, 9],\n",
       "       [0, 1, 2, 3, 4, 5, 6, 7, 8, 9],\n",
       "       [0, 1, 2, 3, 4, 5, 6, 7, 8, 9],\n",
       "       [0, 1, 2, 3, 4, 5, 6, 7, 8, 9],\n",
       "       [0, 1, 2, 3, 4, 5, 6, 7, 8, 9],\n",
       "       [0, 1, 2, 3, 4, 5, 6, 7, 8, 9],\n",
       "       [0, 1, 2, 3, 4, 5, 6, 7, 8, 9],\n",
       "       [0, 1, 2, 3, 4, 5, 6, 7, 8, 9]])"
      ]
     },
     "execution_count": 78,
     "metadata": {},
     "output_type": "execute_result"
    }
   ],
   "source": [
    "data2D"
   ]
  },
  {
   "cell_type": "code",
   "execution_count": 79,
   "metadata": {},
   "outputs": [
    {
     "data": {
      "text/plain": [
       "array([[[0, 1],\n",
       "        [0, 1]],\n",
       "\n",
       "       [[0, 1],\n",
       "        [0, 1]]])"
      ]
     },
     "execution_count": 79,
     "metadata": {},
     "output_type": "execute_result"
    }
   ],
   "source": [
    "data3D[:2, :2, :2]"
   ]
  },
  {
   "cell_type": "markdown",
   "metadata": {},
   "source": [
    "# Create Test Case"
   ]
  },
  {
   "cell_type": "code",
   "execution_count": 81,
   "metadata": {},
   "outputs": [],
   "source": [
    "x_pt = 1.5\n",
    "y_pt = 1.5\n",
    "t_pt = 1.5"
   ]
  },
  {
   "cell_type": "markdown",
   "metadata": {},
   "source": [
    "# Regular Grid Interpolator"
   ]
  },
  {
   "cell_type": "code",
   "execution_count": 82,
   "metadata": {},
   "outputs": [],
   "source": [
    "data2D_interp = interp.RegularGridInterpolator((Y, X), data2D)\n",
    "data3D_interp = interp.RegularGridInterpolator((T, Y, X), data3D)"
   ]
  },
  {
   "cell_type": "code",
   "execution_count": 84,
   "metadata": {},
   "outputs": [
    {
     "name": "stdout",
     "output_type": "stream",
     "text": [
      "1.5\n",
      "1.5\n"
     ]
    }
   ],
   "source": [
    "print(data2D_interp([y_pt, x_pt])[0])\n",
    "print(data3D_interp([t_pt, y_pt, x_pt])[0])"
   ]
  },
  {
   "cell_type": "markdown",
   "metadata": {},
   "source": [
    "# Homemade Interpolator"
   ]
  },
  {
   "cell_type": "code",
   "execution_count": 87,
   "metadata": {},
   "outputs": [],
   "source": [
    "def linear_interpolator(data, dt_idx, dy_idx, dx_idx, t_idx0, y_idx0, x_idx0):\n",
    "    \n",
    "    A = data[t_idx0:t_idx0+2, y_idx0:y_idx0+2, x_idx0:x_idx0+2]\n",
    "    B = dt_idx*A[0, :, :] + (1-dt_idx)*A[1, :, :]\n",
    "    C = dy_idx*B[0, :] + (1-dy_idx)*B[1, :]\n",
    "    D = dx_idx*C[0] + (1-dx_idx)*C[1]\n",
    "    \n",
    "    return D"
   ]
  },
  {
   "cell_type": "code",
   "execution_count": 88,
   "metadata": {},
   "outputs": [],
   "source": [
    "def get_interpolated_value(data, t0, dt, y0, dy, x0, dx, t_pt, y_pt, x_pt):\n",
    "\n",
    "    t_idx = (t_pt - t0)/dt\n",
    "    y_idx = (y_pt - y0)/dy\n",
    "    x_idx = (x_pt - x0)/dx\n",
    "    \n",
    "    (t_idx0, dt_idx), (y_idx0, dy_idx), (x_idx0, dx_idx) = [(int(np.floor(x)), \\\n",
    "                                    x - np.floor(x)) for x in [t_idx, y_idx, x_idx]]\n",
    "    \n",
    "    u = linear_interpolator(data, dt_idx, dy_idx, dx_idx, t_idx0, y_idx0, x_idx0)\n",
    "       \n",
    "    return u "
   ]
  },
  {
   "cell_type": "code",
   "execution_count": 85,
   "metadata": {},
   "outputs": [],
   "source": [
    "x0 = X[0]\n",
    "dx = np.diff(X).mean()\n",
    "y0 = Y[0]\n",
    "dy = np.diff(Y).mean()\n",
    "t0 = T[0]\n",
    "dt = np.diff(T).mean()"
   ]
  },
  {
   "cell_type": "code",
   "execution_count": 90,
   "metadata": {},
   "outputs": [
    {
     "data": {
      "text/plain": [
       "1.5"
      ]
     },
     "execution_count": 90,
     "metadata": {},
     "output_type": "execute_result"
    }
   ],
   "source": [
    "get_interpolated_value(data3D, t0, dt, y0, dy, x0, dx, t_pt, y_pt, x_pt)"
   ]
  },
  {
   "cell_type": "code",
   "execution_count": null,
   "metadata": {},
   "outputs": [],
   "source": []
  }
 ],
 "metadata": {
  "kernelspec": {
   "display_name": "Python 3",
   "language": "python",
   "name": "python3"
  },
  "language_info": {
   "codemirror_mode": {
    "name": "ipython",
    "version": 3
   },
   "file_extension": ".py",
   "mimetype": "text/x-python",
   "name": "python",
   "nbconvert_exporter": "python",
   "pygments_lexer": "ipython3",
   "version": "3.6.3"
  }
 },
 "nbformat": 4,
 "nbformat_minor": 2
}
