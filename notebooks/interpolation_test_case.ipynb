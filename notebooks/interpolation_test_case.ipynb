{
 "cells": [
  {
   "cell_type": "markdown",
   "metadata": {
    "colab_type": "text",
    "id": "OrNc2DzMYEtZ"
   },
   "source": [
    "# Interpolation"
   ]
  },
  {
   "cell_type": "markdown",
   "metadata": {
    "colab_type": "text",
    "id": "xCcNyVvmYEta"
   },
   "source": [
    "The metocean datasets for velocity are on regular, uniform grids. We need to be able to estimate the velocity at sub-grid scale.  This notebooks explores making that estimate using interpolation."
   ]
  },
  {
   "cell_type": "markdown",
   "metadata": {
    "colab_type": "text",
    "id": "rL-isVUBYEtc"
   },
   "source": [
    "[Wikipedia: Interpolation](https://en.wikipedia.org/wiki/Interpolation)\n",
    "\n",
    "<img src=\"https://upload.wikimedia.org/wikipedia/commons/thumb/6/67/Interpolation_example_linear.svg/512px-Interpolation_example_linear.svg.png\"/>"
   ]
  },
  {
   "cell_type": "markdown",
   "metadata": {
    "colab_type": "text",
    "id": "QLy6o28IYEtd"
   },
   "source": [
    "Since this is critical aspect of our project, this notebook explores difference approaches to interpolation and provides examples for related test cases."
   ]
  },
  {
   "cell_type": "markdown",
   "metadata": {
    "colab_type": "text",
    "id": "54HUB7GtYEte"
   },
   "source": [
    "## Scipy.interpolate"
   ]
  },
  {
   "cell_type": "code",
   "execution_count": 1,
   "metadata": {
    "colab": {
     "autoexec": {
      "startup": false,
      "wait_interval": 0
     }
    },
    "colab_type": "code",
    "id": "rmdEMjCrYEtg"
   },
   "outputs": [],
   "source": [
    "import scipy.interpolate as interp\n",
    "import numpy as np\n",
    "import matplotlib.pyplot as plt\n",
    "%matplotlib inline"
   ]
  },
  {
   "cell_type": "markdown",
   "metadata": {
    "colab_type": "text",
    "id": "xSj8dOw2YEtw"
   },
   "source": [
    "Suppose we have the data:"
   ]
  },
  {
   "cell_type": "code",
   "execution_count": 2,
   "metadata": {
    "colab": {
     "autoexec": {
      "startup": false,
      "wait_interval": 0
     }
    },
    "colab_type": "code",
    "id": "tZt50ydqYEty"
   },
   "outputs": [],
   "source": [
    "x = np.array([0, 2, 4, 6, 8])\n",
    "y = np.array([0, 1, 4, 9, 0])"
   ]
  },
  {
   "cell_type": "code",
   "execution_count": 3,
   "metadata": {
    "colab": {
     "autoexec": {
      "startup": false,
      "wait_interval": 0
     },
     "base_uri": "https://localhost:8080/",
     "height": 282
    },
    "colab_type": "code",
    "executionInfo": {
     "elapsed": 545,
     "status": "ok",
     "timestamp": 1528295820956,
     "user": {
      "displayName": "James Munroe",
      "photoUrl": "//lh3.googleusercontent.com/-Fubgz4-DhLg/AAAAAAAAAAI/AAAAAAAAoKk/85ZU903qfpA/s50-c-k-no/photo.jpg",
      "userId": "103615571749407801490"
     },
     "user_tz": 150
    },
    "id": "l4vJzlVmYEt2",
    "outputId": "982a86cf-5884-4ba4-ab85-e36c3ff26cc9"
   },
   "outputs": [
    {
     "data": {
      "text/plain": [
       "[<matplotlib.lines.Line2D at 0x7f921ea28358>]"
      ]
     },
     "execution_count": 3,
     "metadata": {},
     "output_type": "execute_result"
    },
    {
     "data": {
      "image/png": "[encoded data removed]",
      "text/plain": [
       "<matplotlib.figure.Figure at 0x7f924c4f3cc0>"
      ]
     },
     "metadata": {},
     "output_type": "display_data"
    }
   ],
   "source": [
    "plt.plot(x, y, 'o-')"
   ]
  },
  {
   "cell_type": "code",
   "execution_count": 37,
   "metadata": {},
   "outputs": [],
   "source": [
    "import numba"
   ]
  },
  {
   "cell_type": "code",
   "execution_count": 46,
   "metadata": {
    "colab": {
     "autoexec": {
      "startup": false,
      "wait_interval": 0
     }
    },
    "colab_type": "code",
    "id": "94SYbKiBYEuh"
   },
   "outputs": [],
   "source": [
    "def get_interpolated_value(grid, data, point):\n",
    "  \n",
    "    while data.ndim > 0:\n",
    "        x0, dx = grid[0]\n",
    "        x_pt = point[0]\n",
    "    \n",
    "        x_idx = (x_pt - x0)/dx\n",
    "        \n",
    "        x_idx0 = int(np.floor(x_idx))\n",
    "        dx_idx = (x_idx - x_idx0)\n",
    "        \n",
    "        A = data[x_idx0:x_idx0+2, ...]\n",
    "        data = (1-dx_idx)*A[0,...] + (dx_idx)*A[1,...]\n",
    "        grid = grid[1:]\n",
    "        point = point[1:]\n",
    "    \n",
    "           \n",
    "    return data"
   ]
  },
  {
   "cell_type": "markdown",
   "metadata": {
    "cellView": "form",
    "colab": {
     "autoexec": {
      "startup": false,
      "wait_interval": 0
     }
    },
    "colab_type": "code",
    "id": "IqPhlXN0iJ3c"
   },
   "source": [
    "# 1-D test case\n"
   ]
  },
  {
   "cell_type": "code",
   "execution_count": 47,
   "metadata": {
    "colab": {
     "autoexec": {
      "startup": false,
      "wait_interval": 0
     },
     "base_uri": "https://localhost:8080/",
     "height": 70
    },
    "colab_type": "code",
    "executionInfo": {
     "elapsed": 369,
     "status": "ok",
     "timestamp": 1528295839053,
     "user": {
      "displayName": "James Munroe",
      "photoUrl": "//lh3.googleusercontent.com/-Fubgz4-DhLg/AAAAAAAAAAI/AAAAAAAAoKk/85ZU903qfpA/s50-c-k-no/photo.jpg",
      "userId": "103615571749407801490"
     },
     "user_tz": 150
    },
    "id": "UnGRrgYYYEt9",
    "outputId": "6febb824-7c62-41f9-d42e-3927b832ca5e"
   },
   "outputs": [
    {
     "name": "stdout",
     "output_type": "stream",
     "text": [
      "3.25\n",
      "[ 3.25]\n",
      "3.25\n"
     ]
    }
   ],
   "source": [
    "# We can interpolate using scipy.interpolate.interp1d\n",
    "\n",
    "point = 6.5\n",
    "\n",
    "f = interp.interp1d(x, y)\n",
    "print(f(point))\n",
    "\n",
    "# or RegularGridInterpolator\n",
    "g = interp.RegularGridInterpolator( (x,), y)\n",
    "\n",
    "#interp.RegularGridInterpolator\n",
    "print(g( [[point,]] ) )\n",
    "\n",
    "# our interpolator\n",
    "grid = ((x[0], x[1]-x[0]), )\n",
    "h = get_interpolated_value(grid, y, (point,))\n",
    "print(h)"
   ]
  },
  {
   "cell_type": "markdown",
   "metadata": {
    "cellView": "form",
    "colab": {
     "autoexec": {
      "startup": false,
      "wait_interval": 0
     }
    },
    "colab_type": "code",
    "id": "A5GgqT1GiMKT"
   },
   "source": [
    "# 2D test case\n"
   ]
  },
  {
   "cell_type": "code",
   "execution_count": 13,
   "metadata": {
    "colab": {
     "autoexec": {
      "startup": false,
      "wait_interval": 0
     }
    },
    "colab_type": "code",
    "id": "rLHYRV3EbcBI"
   },
   "outputs": [],
   "source": [
    "x = np.linspace(0, 10, 6, endpoint=True)\n",
    "y = np.linspace(0, 5, 6, endpoint=True)\n",
    "\n",
    "X, Y = np.meshgrid(x, y)\n",
    "Z = np.sin(X*Y)"
   ]
  },
  {
   "cell_type": "code",
   "execution_count": 14,
   "metadata": {
    "colab": {
     "autoexec": {
      "startup": false,
      "wait_interval": 0
     },
     "base_uri": "https://localhost:8080/",
     "height": 378
    },
    "colab_type": "code",
    "id": "OgEKsqndjcJR",
    "outputId": "f6ffc35e-c359-449c-f2c7-7a9525e90599"
   },
   "outputs": [],
   "source": [
    "def test_2d(x0, y0):\n",
    "    point = (x0, y0)\n",
    "    dx = x[1] - x[0]\n",
    "    dy = y[1] - y[0]\n",
    "\n",
    "    plt.figure(figsize=(12,6))\n",
    "    #plt.pcolormesh(X, Y, Z, cmap='viridis')\n",
    "    plt.imshow(Z, extent=[x[0]-dx/2, x[-1]+dx/2, y[0]-dy/2, y[-1]+dy/2], \n",
    "           interpolation='nearest',\n",
    "           origin='lower',)\n",
    "    plt.colorbar()\n",
    "    plt.scatter(X, Y)\n",
    "    plt.scatter(*point, color='r', marker='x', s=150)\n",
    "\n",
    "\n",
    "    f = interp.interp2d(x, y, Z)\n",
    "    print(f(*point))\n",
    "\n",
    "    # or RegularGridInterpolator\n",
    "    g = interp.RegularGridInterpolator( (x,y), Z)\n",
    "    #interp.RegularGridInterpolator\n",
    "    print(g( [point,] ) )\n",
    "\n",
    "    # our interpolator\n",
    "    grid = ((x[0], dx), (y[0], dy) )\n",
    "    h = get_interpolated_value(grid, Z, point)\n",
    "    print(h)"
   ]
  },
  {
   "cell_type": "code",
   "execution_count": 15,
   "metadata": {},
   "outputs": [],
   "source": [
    "from ipywidgets import interact, interactive, fixed, interact_manual\n",
    "import ipywidgets as widgets"
   ]
  },
  {
   "cell_type": "code",
   "execution_count": 16,
   "metadata": {},
   "outputs": [
    {
     "name": "stdout",
     "output_type": "stream",
     "text": [
      "[ 0.22639266]\n",
      "[ 0.22639266]\n",
      "0.226392664311\n"
     ]
    },
    {
     "data": {
      "image/png": "[encoded data removed]",
      "text/plain": [
       "<matplotlib.figure.Figure at 0x7f921e91f048>"
      ]
     },
     "metadata": {},
     "output_type": "display_data"
    },
    {
     "data": {
      "text/plain": [
       "<function __main__.test_2d>"
      ]
     },
     "execution_count": 16,
     "metadata": {},
     "output_type": "execute_result"
    }
   ],
   "source": [
    "interact( test_2d, x0=(0,10, 0.1), y0=(0,5, 0.1))"
   ]
  },
  {
   "cell_type": "markdown",
   "metadata": {},
   "source": [
    "# Test 3d"
   ]
  },
  {
   "cell_type": "code",
   "execution_count": 17,
   "metadata": {},
   "outputs": [],
   "source": [
    "x = np.linspace(0, 10, 6, endpoint=True)\n",
    "y = np.linspace(0, 5, 6, endpoint=True)\n",
    "z = np.linspace(0, 20, 6, endpoint=True)\n",
    "X, Y, Z = np.meshgrid(x, y, z)\n",
    "Q = np.sin(X*Y*Z)"
   ]
  },
  {
   "cell_type": "code",
   "execution_count": 18,
   "metadata": {
    "colab": {
     "autoexec": {
      "startup": false,
      "wait_interval": 0
     },
     "base_uri": "https://localhost:8080/",
     "height": 378
    },
    "colab_type": "code",
    "id": "OgEKsqndjcJR",
    "outputId": "f6ffc35e-c359-449c-f2c7-7a9525e90599"
   },
   "outputs": [],
   "source": [
    "def test_3d(x0, y0, z0):\n",
    "    point = (x0, y0, z0)\n",
    "    dx = x[1] - x[0]\n",
    "    dy = y[1] - y[0]\n",
    "    dz = z[1] - z[0]\n",
    "\n",
    "    f = interp.interpn((x, y, z), Q, point)\n",
    "    print(f)\n",
    "\n",
    "    # or RegularGridInterpolator\n",
    "    g = interp.RegularGridInterpolator( (x,y,z), Q)\n",
    "    #interp.RegularGridInterpolator\n",
    "    print(g( [point,] ) )\n",
    "\n",
    "    # our interpolator\n",
    "    grid = ((x[0], dx), (y[0], dy), (z[0], dz) )\n",
    "    h = get_interpolated_value(grid, Q, point)\n",
    "    print(h)"
   ]
  },
  {
   "cell_type": "code",
   "execution_count": 19,
   "metadata": {
    "colab": {
     "autoexec": {
      "startup": false,
      "wait_interval": 0
     }
    },
    "colab_type": "code",
    "id": "sbnuI4_EjnVr"
   },
   "outputs": [
    {
     "name": "stdout",
     "output_type": "stream",
     "text": [
      "[ 0.59904498]\n",
      "[ 0.59904498]\n",
      "0.599044983792\n"
     ]
    },
    {
     "data": {
      "text/plain": [
       "<function __main__.test_3d>"
      ]
     },
     "execution_count": 19,
     "metadata": {},
     "output_type": "execute_result"
    }
   ],
   "source": [
    "interact( test_3d, x0=(0,10, 0.1), y0=(0,5, 0.1), z0=(0,20,0.1))"
   ]
  },
  {
   "cell_type": "markdown",
   "metadata": {
    "colab_type": "text",
    "id": "kbbnB2yvYEuB"
   },
   "source": [
    "# Now with ocean data!"
   ]
  },
  {
   "cell_type": "code",
   "execution_count": 20,
   "metadata": {},
   "outputs": [],
   "source": [
    "### User can change these variables (unless they begin with an underscore) ###\n",
    "\n",
    "drift_model = 'turnbull'  # must be 'turnbull' or 'wagner'\n",
    "ocean_model = 'ecmwf'  # must be 'ecmwf'\n",
    "atm_model = 'ecmwf'  # must be 'ecmwf'\n",
    "\n",
    "\n",
    "iip_season = 2015  # must be 2015 (more to come later)\n",
    "\n",
    "# Uncomment only one of the following\n",
    "_method = 'index'; iip_indices = range(3283, 3285)  # iip_indices must be int or range\n",
    "#_method = 'ID'; iip_ID = 20668  # iip_ID must be int"
   ]
  },
  {
   "cell_type": "markdown",
   "metadata": {},
   "source": [
    "## Imports"
   ]
  },
  {
   "cell_type": "code",
   "execution_count": 21,
   "metadata": {},
   "outputs": [],
   "source": [
    "from datetime import timedelta\n",
    "import numpy as np"
   ]
  },
  {
   "cell_type": "code",
   "execution_count": 22,
   "metadata": {},
   "outputs": [],
   "source": [
    "if drift_model == 'turnbull':\n",
    "    from icedef.turnbull import drift\n",
    "elif drift_model == 'wagner':\n",
    "    from iceberg.wagner import drift\n",
    "else:\n",
    "    print('drift model specified is invalid')\n",
    "    \n",
    "from icedef import iceberg, metocean, plot"
   ]
  },
  {
   "cell_type": "markdown",
   "metadata": {},
   "source": [
    "## Iceberg Data"
   ]
  },
  {
   "cell_type": "code",
   "execution_count": 23,
   "metadata": {},
   "outputs": [],
   "source": [
    "if _method == 'index':\n",
    "    identifier = iip_indices\n",
    "elif _method == 'ID':\n",
    "    identifier = iip_ID\n",
    "else:\n",
    "    print(\"Invalid method specified. Please change _method to either 'index' or 'ID'\")"
   ]
  },
  {
   "cell_type": "code",
   "execution_count": 24,
   "metadata": {},
   "outputs": [
    {
     "name": "stderr",
     "output_type": "stream",
     "text": [
      "/home/evankielley/IceDEF/icedef/iceberg.py:218: SettingWithCopyWarning: \n",
      "A value is trying to be set on a copy of a slice from a DataFrame.\n",
      "Try using .loc[row_indexer,col_indexer] = value instead\n",
      "\n",
      "See the caveats in the documentation: http://pandas.pydata.org/pandas-docs/stable/indexing.html#indexing-view-versus-copy\n",
      "  iip_df['TIMESTAMP'] += pd.to_timedelta(pd.to_datetime(iip_df['SIGHTING_TIME'], format='%H%M').dt.hour, unit='h')\n",
      "/home/evankielley/IceDEF/icedef/iceberg.py:219: SettingWithCopyWarning: \n",
      "A value is trying to be set on a copy of a slice from a DataFrame.\n",
      "Try using .loc[row_indexer,col_indexer] = value instead\n",
      "\n",
      "See the caveats in the documentation: http://pandas.pydata.org/pandas-docs/stable/indexing.html#indexing-view-versus-copy\n",
      "  iip_df['TIMESTAMP'] += pd.to_timedelta(pd.to_datetime(iip_df['SIGHTING_TIME'], format='%H%M').dt.minute, unit='m')\n"
     ]
    }
   ],
   "source": [
    "iip_berg_df, iip_berg = iceberg.get_iip_iceberg(2015, _method, identifier)"
   ]
  },
  {
   "cell_type": "code",
   "execution_count": 25,
   "metadata": {},
   "outputs": [
    {
     "data": {
      "text/html": [
       "<div>\n",
       "<style>\n",
       "    .dataframe thead tr:only-child th {\n",
       "        text-align: right;\n",
       "    }\n",
       "\n",
       "    .dataframe thead th {\n",
       "        text-align: left;\n",
       "    }\n",
       "\n",
       "    .dataframe tbody tr th {\n",
       "        vertical-align: top;\n",
       "    }\n",
       "</style>\n",
       "<table border=\"1\" class=\"dataframe\">\n",
       "  <thead>\n",
       "    <tr style=\"text-align: right;\">\n",
       "      <th></th>\n",
       "      <th>index</th>\n",
       "      <th>ICEBERG_YEAR</th>\n",
       "      <th>ICEBERG_NUMBER</th>\n",
       "      <th>SIGHTING_DATE</th>\n",
       "      <th>SIGHTING_TIME</th>\n",
       "      <th>SIGHTING_LATITUDE</th>\n",
       "      <th>SIGHTING_LONGITUDE</th>\n",
       "      <th>SIGHTING_METHOD</th>\n",
       "      <th>SIZE</th>\n",
       "      <th>SHAPE</th>\n",
       "      <th>SOURCE</th>\n",
       "      <th>TIMESTAMP</th>\n",
       "    </tr>\n",
       "  </thead>\n",
       "  <tbody>\n",
       "    <tr>\n",
       "      <th>0</th>\n",
       "      <td>3283</td>\n",
       "      <td>2015</td>\n",
       "      <td>20668</td>\n",
       "      <td>6/16/2015</td>\n",
       "      <td>1440</td>\n",
       "      <td>48.20</td>\n",
       "      <td>-50.18</td>\n",
       "      <td>R/V</td>\n",
       "      <td>LG</td>\n",
       "      <td>TAB</td>\n",
       "      <td>GTJZ</td>\n",
       "      <td>2015-06-16 14:40:00</td>\n",
       "    </tr>\n",
       "    <tr>\n",
       "      <th>1</th>\n",
       "      <td>3284</td>\n",
       "      <td>2015</td>\n",
       "      <td>20668</td>\n",
       "      <td>6/17/2015</td>\n",
       "      <td>1043</td>\n",
       "      <td>48.16</td>\n",
       "      <td>-50.16</td>\n",
       "      <td>R/V</td>\n",
       "      <td>LG</td>\n",
       "      <td>GEN</td>\n",
       "      <td>GMRS</td>\n",
       "      <td>2015-06-17 10:43:00</td>\n",
       "    </tr>\n",
       "  </tbody>\n",
       "</table>\n",
       "</div>"
      ],
      "text/plain": [
       "   index  ICEBERG_YEAR  ICEBERG_NUMBER SIGHTING_DATE  SIGHTING_TIME  \\\n",
       "0   3283          2015           20668     6/16/2015           1440   \n",
       "1   3284          2015           20668     6/17/2015           1043   \n",
       "\n",
       "   SIGHTING_LATITUDE  SIGHTING_LONGITUDE SIGHTING_METHOD SIZE SHAPE SOURCE  \\\n",
       "0              48.20              -50.18             R/V   LG   TAB   GTJZ   \n",
       "1              48.16              -50.16             R/V   LG   GEN   GMRS   \n",
       "\n",
       "            TIMESTAMP  \n",
       "0 2015-06-16 14:40:00  \n",
       "1 2015-06-17 10:43:00  "
      ]
     },
     "execution_count": 25,
     "metadata": {},
     "output_type": "execute_result"
    }
   ],
   "source": [
    "iip_berg_df"
   ]
  },
  {
   "cell_type": "code",
   "execution_count": 26,
   "metadata": {},
   "outputs": [],
   "source": [
    "mod_berg = iceberg.clone_iceberg_state(iip_berg)"
   ]
  },
  {
   "cell_type": "markdown",
   "metadata": {},
   "source": [
    "## Metocean Data"
   ]
  },
  {
   "cell_type": "code",
   "execution_count": 27,
   "metadata": {},
   "outputs": [
    {
     "name": "stdout",
     "output_type": "stream",
     "text": [
      "CPU times: user 1.39 s, sys: 1.64 s, total: 3.03 s\n",
      "Wall time: 24.5 s\n"
     ]
    }
   ],
   "source": [
    "%%time\n",
    "ocean_data = metocean.ECMWF_Ocean(min(iip_berg.history['X']), max(iip_berg.history['X']),\n",
    "                         min(iip_berg.history['Y']), max(iip_berg.history['Y']),\n",
    "                         iip_berg.history['T'][0], iip_berg.history['T'][-1])\n",
    "\n",
    "ocean_data.filenames"
   ]
  },
  {
   "cell_type": "code",
   "execution_count": 28,
   "metadata": {},
   "outputs": [
    {
     "name": "stdout",
     "output_type": "stream",
     "text": [
      "CPU times: user 49.7 ms, sys: 73 ms, total: 123 ms\n",
      "Wall time: 2.01 s\n"
     ]
    }
   ],
   "source": [
    "%%time\n",
    "atm_data = metocean.ECMWF_Atm(min(iip_berg.history['X']), max(iip_berg.history['X']),\n",
    "                         min(iip_berg.history['Y']), max(iip_berg.history['Y']),\n",
    "                         iip_berg.history['T'][0], iip_berg.history['T'][-1])\n",
    "\n",
    "atm_data.filenames"
   ]
  },
  {
   "cell_type": "markdown",
   "metadata": {},
   "source": [
    "## Timesteps"
   ]
  },
  {
   "cell_type": "code",
   "execution_count": 29,
   "metadata": {},
   "outputs": [],
   "source": [
    "t0 = iip_berg.history['T'][0]\n",
    "tf = iip_berg.history['T'][-1]\n",
    "t_delta = tf - t0\n",
    "t_delta_hours = t_delta.days*24 + t_delta.seconds/3600\n",
    "t_step_hours = 0.1\n",
    "t_step = timedelta(hours = t_step_hours)\n",
    "dt = t_step_hours*3600  # timestep in seconds\n",
    "t_all = []\n",
    "\n",
    "for i in np.arange(0, t_delta_hours + t_step_hours, t_step_hours):\n",
    "    new_date = t0 + timedelta(hours=i)\n",
    "    t_all.append(new_date)"
   ]
  },
  {
   "cell_type": "code",
   "execution_count": 54,
   "metadata": {},
   "outputs": [],
   "source": [
    "# Test Case\n",
    "berg_time = 573791.3994416415\n",
    "berg_lat = 48.199906857329346\n",
    "berg_lon = -50.172364036285984\n",
    "\n",
    "data = ocean_data.UW"
   ]
  },
  {
   "cell_type": "code",
   "execution_count": 55,
   "metadata": {
    "colab": {
     "autoexec": {
      "startup": false,
      "wait_interval": 0
     },
     "base_uri": "https://localhost:8080/",
     "height": 378
    },
    "colab_type": "code",
    "id": "OgEKsqndjcJR",
    "outputId": "f6ffc35e-c359-449c-f2c7-7a9525e90599"
   },
   "outputs": [],
   "source": [
    "def test_3d_ocean(berg_time, berg_lat, berg_lon):\n",
    "    point = (berg_time, berg_lat, berg_lon)\n",
    "    dt = ocean_data.times[1] - ocean_data.times[0]\n",
    "    dlat = ocean_data.lats[1] - ocean_data.lats[0]\n",
    "    dlon = ocean_data.lons[1] - ocean_data.lons[0]\n",
    "\n",
    "    f = interp.interpn((ocean_data.times, ocean_data.lats, ocean_data.lons), data, point)[0]\n",
    "    print(f, \"interpn\")\n",
    "\n",
    "    # or RegularGridInterpolator\n",
    "    g = interp.RegularGridInterpolator((ocean_data.times, ocean_data.lats, ocean_data.lons), data)\n",
    "    #interp.RegularGridInterpolator\n",
    "    print(g([point,][0]), \"RegularGridInterpolator\")\n",
    "\n",
    "    # RegularGridInterpolator from metocean \n",
    "    #print(ocean_data.iUW([time0, lat0, lon0])[0], \"RegularGridInterpolator (metocean)\")\n",
    "    \n",
    "    # our interpolator\n",
    "    grid = ((ocean_data.times[0], dt), (ocean_data.lats[0], dlat), (ocean_data.lons[0], dlon) )\n",
    "    h = get_interpolated_value(grid, data, point)\n",
    "    print(h, \"New algorithm\")    "
   ]
  },
  {
   "cell_type": "code",
   "execution_count": 56,
   "metadata": {},
   "outputs": [
    {
     "name": "stdout",
     "output_type": "stream",
     "text": [
      "0.191034619659 interpn\n",
      "0.19103461965919288 RegularGridInterpolator\n",
      "0.191024594167 New algorithm\n"
     ]
    }
   ],
   "source": [
    "test_3d_ocean(berg_time, berg_lat, berg_lon)"
   ]
  },
  {
   "cell_type": "markdown",
   "metadata": {},
   "source": [
    "# Speed Testing"
   ]
  },
  {
   "cell_type": "code",
   "execution_count": 50,
   "metadata": {},
   "outputs": [],
   "source": [
    "point = (berg_time, berg_lat, berg_lon)\n",
    "dt = ocean_data.times[1] - ocean_data.times[0]\n",
    "dlat = ocean_data.lats[1] - ocean_data.lats[0]\n",
    "dlon = ocean_data.lons[1] - ocean_data.lons[0]"
   ]
  },
  {
   "cell_type": "code",
   "execution_count": 34,
   "metadata": {},
   "outputs": [
    {
     "name": "stdout",
     "output_type": "stream",
     "text": [
      "472 µs ± 15.8 µs per loop (mean ± std. dev. of 7 runs, 1000 loops each)\n"
     ]
    }
   ],
   "source": [
    "g = interp.RegularGridInterpolator((ocean_data.times, ocean_data.lats, ocean_data.lons), data)\n",
    "%timeit g([point,])[0]"
   ]
  },
  {
   "cell_type": "code",
   "execution_count": 35,
   "metadata": {},
   "outputs": [
    {
     "name": "stdout",
     "output_type": "stream",
     "text": [
      "701 µs ± 29.3 µs per loop (mean ± std. dev. of 7 runs, 1000 loops each)\n"
     ]
    }
   ],
   "source": [
    "%timeit interp.interpn((ocean_data.times, ocean_data.lats, ocean_data.lons), data, point)[0]"
   ]
  },
  {
   "cell_type": "code",
   "execution_count": 36,
   "metadata": {},
   "outputs": [
    {
     "name": "stdout",
     "output_type": "stream",
     "text": [
      "166 µs ± 535 ns per loop (mean ± std. dev. of 7 runs, 10000 loops each)\n"
     ]
    }
   ],
   "source": [
    "grid = ((ocean_data.times[0], dt), (ocean_data.lats[0], dlat), (ocean_data.lons[0], dlon))\n",
    "%timeit get_interpolated_value(grid, data, point)"
   ]
  },
  {
   "cell_type": "code",
   "execution_count": null,
   "metadata": {},
   "outputs": [],
   "source": []
  },
  {
   "cell_type": "markdown",
   "metadata": {},
   "source": [
    "# Making the interp func suitable for the metocean class"
   ]
  },
  {
   "cell_type": "code",
   "execution_count": 93,
   "metadata": {},
   "outputs": [],
   "source": [
    "import numba"
   ]
  },
  {
   "cell_type": "code",
   "execution_count": 91,
   "metadata": {},
   "outputs": [],
   "source": [
    "# Test Case\n",
    "berg_time = 573791.3994416415\n",
    "berg_lat = 48.199906857329346\n",
    "berg_lon = -50.172364036285984\n",
    "\n",
    "data = ocean_data.UW"
   ]
  },
  {
   "cell_type": "code",
   "execution_count": 92,
   "metadata": {},
   "outputs": [],
   "source": [
    "point = (berg_time, berg_lat, berg_lon)\n",
    "dt = ocean_data.times[1] - ocean_data.times[0]\n",
    "dlat = ocean_data.lats[1] - ocean_data.lats[0]\n",
    "dlon = ocean_data.lons[1] - ocean_data.lons[0]\n",
    "grid = ((ocean_data.times[0], dt), (ocean_data.lats[0], dlat), (ocean_data.lons[0], dlon))"
   ]
  },
  {
   "cell_type": "code",
   "execution_count": 105,
   "metadata": {
    "colab": {
     "autoexec": {
      "startup": false,
      "wait_interval": 0
     }
    },
    "colab_type": "code",
    "id": "94SYbKiBYEuh"
   },
   "outputs": [],
   "source": [
    "@numba.jit\n",
    "def get_interpolated_value(grid, data, point):\n",
    "    while data.ndim > 0:\n",
    "        x0, dx = grid[0]\n",
    "        x_pt = point[0]\n",
    "        x_idx = (x_pt - x0)/dx\n",
    "        x_idx0 = int(np.floor(x_idx))\n",
    "        dx_idx = (x_idx - x_idx0)\n",
    "        A = data[x_idx0:x_idx0+2, ...]\n",
    "        data = (1-dx_idx)*A[0,...] + (dx_idx)*A[1,...]\n",
    "        grid = grid[1:]\n",
    "        point = point[1:]    \n",
    "    return data"
   ]
  },
  {
   "cell_type": "code",
   "execution_count": 109,
   "metadata": {
    "colab": {
     "autoexec": {
      "startup": false,
      "wait_interval": 0
     }
    },
    "colab_type": "code",
    "id": "94SYbKiBYEuh"
   },
   "outputs": [],
   "source": [
    "@numba.jit\n",
    "def get_interpolated_value2(grid, data, point):\n",
    "    for dim in range(3):\n",
    "        x0, dx = grid[0]\n",
    "        x_pt = point[0]\n",
    "        x_idx = (x_pt - x0)/dx\n",
    "        x_idx0 = int(np.floor(x_idx))\n",
    "        dx_idx = (x_idx - x_idx0)\n",
    "        A = data[x_idx0:x_idx0+2, ...]\n",
    "        data = (1-dx_idx)*A[0,...] + (dx_idx)*A[1,...]\n",
    "        grid = grid[1:]\n",
    "        point = point[1:]\n",
    "    return data"
   ]
  },
  {
   "cell_type": "code",
   "execution_count": 110,
   "metadata": {
    "colab": {
     "autoexec": {
      "startup": false,
      "wait_interval": 0
     }
    },
    "colab_type": "code",
    "id": "94SYbKiBYEuh"
   },
   "outputs": [
    {
     "name": "stdout",
     "output_type": "stream",
     "text": [
      "0.191024594167\n",
      "174 µs ± 822 ns per loop (mean ± std. dev. of 7 runs, 10000 loops each)\n"
     ]
    }
   ],
   "source": [
    "print(get_interpolated_value2(grid, data, point))\n",
    "%timeit get_interpolated_value2(grid, data, point)"
   ]
  }
 ],
 "metadata": {
  "colab": {
   "default_view": {},
   "name": "Copy of interpolation_test_case.ipynb",
   "provenance": [
    {
     "file_id": "https://github.com/jmunroe/IceDEF/blob/master/notebooks/interpolation_test_case.ipynb",
     "timestamp": 1528293425421
    }
   ],
   "version": "0.3.2",
   "views": {}
  },
  "kernelspec": {
   "display_name": "Python 3",
   "language": "python",
   "name": "python3"
  },
  "language_info": {
   "codemirror_mode": {
    "name": "ipython",
    "version": 3
   },
   "file_extension": ".py",
   "mimetype": "text/x-python",
   "name": "python",
   "nbconvert_exporter": "python",
   "pygments_lexer": "ipython3",
   "version": "3.6.3"
  }
 },
 "nbformat": 4,
 "nbformat_minor": 2
}
