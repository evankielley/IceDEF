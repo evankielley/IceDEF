{
 "cells": [
  {
   "cell_type": "markdown",
   "metadata": {
    "colab_type": "text",
    "id": "OrNc2DzMYEtZ"
   },
   "source": [
    "# Interpolation"
   ]
  },
  {
   "cell_type": "markdown",
   "metadata": {
    "colab_type": "text",
    "id": "xCcNyVvmYEta"
   },
   "source": [
    "The metocean datasets for velocity are on regular, uniform grids. We need to be able to estimate the velocity at sub-grid scale.  This notebooks explores making that estimate using interpolation."
   ]
  },
  {
   "cell_type": "markdown",
   "metadata": {
    "colab_type": "text",
    "id": "rL-isVUBYEtc"
   },
   "source": [
    "[Wikipedia: Interpolation](https://en.wikipedia.org/wiki/Interpolation)\n",
    "\n",
    "<img src=\"https://upload.wikimedia.org/wikipedia/commons/thumb/6/67/Interpolation_example_linear.svg/512px-Interpolation_example_linear.svg.png\"/>"
   ]
  },
  {
   "cell_type": "markdown",
   "metadata": {
    "colab_type": "text",
    "id": "QLy6o28IYEtd"
   },
   "source": [
    "Since this is critical aspect of our project, this notebook explores difference approaches to interpolation and provides examples for related test cases."
   ]
  },
  {
   "cell_type": "markdown",
   "metadata": {
    "colab_type": "text",
    "id": "54HUB7GtYEte"
   },
   "source": [
    "## Scipy.interpolate"
   ]
  },
  {
   "cell_type": "code",
   "execution_count": 1,
   "metadata": {
    "colab": {
     "autoexec": {
      "startup": false,
      "wait_interval": 0
     }
    },
    "colab_type": "code",
    "id": "rmdEMjCrYEtg"
   },
   "outputs": [],
   "source": [
    "import scipy.interpolate as interp\n",
    "import numpy as np\n",
    "import matplotlib.pyplot as plt\n",
    "%matplotlib inline"
   ]
  },
  {
   "cell_type": "markdown",
   "metadata": {
    "colab_type": "text",
    "id": "xSj8dOw2YEtw"
   },
   "source": [
    "Suppose we have the data:"
   ]
  },
  {
   "cell_type": "code",
   "execution_count": 2,
   "metadata": {
    "colab": {
     "autoexec": {
      "startup": false,
      "wait_interval": 0
     }
    },
    "colab_type": "code",
    "id": "tZt50ydqYEty"
   },
   "outputs": [],
   "source": [
    "x = np.array([0, 2, 4, 6, 8])\n",
    "y = np.array([0, 1, 4, 9, 0])"
   ]
  },
  {
   "cell_type": "code",
   "execution_count": 3,
   "metadata": {
    "colab": {
     "autoexec": {
      "startup": false,
      "wait_interval": 0
     },
     "base_uri": "https://localhost:8080/",
     "height": 282
    },
    "colab_type": "code",
    "executionInfo": {
     "elapsed": 545,
     "status": "ok",
     "timestamp": 1528295820956,
     "user": {
      "displayName": "James Munroe",
      "photoUrl": "//lh3.googleusercontent.com/-Fubgz4-DhLg/AAAAAAAAAAI/AAAAAAAAoKk/85ZU903qfpA/s50-c-k-no/photo.jpg",
      "userId": "103615571749407801490"
     },
     "user_tz": 150
    },
    "id": "l4vJzlVmYEt2",
    "outputId": "982a86cf-5884-4ba4-ab85-e36c3ff26cc9"
   },
   "outputs": [
    {
     "data": {
      "text/plain": [
       "[<matplotlib.lines.Line2D at 0x7f7955375390>]"
      ]
     },
     "execution_count": 3,
     "metadata": {},
     "output_type": "execute_result"
    },
    {
     "data": {
      "image/png": "[encoded data removed]",
      "text/plain": [
       "<Figure size 432x288 with 1 Axes>"
      ]
     },
     "metadata": {},
     "output_type": "display_data"
    }
   ],
   "source": [
    "plt.plot(x, y, 'o-')"
   ]
  },
  {
   "cell_type": "code",
   "execution_count": 4,
   "metadata": {},
   "outputs": [],
   "source": [
    "import numba"
   ]
  },
  {
   "cell_type": "code",
   "execution_count": 5,
   "metadata": {
    "colab": {
     "autoexec": {
      "startup": false,
      "wait_interval": 0
     }
    },
    "colab_type": "code",
    "id": "94SYbKiBYEuh"
   },
   "outputs": [],
   "source": [
    "def get_interpolated_value(grid, data, point):\n",
    "  \n",
    "    while data.ndim > 0:\n",
    "        x0, dx = grid[0]\n",
    "        x_pt = point[0]\n",
    "    \n",
    "        x_idx = (x_pt - x0)/dx\n",
    "        \n",
    "        x_idx0 = int(np.floor(x_idx))\n",
    "        dx_idx = (x_idx - x_idx0)\n",
    "        \n",
    "        A = data[x_idx0:x_idx0+2, ...]\n",
    "        data = (1-dx_idx)*A[0,...] + (dx_idx)*A[1,...]\n",
    "        grid = grid[1:]\n",
    "        point = point[1:]\n",
    "    \n",
    "           \n",
    "    return data"
   ]
  },
  {
   "cell_type": "markdown",
   "metadata": {
    "cellView": "form",
    "colab": {
     "autoexec": {
      "startup": false,
      "wait_interval": 0
     }
    },
    "colab_type": "code",
    "id": "IqPhlXN0iJ3c"
   },
   "source": [
    "# 1-D test case\n"
   ]
  },
  {
   "cell_type": "code",
   "execution_count": 6,
   "metadata": {
    "colab": {
     "autoexec": {
      "startup": false,
      "wait_interval": 0
     },
     "base_uri": "https://localhost:8080/",
     "height": 70
    },
    "colab_type": "code",
    "executionInfo": {
     "elapsed": 369,
     "status": "ok",
     "timestamp": 1528295839053,
     "user": {
      "displayName": "James Munroe",
      "photoUrl": "//lh3.googleusercontent.com/-Fubgz4-DhLg/AAAAAAAAAAI/AAAAAAAAoKk/85ZU903qfpA/s50-c-k-no/photo.jpg",
      "userId": "103615571749407801490"
     },
     "user_tz": 150
    },
    "id": "UnGRrgYYYEt9",
    "outputId": "6febb824-7c62-41f9-d42e-3927b832ca5e"
   },
   "outputs": [
    {
     "name": "stdout",
     "output_type": "stream",
     "text": [
      "6.75\n",
      "[6.75]\n",
      "6.75\n"
     ]
    }
   ],
   "source": [
    "# We can interpolate using scipy.interpolate.interp1d\n",
    "\n",
    "point = 6.5\n",
    "\n",
    "f = interp.interp1d(x, y)\n",
    "print(f(point))\n",
    "\n",
    "# or RegularGridInterpolator\n",
    "g = interp.RegularGridInterpolator( (x,), y)\n",
    "\n",
    "#interp.RegularGridInterpolator\n",
    "print(g( [[point,]] ) )\n",
    "\n",
    "# our interpolator\n",
    "grid = ((x[0], x[1]-x[0]), )\n",
    "h = get_interpolated_value(grid, y, (point,))\n",
    "print(h)"
   ]
  },
  {
   "cell_type": "markdown",
   "metadata": {
    "cellView": "form",
    "colab": {
     "autoexec": {
      "startup": false,
      "wait_interval": 0
     }
    },
    "colab_type": "code",
    "id": "A5GgqT1GiMKT"
   },
   "source": [
    "# 2D test case\n"
   ]
  },
  {
   "cell_type": "code",
   "execution_count": 7,
   "metadata": {
    "colab": {
     "autoexec": {
      "startup": false,
      "wait_interval": 0
     }
    },
    "colab_type": "code",
    "id": "rLHYRV3EbcBI"
   },
   "outputs": [],
   "source": [
    "x = np.linspace(0, 10, 6, endpoint=True)\n",
    "y = np.linspace(0, 5, 6, endpoint=True)\n",
    "\n",
    "X, Y = np.meshgrid(x, y)\n",
    "Z = np.sin(X*Y)"
   ]
  },
  {
   "cell_type": "code",
   "execution_count": 8,
   "metadata": {
    "colab": {
     "autoexec": {
      "startup": false,
      "wait_interval": 0
     },
     "base_uri": "https://localhost:8080/",
     "height": 378
    },
    "colab_type": "code",
    "id": "OgEKsqndjcJR",
    "outputId": "f6ffc35e-c359-449c-f2c7-7a9525e90599"
   },
   "outputs": [],
   "source": [
    "def test_2d(x0, y0):\n",
    "    point = (x0, y0)\n",
    "    dx = x[1] - x[0]\n",
    "    dy = y[1] - y[0]\n",
    "\n",
    "    plt.figure(figsize=(12,6))\n",
    "    #plt.pcolormesh(X, Y, Z, cmap='viridis')\n",
    "    plt.imshow(Z, extent=[x[0]-dx/2, x[-1]+dx/2, y[0]-dy/2, y[-1]+dy/2], \n",
    "           interpolation='nearest',\n",
    "           origin='lower',)\n",
    "    plt.colorbar()\n",
    "    plt.scatter(X, Y)\n",
    "    plt.scatter(*point, color='r', marker='x', s=150)\n",
    "\n",
    "\n",
    "    f = interp.interp2d(x, y, Z)\n",
    "    print(f(*point))\n",
    "\n",
    "    # or RegularGridInterpolator\n",
    "    g = interp.RegularGridInterpolator( (x,y), Z)\n",
    "    #interp.RegularGridInterpolator\n",
    "    print(g( [point,] ) )\n",
    "\n",
    "    # our interpolator\n",
    "    grid = ((x[0], dx), (y[0], dy) )\n",
    "    h = get_interpolated_value(grid, Z, point)\n",
    "    print(h)"
   ]
  },
  {
   "cell_type": "code",
   "execution_count": 9,
   "metadata": {},
   "outputs": [],
   "source": [
    "from ipywidgets import interact, interactive, fixed, interact_manual\n",
    "import ipywidgets as widgets"
   ]
  },
  {
   "cell_type": "code",
   "execution_count": 10,
   "metadata": {},
   "outputs": [
    {
     "data": {
      "application/vnd.jupyter.widget-view+json": {
       "model_id": "051fff06fc364e0d955c2a3657b48963",
       "version_major": 2,
       "version_minor": 0
      },
      "text/plain": [
       "interactive(children=(FloatSlider(value=5.0, description='x0', max=10.0), FloatSlider(value=2.0, description='…"
      ]
     },
     "metadata": {},
     "output_type": "display_data"
    },
    {
     "data": {
      "text/plain": [
       "<function __main__.test_2d(x0, y0)>"
      ]
     },
     "execution_count": 10,
     "metadata": {},
     "output_type": "execute_result"
    }
   ],
   "source": [
    "interact( test_2d, x0=(0,10, 0.1), y0=(0,5, 0.1))"
   ]
  },
  {
   "cell_type": "markdown",
   "metadata": {},
   "source": [
    "# Test 3d"
   ]
  },
  {
   "cell_type": "code",
   "execution_count": 11,
   "metadata": {},
   "outputs": [],
   "source": [
    "x = np.linspace(0, 10, 6, endpoint=True)\n",
    "y = np.linspace(0, 5, 6, endpoint=True)\n",
    "z = np.linspace(0, 20, 6, endpoint=True)\n",
    "X, Y, Z = np.meshgrid(x, y, z)\n",
    "Q = np.sin(X*Y*Z)"
   ]
  },
  {
   "cell_type": "code",
   "execution_count": 12,
   "metadata": {
    "colab": {
     "autoexec": {
      "startup": false,
      "wait_interval": 0
     },
     "base_uri": "https://localhost:8080/",
     "height": 378
    },
    "colab_type": "code",
    "id": "OgEKsqndjcJR",
    "outputId": "f6ffc35e-c359-449c-f2c7-7a9525e90599"
   },
   "outputs": [],
   "source": [
    "def test_3d(x0, y0, z0):\n",
    "    point = (x0, y0, z0)\n",
    "    dx = x[1] - x[0]\n",
    "    dy = y[1] - y[0]\n",
    "    dz = z[1] - z[0]\n",
    "\n",
    "    f = interp.interpn((x, y, z), Q, point)\n",
    "    print(f)\n",
    "\n",
    "    # or RegularGridInterpolator\n",
    "    g = interp.RegularGridInterpolator( (x,y,z), Q)\n",
    "    #interp.RegularGridInterpolator\n",
    "    print(g( [point,] ) )\n",
    "\n",
    "    # our interpolator\n",
    "    grid = ((x[0], dx), (y[0], dy), (z[0], dz) )\n",
    "    h = get_interpolated_value(grid, Q, point)\n",
    "    print(h)"
   ]
  },
  {
   "cell_type": "code",
   "execution_count": 13,
   "metadata": {
    "colab": {
     "autoexec": {
      "startup": false,
      "wait_interval": 0
     }
    },
    "colab_type": "code",
    "id": "sbnuI4_EjnVr"
   },
   "outputs": [
    {
     "data": {
      "application/vnd.jupyter.widget-view+json": {
       "model_id": "dd98bdd246d44ab8a3cd9ce267276242",
       "version_major": 2,
       "version_minor": 0
      },
      "text/plain": [
       "interactive(children=(FloatSlider(value=5.0, description='x0', max=10.0), FloatSlider(value=2.0, description='…"
      ]
     },
     "metadata": {},
     "output_type": "display_data"
    },
    {
     "data": {
      "text/plain": [
       "<function __main__.test_3d(x0, y0, z0)>"
      ]
     },
     "execution_count": 13,
     "metadata": {},
     "output_type": "execute_result"
    }
   ],
   "source": [
    "interact( test_3d, x0=(0,10, 0.1), y0=(0,5, 0.1), z0=(0,20,0.1))"
   ]
  },
  {
   "cell_type": "markdown",
   "metadata": {
    "colab_type": "text",
    "id": "kbbnB2yvYEuB"
   },
   "source": [
    "# Now with ocean data!"
   ]
  },
  {
   "cell_type": "code",
   "execution_count": 14,
   "metadata": {},
   "outputs": [],
   "source": [
    "from datetime import timedelta\n",
    "import numpy as np\n",
    "\n",
    "from icedef import metocean, test_case\n",
    "\n",
    "import netCDF4 as nc\n",
    "import pandas as pd\n",
    "\n",
    "import numba"
   ]
  },
  {
   "cell_type": "code",
   "execution_count": 15,
   "metadata": {},
   "outputs": [],
   "source": [
    "tc = test_case.TestCaseA()"
   ]
  },
  {
   "cell_type": "code",
   "execution_count": 16,
   "metadata": {},
   "outputs": [],
   "source": [
    "ocean = metocean.Ocean(tc.time_frame)"
   ]
  },
  {
   "cell_type": "code",
   "execution_count": 17,
   "metadata": {},
   "outputs": [],
   "source": [
    "ocean_times = ocean.data.time.values"
   ]
  },
  {
   "cell_type": "code",
   "execution_count": 18,
   "metadata": {},
   "outputs": [],
   "source": [
    "ocean_timestamps = [pd.Timestamp(t) for t in ocean.data.time.values]\n",
    "ocean_times = nc.date2num(ocean_timestamps, 'hours since 1950-01-01')\n",
    "ocean_lats = ocean.data.latitude.values\n",
    "ocean_lons = ocean.data.longitude.values"
   ]
  },
  {
   "cell_type": "code",
   "execution_count": 19,
   "metadata": {},
   "outputs": [],
   "source": [
    "berg_time = nc.date2num(pd.Timestamp(tc.start_time), 'hours since 1950-01-01')\n",
    "berg_lat = tc.start_latitude\n",
    "berg_lon = tc.start_longitude"
   ]
  },
  {
   "cell_type": "code",
   "execution_count": 20,
   "metadata": {},
   "outputs": [],
   "source": [
    "point = (berg_time, berg_lat, berg_lon)\n",
    "dt = ocean_times[1] - ocean_times[0]\n",
    "dlat = ocean_lats[1] - ocean_lats[0]\n",
    "dlon = ocean_lons[1] - ocean_lons[0]\n",
    "grid = ((ocean_times[0], dt), (ocean_lats[0], dlat), (ocean_lons[0], dlon))\n",
    "data = ocean.current.eastward_velocities.values"
   ]
  },
  {
   "cell_type": "code",
   "execution_count": 21,
   "metadata": {
    "colab": {
     "autoexec": {
      "startup": false,
      "wait_interval": 0
     }
    },
    "colab_type": "code",
    "id": "94SYbKiBYEuh"
   },
   "outputs": [],
   "source": [
    "@numba.jit\n",
    "def get_interpolated_value(grid, data, point):\n",
    "    while data.ndim > 0:\n",
    "        x0, dx = grid[0]\n",
    "        x_pt = point[0]\n",
    "        x_idx = (x_pt - x0)/dx\n",
    "        x_idx0 = int(np.floor(x_idx))\n",
    "        dx_idx = (x_idx - x_idx0)\n",
    "        A = data[x_idx0:x_idx0+2, ...]\n",
    "        data = (1-dx_idx)*A[0,...] + (dx_idx)*A[1,...]\n",
    "        grid = grid[1:]\n",
    "        point = point[1:]    \n",
    "    return data"
   ]
  },
  {
   "cell_type": "code",
   "execution_count": 22,
   "metadata": {
    "colab": {
     "autoexec": {
      "startup": false,
      "wait_interval": 0
     }
    },
    "colab_type": "code",
    "id": "94SYbKiBYEuh"
   },
   "outputs": [],
   "source": [
    "@numba.jit\n",
    "def get_interpolated_value2(grid, data, point):\n",
    "    for dim in range(3):\n",
    "        x0, dx = grid[0]\n",
    "        x_pt = point[0]\n",
    "        x_idx = (x_pt - x0)/dx\n",
    "        x_idx0 = int(np.floor(x_idx))\n",
    "        dx_idx = (x_idx - x_idx0)\n",
    "        A = data[x_idx0:x_idx0+2, ...]\n",
    "        data = (1-dx_idx)*A[0,...] + (dx_idx)*A[1,...]\n",
    "        grid = grid[1:]\n",
    "        point = point[1:]\n",
    "    return data"
   ]
  },
  {
   "cell_type": "code",
   "execution_count": 23,
   "metadata": {
    "colab": {
     "autoexec": {
      "startup": false,
      "wait_interval": 0
     }
    },
    "colab_type": "code",
    "id": "94SYbKiBYEuh"
   },
   "outputs": [
    {
     "name": "stdout",
     "output_type": "stream",
     "text": [
      "0.06415714440343023\n",
      "220 µs ± 203 ns per loop (mean ± std. dev. of 7 runs, 1000 loops each)\n"
     ]
    }
   ],
   "source": [
    "print(get_interpolated_value2(grid, data, point))\n",
    "%timeit get_interpolated_value2(grid, data, point)"
   ]
  },
  {
   "cell_type": "code",
   "execution_count": 24,
   "metadata": {},
   "outputs": [
    {
     "name": "stdout",
     "output_type": "stream",
     "text": [
      "0.0641283876523373\n",
      "606 µs ± 18.6 µs per loop (mean ± std. dev. of 7 runs, 1000 loops each)\n"
     ]
    }
   ],
   "source": [
    "g = interp.RegularGridInterpolator((ocean_times, ocean_lats, ocean_lons), data)\n",
    "print(g([point,])[0])\n",
    "%timeit g([point,])[0]"
   ]
  },
  {
   "cell_type": "code",
   "execution_count": 25,
   "metadata": {},
   "outputs": [
    {
     "name": "stdout",
     "output_type": "stream",
     "text": [
      "0.0641283876523373\n",
      "916 µs ± 17.3 µs per loop (mean ± std. dev. of 7 runs, 1000 loops each)\n"
     ]
    }
   ],
   "source": [
    "print(interp.interpn((ocean_times, ocean_lats, ocean_lons), data, point)[0])\n",
    "%timeit interp.interpn((ocean_times, ocean_lats, ocean_lons), data, point)[0]"
   ]
  },
  {
   "cell_type": "code",
   "execution_count": null,
   "metadata": {},
   "outputs": [],
   "source": []
  }
 ],
 "metadata": {
  "colab": {
   "default_view": {},
   "name": "Copy of interpolation_test_case.ipynb",
   "provenance": [
    {
     "file_id": "https://github.com/jmunroe/IceDEF/blob/master/notebooks/interpolation_test_case.ipynb",
     "timestamp": 1528293425421
    }
   ],
   "version": "0.3.2",
   "views": {}
  },
  "kernelspec": {
   "display_name": "Python 3",
   "language": "python",
   "name": "python3"
  },
  "language_info": {
   "codemirror_mode": {
    "name": "ipython",
    "version": 3
   },
   "file_extension": ".py",
   "mimetype": "text/x-python",
   "name": "python",
   "nbconvert_exporter": "python",
   "pygments_lexer": "ipython3",
   "version": "3.6.5"
  }
 },
 "nbformat": 4,
 "nbformat_minor": 2
}
