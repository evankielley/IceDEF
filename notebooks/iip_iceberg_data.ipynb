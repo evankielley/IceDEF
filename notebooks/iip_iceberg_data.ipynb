{
 "cells": [
  {
   "cell_type": "code",
   "execution_count": 1,
   "metadata": {
    "collapsed": true
   },
   "outputs": [],
   "source": [
    "import urllib\n",
    "import pandas as pd\n",
    "import numpy as np"
   ]
  },
  {
   "cell_type": "code",
   "execution_count": 12,
   "metadata": {
    "collapsed": true
   },
   "outputs": [],
   "source": [
    "# Choose iceberg year (2002 - 2015 available)\n",
    "# Note: Iceberg Season starts in November so many datasets include dates from year-1\n",
    "year = 2015"
   ]
  },
  {
   "cell_type": "code",
   "execution_count": 29,
   "metadata": {
    "collapsed": true
   },
   "outputs": [],
   "source": [
    "iip_url_base = 'ftp://sidads.colorado.edu/pub/DATASETS/NOAA/G00807/' \n",
    "iip_filename = f'IIP_{year}IcebergSeason.csv'\n",
    "iip_url = iip_url_base + iip_filename\n",
    "r = urllib.request.urlretrieve(iip_url)\n",
    "df = pd.read_csv(r[0], converters={'TIME':str})"
   ]
  },
  {
   "cell_type": "code",
   "execution_count": 33,
   "metadata": {
    "collapsed": true
   },
   "outputs": [],
   "source": [
    "df['DATETIME'] = pd.to_datetime(df['DATE'] + 'T' + df['TIME'])"
   ]
  },
  {
   "cell_type": "code",
   "execution_count": 36,
   "metadata": {},
   "outputs": [
    {
     "data": {
      "text/plain": [
       "39"
      ]
     },
     "execution_count": 36,
     "metadata": {},
     "output_type": "execute_result"
    }
   ],
   "source": [
    "df['DATETIME'].dt.values[0].minute"
   ]
  },
  {
   "cell_type": "code",
   "execution_count": 37,
   "metadata": {
    "collapsed": true
   },
   "outputs": [],
   "source": [
    "# Choose the min number of observations for an eligible iceberg\n",
    "min_num_obs = 10"
   ]
  },
  {
   "cell_type": "code",
   "execution_count": 38,
   "metadata": {
    "collapsed": true
   },
   "outputs": [],
   "source": [
    "eligible_bergs = np.asarray([df['BERG_NUMBER'].value_counts().loc[df['BERG_NUMBER'].value_counts() > min_num_obs].index,\n",
    "                             df['BERG_NUMBER'].value_counts().loc[df['BERG_NUMBER'].value_counts() > min_num_obs]])"
   ]
  },
  {
   "cell_type": "code",
   "execution_count": 40,
   "metadata": {},
   "outputs": [
    {
     "data": {
      "text/plain": [
       "array([[21511, 21165, 20668, 20100, 21109, 20645, 23460, 23494, 21186,\n",
       "        20111, 20633, 20631, 21666, 21754, 20123, 20017, 23532, 20734,\n",
       "        23508, 23036,    22, 23496, 23525, 20025, 20149, 21735, 20487,\n",
       "        20679, 23167, 20178, 20267, 20295, 20720, 23459, 20151, 21640,\n",
       "        21167, 21645, 20013, 20701, 21662, 21158, 23547, 20154, 23029,\n",
       "        20662, 21156, 20099, 20063, 23597, 20655, 21163, 20224, 20657,\n",
       "        20219, 20498, 20138, 23462, 23172, 23502, 22683, 23441, 20173,\n",
       "        22924, 20502, 21282, 20223, 21629, 20204, 21651, 23596, 21672,\n",
       "        20479, 23548, 20600, 20184, 20477, 20291, 23169, 20474, 20148,\n",
       "        21187, 20580, 22587, 20722, 20509, 20501, 20439, 21170, 20215,\n",
       "        21466, 20023, 20217, 21116, 23165, 21088, 21271, 23018, 20012,\n",
       "        22929, 20323, 21173,    13, 21288, 21312, 21653, 20020, 21638,\n",
       "        20087, 20031, 20428, 23628, 23599, 23509, 21164, 20324, 23600,\n",
       "        21753, 23022, 20420, 20972, 20162, 20724, 20716, 20638, 20475,\n",
       "        20482, 20296, 20225, 21618, 20056, 22747, 20176, 23019, 22602,\n",
       "        21659, 20616, 20499, 23538, 20480],\n",
       "       [   26,    25,    24,    23,    22,    22,    21,    19,    19,\n",
       "           18,    17,    17,    17,    17,    16,    16,    16,    16,\n",
       "           16,    16,    15,    15,    15,    15,    15,    15,    15,\n",
       "           15,    15,    15,    15,    15,    15,    15,    15,    15,\n",
       "           14,    14,    14,    14,    14,    14,    14,    14,    14,\n",
       "           14,    14,    14,    14,    14,    14,    14,    14,    14,\n",
       "           13,    13,    13,    13,    13,    13,    13,    13,    13,\n",
       "           13,    13,    13,    13,    13,    13,    13,    13,    13,\n",
       "           13,    13,    13,    12,    12,    12,    12,    12,    12,\n",
       "           12,    12,    12,    12,    12,    12,    12,    12,    12,\n",
       "           12,    12,    12,    12,    12,    12,    12,    12,    12,\n",
       "           12,    11,    11,    11,    11,    11,    11,    11,    11,\n",
       "           11,    11,    11,    11,    11,    11,    11,    11,    11,\n",
       "           11,    11,    11,    11,    11,    11,    11,    11,    11,\n",
       "           11,    11,    11,    11,    11,    11,    11,    11,    11,\n",
       "           11,    11,    11,    11,    11]])"
      ]
     },
     "execution_count": 40,
     "metadata": {},
     "output_type": "execute_result"
    }
   ],
   "source": [
    "eligible_bergs"
   ]
  },
  {
   "cell_type": "code",
   "execution_count": null,
   "metadata": {
    "collapsed": true
   },
   "outputs": [],
   "source": []
  },
  {
   "cell_type": "code",
   "execution_count": null,
   "metadata": {
    "collapsed": true
   },
   "outputs": [],
   "source": []
  },
  {
   "cell_type": "code",
   "execution_count": null,
   "metadata": {
    "collapsed": true
   },
   "outputs": [],
   "source": []
  },
  {
   "cell_type": "markdown",
   "metadata": {},
   "source": [
    "### Old Code"
   ]
  },
  {
   "cell_type": "code",
   "execution_count": null,
   "metadata": {
    "collapsed": true
   },
   "outputs": [],
   "source": [
    "%matplotlib inline\n",
    "import numpy as np\n",
    "import matplotlib.pyplot as plt\n",
    "from ftplib import FTP\n",
    "import urllib\n",
    "import pandas as pd"
   ]
  },
  {
   "cell_type": "code",
   "execution_count": null,
   "metadata": {
    "collapsed": true
   },
   "outputs": [],
   "source": [
    "year = 2015 # 2002 through 2015 available\n",
    "iip_url_base = 'ftp://sidads.colorado.edu/pub/DATASETS/NOAA/G00807/' \n",
    "iip_filename = f'IIP_{year}IcebergSeason.csv'\n",
    "iip_url = iip_url_base + iip_filename"
   ]
  },
  {
   "cell_type": "code",
   "execution_count": null,
   "metadata": {
    "collapsed": true
   },
   "outputs": [],
   "source": [
    "r = urllib.request.urlretrieve(iip_url_base)\n",
    "#reopen(r[0]).readlines()"
   ]
  },
  {
   "cell_type": "code",
   "execution_count": null,
   "metadata": {
    "collapsed": true
   },
   "outputs": [],
   "source": [
    "print(iip_url)"
   ]
  },
  {
   "cell_type": "code",
   "execution_count": null,
   "metadata": {
    "collapsed": true
   },
   "outputs": [],
   "source": [
    "r = urllib.request.urlretrieve(iip_url)\n",
    "df = pd.read_csv(r[0])"
   ]
  },
  {
   "cell_type": "code",
   "execution_count": null,
   "metadata": {
    "collapsed": true,
    "scrolled": false
   },
   "outputs": [],
   "source": [
    "df"
   ]
  },
  {
   "cell_type": "code",
   "execution_count": null,
   "metadata": {
    "collapsed": true
   },
   "outputs": [],
   "source": [
    "# Latitude is North South\n",
    "\n",
    "print('min lat: {}, min lon: {};\\nmax lat: {}, max lon: {}'\n",
    "      .format(df['LATITUDE'].min(), df['LONGITUDE'].min(),\n",
    "              df['LATITUDE'].max(), df['LONGITUDE'].max()))"
   ]
  },
  {
   "cell_type": "code",
   "execution_count": null,
   "metadata": {
    "collapsed": true
   },
   "outputs": [],
   "source": [
    "n = df.BERG_NUMBER.mode()[0]"
   ]
  },
  {
   "cell_type": "code",
   "execution_count": null,
   "metadata": {
    "collapsed": true
   },
   "outputs": [],
   "source": [
    "df.loc[df['BERG_NUMBER'] == n]"
   ]
  },
  {
   "cell_type": "code",
   "execution_count": null,
   "metadata": {
    "collapsed": true
   },
   "outputs": [],
   "source": [
    "df['BERG_NUMBER'].value_counts().loc[df['BERG_NUMBER'].value_counts() > 10]"
   ]
  },
  {
   "cell_type": "code",
   "execution_count": null,
   "metadata": {
    "collapsed": true
   },
   "outputs": [],
   "source": [
    "eligible_bergs = np.asarray([df['BERG_NUMBER'].value_counts().loc[df['BERG_NUMBER'].value_counts() > 10].index,\n",
    "                             df['BERG_NUMBER'].value_counts().loc[df['BERG_NUMBER'].value_counts() > 10]])"
   ]
  },
  {
   "cell_type": "code",
   "execution_count": null,
   "metadata": {
    "collapsed": true
   },
   "outputs": [],
   "source": [
    "eligible_bergs"
   ]
  },
  {
   "cell_type": "code",
   "execution_count": null,
   "metadata": {
    "collapsed": true
   },
   "outputs": [],
   "source": [
    "eligible_id = eligible_bergs[0][0]"
   ]
  },
  {
   "cell_type": "code",
   "execution_count": null,
   "metadata": {
    "collapsed": true
   },
   "outputs": [],
   "source": [
    "eligible_berg = df.loc[df['BERG_NUMBER'] == eligible_id]"
   ]
  },
  {
   "cell_type": "code",
   "execution_count": null,
   "metadata": {
    "collapsed": true
   },
   "outputs": [],
   "source": [
    "eligible_berg.loc[eligible_berg['DATE'].str.contains(r'^6/[1|2][5-9|0-9]')]"
   ]
  },
  {
   "cell_type": "code",
   "execution_count": null,
   "metadata": {
    "collapsed": true
   },
   "outputs": [],
   "source": [
    "eligible_berg.loc[eligible_berg['DATE'].str.contains(r'^6/[1|2][5-9|0-9]')]"
   ]
  },
  {
   "cell_type": "code",
   "execution_count": null,
   "metadata": {
    "collapsed": true
   },
   "outputs": [],
   "source": []
  },
  {
   "cell_type": "code",
   "execution_count": null,
   "metadata": {
    "collapsed": true
   },
   "outputs": [],
   "source": [
    "eligible_berg['date'] = pd.to_datetime(eligible_berg.DATE + ' ' + eligible_berg.TIME.astype(str))"
   ]
  },
  {
   "cell_type": "code",
   "execution_count": null,
   "metadata": {
    "collapsed": true
   },
   "outputs": [],
   "source": [
    "eligible_berg['month'] = pd.DatetimeIndex(eligible_berg.date).month\n",
    "eligible_berg['day'] = pd.DatetimeIndex(eligible_berg.date).day\n",
    "eligible_berg['hour'] = pd.DatetimeIndex(eligible_berg.date).hour"
   ]
  },
  {
   "cell_type": "code",
   "execution_count": null,
   "metadata": {
    "collapsed": true
   },
   "outputs": [],
   "source": [
    "eligible_berg"
   ]
  },
  {
   "cell_type": "code",
   "execution_count": null,
   "metadata": {
    "collapsed": true
   },
   "outputs": [],
   "source": [
    "def convert_timedelta(duration):\n",
    "    days, seconds = duration.days, duration.seconds\n",
    "    hours = days * 24 + seconds // 3600\n",
    "    minutes = (seconds % 3600) // 60\n",
    "    seconds = (seconds % 60)\n",
    "    return hours, minutes, seconds"
   ]
  },
  {
   "cell_type": "code",
   "execution_count": null,
   "metadata": {
    "collapsed": true
   },
   "outputs": [],
   "source": [
    "eligible_berg_id = int(eligible_berg['BERG_NUMBER'].mode())\n",
    "print(eligible_berg_id)"
   ]
  },
  {
   "cell_type": "code",
   "execution_count": null,
   "metadata": {
    "collapsed": true
   },
   "outputs": [],
   "source": [
    "eligible_berg_id = int(eligible_berg['BERG_NUMBER'].mode())\n",
    "ind0 = eligible_berg.index.tolist()[0]\n",
    "indf = eligible_berg.index.tolist()[-1]\n",
    "chosen_inds = []\n",
    "timestamp_list = eligible_berg.date.tolist()\n",
    "chosen_inds_dict = {}\n",
    "counter = 0\n",
    "\n",
    "for i in range(len(timestamp_list)-1):\n",
    "    \n",
    "    time_dif = timestamp_list[i+1] - timestamp_list[i]\n",
    "    \n",
    "    hr, minu, sec = convert_timedelta(time_dif)\n",
    "    \n",
    "    if hr < 24*3:\n",
    "        chosen_inds.append(i+ind0)\n",
    "    \n",
    "    elif len(chosen_inds) > 5:\n",
    "        chosen_inds_dict['{}_{}'.format(eligible_berg_id, counter)] = chosen_inds\n",
    "        counter += 1\n",
    "        chosen_inds = []\n",
    "    else:\n",
    "        chosen_inds = []\n",
    "\n",
    "if len(chosen_inds) > 5:\n",
    "    chosen_inds_dict['{}_{}'.format(eligible_berg_id, counter)] = chosen_inds"
   ]
  },
  {
   "cell_type": "code",
   "execution_count": null,
   "metadata": {
    "collapsed": true
   },
   "outputs": [],
   "source": [
    "chosen_inds"
   ]
  },
  {
   "cell_type": "code",
   "execution_count": null,
   "metadata": {
    "collapsed": true
   },
   "outputs": [],
   "source": [
    "chosen_inds_dict"
   ]
  },
  {
   "cell_type": "code",
   "execution_count": null,
   "metadata": {
    "collapsed": true
   },
   "outputs": [],
   "source": [
    "for count in range(counter+1):\n",
    "    print(chosen_inds_dict['{}_{}'.format(eligible_berg_id, count)][0])"
   ]
  },
  {
   "cell_type": "code",
   "execution_count": null,
   "metadata": {
    "collapsed": true
   },
   "outputs": [],
   "source": [
    "eligible_berg.loc[eligible_berg.index == chosen_inds[0]].date.values[0]"
   ]
  },
  {
   "cell_type": "code",
   "execution_count": null,
   "metadata": {
    "collapsed": true
   },
   "outputs": [],
   "source": [
    "print(year)\n",
    "el_berg_month_i = int(eligible_berg.loc[eligible_berg.index == chosen_inds[0]].month)\n",
    "el_berg_month_f = int(eligible_berg.loc[eligible_berg.index == chosen_inds[-1]].month)\n",
    "el_berg_day_i = int(eligible_berg.loc[eligible_berg.index == chosen_inds[0]].day)\n",
    "el_berg_day_f = int(eligible_berg.loc[eligible_berg.index == chosen_inds[-1]].day)"
   ]
  },
  {
   "cell_type": "code",
   "execution_count": null,
   "metadata": {
    "collapsed": true
   },
   "outputs": [],
   "source": [
    "int(eligible_berg.loc[eligible_berg.index == chosen_inds[0]].day)"
   ]
  },
  {
   "cell_type": "code",
   "execution_count": null,
   "metadata": {
    "collapsed": true
   },
   "outputs": [],
   "source": []
  },
  {
   "cell_type": "code",
   "execution_count": null,
   "metadata": {
    "collapsed": true
   },
   "outputs": [],
   "source": [
    "import datetime"
   ]
  },
  {
   "cell_type": "code",
   "execution_count": null,
   "metadata": {
    "collapsed": true
   },
   "outputs": [],
   "source": [
    "date_diff_i = datetime.date(year, el_berg_month_i, el_berg_day_i) - datetime.date(2000, 1, 1)\n",
    "date_diff_f = datetime.date(year, el_berg_month_f, el_berg_day_f) - datetime.date(2000, 1, 1)"
   ]
  },
  {
   "cell_type": "code",
   "execution_count": null,
   "metadata": {
    "collapsed": true
   },
   "outputs": [],
   "source": [
    "date_diff_i.days*24"
   ]
  },
  {
   "cell_type": "code",
   "execution_count": null,
   "metadata": {
    "collapsed": true
   },
   "outputs": [],
   "source": []
  },
  {
   "cell_type": "code",
   "execution_count": null,
   "metadata": {
    "collapsed": true
   },
   "outputs": [],
   "source": [
    "df.loc[df['BERG_NUMBER'] == 21165]"
   ]
  },
  {
   "cell_type": "code",
   "execution_count": null,
   "metadata": {
    "collapsed": true
   },
   "outputs": [],
   "source": [
    "def num_unique_berg_ids(df, col_name):\n",
    "    # import pandas as pd\n",
    "    if not isinstance(df, pd.DataFrame):\n",
    "        print('Error: argument df must be a pandas dataframe.')\n",
    "    elif not isinstance(col_name, str):\n",
    "        print('Error: argument col_name must be a string.')\n",
    "    else:\n",
    "        #return df[col_name].size  # non-unique obs\n",
    "        return df[col_name].nunique()"
   ]
  },
  {
   "cell_type": "code",
   "execution_count": null,
   "metadata": {
    "collapsed": true
   },
   "outputs": [],
   "source": [
    "num_unique_berg_ids(df, 'BERG_NUMBER')"
   ]
  },
  {
   "cell_type": "code",
   "execution_count": null,
   "metadata": {
    "collapsed": true
   },
   "outputs": [],
   "source": [
    "def arr_unique_berg_ids(df, col_name):\n",
    "    # import pandas as pd\n",
    "    if not isinstance(df, pd.DataFrame):\n",
    "        print('Error: argument df must be a pandas dataframe.')\n",
    "    elif not isinstance(col_name, str):\n",
    "        print('Error: argument col_name must be a string.')\n",
    "    else:\n",
    "        return df[col_name].unique()    "
   ]
  },
  {
   "cell_type": "code",
   "execution_count": null,
   "metadata": {
    "collapsed": true
   },
   "outputs": [],
   "source": [
    "arr_unique_berg_ids(df, 'BERG_NUMBER')"
   ]
  },
  {
   "cell_type": "code",
   "execution_count": null,
   "metadata": {
    "collapsed": true
   },
   "outputs": [],
   "source": [
    "def obs_per_berg(df, col_name):\n",
    "    # import pandas as pd\n",
    "    if not isinstance(df, pd.DataFrame):\n",
    "        print('Error: argument df must be a pandas dataframe.')\n",
    "    elif not isinstance(col_name, str):\n",
    "        print('Error: argument col_name must be a string.')\n",
    "    else:\n",
    "        return df.groupby([col_name]).size()\n",
    "    "
   ]
  },
  {
   "cell_type": "code",
   "execution_count": null,
   "metadata": {
    "collapsed": true,
    "scrolled": true
   },
   "outputs": [],
   "source": [
    "unique_obs_df = obs_per_berg(df, 'BERG_NUMBER')"
   ]
  },
  {
   "cell_type": "code",
   "execution_count": null,
   "metadata": {
    "collapsed": true
   },
   "outputs": [],
   "source": [
    "unique_obs_df.describe()"
   ]
  },
  {
   "cell_type": "code",
   "execution_count": null,
   "metadata": {
    "collapsed": true
   },
   "outputs": [],
   "source": [
    "unique_obs_df.argmax()"
   ]
  },
  {
   "cell_type": "code",
   "execution_count": null,
   "metadata": {
    "collapsed": true
   },
   "outputs": [],
   "source": [
    "data = np.vstack((df['LATITUDE'], df['LONGITUDE']))"
   ]
  },
  {
   "cell_type": "code",
   "execution_count": null,
   "metadata": {
    "collapsed": true
   },
   "outputs": [],
   "source": [
    "plt.scatter(df['LONGITUDE'], df['LATITUDE'])"
   ]
  },
  {
   "cell_type": "code",
   "execution_count": null,
   "metadata": {
    "collapsed": true
   },
   "outputs": [],
   "source": [
    "from mpl_toolkits.basemap import Basemap"
   ]
  },
  {
   "cell_type": "code",
   "execution_count": null,
   "metadata": {
    "collapsed": true
   },
   "outputs": [],
   "source": [
    "%pylab inline\n",
    "pylab.rcParams['figure.figsize'] = (10, 10)"
   ]
  },
  {
   "cell_type": "code",
   "execution_count": null,
   "metadata": {
    "collapsed": true
   },
   "outputs": [],
   "source": [
    "# Lambert Conformal Conic map.\n",
    "min_lon = -70.\n",
    "max_lon = -10.\n",
    "min_lat = 30.\n",
    "max_lat = 70.\n",
    "\n",
    "m = Basemap(llcrnrlon = min_lon, llcrnrlat = min_lat,\n",
    "            urcrnrlon = max_lon, urcrnrlat = max_lat,\n",
    "            projection = 'lcc', lat_1 = 20.,\n",
    "            lat_2 = 40., lon_0 = -60.,\n",
    "            resolution = 'l', area_thresh = 1000.)\n",
    "\n",
    "m.drawcoastlines()\n",
    "m.drawcountries()\n",
    "m.drawmapboundary(fill_color='#99ffff')\n",
    "m.fillcontinents(color='#cc9966',lake_color='#99ffff')\n",
    "m.drawparallels(np.arange(0,100,10),labels=[1,1,0,0])\n",
    "m.drawmeridians(np.arange(-100,0,10),labels=[0,0,0,1])\n",
    "plt.title('')\n",
    "\n",
    "#m.plot(df['LONGITUDE'], df['LATITUDE'], linewidth = 1.5, color = 'r')\n",
    "x, y = m(list(df['LONGITUDE']), list(df['LATITUDE']))\n",
    "m.scatter(x,y, s=.5, marker ='.',  color = 'k')\n",
    "\n",
    "plt.show()"
   ]
  },
  {
   "cell_type": "code",
   "execution_count": null,
   "metadata": {
    "collapsed": true
   },
   "outputs": [],
   "source": [
    "# create new figure, axes instances.\n",
    "fig = plt.figure()\n",
    "ax = fig.add_axes([0.1,0.1,0.8,0.8])\n",
    "\n",
    "# setup mercator map projection.\n",
    "m = Basemap(llcrnrlon=-100.,llcrnrlat=20.,urcrnrlon=20.,urcrnrlat=60.,\\\n",
    "            rsphere=(6378137.00,6356752.3142),\\\n",
    "            resolution='l',projection='merc',\\\n",
    "            lat_0=40.,lon_0=-20.,lat_ts=20.)\n",
    "\n",
    "m.drawcoastlines(zorder=0)\n",
    "m.fillcontinents(zorder=0)\n",
    "m.drawparallels(np.arange(10,90,20),labels=[1,1,0,1])\n",
    "m.drawmeridians(np.arange(-180,180,30),labels=[1,1,0,1])\n",
    "ax.set_title('')\n",
    "\n",
    "m.plot(df['LONGITUDE'], df['LATITUDE'], linewidth = 1.5, color = 'r')\n",
    "#m.scatter(df['LONGITUDE'], df['LATITUDE'], marker ='o', color = 'k')\n",
    "\n",
    "\n",
    "plt.show()"
   ]
  },
  {
   "cell_type": "code",
   "execution_count": null,
   "metadata": {
    "collapsed": true
   },
   "outputs": [],
   "source": []
  }
 ],
 "metadata": {
  "kernelspec": {
   "display_name": "Python 3",
   "language": "python",
   "name": "python3"
  },
  "language_info": {
   "codemirror_mode": {
    "name": "ipython",
    "version": 3
   },
   "file_extension": ".py",
   "mimetype": "text/x-python",
   "name": "python",
   "nbconvert_exporter": "python",
   "pygments_lexer": "ipython3",
   "version": "3.6.3"
  }
 },
 "nbformat": 4,
 "nbformat_minor": 2
}
