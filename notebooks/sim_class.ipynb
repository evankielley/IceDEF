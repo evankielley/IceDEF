{
 "cells": [
  {
   "cell_type": "code",
   "execution_count": 1,
   "metadata": {},
   "outputs": [],
   "source": [
    "from datetime import timedelta\n",
    "import numpy as np\n",
    "import netCDF4 as nc\n",
    "import matplotlib.pyplot as plt\n",
    "from matplotlib.backends.backend_pdf import PdfPages\n",
    "import pandas as pd\n",
    "\n",
    "drift_model = 'turnbull'  # must be 'turnbull' or 'wagner'\n",
    "ocean_model = 'ecmwf'  # must be 'ecmwf'\n",
    "atm_model = 'ecmwf'  # must be 'ecmwf'\n",
    "tstepper = 'euler'  # must be euler, ab2, ab3, or ab4\n",
    "\n",
    "\n",
    "\n",
    "from icedef import iceberg, metocean, plot, timesteppers\n",
    "\n",
    "if drift_model == 'turnbull':\n",
    "    from icedef.turnbull import drift\n",
    "elif drift_model == 'wagner':\n",
    "    from icedef.wagner import drift\n",
    "else:\n",
    "    print('drift model specified is invalid')\n",
    "    \n",
    "if tstepper == 'euler':\n",
    "    from icedef.timesteppers import euler as timestepper\n",
    "elif tstepper == 'ab2':\n",
    "    from icedef.timesteppers import ab2 as timestepper\n",
    "elif tstepper == 'ab3':\n",
    "    from icedef.timesteppers import ab3 as timestepper\n",
    "elif tstepper == 'ab4':\n",
    "    from icedef.timesteppers import ab4 as timestepper\n",
    "else:\n",
    "    print('timestepper specified is invalid')"
   ]
  },
  {
   "cell_type": "code",
   "execution_count": 2,
   "metadata": {},
   "outputs": [
    {
     "name": "stderr",
     "output_type": "stream",
     "text": [
      "/home/evankielley/IceDEF/icedef/iceberg.py:403: SettingWithCopyWarning: \n",
      "A value is trying to be set on a copy of a slice from a DataFrame.\n",
      "Try using .loc[row_indexer,col_indexer] = value instead\n",
      "\n",
      "See the caveats in the documentation: http://pandas.pydata.org/pandas-docs/stable/indexing.html#indexing-view-versus-copy\n",
      "  iip_df2['count'] = iip_df2.groupby('ICEBERG_NUMBER')['ICEBERG_NUMBER'].transform('count')\n"
     ]
    }
   ],
   "source": [
    "iip_season = 2015\n",
    "max_hours = 24\n",
    "\n",
    "iip_df = iceberg.get_dense_df(iip_season, max_hours)\n",
    "\n",
    "track_num = 0\n",
    "iip_berg_df = iip_df.loc[iip_df['track_num'] == track_num]\n",
    "\n",
    "iip_berg = iceberg.get_iip_berg(iip_berg_df)"
   ]
  },
  {
   "cell_type": "code",
   "execution_count": 3,
   "metadata": {},
   "outputs": [
    {
     "data": {
      "text/plain": [
       "['20150310.nc', '20150311.nc']"
      ]
     },
     "execution_count": 3,
     "metadata": {},
     "output_type": "execute_result"
    }
   ],
   "source": [
    "ocean_data = metocean.ECMWFOcean(min(iip_berg.history['X']), max(iip_berg.history['X']),\n",
    "                         min(iip_berg.history['Y']), max(iip_berg.history['Y']),\n",
    "                         iip_berg.history['T'][0], iip_berg.history['T'][-1])\n",
    "\n",
    "ocean_data.filenames"
   ]
  },
  {
   "cell_type": "code",
   "execution_count": 4,
   "metadata": {},
   "outputs": [
    {
     "data": {
      "text/plain": [
       "['20150310.nc', '20150311.nc']"
      ]
     },
     "execution_count": 4,
     "metadata": {},
     "output_type": "execute_result"
    }
   ],
   "source": [
    "atm_data = metocean.ECMWFAtm(min(iip_berg.history['X']), max(iip_berg.history['X']),\n",
    "                         min(iip_berg.history['Y']), max(iip_berg.history['Y']),\n",
    "                         iip_berg.history['T'][0], iip_berg.history['T'][-1])\n",
    "\n",
    "atm_data.filenames"
   ]
  },
  {
   "cell_type": "code",
   "execution_count": 69,
   "metadata": {
    "collapsed": true
   },
   "outputs": [],
   "source": [
    "class DriftSimulation():\n",
    "    \n",
    "        \n",
    "    OM = 7.2921e-5  # rotation rate of Earth (rad/s)\n",
    "    RE = 6378*1e3  # radius of Earth (m)\n",
    "    RHOA = 1.225 # density of air (kg/m^3)\n",
    "    RHOW = 1027.5  # density of water (kg/m^3)\n",
    "    RHOI = 900  # density of iceberg (kg/m^3)\n",
    "\n",
    "    \n",
    "    \n",
    "    def __init__(self, berg, ocean, atm, drift):\n",
    "        \n",
    "        self.berg = berg\n",
    "        self.ocean = ocean\n",
    "        self.atm = atm\n",
    "        self.drift = drift\n",
    "        \n",
    "        self.y_min = min(self.ocean.lats[0], self.atm.lats[0])\n",
    "        self.y_max = max(self.ocean.lats[-1], self.atm.lats[-1])\n",
    "        self.x_min = min(self.ocean.lons[0], self.atm.lons[0])\n",
    "        self.x_max = max(self.ocean.lons[-1], self.atm.lons[-1])\n",
    "        \n",
    "        self.dt = 0.1\n",
    "        self.nt = 10\n",
    "        \n",
    "        self.history = pd.DataFrame(columns=['T', 'Y', 'X'])\n",
    "        \n",
    "    \n",
    "    \n",
    "    \n",
    "    \n",
    "    def interpolate(self, t, x, y):\n",
    "\n",
    "        Vcx, Vcy = self.ocean.interpolate(t, x, y)\n",
    "        Vax, Vay = self.atm.interpolate(t, x, y)\n",
    "        \n",
    "        return Vcx, Vcy, Vax, Vay\n",
    "    \n",
    "    \n",
    "    def in_bounds(self, x, y):\n",
    "        \n",
    "        if not self.x_min < x < self.x_max:\n",
    "            print('Iceberg out of bounds')\n",
    "            return False\n",
    "        \n",
    "        elif not self.y_min < y < self.y_max:\n",
    "            print('Iceberg out of bounds')\n",
    "            return False\n",
    "        \n",
    "        else:\n",
    "            return True\n",
    "    \n",
    "    \n",
    "    def meters_to_degrees(self, x, y, dx, dy):\n",
    "        # x and y are in degrees and dx and dy are in meters\n",
    "        \n",
    "        y1 = y + dy*(180/(np.pi * self.RE))\n",
    "        x1 = x + dx/(np.cos((((y + y1)/2)*np.pi)/180))*(180/(np.pi*self.RE))\n",
    "        \n",
    "        \n",
    "        return x1, y1\n",
    "    \n",
    "\n",
    "    def setup_timestepper(self, t0, x0, y0, vx0, vy0, nt):\n",
    "        \n",
    "        t = [None]*(nt+1)\n",
    "        x = np.empty(nt+1)\n",
    "        y = np.empty(nt+1)\n",
    "        vx = np.empty(nt+1)\n",
    "        vy = np.empty(nt+1)\n",
    "        vcx = np.empty(nt+1)\n",
    "        vcy = np.empty(nt+1)\n",
    "        vax = np.empty(nt+1)\n",
    "        vay = np.empty(nt+1)\n",
    "        \n",
    "        \n",
    "        t[0] = t0\n",
    "        x[0] = x0\n",
    "        y[0] = y0\n",
    "        vx[0] = vx0\n",
    "        vy[0] = vy0\n",
    "        \n",
    "        \n",
    "        vcx[0], vcy[0], vax[0], vay[0] = self.interpolate(t0, x0, y0)\n",
    "        \n",
    "        return t, x, y, vx, vy, vcx, vcy, vax, vay\n",
    "\n",
    "    \n",
    "    \n",
    "    def euler(self, t, x, y, vx, vy, vcy, vcx, vay, vax, dt):\n",
    "        \n",
    "        constants = [[vcx, vcy, vax, vay],\n",
    "                     [self.berg.M,  self.berg.Ak, self.berg.Ab, self.berg.As, self.berg.At],\n",
    "                     [self.berg.Cdw, self.berg.Cda, self.berg.Csdw, self.berg.Csda],\n",
    "                     [self.OM, self.RHOW, self.RHOA, self.RHOI]]\n",
    "        \n",
    "        \n",
    "        ax, ay = self.drift(t, x, y, vx, vy, constants)\n",
    "        \n",
    "        vx1 = vx + ax*dt\n",
    "        vy1 = vy + ay*dt\n",
    "\n",
    "        return vx1, vy1\n",
    "    \n",
    "    \n",
    "    def euler_driver(self, t0, x0, y0, vx0, vy0, dt, nt):\n",
    "        \n",
    "        t, x, y, vx, vy, vcx, vcy, vax, vay = self.setup_timestepper(t0, x0, y0, vx0, vy0, nt)\n",
    "        \n",
    "        for i in range(nt):\n",
    "            \n",
    "            vx[i+1], vy[i+1] = self.euler(t[i], x[i], y[i], vx[i], vy[i], vcy[i], vcx[i], vay[i], vax[i], dt) \n",
    "            \n",
    "            dx = vx[i+1]*dt\n",
    "            dy = vy[i+1]*dt\n",
    "\n",
    "            # convert position from meters to degrees\n",
    "            x[i+1], y[i+1] = self.meters_to_degrees(x[i], y[i], dx, dy)\n",
    "            \n",
    "            t[i+1] = t[i] + timedelta(seconds=dt)\n",
    "             \n",
    "            if not self.in_bounds(x[i+1], y[i+1]):\n",
    "                t = t[:i+1]\n",
    "                x = x[:i+1]\n",
    "                y = y[:i+1]\n",
    "                vx = vx[:i+1]\n",
    "                vy = vy[:i+1]\n",
    "                vcx = vcx[:i+1]\n",
    "                vcy = vcy[:i+1]\n",
    "                vax = vax[:i+1]\n",
    "                vay = vay[:i+1]\n",
    "                break\n",
    "                \n",
    "            vcx[i+1], vcy[i+1], vax[i+1], vay[i+1] = self.interpolate(t[i+1], x[i+1], y[i+1])\n",
    "               \n",
    "            \n",
    "        return t, x, y, vx, vy, vcx, vcy, vax, vay\n",
    "    \n",
    "            \n",
    "    def rk2(self, t0, x0, y0, vx0, vy0, dt, nt):\n",
    "\n",
    "        t, x, y, vx, vy, vcx, vcy, vax, vay = self.setup_timestepper(t0, x0, y0, vx0, vy0, nt)\n",
    "        \n",
    "        for i in range(nt):\n",
    "            \n",
    "            constants = [[vcx[i], vcy[i], vax[i], vay[i]],\n",
    "                         [self.berg.M,  self.berg.Ak, self.berg.Ab, self.berg.As, self.berg.At],\n",
    "                         [self.berg.Cdw, self.berg.Cda, self.berg.Csdw, self.berg.Csda],\n",
    "                         [self.OM, self.RHOW, self.RHOA, self.RHOI]]\n",
    "        \n",
    "            ax, ay = self.drift(t[i], x[i], y[i], vx[i], vy[i], constants)\n",
    "            half_vx = vx[i] + 0.5*dt*ax \n",
    "            half_vy = vy[i] + 0.5*dt*ay\n",
    "            half_dx = dt*half_vx\n",
    "            half_dy = dt*half_vy\n",
    "            half_x, half_y = self.meters_to_degrees(x[i], y[i], half_dx, half_dy)\n",
    "            half_t = t[i] + 0.5*timedelta(seconds=dt)\n",
    "         \n",
    "            if not self.in_bounds(half_x, half_y):\n",
    "                t = t[:i+1]\n",
    "                x = x[:i+1]\n",
    "                y = y[:i+1]\n",
    "                vx = vx[:i+1]\n",
    "                vy = vy[:i+1]\n",
    "                vcx = vcx[:i+1]\n",
    "                vcy = vcy[:i+1]\n",
    "                vax = vax[:i+1]\n",
    "                vay = vay[:i+1]\n",
    "                break\n",
    "             \n",
    "            half_vcx, half_vcy, half_vax, half_vay = self.interpolate(half_t, half_x, half_y)\n",
    "\n",
    "            constants[0] = [half_vcx, half_vcy, half_vax, half_vay]\n",
    "            half_ax, half_ay = self.drift(half_t, half_x, half_y, half_vx, half_vy, constants)\n",
    "            \n",
    "            vx[i+1] = vx[i] + dt*half_ax \n",
    "            vy[i+1] = vy[i] + dt*half_ay\n",
    "            dx = dt*vx[i+1]\n",
    "            dy = dt*vy[i+1]\n",
    "            x[i+1], y[i+1] = self.meters_to_degrees(x[i], y[i], dx, dy)\n",
    "            t[i+1] = t[i] + timedelta(seconds=dt)\n",
    "         \n",
    "            if not self.in_bounds(x[i+1], y[i+1]):\n",
    "                t = t[:i+1]\n",
    "                x = x[:i+1]\n",
    "                y = y[:i+1]\n",
    "                vx = vx[:i+1]\n",
    "                vy = vy[:i+1]\n",
    "                vcx = vcx[:i+1]\n",
    "                vcy = vcy[:i+1]\n",
    "                vax = vax[:i+1]\n",
    "                vay = vay[:i+1]\n",
    "                break\n",
    "             \n",
    "            vcx[i+1], vcy[i+1], vax[i+1], vay[i+1] = self.interpolate(t[i+1], x[i+1], y[i+1])\n",
    "\n",
    "        return t, x, y, vx, vy, vcx, vcy, vax, vay"
   ]
  },
  {
   "cell_type": "code",
   "execution_count": 70,
   "metadata": {},
   "outputs": [],
   "source": [
    "sim = DriftSimulation(iip_berg, ocean_data, atm_data, drift)"
   ]
  },
  {
   "cell_type": "code",
   "execution_count": 71,
   "metadata": {},
   "outputs": [
    {
     "data": {
      "text/plain": [
       "(-0.074432678172666411,\n",
       " -0.18025457901431347,\n",
       " 4.4437250000353208,\n",
       " 1.9600972221737267)"
      ]
     },
     "execution_count": 71,
     "metadata": {},
     "output_type": "execute_result"
    }
   ],
   "source": [
    "sim.interpolate(sim.berg.T, sim.berg.X, sim.berg.Y)"
   ]
  },
  {
   "cell_type": "raw",
   "metadata": {},
   "source": [
    "(-0.074432678172666411,\n",
    " -0.18025457901431347,\n",
    " 4.4437250000353208,\n",
    " 1.9600972221737267)"
   ]
  },
  {
   "cell_type": "code",
   "execution_count": 73,
   "metadata": {},
   "outputs": [],
   "source": [
    "t, x, y, vx, vy, vcx, vcy, vax, vay = sim.euler_driver(sim.berg.T, sim.berg.X, sim.berg.Y, sim.berg.Vx, sim.berg.Vy, 0.1*3600, 100)"
   ]
  },
  {
   "cell_type": "code",
   "execution_count": 74,
   "metadata": {},
   "outputs": [
    {
     "data": {
      "image/png": "[encoded data removed]",
      "text/plain": [
       "<matplotlib.figure.Figure at 0x7f200702bf28>"
      ]
     },
     "metadata": {},
     "output_type": "display_data"
    }
   ],
   "source": [
    "plt.scatter(x, y)\n",
    "plt.show()"
   ]
  },
  {
   "cell_type": "code",
   "execution_count": 75,
   "metadata": {},
   "outputs": [],
   "source": [
    "t, x, y, vx, vy, vcx, vcy, vax, vay = sim.rk2(sim.berg.T, sim.berg.X, sim.berg.Y, sim.berg.Vx, sim.berg.Vy, 0.1*3600, 100)"
   ]
  },
  {
   "cell_type": "code",
   "execution_count": 76,
   "metadata": {},
   "outputs": [
    {
     "data": {
      "image/png": "[encoded data removed]",
      "text/plain": [
       "<matplotlib.figure.Figure at 0x7f200702b9b0>"
      ]
     },
     "metadata": {},
     "output_type": "display_data"
    }
   ],
   "source": [
    "plt.scatter(x, y)\n",
    "plt.show()"
   ]
  }
 ],
 "metadata": {
  "kernelspec": {
   "display_name": "Python 3",
   "language": "python",
   "name": "python3"
  },
  "language_info": {
   "codemirror_mode": {
    "name": "ipython",
    "version": 3
   },
   "file_extension": ".py",
   "mimetype": "text/x-python",
   "name": "python",
   "nbconvert_exporter": "python",
   "pygments_lexer": "ipython3",
   "version": "3.6.3"
  }
 },
 "nbformat": 4,
 "nbformat_minor": 2
}
