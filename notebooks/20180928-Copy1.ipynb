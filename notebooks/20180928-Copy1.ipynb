{
 "cells": [
  {
   "cell_type": "code",
   "execution_count": 1,
   "metadata": {},
   "outputs": [],
   "source": [
    "import numpy as np\n",
    "import pandas as pd\n",
    "import matplotlib.pyplot as plt\n",
    "from matplotlib.backends.backend_pdf import PdfPages\n",
    "import urllib\n",
    "import os\n",
    "import copy\n",
    "from scipy.optimize import minimize"
   ]
  },
  {
   "cell_type": "code",
   "execution_count": 2,
   "metadata": {},
   "outputs": [],
   "source": [
    "plt.rcParams['figure.figsize'] = (10.0, 10.0)"
   ]
  },
  {
   "cell_type": "code",
   "execution_count": 3,
   "metadata": {},
   "outputs": [],
   "source": [
    "from importlib import reload"
   ]
  },
  {
   "cell_type": "markdown",
   "metadata": {},
   "source": [
    "# Read in Beacon Data "
   ]
  },
  {
   "cell_type": "code",
   "execution_count": 4,
   "metadata": {},
   "outputs": [
    {
     "data": {
      "text/plain": [
       "<module 'icedef.statoil_arcticnet_data' from '/home/evankielley/IceDEF/icedef/statoil_arcticnet_data.py'>"
      ]
     },
     "execution_count": 4,
     "metadata": {},
     "output_type": "execute_result"
    }
   ],
   "source": [
    "from icedef import statoil_arcticnet_data as sd\n",
    "reload(sd)"
   ]
  },
  {
   "cell_type": "code",
   "execution_count": 5,
   "metadata": {},
   "outputs": [
    {
     "data": {
      "text/html": [
       "<div>\n",
       "<style scoped>\n",
       "    .dataframe tbody tr th:only-of-type {\n",
       "        vertical-align: middle;\n",
       "    }\n",
       "\n",
       "    .dataframe tbody tr th {\n",
       "        vertical-align: top;\n",
       "    }\n",
       "\n",
       "    .dataframe thead th {\n",
       "        text-align: right;\n",
       "    }\n",
       "</style>\n",
       "<table border=\"1\" class=\"dataframe\">\n",
       "  <thead>\n",
       "    <tr style=\"text-align: right;\">\n",
       "      <th></th>\n",
       "      <th>BeaconID</th>\n",
       "      <th>BeaconType</th>\n",
       "      <th>DataDate_UTC</th>\n",
       "      <th>TransmissionDate_UTC</th>\n",
       "      <th>Latitude</th>\n",
       "      <th>Longitude</th>\n",
       "      <th>VBatt</th>\n",
       "      <th>AT</th>\n",
       "      <th>ST</th>\n",
       "      <th>BP</th>\n",
       "      <th>Heading</th>\n",
       "      <th>Speed</th>\n",
       "      <th>LocAccuracy</th>\n",
       "      <th>MessageIndex</th>\n",
       "      <th>Satellites</th>\n",
       "      <th>GPSdelay</th>\n",
       "      <th>SNR</th>\n",
       "      <th>TTFF</th>\n",
       "    </tr>\n",
       "  </thead>\n",
       "  <tbody>\n",
       "    <tr>\n",
       "      <th>0</th>\n",
       "      <td>50519</td>\n",
       "      <td>Solara</td>\n",
       "      <td>2015-04-23 18:48:37</td>\n",
       "      <td>NaN</td>\n",
       "      <td>49.22403</td>\n",
       "      <td>-51.25820</td>\n",
       "      <td>NaN</td>\n",
       "      <td>NaN</td>\n",
       "      <td>NaN</td>\n",
       "      <td>NaN</td>\n",
       "      <td>NaN</td>\n",
       "      <td>NaN</td>\n",
       "      <td>NaN</td>\n",
       "      <td>NaN</td>\n",
       "      <td>NaN</td>\n",
       "      <td>NaN</td>\n",
       "      <td>NaN</td>\n",
       "      <td>NaN</td>\n",
       "    </tr>\n",
       "    <tr>\n",
       "      <th>1</th>\n",
       "      <td>50519</td>\n",
       "      <td>Solara</td>\n",
       "      <td>2015-04-23 18:49:07</td>\n",
       "      <td>NaN</td>\n",
       "      <td>49.22401</td>\n",
       "      <td>-51.25817</td>\n",
       "      <td>NaN</td>\n",
       "      <td>NaN</td>\n",
       "      <td>NaN</td>\n",
       "      <td>NaN</td>\n",
       "      <td>NaN</td>\n",
       "      <td>NaN</td>\n",
       "      <td>NaN</td>\n",
       "      <td>NaN</td>\n",
       "      <td>NaN</td>\n",
       "      <td>NaN</td>\n",
       "      <td>NaN</td>\n",
       "      <td>NaN</td>\n",
       "    </tr>\n",
       "    <tr>\n",
       "      <th>2</th>\n",
       "      <td>50519</td>\n",
       "      <td>Solara</td>\n",
       "      <td>2015-04-23 18:49:34</td>\n",
       "      <td>NaN</td>\n",
       "      <td>49.22400</td>\n",
       "      <td>-51.25809</td>\n",
       "      <td>NaN</td>\n",
       "      <td>NaN</td>\n",
       "      <td>NaN</td>\n",
       "      <td>NaN</td>\n",
       "      <td>NaN</td>\n",
       "      <td>NaN</td>\n",
       "      <td>NaN</td>\n",
       "      <td>NaN</td>\n",
       "      <td>NaN</td>\n",
       "      <td>NaN</td>\n",
       "      <td>NaN</td>\n",
       "      <td>NaN</td>\n",
       "    </tr>\n",
       "    <tr>\n",
       "      <th>3</th>\n",
       "      <td>50519</td>\n",
       "      <td>Solara</td>\n",
       "      <td>2015-04-23 18:49:59</td>\n",
       "      <td>NaN</td>\n",
       "      <td>49.22403</td>\n",
       "      <td>-51.25789</td>\n",
       "      <td>NaN</td>\n",
       "      <td>NaN</td>\n",
       "      <td>NaN</td>\n",
       "      <td>NaN</td>\n",
       "      <td>NaN</td>\n",
       "      <td>NaN</td>\n",
       "      <td>NaN</td>\n",
       "      <td>NaN</td>\n",
       "      <td>NaN</td>\n",
       "      <td>NaN</td>\n",
       "      <td>NaN</td>\n",
       "      <td>NaN</td>\n",
       "    </tr>\n",
       "    <tr>\n",
       "      <th>4</th>\n",
       "      <td>50519</td>\n",
       "      <td>Solara</td>\n",
       "      <td>2015-04-23 18:50:26</td>\n",
       "      <td>NaN</td>\n",
       "      <td>49.22399</td>\n",
       "      <td>-51.25789</td>\n",
       "      <td>NaN</td>\n",
       "      <td>NaN</td>\n",
       "      <td>NaN</td>\n",
       "      <td>NaN</td>\n",
       "      <td>NaN</td>\n",
       "      <td>NaN</td>\n",
       "      <td>NaN</td>\n",
       "      <td>NaN</td>\n",
       "      <td>NaN</td>\n",
       "      <td>NaN</td>\n",
       "      <td>NaN</td>\n",
       "      <td>NaN</td>\n",
       "    </tr>\n",
       "  </tbody>\n",
       "</table>\n",
       "</div>"
      ],
      "text/plain": [
       "   BeaconID BeaconType        DataDate_UTC  TransmissionDate_UTC  Latitude  \\\n",
       "0     50519     Solara 2015-04-23 18:48:37                   NaN  49.22403   \n",
       "1     50519     Solara 2015-04-23 18:49:07                   NaN  49.22401   \n",
       "2     50519     Solara 2015-04-23 18:49:34                   NaN  49.22400   \n",
       "3     50519     Solara 2015-04-23 18:49:59                   NaN  49.22403   \n",
       "4     50519     Solara 2015-04-23 18:50:26                   NaN  49.22399   \n",
       "\n",
       "   Longitude  VBatt  AT  ST  BP  Heading  Speed  LocAccuracy  MessageIndex  \\\n",
       "0  -51.25820    NaN NaN NaN NaN      NaN    NaN          NaN           NaN   \n",
       "1  -51.25817    NaN NaN NaN NaN      NaN    NaN          NaN           NaN   \n",
       "2  -51.25809    NaN NaN NaN NaN      NaN    NaN          NaN           NaN   \n",
       "3  -51.25789    NaN NaN NaN NaN      NaN    NaN          NaN           NaN   \n",
       "4  -51.25789    NaN NaN NaN NaN      NaN    NaN          NaN           NaN   \n",
       "\n",
       "   Satellites  GPSdelay  SNR  TTFF  \n",
       "0         NaN       NaN  NaN   NaN  \n",
       "1         NaN       NaN  NaN   NaN  \n",
       "2         NaN       NaN  NaN   NaN  \n",
       "3         NaN       NaN  NaN   NaN  \n",
       "4         NaN       NaN  NaN   NaN  "
      ]
     },
     "execution_count": 5,
     "metadata": {},
     "output_type": "execute_result"
    }
   ],
   "source": [
    "df = sd.get_df(sd.dir_path + sd.csv_filenames[1])\n",
    "df.head()"
   ]
  },
  {
   "cell_type": "markdown",
   "metadata": {},
   "source": [
    "# Simulation"
   ]
  },
  {
   "cell_type": "code",
   "execution_count": 6,
   "metadata": {},
   "outputs": [
    {
     "data": {
      "text/plain": [
       "<module 'icedef.simulator' from '/home/evankielley/IceDEF/icedef/simulator.py'>"
      ]
     },
     "execution_count": 6,
     "metadata": {},
     "output_type": "execute_result"
    }
   ],
   "source": [
    "from icedef import drift, metocean, simulator\n",
    "reload(drift)\n",
    "reload(metocean)\n",
    "reload(simulator)"
   ]
  },
  {
   "cell_type": "code",
   "execution_count": 7,
   "metadata": {},
   "outputs": [
    {
     "name": "stderr",
     "output_type": "stream",
     "text": [
      "/home/evankielley/.conda/envs/icedef/lib/python3.6/site-packages/xarray/core/computation.py:560: RuntimeWarning: invalid value encountered in sqrt\n",
      "  result_data = func(*input_data)\n",
      "/home/evankielley/.conda/envs/icedef/lib/python3.6/site-packages/xarray/core/computation.py:560: RuntimeWarning: invalid value encountered in sqrt\n",
      "  result_data = func(*input_data)\n"
     ]
    },
    {
     "data": {
      "image/png": "[encoded data removed]",
      "text/plain": [
       "<Figure size 720x720 with 1 Axes>"
      ]
     },
     "metadata": {},
     "output_type": "display_data"
    }
   ],
   "source": [
    "df = sd.get_df(sd.dir_path + sd.csv_filenames[2])\n",
    "start_index = 1100\n",
    "end_index = 1120\n",
    "ref_berg = sd.create_ref_berg_from_df(df, start_index, end_index)\n",
    "start_time = np.datetime64(df.DataDate_UTC[start_index])\n",
    "end_time = np.datetime64(df.DataDate_UTC[end_index])\n",
    "time_frame = start_time, end_time\n",
    "start_latitude = df.Latitude[start_index]\n",
    "start_longitude = df.Longitude[start_index]\n",
    "start_location = start_latitude, start_longitude\n",
    "start_velocity = sd.get_iceberg_velocity_from_dataframe(df, start_index, start_index + 10)\n",
    "\n",
    "plt.scatter(ref_berg.history['longitude'], ref_berg.history['latitude'])\n",
    "\n",
    "sim = simulator.Simulator()\n",
    "\n",
    "Ca, Cw = 3, 0.1\n",
    "run_sim_kwargs = {'start_velocity': start_velocity, 'Ca': Ca, 'Cw': Cw}\n",
    "results = sim.run_simulation(start_location, time_frame, **run_sim_kwargs)\n",
    "plt.scatter(results['longitude'], results['latitude'], s=1, label=f'Ca: {Ca}, Cw: {Cw}')\n",
    "\n",
    "Ca, Cw = 0.1, 5\n",
    "run_sim_kwargs = {'start_velocity': start_velocity, 'Ca': Ca, 'Cw': Cw}\n",
    "results = sim.run_simulation(start_location, time_frame, **run_sim_kwargs)\n",
    "plt.scatter(results['longitude'], results['latitude'], s=1, label=f'Ca: {Ca}, Cw: {Cw}')\n",
    "\n",
    "plt.legend()\n",
    "plt.xlabel('Longitude')\n",
    "plt.ylabel('Latitude')\n",
    "plt.title('Beacon Drift Track')\n",
    "plt.show()\n"
   ]
  },
  {
   "cell_type": "markdown",
   "metadata": {},
   "source": [
    "## Plot stereographically"
   ]
  },
  {
   "cell_type": "code",
   "execution_count": 15,
   "metadata": {},
   "outputs": [
    {
     "data": {
      "text/plain": [
       "<module 'icedef.plot' from '/home/evankielley/IceDEF/icedef/plot.py'>"
      ]
     },
     "execution_count": 15,
     "metadata": {},
     "output_type": "execute_result"
    }
   ],
   "source": [
    "from icedef import plot\n",
    "reload(plot)"
   ]
  },
  {
   "cell_type": "code",
   "execution_count": 17,
   "metadata": {},
   "outputs": [],
   "source": [
    "my_plot = plot.Plot()"
   ]
  },
  {
   "cell_type": "code",
   "execution_count": 20,
   "metadata": {},
   "outputs": [
    {
     "data": {
      "image/png": "[encoded data removed]",
      "text/plain": [
       "<Figure size 720x720 with 1 Axes>"
      ]
     },
     "metadata": {},
     "output_type": "display_data"
    }
   ],
   "source": [
    "my_plot.plot_track(\n",
    "    [results['latitude'].values, results['longitude'].values], \n",
    "    [ref_berg.history['latitude'], ref_berg.history['longitude']],\n",
    "    s=4\n",
    ")"
   ]
  },
  {
   "cell_type": "markdown",
   "metadata": {},
   "source": [
    "# Optimization"
   ]
  },
  {
   "cell_type": "code",
   "execution_count": 21,
   "metadata": {},
   "outputs": [
    {
     "data": {
      "text/plain": [
       "<module 'icedef.test_case' from '/home/evankielley/IceDEF/icedef/test_case.py'>"
      ]
     },
     "execution_count": 21,
     "metadata": {},
     "output_type": "execute_result"
    }
   ],
   "source": [
    "from icedef import test_case\n",
    "reload(test_case)"
   ]
  },
  {
   "cell_type": "code",
   "execution_count": 22,
   "metadata": {},
   "outputs": [],
   "source": [
    "tc = test_case.TestCase()"
   ]
  },
  {
   "cell_type": "code",
   "execution_count": 23,
   "metadata": {
    "scrolled": true
   },
   "outputs": [
    {
     "name": "stderr",
     "output_type": "stream",
     "text": [
      "/home/evankielley/.conda/envs/icedef/lib/python3.6/site-packages/xarray/core/computation.py:560: RuntimeWarning: invalid value encountered in sqrt\n",
      "  result_data = func(*input_data)\n",
      "/home/evankielley/.conda/envs/icedef/lib/python3.6/site-packages/xarray/core/computation.py:560: RuntimeWarning: invalid value encountered in sqrt\n",
      "  result_data = func(*input_data)\n",
      "/home/evankielley/.conda/envs/icedef/lib/python3.6/site-packages/xarray/core/computation.py:560: RuntimeWarning: invalid value encountered in sqrt\n",
      "  result_data = func(*input_data)\n",
      "/home/evankielley/.conda/envs/icedef/lib/python3.6/site-packages/xarray/core/computation.py:560: RuntimeWarning: invalid value encountered in sqrt\n",
      "  result_data = func(*input_data)\n",
      "/home/evankielley/.conda/envs/icedef/lib/python3.6/site-packages/xarray/core/computation.py:560: RuntimeWarning: invalid value encountered in sqrt\n",
      "  result_data = func(*input_data)\n",
      "/home/evankielley/.conda/envs/icedef/lib/python3.6/site-packages/xarray/core/computation.py:560: RuntimeWarning: invalid value encountered in sqrt\n",
      "  result_data = func(*input_data)\n",
      "/home/evankielley/.conda/envs/icedef/lib/python3.6/site-packages/xarray/core/computation.py:560: RuntimeWarning: invalid value encountered in sqrt\n",
      "  result_data = func(*input_data)\n",
      "/home/evankielley/.conda/envs/icedef/lib/python3.6/site-packages/xarray/core/computation.py:560: RuntimeWarning: invalid value encountered in sqrt\n",
      "  result_data = func(*input_data)\n",
      "/home/evankielley/.conda/envs/icedef/lib/python3.6/site-packages/xarray/core/computation.py:560: RuntimeWarning: invalid value encountered in sqrt\n",
      "  result_data = func(*input_data)\n",
      "/home/evankielley/.conda/envs/icedef/lib/python3.6/site-packages/xarray/core/computation.py:560: RuntimeWarning: invalid value encountered in sqrt\n",
      "  result_data = func(*input_data)\n",
      "/home/evankielley/.conda/envs/icedef/lib/python3.6/site-packages/xarray/core/computation.py:560: RuntimeWarning: invalid value encountered in sqrt\n",
      "  result_data = func(*input_data)\n",
      "/home/evankielley/.conda/envs/icedef/lib/python3.6/site-packages/xarray/core/computation.py:560: RuntimeWarning: invalid value encountered in sqrt\n",
      "  result_data = func(*input_data)\n",
      "/home/evankielley/.conda/envs/icedef/lib/python3.6/site-packages/xarray/core/computation.py:560: RuntimeWarning: invalid value encountered in sqrt\n",
      "  result_data = func(*input_data)\n",
      "/home/evankielley/.conda/envs/icedef/lib/python3.6/site-packages/xarray/core/computation.py:560: RuntimeWarning: invalid value encountered in sqrt\n",
      "  result_data = func(*input_data)\n",
      "/home/evankielley/.conda/envs/icedef/lib/python3.6/site-packages/xarray/core/computation.py:560: RuntimeWarning: invalid value encountered in sqrt\n",
      "  result_data = func(*input_data)\n",
      "/home/evankielley/.conda/envs/icedef/lib/python3.6/site-packages/xarray/core/computation.py:560: RuntimeWarning: invalid value encountered in sqrt\n",
      "  result_data = func(*input_data)\n",
      "/home/evankielley/.conda/envs/icedef/lib/python3.6/site-packages/xarray/core/computation.py:560: RuntimeWarning: invalid value encountered in sqrt\n",
      "  result_data = func(*input_data)\n",
      "/home/evankielley/.conda/envs/icedef/lib/python3.6/site-packages/xarray/core/computation.py:560: RuntimeWarning: invalid value encountered in sqrt\n",
      "  result_data = func(*input_data)\n",
      "/home/evankielley/.conda/envs/icedef/lib/python3.6/site-packages/xarray/core/computation.py:560: RuntimeWarning: invalid value encountered in sqrt\n",
      "  result_data = func(*input_data)\n",
      "/home/evankielley/.conda/envs/icedef/lib/python3.6/site-packages/xarray/core/computation.py:560: RuntimeWarning: invalid value encountered in sqrt\n",
      "  result_data = func(*input_data)\n",
      "/home/evankielley/.conda/envs/icedef/lib/python3.6/site-packages/xarray/core/computation.py:560: RuntimeWarning: invalid value encountered in sqrt\n",
      "  result_data = func(*input_data)\n",
      "/home/evankielley/.conda/envs/icedef/lib/python3.6/site-packages/xarray/core/computation.py:560: RuntimeWarning: invalid value encountered in sqrt\n",
      "  result_data = func(*input_data)\n",
      "/home/evankielley/.conda/envs/icedef/lib/python3.6/site-packages/xarray/core/computation.py:560: RuntimeWarning: invalid value encountered in sqrt\n",
      "  result_data = func(*input_data)\n",
      "/home/evankielley/.conda/envs/icedef/lib/python3.6/site-packages/xarray/core/computation.py:560: RuntimeWarning: invalid value encountered in sqrt\n",
      "  result_data = func(*input_data)\n",
      "/home/evankielley/.conda/envs/icedef/lib/python3.6/site-packages/xarray/core/computation.py:560: RuntimeWarning: invalid value encountered in sqrt\n",
      "  result_data = func(*input_data)\n",
      "/home/evankielley/.conda/envs/icedef/lib/python3.6/site-packages/xarray/core/computation.py:560: RuntimeWarning: invalid value encountered in sqrt\n",
      "  result_data = func(*input_data)\n",
      "/home/evankielley/.conda/envs/icedef/lib/python3.6/site-packages/xarray/core/computation.py:560: RuntimeWarning: invalid value encountered in sqrt\n",
      "  result_data = func(*input_data)\n"
     ]
    }
   ],
   "source": [
    "keys = ['Ca', 'Cw']\n",
    "x0 = [1, 1]\n",
    "bounds = [[1, 10], [1,10]]\n",
    "reference_vectors = [tc.ref_lats, tc.ref_lons]\n",
    "optimization_result = simulator.run_optimization(sim, keys, x0, bounds, reference_vectors, start_location, time_frame)"
   ]
  },
  {
   "cell_type": "code",
   "execution_count": 24,
   "metadata": {},
   "outputs": [
    {
     "data": {
      "text/plain": [
       "      fun: 0.008472958905718028\n",
       " hess_inv: <2x2 LbfgsInvHessProduct with dtype=float64>\n",
       "      jac: array([ 0.00062478, -0.00010841])\n",
       "  message: b'CONVERGENCE: NORM_OF_PROJECTED_GRADIENT_<=_PGTOL'\n",
       "     nfev: 27\n",
       "      nit: 8\n",
       "   status: 0\n",
       "  success: True\n",
       "        x: array([ 1., 10.])"
      ]
     },
     "execution_count": 24,
     "metadata": {},
     "output_type": "execute_result"
    }
   ],
   "source": [
    "optimization_result"
   ]
  },
  {
   "cell_type": "markdown",
   "metadata": {},
   "source": [
    "## Simulation with Optimization Result"
   ]
  },
  {
   "cell_type": "code",
   "execution_count": 26,
   "metadata": {},
   "outputs": [
    {
     "name": "stderr",
     "output_type": "stream",
     "text": [
      "/home/evankielley/.conda/envs/icedef/lib/python3.6/site-packages/xarray/core/computation.py:560: RuntimeWarning: invalid value encountered in sqrt\n",
      "  result_data = func(*input_data)\n"
     ]
    },
    {
     "data": {
      "image/png": "[encoded data removed]",
      "text/plain": [
       "<Figure size 720x720 with 1 Axes>"
      ]
     },
     "metadata": {},
     "output_type": "display_data"
    }
   ],
   "source": [
    "sim = simulator.Simulator()\n",
    "\n",
    "Ca, Cw = optimization_result.x\n",
    "\n",
    "run_sim_kwargs = {'start_velocity': start_velocity, 'Ca': Ca, 'Cw': Cw}\n",
    "results = sim.run_simulation(start_location, time_frame, **run_sim_kwargs)\n",
    "\n",
    "my_plot.plot_track(\n",
    "    [results['latitude'].values, results['longitude'].values], \n",
    "    [ref_berg.history['latitude'], ref_berg.history['longitude']],\n",
    "    s=4\n",
    ")"
   ]
  },
  {
   "cell_type": "markdown",
   "metadata": {},
   "source": [
    "# Old"
   ]
  },
  {
   "cell_type": "code",
   "execution_count": 9,
   "metadata": {},
   "outputs": [],
   "source": [
    "from scipy.optimize import minimize"
   ]
  },
  {
   "cell_type": "code",
   "execution_count": 10,
   "metadata": {},
   "outputs": [],
   "source": [
    "def optimization_wrapper(form_drag_coefficients, ref_berg, berg_inits, meto, time_info):\n",
    "    \n",
    "    Ca, Cw = form_drag_coefficients\n",
    "    \n",
    "    berg = drift_wrapper(berg_inits, meto, time_info, Ca=Ca, Cw=Cw)\n",
    "    \n",
    "    try:\n",
    "        mse = tools.compute_mse((berg.longitude, berg.latitude, berg.time),\n",
    "                           (ref_berg.history['longitude'], ref_berg.history['latitude'], ref_berg.history['time']),\n",
    "                           ref_berg.history['time'][0] - np.timedelta64(1,'D'))\n",
    "    except:\n",
    "        print(berg2.time)\n",
    "        raise\n",
    "    \n",
    "    return mse\n",
    "    "
   ]
  },
  {
   "cell_type": "code",
   "execution_count": 11,
   "metadata": {},
   "outputs": [],
   "source": [
    "def optimization_wrapper2(form_drag_coefficients, ref_berg, berg_inits, meto, time_info):\n",
    "    \n",
    "    Ca, Cw = form_drag_coefficients\n",
    "    obs_vecs = (ref_berg.history['longitude'], ref_berg.history['latitude'], ref_berg.history['time'])\n",
    "    reference_time = ref_berg.history['time'][0] - np.timedelta64(1,'D')\n",
    "    \n",
    "    berg = drift_wrapper(berg_inits, meto, time_info, Ca=Ca, Cw=Cw)\n",
    "    \n",
    "    mse_list = []\n",
    "    \n",
    "    for i in range(len(ref_berg.history['time']) - 1):\n",
    "        \n",
    "        j = np.where((berg.history['time'] <= ref_berg.history['time'][i + 1]))[0][-1]\n",
    "        sim_point = (berg.history['longitude'][j], berg.history['latitude'][j], berg.history['time'][j])\n",
    "        mse = tools.compute_mse(sim_point, obs_vecs, reference_time)\n",
    "        mse_list.append(mse)\n",
    "    \n",
    "    mse = np.mean(np.array(mse_list))\n",
    "    \n",
    "    return mse"
   ]
  },
  {
   "cell_type": "code",
   "execution_count": 12,
   "metadata": {},
   "outputs": [],
   "source": [
    "callback_mses = []\n",
    "callback_Cas = []\n",
    "callback_Cws = []\n",
    "\n",
    "def callback(x):\n",
    "    \n",
    "    result = optimization_wrapper(x, ref_berg, (start_time, start_latitude, start_longitude, start_velocity), \n",
    "                                     meto, time_info)\n",
    "    callback_mses.append(result)\n",
    "    callback_Cas.append(x[0])\n",
    "    callback_Cws.append(x[1])"
   ]
  },
  {
   "cell_type": "markdown",
   "metadata": {},
   "source": [
    "# Surface Optimization"
   ]
  },
  {
   "cell_type": "code",
   "execution_count": 19,
   "metadata": {},
   "outputs": [],
   "source": [
    "Ca_num = 20\n",
    "Cw_num = 20\n",
    "Ca_lower_bound = 1; Ca_upper_bound = 5\n",
    "Cw_lower_bound = 5; Cw_upper_bound = 16\n",
    "\n",
    "scaling = 'lin'\n",
    "\n",
    "if scaling == 'log':\n",
    "\n",
    "    Ca_vec = np.logspace(np.log10(Ca_lower_bound), np.log10(Ca_upper_bound), num=Ca_num)\n",
    "    Cw_vec = np.logspace(np.log10(Cw_lower_bound), np.log10(Cw_upper_bound), Cw_num=num)\n",
    "\n",
    "elif scaling == 'lin':\n",
    "    \n",
    "    Ca_vec = np.linspace(Ca_lower_bound, Ca_upper_bound, Ca_num)\n",
    "    Cw_vec = np.linspace(Cw_lower_bound, Cw_upper_bound, Cw_num)\n",
    "\n",
    "\n",
    "Ca_mesh, Cw_mesh = np.meshgrid(Ca_vec, Cw_vec)"
   ]
  },
  {
   "cell_type": "code",
   "execution_count": 27,
   "metadata": {},
   "outputs": [
    {
     "name": "stdout",
     "output_type": "stream",
     "text": [
      "CPU times: user 2min, sys: 70.7 ms, total: 2min\n",
      "Wall time: 2min\n"
     ]
    }
   ],
   "source": [
    "%%time\n",
    "\n",
    "berg_inits = (start_time, start_latitude, start_longitude, start_velocity)\n",
    "\n",
    "mse_matrix = np.zeros((Ca_num, Cw_num))\n",
    "\n",
    "for i in range(Ca_num):\n",
    "    for j in range(Cw_num):\n",
    "        form_drag_coefficients = (Ca_mesh[i][j], Cw_mesh[i][j])\n",
    "        mse_matrix[i][j] = optimization_wrapper(form_drag_coefficients, ref_berg, berg_inits, meto, time_info)\n",
    "        "
   ]
  },
  {
   "cell_type": "code",
   "execution_count": 29,
   "metadata": {
    "scrolled": false
   },
   "outputs": [
    {
     "data": {
      "image/png": "[encoded data removed]",
      "text/plain": [
       "<Figure size 1008x504 with 2 Axes>"
      ]
     },
     "metadata": {},
     "output_type": "display_data"
    }
   ],
   "source": [
    "fig = plt.figure(figsize=(14,7))\n",
    "\n",
    "plt.pcolormesh(Ca_vec, Cw_vec, mse_matrix, vmin=0.02525, vmax=0.02675)\n",
    "\n",
    "plt.xticks(Ca_vec, rotation='vertical')\n",
    "plt.yticks(Cw_vec)\n",
    "\n",
    "plt.xlabel('Ca')\n",
    "plt.ylabel('Cw')\n",
    "\n",
    "plt.colorbar()\n",
    "\n",
    "plt.show()"
   ]
  },
  {
   "cell_type": "markdown",
   "metadata": {},
   "source": [
    "### Minima from brute force method"
   ]
  },
  {
   "cell_type": "code",
   "execution_count": 39,
   "metadata": {},
   "outputs": [
    {
     "data": {
      "text/plain": [
       "(2.052631578947368, 16.0)"
      ]
     },
     "execution_count": 39,
     "metadata": {},
     "output_type": "execute_result"
    }
   ],
   "source": [
    "Ca_mesh.flatten()[np.argmin(mse_matrix.flatten())], Cw_mesh.flatten()[np.argmin(mse_matrix.flatten())]"
   ]
  },
  {
   "cell_type": "markdown",
   "metadata": {},
   "source": [
    "### Minima from scipy.optimize.minimize"
   ]
  },
  {
   "cell_type": "code",
   "execution_count": 41,
   "metadata": {},
   "outputs": [
    {
     "data": {
      "text/plain": [
       "      fun: 0.0261872837218388\n",
       " hess_inv: <2x2 LbfgsInvHessProduct with dtype=float64>\n",
       "      jac: array([ 9.12880882e-06, -3.32893435e-06])\n",
       "  message: b'CONVERGENCE: NORM_OF_PROJECTED_GRADIENT_<=_PGTOL'\n",
       "     nfev: 156\n",
       "      nit: 19\n",
       "   status: 0\n",
       "  success: True\n",
       "        x: array([ 1.9926969 , 14.06493582])"
      ]
     },
     "execution_count": 41,
     "metadata": {},
     "output_type": "execute_result"
    }
   ],
   "source": [
    "optimization_result = minimize(optimization_wrapper, x0=(1, 1), bounds=((0, 16), (0, 16)), \n",
    "                               args=(ref_berg, (start_time, start_latitude, start_longitude, start_velocity), \n",
    "                                     meto, time_info), callback=callback)\n",
    "optimization_result"
   ]
  },
  {
   "cell_type": "markdown",
   "metadata": {},
   "source": [
    "### How does the optimization change as we change the initial guess?"
   ]
  },
  {
   "cell_type": "code",
   "execution_count": 31,
   "metadata": {},
   "outputs": [],
   "source": [
    "Ca_x0_list = [1, 7, 14]\n",
    "Cw_x0_list = [1, 7, 14]"
   ]
  },
  {
   "cell_type": "code",
   "execution_count": 43,
   "metadata": {},
   "outputs": [
    {
     "name": "stdout",
     "output_type": "stream",
     "text": [
      "Initial Guess: (1, 1), Result: [ 1.9926969  14.06493582]\n",
      "Initial Guess: (1, 7), Result: [ 2.05136407 11.93387646]\n",
      "Initial Guess: (1, 14), Result: [ 2.09925995 14.19641443]\n",
      "Initial Guess: (7, 1), Result: [ 2.16322796 16.        ]\n",
      "Initial Guess: (7, 7), Result: [ 2.07338248 10.87063138]\n",
      "Initial Guess: (7, 14), Result: [ 2.29269297 15.15298058]\n",
      "Initial Guess: (14, 1), Result: [ 2.10557424 16.        ]\n",
      "Initial Guess: (14, 7), Result: [ 2.11827577 16.        ]\n",
      "Initial Guess: (14, 14), Result: [ 2.16935907 16.        ]\n"
     ]
    }
   ],
   "source": [
    "for Ca_x0 in Ca_x0_list:\n",
    "    for Cw_x0 in Cw_x0_list:\n",
    "\n",
    "        optimization_result = minimize(optimization_wrapper, x0=(Ca_x0, Cw_x0), \n",
    "                                       bounds=((0, 16), (0, 16)), \n",
    "                                       args=(ref_berg, \n",
    "                                             (start_time, start_latitude, start_longitude, start_velocity), \n",
    "                                             meto, time_info), \n",
    "                                       callback=callback)\n",
    "        \n",
    "        print(f'Initial Guess: ({Ca_x0}, {Cw_x0}), Result: {optimization_result.x}')"
   ]
  },
  {
   "cell_type": "markdown",
   "metadata": {},
   "source": [
    "# Multi-step surface or minimize optimization"
   ]
  },
  {
   "cell_type": "raw",
   "metadata": {
    "scrolled": true
   },
   "source": [
    "with PdfPages('plots/optim_steps.pdf') as pdf:\n",
    "\n",
    "    for indxf in range(1, len(ref_berg.history['time'])):\n",
    "\n",
    "        indxi = 0\n",
    "        indxf = indxf\n",
    "\n",
    "        sub_ref_berg = copy.deepcopy(ref_berg)\n",
    "        sub_ref_berg.history['time'] = sub_ref_berg.history['time'][indxi : indxf + 1]\n",
    "        sub_ref_berg.history['latitude'] = sub_ref_berg.history['latitude'][indxi : indxf + 1]\n",
    "        sub_ref_berg.history['longitude'] = sub_ref_berg.history['longitude'][indxi : indxf + 1]\n",
    "\n",
    "        start_time = sub_ref_berg.history['time'][indxi]\n",
    "        end_time = sub_ref_berg.history['time'][indxf]\n",
    "        start_latitude = sub_ref_berg.history['latitude'][indxi]\n",
    "        start_longitude = sub_ref_berg.history['longitude'][indxi]\n",
    "        start_velocity = get_iceberg_velocity_from_dataframe(df, start_index + indxi - 1, start_index + indxf + 1)\n",
    "        time_step = np.timedelta64(360, 's')\n",
    "        time_info = (time_step, end_time)\n",
    "\n",
    "        optimization_method = 'scipy'\n",
    "\n",
    "        if optimization_method == 'brute':\n",
    "\n",
    "            Ca_num = 20\n",
    "            Cw_num = 20\n",
    "            Ca_lower_bound = 0.1; Ca_upper_bound = 16\n",
    "            Cw_lower_bound = 0.1; Cw_upper_bound = 16\n",
    "\n",
    "            scaling = 'lin'\n",
    "\n",
    "            if scaling == 'log':\n",
    "\n",
    "                Ca_vec = np.logspace(np.log10(Ca_lower_bound), np.log10(Ca_upper_bound), num=Ca_num)\n",
    "                Cw_vec = np.logspace(np.log10(Cw_lower_bound), np.log10(Cw_upper_bound), Cw_num=num)\n",
    "\n",
    "            elif scaling == 'lin':\n",
    "\n",
    "                Ca_vec = np.linspace(Ca_lower_bound, Ca_upper_bound, Ca_num)\n",
    "                Cw_vec = np.linspace(Cw_lower_bound, Cw_upper_bound, Cw_num)\n",
    "\n",
    "\n",
    "            Ca_mesh, Cw_mesh = np.meshgrid(Ca_vec, Cw_vec)\n",
    "\n",
    "            berg_inits = (start_time, start_latitude, start_longitude, start_velocity)\n",
    "\n",
    "            mse_matrix = np.zeros((Ca_num, Cw_num))\n",
    "\n",
    "            for i in range(Ca_num):\n",
    "                for j in range(Cw_num):\n",
    "                    form_drag_coefficients = (Ca_mesh[i][j], Cw_mesh[i][j])\n",
    "                    mse_matrix[i][j] = optimization_wrapper2(form_drag_coefficients, sub_ref_berg, berg_inits, meto, time_info)\n",
    "\n",
    "            Ca_result = Ca_mesh.flatten()[np.argmin(mse_matrix.flatten())]\n",
    "            Cw_result = Cw_mesh.flatten()[np.argmin(mse_matrix.flatten())]\n",
    "\n",
    "            sub_berg = drift_wrapper((start_time, start_latitude, start_longitude, start_velocity), \n",
    "                                  meto, time_info, Ca=Ca_result, Cw=Cw_result)\n",
    "\n",
    "            sub_berg.update_history()\n",
    "\n",
    "            fig = plt.figure(figsize=(14,7))\n",
    "\n",
    "            plt.subplot(1, 2, 1)\n",
    "\n",
    "            plt.pcolormesh(Ca_vec, Cw_vec, mse_matrix, vmin=0.0018, vmax=0.005)\n",
    "\n",
    "            plt.xticks(Ca_vec, rotation='vertical')\n",
    "            plt.yticks(Cw_vec)\n",
    "\n",
    "            plt.xlabel('Ca')\n",
    "            plt.ylabel('Cw')\n",
    "\n",
    "            plt.colorbar()\n",
    "\n",
    "            plt.subplot(1, 2, 2)\n",
    "\n",
    "            plt.scatter(sub_berg.history['longitude'], sub_berg.history['latitude'], s=6, label='model')\n",
    "            plt.scatter(ref_berg.history['longitude'], ref_berg.history['latitude'], s=9, label='beacon')\n",
    "            plt.legend()\n",
    "            plt.xlabel('Longitude')\n",
    "            plt.ylabel('Latitude')\n",
    "\n",
    "            plt.show()\n",
    "\n",
    "        elif optimization_method == 'scipy':\n",
    "\n",
    "            optimization_result = minimize(optimization_wrapper2, x0=(1, 1), bounds=((0.01, 15), (0.01, 15)), \n",
    "                                           args=(sub_ref_berg, (start_time, start_latitude, start_longitude, start_velocity), \n",
    "                                                 meto, time_info))#, callback=callback)\n",
    "            \n",
    "            end_time = np.datetime64(df.DataDate_UTC[end_index])\n",
    "            time_info = (time_step, np.datetime64(df.DataDate_UTC[end_index]))  # end of ref_berg time\n",
    "\n",
    "            berg = drift_wrapper((start_time, start_latitude, start_longitude, start_velocity), \n",
    "                                  meto, time_info, Ca=optimization_result.x[0], Cw=optimization_result.x[1])\n",
    "\n",
    "            berg.update_history()\n",
    "\n",
    "            fig = plt.figure(figsize=(10, 6))\n",
    "\n",
    "            plt.scatter(berg.history['longitude'], berg.history['latitude'], s=6, label='model')\n",
    "            plt.scatter(ref_berg.history['longitude'], ref_berg.history['latitude'], s=9, label='beacon')\n",
    "            \n",
    "            for k, ktime in enumerate(ref_berg.history['time'][:indxf+1]):\n",
    "                \n",
    "                if not k == 0:\n",
    "                    kberg = np.where(berg.history['time'] <= ktime)[0][-1]\n",
    "                    plt.scatter(berg.history['longitude'][kberg], berg.history['latitude'][kberg], \n",
    "                                s=30, marker='X', c='black')\n",
    "            \n",
    "            plt.legend()\n",
    "            plt.xlabel('Longitude')\n",
    "            plt.ylabel('Latitude')\n",
    "            rounded_Ca = round(optimization_result.x[0], 3) \n",
    "            rounded_Cw = round(optimization_result.x[1], 3)\n",
    "            plt.title(f'Optimization over first {indxf} points\\n' + \\\n",
    "                     f'Ca: {rounded_Ca}, Cw: {rounded_Cw}')\n",
    "            plt.show()\n",
    "            \n",
    "        pdf.savefig(fig)"
   ]
  },
  {
   "cell_type": "markdown",
   "metadata": {},
   "source": [
    "# Multi-step optimization"
   ]
  },
  {
   "cell_type": "markdown",
   "metadata": {},
   "source": [
    "## The loop"
   ]
  },
  {
   "cell_type": "code",
   "execution_count": 45,
   "metadata": {},
   "outputs": [
    {
     "data": {
      "image/png": "[encoded data removed]",
      "text/plain": [
       "<Figure size 720x360 with 1 Axes>"
      ]
     },
     "metadata": {},
     "output_type": "display_data"
    }
   ],
   "source": [
    "sub_berg_list = []\n",
    "sub_ref_berg_list = []\n",
    "\n",
    "df = get_df(dir_path, csv_filenames[2])\n",
    "\n",
    "start_index = 1100\n",
    "end_index = 1120\n",
    "\n",
    "start_time = np.datetime64(df.DataDate_UTC[start_index])\n",
    "start_latitude = df.Latitude[start_index]\n",
    "start_longitude = df.Longitude[start_index]\n",
    "start_velocity = get_iceberg_velocity_from_dataframe(df, start_index, start_index + 10)\n",
    "\n",
    "end_time = np.datetime64(df.DataDate_UTC[end_index])\n",
    "time_step = np.timedelta64(360, 's')\n",
    "time_info = (time_step, end_time)\n",
    "\n",
    "ref_berg = iceberg.quickstart(start_time, (start_latitude, start_longitude))\n",
    "\n",
    "for i in range(end_index - start_index + 2):\n",
    "    \n",
    "    if not df.DataDate_UTC[start_index + i] == df.DataDate_UTC[start_index + i + 1]:\n",
    "        ref_berg.time = np.datetime64(df.DataDate_UTC[start_index + i])\n",
    "        ref_berg.latitude = df.Latitude[start_index + i]\n",
    "        ref_berg.longitude = df.Longitude[start_index + i]\n",
    "        ref_berg.update_history()\n",
    "\n",
    "sub_ref_berg = copy.deepcopy(ref_berg)\n",
    "sub_ref_berg.history['time'] = [sub_ref_berg.history['time'][0]]\n",
    "sub_ref_berg.history['latitude'] = [sub_ref_berg.history['latitude'][0]]\n",
    "sub_ref_berg.history['longitude'] = [sub_ref_berg.history['longitude'][0]]\n",
    "\n",
    "meto = metocean.Metocean((start_time, end_time))\n",
    "sub_berg = iceberg.quickstart(start_time, (start_latitude, start_longitude), velocity=start_velocity)\n",
    "sub_berg.update_history()\n",
    "\n",
    "for ii in range(len(ref_berg.history['time'])-1):\n",
    "\n",
    "    start_time = sub_berg.history['time'][-1]\n",
    "    start_latitude = sub_berg.history['latitude'][-1]\n",
    "    start_longitude = sub_berg.history['longitude'][-1]\n",
    "    start_velocity = (sub_berg.eastward_velocity, sub_berg.northward_velocity)\n",
    "\n",
    "    del sub_ref_berg\n",
    "\n",
    "    indxi = ii\n",
    "    dindx = 1\n",
    "    indxf = ii + dindx\n",
    "\n",
    "    sub_ref_berg = copy.deepcopy(ref_berg)\n",
    "    sub_ref_berg.history['time'] = sub_ref_berg.history['time'][indxi : indxf + 1]\n",
    "    sub_ref_berg.history['latitude'] = sub_ref_berg.history['latitude'][indxi : indxf + 1]\n",
    "    sub_ref_berg.history['longitude'] = sub_ref_berg.history['longitude'][indxi : indxf + 1]\n",
    "\n",
    "    end_time = sub_ref_berg.history['time'][dindx]\n",
    "    time_info = (time_step, end_time)\n",
    "\n",
    "    optimization_result = minimize(optimization_wrapper, x0=(1, 1), bounds=((0, 5), (0, 5)), \n",
    "                                   args=(sub_ref_berg, (start_time, start_latitude, start_longitude, start_velocity), \n",
    "                                         meto, time_info), callback=callback)\n",
    "    \n",
    "    del sub_berg\n",
    "    \n",
    "    sub_berg = drift_wrapper((start_time, start_latitude, start_longitude, start_velocity), \n",
    "                          meto, time_info, Ca=optimization_result.x[0], Cw=optimization_result.x[1])\n",
    "\n",
    "    sub_berg.update_history()\n",
    "\n",
    "    sub_berg_list.append(sub_berg)\n",
    "    sub_ref_berg_list.append(ref_berg)\n",
    "\n",
    "fig = plt.figure(figsize=(10,5))\n",
    "\n",
    "plt.scatter(ref_berg.history['longitude'], ref_berg.history['latitude'], s=10, label='beacon')\n",
    "plt.legend()\n",
    "plt.xlabel('Longitude')\n",
    "plt.ylabel('Latitude')\n",
    "plt.title('Beacon Drift Track')\n",
    "\n",
    "for berg in sub_berg_list:\n",
    "    \n",
    "    plt.scatter(berg.history['longitude'], berg.history['latitude'], s=2)\n"
   ]
  },
  {
   "cell_type": "markdown",
   "metadata": {},
   "source": [
    "# Overlay currents and winds plot"
   ]
  },
  {
   "cell_type": "code",
   "execution_count": 46,
   "metadata": {},
   "outputs": [],
   "source": [
    "df = get_df(dir_path, csv_filenames[2])\n",
    "\n",
    "start_index = 1100\n",
    "end_index = 1120\n",
    "\n",
    "ref_berg = create_ref_berg_from_df(df, start_index, end_index)\n",
    "\n",
    "start_time = np.datetime64(df.DataDate_UTC[start_index])\n",
    "end_time = np.datetime64(df.DataDate_UTC[end_index])\n",
    "\n",
    "meto = metocean.Metocean((start_time, end_time))\n",
    "\n",
    "start_latitude = df.Latitude[start_index]\n",
    "start_longitude = df.Longitude[start_index]\n",
    "start_velocity = get_iceberg_velocity_from_dataframe(df, start_index, start_index + 10)\n",
    "\n",
    "#berg = iceberg.quickstart(start_time, (start_latitude, start_longitude), velocity=start_velocity)\n",
    "berg_inits = (start_time, start_latitude, start_longitude, start_velocity)\n",
    "\n",
    "time_step = np.timedelta64(360, 's')\n",
    "#dt = time_step.item().total_seconds(); #nt = int((end_time - start_time) / time_step)\n",
    "time_info = (time_step, end_time)"
   ]
  },
  {
   "cell_type": "code",
   "execution_count": 47,
   "metadata": {},
   "outputs": [],
   "source": [
    "def drift_wrapper2(berg_inits, meto, time_info, **kwargs):\n",
    "    \n",
    "    start_time, start_latitude, start_longitude, start_velocity = berg_inits\n",
    "    \n",
    "    berg = iceberg.quickstart(start_time, (start_latitude, start_longitude), \n",
    "                              velocity=start_velocity)\n",
    "            \n",
    "    time_step, end_time = time_info\n",
    "    dt = time_step.item().total_seconds()\n",
    "\n",
    "    berg_constants = {\n",
    "    'form_drag_coefficient_in_air': kwargs.pop('Ca', berg.FORM_DRAG_COEFFICIENT_IN_AIR),\n",
    "    'form_drag_coefficient_in_water': kwargs.pop('Cw', berg.FORM_DRAG_COEFFICIENT_IN_WATER),\n",
    "    'skin_drag_coefficient_in_air': berg.SKIN_DRAG_COEFFICIENT_IN_AIR,\n",
    "    'skin_drag_coefficient_in_water': berg.SKIN_DRAG_COEFFICIENT_IN_WATER,\n",
    "    'sail_area': berg.geometry.sail_area,\n",
    "    'keel_area': berg.geometry.keel_area,\n",
    "    'top_area': berg.geometry.waterline_length**2,\n",
    "    'bottom_area': 0,\n",
    "    'mass': berg.geometry.mass,\n",
    "    'latitude': berg.latitude\n",
    "    }\n",
    "        \n",
    "    point = (berg.time, berg.latitude, berg.longitude)\n",
    "    \n",
    "    current_velocity = (meto.interpolate(point, meto.ocean.eastward_current_velocities),\n",
    "                        meto.interpolate(point, meto.ocean.northward_current_velocities))\n",
    "\n",
    "    wind_velocity = (meto.interpolate(point, meto.atmosphere.eastward_wind_velocities),\n",
    "                     meto.interpolate(point, meto.atmosphere.northward_wind_velocities))\n",
    "    \n",
    "    current_velocity_history = [current_velocity]\n",
    "    wind_velocity_history = [wind_velocity]\n",
    "\n",
    "    while berg.time < end_time - time_step:\n",
    "        \n",
    "        berg.update_history()\n",
    "\n",
    "        ax, ay = drift.newtonian_drift((berg.eastward_velocity, berg.northward_velocity), \n",
    "                                 current_velocity, wind_velocity, \n",
    "                                 berg_constants)\n",
    "\n",
    "        berg.time += time_step\n",
    "        berg.eastward_velocity += ax * dt\n",
    "        berg.northward_velocity += ay * dt\n",
    "        berg.latitude += tools.dy_to_dlat(berg.northward_velocity * dt)\n",
    "        berg.longitude += tools.dx_to_dlon(berg.eastward_velocity * dt, berg.latitude)\n",
    "\n",
    "        point = (berg.time, berg.latitude, berg.longitude)\n",
    "\n",
    "        current_velocity = (meto.interpolate(point, meto.ocean.eastward_current_velocities),\n",
    "                            meto.interpolate(point, meto.ocean.northward_current_velocities))\n",
    "\n",
    "        wind_velocity = (meto.interpolate(point, meto.atmosphere.eastward_wind_velocities),\n",
    "                         meto.interpolate(point, meto.atmosphere.northward_wind_velocities))\n",
    "\n",
    "        current_velocity_history.append(current_velocity)\n",
    "        wind_velocity_history.append(wind_velocity)\n",
    "        \n",
    "        berg_constants['latitude'] = berg.latitude\n",
    "        \n",
    "    berg.update_history()\n",
    "            \n",
    "    return berg, current_velocity_history, wind_velocity_history"
   ]
  },
  {
   "cell_type": "code",
   "execution_count": 48,
   "metadata": {},
   "outputs": [],
   "source": [
    "berg, current_velocity_history, wind_velocity_history = drift_wrapper2(berg_inits, meto, time_info)"
   ]
  },
  {
   "cell_type": "code",
   "execution_count": 49,
   "metadata": {},
   "outputs": [],
   "source": [
    "current_u = [u for u,v in current_velocity_history]\n",
    "current_v = [v for u,v in current_velocity_history]\n",
    "current_magnitude = [np.sqrt(u**2 + v**2) for u,v in current_velocity_history]\n",
    "wind_u = [u for u,v in wind_velocity_history]\n",
    "wind_v = [v for u,v in wind_velocity_history]\n",
    "wind_magnitude = [np.sqrt(u**2 + v**2) for u,v in wind_velocity_history]\n",
    "berg_lons = berg.history['longitude']\n",
    "berg_lats = berg.history['latitude']\n",
    "ref_berg_lons = ref_berg.history['longitude']\n",
    "ref_berg_lats = ref_berg.history['latitude']"
   ]
  },
  {
   "cell_type": "code",
   "execution_count": 51,
   "metadata": {},
   "outputs": [
    {
     "data": {
      "image/png": "[encoded data removed]",
      "text/plain": [
       "<Figure size 720x360 with 1 Axes>"
      ]
     },
     "metadata": {},
     "output_type": "display_data"
    }
   ],
   "source": [
    "fig = plt.figure(figsize=(10,5))\n",
    "\n",
    "plt.scatter(berg_lons, berg_lats, s=2)\n",
    "#plt.scatter(ref_berg_lons, ref_berg_lats, marker='x', c='black')\n",
    "\n",
    "plt.quiver(berg_lons[::10], berg_lats[::10], current_u[::10], current_v[::10], color='red', label='current')\n",
    "plt.quiver(berg_lons[::10], berg_lats[::10], wind_u[::10], wind_v[::10], color='blue', label='wind')\n",
    "plt.xlabel('Longitude')\n",
    "plt.ylabel('Latitude')\n",
    "plt.legend()\n",
    "plt.show()"
   ]
  },
  {
   "cell_type": "code",
   "execution_count": null,
   "metadata": {},
   "outputs": [],
   "source": []
  }
 ],
 "metadata": {
  "kernelspec": {
   "display_name": "Python 3",
   "language": "python",
   "name": "python3"
  },
  "language_info": {
   "codemirror_mode": {
    "name": "ipython",
    "version": 3
   },
   "file_extension": ".py",
   "mimetype": "text/x-python",
   "name": "python",
   "nbconvert_exporter": "python",
   "pygments_lexer": "ipython3",
   "version": "3.6.5"
  }
 },
 "nbformat": 4,
 "nbformat_minor": 2
}
