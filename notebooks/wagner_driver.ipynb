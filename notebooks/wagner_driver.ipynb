{
 "cells": [
  {
   "cell_type": "code",
   "execution_count": 1,
   "metadata": {
    "collapsed": true
   },
   "outputs": [],
   "source": [
    "import numpy as np\n",
    "import os\n",
    "\n",
    "import matplotlib.pyplot as plt\n",
    "%matplotlib inline\n",
    "plt.style.use('default')\n",
    "from matplotlib.backends.backend_pdf import PdfPages\n",
    "\n",
    "from scipy.stats import truncnorm\n",
    "from datetime import datetime, timedelta\n",
    "import netCDF4 as nc"
   ]
  },
  {
   "cell_type": "code",
   "execution_count": 2,
   "metadata": {},
   "outputs": [],
   "source": [
    "import sys, inspect\n",
    "currentdir = os.path.dirname(os.path.abspath(inspect.getfile(inspect.currentframe())))\n",
    "parentdir = os.path.dirname(currentdir)\n",
    "sys.path.insert(0,parentdir) "
   ]
  },
  {
   "cell_type": "code",
   "execution_count": 3,
   "metadata": {},
   "outputs": [],
   "source": [
    "from icedef import wagner\n",
    "from icedef.iceberg import get_iip_df, add_datetime_column, get_time_dense_df, Iceberg\n",
    "from icedef.metocean import Metocean, ECMWF_Ocean, ECMWF_Atm\n",
    "from icedef.plot import animate_winds, animate_currents"
   ]
  },
  {
   "cell_type": "markdown",
   "metadata": {},
   "source": [
    "# Iceberg"
   ]
  },
  {
   "cell_type": "code",
   "execution_count": 4,
   "metadata": {},
   "outputs": [
    {
     "name": "stderr",
     "output_type": "stream",
     "text": [
      "/home/evankielley/IceDEF/icedef/iceberg.py:204: SettingWithCopyWarning: \n",
      "A value is trying to be set on a copy of a slice from a DataFrame.\n",
      "Try using .loc[row_indexer,col_indexer] = value instead\n",
      "\n",
      "See the caveats in the documentation: http://pandas.pydata.org/pandas-docs/stable/indexing.html#indexing-view-versus-copy\n",
      "  iip_df['TIMESTAMP'] += pd.to_timedelta(pd.to_datetime(iip_df['SIGHTING_TIME'], format='%H%M').dt.hour, unit='h')\n",
      "/home/evankielley/IceDEF/icedef/iceberg.py:205: SettingWithCopyWarning: \n",
      "A value is trying to be set on a copy of a slice from a DataFrame.\n",
      "Try using .loc[row_indexer,col_indexer] = value instead\n",
      "\n",
      "See the caveats in the documentation: http://pandas.pydata.org/pandas-docs/stable/indexing.html#indexing-view-versus-copy\n",
      "  iip_df['TIMESTAMP'] += pd.to_timedelta(pd.to_datetime(iip_df['SIGHTING_TIME'], format='%H%M').dt.minute, unit='m')\n"
     ]
    },
    {
     "data": {
      "text/html": [
       "<div>\n",
       "<style>\n",
       "    .dataframe thead tr:only-child th {\n",
       "        text-align: right;\n",
       "    }\n",
       "\n",
       "    .dataframe thead th {\n",
       "        text-align: left;\n",
       "    }\n",
       "\n",
       "    .dataframe tbody tr th {\n",
       "        vertical-align: top;\n",
       "    }\n",
       "</style>\n",
       "<table border=\"1\" class=\"dataframe\">\n",
       "  <thead>\n",
       "    <tr style=\"text-align: right;\">\n",
       "      <th></th>\n",
       "      <th>ICEBERG_NUMBER</th>\n",
       "      <th>ICEBERG_YEAR</th>\n",
       "      <th>SHAPE</th>\n",
       "      <th>SIGHTING_DATE</th>\n",
       "      <th>SIGHTING_LATITUDE</th>\n",
       "      <th>SIGHTING_LONGITUDE</th>\n",
       "      <th>SIGHTING_METHOD</th>\n",
       "      <th>SIGHTING_TIME</th>\n",
       "      <th>SIZE</th>\n",
       "      <th>SOURCE</th>\n",
       "      <th>TIMESTAMP</th>\n",
       "    </tr>\n",
       "  </thead>\n",
       "  <tbody>\n",
       "    <tr>\n",
       "      <th>0</th>\n",
       "      <td>20668</td>\n",
       "      <td>2015</td>\n",
       "      <td>TAB</td>\n",
       "      <td>6/23/2015</td>\n",
       "      <td>47.83</td>\n",
       "      <td>-49.58</td>\n",
       "      <td>R/V</td>\n",
       "      <td>1248</td>\n",
       "      <td>LG</td>\n",
       "      <td>GTJZ</td>\n",
       "      <td>2015-06-23 12:48:00</td>\n",
       "    </tr>\n",
       "    <tr>\n",
       "      <th>1</th>\n",
       "      <td>20668</td>\n",
       "      <td>2015</td>\n",
       "      <td>GEN</td>\n",
       "      <td>6/23/2015</td>\n",
       "      <td>47.82</td>\n",
       "      <td>-49.53</td>\n",
       "      <td>R/V</td>\n",
       "      <td>1643</td>\n",
       "      <td>GEN</td>\n",
       "      <td>GTJZ</td>\n",
       "      <td>2015-06-23 16:43:00</td>\n",
       "    </tr>\n",
       "  </tbody>\n",
       "</table>\n",
       "</div>"
      ],
      "text/plain": [
       "   ICEBERG_NUMBER  ICEBERG_YEAR SHAPE SIGHTING_DATE  SIGHTING_LATITUDE  \\\n",
       "0           20668          2015   TAB     6/23/2015              47.83   \n",
       "1           20668          2015   GEN     6/23/2015              47.82   \n",
       "\n",
       "   SIGHTING_LONGITUDE SIGHTING_METHOD  SIGHTING_TIME SIZE SOURCE  \\\n",
       "0              -49.58             R/V           1248   LG   GTJZ   \n",
       "1              -49.53             R/V           1643  GEN   GTJZ   \n",
       "\n",
       "            TIMESTAMP  \n",
       "0 2015-06-23 12:48:00  \n",
       "1 2015-06-23 16:43:00  "
      ]
     },
     "execution_count": 4,
     "metadata": {},
     "output_type": "execute_result"
    }
   ],
   "source": [
    "iip_df = get_iip_df(2015)\n",
    "iip_df = add_datetime_column(iip_df)\n",
    "iip_dense_df = get_time_dense_df(iip_df, 15)\n",
    "berg_nums, counts = np.unique(iip_dense_df['ICEBERG_NUMBER'].values,return_counts=True)\n",
    "max_obs_berg_num = berg_nums[np.where(counts == max(counts))[0][0]]\n",
    "iip_berg_df = iip_dense_df.loc[iip_dense_df['ICEBERG_NUMBER'] == max_obs_berg_num].reset_index(drop=True)\n",
    "iip_berg_df = iip_berg_df[:2]\n",
    "iip_berg_df"
   ]
  },
  {
   "cell_type": "code",
   "execution_count": 5,
   "metadata": {},
   "outputs": [],
   "source": [
    "iip_berg = Iceberg(iip_berg_df['ICEBERG_NUMBER'].loc[0],\n",
    "                   iip_berg_df['TIMESTAMP'].dt.to_pydatetime()[0],\n",
    "                   iip_berg_df['SIGHTING_LONGITUDE'].loc[0],\n",
    "                   iip_berg_df['SIGHTING_LATITUDE'].loc[0],\n",
    "                   0, 0, iip_berg_df['SIZE'].loc[0], iip_berg_df['SHAPE'].loc[0])"
   ]
  },
  {
   "cell_type": "code",
   "execution_count": 6,
   "metadata": {},
   "outputs": [],
   "source": [
    "iip_berg.history['T'] = iip_berg_df['TIMESTAMP'].dt.to_pydatetime()\n",
    "iip_berg.history['X'] = iip_berg_df['SIGHTING_LONGITUDE'].loc[:].tolist()\n",
    "iip_berg.history['Y'] = iip_berg_df['SIGHTING_LATITUDE'].loc[:].tolist()"
   ]
  },
  {
   "cell_type": "markdown",
   "metadata": {},
   "source": [
    "# Metocean"
   ]
  },
  {
   "cell_type": "code",
   "execution_count": 7,
   "metadata": {
    "collapsed": true
   },
   "outputs": [
    {
     "data": {
      "text/plain": [
       "['ftp://data.munroelab.ca/pub/ECMWF/ocean/daily/20150623.nc']"
      ]
     },
     "execution_count": 7,
     "metadata": {},
     "output_type": "execute_result"
    }
   ],
   "source": [
    "ocean_data = ECMWF_Ocean(min(iip_berg.history['X']), max(iip_berg.history['X']),\n",
    "                         min(iip_berg.history['Y']), max(iip_berg.history['Y']),\n",
    "                         iip_berg.history['T'][0], iip_berg.history['T'][-1])\n",
    "ocean_data.filenames"
   ]
  },
  {
   "cell_type": "code",
   "execution_count": 8,
   "metadata": {
    "collapsed": true
   },
   "outputs": [
    {
     "data": {
      "text/plain": [
       "['ftp://data.munroelab.ca/pub/ECMWF/atm/daily/sub20150623.nc']"
      ]
     },
     "execution_count": 8,
     "metadata": {},
     "output_type": "execute_result"
    }
   ],
   "source": [
    "atm_data = ECMWF_Atm(min(iip_berg.history['X']), max(iip_berg.history['X']),\n",
    "                         min(iip_berg.history['Y']), max(iip_berg.history['Y']),\n",
    "                         iip_berg.history['T'][0], iip_berg.history['T'][-1])\n",
    "atm_data.filenames"
   ]
  },
  {
   "cell_type": "markdown",
   "metadata": {},
   "source": [
    "# Driver"
   ]
  },
  {
   "cell_type": "code",
   "execution_count": 17,
   "metadata": {
    "collapsed": false
   },
   "outputs": [
    {
     "name": "stdout",
     "output_type": "stream",
     "text": [
      "Run number: 0\n",
      "Final time: 2015-06-23 16:48:00\n",
      "Run number: 1\n",
      "Final time: 2015-06-23 16:48:00\n",
      "Run number: 2\n",
      "Final time: 2015-06-23 16:48:00\n",
      "Run number: 3\n",
      "Final time: 2015-06-23 16:48:00\n",
      "Run number: 4\n",
      "Final time: 2015-06-23 16:48:00\n",
      "Run number: 5\n",
      "Final time: 2015-06-23 16:48:00\n",
      "Run number: 6\n",
      "Final time: 2015-06-23 16:48:00\n",
      "Run number: 7\n",
      "Final time: 2015-06-23 16:48:00\n",
      "Run number: 8\n",
      "Final time: 2015-06-23 16:48:00\n",
      "Run number: 9\n",
      "Final time: 2015-06-23 16:48:00\n",
      "Run number: 10\n",
      "Final time: 2015-06-23 16:48:00\n",
      "Run number: 11\n",
      "Final time: 2015-06-23 16:48:00\n",
      "Run number: 12\n",
      "Final time: 2015-06-23 16:48:00\n",
      "Run number: 13\n",
      "Final time: 2015-06-23 16:48:00\n",
      "Run number: 14\n",
      "Final time: 2015-06-23 16:48:00\n",
      "Run number: 15\n",
      "Final time: 2015-06-23 16:48:00\n",
      "Run number: 16\n",
      "Final time: 2015-06-23 16:48:00\n",
      "Run number: 17\n",
      "Final time: 2015-06-23 16:48:00\n",
      "Run number: 18\n",
      "Final time: 2015-06-23 16:48:00\n",
      "Run number: 19\n",
      "Final time: 2015-06-23 16:48:00\n",
      "Run number: 20\n",
      "Final time: 2015-06-23 16:48:00\n",
      "Run number: 21\n",
      "Final time: 2015-06-23 16:48:00\n",
      "Run number: 22\n",
      "Final time: 2015-06-23 16:48:00\n",
      "Run number: 23\n",
      "Final time: 2015-06-23 16:48:00\n",
      "Run number: 24\n",
      "Final time: 2015-06-23 16:48:00\n",
      "Run number: 25\n",
      "Final time: 2015-06-23 16:48:00\n",
      "Run number: 26\n",
      "Final time: 2015-06-23 16:48:00\n",
      "Run number: 27\n",
      "Final time: 2015-06-23 16:48:00\n",
      "Run number: 28\n",
      "Final time: 2015-06-23 16:48:00\n",
      "Run number: 29\n",
      "Final time: 2015-06-23 16:48:00\n",
      "Run number: 30\n",
      "Final time: 2015-06-23 16:48:00\n",
      "Run number: 31\n",
      "Final time: 2015-06-23 16:48:00\n",
      "Run number: 32\n",
      "Final time: 2015-06-23 16:48:00\n",
      "Run number: 33\n",
      "Final time: 2015-06-23 16:48:00\n",
      "Run number: 34\n",
      "Final time: 2015-06-23 16:48:00\n",
      "Run number: 35\n",
      "Final time: 2015-06-23 16:48:00\n",
      "Run number: 36\n",
      "Final time: 2015-06-23 16:48:00\n",
      "Run number: 37\n",
      "Final time: 2015-06-23 16:48:00\n",
      "Run number: 38\n",
      "Final time: 2015-06-23 16:48:00\n",
      "Run number: 39\n",
      "Final time: 2015-06-23 16:48:00\n",
      "Run number: 40\n",
      "Final time: 2015-06-23 16:48:00\n",
      "Run number: 41\n",
      "Final time: 2015-06-23 16:48:00\n",
      "Run number: 42\n",
      "Final time: 2015-06-23 16:48:00\n",
      "Run number: 43\n",
      "Final time: 2015-06-23 16:48:00\n",
      "Run number: 44\n",
      "Final time: 2015-06-23 16:48:00\n",
      "Run number: 45\n",
      "Final time: 2015-06-23 16:48:00\n",
      "Run number: 46\n",
      "Final time: 2015-06-23 16:48:00\n",
      "Run number: 47\n",
      "Final time: 2015-06-23 16:48:00\n",
      "Run number: 48\n",
      "Final time: 2015-06-23 16:48:00\n",
      "Run number: 49\n",
      "Final time: 2015-06-23 16:48:00\n"
     ]
    }
   ],
   "source": [
    "earth_radius = 6378*1e3  # radius of Earth  (m)\n",
    "\n",
    "# Run number\n",
    "run_num = 0\n",
    "num_runs = 50\n",
    "mod_berg_list = []\n",
    "\n",
    "\n",
    "# Buffer number for bounding spatial box\n",
    "buf = 0.5\n",
    "\n",
    "\n",
    "for run_num in range(num_runs):\n",
    "\n",
    "    # Create model iceberg\n",
    "    mod_berg = Iceberg(iip_berg.ID, iip_berg.T, iip_berg.X, iip_berg.Y, \n",
    "                   iip_berg.Vx, iip_berg.Vy, \n",
    "                   [iip_berg.length, iip_berg.width, iip_berg.sail_height],\n",
    "                   iip_berg.shape)\n",
    "\n",
    "    # Timesteps\n",
    "    t0 = iip_berg.history['T'][0]\n",
    "    tf = iip_berg.history['T'][-1]\n",
    "    t_delta = tf - t0\n",
    "    t_delta_hours = t_delta.days*24 + t_delta.seconds/3600\n",
    "    t_step_hours = 0.1\n",
    "    t_step = timedelta(hours = t_step_hours)\n",
    "    dt = t_step_hours*3600  # timestep in seconds\n",
    "    t_all = []\n",
    "    for i in np.arange(0, t_delta_hours + t_step_hours, t_step_hours):\n",
    "        new_date = t0 + timedelta(hours=i)\n",
    "        t_all.append(new_date)\n",
    "\n",
    "        \n",
    "    print('Run number: {}'.format(run_num))\n",
    "\n",
    "    for t in t_all:\n",
    "        \n",
    "        mod_berg.T = t\n",
    "\n",
    "        mod_berg.Vx, mod_berg.Vy = wagner.drift(mod_berg, ocean_data, atm_data) \n",
    "    \n",
    "        # Iceberg position (note the conversion from meters back to degrees)\n",
    "        y_ = mod_berg.Y\n",
    "        mod_berg.Y += dt*mod_berg.Vy*(180/(np.pi*earth_radius))  # y-component of iceberg position (degrees latitude)\n",
    "        mod_berg.X += dt*mod_berg.Vx/(np.cos((((y_ + mod_berg.Y)/2)*np.pi)/180))*(180/(np.pi*earth_radius))  # x-component of iceberg position (degrees longitude)\n",
    "        \n",
    "        if mod_berg.X > max(iip_berg.history['X']) + buf:\n",
    "            # Iceberg out-of-bounds\n",
    "            print('out-of-bounds')\n",
    "            break\n",
    "            \n",
    "        elif mod_berg.X < min(iip_berg.history['X']) - buf: \n",
    "            # Iceberg out-of-bounds\n",
    "            print('out-of-bounds')\n",
    "            break\n",
    "            \n",
    "        elif mod_berg.Y > max(iip_berg.history['Y']) + buf:\n",
    "            # Iceberg out-of-bounds\n",
    "            print('out-of-bounds')\n",
    "            break\n",
    "        \n",
    "        elif mod_berg.Y < min(iip_berg.history['Y']) - buf:\n",
    "            # Iceberg out-of-bounds\n",
    "            print('out-of-bounds')\n",
    "            break\n",
    "\n",
    "\n",
    "        else:\n",
    "            mod_berg.history['T'].append(mod_berg.T)\n",
    "            mod_berg.history['X'].append(mod_berg.X)\n",
    "            mod_berg.history['Y'].append(mod_berg.Y)\n",
    "            mod_berg.history['Vx'].append(mod_berg.Vx)\n",
    "            mod_berg.history['Vy'].append(mod_berg.Vy)\n",
    "\n",
    "    print(\"Final time: {}\".format(t)) \n",
    "\n",
    "    mod_berg_list.append(mod_berg)\n",
    "    "
   ]
  },
  {
   "cell_type": "markdown",
   "metadata": {},
   "source": [
    "# Plotting"
   ]
  },
  {
   "cell_type": "code",
   "execution_count": 18,
   "metadata": {
    "collapsed": false
   },
   "outputs": [
    {
     "data": {
      "image/png": "[encoded data removed]",
      "text/plain": [
       "<matplotlib.figure.Figure at 0x7fe12e60bef0>"
      ]
     },
     "metadata": {},
     "output_type": "display_data"
    }
   ],
   "source": [
    "for berg in mod_berg_list:\n",
    "    plt.plot(berg.history['X'], berg.history['Y'])\n",
    "plt.scatter(iip_berg.history['X'], iip_berg.history['Y'], color='black')\n",
    "plt.axis('scaled')\n",
    "plt.savefig('plots/spaghetti_ind{}.png'.format(max_obs_berg_num))"
   ]
  },
  {
   "cell_type": "code",
   "execution_count": null,
   "metadata": {},
   "outputs": [],
   "source": []
  }
 ],
 "metadata": {
  "kernelspec": {
   "display_name": "Python 3",
   "language": "python",
   "name": "python3"
  },
  "language_info": {
   "codemirror_mode": {
    "name": "ipython",
    "version": 3
   },
   "file_extension": ".py",
   "mimetype": "text/x-python",
   "name": "python",
   "nbconvert_exporter": "python",
   "pygments_lexer": "ipython3",
   "version": "3.6.3"
  }
 },
 "nbformat": 4,
 "nbformat_minor": 2
}
