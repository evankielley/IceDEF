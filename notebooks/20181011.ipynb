{
 "cells": [
  {
   "cell_type": "code",
   "execution_count": 1,
   "metadata": {},
   "outputs": [],
   "source": [
    "import numpy as np\n",
    "import pandas as pd\n",
    "import matplotlib.pyplot as plt\n",
    "from matplotlib.backends.backend_pdf import PdfPages\n",
    "import urllib\n",
    "import os\n",
    "import copy\n",
    "from scipy.optimize import minimize\n",
    "\n",
    "from icedef import constants, iceberg, metocean, drift, tools\n",
    "from icedef import statoil_data_2015 as statoil_data"
   ]
  },
  {
   "cell_type": "code",
   "execution_count": 2,
   "metadata": {},
   "outputs": [],
   "source": [
    "from icedef import dev_simulator"
   ]
  },
  {
   "cell_type": "markdown",
   "metadata": {},
   "source": [
    "# Acquire Beacon Data "
   ]
  },
  {
   "cell_type": "code",
   "execution_count": 3,
   "metadata": {},
   "outputs": [],
   "source": [
    "df = statoil_data.get_df(statoil_data.dir_path, statoil_data.csv_filenames[2])"
   ]
  },
  {
   "cell_type": "markdown",
   "metadata": {},
   "source": [
    "# Simulate"
   ]
  },
  {
   "cell_type": "code",
   "execution_count": 4,
   "metadata": {},
   "outputs": [],
   "source": [
    "start_index = 1100\n",
    "end_index = 1120\n",
    "\n",
    "ref_berg = statoil_data.create_ref_berg_from_df(df, start_index, end_index)\n",
    "\n",
    "start_time = np.datetime64(df.DataDate_UTC[start_index])\n",
    "end_time = np.datetime64(df.DataDate_UTC[end_index])\n",
    "\n",
    "meto = metocean.Metocean((start_time, end_time))\n",
    "\n",
    "start_latitude = df.Latitude[start_index]\n",
    "start_longitude = df.Longitude[start_index]\n",
    "start_velocity = statoil_data.get_iceberg_velocity_from_dataframe(df, start_index, start_index + 10)\n",
    "\n",
    "berg = iceberg.quickstart(start_time, (start_latitude, start_longitude), velocity=start_velocity)\n",
    "\n",
    "time_step = np.timedelta64(360, 's')\n",
    "time_info = (time_step, end_time)"
   ]
  },
  {
   "cell_type": "code",
   "execution_count": 5,
   "metadata": {},
   "outputs": [],
   "source": [
    "sim = dev_simulator.Simulator()"
   ]
  },
  {
   "cell_type": "code",
   "execution_count": 6,
   "metadata": {},
   "outputs": [],
   "source": [
    "sim.run_simulation((start_latitude, start_longitude), (start_time, end_time))"
   ]
  },
  {
   "cell_type": "code",
   "execution_count": 7,
   "metadata": {},
   "outputs": [],
   "source": [
    "lats = [lat for lat, lon in sim.results['iceberg_position']]\n",
    "lons = [lon for lat, lon in sim.results['iceberg_position']]"
   ]
  },
  {
   "cell_type": "code",
   "execution_count": 9,
   "metadata": {},
   "outputs": [
    {
     "data": {
      "text/plain": [
       "<matplotlib.collections.PathCollection at 0x7efd20fd36d8>"
      ]
     },
     "execution_count": 9,
     "metadata": {},
     "output_type": "execute_result"
    },
    {
     "data": {
      "image/png": "[encoded data removed]",
      "text/plain": [
       "<Figure size 432x288 with 1 Axes>"
      ]
     },
     "metadata": {},
     "output_type": "display_data"
    }
   ],
   "source": [
    "plt.scatter(lons, lats, s=2)"
   ]
  },
  {
   "cell_type": "code",
   "execution_count": 12,
   "metadata": {},
   "outputs": [
    {
     "data": {
      "image/png": "[encoded data removed]",
      "text/plain": [
       "<Figure size 432x288 with 1 Axes>"
      ]
     },
     "metadata": {},
     "output_type": "display_data"
    }
   ],
   "source": [
    "plt.scatter(berg.history['longitude'], berg.history['latitude'], s=2)\n",
    "plt.scatter(ref_berg.history['longitude'], ref_berg.history['latitude'], s=2)\n",
    "plt.show()"
   ]
  },
  {
   "cell_type": "code",
   "execution_count": 29,
   "metadata": {},
   "outputs": [],
   "source": [
    "def drift_wrapper(berg_inits, meto, time_info, **kwargs):\n",
    "    \n",
    "    force_history = []\n",
    "    metocean_history = []\n",
    "    \n",
    "    start_time, start_latitude, start_longitude, start_velocity = berg_inits\n",
    "    \n",
    "    berg = iceberg.quickstart(start_time, (start_latitude, start_longitude), velocity=start_velocity)\n",
    "            \n",
    "    time_step, end_time = time_info\n",
    "    dt = time_step.item().total_seconds()\n",
    "\n",
    "    berg_constants = {\n",
    "    'form_drag_coefficient_in_air': kwargs.pop('Ca', berg.FORM_DRAG_COEFFICIENT_IN_AIR),\n",
    "    'form_drag_coefficient_in_water': kwargs.pop('Cw', berg.FORM_DRAG_COEFFICIENT_IN_WATER),\n",
    "    'skin_drag_coefficient_in_air': berg.SKIN_DRAG_COEFFICIENT_IN_AIR,\n",
    "    'skin_drag_coefficient_in_water': berg.SKIN_DRAG_COEFFICIENT_IN_WATER,\n",
    "    'sail_area': berg.geometry.sail_area,\n",
    "    'keel_area': berg.geometry.keel_area,\n",
    "    'top_area': berg.geometry.waterline_length**2,\n",
    "    'bottom_area': 0,\n",
    "    'mass': berg.geometry.mass,\n",
    "    'latitude': berg.latitude\n",
    "    }\n",
    "        \n",
    "    point = (berg.time, berg.latitude, berg.longitude)\n",
    "    \n",
    "    current_velocity = (meto.interpolate(point, meto.ocean.eastward_current_velocities),\n",
    "                        meto.interpolate(point, meto.ocean.northward_current_velocities))\n",
    "\n",
    "    wind_velocity = (meto.interpolate(point, meto.atmosphere.eastward_wind_velocities),\n",
    "                     meto.interpolate(point, meto.atmosphere.northward_wind_velocities))\n",
    "\n",
    "    while berg.time < end_time - time_step:\n",
    "        \n",
    "        berg.update_history()\n",
    "\n",
    "        ax, ay, forces = drift.newtonian_drift((berg.eastward_velocity, berg.northward_velocity), \n",
    "                                 current_velocity, wind_velocity, \n",
    "                                 berg_constants)\n",
    "\n",
    "        berg.time += time_step\n",
    "        berg.eastward_velocity += ax * dt\n",
    "        berg.northward_velocity += ay * dt\n",
    "        berg.latitude += tools.dy_to_dlat(berg.northward_velocity * dt)\n",
    "        berg.longitude += tools.dx_to_dlon(berg.eastward_velocity * dt, berg.latitude)\n",
    "\n",
    "        point = (berg.time, berg.latitude, berg.longitude)\n",
    "\n",
    "        current_velocity = (meto.interpolate(point, meto.ocean.eastward_current_velocities),\n",
    "                            meto.interpolate(point, meto.ocean.northward_current_velocities))\n",
    "        \n",
    "        #print(current_velocity)\n",
    "        \n",
    "        wind_velocity = (meto.interpolate(point, meto.atmosphere.eastward_wind_velocities),\n",
    "                         meto.interpolate(point, meto.atmosphere.northward_wind_velocities))\n",
    "\n",
    "        berg_constants['latitude'] = berg.latitude\n",
    "        \n",
    "        force_history.append(forces)\n",
    "        metocean_history.append([current_velocity[0], current_velocity[1], wind_velocity[0], wind_velocity[1]])\n",
    "        \n",
    "    force_history = np.array(force_history)\n",
    "    metocean_history = np.array(metocean_history)\n",
    "            \n",
    "    return berg, forces_mat, metocean_history"
   ]
  },
  {
   "cell_type": "code",
   "execution_count": 38,
   "metadata": {
    "scrolled": true
   },
   "outputs": [
    {
     "data": {
      "image/png": "[encoded data removed]",
      "text/plain": [
       "<Figure size 432x288 with 1 Axes>"
      ]
     },
     "metadata": {},
     "output_type": "display_data"
    }
   ],
   "source": [
    "berg2, force_history2, metocean_history2 = drift_wrapper((start_time, start_latitude, \n",
    "                                                          start_longitude, start_velocity), \n",
    "                                                          meto, time_info, Ca=3, Cw=0.1)\n",
    "\n",
    "berg3, force_history3, metocean_history3 = drift_wrapper((start_time, start_latitude, \n",
    "                                                          start_longitude, start_velocity), \n",
    "                                                          meto, time_info, Ca=0.1, Cw=5)\n",
    "\n",
    "plt.scatter(berg2.history['longitude'], berg2.history['latitude'], s=2, label='iceberg2')\n",
    "plt.scatter(berg3.history['longitude'], berg3.history['latitude'], s=2, label='iceberg3')\n",
    "\n",
    "plt.scatter(ref_berg.history['longitude'], ref_berg.history['latitude'], s=4, label='beacon')\n",
    "plt.legend()\n",
    "plt.xlabel('Longitude')\n",
    "plt.ylabel('Latitude')\n",
    "plt.title('Beacon Drift Track')\n",
    "plt.show()"
   ]
  },
  {
   "cell_type": "code",
   "execution_count": 39,
   "metadata": {},
   "outputs": [
    {
     "data": {
      "image/png": "[encoded data removed]",
      "text/plain": [
       "<Figure size 720x360 with 1 Axes>"
      ]
     },
     "metadata": {},
     "output_type": "display_data"
    }
   ],
   "source": [
    "fig = plt.figure(figsize=(10, 5))\n",
    "\n",
    "plt.plot(force_history2[:, 0], label='Fax2')\n",
    "plt.plot(force_history2[:, 1], label='Fay2')\n",
    "plt.plot(force_history2[:, 2], label='Fwx2')\n",
    "plt.plot(force_history2[:, 3], label='Fwy2')\n",
    "\n",
    "plt.plot(force_history3[:, 0], label='Fax')\n",
    "plt.plot(force_history3[:, 1], label='Fay')\n",
    "plt.plot(force_history3[:, 2], label='Fwx')\n",
    "plt.plot(force_history3[:, 3], label='Fwy')\n",
    "\n",
    "plt.legend()\n",
    "plt.show()\n"
   ]
  },
  {
   "cell_type": "code",
   "execution_count": 35,
   "metadata": {},
   "outputs": [
    {
     "data": {
      "text/plain": [
       "array([  -216.27474285,    222.0127781 ,  -3927.92364372,   4837.0230734 ,\n",
       "       -48224.00600989, -54034.20512337,  34271.66103064,  23887.51415408])"
      ]
     },
     "execution_count": 35,
     "metadata": {},
     "output_type": "execute_result"
    }
   ],
   "source": [
    "force_history2[0]"
   ]
  },
  {
   "cell_type": "code",
   "execution_count": 36,
   "metadata": {},
   "outputs": [
    {
     "data": {
      "text/plain": [
       "array([ 0.06229524, -0.10516791,  4.04055391, -0.01615173])"
      ]
     },
     "execution_count": 36,
     "metadata": {},
     "output_type": "execute_result"
    }
   ],
   "source": [
    "metocean_history2[0]"
   ]
  },
  {
   "cell_type": "code",
   "execution_count": 24,
   "metadata": {},
   "outputs": [
    {
     "data": {
      "text/plain": [
       "array([245241.37132684,   4700.22955076,   5486.97381727,   6097.58111934,\n",
       "       -91461.40714397, -15890.23094921,  39957.90935054,  64715.40355555])"
      ]
     },
     "execution_count": 24,
     "metadata": {},
     "output_type": "execute_result"
    }
   ],
   "source": [
    "forces_mat2[0]"
   ]
  },
  {
   "cell_type": "markdown",
   "metadata": {},
   "source": [
    "# Optimization"
   ]
  },
  {
   "cell_type": "code",
   "execution_count": 8,
   "metadata": {},
   "outputs": [],
   "source": [
    "def optimization_wrapper(form_drag_coefficients, ref_berg, berg_inits, meto, time_info):\n",
    "    \n",
    "    Ca, Cw = form_drag_coefficients\n",
    "    \n",
    "    berg, forces_mat = drift_wrapper(berg_inits, meto, time_info, Ca=Ca, Cw=Cw)\n",
    "    \n",
    "    try:\n",
    "        mse = tools.compute_mse((berg.longitude, berg.latitude, berg.time),\n",
    "                           (ref_berg.history['longitude'], ref_berg.history['latitude'], ref_berg.history['time']),\n",
    "                           ref_berg.history['time'][0] - np.timedelta64(1,'D'))\n",
    "    except:\n",
    "        print(berg2.time)\n",
    "        raise\n",
    "    \n",
    "    return mse\n",
    "\n",
    "\n",
    "def optimization_wrapper2(form_drag_coefficients, ref_berg, berg_inits, meto, time_info):\n",
    "    \n",
    "    Ca, Cw = form_drag_coefficients\n",
    "    obs_vecs = (ref_berg.history['longitude'], ref_berg.history['latitude'], ref_berg.history['time'])\n",
    "    reference_time = ref_berg.history['time'][0] - np.timedelta64(1,'D')\n",
    "    \n",
    "    berg, forces_mat = drift_wrapper(berg_inits, meto, time_info, Ca=Ca, Cw=Cw)\n",
    "    \n",
    "    mse_list = []\n",
    "    \n",
    "    for i in range(len(ref_berg.history['time']) - 1):\n",
    "        \n",
    "        j = np.where((berg.history['time'] <= ref_berg.history['time'][i + 1]))[0][-1]\n",
    "        sim_point = (berg.history['longitude'][j], berg.history['latitude'][j], berg.history['time'][j])\n",
    "        mse = tools.compute_mse(sim_point, obs_vecs, reference_time)\n",
    "        mse_list.append(mse)\n",
    "    \n",
    "    mse = np.mean(np.array(mse_list))\n",
    "    \n",
    "    return mse\n",
    "\n",
    "\n",
    "\n",
    "callback_mses = []\n",
    "callback_Cas = []\n",
    "callback_Cws = []\n",
    "\n",
    "def callback(x):\n",
    "    \n",
    "    result = optimization_wrapper(x, ref_berg, (start_time, start_latitude, start_longitude, start_velocity), \n",
    "                                     meto, time_info)\n",
    "    callback_mses.append(result)\n",
    "    callback_Cas.append(x[0])\n",
    "    callback_Cws.append(x[1])"
   ]
  },
  {
   "cell_type": "code",
   "execution_count": 10,
   "metadata": {},
   "outputs": [
    {
     "data": {
      "text/plain": [
       "      fun: 0.02677430158645897\n",
       " hess_inv: <2x2 LbfgsInvHessProduct with dtype=float64>\n",
       "      jac: array([ 6.15896223e-06, -4.70640887e-05])\n",
       "  message: b'CONVERGENCE: NORM_OF_PROJECTED_GRADIENT_<=_PGTOL'\n",
       "     nfev: 66\n",
       "      nit: 9\n",
       "   status: 0\n",
       "  success: True\n",
       "        x: array([ 0.94699108, 15.        ])"
      ]
     },
     "execution_count": 10,
     "metadata": {},
     "output_type": "execute_result"
    }
   ],
   "source": [
    "optimization_result = minimize(optimization_wrapper, x0=(1, 1), bounds=((0, 15), (0, 15)), \n",
    "                               args=(ref_berg, (start_time, start_latitude, start_longitude, start_velocity), \n",
    "                                     meto, time_info), callback=callback)\n",
    "optimization_result"
   ]
  },
  {
   "cell_type": "code",
   "execution_count": 17,
   "metadata": {},
   "outputs": [
    {
     "data": {
      "image/png": "[encoded data removed]",
      "text/plain": [
       "<Figure size 720x360 with 1 Axes>"
      ]
     },
     "metadata": {},
     "output_type": "display_data"
    }
   ],
   "source": [
    "fig = plt.figure(figsize=(10, 5))\n",
    "\n",
    "berg, forces_mat = drift_wrapper((start_time, start_latitude, start_longitude, start_velocity), meto, time_info, \n",
    "                                 Ca=optimization_result.x[0], Cw=optimization_result.x[1])\n",
    "\n",
    "plt.scatter(berg.history['longitude'], berg.history['latitude'], s=2, label='predicted')\n",
    "\n",
    "plt.scatter(ref_berg.history['longitude'], ref_berg.history['latitude'], s=4, label='observed')\n",
    "plt.legend()\n",
    "plt.xlabel('Longitude')\n",
    "plt.ylabel('Latitude')\n",
    "plt.title('Beacon Drift Track')\n",
    "plt.show()"
   ]
  },
  {
   "cell_type": "markdown",
   "metadata": {},
   "source": [
    "## Over progressively longer time scales"
   ]
  },
  {
   "cell_type": "code",
   "execution_count": 20,
   "metadata": {},
   "outputs": [],
   "source": [
    "del berg\n",
    "del sub_ref_berg"
   ]
  },
  {
   "cell_type": "code",
   "execution_count": 23,
   "metadata": {},
   "outputs": [
    {
     "name": "stdout",
     "output_type": "stream",
     "text": [
      "8.710278747711873e-05 [0.88909182 0.1       ]\n",
      "0.001213095538107258 [0.1        2.20755209]\n",
      "0.0033065334598121384 [ 2.57141015 12.        ]\n",
      "0.005858037258160044 [ 4.24684644 12.        ]\n",
      "0.007756630289437575 [ 0.1 12. ]\n",
      "0.008763554000308428 [ 0.1        10.61797521]\n",
      "0.009581300177706626 [0.1       2.2085455]\n",
      "0.011783786260784468 [0.1        3.91337667]\n",
      "0.012627661980537469 [0.1 0.1]\n",
      "0.013524041938163976 [0.1        4.74334694]\n",
      "0.015247314188629955 [0.99998875 0.99999586]\n",
      "0.016850281683903463 [1.00001013 0.99995831]\n",
      "0.018828427898362924 [0.76354108 0.1       ]\n",
      "0.020808395770083227 [0.97597743 0.1       ]\n",
      "0.023309066157895176 [0.98123181 0.1       ]\n",
      "0.025346286030111343 [1.29637897 0.1       ]\n"
     ]
    },
    {
     "data": {
      "image/png": "[encoded data removed]",
      "text/plain": [
       "<Figure size 720x432 with 1 Axes>"
      ]
     },
     "metadata": {},
     "output_type": "display_data"
    }
   ],
   "source": [
    "fig = plt.figure(figsize=(10, 6))\n",
    "plt.scatter(ref_berg.history['longitude'], ref_berg.history['latitude'], s=9, label='beacon')\n",
    "plt.xlabel('Longitude')\n",
    "plt.ylabel('Latitude')\n",
    "\n",
    "\n",
    "dindx = 1\n",
    "indxi = -1\n",
    "indxf = 0\n",
    "\n",
    "for i in range(1, len(ref_berg.history['time'])):\n",
    "\n",
    "    indxi += dindx\n",
    "    indxf += dindx\n",
    "\n",
    "    sub_ref_berg = copy.deepcopy(ref_berg)\n",
    "    sub_ref_berg.history['time'] = sub_ref_berg.history['time'][indxi : indxf + 1]\n",
    "    sub_ref_berg.history['latitude'] = sub_ref_berg.history['latitude'][indxi : indxf + 1]\n",
    "    sub_ref_berg.history['longitude'] = sub_ref_berg.history['longitude'][indxi : indxf + 1]\n",
    "\n",
    "    start_time = sub_ref_berg.history['time'][0]\n",
    "    end_time = sub_ref_berg.history['time'][-1]\n",
    "    start_latitude = sub_ref_berg.history['latitude'][0]\n",
    "    start_longitude = sub_ref_berg.history['longitude'][0]\n",
    "    start_velocity = statoil_data.get_iceberg_velocity_from_dataframe(df, start_index + indxi - 1, \n",
    "                                                                      start_index + indxf + 1)\n",
    "    time_step = np.timedelta64(300, 's')\n",
    "    time_info = (time_step, end_time)\n",
    "\n",
    "\n",
    "    if i == 1:\n",
    "\n",
    "        optimization_result = minimize(optimization_wrapper, x0=(1, 1), bounds=((0.1, 12), (0.1, 12)), \n",
    "            args=(sub_ref_berg, (start_time, start_latitude, start_longitude, start_velocity), meto, time_info))\n",
    "        \n",
    "        print(optimization_result.fun, optimization_result.x)\n",
    "\n",
    "        berg, forces_mat = drift_wrapper((start_time, start_latitude, start_longitude, start_velocity), \n",
    "                          meto, time_info, Ca=optimization_result.x[0], Cw=optimization_result.x[1])\n",
    "    else:\n",
    "        start_latitude = berg.latitude\n",
    "        start_longitude = berg.longitude\n",
    "        start_velocity = (berg.eastward_velocity, berg.northward_velocity)\n",
    "\n",
    "        optimization_result = minimize(optimization_wrapper, x0=(1, 1), bounds=((0.1, 12), (0.1, 12)), \n",
    "            args=(sub_ref_berg, (start_time, start_latitude, start_longitude, start_velocity), meto, time_info))\n",
    "        \n",
    "        print(optimization_result.fun, optimization_result.x)\n",
    "\n",
    "        berg, forces_mat = drift_wrapper((start_time, start_latitude, start_longitude, start_velocity), \n",
    "                          meto, time_info, Ca=optimization_result.x[0], Cw=optimization_result.x[1])\n",
    "\n",
    "        \n",
    "    berg.update_history()\n",
    "\n",
    "    kberg = np.argmin(abs(berg.history['time'] - end_time))\n",
    "    plt.scatter(berg.history['longitude'][kberg], berg.history['latitude'][kberg], s=30, marker='X', c='black')\n",
    "    plt.scatter(berg.history['longitude'], berg.history['latitude'], s=6, label='model')\n",
    "\n",
    "plt.show()       "
   ]
  }
 ],
 "metadata": {
  "kernelspec": {
   "display_name": "Python 3",
   "language": "python",
   "name": "python3"
  },
  "language_info": {
   "codemirror_mode": {
    "name": "ipython",
    "version": 3
   },
   "file_extension": ".py",
   "mimetype": "text/x-python",
   "name": "python",
   "nbconvert_exporter": "python",
   "pygments_lexer": "ipython3",
   "version": "3.6.5"
  }
 },
 "nbformat": 4,
 "nbformat_minor": 2
}
