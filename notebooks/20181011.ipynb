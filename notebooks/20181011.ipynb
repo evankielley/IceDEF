{
 "cells": [
  {
   "cell_type": "code",
   "execution_count": 1,
   "metadata": {},
   "outputs": [],
   "source": [
    "import numpy as np\n",
    "import xarray as xr\n",
    "import matplotlib.pyplot as plt\n",
    "from scipy.optimize import minimize\n",
    "\n",
    "from icedef import constants, iceberg, metocean, drift, tools, simulator\n",
    "from icedef import statoil_arcticnet_data as statoil_data"
   ]
  },
  {
   "cell_type": "markdown",
   "metadata": {},
   "source": [
    "# Setup Initial Conditions and Reference Track"
   ]
  },
  {
   "cell_type": "code",
   "execution_count": 2,
   "metadata": {},
   "outputs": [],
   "source": [
    "df = statoil_data.get_df(statoil_data.dir_path, statoil_data.csv_filenames[2])\n",
    "\n",
    "start_index = 1100\n",
    "end_index = 1120\n",
    "\n",
    "ref_berg = statoil_data.create_ref_berg_from_df(df, start_index, end_index)\n",
    "ref_lats = xr.DataArray(ref_berg.history['latitude'], coords=[ref_berg.history['time']], dims=['time'])\n",
    "ref_lons = xr.DataArray(ref_berg.history['longitude'], coords=[ref_berg.history['time']], dims=['time'])\n",
    "\n",
    "start_time = np.datetime64(df.DataDate_UTC[start_index])\n",
    "end_time = np.datetime64(df.DataDate_UTC[end_index])\n",
    "\n",
    "start_latitude = df.Latitude[start_index]\n",
    "start_longitude = df.Longitude[start_index]\n",
    "#start_velocity = statoil_data.get_iceberg_velocity_from_dataframe(df, start_index, start_index + 10)\n",
    "start_velocity = (0.06412841, -0.10386169)  # hard-coding initial berg velocity to equal initial current velocity\n",
    "\n",
    "time_step = np.timedelta64(360, 's')\n",
    "time_info = (time_step, end_time)"
   ]
  },
  {
   "cell_type": "markdown",
   "metadata": {},
   "source": [
    "# Run Test Simulation"
   ]
  },
  {
   "cell_type": "code",
   "execution_count": 3,
   "metadata": {},
   "outputs": [
    {
     "data": {
      "image/png": "[encoded data removed]",
      "text/plain": [
       "<Figure size 720x360 with 1 Axes>"
      ]
     },
     "metadata": {},
     "output_type": "display_data"
    }
   ],
   "source": [
    "xds = simulator.run_simulation((start_latitude, start_longitude), (start_time, end_time), \n",
    "                           start_velocity=start_velocity, Ca=1.5, Cw=1.5)\n",
    "\n",
    "fig = plt.figure(figsize=(10, 5))\n",
    "plt.xlabel('Longitude')\n",
    "plt.ylabel('Latitude')\n",
    "plt.scatter(xds['longitude'], xds['latitude'], s=4)\n",
    "plt.scatter(ref_lons, ref_lats, s=4)\n",
    "plt.show()"
   ]
  },
  {
   "cell_type": "markdown",
   "metadata": {},
   "source": [
    "# Optimize Ca and Cw"
   ]
  },
  {
   "cell_type": "code",
   "execution_count": null,
   "metadata": {},
   "outputs": [],
   "source": [
    "optimization_result = simulator.run_optimization((ref_lats[:10], ref_lons[:10]), \n",
    "                                           (start_latitude, start_longitude), \n",
    "                                           (start_time, end_time))\n",
    "\n",
    "optimization_result"
   ]
  },
  {
   "cell_type": "code",
   "execution_count": 5,
   "metadata": {},
   "outputs": [
    {
     "data": {
      "image/png": "[encoded data removed]",
      "text/plain": [
       "<Figure size 720x360 with 1 Axes>"
      ]
     },
     "metadata": {},
     "output_type": "display_data"
    }
   ],
   "source": [
    "Ca, Cw = optimization_result.x\n",
    "\n",
    "xds = simulator.run_simulation((start_latitude, start_longitude), (start_time, end_time), \n",
    "                                start_velocity=start_velocity, Ca=Ca, Cw=Cw)\n",
    "\n",
    "fig = plt.figure(figsize=(10, 5))\n",
    "plt.xlabel('Longitude')\n",
    "plt.ylabel('Latitude')\n",
    "plt.scatter(xds['longitude'], xds['latitude'], s=4)\n",
    "plt.scatter(ref_lons, ref_lats, s=4)\n",
    "plt.show()"
   ]
  },
  {
   "cell_type": "code",
   "execution_count": null,
   "metadata": {},
   "outputs": [],
   "source": []
  }
 ],
 "metadata": {
  "kernelspec": {
   "display_name": "Python 3",
   "language": "python",
   "name": "python3"
  },
  "language_info": {
   "codemirror_mode": {
    "name": "ipython",
    "version": 3
   },
   "file_extension": ".py",
   "mimetype": "text/x-python",
   "name": "python",
   "nbconvert_exporter": "python",
   "pygments_lexer": "ipython3",
   "version": "3.6.5"
  }
 },
 "nbformat": 4,
 "nbformat_minor": 2
}
