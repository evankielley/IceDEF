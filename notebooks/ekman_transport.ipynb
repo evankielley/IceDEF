{
 "cells": [
  {
   "cell_type": "markdown",
   "metadata": {},
   "source": [
    "## Coriolis Force"
   ]
  },
  {
   "cell_type": "markdown",
   "metadata": {},
   "source": [
    "The Coriolis Force in the $x$ and $y$ directions is defined as:\n",
    "\n",
    "$$\\frac{1}{\\rho}\\frac{\\partial \\tau_x}{\\partial z} = -fv$$\n",
    "$$\\frac{1}{\\rho}\\frac{\\partial \\tau_y}{\\partial z} = -fu$$\n",
    "\n",
    "where $\\tau$ is the wind stress, $\\rho$ is the density, $u$ is the East-West velocity, and $v$ is the North-South velocity. <br /><br />\n",
    "\n",
    "Integrating over the entire Ekman layer:\n",
    "\n",
    "$$\\tau_x = -M_y f$$\n",
    "$$\\tau_y = -M_x f$$\n",
    "\n",
    "where:\n",
    "\n",
    "$$M_x = \\int_0^z \\rho u dz$$\n",
    "$$M_y = \\int_0^z \\rho v dz$$\n",
    "\n",
    "Here $M_x$ and $M_y$ represent the zonal and meridional mass transport terms with units of mass per unit time per unit length. Contrarily to common logic, north-south winds cause mass transport in the East-West direction. <br /><br />\n",
    "\n",
    "Rewriting in terms of the vertical eddy viscosity term:\n",
    "\n",
    "$$\\frac{\\partial \\tau_x}{\\partial z} = \\rho A_z \\frac{\\partial^2 u}{\\partial z^2}$$\n",
    "$$\\frac{\\partial \\tau_y}{\\partial z} = \\rho A_z \\frac{\\partial^2 v}{\\partial z^2}$$\n",
    "\n",
    "where $A_z$ is the vertical eddy viscosity coefficient.<br /><br />\n",
    "\n",
    "This gives a set of differential equations of the form:\n",
    "\n",
    "$$A_z \\frac{\\partial^2 u}{\\partial z^2} = -fv$$\n",
    "$$A_z \\frac{\\partial^2 v}{\\partial z^2} = -fu$$\n",
    "\n",
    "with boundary conditions:\n",
    "\n",
    "<ul>\n",
    "  <li> $(u,v) \\to 0$ as $z \\to \\infty$\n",
    "  <li> friction equals wind stress at the free surface ($z=0$)\n",
    "</ul>\n",
    "\n",
    "If we assume wind is blowing in the y-direction only, this simplifies to:\n",
    "\n",
    "$$u_E = \\pm V_0 cos(\\frac{\\pi}{4} + \\frac{\\pi}{D_E} z) e^{\\frac{\\pi}{D_E} z}$$\n",
    "$$u_E = V_0 sin(\\frac{\\pi}{4} + \\frac{\\pi}{D_E} z) e^{\\frac{\\pi}{D_E} z}$$\n",
    "\n",
    "where:\n",
    "<ul>\n",
    "<li> $u_E$ and $v_E$ represent Ekman transport in the $u$ and $v$ directions\n",
    "<li> the plus-minus sign refers to positive in the Northern and negative in the Southern hemisphere\n",
    "$$V_0 = \\frac{\\sqrt{2} \\pi \\tau}{D_E \\rho |f|}$$\n",
    "<li> $\\tau$ is the wind stress at the sea surface\n",
    "$$D_E = \\pi (\\frac{2 A_z}{|f|})^{1/2}$$\n",
    "</ul>"
   ]
  },
  {
   "cell_type": "code",
   "execution_count": 2,
   "metadata": {},
   "outputs": [],
   "source": [
    "import numpy as np"
   ]
  },
  {
   "cell_type": "code",
   "execution_count": 37,
   "metadata": {},
   "outputs": [
    {
     "data": {
      "text/plain": [
       "(0.08469550329666416, 0.06327521715741101)"
      ]
     },
     "execution_count": 37,
     "metadata": {},
     "output_type": "execute_result"
    }
   ],
   "source": [
    "u_wind = 10\n",
    "v_wind = 5\n",
    "\n",
    "rho_air = 1.225  # density of air (kg/m^3)\n",
    "rho_water = 1028  # density of seawater (kg/m^3)\n",
    "Cd =  1.3e-3 # ranges from (1.1 - 1.5) x 10^-3\n",
    "Omega = 7.2910e-5  # rotation rate of Earth (s^-1)\n",
    "Az = 5e-2   # m^2 s^−1;\n",
    "\n",
    "phi = 50  # latitude (degrees)\n",
    "f = lambda phi : 2 * Omega * np.sin(phi)  # Coriolis parameter\n",
    "\n",
    "tau_x = lambda U, V : rho_air * Cd * U * np.sqrt(U**2 + V**2)  # wind stress x-component\n",
    "tau_y = lambda U, V : rho_air * Cd * V * np.sqrt(U**2 + V**2)  # wind stress y-component\n",
    "\n",
    "\n",
    "V0x = tau_x(u_wind, v_wind) / np.sqrt(rho_water**2 * np.abs(f(phi)) * Az)\n",
    "V0y = tau_y(u_wind, v_wind) / np.sqrt(rho_water**2 * np.abs(f(phi)) * Az)\n",
    "V0 = np.sqrt(V0x**2 + V0y**2)\n",
    "\n",
    "a = np.sqrt(abs(f(phi))/(2 * Az))\n",
    "\n",
    "z = 10\n",
    "u_ekman = V0 * np.exp(a * z) * np.cos(np.pi / 4 + a * z) * np.cos(np.arctan(V0y / V0x))\n",
    "v_ekman = V0 * np.exp(a * z) * np.sin(np.pi / 4 + a * z) * np.sin(np.arctan(V0y / V0x))\n",
    "\n",
    "u_ekm,v "
   ]
  },
  {
   "cell_type": "code",
   "execution_count": null,
   "metadata": {},
   "outputs": [],
   "source": []
  },
  {
   "cell_type": "code",
   "execution_count": null,
   "metadata": {},
   "outputs": [],
   "source": []
  },
  {
   "cell_type": "code",
   "execution_count": null,
   "metadata": {},
   "outputs": [],
   "source": []
  },
  {
   "cell_type": "markdown",
   "metadata": {},
   "source": [
    "# From Advanced Ocean Modeling"
   ]
  },
  {
   "cell_type": "code",
   "execution_count": 3,
   "metadata": {},
   "outputs": [],
   "source": [
    "# Constants\n",
    "\n",
    "Omega = 7.2925e-5  # rotation rate of Earth (rad/s)\n",
    "phi = 50  # latitude (degrees)\n",
    "f = 2 * Omega * np.sin(phi)  # Coriolis parameter\n",
    "rho_ocean = 1028  # density of the ocean (kg/m^3)\n",
    "rho_air = 1.225  # density of the air (kg/m^3)\n",
    "Az = 1  # vertical eddy viscosity coefficient (m^2/s)"
   ]
  },
  {
   "cell_type": "code",
   "execution_count": 4,
   "metadata": {},
   "outputs": [],
   "source": [
    "# Wind field\n",
    "\n",
    "u_wind = np.ones((10, 10))\n",
    "v_wind = np.ones((10, 10))\n",
    "\n"
   ]
  },
  {
   "cell_type": "code",
   "execution_count": 5,
   "metadata": {},
   "outputs": [],
   "source": [
    "def init():\n",
    "    \n",
    "    nz = 500  # number of vertical grid points\n",
    "    u = np.zeros(nz)  # horizontal velocity at time level n\n",
    "    v = np.zeros(nz)  # horizontal velocity at time level n+1\n",
    "    az = np.ones(nz)  # vertical eddy viscosity\n",
    "    \n",
    "    dz = 1.0  # vertical grid spacing is 1 metre\n",
    "    dt = 5.0  # time step is 5 seconds\n",
    "    rho = 1028.0  # typical seawater density\n",
    "    taux = 0.0  # east-west wind stress disabled\n",
    "    tauy = 0.5  # southerly wind stress is set to 0.5 Pa\n",
    "    f = 1e-4  # Coriolis parameter\n",
    "\n",
    "    alpha = dt*f\n",
    "    beta = 0.25*alpha*alpha"
   ]
  },
  {
   "cell_type": "code",
   "execution_count": 6,
   "metadata": {},
   "outputs": [],
   "source": [
    "def eddy():\n",
    "    \n",
    "    az0 = 5e-2  # uniform eddy viscosity\n",
    "    winmix = 1e-1  # value near sea surface\n",
    "    azmin = 4e-3  # local minimum value of eddy viscosity\n",
    "    zlength = 2.0  # Prandtl mixing length\n",
    "    \n",
    "    az = az * az0"
   ]
  },
  {
   "cell_type": "code",
   "execution_count": 7,
   "metadata": {},
   "outputs": [],
   "source": [
    "def dyn():\n",
    "    \n",
    "    a = alpha\n",
    "    b = 1.0 - beta\n",
    "    c = 1.0 + beta\n",
    "    \n",
    "    # surface boundary conditions\n",
    "\n",
    "    atop = 0.5*(az[0]+az[1])\n",
    "    u[0] = u[1] + dz * taux / rho / atop\n",
    "    v[0] = v[1] + dz * tauy / rho / atop\n",
    "    \n",
    "    for i in range(1, nz):\n",
    "        \n",
    "        atop = 0.5*(az[i-1]+az[i])\n",
    "        abot = 0.5*(az[i]+az[i+1])\n",
    "        diffu = dt * (atop * (u[i-1] - u[i]) / dz - abot * (u[i] - u[i+1]) / dz) / dz\n",
    "        diffv = dt * (atop * (v[i-1] - v[i]) / dz - abot * (v[i] - v[i+1]) / dz) / dz\n",
    "        un[i] = (b * u[i] + a * v[i] + 0.5 * a * diffv + diffu) / c\n",
    "        vn[i] = (b * v[i] - a * u[i] - 0.5 * a * diffu + diffv) / c\n",
    "        \n",
    "    # bottom boundary conditions (no stress)\n",
    "    un[nz+1] = un[nz]\n",
    "    vn[nz+1] = vn[nz]"
   ]
  },
  {
   "cell_type": "code",
   "execution_count": 27,
   "metadata": {},
   "outputs": [
    {
     "name": "stderr",
     "output_type": "stream",
     "text": [
      "/opt/anaconda3/lib/python3.6/site-packages/ipykernel_launcher.py:45: RuntimeWarning: overflow encountered in double_scalars\n",
      "/opt/anaconda3/lib/python3.6/site-packages/ipykernel_launcher.py:54: RuntimeWarning: invalid value encountered in double_scalars\n",
      "/opt/anaconda3/lib/python3.6/site-packages/ipykernel_launcher.py:53: RuntimeWarning: invalid value encountered in double_scalars\n",
      "/opt/anaconda3/lib/python3.6/site-packages/ipykernel_launcher.py:44: RuntimeWarning: invalid value encountered in double_scalars\n",
      "/opt/anaconda3/lib/python3.6/site-packages/ipykernel_launcher.py:45: RuntimeWarning: divide by zero encountered in double_scalars\n",
      "/opt/anaconda3/lib/python3.6/site-packages/ipykernel_launcher.py:52: RuntimeWarning: invalid value encountered in double_scalars\n"
     ]
    },
    {
     "ename": "KeyboardInterrupt",
     "evalue": "",
     "output_type": "error",
     "traceback": [
      "\u001b[0;31m---------------------------------------------------------------------------\u001b[0m",
      "\u001b[0;31mKeyboardInterrupt\u001b[0m                         Traceback (most recent call last)",
      "\u001b[0;32m<ipython-input-27-108314694d6f>\u001b[0m in \u001b[0;36m<module>\u001b[0;34m()\u001b[0m\n\u001b[1;32m     49\u001b[0m         \u001b[0matop\u001b[0m \u001b[0;34m=\u001b[0m \u001b[0;36m0.5\u001b[0m\u001b[0;34m*\u001b[0m\u001b[0;34m(\u001b[0m\u001b[0maz\u001b[0m\u001b[0;34m[\u001b[0m\u001b[0mi\u001b[0m\u001b[0;34m-\u001b[0m\u001b[0;36m1\u001b[0m\u001b[0;34m]\u001b[0m \u001b[0;34m+\u001b[0m \u001b[0maz\u001b[0m\u001b[0;34m[\u001b[0m\u001b[0mi\u001b[0m\u001b[0;34m]\u001b[0m\u001b[0;34m)\u001b[0m\u001b[0;34m\u001b[0m\u001b[0m\n\u001b[1;32m     50\u001b[0m         \u001b[0mabot\u001b[0m \u001b[0;34m=\u001b[0m \u001b[0;36m0.5\u001b[0m\u001b[0;34m*\u001b[0m\u001b[0;34m(\u001b[0m\u001b[0maz\u001b[0m\u001b[0;34m[\u001b[0m\u001b[0mi\u001b[0m\u001b[0;34m]\u001b[0m \u001b[0;34m+\u001b[0m \u001b[0maz\u001b[0m\u001b[0;34m[\u001b[0m\u001b[0mi\u001b[0m\u001b[0;34m+\u001b[0m\u001b[0;36m1\u001b[0m\u001b[0;34m]\u001b[0m\u001b[0;34m)\u001b[0m\u001b[0;34m\u001b[0m\u001b[0m\n\u001b[0;32m---> 51\u001b[0;31m         \u001b[0mdiffu\u001b[0m \u001b[0;34m=\u001b[0m \u001b[0mdt\u001b[0m \u001b[0;34m*\u001b[0m \u001b[0;34m(\u001b[0m\u001b[0matop\u001b[0m \u001b[0;34m*\u001b[0m \u001b[0;34m(\u001b[0m\u001b[0mu\u001b[0m\u001b[0;34m[\u001b[0m\u001b[0mi\u001b[0m\u001b[0;34m-\u001b[0m\u001b[0;36m1\u001b[0m\u001b[0;34m]\u001b[0m \u001b[0;34m-\u001b[0m \u001b[0mu\u001b[0m\u001b[0;34m[\u001b[0m\u001b[0mi\u001b[0m\u001b[0;34m]\u001b[0m\u001b[0;34m)\u001b[0m \u001b[0;34m/\u001b[0m \u001b[0mdz\u001b[0m \u001b[0;34m-\u001b[0m \u001b[0mabot\u001b[0m \u001b[0;34m*\u001b[0m \u001b[0;34m(\u001b[0m\u001b[0mu\u001b[0m\u001b[0;34m[\u001b[0m\u001b[0mi\u001b[0m\u001b[0;34m]\u001b[0m \u001b[0;34m-\u001b[0m \u001b[0mu\u001b[0m\u001b[0;34m[\u001b[0m\u001b[0mi\u001b[0m\u001b[0;34m+\u001b[0m\u001b[0;36m1\u001b[0m\u001b[0;34m]\u001b[0m\u001b[0;34m)\u001b[0m \u001b[0;34m/\u001b[0m \u001b[0mdz\u001b[0m\u001b[0;34m)\u001b[0m \u001b[0;34m/\u001b[0m \u001b[0mdz\u001b[0m\u001b[0;34m\u001b[0m\u001b[0m\n\u001b[0m\u001b[1;32m     52\u001b[0m         \u001b[0mdiffv\u001b[0m \u001b[0;34m=\u001b[0m \u001b[0mdt\u001b[0m \u001b[0;34m*\u001b[0m \u001b[0;34m(\u001b[0m\u001b[0matop\u001b[0m \u001b[0;34m*\u001b[0m \u001b[0;34m(\u001b[0m\u001b[0mv\u001b[0m\u001b[0;34m[\u001b[0m\u001b[0mi\u001b[0m\u001b[0;34m-\u001b[0m\u001b[0;36m1\u001b[0m\u001b[0;34m]\u001b[0m \u001b[0;34m-\u001b[0m \u001b[0mv\u001b[0m\u001b[0;34m[\u001b[0m\u001b[0mi\u001b[0m\u001b[0;34m]\u001b[0m\u001b[0;34m)\u001b[0m \u001b[0;34m/\u001b[0m \u001b[0mdz\u001b[0m \u001b[0;34m-\u001b[0m \u001b[0mabot\u001b[0m \u001b[0;34m*\u001b[0m \u001b[0;34m(\u001b[0m\u001b[0mv\u001b[0m\u001b[0;34m[\u001b[0m\u001b[0mi\u001b[0m\u001b[0;34m]\u001b[0m \u001b[0;34m-\u001b[0m \u001b[0mv\u001b[0m\u001b[0;34m[\u001b[0m\u001b[0mi\u001b[0m\u001b[0;34m+\u001b[0m\u001b[0;36m1\u001b[0m\u001b[0;34m]\u001b[0m\u001b[0;34m)\u001b[0m \u001b[0;34m/\u001b[0m \u001b[0mdz\u001b[0m\u001b[0;34m)\u001b[0m \u001b[0;34m/\u001b[0m \u001b[0mdz\u001b[0m\u001b[0;34m\u001b[0m\u001b[0m\n\u001b[1;32m     53\u001b[0m         \u001b[0mun\u001b[0m\u001b[0;34m[\u001b[0m\u001b[0mi\u001b[0m\u001b[0;34m+\u001b[0m\u001b[0;36m1\u001b[0m\u001b[0;34m]\u001b[0m \u001b[0;34m=\u001b[0m \u001b[0;34m(\u001b[0m\u001b[0mb\u001b[0m \u001b[0;34m*\u001b[0m \u001b[0mu\u001b[0m\u001b[0;34m[\u001b[0m\u001b[0mi\u001b[0m\u001b[0;34m]\u001b[0m \u001b[0;34m+\u001b[0m \u001b[0ma\u001b[0m \u001b[0;34m*\u001b[0m \u001b[0mv\u001b[0m\u001b[0;34m[\u001b[0m\u001b[0mi\u001b[0m\u001b[0;34m]\u001b[0m \u001b[0;34m+\u001b[0m \u001b[0;36m0.5\u001b[0m \u001b[0;34m*\u001b[0m \u001b[0ma\u001b[0m \u001b[0;34m*\u001b[0m \u001b[0mdiffv\u001b[0m \u001b[0;34m+\u001b[0m \u001b[0mdiffu\u001b[0m\u001b[0;34m)\u001b[0m \u001b[0;34m/\u001b[0m \u001b[0mc\u001b[0m\u001b[0;34m\u001b[0m\u001b[0m\n",
      "\u001b[0;31mKeyboardInterrupt\u001b[0m: "
     ]
    }
   ],
   "source": [
    "# Init\n",
    "\n",
    "nz = 500  # number of vertical grid points\n",
    "u = np.zeros(nz); v = np.zeros(nz)  # horizontal velocity at time level n\n",
    "un = np.zeros(nz); vn = np.zeros(nz)  # horizontal velocity at time level n+1\n",
    "az = np.ones(nz)  # vertical eddy viscosity\n",
    "\n",
    "dz = 1.0  # vertical grid spacing is 1 metre\n",
    "dt = 5.0  # time step is 5 seconds\n",
    "rho = 1028.0  # typical seawater density\n",
    "taux = 0.0  # east-west wind stress disabled\n",
    "tauy = 0.5  # southerly wind stress is set to 0.5 Pa\n",
    "f = 1e-4  # Coriolis parameter\n",
    "\n",
    "alpha = dt*f\n",
    "beta = 0.25*alpha*alpha\n",
    "\n",
    "ntot = int(5*24*3600/dt)  # runtime is 5 days\n",
    "time = 0.0\n",
    "\n",
    "for i in range(ntot-1):\n",
    "    \n",
    "    time += dt\n",
    "\n",
    "    # Eddy\n",
    "\n",
    "    az0 = 5e-2  # uniform eddy viscosity\n",
    "    winmix = 1e-1  # value near sea surface\n",
    "    azmin = 4e-3  # local minimum value of eddy viscosity\n",
    "    zlength = 2.0  # Prandtl mixing length\n",
    "\n",
    "    az = az * az0\n",
    "\n",
    "\n",
    "    # Dyn\n",
    "\n",
    "    a = alpha\n",
    "    b = 1.0 - beta\n",
    "    c = 1.0 + beta\n",
    "\n",
    "    # surface boundary conditions\n",
    "\n",
    "    atop = 0.5*(az[0]+az[1])\n",
    "    u[0] = u[1] + dz * taux / rho / atop\n",
    "    v[0] = v[1] + dz * tauy / rho / atop\n",
    "\n",
    "    for i in range(1, nz-1):\n",
    "\n",
    "        atop = 0.5*(az[i-1] + az[i])\n",
    "        abot = 0.5*(az[i] + az[i+1])\n",
    "        diffu = dt * (atop * (u[i-1] - u[i]) / dz - abot * (u[i] - u[i+1]) / dz) / dz\n",
    "        diffv = dt * (atop * (v[i-1] - v[i]) / dz - abot * (v[i] - v[i+1]) / dz) / dz\n",
    "        un[i+1] = (b * u[i] + a * v[i] + 0.5 * a * diffv + diffu) / c\n",
    "        vn[i+1] = (b * v[i] - a * u[i] - 0.5 * a * diffu + diffv) / c\n",
    "\n",
    "        \n",
    "    # bottom boundary conditions (no stress)\n",
    "    \n",
    "    un[nz-1] = un[nz-2]\n",
    "    vn[nz-1] = vn[nz-2]\n",
    "    \n",
    "    for i in range(nz):\n",
    "        \n",
    "        u[i] = un[i]; v[i] = vn[i]"
   ]
  },
  {
   "cell_type": "code",
   "execution_count": 16,
   "metadata": {},
   "outputs": [],
   "source": [
    "%matplotlib inline\n",
    "import matplotlib.pyplot as plt"
   ]
  },
  {
   "cell_type": "code",
   "execution_count": null,
   "metadata": {},
   "outputs": [],
   "source": [
    "plt.plot(un)"
   ]
  },
  {
   "cell_type": "code",
   "execution_count": 19,
   "metadata": {},
   "outputs": [],
   "source": [
    "x = np.zeros(nz); y = np.zeros(nz); t = np.zeros(nz)\n",
    "t[0] = 0; x[0] = 0; y[0] = 0\n",
    "for i in range(nz-1):\n",
    "    t[i+1] = t[i] + dt\n",
    "    x[i+1] = x[i] + un[i]*dt\n",
    "    y[i+1] = y[i] + vn[i]*dt"
   ]
  },
  {
   "cell_type": "code",
   "execution_count": 21,
   "metadata": {},
   "outputs": [
    {
     "data": {
      "text/plain": [
       "<matplotlib.collections.PathCollection at 0x7faed599a9b0>"
      ]
     },
     "execution_count": 21,
     "metadata": {},
     "output_type": "execute_result"
    },
    {
     "data": {
      "image/png": "[encoded data removed]",
      "text/plain": [
       "<Figure size 432x288 with 1 Axes>"
      ]
     },
     "metadata": {},
     "output_type": "display_data"
    }
   ],
   "source": [
    "plt.scatter(x, y)"
   ]
  },
  {
   "cell_type": "code",
   "execution_count": 28,
   "metadata": {},
   "outputs": [],
   "source": [
    "data = np.loadtxt('/home/evankielley/Downloads/Updated_Exercises_March_2015/Exercise1/uvprof1.dat')"
   ]
  },
  {
   "cell_type": "code",
   "execution_count": 33,
   "metadata": {},
   "outputs": [],
   "source": [
    "z = data[:, 0]\n",
    "u = data[:, 1]\n",
    "v = data[:, 2]"
   ]
  },
  {
   "cell_type": "code",
   "execution_count": 35,
   "metadata": {},
   "outputs": [],
   "source": [
    "x = np.zeros(nz); y = np.zeros(nz)\n",
    "\n",
    "for i in range(nz-1):\n",
    "    \n",
    "    x[i+1] = x[i] + u[i]*dt\n",
    "    y[i+1] = y[i] + v[i]*dt\n",
    "    "
   ]
  },
  {
   "cell_type": "code",
   "execution_count": 37,
   "metadata": {},
   "outputs": [
    {
     "data": {
      "text/plain": [
       "<matplotlib.collections.PathCollection at 0x7faed5890ba8>"
      ]
     },
     "execution_count": 37,
     "metadata": {},
     "output_type": "execute_result"
    },
    {
     "data": {
      "image/png": "[encoded data removed]",
      "text/plain": [
       "<Figure size 432x288 with 1 Axes>"
      ]
     },
     "metadata": {},
     "output_type": "display_data"
    }
   ],
   "source": [
    "plt.scatter(x, y)"
   ]
  },
  {
   "cell_type": "code",
   "execution_count": 45,
   "metadata": {},
   "outputs": [
    {
     "data": {
      "image/png": "[encoded data removed]",
      "text/plain": [
       "<Figure size 432x288 with 1 Axes>"
      ]
     },
     "metadata": {},
     "output_type": "display_data"
    }
   ],
   "source": [
    "import matplotlib as mpl\n",
    "from mpl_toolkits.mplot3d import Axes3D\n",
    "\n",
    "#mpl.rcParams['legend.fontsize'] = 10\n",
    "\n",
    "fig = plt.figure()\n",
    "ax = fig.gca(projection='3d')\n",
    "\n",
    "ax.set_zlabel('Depth (m)')\n",
    "#ax.set_xlabel('Eastward Velocity (m/s)')\n",
    "#ax.set_ylabel('Northward Velocity (m/s)')\n",
    "#ax.scatter(u, v, z)\n",
    "#ax.set_title('Ekman Transport from 5 Pa Southerly Wind')\n",
    "\n",
    "ax.set_xlabel('Eastward Position (m)')\n",
    "ax.set_ylabel('Northward Position (m)')\n",
    "ax.scatter(x, y, z)\n",
    "ax.set_title('Position of a Floater Carried via Ekman Transport from a 5 Pa Southerly Wind')\n",
    "\n",
    "\n",
    "plt.show()"
   ]
  }
 ],
 "metadata": {
  "kernelspec": {
   "display_name": "Python 3",
   "language": "python",
   "name": "python3"
  },
  "language_info": {
   "codemirror_mode": {
    "name": "ipython",
    "version": 3
   },
   "file_extension": ".py",
   "mimetype": "text/x-python",
   "name": "python",
   "nbconvert_exporter": "python",
   "pygments_lexer": "ipython3",
   "version": "3.6.5"
  }
 },
 "nbformat": 4,
 "nbformat_minor": 2
}
