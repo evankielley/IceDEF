{
 "cells": [
  {
   "cell_type": "markdown",
   "metadata": {},
   "source": [
    "# Imports"
   ]
  },
  {
   "cell_type": "code",
   "execution_count": 1,
   "metadata": {},
   "outputs": [],
   "source": [
    "from datetime import timedelta\n",
    "import numpy as np\n",
    "import netCDF4 as nc\n",
    "import matplotlib.pyplot as plt\n",
    "from matplotlib.backends.backend_pdf import PdfPages\n",
    "import pandas as pd\n",
    "\n",
    "from icedef import iceberg, metocean, drift_simulation, plot\n",
    "from icedef.turnbull import drift"
   ]
  },
  {
   "cell_type": "markdown",
   "metadata": {},
   "source": [
    "# Iceberg"
   ]
  },
  {
   "cell_type": "code",
   "execution_count": 4,
   "metadata": {},
   "outputs": [],
   "source": [
    "df = pd.read_csv('csvs/0204980_2015.csv')"
   ]
  },
  {
   "cell_type": "code",
   "execution_count": 5,
   "metadata": {},
   "outputs": [],
   "source": [
    "df['DataDate_UTC'] = pd.to_datetime(df['DataDate_UTC'])"
   ]
  },
  {
   "cell_type": "code",
   "execution_count": 6,
   "metadata": {},
   "outputs": [],
   "source": [
    "times = [t.to_pydatetime() for t in df['DataDate_UTC']]"
   ]
  },
  {
   "cell_type": "code",
   "execution_count": 8,
   "metadata": {},
   "outputs": [],
   "source": [
    "lons = df['Longitude']"
   ]
  },
  {
   "cell_type": "code",
   "execution_count": 9,
   "metadata": {},
   "outputs": [],
   "source": [
    "lats = df['Latitude']"
   ]
  },
  {
   "cell_type": "code",
   "execution_count": 10,
   "metadata": {},
   "outputs": [],
   "source": [
    "ref_berg = iceberg.Iceberg('0204980_2015', times[0], lons[0], lats[0], 0, 0, 0, 0, 'LG', 'TAB')"
   ]
  },
  {
   "cell_type": "code",
   "execution_count": 67,
   "metadata": {},
   "outputs": [],
   "source": [
    "ref_berg.history['T'] = times[:1000]\n",
    "ref_berg.history['X'] = lons[:1000]\n",
    "ref_berg.history['Y'] = lats[:1000]"
   ]
  },
  {
   "cell_type": "code",
   "execution_count": 68,
   "metadata": {},
   "outputs": [],
   "source": [
    "berg = iceberg.clone_iceberg_state(ref_berg)"
   ]
  },
  {
   "cell_type": "raw",
   "metadata": {},
   "source": [
    "iip_season = 2015\n",
    "max_hours = 24\n",
    "\n",
    "#iip_df = iceberg.get_dense_df(iip_season, max_hours)\n",
    "iip_df = pd.read_csv(f'csvs/{iip_season}_max{max_hours}hr_tracks')\n",
    "iip_df = iip_df.drop('Unnamed: 0', axis=1)\n",
    "iip_df['TIMESTAMP'] = pd.to_datetime(iip_df['TIMESTAMP'])\n",
    "\n",
    "track_num = 0\n",
    "iip_berg_df = iip_df.loc[iip_df['track_num'] == track_num]\n",
    "\n",
    "iip_berg = iceberg.get_iip_berg(iip_berg_df)"
   ]
  },
  {
   "cell_type": "markdown",
   "metadata": {},
   "source": [
    "# Metocean"
   ]
  },
  {
   "cell_type": "code",
   "execution_count": 69,
   "metadata": {},
   "outputs": [],
   "source": [
    "ocean_data = metocean.ECMWFOcean(ref_berg.history['T'][0], ref_berg.history['T'][-1])\n",
    "\n",
    "#ocean_data.filenames"
   ]
  },
  {
   "cell_type": "code",
   "execution_count": 70,
   "metadata": {},
   "outputs": [],
   "source": [
    "atm_data = metocean.NARRAtm(ref_berg.history['T'][0], ref_berg.history['T'][-1])\n",
    "\n",
    "#atm_data.filenames"
   ]
  },
  {
   "cell_type": "markdown",
   "metadata": {},
   "source": [
    "# Drift Simulation"
   ]
  },
  {
   "cell_type": "code",
   "execution_count": 71,
   "metadata": {},
   "outputs": [],
   "source": [
    "sim = drift_simulation.DriftSimulation(berg, ocean_data, atm_data, drift)"
   ]
  },
  {
   "cell_type": "code",
   "execution_count": 72,
   "metadata": {},
   "outputs": [],
   "source": [
    "dt = 0.1*3600\n",
    "t0 = ref_berg.history['T'][0]\n",
    "tf = ref_berg.history['T'][-1]\n",
    "tdelta = tf - t0\n",
    "tdelta_secs = tdelta.days*12*3600 + tdelta.seconds\n",
    "nt = int(tdelta_secs//dt)"
   ]
  },
  {
   "cell_type": "code",
   "execution_count": 73,
   "metadata": {},
   "outputs": [],
   "source": [
    "#sim.euler(dt,nt)\n",
    "sim.rk2(dt, nt)"
   ]
  },
  {
   "cell_type": "code",
   "execution_count": 74,
   "metadata": {},
   "outputs": [
    {
     "data": {
      "text/html": [
       "<div>\n",
       "<style>\n",
       "    .dataframe thead tr:only-child th {\n",
       "        text-align: right;\n",
       "    }\n",
       "\n",
       "    .dataframe thead th {\n",
       "        text-align: left;\n",
       "    }\n",
       "\n",
       "    .dataframe tbody tr th {\n",
       "        vertical-align: top;\n",
       "    }\n",
       "</style>\n",
       "<table border=\"1\" class=\"dataframe\">\n",
       "  <thead>\n",
       "    <tr style=\"text-align: right;\">\n",
       "      <th></th>\n",
       "      <th>t</th>\n",
       "      <th>vax</th>\n",
       "      <th>vay</th>\n",
       "      <th>vcx</th>\n",
       "      <th>vcy</th>\n",
       "      <th>vx</th>\n",
       "      <th>vy</th>\n",
       "      <th>x</th>\n",
       "      <th>y</th>\n",
       "    </tr>\n",
       "  </thead>\n",
       "  <tbody>\n",
       "    <tr>\n",
       "      <th>0</th>\n",
       "      <td>2015-04-24 15:16:06</td>\n",
       "      <td>-3.217008</td>\n",
       "      <td>-0.978001</td>\n",
       "      <td>0.043383</td>\n",
       "      <td>0.073384</td>\n",
       "      <td>0.000000</td>\n",
       "      <td>0.000000</td>\n",
       "      <td>-51.551440</td>\n",
       "      <td>51.459910</td>\n",
       "    </tr>\n",
       "    <tr>\n",
       "      <th>1</th>\n",
       "      <td>2015-04-24 15:22:06</td>\n",
       "      <td>-3.243216</td>\n",
       "      <td>-0.949190</td>\n",
       "      <td>0.043929</td>\n",
       "      <td>0.072737</td>\n",
       "      <td>-0.002218</td>\n",
       "      <td>0.003565</td>\n",
       "      <td>-51.551452</td>\n",
       "      <td>51.459922</td>\n",
       "    </tr>\n",
       "    <tr>\n",
       "      <th>2</th>\n",
       "      <td>2015-04-24 15:28:06</td>\n",
       "      <td>-3.269427</td>\n",
       "      <td>-0.920377</td>\n",
       "      <td>0.044472</td>\n",
       "      <td>0.072088</td>\n",
       "      <td>-0.004213</td>\n",
       "      <td>0.006780</td>\n",
       "      <td>-51.551473</td>\n",
       "      <td>51.459943</td>\n",
       "    </tr>\n",
       "    <tr>\n",
       "      <th>3</th>\n",
       "      <td>2015-04-24 15:34:06</td>\n",
       "      <td>-3.295639</td>\n",
       "      <td>-0.891564</td>\n",
       "      <td>0.044688</td>\n",
       "      <td>0.071257</td>\n",
       "      <td>-0.006009</td>\n",
       "      <td>0.009689</td>\n",
       "      <td>-51.551505</td>\n",
       "      <td>51.459975</td>\n",
       "    </tr>\n",
       "    <tr>\n",
       "      <th>4</th>\n",
       "      <td>2015-04-24 15:40:06</td>\n",
       "      <td>-3.321854</td>\n",
       "      <td>-0.862750</td>\n",
       "      <td>0.044751</td>\n",
       "      <td>0.070342</td>\n",
       "      <td>-0.007651</td>\n",
       "      <td>0.012316</td>\n",
       "      <td>-51.551544</td>\n",
       "      <td>51.460015</td>\n",
       "    </tr>\n",
       "  </tbody>\n",
       "</table>\n",
       "</div>"
      ],
      "text/plain": [
       "                     t       vax       vay       vcx       vcy        vx  \\\n",
       "0  2015-04-24 15:16:06 -3.217008 -0.978001  0.043383  0.073384  0.000000   \n",
       "1  2015-04-24 15:22:06 -3.243216 -0.949190  0.043929  0.072737 -0.002218   \n",
       "2  2015-04-24 15:28:06 -3.269427 -0.920377  0.044472  0.072088 -0.004213   \n",
       "3  2015-04-24 15:34:06 -3.295639 -0.891564  0.044688  0.071257 -0.006009   \n",
       "4  2015-04-24 15:40:06 -3.321854 -0.862750  0.044751  0.070342 -0.007651   \n",
       "\n",
       "         vy          x          y  \n",
       "0  0.000000 -51.551440  51.459910  \n",
       "1  0.003565 -51.551452  51.459922  \n",
       "2  0.006780 -51.551473  51.459943  \n",
       "3  0.009689 -51.551505  51.459975  \n",
       "4  0.012316 -51.551544  51.460015  "
      ]
     },
     "execution_count": 74,
     "metadata": {},
     "output_type": "execute_result"
    }
   ],
   "source": [
    "sim.history.head()"
   ]
  },
  {
   "cell_type": "markdown",
   "metadata": {},
   "source": [
    "# Plot"
   ]
  },
  {
   "cell_type": "code",
   "execution_count": 75,
   "metadata": {},
   "outputs": [
    {
     "data": {
      "text/plain": [
       "<matplotlib.figure.Figure at 0x7f7bf340d5f8>"
      ]
     },
     "metadata": {},
     "output_type": "display_data"
    },
    {
     "data": {
      "text/plain": [
       "<matplotlib.figure.Figure at 0x7f7bf33dfef0>"
      ]
     },
     "metadata": {},
     "output_type": "display_data"
    },
    {
     "data": {
      "image/png": "[encoded data removed]",
      "text/plain": [
       "<matplotlib.figure.Figure at 0x7f7bf33df2e8>"
      ]
     },
     "metadata": {},
     "output_type": "display_data"
    },
    {
     "data": {
      "image/png": "[encoded data removed]",
      "text/plain": [
       "<matplotlib.figure.Figure at 0x7f7beb45df28>"
      ]
     },
     "metadata": {},
     "output_type": "display_data"
    },
    {
     "data": {
      "image/png": "[encoded data removed]",
      "text/plain": [
       "<matplotlib.figure.Figure at 0x7f7beb38e278>"
      ]
     },
     "metadata": {},
     "output_type": "display_data"
    }
   ],
   "source": [
    "plt.scatter(ref_berg.history['X'], ref_berg.history['Y'], s=2, label='observed')\n",
    "plt.scatter(sim.history['x'], sim.history['y'], s=2, label='computed')\n",
    "plt.title('Iceberg Drift Beacon Data from 0204980_2015.csv')\n",
    "plt.xlabel('Longitude')\n",
    "plt.ylabel('Latitude')\n",
    "plt.legend()\n",
    "plt.show()"
   ]
  },
  {
   "cell_type": "code",
   "execution_count": 76,
   "metadata": {},
   "outputs": [
    {
     "data": {
      "image/png": "[encoded data removed]",
      "text/plain": [
       "<matplotlib.figure.Figure at 0x7f7beb2c40f0>"
      ]
     },
     "metadata": {},
     "output_type": "display_data"
    }
   ],
   "source": [
    "plt.plot(sim.history['t'], sim.history['vx'], label='vx')\n",
    "plt.plot(sim.history['t'], sim.history['vy'], label='vy')\n",
    "plt.legend()\n",
    "plt.show()"
   ]
  },
  {
   "cell_type": "code",
   "execution_count": 77,
   "metadata": {},
   "outputs": [
    {
     "data": {
      "image/png": "[encoded data removed]",
      "text/plain": [
       "<matplotlib.figure.Figure at 0x7f7beb2b4ac8>"
      ]
     },
     "metadata": {},
     "output_type": "display_data"
    }
   ],
   "source": [
    "plt.plot(df['Longitude'], df['Latitude'])\n",
    "plt.show()"
   ]
  },
  {
   "cell_type": "code",
   "execution_count": 78,
   "metadata": {},
   "outputs": [],
   "source": [
    "from mpl_toolkits.basemap import Basemap\n",
    "from matplotlib.animation import FuncAnimation"
   ]
  },
  {
   "cell_type": "code",
   "execution_count": 79,
   "metadata": {},
   "outputs": [],
   "source": [
    "def animate_currents(ocean_data, iip_berg, mod_berg):\n",
    "    \"\"\"This function saves a gif of the ocean current velocities alongside an iceberg drift test case.\n",
    "    \n",
    "    Args:\n",
    "        ocean_data (ECMWF_Ocean): ocean data for time and space of iceberg drift simulation.\n",
    "        iip_berg (Iceberg): all attributes correspond to data from a particular IIP iceberg.\n",
    "        mod_berg (Iceberg): initial attributes and final time correspond to data from a particular \n",
    "                            IIP iceberg but the rest comes from drift simulation.\n",
    "    \"\"\"\n",
    "    \n",
    "    \n",
    "    mod_berg_t1950 = nc.date2num(mod_berg.datetimes, \n",
    "                                 'hours since 1950-01-01 00:00:00.0 00:00', 'standard')\n",
    "    \n",
    "    lon0 = np.where(ocean_data.lons < min(mod_berg.lons))[0][-1]\n",
    "    lonn = np.where(ocean_data.lons > max(mod_berg.lons))[0][0]\n",
    "    lat0 = np.where(ocean_data.lats < min(mod_berg.lats))[0][-1] \n",
    "    latn = np.where(ocean_data.lats > max(mod_berg.lats))[0][0]\n",
    "    \n",
    "    UW = np.empty([len(mod_berg_t1950), \n",
    "                len(ocean_data.lats[lat0-1:latn+1]), len(ocean_data.lons[lon0-1:lonn+1])])\n",
    "    VW = np.empty([len(mod_berg_t1950), \n",
    "                len(ocean_data.lats[lat0-1:latn+1]), len(ocean_data.lons[lon0-1:lonn+1])])\n",
    "    \n",
    "    for i, ival in enumerate(mod_berg_t1950):\n",
    "        for j, jval in enumerate(ocean_data.lats[lat0-1:latn+1]):\n",
    "            for k, kval in enumerate(ocean_data.lons[lon0-1:lonn+1]):\n",
    "                UW[i][j][k] = ocean_data.iUW([ival,jval,kval])\n",
    "                VW[i][j][k] = ocean_data.iVW([ival,jval,kval])\n",
    "    \n",
    "    fig = plt.figure()\n",
    "    ax = plt.axes(projection=ccrs.PlateCarree())\n",
    "    ax.set_extent([ocean_data.lons[lon0], ocean_data.lons[lonn], ocean_data.lats[lat0], ocean_data.lats[latn]], ccrs.PlateCarree())\n",
    "    #ax.stock_img()\n",
    "    ax.coastlines('50m')\n",
    "    gl = ax.gridlines(crs=ccrs.PlateCarree(), draw_labels=True,linewidth=2, color='gray', alpha=0.5, linestyle='--')\n",
    "    gl.xlabels_top = False\n",
    "    gl.ylabels_right = False\n",
    "    gl.xformatter = LONGITUDE_FORMATTER\n",
    "    gl.yformatter = LATITUDE_FORMATTER\n",
    "\n",
    "    ax.scatter(iip_berg.lons[:], iip_berg.lats[:], color='black')\n",
    "    #ax.plot(mod_berg.lons[:], mod_berg.lats[:], color='black')\n",
    "    water_mag = np.sqrt(UW**2 + VW**2)\n",
    "    im = plt.imshow(water_mag[0,:,:], \n",
    "                    extent=[ocean_data.lons[lon0-1], ocean_data.lons[lonn+1], \n",
    "                            ocean_data.lats[lat0-1], ocean_data.lats[latn+1]],\n",
    "                    origin = 'lower', vmin=0, vmax=0.5)\n",
    "    \n",
    "    line, = plt.plot(mod_berg.lons[0], mod_berg.lats[0], color='black')\n",
    "    \n",
    "    plt.colorbar()\n",
    "    quiv = plt.quiver(ocean_data.lons[lon0-1:lonn+1], ocean_data.lats[lat0-1:latn+1], UW[0,:,:], VW[0,:,:], \n",
    "                      scale=1, headwidth=5, width=0.005)\n",
    "    title = plt.title('time: 0 hours')\n",
    "\n",
    "\n",
    "    def animate(i):\n",
    "\n",
    "        im.set_data(water_mag[i,:,:])\n",
    "        quiv.set_UVC(UW[i,:,:], VW[i,:,:])\n",
    "        title.set_text('time: {:.0f} hours'.format(mod_berg_t1950[i]-mod_berg_t1950[0]))\n",
    "        line.set_data(mod_berg.lons[0:i+1], mod_berg.lats[0:i+1])\n",
    "        \n",
    "        \n",
    "        return im, line\n",
    "    \n",
    "    anim = FuncAnimation(fig, animate, frames=water_mag[:,0,0].size-1, interval=100)\n",
    "    #HTML(anim.to_html5_video())\n",
    "    anim.save('plots/water_mag.gif',writer='imagemagick')\n",
    "        \n",
    "    \n",
    "    \n",
    "def animate_winds(atm_data, iip_berg, mod_berg):\n",
    "    \"\"\"This function saves a gif of the wind velocities alongside an iceberg drift test case.\n",
    "    \n",
    "    Args:\n",
    "        atm_data (ECMWF_Atm): atmospheric data for time and space of iceberg drift simulation.\n",
    "        iip_berg (Iceberg): all attributes correspond to data from a particular IIP iceberg.\n",
    "        mod_berg (Iceberg): initial attributes and final time correspond to data from a particular \n",
    "                            IIP iceberg but the rest comes from drift simulation.\n",
    "    \"\"\"\n",
    "    \n",
    "    mod_berg_t1900 = nc.date2num(mod_berg.datetimes, \n",
    "                                 'hours since 1900-01-01 00:00:00.0 00:00', 'standard')\n",
    "    \n",
    "    lon0 = np.where(atm_data.lons < min(mod_berg.lons))[0][-1]\n",
    "    lonn = np.where(atm_data.lons > max(mod_berg.lons))[0][0]\n",
    "    lat0 = np.where(atm_data.lats < min(mod_berg.lats))[0][-1] \n",
    "    latn = np.where(atm_data.lats > max(mod_berg.lats))[0][0]\n",
    "    \n",
    "    UA = np.empty([len(mod_berg_t1900), \n",
    "                len(atm_data.lats[lat0-1:latn+1]), len(atm_data.lons[lon0-1:lonn+1])])\n",
    "    VA = np.empty([len(mod_berg_t1900), \n",
    "                len(atm_data.lats[lat0-1:latn+1]), len(atm_data.lons[lon0-1:lonn+1])])\n",
    "    \n",
    "    for i, ival in enumerate(mod_berg_t1900):\n",
    "        for j, jval in enumerate(atm_data.lats[lat0-1:latn+1]):\n",
    "            for k, kval in enumerate(atm_data.lons[lon0-1:lonn+1]):\n",
    "                UA[i][j][k] = atm_data.iUA([ival,jval,kval])\n",
    "                VA[i][j][k] = atm_data.iVA([ival,jval,kval])\n",
    "    \n",
    "    fig = plt.figure()\n",
    "    ax = plt.axes(projection=ccrs.PlateCarree())\n",
    "    ax.set_extent([atm_data.lons[lon0], atm_data.lons[lonn], atm_data.lats[lat0], atm_data.lats[latn]], ccrs.PlateCarree())\n",
    "    #ax.stock_img()\n",
    "    ax.coastlines('50m')\n",
    "    gl = ax.gridlines(crs=ccrs.PlateCarree(), draw_labels=True,linewidth=2, color='gray', alpha=0.5, linestyle='--')\n",
    "    gl.xlabels_top = False\n",
    "    gl.ylabels_right = False\n",
    "    gl.xformatter = LONGITUDE_FORMATTER\n",
    "    gl.yformatter = LATITUDE_FORMATTER\n",
    "\n",
    "    ax.scatter(iip_berg.lons[:], iip_berg.lats[:], color='black')\n",
    "    wind_mag = np.sqrt(UA**2 + VA**2)\n",
    "    im = plt.imshow(wind_mag[0,:,:], \n",
    "                    extent=[atm_data.lons[lon0-1], atm_data.lons[lonn+1], \n",
    "                            atm_data.lats[lat0-1], atm_data.lats[latn+1]],\n",
    "                    origin = 'lower', vmin=5, vmax=15)\n",
    "    \n",
    "    line, = plt.plot(mod_berg.lons[0], mod_berg.lats[0], color='black')\n",
    "    \n",
    "    plt.colorbar()\n",
    "    quiv = plt.quiver(atm_data.lons[lon0-1:lonn+1], atm_data.lats[lat0-1:latn+1], UA[0,:,:], VA[0,:,:], \n",
    "                      scale=20, headwidth=5, width=0.005)\n",
    "    title = plt.title('time: 0 hours')\n",
    "\n",
    "\n",
    "    def animate(i):\n",
    "\n",
    "        im.set_data(wind_mag[i,:,:])\n",
    "        quiv.set_UVC(UA[i,:,:], VA[i,:,:])\n",
    "        title.set_text('time: {:.0f} hours'.format(mod_berg_t1900[i]-mod_berg_t1900[0]))\n",
    "        line.set_data(mod_berg.lons[0:i+1], mod_berg.lats[0:i+1])\n",
    "        \n",
    "        \n",
    "        return im, line\n",
    "    \n",
    "    anim = FuncAnimation(fig, animate, frames=wind_mag[:,0,0].size-1, interval=100)\n",
    "    #HTML(anim.to_html5_video())\n",
    "    anim.save('plots/wind_mag.gif',writer='imagemagick')"
   ]
  },
  {
   "cell_type": "code",
   "execution_count": 80,
   "metadata": {},
   "outputs": [],
   "source": [
    "from scipy.interpolate import RegularGridInterpolator as RGI"
   ]
  },
  {
   "cell_type": "code",
   "execution_count": 87,
   "metadata": {},
   "outputs": [],
   "source": [
    "import cartopy.crs as ccrs\n",
    "from cartopy.mpl.gridliner import LONGITUDE_FORMATTER, LATITUDE_FORMATTER\n"
   ]
  },
  {
   "cell_type": "code",
   "execution_count": 108,
   "metadata": {},
   "outputs": [],
   "source": [
    "def metocean_animation(drift_track, data_grid, data, fname='field_anim',\n",
    "                       vmin=0, vmax=1, scale=1, headwidth=5, width=5e-3):\n",
    "    \n",
    "    x_vec = drift_track[0]\n",
    "    y_vec = drift_track[1]\n",
    "    t_vec = drift_track[2]\n",
    "    \n",
    "    grid_t = data_grid[0]\n",
    "    grid_y = data_grid[1]\n",
    "    grid_x = data_grid[2]\n",
    "    \n",
    "    data_u = data[0]\n",
    "    data_v = data[1]\n",
    "    \n",
    "    u_RGI = RGI((grid_t, grid_y, grid_x), data_u) \n",
    "    v_RGI = RGI((grid_t, grid_y, grid_x), data_v)\n",
    "    \n",
    "    lon0 = np.where(grid_x < min(x_vec))[0][-1]\n",
    "    lonn = np.where(grid_x > max(x_vec))[0][0]\n",
    "    lat0 = np.where(grid_y < min(y_vec))[0][-1] \n",
    "    latn = np.where(grid_y > max(y_vec))[0][0]\n",
    "    \n",
    "    u_mat = np.empty([len(t_vec), len(grid_y[lat0-1:latn+1]), len(grid_x[lon0-1:lonn+1])])\n",
    "    v_mat = np.empty([len(t_vec), len(grid_y[lat0-1:latn+1]), len(grid_x[lon0-1:lonn+1])])\n",
    "    \n",
    "    for i, ival in enumerate(t_vec):\n",
    "        for j, jval in enumerate(grid_y[lat0-1:latn+1]):\n",
    "            for k, kval in enumerate(grid_x[lon0-1:lonn+1]):\n",
    "                u_mat[i][j][k] = u_RGI([ival,jval,kval])\n",
    "                v_mat[i][j][k] = v_RGI([ival,jval,kval])\n",
    "                \n",
    "    \n",
    "    fig = plt.figure()\n",
    "    ax = plt.axes(projection=ccrs.PlateCarree())\n",
    "    ax.set_extent([grid_x[lon0], grid_x[lonn], grid_y[lat0], grid_y[latn]], \n",
    "                  ccrs.PlateCarree())\n",
    "    \n",
    "    #ax.stock_img()\n",
    "    ax.coastlines('50m')\n",
    "    gl = ax.gridlines(crs=ccrs.PlateCarree(), \n",
    "                      draw_labels=True,linewidth=2, color='gray', \n",
    "                      alpha=0.5, linestyle='--')\n",
    "    \n",
    "    gl.xlabels_top = False\n",
    "    gl.ylabels_right = False\n",
    "    gl.xformatter = LONGITUDE_FORMATTER\n",
    "    gl.yformatter = LATITUDE_FORMATTER\n",
    "    \n",
    "    \n",
    "    #ax.scatter(x_vec, y_vec, color='black')\n",
    "    w_mat = np.sqrt(u_mat**2 + v_mat**2)\n",
    "    im = plt.imshow(w_mat[0,:,:], \n",
    "                    extent=[grid_x[lon0-1], grid_x[lonn+1], \n",
    "                            grid_y[lat0-1], grid_y[latn+1]],\n",
    "                    origin = 'lower', vmin=vmin, vmax=vmax)\n",
    "    \n",
    "    line, = plt.plot(x_vec[0], y_vec[0], color='black')\n",
    "    \n",
    "    plt.colorbar()\n",
    "    \n",
    "    quiv = plt.quiver(grid_x[lon0-1:lonn+1], grid_y[lat0-1:latn+1], \n",
    "                      u_mat[0,:,:], v_mat[0,:,:], \n",
    "                      scale=scale, headwidth=headwidth, width=width)\n",
    "    \n",
    "    title = plt.title('time: 0 hours')\n",
    "\n",
    "\n",
    "    def animate(i):\n",
    "        im.set_data(w_mat[i,:,:])\n",
    "        quiv.set_UVC(u_mat[i,:,:], v_mat[i,:,:])\n",
    "        title.set_text('time: {:.0f} hours'.format(t_vec[i]-t_vec[0]))\n",
    "        line.set_data(x_vec[0:i+1], y_vec[0:i+1])\n",
    "        return im, line\n",
    "    \n",
    "    \n",
    "    anim = FuncAnimation(fig, animate, frames=w_mat[:,0,0].size-1, interval=100)\n",
    "    #HTML(anim.to_html5_video())\n",
    "    anim.save(f'plots/{fname}.gif',writer='imagemagick')\n",
    "    "
   ]
  },
  {
   "cell_type": "code",
   "execution_count": 96,
   "metadata": {},
   "outputs": [],
   "source": [
    "drift_track = [\n",
    "                sim.history['x'][:400],\n",
    "                sim.history['y'][:400],\n",
    "                nc.date2num(sim.history['t'][:400], ocean_data.T_UNITS, \n",
    "                            ocean_data.T_CALENDAR)\n",
    "]\n",
    "\n",
    "data_grid = [\n",
    "                ocean_data.times,\n",
    "                ocean_data.lats,\n",
    "                ocean_data.lons\n",
    "]\n",
    "\n",
    "data = [\n",
    "                ocean_data.U,\n",
    "                ocean_data.V\n",
    "]"
   ]
  },
  {
   "cell_type": "code",
   "execution_count": 97,
   "metadata": {},
   "outputs": [],
   "source": [
    "metocean_animation(drift_track, data_grid, data)"
   ]
  },
  {
   "cell_type": "code",
   "execution_count": 109,
   "metadata": {},
   "outputs": [],
   "source": [
    "drift_track = [\n",
    "                sim.history['x'][:400],\n",
    "                sim.history['y'][:400],\n",
    "                nc.date2num(sim.history['t'][:400], atm_data.T_UNITS, \n",
    "                            atm_data.T_CALENDAR)\n",
    "]\n",
    "\n",
    "data_grid = [\n",
    "                atm_data.times,\n",
    "                atm_data.lats,\n",
    "                atm_data.lons\n",
    "]\n",
    "\n",
    "data = [\n",
    "                atm_data.U,\n",
    "                atm_data.V\n",
    "]"
   ]
  },
  {
   "cell_type": "code",
   "execution_count": 110,
   "metadata": {},
   "outputs": [],
   "source": [
    "metocean_animation(drift_track, data_grid, data, fname='wind_anim', \n",
    "                   vmin=0, vmax=15, scale=20)"
   ]
  },
  {
   "cell_type": "code",
   "execution_count": null,
   "metadata": {},
   "outputs": [],
   "source": []
  }
 ],
 "metadata": {
  "kernelspec": {
   "display_name": "Python 3",
   "language": "python",
   "name": "python3"
  },
  "language_info": {
   "codemirror_mode": {
    "name": "ipython",
    "version": 3
   },
   "file_extension": ".py",
   "mimetype": "text/x-python",
   "name": "python",
   "nbconvert_exporter": "python",
   "pygments_lexer": "ipython3",
   "version": "3.6.3"
  }
 },
 "nbformat": 4,
 "nbformat_minor": 2
}
