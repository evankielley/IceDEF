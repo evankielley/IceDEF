{
 "cells": [
  {
   "cell_type": "markdown",
   "metadata": {},
   "source": [
    "# Drift Simulator"
   ]
  },
  {
   "cell_type": "markdown",
   "metadata": {},
   "source": [
    "## User Specifications"
   ]
  },
  {
   "cell_type": "code",
   "execution_count": 14,
   "metadata": {},
   "outputs": [],
   "source": [
    "### User can change these variables (unless they begin with an underscore) ###\n",
    "\n",
    "drift_model = 'turnbull'  # must be 'turnbull' or 'wagner'\n",
    "ocean_model = 'ecmwf'  # must be 'ecmwf'\n",
    "atm_model = 'ecmwf'  # must be 'ecmwf'\n",
    "\n",
    "iip_season = 2015  # must be 2015 (more to come later)\n",
    "iip_indices = range(3284, 3286)  # iip_indices must be list or range"
   ]
  },
  {
   "cell_type": "markdown",
   "metadata": {},
   "source": [
    "## Imports"
   ]
  },
  {
   "cell_type": "code",
   "execution_count": 15,
   "metadata": {},
   "outputs": [],
   "source": [
    "from datetime import timedelta\n",
    "import numpy as np"
   ]
  },
  {
   "cell_type": "code",
   "execution_count": 16,
   "metadata": {},
   "outputs": [],
   "source": [
    "if drift_model == 'turnbull':\n",
    "    from icedef.turnbull import drift\n",
    "elif drift_model == 'wagner':\n",
    "    from iceberg.wagner import drift\n",
    "else:\n",
    "    print('drift model specified is invalid')\n",
    "    \n",
    "from icedef import iceberg, metocean, plot"
   ]
  },
  {
   "cell_type": "markdown",
   "metadata": {},
   "source": [
    "## Iceberg Data"
   ]
  },
  {
   "cell_type": "code",
   "execution_count": 17,
   "metadata": {},
   "outputs": [
    {
     "name": "stderr",
     "output_type": "stream",
     "text": [
      "/home/evankielley/IceDEF/icedef/iceberg.py:219: SettingWithCopyWarning: \n",
      "A value is trying to be set on a copy of a slice from a DataFrame.\n",
      "Try using .loc[row_indexer,col_indexer] = value instead\n",
      "\n",
      "See the caveats in the documentation: http://pandas.pydata.org/pandas-docs/stable/indexing.html#indexing-view-versus-copy\n",
      "  iip_df['TIMESTAMP'] += pd.to_timedelta(pd.to_datetime(iip_df['SIGHTING_TIME'], format='%H%M').dt.hour, unit='h')\n",
      "/home/evankielley/IceDEF/icedef/iceberg.py:220: SettingWithCopyWarning: \n",
      "A value is trying to be set on a copy of a slice from a DataFrame.\n",
      "Try using .loc[row_indexer,col_indexer] = value instead\n",
      "\n",
      "See the caveats in the documentation: http://pandas.pydata.org/pandas-docs/stable/indexing.html#indexing-view-versus-copy\n",
      "  iip_df['TIMESTAMP'] += pd.to_timedelta(pd.to_datetime(iip_df['SIGHTING_TIME'], format='%H%M').dt.minute, unit='m')\n"
     ]
    },
    {
     "data": {
      "text/html": [
       "<div>\n",
       "<style>\n",
       "    .dataframe thead tr:only-child th {\n",
       "        text-align: right;\n",
       "    }\n",
       "\n",
       "    .dataframe thead th {\n",
       "        text-align: left;\n",
       "    }\n",
       "\n",
       "    .dataframe tbody tr th {\n",
       "        vertical-align: top;\n",
       "    }\n",
       "</style>\n",
       "<table border=\"1\" class=\"dataframe\">\n",
       "  <thead>\n",
       "    <tr style=\"text-align: right;\">\n",
       "      <th></th>\n",
       "      <th>index</th>\n",
       "      <th>ICEBERG_YEAR</th>\n",
       "      <th>ICEBERG_NUMBER</th>\n",
       "      <th>SIGHTING_DATE</th>\n",
       "      <th>SIGHTING_TIME</th>\n",
       "      <th>SIGHTING_LATITUDE</th>\n",
       "      <th>SIGHTING_LONGITUDE</th>\n",
       "      <th>SIGHTING_METHOD</th>\n",
       "      <th>SIZE</th>\n",
       "      <th>SHAPE</th>\n",
       "      <th>SOURCE</th>\n",
       "      <th>TIMESTAMP</th>\n",
       "    </tr>\n",
       "  </thead>\n",
       "  <tbody>\n",
       "    <tr>\n",
       "      <th>0</th>\n",
       "      <td>3284</td>\n",
       "      <td>2015</td>\n",
       "      <td>20668</td>\n",
       "      <td>6/17/2015</td>\n",
       "      <td>1043</td>\n",
       "      <td>48.16</td>\n",
       "      <td>-50.16</td>\n",
       "      <td>R/V</td>\n",
       "      <td>LG</td>\n",
       "      <td>GEN</td>\n",
       "      <td>GMRS</td>\n",
       "      <td>2015-06-17 10:43:00</td>\n",
       "    </tr>\n",
       "    <tr>\n",
       "      <th>1</th>\n",
       "      <td>3285</td>\n",
       "      <td>2015</td>\n",
       "      <td>20668</td>\n",
       "      <td>6/18/2015</td>\n",
       "      <td>1251</td>\n",
       "      <td>48.17</td>\n",
       "      <td>-49.91</td>\n",
       "      <td>VIS</td>\n",
       "      <td>LG</td>\n",
       "      <td>TAB</td>\n",
       "      <td>GTJZ</td>\n",
       "      <td>2015-06-18 12:51:00</td>\n",
       "    </tr>\n",
       "  </tbody>\n",
       "</table>\n",
       "</div>"
      ],
      "text/plain": [
       "   index  ICEBERG_YEAR  ICEBERG_NUMBER SIGHTING_DATE  SIGHTING_TIME  \\\n",
       "0   3284          2015           20668     6/17/2015           1043   \n",
       "1   3285          2015           20668     6/18/2015           1251   \n",
       "\n",
       "   SIGHTING_LATITUDE  SIGHTING_LONGITUDE SIGHTING_METHOD SIZE SHAPE SOURCE  \\\n",
       "0              48.16              -50.16             R/V   LG   GEN   GMRS   \n",
       "1              48.17              -49.91             VIS   LG   TAB   GTJZ   \n",
       "\n",
       "            TIMESTAMP  \n",
       "0 2015-06-17 10:43:00  \n",
       "1 2015-06-18 12:51:00  "
      ]
     },
     "execution_count": 17,
     "metadata": {},
     "output_type": "execute_result"
    }
   ],
   "source": [
    "iip_df = iceberg.add_datetime_column(iceberg.get_iip_df(iip_season))\n",
    "iip_berg_df = iceberg.get_iip_berg_df(iip_df, indices=iip_indices)\n",
    "iip_berg_df"
   ]
  },
  {
   "cell_type": "code",
   "execution_count": 18,
   "metadata": {},
   "outputs": [],
   "source": [
    "iip_berg = iceberg.get_iip_berg(iip_berg_df)\n",
    "mod_berg = iceberg.clone_iceberg_state(iip_berg)"
   ]
  },
  {
   "cell_type": "markdown",
   "metadata": {},
   "source": [
    "## Metocean Data"
   ]
  },
  {
   "cell_type": "code",
   "execution_count": 19,
   "metadata": {},
   "outputs": [
    {
     "data": {
      "text/plain": [
       "['20150617.nc', '20150618.nc']"
      ]
     },
     "execution_count": 19,
     "metadata": {},
     "output_type": "execute_result"
    }
   ],
   "source": [
    "ocean_data = metocean.ECMWF_Ocean(min(iip_berg.history['X']), max(iip_berg.history['X']),\n",
    "                         min(iip_berg.history['Y']), max(iip_berg.history['Y']),\n",
    "                         iip_berg.history['T'][0], iip_berg.history['T'][-1])\n",
    "\n",
    "ocean_data.filenames"
   ]
  },
  {
   "cell_type": "code",
   "execution_count": 20,
   "metadata": {},
   "outputs": [
    {
     "data": {
      "text/plain": [
       "['20150617.nc', '20150618.nc']"
      ]
     },
     "execution_count": 20,
     "metadata": {},
     "output_type": "execute_result"
    }
   ],
   "source": [
    "atm_data = metocean.ECMWF_Atm(min(iip_berg.history['X']), max(iip_berg.history['X']),\n",
    "                         min(iip_berg.history['Y']), max(iip_berg.history['Y']),\n",
    "                         iip_berg.history['T'][0], iip_berg.history['T'][-1])\n",
    "\n",
    "atm_data.filenames"
   ]
  },
  {
   "cell_type": "markdown",
   "metadata": {},
   "source": [
    "## Timesteps"
   ]
  },
  {
   "cell_type": "code",
   "execution_count": 21,
   "metadata": {},
   "outputs": [],
   "source": [
    "t_step_hours = 0.5\n",
    "\n",
    "t0 = iip_berg.history['T'][0]\n",
    "tf = iip_berg.history['T'][-1]\n",
    "t_delta = tf - t0\n",
    "t_delta_hours = t_delta.days*24 + t_delta.seconds/3600\n",
    "t_step = timedelta(hours = t_step_hours)\n",
    "dt = t_step_hours*3600  # timestep in seconds\n",
    "t_all = []\n",
    "\n",
    "for i in np.arange(0, t_delta_hours + t_step_hours, t_step_hours):\n",
    "    new_date = t0 + timedelta(hours=i)\n",
    "    t_all.append(new_date)"
   ]
  },
  {
   "cell_type": "markdown",
   "metadata": {},
   "source": [
    "## Drifting"
   ]
  },
  {
   "cell_type": "code",
   "execution_count": 22,
   "metadata": {},
   "outputs": [
    {
     "name": "stdout",
     "output_type": "stream",
     "text": [
      "Final time: 2015-06-18 13:13:00\n"
     ]
    }
   ],
   "source": [
    "#%%prun -T profiled_drift.txt\n",
    "earth_radius = 6378*1e3  # radius of Earth  (m)\n",
    "\n",
    "\n",
    "# Buffer number for bounding spatial box\n",
    "drift_xmin = max(min(ocean_data.lons), min(atm_data.lons))\n",
    "drift_xmax = min(max(ocean_data.lons), max(atm_data.lons))\n",
    "drift_ymin = max(min(ocean_data.lats), min(atm_data.lats))\n",
    "drift_ymax = min(max(ocean_data.lats), max(atm_data.lats))\n",
    "\n",
    "mod_berg_list = []\n",
    "\n",
    "tsteplist = [t_step_hours]\n",
    "\n",
    "for t_step_hours in tsteplist:\n",
    "\n",
    "    mod_berg = iceberg.clone_iceberg_state(iip_berg)\n",
    "    \n",
    "    #t_step_hours = 0.1\n",
    "    t0 = iip_berg.history['T'][0]\n",
    "    tf = iip_berg.history['T'][-1]\n",
    "    t_delta = tf - t0\n",
    "    t_delta_hours = t_delta.days*24 + t_delta.seconds/3600\n",
    "    t_step = timedelta(hours = t_step_hours)\n",
    "    dt = t_step_hours*3600  # timestep in seconds\n",
    "    t_all = []\n",
    "\n",
    "    for i in np.arange(0, t_delta_hours + t_step_hours, t_step_hours):\n",
    "        new_date = t0 + timedelta(hours=i)\n",
    "        t_all.append(new_date)\n",
    "\n",
    "    for t in t_all:\n",
    "\n",
    "        mod_berg.T = t\n",
    "\n",
    "        if drift_model == 'turnbull':\n",
    "\n",
    "            ax, ay = drift(mod_berg, ocean_data, atm_data) \n",
    "\n",
    "            mod_berg.Vx += dt*ax  \n",
    "            mod_berg.Vy += dt*ay\n",
    "\n",
    "        elif drift_model == 'wagner':\n",
    "\n",
    "            mod_berg.Vx, mod_berg.Vy = drift(mod_berg, ocean_data, atm_data) \n",
    "\n",
    "\n",
    "        # Iceberg position (note the conversion from meters back to degrees)\n",
    "        y_ = mod_berg.Y\n",
    "        mod_berg.Y += dt*mod_berg.Vy*(180/(np.pi*earth_radius))  # y-component of iceberg position (degrees latitude)\n",
    "        mod_berg.X += dt*mod_berg.Vx/(np.cos((((y_ + mod_berg.Y)/2)*np.pi)/180))*(180/(np.pi*earth_radius))  # x-component of iceberg position (degrees longitude)\n",
    "\n",
    "        if not drift_xmin < mod_berg.X < drift_xmax:\n",
    "            print('Iceberg out-of-bounds')\n",
    "            break\n",
    "\n",
    "        elif not drift_ymin < mod_berg.Y < drift_ymax:\n",
    "            print('Iceberg out-of-bounds')\n",
    "            break\n",
    "\n",
    "        else:\n",
    "            mod_berg.history['T'].append(mod_berg.T)\n",
    "            mod_berg.history['X'].append(mod_berg.X)\n",
    "            mod_berg.history['Y'].append(mod_berg.Y)\n",
    "            mod_berg.history['Vx'].append(mod_berg.Vx)\n",
    "            mod_berg.history['Vy'].append(mod_berg.Vy)\n",
    "\n",
    "    print(\"Final time: {}\".format(t)) \n",
    "    \n",
    "    mod_berg_list.append(mod_berg)"
   ]
  },
  {
   "cell_type": "markdown",
   "metadata": {},
   "source": [
    "## Plotting"
   ]
  },
  {
   "cell_type": "code",
   "execution_count": 23,
   "metadata": {},
   "outputs": [
    {
     "name": "stderr",
     "output_type": "stream",
     "text": [
      "/home/evankielley/.conda/envs/icedef/lib/python3.6/site-packages/mpl_toolkits/basemap/__init__.py:1708: MatplotlibDeprecationWarning: The axesPatch function was deprecated in version 2.1. Use Axes.patch instead.\n",
      "  limb = ax.axesPatch\n",
      "/home/evankielley/.conda/envs/icedef/lib/python3.6/site-packages/mpl_toolkits/basemap/__init__.py:1711: MatplotlibDeprecationWarning: The axesPatch function was deprecated in version 2.1. Use Axes.patch instead.\n",
      "  if limb is not ax.axesPatch:\n"
     ]
    },
    {
     "data": {
      "image/png": "[encoded data removed]",
      "text/plain": [
       "<matplotlib.figure.Figure at 0x7fde17cbe400>"
      ]
     },
     "metadata": {},
     "output_type": "display_data"
    }
   ],
   "source": [
    "for mod_berg in mod_berg_list:\n",
    "    plot.plot_drift_track_test_case(iip_berg, mod_berg)"
   ]
  },
  {
   "cell_type": "code",
   "execution_count": null,
   "metadata": {},
   "outputs": [],
   "source": []
  }
 ],
 "metadata": {
  "kernelspec": {
   "display_name": "Python 3",
   "language": "python",
   "name": "python3"
  },
  "language_info": {
   "codemirror_mode": {
    "name": "ipython",
    "version": 3
   },
   "file_extension": ".py",
   "mimetype": "text/x-python",
   "name": "python",
   "nbconvert_exporter": "python",
   "pygments_lexer": "ipython3",
   "version": "3.6.3"
  }
 },
 "nbformat": 4,
 "nbformat_minor": 2
}
