{
 "cells": [
  {
   "cell_type": "markdown",
   "metadata": {},
   "source": [
    "# Drift Simulator"
   ]
  },
  {
   "cell_type": "markdown",
   "metadata": {},
   "source": [
    "## User Specifications"
   ]
  },
  {
   "cell_type": "code",
   "execution_count": 1,
   "metadata": {},
   "outputs": [],
   "source": [
    "### User can change these variables (unless they begin with an underscore) ###\n",
    "\n",
    "drift_model = 'turnbull'  # must be 'turnbull' or 'wagner'\n",
    "ocean_model = 'ecmwf'  # must be 'ecmwf'\n",
    "atm_model = 'ecmwf'  # must be 'ecmwf'\n",
    "\n",
    "\n",
    "iip_season = 2015  # must be 2015 (more to come later)\n",
    "\n",
    "# Uncomment only one of the following\n",
    "_method = 'index'; iip_indices = range(3283, 3285)  # iip_indices must be int or range\n",
    "#_method = 'ID'; iip_ID = 20668  # iip_ID must be int"
   ]
  },
  {
   "cell_type": "markdown",
   "metadata": {},
   "source": [
    "## Imports"
   ]
  },
  {
   "cell_type": "code",
   "execution_count": 2,
   "metadata": {},
   "outputs": [],
   "source": [
    "from datetime import timedelta\n",
    "import numpy as np"
   ]
  },
  {
   "cell_type": "code",
   "execution_count": 3,
   "metadata": {},
   "outputs": [],
   "source": [
    "import os, sys, inspect\n",
    "currentdir = os.path.dirname(os.path.abspath(inspect.getfile(inspect.currentframe())))\n",
    "parentdir = os.path.dirname(currentdir)\n",
    "sys.path.insert(0,parentdir)"
   ]
  },
  {
   "cell_type": "code",
   "execution_count": 4,
   "metadata": {},
   "outputs": [],
   "source": [
    "if drift_model == 'turnbull':\n",
    "    from icedef.turnbull import drift\n",
    "elif drift_model == 'wagner':\n",
    "    from iceberg.wagner import drift\n",
    "else:\n",
    "    print('drift model specified is invalid')\n",
    "    \n",
    "from icedef import iceberg, metocean, plot, test"
   ]
  },
  {
   "cell_type": "markdown",
   "metadata": {},
   "source": [
    "## Iceberg Data"
   ]
  },
  {
   "cell_type": "code",
   "execution_count": 5,
   "metadata": {},
   "outputs": [],
   "source": [
    "if _method == 'index':\n",
    "    identifier = iip_indices\n",
    "elif _method == 'ID':\n",
    "    identifier = iip_ID\n",
    "else:\n",
    "    print(\"Invalid method specified. Please change _method to either 'index' or 'ID'\")"
   ]
  },
  {
   "cell_type": "code",
   "execution_count": 6,
   "metadata": {},
   "outputs": [
    {
     "name": "stderr",
     "output_type": "stream",
     "text": [
      "/home/evankielley/IceDEF/icedef/iceberg.py:218: SettingWithCopyWarning: \n",
      "A value is trying to be set on a copy of a slice from a DataFrame.\n",
      "Try using .loc[row_indexer,col_indexer] = value instead\n",
      "\n",
      "See the caveats in the documentation: http://pandas.pydata.org/pandas-docs/stable/indexing.html#indexing-view-versus-copy\n",
      "  iip_df['TIMESTAMP'] += pd.to_timedelta(pd.to_datetime(iip_df['SIGHTING_TIME'], format='%H%M').dt.hour, unit='h')\n",
      "/home/evankielley/IceDEF/icedef/iceberg.py:219: SettingWithCopyWarning: \n",
      "A value is trying to be set on a copy of a slice from a DataFrame.\n",
      "Try using .loc[row_indexer,col_indexer] = value instead\n",
      "\n",
      "See the caveats in the documentation: http://pandas.pydata.org/pandas-docs/stable/indexing.html#indexing-view-versus-copy\n",
      "  iip_df['TIMESTAMP'] += pd.to_timedelta(pd.to_datetime(iip_df['SIGHTING_TIME'], format='%H%M').dt.minute, unit='m')\n"
     ]
    }
   ],
   "source": [
    "iip_berg_df, iip_berg = iceberg.get_iip_iceberg(2015, _method, identifier)"
   ]
  },
  {
   "cell_type": "code",
   "execution_count": 7,
   "metadata": {},
   "outputs": [
    {
     "data": {
      "text/html": [
       "<div>\n",
       "<style>\n",
       "    .dataframe thead tr:only-child th {\n",
       "        text-align: right;\n",
       "    }\n",
       "\n",
       "    .dataframe thead th {\n",
       "        text-align: left;\n",
       "    }\n",
       "\n",
       "    .dataframe tbody tr th {\n",
       "        vertical-align: top;\n",
       "    }\n",
       "</style>\n",
       "<table border=\"1\" class=\"dataframe\">\n",
       "  <thead>\n",
       "    <tr style=\"text-align: right;\">\n",
       "      <th></th>\n",
       "      <th>index</th>\n",
       "      <th>ICEBERG_YEAR</th>\n",
       "      <th>ICEBERG_NUMBER</th>\n",
       "      <th>SIGHTING_DATE</th>\n",
       "      <th>SIGHTING_TIME</th>\n",
       "      <th>SIGHTING_LATITUDE</th>\n",
       "      <th>SIGHTING_LONGITUDE</th>\n",
       "      <th>SIGHTING_METHOD</th>\n",
       "      <th>SIZE</th>\n",
       "      <th>SHAPE</th>\n",
       "      <th>SOURCE</th>\n",
       "      <th>TIMESTAMP</th>\n",
       "    </tr>\n",
       "  </thead>\n",
       "  <tbody>\n",
       "    <tr>\n",
       "      <th>0</th>\n",
       "      <td>3283</td>\n",
       "      <td>2015</td>\n",
       "      <td>20668</td>\n",
       "      <td>6/16/2015</td>\n",
       "      <td>1440</td>\n",
       "      <td>48.20</td>\n",
       "      <td>-50.18</td>\n",
       "      <td>R/V</td>\n",
       "      <td>LG</td>\n",
       "      <td>TAB</td>\n",
       "      <td>GTJZ</td>\n",
       "      <td>2015-06-16 14:40:00</td>\n",
       "    </tr>\n",
       "    <tr>\n",
       "      <th>1</th>\n",
       "      <td>3284</td>\n",
       "      <td>2015</td>\n",
       "      <td>20668</td>\n",
       "      <td>6/17/2015</td>\n",
       "      <td>1043</td>\n",
       "      <td>48.16</td>\n",
       "      <td>-50.16</td>\n",
       "      <td>R/V</td>\n",
       "      <td>LG</td>\n",
       "      <td>GEN</td>\n",
       "      <td>GMRS</td>\n",
       "      <td>2015-06-17 10:43:00</td>\n",
       "    </tr>\n",
       "  </tbody>\n",
       "</table>\n",
       "</div>"
      ],
      "text/plain": [
       "   index  ICEBERG_YEAR  ICEBERG_NUMBER SIGHTING_DATE  SIGHTING_TIME  \\\n",
       "0   3283          2015           20668     6/16/2015           1440   \n",
       "1   3284          2015           20668     6/17/2015           1043   \n",
       "\n",
       "   SIGHTING_LATITUDE  SIGHTING_LONGITUDE SIGHTING_METHOD SIZE SHAPE SOURCE  \\\n",
       "0              48.20              -50.18             R/V   LG   TAB   GTJZ   \n",
       "1              48.16              -50.16             R/V   LG   GEN   GMRS   \n",
       "\n",
       "            TIMESTAMP  \n",
       "0 2015-06-16 14:40:00  \n",
       "1 2015-06-17 10:43:00  "
      ]
     },
     "execution_count": 7,
     "metadata": {},
     "output_type": "execute_result"
    }
   ],
   "source": [
    "iip_berg_df"
   ]
  },
  {
   "cell_type": "code",
   "execution_count": 8,
   "metadata": {},
   "outputs": [],
   "source": [
    "mod_berg = iceberg.clone_iceberg_state(iip_berg)"
   ]
  },
  {
   "cell_type": "markdown",
   "metadata": {},
   "source": [
    "## Metocean Data"
   ]
  },
  {
   "cell_type": "code",
   "execution_count": 9,
   "metadata": {},
   "outputs": [
    {
     "data": {
      "text/plain": [
       "['ftp://data.munroelab.ca/pub/ECMWF/ocean/daily/20150616.nc',\n",
       " 'ftp://data.munroelab.ca/pub/ECMWF/ocean/daily/20150617.nc']"
      ]
     },
     "execution_count": 9,
     "metadata": {},
     "output_type": "execute_result"
    }
   ],
   "source": [
    "ocean_data = metocean.ECMWF_Ocean(min(iip_berg.history['X']), max(iip_berg.history['X']),\n",
    "                         min(iip_berg.history['Y']), max(iip_berg.history['Y']),\n",
    "                         iip_berg.history['T'][0], iip_berg.history['T'][-1])\n",
    "\n",
    "ocean_data.filenames"
   ]
  },
  {
   "cell_type": "code",
   "execution_count": 10,
   "metadata": {},
   "outputs": [
    {
     "data": {
      "text/plain": [
       "['ftp://data.munroelab.ca/pub/ECMWF/atm/daily/sub20150616.nc',\n",
       " 'ftp://data.munroelab.ca/pub/ECMWF/atm/daily/sub20150617.nc']"
      ]
     },
     "execution_count": 10,
     "metadata": {},
     "output_type": "execute_result"
    }
   ],
   "source": [
    "atm_data = metocean.ECMWF_Atm(min(iip_berg.history['X']), max(iip_berg.history['X']),\n",
    "                         min(iip_berg.history['Y']), max(iip_berg.history['Y']),\n",
    "                         iip_berg.history['T'][0], iip_berg.history['T'][-1])\n",
    "\n",
    "atm_data.filenames"
   ]
  },
  {
   "cell_type": "markdown",
   "metadata": {},
   "source": [
    "## Timesteps"
   ]
  },
  {
   "cell_type": "code",
   "execution_count": 11,
   "metadata": {},
   "outputs": [],
   "source": [
    "t0 = iip_berg.history['T'][0]\n",
    "tf = iip_berg.history['T'][-1]\n",
    "t_delta = tf - t0\n",
    "t_delta_hours = t_delta.days*24 + t_delta.seconds/3600\n",
    "t_step_hours = 0.1\n",
    "t_step = timedelta(hours = t_step_hours)\n",
    "dt = t_step_hours*3600  # timestep in seconds\n",
    "t_all = []\n",
    "\n",
    "for i in np.arange(0, t_delta_hours + t_step_hours, t_step_hours):\n",
    "    new_date = t0 + timedelta(hours=i)\n",
    "    t_all.append(new_date)"
   ]
  },
  {
   "cell_type": "markdown",
   "metadata": {},
   "source": [
    "## Drifting"
   ]
  },
  {
   "cell_type": "code",
   "execution_count": 19,
   "metadata": {},
   "outputs": [
    {
     "name": "stdout",
     "output_type": "stream",
     "text": [
      "Final time: 2015-06-17 10:46:00\n",
      " \n",
      "*** Profile printout saved to text file '\"profiled_drift.txt\"'. \n"
     ]
    },
    {
     "data": {
      "text/plain": [
       "         88928 function calls in 0.516 seconds\n",
       "\n",
       "   Ordered by: internal time\n",
       "\n",
       "   ncalls  tottime  percall  cumtime  percall filename:lineno(function)\n",
       "      808    0.247    0.000    0.303    0.000 interpolate.py:2432(_evaluate_linear)\n",
       "      808    0.068    0.000    0.094    0.000 interpolate.py:2453(_find_indices)\n",
       "      808    0.048    0.000    0.491    0.001 interpolate.py:2383(__call__)\n",
       "    19392    0.041    0.000    0.041    0.000 {built-in method numpy.core.multiarray.where}\n",
       "     4848    0.020    0.000    0.020    0.000 {method 'reduce' of 'numpy.ufunc' objects}\n",
       "     2424    0.015    0.000    0.015    0.000 {method 'searchsorted' of 'numpy.ndarray' objects}\n",
       "      404    0.014    0.000    0.014    0.000 {netCDF4._netCDF4.date2num}\n",
       "    12120    0.012    0.000    0.012    0.000 {built-in method numpy.core.multiarray.array}\n",
       "      202    0.008    0.000    0.513    0.003 turnbull.py:13(drift)\n",
       "     4848    0.007    0.000    0.037    0.000 fromnumeric.py:1973(all)\n",
       "      808    0.006    0.000    0.006    0.000 interpolate.py:2438(<listcomp>)\n",
       "     4848    0.004    0.000    0.025    0.000 {method 'all' of 'numpy.ndarray' objects}\n",
       "     6464    0.004    0.000    0.009    0.000 numeric.py:463(asarray)\n",
       "     2424    0.004    0.000    0.022    0.000 fromnumeric.py:1022(searchsorted)\n",
       "        1    0.003    0.003    0.516    0.516 <string>:2(<module>)\n",
       "      808    0.003    0.000    0.007    0.000 {built-in method scipy.interpolate.interpnd._ndim_coords_from_arrays}\n",
       "      808    0.003    0.000    0.003    0.000 {built-in method numpy.core.multiarray.zeros}\n",
       "     2424    0.002    0.000    0.018    0.000 fromnumeric.py:55(_wrapfunc)\n",
       "     5656    0.002    0.000    0.009    0.000 numeric.py:534(asanyarray)\n",
       "     1616    0.002    0.000    0.002    0.000 {method 'reshape' of 'numpy.ndarray' objects}\n",
       "     4848    0.002    0.000    0.021    0.000 _methods.py:40(_all)\n",
       "     5858    0.001    0.000    0.001    0.000 {method 'append' of 'list' objects}\n",
       "     2424    0.001    0.000    0.001    0.000 {built-in method builtins.getattr}\n",
       "     2424    0.000    0.000    0.000    0.000 {built-in method builtins.len}\n",
       "        1    0.000    0.000    0.516    0.516 {built-in method builtins.exec}\n",
       "      808    0.000    0.000    0.000    0.000 {built-in method builtins.abs}\n",
       "        6    0.000    0.000    0.000    0.000 {built-in method builtins.min}\n",
       "        6    0.000    0.000    0.000    0.000 {built-in method builtins.max}\n",
       "        3    0.000    0.000    0.000    0.000 iostream.py:180(schedule)\n",
       "        3    0.000    0.000    0.000    0.000 {built-in method posix.urandom}\n",
       "        1    0.000    0.000    0.000    0.000 {method 'format' of 'str' objects}\n",
       "        2    0.000    0.000    0.000    0.000 iostream.py:342(write)\n",
       "        3    0.000    0.000    0.000    0.000 threading.py:1104(is_alive)\n",
       "        1    0.000    0.000    0.000    0.000 {built-in method builtins.print}\n",
       "        3    0.000    0.000    0.000    0.000 threading.py:1062(_wait_for_tstate_lock)\n",
       "        2    0.000    0.000    0.000    0.000 iostream.py:284(_is_master_process)\n",
       "        2    0.000    0.000    0.000    0.000 iostream.py:297(_schedule_flush)\n",
       "        3    0.000    0.000    0.000    0.000 {method 'acquire' of '_thread.lock' objects}\n",
       "        3    0.000    0.000    0.000    0.000 iostream.py:87(_event_pipe)\n",
       "        2    0.000    0.000    0.000    0.000 {built-in method posix.getpid}\n",
       "        2    0.000    0.000    0.000    0.000 {built-in method builtins.isinstance}\n",
       "        1    0.000    0.000    0.000    0.000 {method 'disable' of '_lsprof.Profiler' objects}\n",
       "        3    0.000    0.000    0.000    0.000 threading.py:506(is_set)"
      ]
     },
     "metadata": {},
     "output_type": "display_data"
    }
   ],
   "source": [
    "%%prun -T \"profiled_drift.txt\"\n",
    "earth_radius = 6378*1e3  # radius of Earth  (m)\n",
    "\n",
    "\n",
    "# Buffer number for bounding spatial box\n",
    "drift_xmin = max(min(ocean_data.lons), min(atm_data.lons))\n",
    "drift_xmax = min(max(ocean_data.lons), max(atm_data.lons))\n",
    "drift_ymin = max(min(ocean_data.lats), min(atm_data.lats))\n",
    "drift_ymax = min(max(ocean_data.lats), max(atm_data.lats))\n",
    "\n",
    "\n",
    "for t in t_all:\n",
    "\n",
    "    mod_berg.T = t\n",
    "\n",
    "    if drift_model == 'turnbull':\n",
    "    \n",
    "        ax, ay = drift(mod_berg, ocean_data, atm_data) \n",
    "\n",
    "        mod_berg.Vx += dt*ax  \n",
    "        mod_berg.Vy += dt*ay\n",
    "\n",
    "    elif drift_model == 'wagner':\n",
    "    \n",
    "        mod_berg.Vx, mod_berg.Vy = drift(mod_berg, ocean_data, atm_data) \n",
    "\n",
    "    \n",
    "    # Iceberg position (note the conversion from meters back to degrees)\n",
    "    y_ = mod_berg.Y\n",
    "    mod_berg.Y += dt*mod_berg.Vy*(180/(np.pi*earth_radius))  # y-component of iceberg position (degrees latitude)\n",
    "    mod_berg.X += dt*mod_berg.Vx/(np.cos((((y_ + mod_berg.Y)/2)*np.pi)/180))*(180/(np.pi*earth_radius))  # x-component of iceberg position (degrees longitude)\n",
    "\n",
    "    if mod_berg.X > drift_xmax:\n",
    "        print('Iceberg out-of-bounds')\n",
    "        break\n",
    "\n",
    "    elif mod_berg.X < drift_xmin: \n",
    "        print('Iceberg out-of-bounds')\n",
    "        break\n",
    "\n",
    "    elif mod_berg.Y > drift_ymax:\n",
    "        print('Iceberg out-of-bounds')\n",
    "        break\n",
    "\n",
    "    elif mod_berg.Y < drift_ymin:\n",
    "        print('Iceberg out-of-bounds')\n",
    "        break\n",
    "\n",
    "\n",
    "    else:\n",
    "        mod_berg.history['T'].append(mod_berg.T)\n",
    "        mod_berg.history['X'].append(mod_berg.X)\n",
    "        mod_berg.history['Y'].append(mod_berg.Y)\n",
    "        mod_berg.history['Vx'].append(mod_berg.Vx)\n",
    "        mod_berg.history['Vy'].append(mod_berg.Vy)\n",
    "\n",
    "print(\"Final time: {}\".format(t)) "
   ]
  },
  {
   "cell_type": "markdown",
   "metadata": {},
   "source": [
    "## Plotting"
   ]
  },
  {
   "cell_type": "code",
   "execution_count": 13,
   "metadata": {},
   "outputs": [
    {
     "name": "stderr",
     "output_type": "stream",
     "text": [
      "/home/evankielley/.conda/envs/icedef/lib/python3.6/site-packages/mpl_toolkits/basemap/__init__.py:1708: MatplotlibDeprecationWarning: The axesPatch function was deprecated in version 2.1. Use Axes.patch instead.\n",
      "  limb = ax.axesPatch\n",
      "/home/evankielley/.conda/envs/icedef/lib/python3.6/site-packages/mpl_toolkits/basemap/__init__.py:1711: MatplotlibDeprecationWarning: The axesPatch function was deprecated in version 2.1. Use Axes.patch instead.\n",
      "  if limb is not ax.axesPatch:\n"
     ]
    },
    {
     "data": {
      "image/png": "[encoded data removed]",
      "text/plain": [
       "<matplotlib.figure.Figure at 0x7faacb380390>"
      ]
     },
     "metadata": {},
     "output_type": "display_data"
    }
   ],
   "source": [
    "plot.plot_drift_track_test_case(iip_berg, mod_berg)"
   ]
  },
  {
   "cell_type": "code",
   "execution_count": null,
   "metadata": {},
   "outputs": [],
   "source": []
  }
 ],
 "metadata": {
  "kernelspec": {
   "display_name": "Python 3",
   "language": "python",
   "name": "python3"
  },
  "language_info": {
   "codemirror_mode": {
    "name": "ipython",
    "version": 3
   },
   "file_extension": ".py",
   "mimetype": "text/x-python",
   "name": "python",
   "nbconvert_exporter": "python",
   "pygments_lexer": "ipython3",
   "version": "3.6.3"
  }
 },
 "nbformat": 4,
 "nbformat_minor": 2
}
