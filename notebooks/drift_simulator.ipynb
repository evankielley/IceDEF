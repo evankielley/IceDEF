{
 "cells": [
  {
   "cell_type": "markdown",
   "metadata": {},
   "source": [
    "# Imports"
   ]
  },
  {
   "cell_type": "code",
   "execution_count": 1,
   "metadata": {},
   "outputs": [],
   "source": [
    "from datetime import timedelta\n",
    "import numpy as np\n",
    "import netCDF4 as nc\n",
    "import matplotlib.pyplot as plt\n",
    "from matplotlib.backends.backend_pdf import PdfPages\n",
    "import pandas as pd\n",
    "\n",
    "from icedef import iceberg, metocean, drift_simulation, plot\n",
    "from icedef.turnbull import drift"
   ]
  },
  {
   "cell_type": "markdown",
   "metadata": {},
   "source": [
    "# Iceberg"
   ]
  },
  {
   "cell_type": "code",
   "execution_count": 2,
   "metadata": {},
   "outputs": [],
   "source": [
    "df = pd.read_csv('csvs/0204980_2015.csv')"
   ]
  },
  {
   "cell_type": "code",
   "execution_count": 3,
   "metadata": {},
   "outputs": [],
   "source": [
    "df['DataDate_UTC'] = pd.to_datetime(df['DataDate_UTC'])"
   ]
  },
  {
   "cell_type": "code",
   "execution_count": 4,
   "metadata": {},
   "outputs": [],
   "source": [
    "times = [t.to_pydatetime() for t in df['DataDate_UTC']]"
   ]
  },
  {
   "cell_type": "code",
   "execution_count": 5,
   "metadata": {},
   "outputs": [],
   "source": [
    "lons = df['Longitude']"
   ]
  },
  {
   "cell_type": "code",
   "execution_count": 6,
   "metadata": {},
   "outputs": [],
   "source": [
    "lats = df['Latitude']"
   ]
  },
  {
   "cell_type": "code",
   "execution_count": 7,
   "metadata": {},
   "outputs": [],
   "source": [
    "ref_berg = iceberg.Iceberg('0204980_2015', times[0], lons[0], lats[0], 0, 0, 0, 0, 'LG', 'TAB')"
   ]
  },
  {
   "cell_type": "code",
   "execution_count": 8,
   "metadata": {},
   "outputs": [],
   "source": [
    "ref_berg.history['T'] = times[:1000]\n",
    "ref_berg.history['X'] = lons[:1000]\n",
    "ref_berg.history['Y'] = lats[:1000]"
   ]
  },
  {
   "cell_type": "code",
   "execution_count": 9,
   "metadata": {},
   "outputs": [],
   "source": [
    "berg = iceberg.clone_iceberg_state(ref_berg)"
   ]
  },
  {
   "cell_type": "raw",
   "metadata": {},
   "source": [
    "iip_season = 2015\n",
    "max_hours = 24\n",
    "\n",
    "#iip_df = iceberg.get_dense_df(iip_season, max_hours)\n",
    "iip_df = pd.read_csv(f'csvs/{iip_season}_max{max_hours}hr_tracks')\n",
    "iip_df = iip_df.drop('Unnamed: 0', axis=1)\n",
    "iip_df['TIMESTAMP'] = pd.to_datetime(iip_df['TIMESTAMP'])\n",
    "\n",
    "track_num = 0\n",
    "iip_berg_df = iip_df.loc[iip_df['track_num'] == track_num]\n",
    "\n",
    "iip_berg = iceberg.get_iip_berg(iip_berg_df)"
   ]
  },
  {
   "cell_type": "markdown",
   "metadata": {},
   "source": [
    "# Metocean"
   ]
  },
  {
   "cell_type": "code",
   "execution_count": 10,
   "metadata": {},
   "outputs": [],
   "source": [
    "ocean_data = metocean.ECMWFOcean(ref_berg.history['T'][0], ref_berg.history['T'][-1])\n",
    "\n",
    "#ocean_data.filenames"
   ]
  },
  {
   "cell_type": "code",
   "execution_count": 11,
   "metadata": {},
   "outputs": [],
   "source": [
    "atm_data = metocean.NARRAtm(ref_berg.history['T'][0], ref_berg.history['T'][-1])\n",
    "\n",
    "#atm_data.filenames"
   ]
  },
  {
   "cell_type": "markdown",
   "metadata": {},
   "source": [
    "# Drift Simulation"
   ]
  },
  {
   "cell_type": "code",
   "execution_count": 12,
   "metadata": {},
   "outputs": [],
   "source": [
    "sim = drift_simulation.DriftSimulation(berg, ocean_data, atm_data, drift)"
   ]
  },
  {
   "cell_type": "code",
   "execution_count": 13,
   "metadata": {},
   "outputs": [],
   "source": [
    "dt = 0.1*3600\n",
    "t0 = ref_berg.history['T'][0]\n",
    "tf = ref_berg.history['T'][-1]\n",
    "tdelta = tf - t0\n",
    "tdelta_secs = tdelta.days*12*3600 + tdelta.seconds\n",
    "nt = int(tdelta_secs//dt)"
   ]
  },
  {
   "cell_type": "code",
   "execution_count": 14,
   "metadata": {},
   "outputs": [],
   "source": [
    "#sim.euler(dt,nt)\n",
    "sim.rk2(dt, nt)"
   ]
  },
  {
   "cell_type": "code",
   "execution_count": 15,
   "metadata": {},
   "outputs": [
    {
     "data": {
      "text/html": [
       "<div>\n",
       "<style scoped>\n",
       "    .dataframe tbody tr th:only-of-type {\n",
       "        vertical-align: middle;\n",
       "    }\n",
       "\n",
       "    .dataframe tbody tr th {\n",
       "        vertical-align: top;\n",
       "    }\n",
       "\n",
       "    .dataframe thead th {\n",
       "        text-align: right;\n",
       "    }\n",
       "</style>\n",
       "<table border=\"1\" class=\"dataframe\">\n",
       "  <thead>\n",
       "    <tr style=\"text-align: right;\">\n",
       "      <th></th>\n",
       "      <th>t</th>\n",
       "      <th>vax</th>\n",
       "      <th>vay</th>\n",
       "      <th>vcx</th>\n",
       "      <th>vcy</th>\n",
       "      <th>vx</th>\n",
       "      <th>vy</th>\n",
       "      <th>x</th>\n",
       "      <th>y</th>\n",
       "    </tr>\n",
       "  </thead>\n",
       "  <tbody>\n",
       "    <tr>\n",
       "      <th>0</th>\n",
       "      <td>2015-04-24 15:16:06</td>\n",
       "      <td>-3.217008</td>\n",
       "      <td>-0.978001</td>\n",
       "      <td>0.043383</td>\n",
       "      <td>0.073384</td>\n",
       "      <td>0.000000</td>\n",
       "      <td>0.000000</td>\n",
       "      <td>-51.551440</td>\n",
       "      <td>51.459910</td>\n",
       "    </tr>\n",
       "    <tr>\n",
       "      <th>1</th>\n",
       "      <td>2015-04-24 15:22:06</td>\n",
       "      <td>-3.243216</td>\n",
       "      <td>-0.949190</td>\n",
       "      <td>0.043929</td>\n",
       "      <td>0.072737</td>\n",
       "      <td>-0.002218</td>\n",
       "      <td>0.003565</td>\n",
       "      <td>-51.551452</td>\n",
       "      <td>51.459922</td>\n",
       "    </tr>\n",
       "    <tr>\n",
       "      <th>2</th>\n",
       "      <td>2015-04-24 15:28:06</td>\n",
       "      <td>-3.269427</td>\n",
       "      <td>-0.920377</td>\n",
       "      <td>0.044472</td>\n",
       "      <td>0.072088</td>\n",
       "      <td>-0.004213</td>\n",
       "      <td>0.006780</td>\n",
       "      <td>-51.551473</td>\n",
       "      <td>51.459943</td>\n",
       "    </tr>\n",
       "    <tr>\n",
       "      <th>3</th>\n",
       "      <td>2015-04-24 15:34:06</td>\n",
       "      <td>-3.295639</td>\n",
       "      <td>-0.891564</td>\n",
       "      <td>0.044688</td>\n",
       "      <td>0.071257</td>\n",
       "      <td>-0.006009</td>\n",
       "      <td>0.009689</td>\n",
       "      <td>-51.551505</td>\n",
       "      <td>51.459975</td>\n",
       "    </tr>\n",
       "    <tr>\n",
       "      <th>4</th>\n",
       "      <td>2015-04-24 15:40:06</td>\n",
       "      <td>-3.321854</td>\n",
       "      <td>-0.862750</td>\n",
       "      <td>0.044751</td>\n",
       "      <td>0.070342</td>\n",
       "      <td>-0.007651</td>\n",
       "      <td>0.012316</td>\n",
       "      <td>-51.551544</td>\n",
       "      <td>51.460015</td>\n",
       "    </tr>\n",
       "  </tbody>\n",
       "</table>\n",
       "</div>"
      ],
      "text/plain": [
       "                     t       vax       vay       vcx       vcy        vx  \\\n",
       "0  2015-04-24 15:16:06 -3.217008 -0.978001  0.043383  0.073384  0.000000   \n",
       "1  2015-04-24 15:22:06 -3.243216 -0.949190  0.043929  0.072737 -0.002218   \n",
       "2  2015-04-24 15:28:06 -3.269427 -0.920377  0.044472  0.072088 -0.004213   \n",
       "3  2015-04-24 15:34:06 -3.295639 -0.891564  0.044688  0.071257 -0.006009   \n",
       "4  2015-04-24 15:40:06 -3.321854 -0.862750  0.044751  0.070342 -0.007651   \n",
       "\n",
       "         vy          x          y  \n",
       "0  0.000000 -51.551440  51.459910  \n",
       "1  0.003565 -51.551452  51.459922  \n",
       "2  0.006780 -51.551473  51.459943  \n",
       "3  0.009689 -51.551505  51.459975  \n",
       "4  0.012316 -51.551544  51.460015  "
      ]
     },
     "execution_count": 15,
     "metadata": {},
     "output_type": "execute_result"
    }
   ],
   "source": [
    "sim.history.head()"
   ]
  },
  {
   "cell_type": "markdown",
   "metadata": {},
   "source": [
    "# Plot"
   ]
  },
  {
   "cell_type": "code",
   "execution_count": 16,
   "metadata": {},
   "outputs": [
    {
     "data": {
      "image/png": "[encoded data removed]",
      "text/plain": [
       "<Figure size 432x288 with 1 Axes>"
      ]
     },
     "metadata": {},
     "output_type": "display_data"
    }
   ],
   "source": [
    "plt.scatter(ref_berg.history['X'], ref_berg.history['Y'], s=2, label='observed')\n",
    "plt.scatter(sim.history['x'], sim.history['y'], s=2, label='computed')\n",
    "plt.title('Iceberg Drift Beacon Data from 0204980_2015.csv')\n",
    "plt.xlabel('Longitude')\n",
    "plt.ylabel('Latitude')\n",
    "plt.legend()\n",
    "plt.show()"
   ]
  },
  {
   "cell_type": "code",
   "execution_count": 17,
   "metadata": {},
   "outputs": [
    {
     "data": {
      "image/png": "[encoded data removed]",
      "text/plain": [
       "<Figure size 432x288 with 1 Axes>"
      ]
     },
     "metadata": {},
     "output_type": "display_data"
    }
   ],
   "source": [
    "plt.plot(sim.history['t'], sim.history['vx'], label='vx')\n",
    "plt.plot(sim.history['t'], sim.history['vy'], label='vy')\n",
    "plt.legend()\n",
    "plt.show()"
   ]
  },
  {
   "cell_type": "code",
   "execution_count": 18,
   "metadata": {},
   "outputs": [
    {
     "data": {
      "image/png": "[encoded data removed]",
      "text/plain": [
       "<Figure size 432x288 with 1 Axes>"
      ]
     },
     "metadata": {},
     "output_type": "display_data"
    }
   ],
   "source": [
    "plt.plot(df['Longitude'], df['Latitude'])\n",
    "plt.show()"
   ]
  },
  {
   "cell_type": "code",
   "execution_count": 19,
   "metadata": {},
   "outputs": [],
   "source": [
    "from mpl_toolkits.basemap import Basemap\n",
    "from matplotlib.animation import FuncAnimation\n",
    "\n",
    "from scipy.interpolate import RegularGridInterpolator as RGI\n",
    "\n",
    "import cartopy.crs as ccrs\n",
    "from cartopy.mpl.gridliner import LONGITUDE_FORMATTER, LATITUDE_FORMATTER"
   ]
  },
  {
   "cell_type": "code",
   "execution_count": 33,
   "metadata": {},
   "outputs": [],
   "source": [
    "def metocean_animation(drift_track, data_grid, data, fname='field_anim',\n",
    "                       vmin=0, vmax=1, scale=1, headwidth=5, width=5e-3):\n",
    "    \n",
    "    x_vec = drift_track[0]\n",
    "    y_vec = drift_track[1]\n",
    "    t_vec = drift_track[2]\n",
    "    \n",
    "    grid_t = data_grid[0]\n",
    "    grid_y = data_grid[1]\n",
    "    grid_x = data_grid[2]\n",
    "    \n",
    "    data_u = data[0]\n",
    "    data_v = data[1]\n",
    "    \n",
    "    u_RGI = RGI((grid_t, grid_y, grid_x), data_u) \n",
    "    v_RGI = RGI((grid_t, grid_y, grid_x), data_v)\n",
    "    \n",
    "    lon0 = np.where(grid_x < min(x_vec))[0][-1]\n",
    "    lonn = np.where(grid_x > max(x_vec))[0][0]\n",
    "    lat0 = np.where(grid_y < min(y_vec))[0][-1] \n",
    "    latn = np.where(grid_y > max(y_vec))[0][0]\n",
    "    \n",
    "    u_mat = np.empty([t_vec, len(grid_y[lat0-1:latn+1]), len(grid_x[lon0-1:lonn+1])])\n",
    "    v_mat = np.empty([t_vec, len(grid_y[lat0-1:latn+1]), len(grid_x[lon0-1:lonn+1])])\n",
    "    \n",
    "    for i, ival in enumerate(t_vec):\n",
    "        for j, jval in enumerate(grid_y[lat0-1:latn+1]):\n",
    "            for k, kval in enumerate(grid_x[lon0-1:lonn+1]):\n",
    "                u_mat[i][j][k] = u_RGI([ival,jval,kval])\n",
    "                v_mat[i][j][k] = v_RGI([ival,jval,kval])\n",
    "                \n",
    "    \n",
    "    fig = plt.figure()\n",
    "    ax = plt.axes(projection=ccrs.PlateCarree())\n",
    "    ax.set_extent([grid_x[lon0], grid_x[lonn], grid_y[lat0], grid_y[latn]], \n",
    "                  ccrs.PlateCarree())\n",
    "    \n",
    "    #ax.stock_img()\n",
    "    ax.coastlines('50m')\n",
    "    gl = ax.gridlines(crs=ccrs.PlateCarree(), \n",
    "                      draw_labels=True,linewidth=2, color='gray', \n",
    "                      alpha=0.5, linestyle='--')\n",
    "    \n",
    "    gl.xlabels_top = False\n",
    "    gl.ylabels_right = False\n",
    "    gl.xformatter = LONGITUDE_FORMATTER\n",
    "    gl.yformatter = LATITUDE_FORMATTER\n",
    "    \n",
    "    \n",
    "    #ax.scatter(x_vec, y_vec, color='black')\n",
    "    w_mat = np.sqrt(u_mat**2 + v_mat**2)\n",
    "    im = plt.imshow(w_mat[0,:,:], \n",
    "                    extent=[grid_x[lon0-1], grid_x[lonn+1], \n",
    "                            grid_y[lat0-1], grid_y[latn+1]],\n",
    "                    origin = 'lower', vmin=vmin, vmax=vmax)\n",
    "    \n",
    "    line, = plt.plot(x_vec[0], y_vec[0], color='black')\n",
    "    \n",
    "    plt.colorbar()\n",
    "    \n",
    "    quiv = plt.quiver(grid_x[lon0-1:lonn+1], grid_y[lat0-1:latn+1], \n",
    "                      u_mat[0,:,:], v_mat[0,:,:], \n",
    "                      scale=scale, headwidth=headwidth, width=width)\n",
    "    \n",
    "    title = plt.title('time: 0 hours')\n",
    "\n",
    "\n",
    "    def animate(i):\n",
    "        im.set_data(w_mat[i,:,:])\n",
    "        quiv.set_UVC(u_mat[i,:,:], v_mat[i,:,:])\n",
    "        title.set_text('time: {:.0f} hours'.format(t_vec[i]-t_vec[0]))\n",
    "        line.set_data(x_vec[0:i+1], y_vec[0:i+1])\n",
    "        return im, line\n",
    "    \n",
    "    \n",
    "    anim = FuncAnimation(fig, animate, frames=w_mat[:,0,0].size-1, interval=100)\n",
    "    #HTML(anim.to_html5_video())\n",
    "    anim.save(f'plots/{fname}.gif',writer='imagemagick')\n",
    "    "
   ]
  },
  {
   "cell_type": "code",
   "execution_count": 40,
   "metadata": {},
   "outputs": [
    {
     "data": {
      "text/plain": [
       "array([0. , 0.3, 0.6, 0.9])"
      ]
     },
     "execution_count": 40,
     "metadata": {},
     "output_type": "execute_result"
    }
   ],
   "source": [
    "np.arange(0, 1, 0.3)"
   ]
  },
  {
   "cell_type": "code",
   "execution_count": 81,
   "metadata": {},
   "outputs": [],
   "source": [
    "def berg_metocean_animation(x_berg, y_berg, t_berg, x0, xf, dx, y0, yf, dy, t0, tf, dt, x_data, \n",
    "                            y_data, t_data, u_data, v_data, \n",
    "                            fname='field_anim', vmin=0, vmax=1, scale=1, headwidth=5, width=5e-3):\n",
    "    \n",
    "    \n",
    "    t_grid = np.arange(t0, tf, dt)\n",
    "    x_grid = np.arange(x0, xf, dx)\n",
    "    y_grid = np.arange(y0, yf, dy)\n",
    "    \n",
    "    u_RGI = RGI((t_data, y_data, x_data), u_data) \n",
    "    v_RGI = RGI((t_data, y_data, x_data), v_data)    \n",
    "    \n",
    "    u_mat = np.empty([len(t_grid), len(y_grid), len(x_grid)])\n",
    "    v_mat = np.empty([len(t_grid), len(y_grid), len(x_grid)])\n",
    "    \n",
    "    for i, ival in enumerate(t_grid):\n",
    "        for j, jval in enumerate(y_grid):\n",
    "            for k, kval in enumerate(x_grid):\n",
    "                u_mat[i][j][k] = u_RGI([ival,jval,kval])\n",
    "                v_mat[i][j][k] = v_RGI([ival,jval,kval])\n",
    "                \n",
    "    \n",
    "    fig = plt.figure()\n",
    "    ax = plt.axes(projection=ccrs.PlateCarree())\n",
    "    ax.set_extent([x0, xf, y0, yf], \n",
    "                  ccrs.PlateCarree())\n",
    "    \n",
    "    #ax.stock_img()\n",
    "    ax.coastlines('50m')\n",
    "    gl = ax.gridlines(crs=ccrs.PlateCarree(), \n",
    "                      draw_labels=True,linewidth=2, color='gray', \n",
    "                      alpha=0.5, linestyle='--')\n",
    "    \n",
    "    gl.xlabels_top = False\n",
    "    gl.ylabels_right = False\n",
    "    gl.xformatter = LONGITUDE_FORMATTER\n",
    "    gl.yformatter = LATITUDE_FORMATTER\n",
    "    \n",
    "    \n",
    "    #ax.scatter(x_vec, y_vec, color='black')\n",
    "    w_mat = np.sqrt(u_mat**2 + v_mat**2)\n",
    "    im = plt.imshow(w_mat[0,:,:], \n",
    "                    extent=[x0, xf, y0, yf],\n",
    "                    origin = 'lower', vmin=vmin, vmax=vmax)\n",
    "    \n",
    "    #line, = plt.plot(x_vec[0], y_vec[0], color='black')\n",
    "    \n",
    "    plt.colorbar()\n",
    "    \n",
    "    #quiv = plt.quiver(grid_x[lon0-1:lonn+1], grid_y[lat0-1:latn+1], \n",
    "    #                  u_mat[0,:,:], v_mat[0,:,:], \n",
    "    #                  scale=scale, headwidth=headwidth, width=width)\n",
    "    \n",
    "    #title = plt.title('time: 0 hours')\n",
    "\n",
    "\n",
    "    def animate(i):\n",
    "        im.set_data(w_mat[i,:,:])\n",
    "        #quiv.set_UVC(u_mat[i,:,:], v_mat[i,:,:])\n",
    "        #title.set_text('time: {:.0f} hours'.format(t_vec[i]-t_vec[0]))\n",
    "        #line.set_data(x_vec[0:i+1], y_vec[0:i+1])\n",
    "        return im#, line\n",
    "    \n",
    "    \n",
    "    print(w_mat[:,0,0].size)\n",
    "    anim = FuncAnimation(fig, animate, frames=w_mat[:,0,0].size-1, interval=100)\n",
    "    #HTML(anim.to_html5_video())\n",
    "    anim.save(f'plots/{fname}.gif',writer='imagemagick')\n",
    "    "
   ]
  },
  {
   "cell_type": "code",
   "execution_count": 82,
   "metadata": {},
   "outputs": [
    {
     "name": "stdout",
     "output_type": "stream",
     "text": [
      "12\n"
     ]
    },
    {
     "data": {
      "image/png": "[encoded data removed]",
      "text/plain": [
       "<Figure size 432x288 with 2 Axes>"
      ]
     },
     "metadata": {},
     "output_type": "display_data"
    }
   ],
   "source": [
    "x_berg = sim.history['x'][:100]\n",
    "y_berg = sim.history['y'][:100]\n",
    "t_berg = nc.date2num(sim.history['t'][:100], atm_data.T_UNITS, atm_data.T_CALENDAR)\n",
    "\n",
    "x0 = min(x_berg)-1; xf = max(x_berg)+1; dx = 0.1\n",
    "y0 = min(y_berg)-1; yf = max(y_berg)+1; dy = 0.1\n",
    "t0 = min(t_berg)-1; tf = max(t_berg)+1; dt = 1\n",
    "\n",
    "xid0 = np.where(abs(atm_data.lons - x0) < (atm_data.lons[1]-atm_data.lons[0]))[0][0]\n",
    "xidf = np.where(abs(atm_data.lons - xf) < (atm_data.lons[1]-atm_data.lons[0]))[0][-1]\n",
    "yid0 = np.where(abs(atm_data.lats - y0) < (atm_data.lats[1]-atm_data.lats[0]))[0][0]\n",
    "yidf = np.where(abs(atm_data.lats - yf) < (atm_data.lats[1]-atm_data.lats[0]))[0][-1]\n",
    "tid0 = np.where(abs(atm_data.times - t0) < (atm_data.times[1]-atm_data.times[0]))[0][0]\n",
    "tidf = np.where(abs(atm_data.times - tf) < (atm_data.times[1]-atm_data.times[0]))[0][-1]\n",
    "\n",
    "x_slice = atm_data.lons[xid0:xidf+1]\n",
    "y_slice = atm_data.lats[yid0:yidf+1]\n",
    "t_slice = atm_data.times[tid0:tidf+1]\n",
    "\n",
    "u_data = atm_data.U[tid0:tidf+1, yid0:yidf+1, xid0:xidf+1]\n",
    "v_data = atm_data.V[tid0:tidf+1, yid0:yidf+1, xid0:xidf+1]\n",
    "\n",
    "\n",
    "berg_metocean_animation(x_berg, y_berg, t_berg, x0, xf, dx, y0, yf, dy, t0, tf, dt, \n",
    "                        x_slice, y_slice, t_slice, u_data, v_data, \n",
    "                        fname='wind_anim', vmin=0, vmax=15, scale=20)"
   ]
  },
  {
   "cell_type": "code",
   "execution_count": null,
   "metadata": {},
   "outputs": [],
   "source": []
  },
  {
   "cell_type": "raw",
   "metadata": {},
   "source": [
    "drift_track = [\n",
    "                sim.history['x'][:400],\n",
    "                sim.history['y'][:400],\n",
    "                nc.date2num(sim.history['t'][:400], ocean_data.T_UNITS, \n",
    "                            ocean_data.T_CALENDAR)\n",
    "]\n",
    "\n",
    "data_grid = [\n",
    "                ocean_data.times,\n",
    "                ocean_data.lats,\n",
    "                ocean_data.lons\n",
    "]\n",
    "\n",
    "data = [\n",
    "                ocean_data.U,\n",
    "                ocean_data.V\n",
    "]\n",
    "\n",
    "metocean_animation(drift_track, data_grid, data)"
   ]
  }
 ],
 "metadata": {
  "kernelspec": {
   "display_name": "Python 3",
   "language": "python",
   "name": "python3"
  },
  "language_info": {
   "codemirror_mode": {
    "name": "ipython",
    "version": 3
   },
   "file_extension": ".py",
   "mimetype": "text/x-python",
   "name": "python",
   "nbconvert_exporter": "python",
   "pygments_lexer": "ipython3",
   "version": "3.6.5"
  }
 },
 "nbformat": 4,
 "nbformat_minor": 2
}
