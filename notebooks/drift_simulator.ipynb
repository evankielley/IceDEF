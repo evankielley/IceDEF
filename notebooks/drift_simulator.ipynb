{
 "cells": [
  {
   "cell_type": "markdown",
   "metadata": {},
   "source": [
    "# Imports"
   ]
  },
  {
   "cell_type": "code",
   "execution_count": 6,
   "metadata": {},
   "outputs": [],
   "source": [
    "from datetime import timedelta\n",
    "import numpy as np\n",
    "import pandas as pd\n",
    "import netCDF4 as nc\n",
    "\n",
    "import matplotlib.pyplot as plt\n",
    "from matplotlib.backends.backend_pdf import PdfPages\n",
    "\n",
    "from icedef import iceberg, metocean, drift_simulation, plot, tools\n",
    "from icedef.turnbull import drift\n",
    "\n",
    "from scipy.optimize import minimize\n",
    "from scipy.interpolate import RegularGridInterpolator as RGI\n",
    "from scipy.interpolate import interp1d"
   ]
  },
  {
   "cell_type": "markdown",
   "metadata": {},
   "source": [
    "# Iceberg"
   ]
  },
  {
   "cell_type": "code",
   "execution_count": 15,
   "metadata": {},
   "outputs": [],
   "source": [
    "df = pd.read_csv('ftp://data.munroelab.ca/pub/iceberg/beacon/0204980_2015.csv')\n",
    "\n",
    "df['DataDate_UTC'] = pd.to_datetime(df['DataDate_UTC'])\n",
    "\n",
    "times = [t.to_pydatetime() for t in df['DataDate_UTC']]\n",
    "\n",
    "max_hr = 6\n",
    "dt_vec = np.asarray([(time - times[0]).days*24 + (time - times[0]).seconds/3600 for time in times])\n",
    "max_hr_indx = np.where(dt_vec < max_hr)[0][-1]\n",
    "\n",
    "df = df[:max_hr_indx+1]\n",
    "\n",
    "times = [t.to_pydatetime() for t in df['DataDate_UTC']]\n",
    "lons = df['Longitude']\n",
    "lats = df['Latitude']\n",
    "\n",
    "n = 100\n",
    "\n",
    "lonn = lons[n]; lon0 = lons[0] \n",
    "latn = lats[n]; lat0 = lats[0]\n",
    "\n",
    "dx, dy = tools.deg2m(lon0, lonn, lat0, latn) \n",
    "dist = np.sqrt(dx**2 + dy**2)\n",
    "tn = times[n]; t0 = times[0]\n",
    "dt = (tn - t0).days*3600 + (tn - t0).seconds\n",
    "vx = dx/dt; vy = dy/dt\n",
    "\n",
    "\n",
    "ref_berg = iceberg.Iceberg('0204980_2015', times[0], lons[0], lats[0], vx, vy, 0, 0, 'LG', 'TAB')\n",
    "ref_berg.history['T'] = times; ref_berg.history['X'] = lons; ref_berg.history['Y'] = lats\n",
    "berg = iceberg.clone_iceberg_state(ref_berg)"
   ]
  },
  {
   "cell_type": "markdown",
   "metadata": {},
   "source": [
    "# Metocean"
   ]
  },
  {
   "cell_type": "code",
   "execution_count": 16,
   "metadata": {},
   "outputs": [],
   "source": [
    "ocean_data = metocean.ECMWFOcean(ref_berg.history['T'][0], ref_berg.history['T'][-1])\n",
    "atm_data = metocean.NARRAtm(ref_berg.history['T'][0], ref_berg.history['T'][-1])"
   ]
  },
  {
   "cell_type": "markdown",
   "metadata": {},
   "source": [
    "# Drift Simulation"
   ]
  },
  {
   "cell_type": "markdown",
   "metadata": {},
   "source": [
    "### Timesteps"
   ]
  },
  {
   "cell_type": "code",
   "execution_count": 17,
   "metadata": {},
   "outputs": [],
   "source": [
    "dt = 0.1*3600\n",
    "t0 = ref_berg.history['T'][0]\n",
    "tf = ref_berg.history['T'][-1]\n",
    "tdelta = tf - t0\n",
    "tdelta_secs = tdelta.days*24*3600 + tdelta.seconds\n",
    "nt = int(tdelta_secs//dt)"
   ]
  },
  {
   "cell_type": "markdown",
   "metadata": {},
   "source": [
    "### Simulation"
   ]
  },
  {
   "cell_type": "code",
   "execution_count": 18,
   "metadata": {},
   "outputs": [
    {
     "data": {
      "image/png": "[encoded data removed]",
      "text/plain": [
       "<Figure size 432x288 with 1 Axes>"
      ]
     },
     "metadata": {},
     "output_type": "display_data"
    }
   ],
   "source": [
    "berg = iceberg.clone_iceberg_state(ref_berg)\n",
    "\n",
    "sim = drift_simulation.DriftSimulation(berg, ocean_data, atm_data, drift)\n",
    "\n",
    "sim.berg.Cda = 22.47098877\n",
    "sim.berg.Cdw = 10.25368618\n",
    "sim.rk2(dt, nt)\n",
    "\n",
    "# Plot\n",
    "\n",
    "plt.scatter(ref_berg.history['X'], ref_berg.history['Y'], s=2, label='observed')\n",
    "plt.scatter(sim.history['x'], sim.history['y'], s=2, label='computed')\n",
    "plt.title('Iceberg Drift Beacon Data from 0204980_2015.csv')\n",
    "plt.xlabel('Longitude')\n",
    "plt.ylabel('Latitude')\n",
    "plt.legend()\n",
    "plt.show()"
   ]
  },
  {
   "cell_type": "code",
   "execution_count": 19,
   "metadata": {},
   "outputs": [],
   "source": [
    "ref_berg_times = nc.date2num(ref_berg.history['T'], ocean_data.T_UNITS, \n",
    "                             ocean_data.T_CALENDAR)\n",
    "sim_berg_times = nc.date2num(sim.history['t'], ocean_data.T_UNITS, \n",
    "                             ocean_data.T_CALENDAR)"
   ]
  },
  {
   "cell_type": "code",
   "execution_count": 20,
   "metadata": {},
   "outputs": [],
   "source": [
    "def calc_mse(sim_x, sim_y, sim_t, ref_xvec, ref_yvec, ref_tvec):\n",
    "    t_units = 'hours since 1900-01-01 00:00:00'\n",
    "    t_calendar = 'standard'\n",
    "    sim_t = nc.date2num(sim_t, t_units, t_calendar)\n",
    "    ref_tvec = nc.date2num(ref_tvec, t_units, t_calendar)\n",
    "    ref_x_interp1d = interp1d(ref_tvec, ref_xvec)\n",
    "    ref_y_interp1d = interp1d(ref_tvec, ref_yvec)\n",
    "    ref_x = ref_x_interp1d(sim_t); ref_y = ref_y_interp1d(sim_t)\n",
    "    mse = np.sqrt((ref_x - sim_x)**2 + (ref_y - sim_y)**2)\n",
    "    return mse"
   ]
  },
  {
   "cell_type": "code",
   "execution_count": 21,
   "metadata": {},
   "outputs": [],
   "source": [
    "def drift_wrapper(Cd, sim, ref_berg, dt, nt):\n",
    "    \n",
    "    Cda, Cdw = Cd\n",
    "    \n",
    "    sim.berg.Cda = Cda\n",
    "    sim.berg.Cdw = Cdw\n",
    "    \n",
    "    sim.rk2(dt, nt)\n",
    "    \n",
    "    sim_x = sim.history['x'].tolist()[-1] \n",
    "    sim_y = sim.history['y'].tolist()[-1] \n",
    "    sim_t = sim.history['t'].tolist()[-1]\n",
    "    ref_xvec = ref_berg.history['X']\n",
    "    ref_yvec = ref_berg.history['Y']\n",
    "    ref_tvec = ref_berg.history['T']\n",
    "    mse = calc_mse(sim_x, sim_y, sim_t, ref_xvec, ref_yvec, ref_tvec)\n",
    "    \n",
    "    return mse"
   ]
  },
  {
   "cell_type": "code",
   "execution_count": 23,
   "metadata": {},
   "outputs": [
    {
     "data": {
      "text/plain": [
       "      fun: 0.007103164690198386\n",
       " hess_inv: <2x2 LbfgsInvHessProduct with dtype=float64>\n",
       "      jac: array([-8.78642645e-05, -4.31599201e-07])\n",
       "  message: b'CONVERGENCE: NORM_OF_PROJECTED_GRADIENT_<=_PGTOL'\n",
       "     nfev: 72\n",
       "      nit: 16\n",
       "   status: 0\n",
       "  success: True\n",
       "        x: array([30.        ,  4.86124667])"
      ]
     },
     "execution_count": 23,
     "metadata": {},
     "output_type": "execute_result"
    }
   ],
   "source": [
    "min_results = minimize(drift_wrapper, x0=(1, 1), bounds=((0, 30), (0, 30)), args=(sim, ref_berg, dt, nt))\n",
    "min_results"
   ]
  },
  {
   "cell_type": "code",
   "execution_count": 25,
   "metadata": {},
   "outputs": [
    {
     "data": {
      "text/plain": [
       "0.007103164690198386"
      ]
     },
     "execution_count": 25,
     "metadata": {},
     "output_type": "execute_result"
    }
   ],
   "source": [
    "drift_wrapper(min_results.x, sim, ref_berg, dt, nt)"
   ]
  },
  {
   "cell_type": "markdown",
   "metadata": {},
   "source": [
    "### Run again with minimized values"
   ]
  },
  {
   "cell_type": "code",
   "execution_count": 47,
   "metadata": {},
   "outputs": [],
   "source": [
    "df = pd.read_csv('ftp://data.munroelab.ca/pub/iceberg/beacon/0204980_2015.csv')\n",
    "\n",
    "df['DataDate_UTC'] = pd.to_datetime(df['DataDate_UTC'])\n",
    "\n",
    "times = [t.to_pydatetime() for t in df['DataDate_UTC']]\n",
    "\n",
    "max_hr = 16\n",
    "dt_vec = np.asarray([(time - times[0]).days*24 + (time - times[0]).seconds/3600 for time in times])\n",
    "max_hr_indx = np.where(dt_vec < max_hr)[0][-1]\n",
    "\n",
    "df = df[:max_hr_indx+1]\n",
    "\n",
    "times = [t.to_pydatetime() for t in df['DataDate_UTC']]\n",
    "lons = df['Longitude']\n",
    "lats = df['Latitude']\n",
    "\n",
    "n = 100\n",
    "\n",
    "lonn = lons[n]; lon0 = lons[0] \n",
    "latn = lats[n]; lat0 = lats[0]\n",
    "\n",
    "dx, dy = tools.deg2m(lon0, lonn, lat0, latn) \n",
    "dist = np.sqrt(dx**2 + dy**2)\n",
    "tn = times[n]; t0 = times[0]\n",
    "dt = (tn - t0).days*3600 + (tn - t0).seconds\n",
    "vx = dx/dt; vy = dy/dt\n",
    "\n",
    "\n",
    "ref_berg = iceberg.Iceberg('0204980_2015', times[0], lons[0], lats[0], vx, vy, 0, 0, 'LG', 'TAB')\n",
    "ref_berg.history['T'] = times; ref_berg.history['X'] = lons; ref_berg.history['Y'] = lats\n",
    "berg = iceberg.clone_iceberg_state(ref_berg)"
   ]
  },
  {
   "cell_type": "code",
   "execution_count": 48,
   "metadata": {},
   "outputs": [],
   "source": [
    "ocean_data = metocean.ECMWFOcean(ref_berg.history['T'][0], ref_berg.history['T'][-1])\n",
    "atm_data = metocean.NARRAtm(ref_berg.history['T'][0], ref_berg.history['T'][-1])"
   ]
  },
  {
   "cell_type": "code",
   "execution_count": 49,
   "metadata": {},
   "outputs": [],
   "source": [
    "dt = 0.1*3600\n",
    "t0 = ref_berg.history['T'][0]\n",
    "tf = ref_berg.history['T'][-1]\n",
    "tdelta = tf - t0\n",
    "tdelta_secs = tdelta.days*24*3600 + tdelta.seconds\n",
    "nt = int(tdelta_secs//dt)"
   ]
  },
  {
   "cell_type": "code",
   "execution_count": 50,
   "metadata": {},
   "outputs": [
    {
     "data": {
      "image/png": "[encoded data removed]",
      "text/plain": [
       "<Figure size 432x288 with 1 Axes>"
      ]
     },
     "metadata": {},
     "output_type": "display_data"
    }
   ],
   "source": [
    "berg = iceberg.clone_iceberg_state(ref_berg)\n",
    "sim = drift_simulation.DriftSimulation(berg, ocean_data, atm_data, drift)\n",
    "sim.berg.Cda, sim.berg.Cdw = min_results.x\n",
    "\n",
    "sim.rk2(dt, nt)\n",
    "\n",
    "# Plot\n",
    "\n",
    "plt.scatter(ref_berg.history['X'], ref_berg.history['Y'], s=2, label='observed')\n",
    "plt.scatter(sim.history['x'], sim.history['y'], s=2, label='computed')\n",
    "plt.title('Iceberg Drift Beacon Data from 0204980_2015.csv')\n",
    "plt.xlabel('Longitude')\n",
    "plt.ylabel('Latitude')\n",
    "plt.legend()\n",
    "plt.show()"
   ]
  },
  {
   "cell_type": "markdown",
   "metadata": {},
   "source": [
    "# Animation"
   ]
  },
  {
   "cell_type": "markdown",
   "metadata": {},
   "source": [
    "### Wind"
   ]
  },
  {
   "cell_type": "code",
   "execution_count": 6,
   "metadata": {},
   "outputs": [
    {
     "data": {
      "image/png": "[encoded data removed]",
      "text/plain": [
       "<Figure size 432x288 with 2 Axes>"
      ]
     },
     "metadata": {},
     "output_type": "display_data"
    }
   ],
   "source": [
    "dx_scale = 3\n",
    "dy_scale = 3\n",
    "dt_scale = 3\n",
    "grid_scales = [dx_scale, dy_scale, dt_scale]\n",
    "\n",
    "x_berg = sim.history['x']\n",
    "y_berg = sim.history['y']\n",
    "t_berg = nc.date2num(sim.history['t'], atm_data.T_UNITS, atm_data.T_CALENDAR)\n",
    "xyt_berg = [x_berg, y_berg, t_berg]\n",
    "\n",
    "x_grid = atm_data.lons\n",
    "y_grid = atm_data.lats\n",
    "t_grid = atm_data.times\n",
    "xyt_grid = [x_grid, y_grid, t_grid]\n",
    "\n",
    "u_data = atm_data.U\n",
    "v_data = atm_data.V\n",
    "uv_data = [u_data, v_data]\n",
    "\n",
    "plot.berg_metocean_animation(xyt_berg, xyt_grid, grid_scales, uv_data, \n",
    "                             fname='wind_anim', v_auto=True, scale=20, speed=500)"
   ]
  },
  {
   "cell_type": "markdown",
   "metadata": {},
   "source": [
    "### Current"
   ]
  },
  {
   "cell_type": "code",
   "execution_count": 7,
   "metadata": {},
   "outputs": [
    {
     "data": {
      "image/png": "[encoded data removed]",
      "text/plain": [
       "<Figure size 432x288 with 2 Axes>"
      ]
     },
     "metadata": {},
     "output_type": "display_data"
    }
   ],
   "source": [
    "dx_scale = 1\n",
    "dy_scale = 1\n",
    "dt_scale = 1\n",
    "grid_scales = [dx_scale, dy_scale, dt_scale]\n",
    "\n",
    "x_berg = sim.history['x']\n",
    "y_berg = sim.history['y']\n",
    "t_berg = nc.date2num(sim.history['t'], ocean_data.T_UNITS, ocean_data.T_CALENDAR)\n",
    "xyt_berg = [x_berg, y_berg, t_berg]\n",
    "\n",
    "x_grid = ocean_data.lons\n",
    "y_grid = ocean_data.lats\n",
    "t_grid = ocean_data.times\n",
    "xyt_grid = [x_grid, y_grid, t_grid]\n",
    "\n",
    "u_data = ocean_data.U\n",
    "v_data = ocean_data.V\n",
    "uv_data = [u_data, v_data]\n",
    "\n",
    "plot.berg_metocean_animation(xyt_berg, xyt_grid, grid_scales, uv_data, \n",
    "                             fname='current_anim', v_auto=True, scale=0.5, speed=500)"
   ]
  },
  {
   "cell_type": "code",
   "execution_count": null,
   "metadata": {},
   "outputs": [],
   "source": []
  },
  {
   "cell_type": "code",
   "execution_count": null,
   "metadata": {},
   "outputs": [],
   "source": []
  },
  {
   "cell_type": "code",
   "execution_count": null,
   "metadata": {},
   "outputs": [],
   "source": []
  },
  {
   "cell_type": "code",
   "execution_count": 12,
   "metadata": {},
   "outputs": [
    {
     "data": {
      "text/plain": [
       "159"
      ]
     },
     "execution_count": 12,
     "metadata": {},
     "output_type": "execute_result"
    }
   ],
   "source": [
    "np.where(x_grid > -51.8)[0][0]"
   ]
  },
  {
   "cell_type": "code",
   "execution_count": 11,
   "metadata": {},
   "outputs": [
    {
     "data": {
      "text/plain": [
       "163"
      ]
     },
     "execution_count": 11,
     "metadata": {},
     "output_type": "execute_result"
    }
   ],
   "source": [
    "np.where(x_grid < -51.4)[0][-1]"
   ]
  },
  {
   "cell_type": "code",
   "execution_count": 13,
   "metadata": {},
   "outputs": [
    {
     "data": {
      "text/plain": [
       "137"
      ]
     },
     "execution_count": 13,
     "metadata": {},
     "output_type": "execute_result"
    }
   ],
   "source": [
    "np.where(y_grid > 51.4)[0][0]"
   ]
  },
  {
   "cell_type": "code",
   "execution_count": 14,
   "metadata": {},
   "outputs": [
    {
     "data": {
      "text/plain": [
       "140"
      ]
     },
     "execution_count": 14,
     "metadata": {},
     "output_type": "execute_result"
    }
   ],
   "source": [
    "np.where(y_grid < 51.7)[0][-1]"
   ]
  },
  {
   "cell_type": "code",
   "execution_count": 15,
   "metadata": {},
   "outputs": [
    {
     "data": {
      "text/plain": [
       "-0.1919608"
      ]
     },
     "execution_count": 15,
     "metadata": {},
     "output_type": "execute_result"
    }
   ],
   "source": [
    "np.mean(u_data[:, 159:163+1, 137:140+1])"
   ]
  },
  {
   "cell_type": "code",
   "execution_count": 16,
   "metadata": {},
   "outputs": [
    {
     "data": {
      "text/plain": [
       "-0.10271322"
      ]
     },
     "execution_count": 16,
     "metadata": {},
     "output_type": "execute_result"
    }
   ],
   "source": [
    "np.mean(v_data[:, 159:163+1, 137:140+1])"
   ]
  },
  {
   "cell_type": "code",
   "execution_count": 18,
   "metadata": {},
   "outputs": [],
   "source": [
    "u2 = np.swapaxes(u_data, 1, 2)"
   ]
  },
  {
   "cell_type": "code",
   "execution_count": 19,
   "metadata": {},
   "outputs": [
    {
     "data": {
      "text/plain": [
       "-0.1919608"
      ]
     },
     "execution_count": 19,
     "metadata": {},
     "output_type": "execute_result"
    }
   ],
   "source": [
    "np.mean(u2[:, 137:140+1,  159:163+1])"
   ]
  },
  {
   "cell_type": "code",
   "execution_count": null,
   "metadata": {},
   "outputs": [],
   "source": []
  }
 ],
 "metadata": {
  "kernelspec": {
   "display_name": "Python 3",
   "language": "python",
   "name": "python3"
  },
  "language_info": {
   "codemirror_mode": {
    "name": "ipython",
    "version": 3
   },
   "file_extension": ".py",
   "mimetype": "text/x-python",
   "name": "python",
   "nbconvert_exporter": "python",
   "pygments_lexer": "ipython3",
   "version": "3.6.5"
  }
 },
 "nbformat": 4,
 "nbformat_minor": 2
}
