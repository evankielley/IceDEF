{
 "cells": [
  {
   "cell_type": "markdown",
   "metadata": {},
   "source": [
    "# Drift Simulator"
   ]
  },
  {
   "cell_type": "code",
   "execution_count": 62,
   "metadata": {},
   "outputs": [],
   "source": [
    "from datetime import timedelta\n",
    "import numpy as np"
   ]
  },
  {
   "cell_type": "code",
   "execution_count": 1,
   "metadata": {},
   "outputs": [],
   "source": [
    "drift_model = 'turnbull'  # options are 'turnbull' or 'wagner'\n",
    "ocean_model = 'ecmwf'  # options are 'ecmwf'\n",
    "atm_model = 'ecmwf'  # options are 'ecmwf'"
   ]
  },
  {
   "cell_type": "code",
   "execution_count": 6,
   "metadata": {},
   "outputs": [],
   "source": [
    "import os, sys, inspect\n",
    "currentdir = os.path.dirname(os.path.abspath(inspect.getfile(inspect.currentframe())))\n",
    "parentdir = os.path.dirname(currentdir)\n",
    "sys.path.insert(0,parentdir)"
   ]
  },
  {
   "cell_type": "code",
   "execution_count": 68,
   "metadata": {},
   "outputs": [],
   "source": [
    "if drift_model == 'turnbull':\n",
    "    from icedef.turnbull import drift\n",
    "elif drift_model == 'wagner':\n",
    "    from iceberg.wagner import drift\n",
    "else:\n",
    "    print('drift model specified is invalid')\n",
    "    \n",
    "from icedef import iceberg, metocean, plot"
   ]
  },
  {
   "cell_type": "code",
   "execution_count": 50,
   "metadata": {},
   "outputs": [
    {
     "name": "stderr",
     "output_type": "stream",
     "text": [
      "/home/evankielley/IceDEF/icedef/iceberg.py:204: SettingWithCopyWarning: \n",
      "A value is trying to be set on a copy of a slice from a DataFrame.\n",
      "Try using .loc[row_indexer,col_indexer] = value instead\n",
      "\n",
      "See the caveats in the documentation: http://pandas.pydata.org/pandas-docs/stable/indexing.html#indexing-view-versus-copy\n",
      "  iip_df['TIMESTAMP'] += pd.to_timedelta(pd.to_datetime(iip_df['SIGHTING_TIME'], format='%H%M').dt.hour, unit='h')\n",
      "/home/evankielley/IceDEF/icedef/iceberg.py:205: SettingWithCopyWarning: \n",
      "A value is trying to be set on a copy of a slice from a DataFrame.\n",
      "Try using .loc[row_indexer,col_indexer] = value instead\n",
      "\n",
      "See the caveats in the documentation: http://pandas.pydata.org/pandas-docs/stable/indexing.html#indexing-view-versus-copy\n",
      "  iip_df['TIMESTAMP'] += pd.to_timedelta(pd.to_datetime(iip_df['SIGHTING_TIME'], format='%H%M').dt.minute, unit='m')\n"
     ]
    }
   ],
   "source": [
    "# If iip_iceberg is set to True then the user must choose an iceberg from the 2015 iip\n",
    "# iceberg sightings database\n",
    "iip_iceberg = True\n",
    "\n",
    "if iip_iceberg:\n",
    "    #iceberg_ID = 20668\n",
    "    #iip_berg_df = iip_df.loc[iip_df['ICEBERG_NUMBER'] == iceberg_ID]\n",
    "    iip_df = iceberg.get_iip_df(2015)\n",
    "    iip_df = iceberg.add_datetime_column(iip_df)\n",
    "    iip_berg_df = iip_df.loc[iip_df.index[3283:3286]].reset_index()\n",
    "    iip_berg_df\n",
    "    ID = iip_berg_df['ICEBERG_NUMBER'].loc[0]\n",
    "    T = iip_berg_df['TIMESTAMP'].dt.to_pydatetime()[0]\n",
    "    X = iip_berg_df['SIGHTING_LONGITUDE'].loc[0]\n",
    "    Y = iip_berg_df['SIGHTING_LATITUDE'].loc[0]\n",
    "    Vx = 0\n",
    "    Vy = 0\n",
    "    size = iip_berg_df['SIZE'].loc[0]\n",
    "    shape = iip_berg_df['SHAPE'].loc[0]\n",
    "    iip_berg = iceberg.Iceberg(ID, T, X, Y, Vx, Vy, size, shape)\n",
    "    iip_berg.history['T'] = iip_berg_df['TIMESTAMP'].dt.to_pydatetime()\n",
    "    iip_berg.history['X'] = iip_berg_df['SIGHTING_LONGITUDE'].loc[:].tolist()\n",
    "    iip_berg.history['Y'] = iip_berg_df['SIGHTING_LATITUDE'].loc[:].tolist()\n",
    "    \n",
    "    mod_berg = iceberg.Iceberg(ID, T, X, Y, Vx, Vy, size, shape)\n",
    "\n",
    "else:\n",
    "    print(\"Under Construction\")"
   ]
  },
  {
   "cell_type": "code",
   "execution_count": 56,
   "metadata": {},
   "outputs": [
    {
     "data": {
      "text/plain": [
       "['ftp://data.munroelab.ca/pub/ECMWF/ocean/daily/20150616.nc',\n",
       " 'ftp://data.munroelab.ca/pub/ECMWF/ocean/daily/20150617.nc',\n",
       " 'ftp://data.munroelab.ca/pub/ECMWF/ocean/daily/20150618.nc']"
      ]
     },
     "execution_count": 56,
     "metadata": {},
     "output_type": "execute_result"
    }
   ],
   "source": [
    "ocean_data = metocean.ECMWF_Ocean(min(iip_berg.history['X']), max(iip_berg.history['X']),\n",
    "                         min(iip_berg.history['Y']), max(iip_berg.history['Y']),\n",
    "                         iip_berg.history['T'][0], iip_berg.history['T'][-1])\n",
    "\n",
    "ocean_data.filenames"
   ]
  },
  {
   "cell_type": "code",
   "execution_count": 57,
   "metadata": {},
   "outputs": [
    {
     "data": {
      "text/plain": [
       "['ftp://data.munroelab.ca/pub/ECMWF/atm/daily/sub20150616.nc',\n",
       " 'ftp://data.munroelab.ca/pub/ECMWF/atm/daily/sub20150617.nc',\n",
       " 'ftp://data.munroelab.ca/pub/ECMWF/atm/daily/sub20150618.nc']"
      ]
     },
     "execution_count": 57,
     "metadata": {},
     "output_type": "execute_result"
    }
   ],
   "source": [
    "atm_data = metocean.ECMWF_Atm(min(iip_berg.history['X']), max(iip_berg.history['X']),\n",
    "                         min(iip_berg.history['Y']), max(iip_berg.history['Y']),\n",
    "                         iip_berg.history['T'][0], iip_berg.history['T'][-1])\n",
    "\n",
    "atm_data.filenames"
   ]
  },
  {
   "cell_type": "code",
   "execution_count": 63,
   "metadata": {},
   "outputs": [],
   "source": [
    "# Timesteps\n",
    "t0 = iip_berg.history['T'][0]\n",
    "tf = iip_berg.history['T'][-1]\n",
    "t_delta = tf - t0\n",
    "t_delta_hours = t_delta.days*24 + t_delta.seconds/3600\n",
    "t_step_hours = 0.1\n",
    "t_step = timedelta(hours = t_step_hours)\n",
    "dt = t_step_hours*3600  # timestep in seconds\n",
    "t_all = []\n",
    "\n",
    "for i in np.arange(0, t_delta_hours + t_step_hours, t_step_hours):\n",
    "    new_date = t0 + timedelta(hours=i)\n",
    "    t_all.append(new_date)"
   ]
  },
  {
   "cell_type": "code",
   "execution_count": 70,
   "metadata": {},
   "outputs": [
    {
     "name": "stdout",
     "output_type": "stream",
     "text": [
      "Final time: 2015-06-18 12:52:00\n"
     ]
    }
   ],
   "source": [
    "earth_radius = 6378*1e3  # radius of Earth  (m)\n",
    "\n",
    "\n",
    "# Buffer number for bounding spatial box\n",
    "drift_xmin = max(min(ocean_data.lons), min(atm_data.lons))\n",
    "drift_xmax = min(max(ocean_data.lons), max(atm_data.lons))\n",
    "drift_ymin = max(min(ocean_data.lats), min(atm_data.lats))\n",
    "drift_ymax = min(max(ocean_data.lats), max(atm_data.lats))\n",
    "\n",
    "\n",
    "for t in t_all:\n",
    "\n",
    "    mod_berg.T = t\n",
    "\n",
    "    if drift_model == 'turnbull':\n",
    "    \n",
    "        ax, ay = drift(mod_berg, ocean_data, atm_data) \n",
    "\n",
    "        mod_berg.Vx += dt*ax  \n",
    "        mod_berg.Vy += dt*ay\n",
    "\n",
    "    elif drift_model == 'wagner':\n",
    "    \n",
    "        mod_berg.Vx, mod_berg.Vy = drift(mod_berg, ocean_data, atm_data) \n",
    "\n",
    "    \n",
    "    # Iceberg position (note the conversion from meters back to degrees)\n",
    "    y_ = mod_berg.Y\n",
    "    mod_berg.Y += dt*mod_berg.Vy*(180/(np.pi*earth_radius))  # y-component of iceberg position (degrees latitude)\n",
    "    mod_berg.X += dt*mod_berg.Vx/(np.cos((((y_ + mod_berg.Y)/2)*np.pi)/180))*(180/(np.pi*earth_radius))  # x-component of iceberg position (degrees longitude)\n",
    "\n",
    "    if mod_berg.X > drift_xmax:\n",
    "        print('Iceberg out-of-bounds')\n",
    "        break\n",
    "\n",
    "    elif mod_berg.X < drift_xmin: \n",
    "        print('Iceberg out-of-bounds')\n",
    "        break\n",
    "\n",
    "    elif mod_berg.Y > drift_ymax:\n",
    "        print('Iceberg out-of-bounds')\n",
    "        break\n",
    "\n",
    "    elif mod_berg.Y < drift_ymin:\n",
    "        print('Iceberg out-of-bounds')\n",
    "        break\n",
    "\n",
    "\n",
    "    else:\n",
    "        mod_berg.history['T'].append(mod_berg.T)\n",
    "        mod_berg.history['X'].append(mod_berg.X)\n",
    "        mod_berg.history['Y'].append(mod_berg.Y)\n",
    "        mod_berg.history['Vx'].append(mod_berg.Vx)\n",
    "        mod_berg.history['Vy'].append(mod_berg.Vy)\n",
    "\n",
    "print(\"Final time: {}\".format(t)) "
   ]
  },
  {
   "cell_type": "code",
   "execution_count": null,
   "metadata": {},
   "outputs": [],
   "source": []
  }
 ],
 "metadata": {
  "kernelspec": {
   "display_name": "Python 3",
   "language": "python",
   "name": "python3"
  },
  "language_info": {
   "codemirror_mode": {
    "name": "ipython",
    "version": 3
   },
   "file_extension": ".py",
   "mimetype": "text/x-python",
   "name": "python",
   "nbconvert_exporter": "python",
   "pygments_lexer": "ipython3",
   "version": "3.6.3"
  }
 },
 "nbformat": 4,
 "nbformat_minor": 2
}
