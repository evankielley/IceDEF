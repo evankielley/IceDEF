{
 "cells": [
  {
   "cell_type": "markdown",
   "metadata": {},
   "source": [
    "# Imports"
   ]
  },
  {
   "cell_type": "code",
   "execution_count": 1,
   "metadata": {},
   "outputs": [],
   "source": [
    "from datetime import timedelta\n",
    "import numpy as np\n",
    "import pandas as pd\n",
    "import netCDF4 as nc\n",
    "\n",
    "import matplotlib.pyplot as plt\n",
    "from matplotlib.backends.backend_pdf import PdfPages\n",
    "\n",
    "from icedef import iceberg, metocean, drift_simulation, plot, tools\n",
    "from icedef.turnbull import drift"
   ]
  },
  {
   "cell_type": "markdown",
   "metadata": {},
   "source": [
    "# Iceberg"
   ]
  },
  {
   "cell_type": "code",
   "execution_count": 2,
   "metadata": {},
   "outputs": [],
   "source": [
    "df = pd.read_csv('ftp://data.munroelab.ca/pub/iceberg/beacon/0204980_2015.csv')\n",
    "\n",
    "df['DataDate_UTC'] = pd.to_datetime(df['DataDate_UTC'])\n",
    "\n",
    "times = [t.to_pydatetime() for t in df['DataDate_UTC']]\n",
    "\n",
    "max_hr = 24\n",
    "dt_vec = np.asarray([(time - times[0]).days*24 + (time - times[0]).seconds/3600 for time in times])\n",
    "max_hr_indx = np.where(dt_vec < max_hr)[0][-1]\n",
    "\n",
    "df = df[:max_hr_indx+1]\n",
    "\n",
    "times = [t.to_pydatetime() for t in df['DataDate_UTC']]\n",
    "lons = df['Longitude']\n",
    "lats = df['Latitude']\n",
    "\n",
    "n = 100\n",
    "\n",
    "lonn = lons[n]; lon0 = lons[0] \n",
    "latn = lats[n]; lat0 = lats[0]\n",
    "\n",
    "dx, dy = tools.deg2m(lon0, lonn, lat0, latn) \n",
    "dist = np.sqrt(dx**2 + dy**2)\n",
    "\n",
    "tn = times[n]; t0 = times[0]\n",
    "dt = (tn - t0).days*3600 + (tn - t0).seconds\n",
    "\n",
    "vx = dx/dt; vy = dy/dt\n",
    "\n",
    "\n",
    "ref_berg = iceberg.Iceberg('0204980_2015', times[0], lons[0], lats[0], vx, vy, 0, 0, 'LG', 'TAB')\n",
    "\n",
    "ref_berg.history['T'] = times; ref_berg.history['X'] = lons; ref_berg.history['Y'] = lats\n",
    "\n",
    "berg = iceberg.clone_iceberg_state(ref_berg)"
   ]
  },
  {
   "cell_type": "raw",
   "metadata": {},
   "source": [
    "iip_season = 2015\n",
    "max_hours = 24\n",
    "\n",
    "#iip_df = iceberg.get_dense_df(iip_season, max_hours)\n",
    "iip_df = pd.read_csv(f'csvs/{iip_season}_max{max_hours}hr_tracks')\n",
    "iip_df = iip_df.drop('Unnamed: 0', axis=1)\n",
    "iip_df['TIMESTAMP'] = pd.to_datetime(iip_df['TIMESTAMP'])\n",
    "\n",
    "track_num = 0\n",
    "iip_berg_df = iip_df.loc[iip_df['track_num'] == track_num]\n",
    "\n",
    "iip_berg = iceberg.get_iip_berg(iip_berg_df)"
   ]
  },
  {
   "cell_type": "markdown",
   "metadata": {},
   "source": [
    "# Metocean"
   ]
  },
  {
   "cell_type": "code",
   "execution_count": 3,
   "metadata": {},
   "outputs": [],
   "source": [
    "ocean_data = metocean.ECMWFOcean(ref_berg.history['T'][0], ref_berg.history['T'][-1])\n",
    "\n",
    "#ocean_data.filenames\n",
    "\n",
    "atm_data = metocean.NARRAtm(ref_berg.history['T'][0], ref_berg.history['T'][-1])\n",
    "\n",
    "#atm_data.filenames"
   ]
  },
  {
   "cell_type": "markdown",
   "metadata": {},
   "source": [
    "# Drift Simulation"
   ]
  },
  {
   "cell_type": "markdown",
   "metadata": {},
   "source": [
    "### Timesteps"
   ]
  },
  {
   "cell_type": "code",
   "execution_count": 4,
   "metadata": {},
   "outputs": [],
   "source": [
    "dt = 0.1*3600\n",
    "t0 = ref_berg.history['T'][0]\n",
    "tf = ref_berg.history['T'][-1]\n",
    "tdelta = tf - t0\n",
    "tdelta_secs = tdelta.days*24*3600 + tdelta.seconds\n",
    "nt = int(tdelta_secs//dt)"
   ]
  },
  {
   "cell_type": "markdown",
   "metadata": {},
   "source": [
    "### Simulation"
   ]
  },
  {
   "cell_type": "code",
   "execution_count": 5,
   "metadata": {},
   "outputs": [
    {
     "name": "stdout",
     "output_type": "stream",
     "text": [
      "One of the requested xi is out of bounds in dimension 2\n"
     ]
    },
    {
     "data": {
      "image/png": "[encoded data removed]",
      "text/plain": [
       "<Figure size 432x288 with 1 Axes>"
      ]
     },
     "metadata": {},
     "output_type": "display_data"
    }
   ],
   "source": [
    "berg = iceberg.clone_iceberg_state(ref_berg)\n",
    "\n",
    "sim = drift_simulation.DriftSimulation(berg, ocean_data, atm_data, drift)\n",
    "\n",
    "sim.berg.Cda = 22.47098877\n",
    "sim.berg.Cdw = 10.25368618\n",
    "sim.rk2(dt, nt)\n",
    "\n",
    "# Plot\n",
    "\n",
    "plt.scatter(ref_berg.history['X'], ref_berg.history['Y'], s=2, label='observed')\n",
    "plt.scatter(sim.history['x'], sim.history['y'], s=2, label='computed')\n",
    "plt.title('Iceberg Drift Beacon Data from 0204980_2015.csv')\n",
    "plt.xlabel('Longitude')\n",
    "plt.ylabel('Latitude')\n",
    "plt.legend()\n",
    "plt.show()"
   ]
  },
  {
   "cell_type": "code",
   "execution_count": 6,
   "metadata": {},
   "outputs": [],
   "source": [
    "from scipy.optimize import minimize\n",
    "from scipy.interpolate import RegularGridInterpolator as RGI\n",
    "from scipy.interpolate import interp1d"
   ]
  },
  {
   "cell_type": "code",
   "execution_count": 14,
   "metadata": {},
   "outputs": [
    {
     "data": {
      "text/plain": [
       "'hours since 1950-01-01 00:00:00'"
      ]
     },
     "execution_count": 14,
     "metadata": {},
     "output_type": "execute_result"
    }
   ],
   "source": [
    "ocean_data.T_UNITS"
   ]
  },
  {
   "cell_type": "code",
   "execution_count": 7,
   "metadata": {},
   "outputs": [],
   "source": [
    "ref_berg_times = nc.date2num(ref_berg.history['T'], ocean_data.T_UNITS, \n",
    "                             ocean_data.T_CALENDAR)\n",
    "sim_berg_times = nc.date2num(sim.history['t'], ocean_data.T_UNITS, \n",
    "                             ocean_data.T_CALENDAR)"
   ]
  },
  {
   "cell_type": "code",
   "execution_count": 18,
   "metadata": {},
   "outputs": [],
   "source": [
    "def calc_mse(sim_x, sim_y, sim_t, ref_xvec, ref_yvec, ref_tvec):\n",
    "    t_units = 'hours since 1900-01-01 00:00:00'\n",
    "    t_calendar = 'standard'\n",
    "    sim_t = nc.date2num(sim_t, t_units, t_calendar)\n",
    "    ref_tvec = nc.date2num(ref_tvec, t_units, t_calendar)\n",
    "    ref_x_interp1d = interp1d(ref_tvec, ref_xvec)\n",
    "    ref_y_interp1d = interp1d(ref_tvec, ref_yvec)\n",
    "    ref_x = ref_x_interp1d(sim_t); ref_y = ref_y_interp1d(sim_t)\n",
    "    mse = np.sqrt((ref_x - sim_x)**2 + (ref_y - sim_y)**2)\n",
    "    return mse"
   ]
  },
  {
   "cell_type": "code",
   "execution_count": 19,
   "metadata": {},
   "outputs": [],
   "source": [
    "def drift_wrapper(Cd, sim, ref_berg, dt, nt):\n",
    "    \n",
    "    Cda, Cdw = Cd\n",
    "    \n",
    "    sim.berg.Cda = Cda\n",
    "    sim.berg.Cdw = Cdw\n",
    "    \n",
    "    sim.rk2(dt, nt)\n",
    "    \n",
    "    sim_t0 = sim.history['t'][0]\n",
    "    sim_x = sim.history['x'].tolist()[-1] \n",
    "    sim_y = sim.history['y'].tolist()[-1] \n",
    "    sim_t = sim.history['t'].tolist()[-1]\n",
    "    ref_xvec = ref_berg.history['X']\n",
    "    ref_yvec = ref_berg.history['Y']\n",
    "    ref_tvec = ref_berg.history['T']\n",
    "    mse = calc_mse(sim_x, sim_y, sim_t, ref_xvec, ref_yvec, ref_tvec)\n",
    "    \n",
    "    return mse"
   ]
  },
  {
   "cell_type": "code",
   "execution_count": 20,
   "metadata": {},
   "outputs": [
    {
     "name": "stdout",
     "output_type": "stream",
     "text": [
      "Iceberg out of bounds\n",
      "Iceberg out of bounds\n",
      "Iceberg out of bounds\n",
      "Iceberg out of bounds\n",
      "Iceberg out of bounds\n",
      "Iceberg out of bounds\n",
      "Iceberg out of bounds\n",
      "Iceberg out of bounds\n",
      "Iceberg out of bounds\n",
      "Iceberg out of bounds\n",
      "Iceberg out of bounds\n",
      "Iceberg out of bounds\n",
      "Iceberg out of bounds\n",
      "Iceberg out of bounds\n",
      "Iceberg out of bounds\n",
      "Iceberg out of bounds\n",
      "Iceberg out of bounds\n",
      "Iceberg out of bounds\n",
      "Iceberg out of bounds\n",
      "Iceberg out of bounds\n",
      "Iceberg out of bounds\n",
      "Iceberg out of bounds\n",
      "Iceberg out of bounds\n",
      "Iceberg out of bounds\n",
      "Iceberg out of bounds\n",
      "Iceberg out of bounds\n",
      "Iceberg out of bounds\n",
      "Iceberg out of bounds\n",
      "Iceberg out of bounds\n",
      "Iceberg out of bounds\n",
      "Iceberg out of bounds\n",
      "Iceberg out of bounds\n",
      "Iceberg out of bounds\n",
      "Iceberg out of bounds\n",
      "Iceberg out of bounds\n",
      "Iceberg out of bounds\n",
      "Iceberg out of bounds\n",
      "Iceberg out of bounds\n",
      "Iceberg out of bounds\n",
      "Iceberg out of bounds\n",
      "Iceberg out of bounds\n",
      "Iceberg out of bounds\n",
      "Iceberg out of bounds\n",
      "Iceberg out of bounds\n",
      "Iceberg out of bounds\n",
      "Iceberg out of bounds\n",
      "Iceberg out of bounds\n",
      "Iceberg out of bounds\n",
      "Iceberg out of bounds\n",
      "Iceberg out of bounds\n",
      "Iceberg out of bounds\n",
      "Iceberg out of bounds\n",
      "Iceberg out of bounds\n",
      "Iceberg out of bounds\n",
      "One of the requested xi is out of bounds in dimension 2\n",
      "One of the requested xi is out of bounds in dimension 2\n",
      "One of the requested xi is out of bounds in dimension 2\n",
      "Iceberg out of bounds\n",
      "Iceberg out of bounds\n",
      "Iceberg out of bounds\n",
      "One of the requested xi is out of bounds in dimension 2\n",
      "One of the requested xi is out of bounds in dimension 2\n",
      "One of the requested xi is out of bounds in dimension 2\n",
      "One of the requested xi is out of bounds in dimension 2\n",
      "One of the requested xi is out of bounds in dimension 2\n",
      "One of the requested xi is out of bounds in dimension 2\n",
      "Iceberg out of bounds\n",
      "Iceberg out of bounds\n",
      "Iceberg out of bounds\n",
      "One of the requested xi is out of bounds in dimension 2\n",
      "One of the requested xi is out of bounds in dimension 2\n",
      "One of the requested xi is out of bounds in dimension 2\n",
      "Iceberg out of bounds\n",
      "Iceberg out of bounds\n",
      "Iceberg out of bounds\n",
      "One of the requested xi is out of bounds in dimension 2\n",
      "One of the requested xi is out of bounds in dimension 2\n",
      "One of the requested xi is out of bounds in dimension 2\n",
      "One of the requested xi is out of bounds in dimension 2\n",
      "One of the requested xi is out of bounds in dimension 2\n",
      "One of the requested xi is out of bounds in dimension 2\n",
      "Iceberg out of bounds\n",
      "Iceberg out of bounds\n",
      "Iceberg out of bounds\n",
      "One of the requested xi is out of bounds in dimension 2\n",
      "One of the requested xi is out of bounds in dimension 2\n",
      "One of the requested xi is out of bounds in dimension 2\n",
      "One of the requested xi is out of bounds in dimension 2\n",
      "One of the requested xi is out of bounds in dimension 2\n",
      "One of the requested xi is out of bounds in dimension 2\n",
      "Iceberg out of bounds\n",
      "Iceberg out of bounds\n",
      "Iceberg out of bounds\n",
      "One of the requested xi is out of bounds in dimension 2\n",
      "One of the requested xi is out of bounds in dimension 2\n",
      "One of the requested xi is out of bounds in dimension 2\n",
      "One of the requested xi is out of bounds in dimension 2\n",
      "One of the requested xi is out of bounds in dimension 2\n",
      "One of the requested xi is out of bounds in dimension 2\n",
      "Iceberg out of bounds\n",
      "Iceberg out of bounds\n",
      "Iceberg out of bounds\n",
      "One of the requested xi is out of bounds in dimension 2\n",
      "One of the requested xi is out of bounds in dimension 2\n",
      "One of the requested xi is out of bounds in dimension 2\n",
      "One of the requested xi is out of bounds in dimension 2\n",
      "One of the requested xi is out of bounds in dimension 2\n",
      "One of the requested xi is out of bounds in dimension 2\n",
      "One of the requested xi is out of bounds in dimension 2\n",
      "One of the requested xi is out of bounds in dimension 2\n",
      "One of the requested xi is out of bounds in dimension 2\n",
      "Iceberg out of bounds\n",
      "Iceberg out of bounds\n",
      "Iceberg out of bounds\n",
      "One of the requested xi is out of bounds in dimension 2\n",
      "One of the requested xi is out of bounds in dimension 2\n",
      "One of the requested xi is out of bounds in dimension 2\n",
      "One of the requested xi is out of bounds in dimension 2\n",
      "One of the requested xi is out of bounds in dimension 2\n",
      "One of the requested xi is out of bounds in dimension 2\n",
      "One of the requested xi is out of bounds in dimension 2\n",
      "One of the requested xi is out of bounds in dimension 2\n",
      "One of the requested xi is out of bounds in dimension 2\n",
      "One of the requested xi is out of bounds in dimension 2\n",
      "One of the requested xi is out of bounds in dimension 2\n",
      "One of the requested xi is out of bounds in dimension 2\n",
      "Iceberg out of bounds\n",
      "Iceberg out of bounds\n",
      "Iceberg out of bounds\n",
      "One of the requested xi is out of bounds in dimension 2\n",
      "One of the requested xi is out of bounds in dimension 2\n",
      "One of the requested xi is out of bounds in dimension 2\n",
      "One of the requested xi is out of bounds in dimension 2\n",
      "One of the requested xi is out of bounds in dimension 2\n",
      "One of the requested xi is out of bounds in dimension 2\n",
      "One of the requested xi is out of bounds in dimension 2\n",
      "One of the requested xi is out of bounds in dimension 2\n",
      "One of the requested xi is out of bounds in dimension 2\n",
      "One of the requested xi is out of bounds in dimension 2\n",
      "One of the requested xi is out of bounds in dimension 2\n",
      "One of the requested xi is out of bounds in dimension 2\n",
      "Iceberg out of bounds\n",
      "Iceberg out of bounds\n",
      "Iceberg out of bounds\n",
      "One of the requested xi is out of bounds in dimension 2\n",
      "One of the requested xi is out of bounds in dimension 2\n",
      "One of the requested xi is out of bounds in dimension 2\n",
      "Iceberg out of bounds\n",
      "Iceberg out of bounds\n",
      "Iceberg out of bounds\n",
      "Iceberg out of bounds\n",
      "Iceberg out of bounds\n",
      "Iceberg out of bounds\n",
      "One of the requested xi is out of bounds in dimension 2\n",
      "One of the requested xi is out of bounds in dimension 2\n",
      "One of the requested xi is out of bounds in dimension 2\n",
      "One of the requested xi is out of bounds in dimension 2\n",
      "One of the requested xi is out of bounds in dimension 2\n",
      "One of the requested xi is out of bounds in dimension 2\n",
      "Iceberg out of bounds\n",
      "Iceberg out of bounds\n"
     ]
    },
    {
     "ename": "KeyboardInterrupt",
     "evalue": "",
     "output_type": "error",
     "traceback": [
      "\u001b[0;31m---------------------------------------------------------------------------\u001b[0m",
      "\u001b[0;31mKeyboardInterrupt\u001b[0m                         Traceback (most recent call last)",
      "\u001b[0;32m<ipython-input-20-726685dc68a7>\u001b[0m in \u001b[0;36m<module>\u001b[0;34m()\u001b[0m\n\u001b[0;32m----> 1\u001b[0;31m \u001b[0mminimize\u001b[0m\u001b[0;34m(\u001b[0m\u001b[0mdrift_wrapper\u001b[0m\u001b[0;34m,\u001b[0m \u001b[0mx0\u001b[0m\u001b[0;34m=\u001b[0m\u001b[0;34m(\u001b[0m\u001b[0;36m10\u001b[0m\u001b[0;34m,\u001b[0m \u001b[0;36m1\u001b[0m\u001b[0;34m)\u001b[0m\u001b[0;34m,\u001b[0m \u001b[0mbounds\u001b[0m\u001b[0;34m=\u001b[0m\u001b[0;34m(\u001b[0m\u001b[0;34m(\u001b[0m\u001b[0;36m0\u001b[0m\u001b[0;34m,\u001b[0m \u001b[0;36m100\u001b[0m\u001b[0;34m)\u001b[0m\u001b[0;34m,\u001b[0m \u001b[0;34m(\u001b[0m\u001b[0;36m0\u001b[0m\u001b[0;34m,\u001b[0m \u001b[0;36m100\u001b[0m\u001b[0;34m)\u001b[0m\u001b[0;34m)\u001b[0m\u001b[0;34m,\u001b[0m \u001b[0margs\u001b[0m\u001b[0;34m=\u001b[0m\u001b[0;34m(\u001b[0m\u001b[0msim\u001b[0m\u001b[0;34m,\u001b[0m \u001b[0mref_berg\u001b[0m\u001b[0;34m,\u001b[0m \u001b[0mdt\u001b[0m\u001b[0;34m,\u001b[0m \u001b[0mnt\u001b[0m\u001b[0;34m)\u001b[0m\u001b[0;34m)\u001b[0m\u001b[0;34m\u001b[0m\u001b[0m\n\u001b[0m",
      "\u001b[0;32m~/.conda/envs/icedef/lib/python3.6/site-packages/scipy/optimize/_minimize.py\u001b[0m in \u001b[0;36mminimize\u001b[0;34m(fun, x0, args, method, jac, hess, hessp, bounds, constraints, tol, callback, options)\u001b[0m\n\u001b[1;32m    601\u001b[0m     \u001b[0;32melif\u001b[0m \u001b[0mmeth\u001b[0m \u001b[0;34m==\u001b[0m \u001b[0;34m'l-bfgs-b'\u001b[0m\u001b[0;34m:\u001b[0m\u001b[0;34m\u001b[0m\u001b[0m\n\u001b[1;32m    602\u001b[0m         return _minimize_lbfgsb(fun, x0, args, jac, bounds,\n\u001b[0;32m--> 603\u001b[0;31m                                 callback=callback, **options)\n\u001b[0m\u001b[1;32m    604\u001b[0m     \u001b[0;32melif\u001b[0m \u001b[0mmeth\u001b[0m \u001b[0;34m==\u001b[0m \u001b[0;34m'tnc'\u001b[0m\u001b[0;34m:\u001b[0m\u001b[0;34m\u001b[0m\u001b[0m\n\u001b[1;32m    605\u001b[0m         return _minimize_tnc(fun, x0, args, jac, bounds, callback=callback,\n",
      "\u001b[0;32m~/.conda/envs/icedef/lib/python3.6/site-packages/scipy/optimize/lbfgsb.py\u001b[0m in \u001b[0;36m_minimize_lbfgsb\u001b[0;34m(fun, x0, args, jac, bounds, disp, maxcor, ftol, gtol, eps, maxfun, maxiter, iprint, callback, maxls, **unknown_options)\u001b[0m\n\u001b[1;32m    333\u001b[0m             \u001b[0;31m# until the completion of the current minimization iteration.\u001b[0m\u001b[0;34m\u001b[0m\u001b[0;34m\u001b[0m\u001b[0m\n\u001b[1;32m    334\u001b[0m             \u001b[0;31m# Overwrite f and g:\u001b[0m\u001b[0;34m\u001b[0m\u001b[0;34m\u001b[0m\u001b[0m\n\u001b[0;32m--> 335\u001b[0;31m             \u001b[0mf\u001b[0m\u001b[0;34m,\u001b[0m \u001b[0mg\u001b[0m \u001b[0;34m=\u001b[0m \u001b[0mfunc_and_grad\u001b[0m\u001b[0;34m(\u001b[0m\u001b[0mx\u001b[0m\u001b[0;34m)\u001b[0m\u001b[0;34m\u001b[0m\u001b[0m\n\u001b[0m\u001b[1;32m    336\u001b[0m         \u001b[0;32melif\u001b[0m \u001b[0mtask_str\u001b[0m\u001b[0;34m.\u001b[0m\u001b[0mstartswith\u001b[0m\u001b[0;34m(\u001b[0m\u001b[0;34mb'NEW_X'\u001b[0m\u001b[0;34m)\u001b[0m\u001b[0;34m:\u001b[0m\u001b[0;34m\u001b[0m\u001b[0m\n\u001b[1;32m    337\u001b[0m             \u001b[0;31m# new iteration\u001b[0m\u001b[0;34m\u001b[0m\u001b[0;34m\u001b[0m\u001b[0m\n",
      "\u001b[0;32m~/.conda/envs/icedef/lib/python3.6/site-packages/scipy/optimize/lbfgsb.py\u001b[0m in \u001b[0;36mfunc_and_grad\u001b[0;34m(x)\u001b[0m\n\u001b[1;32m    279\u001b[0m         \u001b[0;32mdef\u001b[0m \u001b[0mfunc_and_grad\u001b[0m\u001b[0;34m(\u001b[0m\u001b[0mx\u001b[0m\u001b[0;34m)\u001b[0m\u001b[0;34m:\u001b[0m\u001b[0;34m\u001b[0m\u001b[0m\n\u001b[1;32m    280\u001b[0m             \u001b[0mf\u001b[0m \u001b[0;34m=\u001b[0m \u001b[0mfun\u001b[0m\u001b[0;34m(\u001b[0m\u001b[0mx\u001b[0m\u001b[0;34m,\u001b[0m \u001b[0;34m*\u001b[0m\u001b[0margs\u001b[0m\u001b[0;34m)\u001b[0m\u001b[0;34m\u001b[0m\u001b[0m\n\u001b[0;32m--> 281\u001b[0;31m             \u001b[0mg\u001b[0m \u001b[0;34m=\u001b[0m \u001b[0m_approx_fprime_helper\u001b[0m\u001b[0;34m(\u001b[0m\u001b[0mx\u001b[0m\u001b[0;34m,\u001b[0m \u001b[0mfun\u001b[0m\u001b[0;34m,\u001b[0m \u001b[0mepsilon\u001b[0m\u001b[0;34m,\u001b[0m \u001b[0margs\u001b[0m\u001b[0;34m=\u001b[0m\u001b[0margs\u001b[0m\u001b[0;34m,\u001b[0m \u001b[0mf0\u001b[0m\u001b[0;34m=\u001b[0m\u001b[0mf\u001b[0m\u001b[0;34m)\u001b[0m\u001b[0;34m\u001b[0m\u001b[0m\n\u001b[0m\u001b[1;32m    282\u001b[0m             \u001b[0;32mreturn\u001b[0m \u001b[0mf\u001b[0m\u001b[0;34m,\u001b[0m \u001b[0mg\u001b[0m\u001b[0;34m\u001b[0m\u001b[0m\n\u001b[1;32m    283\u001b[0m     \u001b[0;32melse\u001b[0m\u001b[0;34m:\u001b[0m\u001b[0;34m\u001b[0m\u001b[0m\n",
      "\u001b[0;32m~/.conda/envs/icedef/lib/python3.6/site-packages/scipy/optimize/optimize.py\u001b[0m in \u001b[0;36m_approx_fprime_helper\u001b[0;34m(xk, f, epsilon, args, f0)\u001b[0m\n\u001b[1;32m    661\u001b[0m         \u001b[0mei\u001b[0m\u001b[0;34m[\u001b[0m\u001b[0mk\u001b[0m\u001b[0;34m]\u001b[0m \u001b[0;34m=\u001b[0m \u001b[0;36m1.0\u001b[0m\u001b[0;34m\u001b[0m\u001b[0m\n\u001b[1;32m    662\u001b[0m         \u001b[0md\u001b[0m \u001b[0;34m=\u001b[0m \u001b[0mepsilon\u001b[0m \u001b[0;34m*\u001b[0m \u001b[0mei\u001b[0m\u001b[0;34m\u001b[0m\u001b[0m\n\u001b[0;32m--> 663\u001b[0;31m         \u001b[0mgrad\u001b[0m\u001b[0;34m[\u001b[0m\u001b[0mk\u001b[0m\u001b[0;34m]\u001b[0m \u001b[0;34m=\u001b[0m \u001b[0;34m(\u001b[0m\u001b[0mf\u001b[0m\u001b[0;34m(\u001b[0m\u001b[0;34m*\u001b[0m\u001b[0;34m(\u001b[0m\u001b[0;34m(\u001b[0m\u001b[0mxk\u001b[0m \u001b[0;34m+\u001b[0m \u001b[0md\u001b[0m\u001b[0;34m,\u001b[0m\u001b[0;34m)\u001b[0m \u001b[0;34m+\u001b[0m \u001b[0margs\u001b[0m\u001b[0;34m)\u001b[0m\u001b[0;34m)\u001b[0m \u001b[0;34m-\u001b[0m \u001b[0mf0\u001b[0m\u001b[0;34m)\u001b[0m \u001b[0;34m/\u001b[0m \u001b[0md\u001b[0m\u001b[0;34m[\u001b[0m\u001b[0mk\u001b[0m\u001b[0;34m]\u001b[0m\u001b[0;34m\u001b[0m\u001b[0m\n\u001b[0m\u001b[1;32m    664\u001b[0m         \u001b[0mei\u001b[0m\u001b[0;34m[\u001b[0m\u001b[0mk\u001b[0m\u001b[0;34m]\u001b[0m \u001b[0;34m=\u001b[0m \u001b[0;36m0.0\u001b[0m\u001b[0;34m\u001b[0m\u001b[0m\n\u001b[1;32m    665\u001b[0m     \u001b[0;32mreturn\u001b[0m \u001b[0mgrad\u001b[0m\u001b[0;34m\u001b[0m\u001b[0m\n",
      "\u001b[0;32m~/.conda/envs/icedef/lib/python3.6/site-packages/scipy/optimize/optimize.py\u001b[0m in \u001b[0;36mfunction_wrapper\u001b[0;34m(*wrapper_args)\u001b[0m\n\u001b[1;32m    291\u001b[0m     \u001b[0;32mdef\u001b[0m \u001b[0mfunction_wrapper\u001b[0m\u001b[0;34m(\u001b[0m\u001b[0;34m*\u001b[0m\u001b[0mwrapper_args\u001b[0m\u001b[0;34m)\u001b[0m\u001b[0;34m:\u001b[0m\u001b[0;34m\u001b[0m\u001b[0m\n\u001b[1;32m    292\u001b[0m         \u001b[0mncalls\u001b[0m\u001b[0;34m[\u001b[0m\u001b[0;36m0\u001b[0m\u001b[0;34m]\u001b[0m \u001b[0;34m+=\u001b[0m \u001b[0;36m1\u001b[0m\u001b[0;34m\u001b[0m\u001b[0m\n\u001b[0;32m--> 293\u001b[0;31m         \u001b[0;32mreturn\u001b[0m \u001b[0mfunction\u001b[0m\u001b[0;34m(\u001b[0m\u001b[0;34m*\u001b[0m\u001b[0;34m(\u001b[0m\u001b[0mwrapper_args\u001b[0m \u001b[0;34m+\u001b[0m \u001b[0margs\u001b[0m\u001b[0;34m)\u001b[0m\u001b[0;34m)\u001b[0m\u001b[0;34m\u001b[0m\u001b[0m\n\u001b[0m\u001b[1;32m    294\u001b[0m \u001b[0;34m\u001b[0m\u001b[0m\n\u001b[1;32m    295\u001b[0m     \u001b[0;32mreturn\u001b[0m \u001b[0mncalls\u001b[0m\u001b[0;34m,\u001b[0m \u001b[0mfunction_wrapper\u001b[0m\u001b[0;34m\u001b[0m\u001b[0m\n",
      "\u001b[0;32m<ipython-input-19-4f3dda260c00>\u001b[0m in \u001b[0;36mdrift_wrapper\u001b[0;34m(Cd, sim, ref_berg, dt, nt)\u001b[0m\n\u001b[1;32m      6\u001b[0m     \u001b[0msim\u001b[0m\u001b[0;34m.\u001b[0m\u001b[0mberg\u001b[0m\u001b[0;34m.\u001b[0m\u001b[0mCdw\u001b[0m \u001b[0;34m=\u001b[0m \u001b[0mCdw\u001b[0m\u001b[0;34m\u001b[0m\u001b[0m\n\u001b[1;32m      7\u001b[0m \u001b[0;34m\u001b[0m\u001b[0m\n\u001b[0;32m----> 8\u001b[0;31m     \u001b[0msim\u001b[0m\u001b[0;34m.\u001b[0m\u001b[0mrk2\u001b[0m\u001b[0;34m(\u001b[0m\u001b[0mdt\u001b[0m\u001b[0;34m,\u001b[0m \u001b[0mnt\u001b[0m\u001b[0;34m)\u001b[0m\u001b[0;34m\u001b[0m\u001b[0m\n\u001b[0m\u001b[1;32m      9\u001b[0m \u001b[0;34m\u001b[0m\u001b[0m\n\u001b[1;32m     10\u001b[0m     \u001b[0msim_t0\u001b[0m \u001b[0;34m=\u001b[0m \u001b[0msim\u001b[0m\u001b[0;34m.\u001b[0m\u001b[0mhistory\u001b[0m\u001b[0;34m[\u001b[0m\u001b[0;34m't'\u001b[0m\u001b[0;34m]\u001b[0m\u001b[0;34m[\u001b[0m\u001b[0;36m0\u001b[0m\u001b[0;34m]\u001b[0m\u001b[0;34m\u001b[0m\u001b[0m\n",
      "\u001b[0;32m~/IceDEF/icedef/drift_simulation.py\u001b[0m in \u001b[0;36mrk2\u001b[0;34m(self, dt, nt)\u001b[0m\n\u001b[1;32m    172\u001b[0m             \u001b[0mvx\u001b[0m\u001b[0;34m[\u001b[0m\u001b[0mi\u001b[0m\u001b[0;34m+\u001b[0m\u001b[0;36m1\u001b[0m\u001b[0;34m]\u001b[0m \u001b[0;34m=\u001b[0m \u001b[0mvx\u001b[0m\u001b[0;34m[\u001b[0m\u001b[0mi\u001b[0m\u001b[0;34m]\u001b[0m \u001b[0;34m+\u001b[0m \u001b[0mdt\u001b[0m\u001b[0;34m*\u001b[0m\u001b[0mhalf_ax\u001b[0m\u001b[0;34m\u001b[0m\u001b[0m\n\u001b[1;32m    173\u001b[0m             \u001b[0mvy\u001b[0m\u001b[0;34m[\u001b[0m\u001b[0mi\u001b[0m\u001b[0;34m+\u001b[0m\u001b[0;36m1\u001b[0m\u001b[0;34m]\u001b[0m \u001b[0;34m=\u001b[0m \u001b[0mvy\u001b[0m\u001b[0;34m[\u001b[0m\u001b[0mi\u001b[0m\u001b[0;34m]\u001b[0m \u001b[0;34m+\u001b[0m \u001b[0mdt\u001b[0m\u001b[0;34m*\u001b[0m\u001b[0mhalf_ay\u001b[0m\u001b[0;34m\u001b[0m\u001b[0m\n\u001b[0;32m--> 174\u001b[0;31m             \u001b[0mdx\u001b[0m \u001b[0;34m=\u001b[0m \u001b[0mdt\u001b[0m\u001b[0;34m*\u001b[0m\u001b[0mvx\u001b[0m\u001b[0;34m[\u001b[0m\u001b[0mi\u001b[0m\u001b[0;34m+\u001b[0m\u001b[0;36m1\u001b[0m\u001b[0;34m]\u001b[0m\u001b[0;34m\u001b[0m\u001b[0m\n\u001b[0m\u001b[1;32m    175\u001b[0m             \u001b[0mdy\u001b[0m \u001b[0;34m=\u001b[0m \u001b[0mdt\u001b[0m\u001b[0;34m*\u001b[0m\u001b[0mvy\u001b[0m\u001b[0;34m[\u001b[0m\u001b[0mi\u001b[0m\u001b[0;34m+\u001b[0m\u001b[0;36m1\u001b[0m\u001b[0;34m]\u001b[0m\u001b[0;34m\u001b[0m\u001b[0m\n\u001b[1;32m    176\u001b[0m             \u001b[0mx\u001b[0m\u001b[0;34m[\u001b[0m\u001b[0mi\u001b[0m\u001b[0;34m+\u001b[0m\u001b[0;36m1\u001b[0m\u001b[0;34m]\u001b[0m\u001b[0;34m,\u001b[0m \u001b[0my\u001b[0m\u001b[0;34m[\u001b[0m\u001b[0mi\u001b[0m\u001b[0;34m+\u001b[0m\u001b[0;36m1\u001b[0m\u001b[0;34m]\u001b[0m \u001b[0;34m=\u001b[0m \u001b[0mself\u001b[0m\u001b[0;34m.\u001b[0m\u001b[0mmeters_to_degrees\u001b[0m\u001b[0;34m(\u001b[0m\u001b[0mx\u001b[0m\u001b[0;34m[\u001b[0m\u001b[0mi\u001b[0m\u001b[0;34m]\u001b[0m\u001b[0;34m,\u001b[0m \u001b[0my\u001b[0m\u001b[0;34m[\u001b[0m\u001b[0mi\u001b[0m\u001b[0;34m]\u001b[0m\u001b[0;34m,\u001b[0m \u001b[0mdx\u001b[0m\u001b[0;34m,\u001b[0m \u001b[0mdy\u001b[0m\u001b[0;34m)\u001b[0m\u001b[0;34m\u001b[0m\u001b[0m\n",
      "\u001b[0;32m~/IceDEF/icedef/drift_simulation.py\u001b[0m in \u001b[0;36minterpolate\u001b[0;34m(self, t, x, y)\u001b[0m\n\u001b[1;32m     53\u001b[0m     \u001b[0;32mdef\u001b[0m \u001b[0minterpolate\u001b[0m\u001b[0;34m(\u001b[0m\u001b[0mself\u001b[0m\u001b[0;34m,\u001b[0m \u001b[0mt\u001b[0m\u001b[0;34m,\u001b[0m \u001b[0mx\u001b[0m\u001b[0;34m,\u001b[0m \u001b[0my\u001b[0m\u001b[0;34m)\u001b[0m\u001b[0;34m:\u001b[0m\u001b[0;34m\u001b[0m\u001b[0m\n\u001b[1;32m     54\u001b[0m \u001b[0;34m\u001b[0m\u001b[0m\n\u001b[0;32m---> 55\u001b[0;31m         \u001b[0mVcx\u001b[0m\u001b[0;34m,\u001b[0m \u001b[0mVcy\u001b[0m \u001b[0;34m=\u001b[0m \u001b[0mself\u001b[0m\u001b[0;34m.\u001b[0m\u001b[0mocean\u001b[0m\u001b[0;34m.\u001b[0m\u001b[0minterpolate\u001b[0m\u001b[0;34m(\u001b[0m\u001b[0mt\u001b[0m\u001b[0;34m,\u001b[0m \u001b[0mx\u001b[0m\u001b[0;34m,\u001b[0m \u001b[0my\u001b[0m\u001b[0;34m)\u001b[0m\u001b[0;34m\u001b[0m\u001b[0m\n\u001b[0m\u001b[1;32m     56\u001b[0m         \u001b[0mVax\u001b[0m\u001b[0;34m,\u001b[0m \u001b[0mVay\u001b[0m \u001b[0;34m=\u001b[0m \u001b[0mself\u001b[0m\u001b[0;34m.\u001b[0m\u001b[0matm\u001b[0m\u001b[0;34m.\u001b[0m\u001b[0minterpolate\u001b[0m\u001b[0;34m(\u001b[0m\u001b[0mt\u001b[0m\u001b[0;34m,\u001b[0m \u001b[0mx\u001b[0m\u001b[0;34m,\u001b[0m \u001b[0my\u001b[0m\u001b[0;34m)\u001b[0m\u001b[0;34m\u001b[0m\u001b[0m\n\u001b[1;32m     57\u001b[0m \u001b[0;34m\u001b[0m\u001b[0m\n",
      "\u001b[0;32m~/IceDEF/icedef/metocean.py\u001b[0m in \u001b[0;36minterpolate\u001b[0;34m(self, t, x, y)\u001b[0m\n\u001b[1;32m    197\u001b[0m \u001b[0;34m\u001b[0m\u001b[0m\n\u001b[1;32m    198\u001b[0m         \u001b[0mu\u001b[0m \u001b[0;34m=\u001b[0m \u001b[0mself\u001b[0m\u001b[0;34m.\u001b[0m\u001b[0miU\u001b[0m\u001b[0;34m(\u001b[0m\u001b[0;34m[\u001b[0m\u001b[0mt\u001b[0m\u001b[0;34m,\u001b[0m \u001b[0my\u001b[0m\u001b[0;34m,\u001b[0m \u001b[0mx\u001b[0m\u001b[0;34m]\u001b[0m\u001b[0;34m)\u001b[0m\u001b[0;34m[\u001b[0m\u001b[0;36m0\u001b[0m\u001b[0;34m]\u001b[0m\u001b[0;34m\u001b[0m\u001b[0m\n\u001b[0;32m--> 199\u001b[0;31m         \u001b[0mv\u001b[0m \u001b[0;34m=\u001b[0m \u001b[0mself\u001b[0m\u001b[0;34m.\u001b[0m\u001b[0miV\u001b[0m\u001b[0;34m(\u001b[0m\u001b[0;34m[\u001b[0m\u001b[0mt\u001b[0m\u001b[0;34m,\u001b[0m \u001b[0my\u001b[0m\u001b[0;34m,\u001b[0m \u001b[0mx\u001b[0m\u001b[0;34m]\u001b[0m\u001b[0;34m)\u001b[0m\u001b[0;34m[\u001b[0m\u001b[0;36m0\u001b[0m\u001b[0;34m]\u001b[0m\u001b[0;34m\u001b[0m\u001b[0m\n\u001b[0m\u001b[1;32m    200\u001b[0m \u001b[0;34m\u001b[0m\u001b[0m\n\u001b[1;32m    201\u001b[0m         \u001b[0;32mreturn\u001b[0m \u001b[0mu\u001b[0m\u001b[0;34m,\u001b[0m \u001b[0mv\u001b[0m\u001b[0;34m\u001b[0m\u001b[0m\n",
      "\u001b[0;32m~/.conda/envs/icedef/lib/python3.6/site-packages/scipy/interpolate/interpolate.py\u001b[0m in \u001b[0;36m__call__\u001b[0;34m(self, xi, method)\u001b[0m\n\u001b[1;32m   2483\u001b[0m             result = self._evaluate_linear(indices,\n\u001b[1;32m   2484\u001b[0m                                            \u001b[0mnorm_distances\u001b[0m\u001b[0;34m,\u001b[0m\u001b[0;34m\u001b[0m\u001b[0m\n\u001b[0;32m-> 2485\u001b[0;31m                                            out_of_bounds)\n\u001b[0m\u001b[1;32m   2486\u001b[0m         \u001b[0;32melif\u001b[0m \u001b[0mmethod\u001b[0m \u001b[0;34m==\u001b[0m \u001b[0;34m\"nearest\"\u001b[0m\u001b[0;34m:\u001b[0m\u001b[0;34m\u001b[0m\u001b[0m\n\u001b[1;32m   2487\u001b[0m             result = self._evaluate_nearest(indices,\n",
      "\u001b[0;32m~/.conda/envs/icedef/lib/python3.6/site-packages/scipy/interpolate/interpolate.py\u001b[0m in \u001b[0;36m_evaluate_linear\u001b[0;34m(self, indices, norm_distances, out_of_bounds)\u001b[0m\n\u001b[1;32m   2499\u001b[0m         \u001b[0;31m# find relevant values\u001b[0m\u001b[0;34m\u001b[0m\u001b[0;34m\u001b[0m\u001b[0m\n\u001b[1;32m   2500\u001b[0m         \u001b[0;31m# each i and i+1 represents a edge\u001b[0m\u001b[0;34m\u001b[0m\u001b[0;34m\u001b[0m\u001b[0m\n\u001b[0;32m-> 2501\u001b[0;31m         \u001b[0medges\u001b[0m \u001b[0;34m=\u001b[0m \u001b[0mitertools\u001b[0m\u001b[0;34m.\u001b[0m\u001b[0mproduct\u001b[0m\u001b[0;34m(\u001b[0m\u001b[0;34m*\u001b[0m\u001b[0;34m[\u001b[0m\u001b[0;34m[\u001b[0m\u001b[0mi\u001b[0m\u001b[0;34m,\u001b[0m \u001b[0mi\u001b[0m \u001b[0;34m+\u001b[0m \u001b[0;36m1\u001b[0m\u001b[0;34m]\u001b[0m \u001b[0;32mfor\u001b[0m \u001b[0mi\u001b[0m \u001b[0;32min\u001b[0m \u001b[0mindices\u001b[0m\u001b[0;34m]\u001b[0m\u001b[0;34m)\u001b[0m\u001b[0;34m\u001b[0m\u001b[0m\n\u001b[0m\u001b[1;32m   2502\u001b[0m         \u001b[0mvalues\u001b[0m \u001b[0;34m=\u001b[0m \u001b[0;36m0.\u001b[0m\u001b[0;34m\u001b[0m\u001b[0m\n\u001b[1;32m   2503\u001b[0m         \u001b[0;32mfor\u001b[0m \u001b[0medge_indices\u001b[0m \u001b[0;32min\u001b[0m \u001b[0medges\u001b[0m\u001b[0;34m:\u001b[0m\u001b[0;34m\u001b[0m\u001b[0m\n",
      "\u001b[0;31mKeyboardInterrupt\u001b[0m: "
     ]
    }
   ],
   "source": [
    "minimize(drift_wrapper, x0=(10, 1), bounds=((0, 100), (0, 100)), args=(sim, ref_berg, dt, nt))"
   ]
  },
  {
   "cell_type": "code",
   "execution_count": 89,
   "metadata": {},
   "outputs": [
    {
     "data": {
      "text/plain": [
       "0.042128886538331"
      ]
     },
     "execution_count": 89,
     "metadata": {},
     "output_type": "execute_result"
    }
   ],
   "source": [
    "drift_wrapper([10., 4.10745372], sim, ref_berg, dt, nt)"
   ]
  },
  {
   "cell_type": "markdown",
   "metadata": {},
   "source": [
    "# Animation"
   ]
  },
  {
   "cell_type": "markdown",
   "metadata": {},
   "source": [
    "### Wind"
   ]
  },
  {
   "cell_type": "code",
   "execution_count": 6,
   "metadata": {},
   "outputs": [
    {
     "data": {
      "image/png": "[encoded data removed]",
      "text/plain": [
       "<Figure size 432x288 with 2 Axes>"
      ]
     },
     "metadata": {},
     "output_type": "display_data"
    }
   ],
   "source": [
    "dx_scale = 3\n",
    "dy_scale = 3\n",
    "dt_scale = 3\n",
    "grid_scales = [dx_scale, dy_scale, dt_scale]\n",
    "\n",
    "x_berg = sim.history['x']\n",
    "y_berg = sim.history['y']\n",
    "t_berg = nc.date2num(sim.history['t'], atm_data.T_UNITS, atm_data.T_CALENDAR)\n",
    "xyt_berg = [x_berg, y_berg, t_berg]\n",
    "\n",
    "x_grid = atm_data.lons\n",
    "y_grid = atm_data.lats\n",
    "t_grid = atm_data.times\n",
    "xyt_grid = [x_grid, y_grid, t_grid]\n",
    "\n",
    "u_data = atm_data.U\n",
    "v_data = atm_data.V\n",
    "uv_data = [u_data, v_data]\n",
    "\n",
    "plot.berg_metocean_animation(xyt_berg, xyt_grid, grid_scales, uv_data, \n",
    "                             fname='wind_anim', v_auto=True, scale=20, speed=500)"
   ]
  },
  {
   "cell_type": "markdown",
   "metadata": {},
   "source": [
    "### Current"
   ]
  },
  {
   "cell_type": "code",
   "execution_count": 7,
   "metadata": {},
   "outputs": [
    {
     "data": {
      "image/png": "[encoded data removed]",
      "text/plain": [
       "<Figure size 432x288 with 2 Axes>"
      ]
     },
     "metadata": {},
     "output_type": "display_data"
    }
   ],
   "source": [
    "dx_scale = 1\n",
    "dy_scale = 1\n",
    "dt_scale = 1\n",
    "grid_scales = [dx_scale, dy_scale, dt_scale]\n",
    "\n",
    "x_berg = sim.history['x']\n",
    "y_berg = sim.history['y']\n",
    "t_berg = nc.date2num(sim.history['t'], ocean_data.T_UNITS, ocean_data.T_CALENDAR)\n",
    "xyt_berg = [x_berg, y_berg, t_berg]\n",
    "\n",
    "x_grid = ocean_data.lons\n",
    "y_grid = ocean_data.lats\n",
    "t_grid = ocean_data.times\n",
    "xyt_grid = [x_grid, y_grid, t_grid]\n",
    "\n",
    "u_data = ocean_data.U\n",
    "v_data = ocean_data.V\n",
    "uv_data = [u_data, v_data]\n",
    "\n",
    "plot.berg_metocean_animation(xyt_berg, xyt_grid, grid_scales, uv_data, \n",
    "                             fname='current_anim', v_auto=True, scale=0.5, speed=500)"
   ]
  },
  {
   "cell_type": "code",
   "execution_count": null,
   "metadata": {},
   "outputs": [],
   "source": []
  },
  {
   "cell_type": "code",
   "execution_count": null,
   "metadata": {},
   "outputs": [],
   "source": []
  },
  {
   "cell_type": "code",
   "execution_count": null,
   "metadata": {},
   "outputs": [],
   "source": []
  },
  {
   "cell_type": "code",
   "execution_count": 12,
   "metadata": {},
   "outputs": [
    {
     "data": {
      "text/plain": [
       "159"
      ]
     },
     "execution_count": 12,
     "metadata": {},
     "output_type": "execute_result"
    }
   ],
   "source": [
    "np.where(x_grid > -51.8)[0][0]"
   ]
  },
  {
   "cell_type": "code",
   "execution_count": 11,
   "metadata": {},
   "outputs": [
    {
     "data": {
      "text/plain": [
       "163"
      ]
     },
     "execution_count": 11,
     "metadata": {},
     "output_type": "execute_result"
    }
   ],
   "source": [
    "np.where(x_grid < -51.4)[0][-1]"
   ]
  },
  {
   "cell_type": "code",
   "execution_count": 13,
   "metadata": {},
   "outputs": [
    {
     "data": {
      "text/plain": [
       "137"
      ]
     },
     "execution_count": 13,
     "metadata": {},
     "output_type": "execute_result"
    }
   ],
   "source": [
    "np.where(y_grid > 51.4)[0][0]"
   ]
  },
  {
   "cell_type": "code",
   "execution_count": 14,
   "metadata": {},
   "outputs": [
    {
     "data": {
      "text/plain": [
       "140"
      ]
     },
     "execution_count": 14,
     "metadata": {},
     "output_type": "execute_result"
    }
   ],
   "source": [
    "np.where(y_grid < 51.7)[0][-1]"
   ]
  },
  {
   "cell_type": "code",
   "execution_count": 15,
   "metadata": {},
   "outputs": [
    {
     "data": {
      "text/plain": [
       "-0.1919608"
      ]
     },
     "execution_count": 15,
     "metadata": {},
     "output_type": "execute_result"
    }
   ],
   "source": [
    "np.mean(u_data[:, 159:163+1, 137:140+1])"
   ]
  },
  {
   "cell_type": "code",
   "execution_count": 16,
   "metadata": {},
   "outputs": [
    {
     "data": {
      "text/plain": [
       "-0.10271322"
      ]
     },
     "execution_count": 16,
     "metadata": {},
     "output_type": "execute_result"
    }
   ],
   "source": [
    "np.mean(v_data[:, 159:163+1, 137:140+1])"
   ]
  },
  {
   "cell_type": "code",
   "execution_count": 18,
   "metadata": {},
   "outputs": [],
   "source": [
    "u2 = np.swapaxes(u_data, 1, 2)"
   ]
  },
  {
   "cell_type": "code",
   "execution_count": 19,
   "metadata": {},
   "outputs": [
    {
     "data": {
      "text/plain": [
       "-0.1919608"
      ]
     },
     "execution_count": 19,
     "metadata": {},
     "output_type": "execute_result"
    }
   ],
   "source": [
    "np.mean(u2[:, 137:140+1,  159:163+1])"
   ]
  },
  {
   "cell_type": "code",
   "execution_count": null,
   "metadata": {},
   "outputs": [],
   "source": []
  }
 ],
 "metadata": {
  "kernelspec": {
   "display_name": "Python 3",
   "language": "python",
   "name": "python3"
  },
  "language_info": {
   "codemirror_mode": {
    "name": "ipython",
    "version": 3
   },
   "file_extension": ".py",
   "mimetype": "text/x-python",
   "name": "python",
   "nbconvert_exporter": "python",
   "pygments_lexer": "ipython3",
   "version": "3.6.5"
  }
 },
 "nbformat": 4,
 "nbformat_minor": 2
}
