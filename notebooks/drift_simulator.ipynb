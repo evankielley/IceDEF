{
 "cells": [
  {
   "cell_type": "markdown",
   "metadata": {},
   "source": [
    "# Imports"
   ]
  },
  {
   "cell_type": "code",
   "execution_count": 13,
   "metadata": {},
   "outputs": [],
   "source": [
    "from datetime import timedelta\n",
    "import numpy as np\n",
    "import netCDF4 as nc\n",
    "import matplotlib.pyplot as plt\n",
    "from matplotlib.backends.backend_pdf import PdfPages\n",
    "import pandas as pd\n",
    "\n",
    "from icedef import iceberg, metocean, drift_simulation, plot\n",
    "from icedef.turnbull import drift"
   ]
  },
  {
   "cell_type": "markdown",
   "metadata": {},
   "source": [
    "# Iceberg"
   ]
  },
  {
   "cell_type": "code",
   "execution_count": 14,
   "metadata": {},
   "outputs": [],
   "source": [
    "df = pd.read_csv('csvs/0204980_2015.csv')"
   ]
  },
  {
   "cell_type": "code",
   "execution_count": 15,
   "metadata": {},
   "outputs": [],
   "source": [
    "df['DataDate_UTC'] = pd.to_datetime(df['DataDate_UTC'])"
   ]
  },
  {
   "cell_type": "code",
   "execution_count": 16,
   "metadata": {},
   "outputs": [],
   "source": [
    "times = [t.to_pydatetime() for t in df['DataDate_UTC']]"
   ]
  },
  {
   "cell_type": "code",
   "execution_count": 17,
   "metadata": {},
   "outputs": [
    {
     "data": {
      "text/plain": [
       "datetime.datetime(2015, 4, 24, 15, 16, 6)"
      ]
     },
     "execution_count": 17,
     "metadata": {},
     "output_type": "execute_result"
    }
   ],
   "source": [
    "times[0]"
   ]
  },
  {
   "cell_type": "code",
   "execution_count": 18,
   "metadata": {},
   "outputs": [],
   "source": [
    "lons = df['Longitude']"
   ]
  },
  {
   "cell_type": "code",
   "execution_count": 19,
   "metadata": {},
   "outputs": [],
   "source": [
    "lats = df['Latitude']"
   ]
  },
  {
   "cell_type": "code",
   "execution_count": 20,
   "metadata": {},
   "outputs": [],
   "source": [
    "ref_berg = iceberg.Iceberg('0204980_2015', times[0], lons[0], lats[0], 0, 0, 0, 0, 'LG', 'TAB')"
   ]
  },
  {
   "cell_type": "code",
   "execution_count": 30,
   "metadata": {},
   "outputs": [],
   "source": [
    "ref_berg.history['T'] = times[:1000]\n",
    "ref_berg.history['X'] = lons[:1000]\n",
    "ref_berg.history['Y'] = lats[:1000]"
   ]
  },
  {
   "cell_type": "code",
   "execution_count": 31,
   "metadata": {},
   "outputs": [],
   "source": [
    "berg = iceberg.clone_iceberg_state(ref_berg)"
   ]
  },
  {
   "cell_type": "raw",
   "metadata": {},
   "source": [
    "iip_season = 2015\n",
    "max_hours = 24\n",
    "\n",
    "#iip_df = iceberg.get_dense_df(iip_season, max_hours)\n",
    "iip_df = pd.read_csv(f'csvs/{iip_season}_max{max_hours}hr_tracks')\n",
    "iip_df = iip_df.drop('Unnamed: 0', axis=1)\n",
    "iip_df['TIMESTAMP'] = pd.to_datetime(iip_df['TIMESTAMP'])\n",
    "\n",
    "track_num = 0\n",
    "iip_berg_df = iip_df.loc[iip_df['track_num'] == track_num]\n",
    "\n",
    "iip_berg = iceberg.get_iip_berg(iip_berg_df)"
   ]
  },
  {
   "cell_type": "markdown",
   "metadata": {},
   "source": [
    "# Metocean"
   ]
  },
  {
   "cell_type": "code",
   "execution_count": 32,
   "metadata": {},
   "outputs": [],
   "source": [
    "ocean_data = metocean.ECMWFOcean(ref_berg.history['T'][0], ref_berg.history['T'][-1])\n",
    "\n",
    "#ocean_data.filenames"
   ]
  },
  {
   "cell_type": "code",
   "execution_count": 33,
   "metadata": {},
   "outputs": [],
   "source": [
    "atm_data = metocean.NARRAtm(ref_berg.history['T'][0], ref_berg.history['T'][-1])\n",
    "\n",
    "#atm_data.filenames"
   ]
  },
  {
   "cell_type": "raw",
   "metadata": {},
   "source": [
    "ocean_data.U[abs(ocean_data.U) > 100] = 0\n",
    "ocean_data.V[abs(ocean_data.V) > 100] = 0\n",
    "atm_data.U[abs(atm_data.U) > 1000] = 0\n",
    "atm_data.V[abs(atm_data.V) > 1000] = 0"
   ]
  },
  {
   "cell_type": "markdown",
   "metadata": {},
   "source": [
    "# Drift Simulation"
   ]
  },
  {
   "cell_type": "code",
   "execution_count": 34,
   "metadata": {},
   "outputs": [],
   "source": [
    "sim = drift_simulation.DriftSimulation(berg, ocean_data, atm_data, drift)"
   ]
  },
  {
   "cell_type": "code",
   "execution_count": 47,
   "metadata": {},
   "outputs": [],
   "source": [
    "dt = 0.1*3600\n",
    "t0 = ref_berg.history['T'][0]\n",
    "tf = ref_berg.history['T'][-1]\n",
    "tdelta = tf - t0\n",
    "tdelta_secs = tdelta.days*12*3600 + tdelta.seconds\n",
    "nt = int(tdelta_secs//dt)"
   ]
  },
  {
   "cell_type": "code",
   "execution_count": 49,
   "metadata": {},
   "outputs": [],
   "source": [
    "#sim.euler(dt,nt)\n",
    "sim.rk2(dt, nt)"
   ]
  },
  {
   "cell_type": "code",
   "execution_count": 50,
   "metadata": {},
   "outputs": [
    {
     "data": {
      "text/html": [
       "<div>\n",
       "<style>\n",
       "    .dataframe thead tr:only-child th {\n",
       "        text-align: right;\n",
       "    }\n",
       "\n",
       "    .dataframe thead th {\n",
       "        text-align: left;\n",
       "    }\n",
       "\n",
       "    .dataframe tbody tr th {\n",
       "        vertical-align: top;\n",
       "    }\n",
       "</style>\n",
       "<table border=\"1\" class=\"dataframe\">\n",
       "  <thead>\n",
       "    <tr style=\"text-align: right;\">\n",
       "      <th></th>\n",
       "      <th>t</th>\n",
       "      <th>vax</th>\n",
       "      <th>vay</th>\n",
       "      <th>vcx</th>\n",
       "      <th>vcy</th>\n",
       "      <th>vx</th>\n",
       "      <th>vy</th>\n",
       "      <th>x</th>\n",
       "      <th>y</th>\n",
       "    </tr>\n",
       "  </thead>\n",
       "  <tbody>\n",
       "    <tr>\n",
       "      <th>0</th>\n",
       "      <td>2015-04-24 15:16:06</td>\n",
       "      <td>-3.217008</td>\n",
       "      <td>-0.978001</td>\n",
       "      <td>0.043383</td>\n",
       "      <td>0.073384</td>\n",
       "      <td>0.000000</td>\n",
       "      <td>0.000000</td>\n",
       "      <td>-51.551440</td>\n",
       "      <td>51.459910</td>\n",
       "    </tr>\n",
       "    <tr>\n",
       "      <th>1</th>\n",
       "      <td>2015-04-24 15:22:06</td>\n",
       "      <td>-3.243216</td>\n",
       "      <td>-0.949190</td>\n",
       "      <td>0.043929</td>\n",
       "      <td>0.072737</td>\n",
       "      <td>-0.002218</td>\n",
       "      <td>0.003565</td>\n",
       "      <td>-51.551452</td>\n",
       "      <td>51.459922</td>\n",
       "    </tr>\n",
       "    <tr>\n",
       "      <th>2</th>\n",
       "      <td>2015-04-24 15:28:06</td>\n",
       "      <td>-3.269427</td>\n",
       "      <td>-0.920377</td>\n",
       "      <td>0.044472</td>\n",
       "      <td>0.072088</td>\n",
       "      <td>-0.004213</td>\n",
       "      <td>0.006780</td>\n",
       "      <td>-51.551473</td>\n",
       "      <td>51.459943</td>\n",
       "    </tr>\n",
       "    <tr>\n",
       "      <th>3</th>\n",
       "      <td>2015-04-24 15:34:06</td>\n",
       "      <td>-3.295639</td>\n",
       "      <td>-0.891564</td>\n",
       "      <td>0.044688</td>\n",
       "      <td>0.071257</td>\n",
       "      <td>-0.006009</td>\n",
       "      <td>0.009689</td>\n",
       "      <td>-51.551505</td>\n",
       "      <td>51.459975</td>\n",
       "    </tr>\n",
       "    <tr>\n",
       "      <th>4</th>\n",
       "      <td>2015-04-24 15:40:06</td>\n",
       "      <td>-3.321854</td>\n",
       "      <td>-0.862750</td>\n",
       "      <td>0.044751</td>\n",
       "      <td>0.070342</td>\n",
       "      <td>-0.007651</td>\n",
       "      <td>0.012316</td>\n",
       "      <td>-51.551544</td>\n",
       "      <td>51.460015</td>\n",
       "    </tr>\n",
       "  </tbody>\n",
       "</table>\n",
       "</div>"
      ],
      "text/plain": [
       "                     t       vax       vay       vcx       vcy        vx  \\\n",
       "0  2015-04-24 15:16:06 -3.217008 -0.978001  0.043383  0.073384  0.000000   \n",
       "1  2015-04-24 15:22:06 -3.243216 -0.949190  0.043929  0.072737 -0.002218   \n",
       "2  2015-04-24 15:28:06 -3.269427 -0.920377  0.044472  0.072088 -0.004213   \n",
       "3  2015-04-24 15:34:06 -3.295639 -0.891564  0.044688  0.071257 -0.006009   \n",
       "4  2015-04-24 15:40:06 -3.321854 -0.862750  0.044751  0.070342 -0.007651   \n",
       "\n",
       "         vy          x          y  \n",
       "0  0.000000 -51.551440  51.459910  \n",
       "1  0.003565 -51.551452  51.459922  \n",
       "2  0.006780 -51.551473  51.459943  \n",
       "3  0.009689 -51.551505  51.459975  \n",
       "4  0.012316 -51.551544  51.460015  "
      ]
     },
     "execution_count": 50,
     "metadata": {},
     "output_type": "execute_result"
    }
   ],
   "source": [
    "sim.history.head()"
   ]
  },
  {
   "cell_type": "markdown",
   "metadata": {},
   "source": [
    "# Plot"
   ]
  },
  {
   "cell_type": "code",
   "execution_count": 59,
   "metadata": {},
   "outputs": [
    {
     "data": {
      "image/png": "[encoded data removed]",
      "text/plain": [
       "<matplotlib.figure.Figure at 0x7f5355246a90>"
      ]
     },
     "metadata": {},
     "output_type": "display_data"
    }
   ],
   "source": [
    "plt.scatter(ref_berg.history['X'], ref_berg.history['Y'], s=2, label='observed')\n",
    "plt.scatter(sim.history['x'], sim.history['y'], s=2, label='computed')\n",
    "plt.title('Iceberg Drift Beacon Data from 0204980_2015.csv')\n",
    "plt.xlabel('Longitude')\n",
    "plt.ylabel('Latitude')\n",
    "plt.legend()\n",
    "plt.show()"
   ]
  },
  {
   "cell_type": "code",
   "execution_count": 55,
   "metadata": {},
   "outputs": [
    {
     "data": {
      "image/png": "[encoded data removed]",
      "text/plain": [
       "<matplotlib.figure.Figure at 0x7f535543eda0>"
      ]
     },
     "metadata": {},
     "output_type": "display_data"
    }
   ],
   "source": [
    "plt.plot(sim.history['t'], sim.history['vx'], label='vx')\n",
    "plt.plot(sim.history['t'], sim.history['vy'], label='vy')\n",
    "plt.legend()\n",
    "plt.show()"
   ]
  },
  {
   "cell_type": "code",
   "execution_count": 56,
   "metadata": {},
   "outputs": [
    {
     "data": {
      "image/png": "[encoded data removed]",
      "text/plain": [
       "<matplotlib.figure.Figure at 0x7f53555500f0>"
      ]
     },
     "metadata": {},
     "output_type": "display_data"
    }
   ],
   "source": [
    "plt.plot(df['Longitude'], df['Latitude'])\n",
    "plt.show()"
   ]
  },
  {
   "cell_type": "code",
   "execution_count": null,
   "metadata": {},
   "outputs": [],
   "source": []
  }
 ],
 "metadata": {
  "kernelspec": {
   "display_name": "Python 3",
   "language": "python",
   "name": "python3"
  },
  "language_info": {
   "codemirror_mode": {
    "name": "ipython",
    "version": 3
   },
   "file_extension": ".py",
   "mimetype": "text/x-python",
   "name": "python",
   "nbconvert_exporter": "python",
   "pygments_lexer": "ipython3",
   "version": "3.6.3"
  }
 },
 "nbformat": 4,
 "nbformat_minor": 2
}
