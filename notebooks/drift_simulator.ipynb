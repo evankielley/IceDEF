{
 "cells": [
  {
   "cell_type": "markdown",
   "metadata": {},
   "source": [
    "# Imports"
   ]
  },
  {
   "cell_type": "code",
   "execution_count": 1,
   "metadata": {},
   "outputs": [],
   "source": [
    "from datetime import timedelta\n",
    "import numpy as np\n",
    "import pandas as pd\n",
    "import netCDF4 as nc\n",
    "\n",
    "import matplotlib.pyplot as plt\n",
    "from matplotlib.backends.backend_pdf import PdfPages\n",
    "\n",
    "from icedef import iceberg, metocean, drift_simulation, plot, tools\n",
    "from icedef.turnbull import drift\n",
    "\n",
    "from scipy.optimize import minimize\n",
    "from scipy.interpolate import RegularGridInterpolator as RGI\n",
    "from scipy.interpolate import interp1d"
   ]
  },
  {
   "cell_type": "markdown",
   "metadata": {},
   "source": [
    "# Functions"
   ]
  },
  {
   "cell_type": "code",
   "execution_count": 2,
   "metadata": {},
   "outputs": [],
   "source": [
    "def create_berg_from_beacon_data(berg_id='204980'):\n",
    "    #berg_ids = ['204980', '505190', '906790', '907780']\n",
    "\n",
    "    df = pd.read_csv(f'ftp://data.munroelab.ca/pub/iceberg/beacon/0{berg_id}_2015.csv')\n",
    "\n",
    "    df['DataDate_UTC'] = pd.to_datetime(df['DataDate_UTC'])\n",
    "\n",
    "    times = [t.to_pydatetime() for t in df['DataDate_UTC']]\n",
    "\n",
    "    max_hr = 6\n",
    "    dt_vec = np.asarray([(time - times[0]).days*24 + (time - times[0]).seconds/3600 for time in times])\n",
    "    max_hr_indx = np.where(dt_vec < max_hr)[0][-1]\n",
    "\n",
    "    df = df[:max_hr_indx+1]\n",
    "\n",
    "    times = [t.to_pydatetime() for t in df['DataDate_UTC']]\n",
    "    lons = df['Longitude']\n",
    "    lats = df['Latitude']\n",
    "\n",
    "    n = 100\n",
    "\n",
    "    lonn = lons[n]; lon0 = lons[0] \n",
    "    latn = lats[n]; lat0 = lats[0]\n",
    "\n",
    "    dx, dy = tools.deg2m(lon0, lonn, lat0, latn) \n",
    "    dist = np.sqrt(dx**2 + dy**2)\n",
    "    tn = times[n]; t0 = times[0]\n",
    "    dt = (tn - t0).days*3600 + (tn - t0).seconds\n",
    "    vx0 = dx/dt; vy0 = dy/dt\n",
    "\n",
    "    ref_berg = iceberg.Iceberg('0204980_2015', t0, lon0, lat0, vx0, vy0, 'LG', 'TAB')\n",
    "    ref_berg.history['t'] = times; ref_berg.history['x'] = lons; ref_berg.history['y'] = lats\n",
    "    \n",
    "    return ref_berg"
   ]
  },
  {
   "cell_type": "code",
   "execution_count": 3,
   "metadata": {},
   "outputs": [],
   "source": [
    "def get_tstep_info(dt_hrs):\n",
    "    dt = dt_hrs*3600\n",
    "    t0 = ref_berg.history['t'][0]\n",
    "    tf = ref_berg.history['t'][-1]\n",
    "    tdelta = tf - t0\n",
    "    tdelta_secs = tdelta.days*24*3600 + tdelta.seconds\n",
    "    nt = int(tdelta_secs//dt)\n",
    "    return dt, nt"
   ]
  },
  {
   "cell_type": "code",
   "execution_count": 4,
   "metadata": {},
   "outputs": [],
   "source": [
    "def calc_mse(sim_x, sim_y, sim_t, ref_xvec, ref_yvec, ref_tvec):\n",
    "    t_units = 'hours since 1900-01-01 00:00:00'\n",
    "    t_calendar = 'standard'\n",
    "    sim_t = nc.date2num(sim_t, t_units, t_calendar)\n",
    "    ref_tvec = nc.date2num(ref_tvec, t_units, t_calendar)\n",
    "    ref_x_interp1d = interp1d(ref_tvec, ref_xvec)\n",
    "    ref_y_interp1d = interp1d(ref_tvec, ref_yvec)\n",
    "    ref_x = ref_x_interp1d(sim_t); ref_y = ref_y_interp1d(sim_t)\n",
    "    mse = np.sqrt((ref_x - sim_x)**2 + (ref_y - sim_y)**2)\n",
    "    return mse"
   ]
  },
  {
   "cell_type": "code",
   "execution_count": 5,
   "metadata": {},
   "outputs": [],
   "source": [
    "def drift_wrapper(Cd, sim, ref_berg, dt, nt):\n",
    "    \n",
    "    Cda, Cdw = Cd\n",
    "    \n",
    "    sim.berg.Cda = Cda\n",
    "    sim.berg.Cdw = Cdw\n",
    "    \n",
    "    sim.rk2(dt, nt)\n",
    "    \n",
    "    sim_x = sim.history['x'].tolist()[-1] \n",
    "    sim_y = sim.history['y'].tolist()[-1] \n",
    "    sim_t = sim.history['t'].tolist()[-1]\n",
    "    ref_xvec = ref_berg.history['x']\n",
    "    ref_yvec = ref_berg.history['y']\n",
    "    ref_tvec = ref_berg.history['t']\n",
    "    mse = calc_mse(sim_x, sim_y, sim_t, ref_xvec, ref_yvec, ref_tvec)\n",
    "    \n",
    "    return mse"
   ]
  },
  {
   "cell_type": "markdown",
   "metadata": {},
   "source": [
    "# Drift Simulation"
   ]
  },
  {
   "cell_type": "code",
   "execution_count": 6,
   "metadata": {},
   "outputs": [],
   "source": [
    "ref_berg = create_berg_from_beacon_data()\n",
    "berg = iceberg.clone_iceberg_state(ref_berg)\n",
    "\n",
    "ocean_data = metocean.ECMWFOcean(ref_berg.history['t'][0], ref_berg.history['t'][-1])\n",
    "atm_data = metocean.NARRAtm(ref_berg.history['t'][0], ref_berg.history['t'][-1])\n",
    "\n",
    "dt, nt = get_tstep_info(0.1)"
   ]
  },
  {
   "cell_type": "code",
   "execution_count": 7,
   "metadata": {},
   "outputs": [],
   "source": [
    "lat = 50\n",
    "OM = 7.2921e-5 \n",
    "m = 1000\n",
    "vx = 1\n",
    "vy = 1\n",
    "fcx = 2*OM*m*np.sin(np.deg2rad(lat))*vy\n",
    "fcy = -2*OM*m*np.sin(lat)*vx"
   ]
  },
  {
   "cell_type": "code",
   "execution_count": 8,
   "metadata": {},
   "outputs": [
    {
     "data": {
      "image/png": "[encoded data removed]",
      "text/plain": [
       "<Figure size 432x288 with 1 Axes>"
      ]
     },
     "metadata": {},
     "output_type": "display_data"
    }
   ],
   "source": [
    "sim = drift_simulation.DriftSimulation(berg, ocean_data, atm_data, drift)\n",
    "\n",
    "sim.ab2(dt, nt)\n",
    "\n",
    "# Plot\n",
    "\n",
    "plt.scatter(ref_berg.history['x'], ref_berg.history['y'], s=2, label='observed')\n",
    "plt.scatter(sim.history['x'], sim.history['y'], s=2, label='computed')\n",
    "plt.title('Iceberg Drift Beacon Data from 0204980_2015.csv')\n",
    "plt.xlabel('Longitude')\n",
    "plt.ylabel('Latitude')\n",
    "plt.legend()\n",
    "plt.show()"
   ]
  },
  {
   "cell_type": "code",
   "execution_count": 13,
   "metadata": {},
   "outputs": [
    {
     "data": {
      "text/plain": [
       "datetime.datetime(2015, 4, 24, 15, 22, 6)"
      ]
     },
     "execution_count": 13,
     "metadata": {},
     "output_type": "execute_result"
    }
   ],
   "source": [
    "sim.berg.t + timedelta(seconds=0.1*3600)"
   ]
  },
  {
   "cell_type": "markdown",
   "metadata": {},
   "source": [
    "### Attempt minimization"
   ]
  },
  {
   "cell_type": "code",
   "execution_count": 10,
   "metadata": {},
   "outputs": [
    {
     "data": {
      "text/plain": [
       "      fun: 0.005814543639000078\n",
       " hess_inv: <2x2 LbfgsInvHessProduct with dtype=float64>\n",
       "      jac: array([-2.19687029e-04,  7.81588336e-06])\n",
       "  message: b'CONVERGENCE: NORM_OF_PROJECTED_GRADIENT_<=_PGTOL'\n",
       "     nfev: 45\n",
       "      nit: 11\n",
       "   status: 0\n",
       "  success: True\n",
       "        x: array([20.        ,  3.26168913])"
      ]
     },
     "execution_count": 10,
     "metadata": {},
     "output_type": "execute_result"
    }
   ],
   "source": [
    "min_results = minimize(drift_wrapper, x0=(1, 1), bounds=((0, 20), (0, 20)), args=(sim, ref_berg, dt, nt))\n",
    "min_results"
   ]
  },
  {
   "cell_type": "code",
   "execution_count": 11,
   "metadata": {},
   "outputs": [
    {
     "data": {
      "text/plain": [
       "0.005814543639000078"
      ]
     },
     "execution_count": 11,
     "metadata": {},
     "output_type": "execute_result"
    }
   ],
   "source": [
    "drift_wrapper(min_results.x, sim, ref_berg, dt, nt)"
   ]
  },
  {
   "cell_type": "markdown",
   "metadata": {},
   "source": [
    "### Run again with minimized values"
   ]
  },
  {
   "cell_type": "code",
   "execution_count": 12,
   "metadata": {},
   "outputs": [
    {
     "data": {
      "image/png": "[encoded data removed]",
      "text/plain": [
       "<Figure size 432x288 with 1 Axes>"
      ]
     },
     "metadata": {},
     "output_type": "display_data"
    }
   ],
   "source": [
    "berg = iceberg.clone_iceberg_state(ref_berg)\n",
    "sim = drift_simulation.DriftSimulation(berg, ocean_data, atm_data, drift)\n",
    "sim.berg.Cda, sim.berg.Cdw = min_results.x\n",
    "\n",
    "sim.rk2(dt, nt)\n",
    "\n",
    "# Plot\n",
    "\n",
    "plt.scatter(ref_berg.history['x'], ref_berg.history['y'], s=2, label='observed')\n",
    "plt.scatter(sim.history['x'], sim.history['y'], s=2, label='computed')\n",
    "plt.title('Iceberg Drift Beacon Data from 0204980_2015.csv')\n",
    "plt.xlabel('Longitude')\n",
    "plt.ylabel('Latitude')\n",
    "plt.legend()\n",
    "plt.show()"
   ]
  },
  {
   "cell_type": "markdown",
   "metadata": {},
   "source": [
    "# Animation"
   ]
  },
  {
   "cell_type": "markdown",
   "metadata": {},
   "source": [
    "### Wind"
   ]
  },
  {
   "cell_type": "code",
   "execution_count": 6,
   "metadata": {},
   "outputs": [
    {
     "data": {
      "image/png": "[encoded data removed]",
      "text/plain": [
       "<Figure size 432x288 with 2 Axes>"
      ]
     },
     "metadata": {},
     "output_type": "display_data"
    }
   ],
   "source": [
    "dx_scale = 3\n",
    "dy_scale = 3\n",
    "dt_scale = 3\n",
    "grid_scales = [dx_scale, dy_scale, dt_scale]\n",
    "\n",
    "x_berg = sim.history['x']\n",
    "y_berg = sim.history['y']\n",
    "t_berg = nc.date2num(sim.history['t'], atm_data.T_UNITS, atm_data.T_CALENDAR)\n",
    "xyt_berg = [x_berg, y_berg, t_berg]\n",
    "\n",
    "x_grid = atm_data.lons\n",
    "y_grid = atm_data.lats\n",
    "t_grid = atm_data.times\n",
    "xyt_grid = [x_grid, y_grid, t_grid]\n",
    "\n",
    "u_data = atm_data.U\n",
    "v_data = atm_data.V\n",
    "uv_data = [u_data, v_data]\n",
    "\n",
    "plot.berg_metocean_animation(xyt_berg, xyt_grid, grid_scales, uv_data, \n",
    "                             fname='wind_anim', v_auto=True, scale=20, speed=500)"
   ]
  },
  {
   "cell_type": "markdown",
   "metadata": {},
   "source": [
    "### Current"
   ]
  },
  {
   "cell_type": "code",
   "execution_count": 7,
   "metadata": {},
   "outputs": [
    {
     "data": {
      "image/png": "[encoded data removed]",
      "text/plain": [
       "<Figure size 432x288 with 2 Axes>"
      ]
     },
     "metadata": {},
     "output_type": "display_data"
    }
   ],
   "source": [
    "dx_scale = 1\n",
    "dy_scale = 1\n",
    "dt_scale = 1\n",
    "grid_scales = [dx_scale, dy_scale, dt_scale]\n",
    "\n",
    "x_berg = sim.history['x']\n",
    "y_berg = sim.history['y']\n",
    "t_berg = nc.date2num(sim.history['t'], ocean_data.T_UNITS, ocean_data.T_CALENDAR)\n",
    "xyt_berg = [x_berg, y_berg, t_berg]\n",
    "\n",
    "x_grid = ocean_data.lons\n",
    "y_grid = ocean_data.lats\n",
    "t_grid = ocean_data.times\n",
    "xyt_grid = [x_grid, y_grid, t_grid]\n",
    "\n",
    "u_data = ocean_data.U\n",
    "v_data = ocean_data.V\n",
    "uv_data = [u_data, v_data]\n",
    "\n",
    "plot.berg_metocean_animation(xyt_berg, xyt_grid, grid_scales, uv_data, \n",
    "                             fname='current_anim', v_auto=True, scale=0.5, speed=500)"
   ]
  },
  {
   "cell_type": "code",
   "execution_count": null,
   "metadata": {},
   "outputs": [],
   "source": []
  },
  {
   "cell_type": "code",
   "execution_count": null,
   "metadata": {},
   "outputs": [],
   "source": []
  },
  {
   "cell_type": "code",
   "execution_count": null,
   "metadata": {},
   "outputs": [],
   "source": []
  },
  {
   "cell_type": "code",
   "execution_count": 12,
   "metadata": {},
   "outputs": [
    {
     "data": {
      "text/plain": [
       "159"
      ]
     },
     "execution_count": 12,
     "metadata": {},
     "output_type": "execute_result"
    }
   ],
   "source": [
    "np.where(x_grid > -51.8)[0][0]"
   ]
  },
  {
   "cell_type": "code",
   "execution_count": 11,
   "metadata": {},
   "outputs": [
    {
     "data": {
      "text/plain": [
       "163"
      ]
     },
     "execution_count": 11,
     "metadata": {},
     "output_type": "execute_result"
    }
   ],
   "source": [
    "np.where(x_grid < -51.4)[0][-1]"
   ]
  },
  {
   "cell_type": "code",
   "execution_count": 13,
   "metadata": {},
   "outputs": [
    {
     "data": {
      "text/plain": [
       "137"
      ]
     },
     "execution_count": 13,
     "metadata": {},
     "output_type": "execute_result"
    }
   ],
   "source": [
    "np.where(y_grid > 51.4)[0][0]"
   ]
  },
  {
   "cell_type": "code",
   "execution_count": 14,
   "metadata": {},
   "outputs": [
    {
     "data": {
      "text/plain": [
       "140"
      ]
     },
     "execution_count": 14,
     "metadata": {},
     "output_type": "execute_result"
    }
   ],
   "source": [
    "np.where(y_grid < 51.7)[0][-1]"
   ]
  },
  {
   "cell_type": "code",
   "execution_count": 15,
   "metadata": {},
   "outputs": [
    {
     "data": {
      "text/plain": [
       "-0.1919608"
      ]
     },
     "execution_count": 15,
     "metadata": {},
     "output_type": "execute_result"
    }
   ],
   "source": [
    "np.mean(u_data[:, 159:163+1, 137:140+1])"
   ]
  },
  {
   "cell_type": "code",
   "execution_count": 16,
   "metadata": {},
   "outputs": [
    {
     "data": {
      "text/plain": [
       "-0.10271322"
      ]
     },
     "execution_count": 16,
     "metadata": {},
     "output_type": "execute_result"
    }
   ],
   "source": [
    "np.mean(v_data[:, 159:163+1, 137:140+1])"
   ]
  },
  {
   "cell_type": "code",
   "execution_count": 18,
   "metadata": {},
   "outputs": [],
   "source": [
    "u2 = np.swapaxes(u_data, 1, 2)"
   ]
  },
  {
   "cell_type": "code",
   "execution_count": 19,
   "metadata": {},
   "outputs": [
    {
     "data": {
      "text/plain": [
       "-0.1919608"
      ]
     },
     "execution_count": 19,
     "metadata": {},
     "output_type": "execute_result"
    }
   ],
   "source": [
    "np.mean(u2[:, 137:140+1,  159:163+1])"
   ]
  },
  {
   "cell_type": "code",
   "execution_count": 42,
   "metadata": {},
   "outputs": [
    {
     "data": {
      "text/plain": [
       "162"
      ]
     },
     "execution_count": 42,
     "metadata": {},
     "output_type": "execute_result"
    }
   ],
   "source": [
    "lon0 = np.where(ocean_data.lons >= min(ref_berg.history['x']))[0][0] - 1\n",
    "lonn = np.where(ocean_data.lons <= max(ref_berg.history['x']))[0][-1] + 1\n",
    "lonn"
   ]
  },
  {
   "cell_type": "code",
   "execution_count": 43,
   "metadata": {},
   "outputs": [
    {
     "data": {
      "text/plain": [
       "160"
      ]
     },
     "execution_count": 43,
     "metadata": {},
     "output_type": "execute_result"
    }
   ],
   "source": [
    "lon0"
   ]
  },
  {
   "cell_type": "code",
   "execution_count": 44,
   "metadata": {},
   "outputs": [
    {
     "data": {
      "text/plain": [
       "139"
      ]
     },
     "execution_count": 44,
     "metadata": {},
     "output_type": "execute_result"
    }
   ],
   "source": [
    "lat0 = np.where(ocean_data.lats <= min(ref_berg.history['y']))[0][-1]+1\n",
    "latn = np.where(ocean_data.lats >= max(ref_berg.history['y']))[0][0]+1\n",
    "latn"
   ]
  },
  {
   "cell_type": "code",
   "execution_count": 45,
   "metadata": {},
   "outputs": [
    {
     "data": {
      "text/plain": [
       "138"
      ]
     },
     "execution_count": 45,
     "metadata": {},
     "output_type": "execute_result"
    }
   ],
   "source": [
    "lat0"
   ]
  },
  {
   "cell_type": "code",
   "execution_count": 46,
   "metadata": {},
   "outputs": [
    {
     "data": {
      "text/plain": [
       "51.5"
      ]
     },
     "execution_count": 46,
     "metadata": {},
     "output_type": "execute_result"
    }
   ],
   "source": [
    "ocean_data.lats[lat0]"
   ]
  },
  {
   "cell_type": "code",
   "execution_count": 47,
   "metadata": {},
   "outputs": [
    {
     "data": {
      "text/plain": [
       "51.45903"
      ]
     },
     "execution_count": 47,
     "metadata": {},
     "output_type": "execute_result"
    }
   ],
   "source": [
    "min(ref_berg.history['y'])"
   ]
  },
  {
   "cell_type": "code",
   "execution_count": 48,
   "metadata": {},
   "outputs": [
    {
     "data": {
      "text/plain": [
       "0.004158147"
      ]
     },
     "execution_count": 48,
     "metadata": {},
     "output_type": "execute_result"
    }
   ],
   "source": [
    "np.mean(ocean_data.U[:, lat0:latn+1, lon0:lonn+1])"
   ]
  },
  {
   "cell_type": "code",
   "execution_count": 49,
   "metadata": {},
   "outputs": [
    {
     "data": {
      "text/plain": [
       "0.037465706"
      ]
     },
     "execution_count": 49,
     "metadata": {},
     "output_type": "execute_result"
    }
   ],
   "source": [
    "np.mean(ocean_data.V[:, lat0:latn+1, lon0:lonn+1])"
   ]
  },
  {
   "cell_type": "code",
   "execution_count": 17,
   "metadata": {},
   "outputs": [
    {
     "data": {
      "text/plain": [
       "array([[[ 6.50654614e-01,  5.98162770e-01,  5.61540604e-01, ...,\n",
       "          3.86364341e-01,  3.66222113e-01,  3.46079886e-01],\n",
       "        [ 6.46382034e-01,  6.20746493e-01,  5.80462039e-01, ...,\n",
       "          3.42417687e-01,  3.39365840e-01,  3.28379154e-01],\n",
       "        [ 5.87176144e-01,  6.07318342e-01,  5.90227962e-01, ...,\n",
       "          3.30820650e-01,  3.08847308e-01,  2.89315462e-01],\n",
       "        ...,\n",
       "        [-3.47911008e-02, -2.31940672e-02, -1.34281442e-02, ...,\n",
       "         -8.97244215e-02, -1.15970336e-01, -1.35502189e-01],\n",
       "        [ 0.00000000e+00,  2.44148076e-03,  3.66222113e-03, ...,\n",
       "         -8.60621929e-02, -9.21659023e-02, -1.09866634e-01],\n",
       "        [-6.71407208e-03, -9.76592302e-03, -9.76592302e-03, ...,\n",
       "         -1.86162904e-01, -1.72124386e-01, -1.75176248e-01]],\n",
       "\n",
       "       [[ 6.39667988e-01,  5.82903504e-01,  5.43839812e-01, ...,\n",
       "          3.83312464e-01,  3.63170266e-01,  3.43028039e-01],\n",
       "        [ 6.39057577e-01,  6.10370159e-01,  5.70696115e-01, ...,\n",
       "          3.39976192e-01,  3.38145077e-01,  3.26548040e-01],\n",
       "        [ 5.86565733e-01,  6.02435350e-01,  5.86565733e-01, ...,\n",
       "          3.28379154e-01,  3.06405842e-01,  2.86263615e-01],\n",
       "        ...,\n",
       "        [-3.29599902e-02, -2.13629566e-02, -1.09866634e-02, ...,\n",
       "         -5.49333170e-02, -7.01925755e-02, -7.56859034e-02],\n",
       "        [ 6.10370189e-04,  3.66222113e-03,  4.88296151e-03, ...,\n",
       "         -3.29599902e-02, -4.02844325e-02, -5.43229468e-02],\n",
       "        [-5.49333170e-03, -8.54518265e-03, -7.93481246e-03, ...,\n",
       "         -1.65410325e-01, -1.51982173e-01, -1.45268112e-01]],\n",
       "\n",
       "       [[ 6.35395348e-01,  5.72527230e-01,  5.29190958e-01, ...,\n",
       "          3.82091731e-01,  3.61949533e-01,  3.43028039e-01],\n",
       "        [ 6.37836874e-01,  6.04876876e-01,  5.65202773e-01, ...,\n",
       "          3.39976192e-01,  3.38755459e-01,  3.28379154e-01],\n",
       "        [ 5.93279839e-01,  6.03656113e-01,  5.86565733e-01, ...,\n",
       "          3.27768803e-01,  3.07016194e-01,  2.86873996e-01],\n",
       "        ...,\n",
       "        [-3.11288796e-02, -1.95318460e-02, -9.76592302e-03, ...,\n",
       "         -1.77007355e-02, -2.62459181e-02, -2.13629566e-02],\n",
       "        [ 1.83111057e-03,  4.88296151e-03,  6.10370189e-03, ...,\n",
       "          2.50251777e-02,  1.77007355e-02,  6.71407208e-03],\n",
       "        [-4.88296151e-03, -6.71407208e-03, -5.49333170e-03, ...,\n",
       "         -1.38554037e-01, -1.29398480e-01, -1.11697748e-01]],\n",
       "\n",
       "       ...,\n",
       "\n",
       "       [[ 8.02636802e-01,  7.32444227e-01,  6.52485728e-01, ...,\n",
       "          3.99182111e-01,  3.63170266e-01,  3.35093230e-01],\n",
       "        [ 7.90429413e-01,  7.39158273e-01,  6.87276840e-01, ...,\n",
       "          3.24106574e-01,  3.14951003e-01,  3.11288804e-01],\n",
       "        [ 7.24509418e-01,  7.09250152e-01,  6.88497543e-01, ...,\n",
       "          2.75276959e-01,  2.79549539e-01,  2.76497692e-01],\n",
       "        ...,\n",
       "        [-7.32444227e-03,  2.44148076e-03,  1.09866634e-02, ...,\n",
       "          6.71407208e-03,  1.83111057e-03, -8.54518265e-03],\n",
       "        [ 2.31940672e-02,  2.50251777e-02,  2.62459181e-02, ...,\n",
       "          4.15051728e-02,  3.54014710e-02,  2.99081393e-02],\n",
       "        [ 1.89214759e-02,  2.13629566e-02,  2.56355479e-02, ...,\n",
       "          1.58085883e-01,  1.52592540e-01,  1.15970336e-01]],\n",
       "\n",
       "       [[ 7.86156774e-01,  7.14743495e-01,  6.33564234e-01, ...,\n",
       "          3.99182111e-01,  3.63780618e-01,  3.34482849e-01],\n",
       "        [ 7.78221965e-01,  7.23288655e-01,  6.69576108e-01, ...,\n",
       "          3.21054727e-01,  3.11288804e-01,  3.08236957e-01],\n",
       "        [ 7.15964258e-01,  6.95211649e-01,  6.71407223e-01, ...,\n",
       "          2.69783616e-01,  2.74666578e-01,  2.74666578e-01],\n",
       "        ...,\n",
       "        [-4.27259132e-03,  5.49333170e-03,  1.34281442e-02, ...,\n",
       "         -5.49333170e-03, -1.28177740e-02, -3.23496200e-02],\n",
       "        [ 2.50251777e-02,  2.62459181e-02,  2.74666585e-02, ...,\n",
       "          2.99081393e-02,  2.38044374e-02,  1.40385143e-02],\n",
       "        [ 1.95318460e-02,  2.13629566e-02,  2.50251777e-02, ...,\n",
       "          1.51982173e-01,  1.42826617e-01,  1.00100711e-01]],\n",
       "\n",
       "       [[ 7.72728682e-01,  6.99484229e-01,  6.16473913e-01, ...,\n",
       "          4.02233958e-01,  3.66832495e-01,  3.36924344e-01],\n",
       "        [ 7.68456042e-01,  7.09860504e-01,  6.51875377e-01, ...,\n",
       "          3.22275460e-01,  3.10678422e-01,  3.07626575e-01],\n",
       "        [ 7.09860504e-01,  6.83614612e-01,  6.54927194e-01, ...,\n",
       "          2.67952502e-01,  2.73445845e-01,  2.74666578e-01],\n",
       "        ...,\n",
       "        [-2.44148076e-03,  6.71407208e-03,  1.52592547e-02, ...,\n",
       "         -1.70903653e-02, -2.74666585e-02, -5.55436872e-02],\n",
       "        [ 2.56355479e-02,  2.62459181e-02,  2.68562883e-02, ...,\n",
       "          1.95318460e-02,  1.34281442e-02, -1.83111057e-03],\n",
       "        [ 1.77007355e-02,  2.01422162e-02,  2.25836970e-02, ...,\n",
       "          1.45878479e-01,  1.33060694e-01,  8.42310861e-02]]],\n",
       "      dtype=float32)"
      ]
     },
     "execution_count": 17,
     "metadata": {},
     "output_type": "execute_result"
    }
   ],
   "source": [
    "ocean_data.U"
   ]
  },
  {
   "cell_type": "code",
   "execution_count": null,
   "metadata": {},
   "outputs": [],
   "source": []
  }
 ],
 "metadata": {
  "kernelspec": {
   "display_name": "Python 3",
   "language": "python",
   "name": "python3"
  },
  "language_info": {
   "codemirror_mode": {
    "name": "ipython",
    "version": 3
   },
   "file_extension": ".py",
   "mimetype": "text/x-python",
   "name": "python",
   "nbconvert_exporter": "python",
   "pygments_lexer": "ipython3",
   "version": "3.6.5"
  }
 },
 "nbformat": 4,
 "nbformat_minor": 2
}
