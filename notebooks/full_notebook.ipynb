{
 "cells": [
  {
   "cell_type": "markdown",
   "metadata": {},
   "source": [
    "# Observed Iceberg Input"
   ]
  },
  {
   "cell_type": "code",
   "execution_count": 60,
   "metadata": {},
   "outputs": [],
   "source": [
    "import urllib\n",
    "import pandas as pd\n",
    "import numpy as np\n",
    "from sklearn import datasets\n",
    "\n",
    "%matplotlib inline\n",
    "import matplotlib.pyplot as plt\n",
    "plt.style.use('default')\n",
    "import xarray as xr\n",
    "#from ftplib import FTP\n",
    "import scipy.interpolate as interp\n",
    "\n",
    "import scipy.io as sio\n",
    "import numpy.matlib\n",
    "import cmath"
   ]
  },
  {
   "cell_type": "code",
   "execution_count": 100,
   "metadata": {},
   "outputs": [],
   "source": [
    "# Choose iceberg year (2002 - 2015 available)\n",
    "# Note: Iceberg Season starts in November so many datasets include dates from year-1\n",
    "season_year = 2015\n",
    "iip_url_base = 'ftp://sidads.colorado.edu/pub/DATASETS/NOAA/G00807/' \n",
    "iip_filename = f'IIP_{season_year}IcebergSeason.csv'\n",
    "iip_url = iip_url_base + iip_filename\n",
    "r = urllib.request.urlretrieve(iip_url)\n",
    "df = pd.read_csv(r[0], converters={'TIME':str})\n",
    "df['DATETIME'] = pd.to_datetime(df['DATE'] + 'T' + df['TIME'])"
   ]
  },
  {
   "cell_type": "code",
   "execution_count": 62,
   "metadata": {},
   "outputs": [],
   "source": [
    "# Choose the min number of observations for an eligible iceberg\n",
    "min_num_obs = 10\n",
    "eligible_bergs = np.asarray(\n",
    "    df['BERG_NUMBER'].value_counts()\\\n",
    "    .loc[df['BERG_NUMBER'].value_counts() > min_num_obs].index)"
   ]
  },
  {
   "cell_type": "code",
   "execution_count": 63,
   "metadata": {},
   "outputs": [],
   "source": [
    "chosen_inds_arr = []\n",
    "\n",
    "for i in range(eligible_bergs.size):\n",
    "\n",
    "    berg_id = eligible_bergs[i]\n",
    "    berg_df = df.loc[df['BERG_NUMBER'] == berg_id]\n",
    "    \n",
    "    ind0 = berg_df.index.tolist()[0]\n",
    "    indf = berg_df.index.tolist()[-1]\n",
    "    \n",
    "    max_time_dif = np.timedelta64(24*60*3, 'm')\n",
    "    \n",
    "    chosen_inds = []\n",
    "\n",
    "    for j in range(len(berg_df)-1):\n",
    "\n",
    "        time_dif = (berg_df.DATETIME.values[j+1] - \\\n",
    "                    berg_df.DATETIME.values[j]).astype('timedelta64[m]')\n",
    "        \n",
    "        if time_dif < max_time_dif:\n",
    "            chosen_inds.append(j+ind0)\n",
    "\n",
    "        elif len(chosen_inds) > 5:\n",
    "            chosen_inds_arr.append(chosen_inds)\n",
    "            chosen_inds = []\n",
    "        else:\n",
    "            chosen_inds = []\n",
    "\n",
    "    if len(chosen_inds) > 5:\n",
    "        chosen_inds_arr.append(chosen_inds)"
   ]
  },
  {
   "cell_type": "code",
   "execution_count": 102,
   "metadata": {},
   "outputs": [],
   "source": [
    "# Choose which iceberg track to look at (index)\n",
    "chosen_track_ind = 2\n",
    "\n",
    "berg_df = df.loc[chosen_inds_arr[chosen_track_ind]]\n",
    "berg_date_i = berg_df['DATETIME'].dt.values[0]\n",
    "berg_date_f = berg_df['DATETIME'].dt.values[-1]\n",
    "date2000 = np.datetime64('2000-01-01')\n",
    "hour_since_i = (berg_date_i - date2000).days*24\n",
    "hour_since_f = (berg_date_f - date2000).days*24 + 24  # add an extra day\n",
    "hour_dif = hour_since_f - hour_since_i\n",
    "berg_df['hrs_since'] =  (berg_df['DATETIME'].dt.values - berg_df['DATETIME'].dt.values[0]).days*24 + \\\n",
    "(berg_df['DATETIME'].dt.values - berg_df['DATETIME'].dt.values[0]).seconds/3600\n",
    "berg_min_lat = min(berg_df['LATITUDE'].tolist())\n",
    "berg_max_lat = max(berg_df['LATITUDE'].tolist())\n",
    "berg_min_lon = min(berg_df['LONGITUDE'].tolist())\n",
    "berg_max_lon = max(berg_df['LONGITUDE'].tolist())"
   ]
  },
  {
   "cell_type": "markdown",
   "metadata": {},
   "source": [
    "# Ocean Input"
   ]
  },
  {
   "cell_type": "code",
   "execution_count": 103,
   "metadata": {},
   "outputs": [],
   "source": [
    "glb_url = 'http://tds.hycom.org/thredds/dodsC/GLBv0.08/expt_56.3'\n",
    "glb_ds = xr.open_dataset(glb_url, decode_times=False)\n",
    "# June 1, 00:00 = 135120., July 1, 00:00 = 135840.\n",
    "glb_ds = glb_ds.sel(depth=0.0, \n",
    "                    lat = slice(berg_min_lat-1, berg_max_lat+1), \n",
    "                    lon = slice(berg_min_lon-1, berg_min_lat+1), \n",
    "                    time=slice(hour_since_i, hour_since_f))\n",
    "water_u_data = glb_ds.water_u\n",
    "water_v_data = glb_ds.water_v\n",
    "water_temp_data = glb_ds.water_temp\n",
    "glb_times = np.asarray(water_u_data.time)\n",
    "glb_lats = np.asarray(water_u_data.lat)\n",
    "glb_lons = np.asarray(water_u_data.lon)\n",
    "glb_times = glb_times - hour_since_i"
   ]
  },
  {
   "cell_type": "markdown",
   "metadata": {},
   "source": [
    "#### Warning -- the box below takes a few minutes to run"
   ]
  },
  {
   "cell_type": "code",
   "execution_count": 104,
   "metadata": {},
   "outputs": [],
   "source": [
    "water_u = np.asarray(water_u_data)\n",
    "water_v = np.asarray(water_v_data)\n",
    "water_temp = np.asarray(water_temp_data)"
   ]
  },
  {
   "cell_type": "code",
   "execution_count": 105,
   "metadata": {},
   "outputs": [],
   "source": [
    "water_u_interp = interp.RegularGridInterpolator((glb_times, glb_lats, glb_lons), water_u)\n",
    "water_v_interp = interp.RegularGridInterpolator((glb_times, glb_lats, glb_lons), water_v)\n",
    "water_temp_interp = interp.RegularGridInterpolator((glb_times, glb_lats, glb_lons), water_temp)"
   ]
  },
  {
   "cell_type": "markdown",
   "metadata": {},
   "source": [
    "# Atmosphere Inputs"
   ]
  },
  {
   "cell_type": "code",
   "execution_count": 126,
   "metadata": {},
   "outputs": [],
   "source": [
    "atm_time_res = 6"
   ]
  },
  {
   "cell_type": "code",
   "execution_count": 127,
   "metadata": {},
   "outputs": [],
   "source": [
    "navgem_url = 'http://coastwatch.pfeg.noaa.gov/erddap/griddap/erdNavgem05D10mWind_LonPM180'\n",
    "navgem_ds = xr.open_dataset(navgem_url)\n",
    "berg_date2_i = '{}-{}-{}' .format(berg_df['DATETIME'].dt.values.year[0],\n",
    "                                 berg_df['DATETIME'].dt.values.month[0],\n",
    "                                 berg_df['DATETIME'].dt.values.day[0])\n",
    "berg_date2_f = '{}-{}-{}' .format((berg_df['DATETIME'].dt.values[-1] + pd.Timedelta('1 days')).year,\n",
    "                                 (berg_df['DATETIME'].dt.values[-1] + pd.Timedelta('1 days')).month,\n",
    "                                 (berg_df['DATETIME'].dt.values[-1] + pd.Timedelta('1 days')).day)\n",
    "navgem_ds = navgem_ds.sel(time=slice(berg_date2_i, berg_date2_f), \n",
    "                          latitude=slice(berg_min_lat-1, berg_max_lat+1), \n",
    "                          longitude=slice(berg_min_lon-1, berg_max_lon+1))"
   ]
  },
  {
   "cell_type": "code",
   "execution_count": 128,
   "metadata": {},
   "outputs": [],
   "source": [
    "wind_u = navgem_ds.wnd_ucmp_height_above_ground\n",
    "wind_v = navgem_ds.wnd_vcmp_height_above_ground\n",
    "navgem_times = np.arange(0, navgem_ds.time.size*atm_time_res, atm_time_res)\n",
    "navgem_lats = np.asarray(wind_u.latitude)\n",
    "navgem_lons = np.asarray(wind_u.longitude)"
   ]
  },
  {
   "cell_type": "code",
   "execution_count": 129,
   "metadata": {},
   "outputs": [],
   "source": [
    "wind_u = np.asarray(wind_u[:,0,:,:])\n",
    "wind_v = np.asarray(wind_v[:,0,:,:])"
   ]
  },
  {
   "cell_type": "code",
   "execution_count": 130,
   "metadata": {},
   "outputs": [],
   "source": [
    "wind_u_interp = interp.RegularGridInterpolator((navgem_times, navgem_lats, navgem_lons), wind_u)\n",
    "wind_v_interp = interp.RegularGridInterpolator((navgem_times, navgem_lats, navgem_lons), wind_v)"
   ]
  },
  {
   "cell_type": "markdown",
   "metadata": {},
   "source": [
    "# Model"
   ]
  },
  {
   "cell_type": "code",
   "execution_count": 131,
   "metadata": {},
   "outputs": [],
   "source": [
    "# Constants\n",
    "R = 6378*1e3\n",
    "om = 7.2921e-5\n",
    "rhow = 1027\n",
    "rhoa = 1.2\n",
    "rhoi = 850\n",
    "drho = rhow - rhoi\n",
    "Cw = 0.9\n",
    "Ca = 1.3\n",
    "gam = np.sqrt(rhoa*drho/rhow/rhoi*(Ca/Cw))\n",
    "sst0 = -4\n",
    "Cs1 = 1.5; Cs2 = 0.5; Cs3 = 0.1\n",
    "CMv1 = 7.62e-3; CMv2 = 1.29e-3; CMe1 = 0.5\n",
    "CMb1 = 0.58; CMb2 = 0.8; CMb3 = 0.2"
   ]
  },
  {
   "cell_type": "code",
   "execution_count": 132,
   "metadata": {},
   "outputs": [],
   "source": [
    "def iceDEF(t,x,y,l,w,h):\n",
    "\n",
    "    # Extract values from input fields\n",
    "    \n",
    "    vau = wind_u_interp([t, y, x])[0]\n",
    "    vav = wind_v_interp([t, y, x])[0]  \n",
    "    vwu = water_u_interp([t, y, x])[0] \n",
    "    vwv = water_v_interp([t, y, x])[0]\n",
    "    sst = water_temp_interp([t, y, x])[0]\n",
    "    \n",
    "    \n",
    "    # Drifting\n",
    "\n",
    "    S = np.pi*((l*w)/(l+w))\n",
    "    ff = 2*om*np.sin((np.abs(y)*np.pi)/180)\n",
    "    lam = np.sqrt(2)*Cw*(gam*np.sqrt(vau**2 + vav**2))/(ff*S)\n",
    "\n",
    "    \n",
    "    if lam < 0.1:\n",
    "        alpha = lam*(lam**4*(lam**4*(lam**4*(-0.0386699020961393*lam**4 + \\\n",
    "            0.055242717280199) - 0.0883883476483184) + \\\n",
    "            0.176776695296637) - 0.707106781186548)\n",
    "    else:\n",
    "        alpha = np.multiply(np.divide(np.sqrt(2),np.power(lam, 3)),(1-np.sqrt(1+np.power(lam,4))))\n",
    "        \n",
    "    if lam < 0.6:\n",
    "        beta = lam**3*(lam**4*(lam**4*(lam**4*(lam**4*(lam**4*(lam**4*(lam**4*(lam**4*\\\n",
    "            (0.0153268598203613*lam**4 - 0.0151656272365985) + \\\n",
    "            0.0180267866272764) + 0.0219176256311202) - \\\n",
    "            0.0274446790511418) + 0.0357675015202851) - \\\n",
    "            0.0493731785691779) + 0.0745776683282687) - \\\n",
    "            0.132582521472478) + 0.353553390593274)\n",
    "    else:\n",
    "        beta = np.real(np.multiply(np.divide(1.,np.power(lam,3.)),cmath.sqrt(np.multiply((4.+np.power(lam,4.)), \\\n",
    "            cmath.sqrt(1.+np.power(lam,4.)))-3.*np.power(lam,4.)-4.)))\n",
    "\n",
    "        \n",
    "    viu = vwu + gam*(-alpha*vav + beta*vau)\n",
    "    viv = vwv + gam*(alpha*vau + beta*vav)\n",
    "\n",
    "    y_new = y + (viv*dt)*(180/(np.pi*R))\n",
    "    x_new = x + (viu*dt)/(np.cos((((y + y_new)/2)*np.pi)/180))*(180/(np.pi*R))\n",
    "    \n",
    "    \n",
    "    # Melting\n",
    "\n",
    "    Me = CMe1*(Cs1*np.sqrt(vau**2 + vav**2)**Cs2 + Cs3*np.sqrt(vau**2 + vav**2))\n",
    "    Mv = CMv1*sst + CMv2*sst**2\n",
    "    Mb = CMb1*np.power(np.sqrt(np.square(viu-vwu)+np.square(viv-vwv)),CMb2)*(sst - sst0)/l**CMb3\n",
    "\n",
    "    l_new = l - (Mv + Me)*(dt/(24*3600))  # convert dt from secs to days\n",
    "    w_new = w - (Mv + Me)*(dt/(24*3600))\n",
    "    h_new = h - Mb*(dt/(24*3600))\n",
    "\n",
    "    if w_new < 0.85*h_new:\n",
    "        # Rollover\n",
    "        print('rollover')\n",
    "        w_new, h_new = h_new, w_new\n",
    "\n",
    "    if w_new > l_new:\n",
    "        # Ensure l is greater than w\n",
    "        print('swap l and w')\n",
    "        w_new, l_new = l_new, w_new\n",
    "\n",
    "    return x_new, y_new, l_new, w_new, h_new   "
   ]
  },
  {
   "cell_type": "code",
   "execution_count": 133,
   "metadata": {},
   "outputs": [],
   "source": [
    "# Timesteps\n",
    "t0 = 0  # initial hour\n",
    "t_inc = 1  # hours\n",
    "num_hrs = np.ceil(berg_df['hrs_since'].values[-1])\n",
    "tn = t_inc*num_hrs  # total number of timesteps\n",
    "dt = t_inc*3600  # model timestep in seconds\n",
    "tf = t0 + tn*dt  # final timestep in seconds  \n",
    "t_all = np.arange(t0, num_hrs, t_inc)"
   ]
  },
  {
   "cell_type": "code",
   "execution_count": 134,
   "metadata": {},
   "outputs": [],
   "source": [
    "def get_berg_dims(size):\n",
    "    # Size must be GR, BB, SM, MED, LG, VLG\n",
    "    # See https://nsidc.org/data/g00807 for more info\n",
    "    \n",
    "    if size == 'GR':\n",
    "        l = (0+5)/2\n",
    "        w = (0+5)/2\n",
    "        h = (0+1)/2*10\n",
    "        \n",
    "    elif size == 'BB':\n",
    "        l = (5+15)/2\n",
    "        w = (5+15)/2\n",
    "        h = (1+5)/2*10\n",
    "        \n",
    "    elif size == 'SM':\n",
    "        l = (15+60)/2\n",
    "        w = (15+60)/2\n",
    "        h = (5+15)/2*10\n",
    "        \n",
    "    elif size == 'MED':\n",
    "        l = (60+120)/2\n",
    "        w = (60+120)/2\n",
    "        h = (15+45)/2*10\n",
    "               \n",
    "    elif size == 'LG':\n",
    "        l = (120)/2\n",
    "        w = (120)/2\n",
    "        h = (45+75)/2*10\n",
    "                \n",
    "    elif size == 'VLG':\n",
    "        # Sizes have no listed upper bound\n",
    "        l = (200+200/2)/2\n",
    "        w = (200+200/2)/2\n",
    "        h = (75+75/2)/2*10\n",
    "        \n",
    "    # This info for GEN is wrong!\n",
    "    elif size == 'GEN':\n",
    "        l = (120)/2\n",
    "        w = (120)/2\n",
    "        h = (45+75)/2*10\n",
    "            \n",
    "    else:\n",
    "        print('unknown size class')\n",
    "        l = None\n",
    "        w = None\n",
    "        h = None\n",
    "    \n",
    "    return l, w, h"
   ]
  },
  {
   "cell_type": "code",
   "execution_count": 156,
   "metadata": {},
   "outputs": [
    {
     "name": "stdout",
     "output_type": "stream",
     "text": [
      "Run number: 0, h = 600.0, l = 60.0, w = 60.0\n",
      "Timestep: 0.0\n",
      "rollover\n",
      "swap l and w\n",
      "Timestep: 1.0\n",
      "Timestep: 2.0\n",
      "Timestep: 3.0\n",
      "Timestep: 4.0\n",
      "Timestep: 5.0\n",
      "Timestep: 6.0\n",
      "Timestep: 7.0\n",
      "Timestep: 8.0\n",
      "Timestep: 9.0\n",
      "Timestep: 10.0\n",
      "Timestep: 11.0\n",
      "Timestep: 12.0\n",
      "Timestep: 13.0\n",
      "Timestep: 14.0\n",
      "Timestep: 15.0\n",
      "Timestep: 16.0\n",
      "Timestep: 17.0\n",
      "Timestep: 18.0\n",
      "Timestep: 19.0\n",
      "Timestep: 20.0\n",
      "Timestep: 21.0\n",
      "Timestep: 22.0\n",
      "Timestep: 23.0\n",
      "Timestep: 24.0\n",
      "Timestep: 25.0\n",
      "Timestep: 26.0\n",
      "Timestep: 27.0\n",
      "Timestep: 28.0\n",
      "Timestep: 29.0\n",
      "Timestep: 30.0\n",
      "Timestep: 31.0\n",
      "Timestep: 32.0\n",
      "Timestep: 33.0\n",
      "Timestep: 34.0\n",
      "Timestep: 35.0\n",
      "Final time: 36.0\n"
     ]
    },
    {
     "data": {
      "image/png": "[encoded data removed]",
      "text/plain": [
       "<matplotlib.figure.Figure at 0x7f29531d19e8>"
      ]
     },
     "metadata": {},
     "output_type": "display_data"
    }
   ],
   "source": [
    "# Iceberg Initial Location\n",
    "x0, y0 = berg_df.LONGITUDE.values[0], berg_df.LATITUDE.values[0]\n",
    "\n",
    "# Run number\n",
    "run_num = 0\n",
    "num_runs = 1\n",
    "\n",
    "# Buffer number for bounding spatial box\n",
    "buf = 0.5\n",
    "\n",
    "# Manual stop time\n",
    "stop_time = 36\n",
    "\n",
    "for run_num in range(num_runs):\n",
    "    \n",
    "    # Iceberg Initials\n",
    "    l0, w0, h0 = get_berg_dims(berg_df['SIZE'].values[0])\n",
    "    l0 = l0 + l0*0.1*run_num\n",
    "    w0 = w0 + w0*0.1*run_num\n",
    "    h0 = h0 + h0*0.1*run_num\n",
    "    l, w, h = l0, w0, h0\n",
    "    x, y = x0, y0\n",
    "    t = t_all[0]\n",
    "    iceberg = np.array([[t0],[x0],[y0],[l0],[w0],[h0]])\n",
    "\n",
    "    print('Run number: {}, h = {}, l = {}, w = {}'.format(run_num, h0, l0, w0))\n",
    "    \n",
    "    while t < stop_time:\n",
    "        \n",
    "        print('Timestep: {}'.format(t))\n",
    "\n",
    "        x_new, y_new, l_new, w_new, h_new = iceDEF(t, x, y, l, w, h)\n",
    "\n",
    "        if x_new > berg_max_lon+buf or x_new < berg_min_lon-buf or y_new > berg_max_lat+buf or y_new <= berg_min_lat-buf:\n",
    "            # Iceberg out-of-bounds\n",
    "            print('out-of-bounds')\n",
    "            break\n",
    "\n",
    "\n",
    "        if l_new <= 0 or w_new <= 0 or h_new <= 0:\n",
    "            # Iceberg melted\n",
    "            print('melted')\n",
    "            break\n",
    "\n",
    "        else:\n",
    "            x, y, l, w, h = x_new, y_new, l_new, w_new, h_new\n",
    "            t += t_inc\n",
    "            iceberg_new = np.array([[t],[x],[y],[l],[w],[h]])\n",
    "            iceberg = np.column_stack((iceberg, iceberg_new))\n",
    "\n",
    "    print(\"Final time: {}\".format(t))\n",
    "            \n",
    "    #lrp = berg_df.hrs_since.size  #last_real_pt\n",
    "    #plt.plot(berg_df['LONGITUDE'].values[:lrp], berg_df['LATITUDE'].values[:lrp], \n",
    "    #         label='observed', marker='o')\n",
    "        nbt = berg_df.loc[abs(berg_df['hrs_since'] - t) == min(abs(berg_df['hrs_since'] -t))].index.values[0] - berg_df.index[0] # nearest berg time index from 0\n",
    "\n",
    "    nbt = berg_df.loc[abs(berg_df['hrs_since'] - t) == min(abs(berg_df['hrs_since'] -t))].index.values[0] - berg_df.index[0] # nearest berg time index from 0\n",
    "    plt.plot(berg_df['LONGITUDE'].values[:nbt+1], berg_df['LATITUDE'].values[:nbt+1], \n",
    "             label='observed', marker='o')    \n",
    "    for k in range(nbt+1):\n",
    "        plt.annotate('{0:.1f}'.format(berg_df['hrs_since'].values[k]), \n",
    "                     xy=(berg_df['LONGITUDE'].values[k],\n",
    "                         berg_df['LATITUDE'].values[k]))\n",
    "        tmp_i = np.where(abs(t_all - berg_df['hrs_since'].values[k]) < t_inc)[0][0]\n",
    "        if tmp_i >= iceberg[0,:].size:\n",
    "            plt.annotate('{0:.1f}'.format(iceberg[0,-1]), \n",
    "                     xy=(iceberg[1,-1],iceberg[2,-1]))\n",
    "        else:\n",
    "            plt.annotate('{0:.1f}'.format(t_all[tmp_i]), \n",
    "                     xy=(iceberg[1,tmp_i],iceberg[2,tmp_i]))\n",
    "        \n",
    "    plt.plot(iceberg[1,:],iceberg[2,:], label='computed')\n",
    "    plt.xlabel('Longitude'); plt.ylabel('Latitude')\n",
    "    plt.title('Iceberg Drift\\nSeason year: {}\\nIIP indices: {}'.format(season_year, chosen_inds_arr[chosen_track_ind]))\n",
    "    plt.savefig('./drift_track.png')\n",
    "    \n",
    "\n",
    "    if run_num == 0:\n",
    "        output_dict = {\n",
    "                        't_arr{}'.format(run_num): iceberg[0,:],\n",
    "                        'x_arr{}'.format(run_num): iceberg[1,:],\n",
    "                        'y_arr{}'.format(run_num): iceberg[2,:],\n",
    "                        'l_arr{}'.format(run_num): iceberg[3,:],\n",
    "                        'w_arr{}'.format(run_num): iceberg[4,:],\n",
    "                        'h_arr{}'.format(run_num): iceberg[5,:]\n",
    "                    }\n",
    "    else:\n",
    "        output_dict['t_arr{}'.format(run_num)] = iceberg[0,:]\n",
    "        output_dict['x_arr{}'.format(run_num)] = iceberg[1,:]\n",
    "        output_dict['y_arr{}'.format(run_num)] = iceberg[2,:]\n",
    "        output_dict['l_arr{}'.format(run_num)] = iceberg[3,:]\n",
    "        output_dict['w_arr{}'.format(run_num)] = iceberg[4,:]\n",
    "        output_dict['h_arr{}'.format(run_num)] = iceberg[5,:]\n"
   ]
  },
  {
   "cell_type": "code",
   "execution_count": 121,
   "metadata": {},
   "outputs": [
    {
     "data": {
      "text/plain": [
       "-48.799999999999997"
      ]
     },
     "execution_count": 121,
     "metadata": {},
     "output_type": "execute_result"
    }
   ],
   "source": [
    "x0"
   ]
  },
  {
   "cell_type": "code",
   "execution_count": 122,
   "metadata": {},
   "outputs": [
    {
     "data": {
      "text/plain": [
       "array([-49.5, -49. , -48.5, -48. , -47.5], dtype=float32)"
      ]
     },
     "execution_count": 122,
     "metadata": {},
     "output_type": "execute_result"
    }
   ],
   "source": [
    "navgem_lons"
   ]
  },
  {
   "cell_type": "code",
   "execution_count": 123,
   "metadata": {},
   "outputs": [
    {
     "data": {
      "text/plain": [
       "47.670000000000002"
      ]
     },
     "execution_count": 123,
     "metadata": {},
     "output_type": "execute_result"
    }
   ],
   "source": [
    "y0"
   ]
  },
  {
   "cell_type": "code",
   "execution_count": 124,
   "metadata": {},
   "outputs": [
    {
     "data": {
      "text/plain": [
       "array([ 46.49999237,  46.99999237,  47.49999237,  47.99999237,  48.49999237], dtype=float32)"
      ]
     },
     "execution_count": 124,
     "metadata": {},
     "output_type": "execute_result"
    }
   ],
   "source": [
    "navgem_lats"
   ]
  },
  {
   "cell_type": "code",
   "execution_count": 137,
   "metadata": {},
   "outputs": [
    {
     "data": {
      "text/plain": [
       "array([-3.52224006])"
      ]
     },
     "execution_count": 137,
     "metadata": {},
     "output_type": "execute_result"
    }
   ],
   "source": [
    "wind_u_interp([t, y0, x])"
   ]
  },
  {
   "cell_type": "code",
   "execution_count": 139,
   "metadata": {},
   "outputs": [
    {
     "data": {
      "text/plain": [
       "array([  0,   6,  12,  18,  24,  30,  36,  42,  48,  54,  60,  66,  72,\n",
       "        78,  84,  90,  96, 102, 108, 114, 120, 126, 132, 138, 144, 150,\n",
       "       156, 162, 168, 174, 180, 186, 192, 198, 204, 210, 216, 222, 228,\n",
       "       234, 240, 246, 252, 258, 264, 270, 276, 282])"
      ]
     },
     "execution_count": 139,
     "metadata": {},
     "output_type": "execute_result"
    }
   ],
   "source": [
    "navgem_times"
   ]
  },
  {
   "cell_type": "code",
   "execution_count": 154,
   "metadata": {},
   "outputs": [
    {
     "data": {
      "text/plain": [
       "2"
      ]
     },
     "execution_count": 154,
     "metadata": {},
     "output_type": "execute_result"
    }
   ],
   "source": [
    "berg_df.loc[abs(berg_df['hrs_since'] - t) == min(abs(berg_df['hrs_since'] -t))].index.values[0] - berg_df.index[0]"
   ]
  },
  {
   "cell_type": "code",
   "execution_count": null,
   "metadata": {},
   "outputs": [],
   "source": []
  }
 ],
 "metadata": {
  "kernelspec": {
   "display_name": "Python 3",
   "language": "python",
   "name": "python3"
  },
  "language_info": {
   "codemirror_mode": {
    "name": "ipython",
    "version": 3
   },
   "file_extension": ".py",
   "mimetype": "text/x-python",
   "name": "python",
   "nbconvert_exporter": "python",
   "pygments_lexer": "ipython3",
   "version": "3.6.3"
  }
 },
 "nbformat": 4,
 "nbformat_minor": 2
}
