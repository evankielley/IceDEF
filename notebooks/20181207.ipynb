{
 "cells": [
  {
   "cell_type": "code",
   "execution_count": 1,
   "metadata": {},
   "outputs": [],
   "source": [
    "import pygrib\n",
    "import numpy as np\n",
    "import pandas as pd\n",
    "\n",
    "import matplotlib.pyplot as plt\n",
    "\n",
    "from icedef import metocean"
   ]
  },
  {
   "cell_type": "code",
   "execution_count": 2,
   "metadata": {},
   "outputs": [],
   "source": [
    "grbs = pygrib.open('/home/evankielley/Downloads/ofs_atl.t00z.N000.20150420.3d.grb.grib2')"
   ]
  },
  {
   "cell_type": "code",
   "execution_count": 3,
   "metadata": {},
   "outputs": [
    {
     "ename": "RuntimeError",
     "evalue": "b'Key/value not found'",
     "output_type": "error",
     "traceback": [
      "\u001b[0;31m---------------------------------------------------------------------------\u001b[0m",
      "\u001b[0;31mRuntimeError\u001b[0m                              Traceback (most recent call last)",
      "\u001b[0;32m<ipython-input-3-ed6eb7a9b128>\u001b[0m in \u001b[0;36m<module>\u001b[0;34m()\u001b[0m\n\u001b[0;32m----> 1\u001b[0;31m \u001b[0;32mfor\u001b[0m \u001b[0mgrb\u001b[0m \u001b[0;32min\u001b[0m \u001b[0mgrbs\u001b[0m\u001b[0;34m[\u001b[0m\u001b[0;34m:\u001b[0m\u001b[0;36m2\u001b[0m\u001b[0;34m]\u001b[0m\u001b[0;34m:\u001b[0m\u001b[0;34m\u001b[0m\u001b[0m\n\u001b[0m\u001b[1;32m      2\u001b[0m     \u001b[0mprint\u001b[0m\u001b[0;34m(\u001b[0m\u001b[0mgrb\u001b[0m\u001b[0;34m)\u001b[0m\u001b[0;34m\u001b[0m\u001b[0m\n",
      "\u001b[0;32mpygrib.pyx\u001b[0m in \u001b[0;36mpygrib.open.__getitem__\u001b[0;34m()\u001b[0m\n",
      "\u001b[0;32mpygrib.pyx\u001b[0m in \u001b[0;36mpygrib.open.message\u001b[0;34m()\u001b[0m\n",
      "\u001b[0;32mpygrib.pyx\u001b[0m in \u001b[0;36mpygrib._create_gribmessage\u001b[0;34m()\u001b[0m\n",
      "\u001b[0;32mpygrib.pyx\u001b[0m in \u001b[0;36mpygrib.gribmessage._set_projparams\u001b[0;34m()\u001b[0m\n",
      "\u001b[0;32mpygrib.pyx\u001b[0m in \u001b[0;36mpygrib.gribmessage.__getitem__\u001b[0;34m()\u001b[0m\n",
      "\u001b[0;31mRuntimeError\u001b[0m: b'Key/value not found'"
     ]
    }
   ],
   "source": [
    "for grb in grbs[:2]:\n",
    "    print(grb)"
   ]
  },
  {
   "cell_type": "code",
   "execution_count": null,
   "metadata": {},
   "outputs": [],
   "source": [
    "grbs"
   ]
  },
  {
   "cell_type": "code",
   "execution_count": null,
   "metadata": {},
   "outputs": [],
   "source": [
    "pd.set_option('display.float_format', lambda x: '%.3f' % x)\n",
    "df = pd.read_csv('/home/evankielley/Downloads/eng-hourly-04012015-04302015.csv', \n",
    "                  usecols=['Date/Time', 'Wind Spd (km/h)', 'Wind Dir (10s deg)'], skiprows=15)"
   ]
  },
  {
   "cell_type": "code",
   "execution_count": null,
   "metadata": {},
   "outputs": [],
   "source": [
    "df['Date/Time'] = pd.to_datetime(df['Date/Time'])\n",
    "df['Wind Dir (deg)'] = df['Wind Dir (10s deg)'] * 10\n",
    "df['Wind Spd (m/s)'] = df['Wind Spd (km/h)'] * (1000 / 3600)\n",
    "df['Wind Dir (rad)'] = np.deg2rad(df['Wind Dir (deg)'])\n",
    "df['eastward_wind_velocity'] =  -df['Wind Spd (m/s)'] * np.sin(df['Wind Dir (rad)'])\n",
    "df['northward_wind_velocity'] =  -df['Wind Spd (m/s)'] * np.cos(df['Wind Dir (rad)'])"
   ]
  },
  {
   "cell_type": "code",
   "execution_count": null,
   "metadata": {},
   "outputs": [],
   "source": [
    "df"
   ]
  },
  {
   "cell_type": "code",
   "execution_count": null,
   "metadata": {},
   "outputs": [],
   "source": [
    "start_date = np.datetime64('2015-04-19')\n",
    "end_date = np.datetime64('2015-04-20')\n",
    "date_bounds = start_date, end_date\n",
    "atm = metocean.NARRAtmosphere(date_bounds)"
   ]
  },
  {
   "cell_type": "code",
   "execution_count": null,
   "metadata": {},
   "outputs": [],
   "source": [
    "plt.imshow(atm.eastward_wind_velocities[0, :, :])"
   ]
  },
  {
   "cell_type": "code",
   "execution_count": null,
   "metadata": {},
   "outputs": [],
   "source": [
    "start_index = np.where(df['Date/Time'] > atm.dataset.time.values[0])[0][0]\n",
    "end_index = np.where(df['Date/Time'] < atm.dataset.time.values[-1])[0][-1]"
   ]
  },
  {
   "cell_type": "code",
   "execution_count": null,
   "metadata": {},
   "outputs": [],
   "source": [
    "latitude, longitude = 47.6212, -52.7424  # St. John's International Airport\n",
    "\n",
    "d = {'time': [], 'obs_u': [], 'obs_v': [], 'mod_u': [], 'mod_v': []}\n",
    "\n",
    "for i in range(start_index, end_index + 1):\n",
    "\n",
    "    time = np.datetime64(df['Date/Time'][i])\n",
    "    d['time'].append(time)\n",
    "    d['obs_u'].append(df['eastward_wind_velocity'][i])\n",
    "    d['obs_v'].append(df['northward_wind_velocity'][i])\n",
    "    d['mod_u'].append(float(atm.eastward_wind_velocities.interp(time=time, latitude=latitude, longitude=longitude, \n",
    "                                                         assume_sorted=True).values))\n",
    "    d['mod_v'].append(float(atm.northward_wind_velocities.interp(time=time, latitude=latitude, longitude=longitude, \n",
    "                                                         assume_sorted=True).values))"
   ]
  },
  {
   "cell_type": "code",
   "execution_count": null,
   "metadata": {},
   "outputs": [],
   "source": [
    "d['time'][-1]"
   ]
  },
  {
   "cell_type": "code",
   "execution_count": null,
   "metadata": {},
   "outputs": [],
   "source": [
    "gap = 2\n",
    "plt.figure(figsize=(14, 4))\n",
    "plt.quiver(d['obs_u'][::gap], d['obs_v'][::gap], width=5e-3, scale=100, color='black', label='observed')\n",
    "plt.quiver(d['mod_u'][::gap], d['mod_v'][::gap], width=5e-3, scale=100, color='red', label='predicted')\n",
    "plt.title('St. John\\'s International Airport Wind Velocities from {} to {}'.format(\n",
    "    pd.to_datetime(str(d['time'][0])).strftime('%Y.%m.%d.%H.%M'), \n",
    "    pd.to_datetime(str(d['time'][-1])).strftime('%Y.%m.%d.%H.%M')))\n",
    "plt.legend()\n",
    "plt.show()"
   ]
  },
  {
   "cell_type": "code",
   "execution_count": null,
   "metadata": {},
   "outputs": [],
   "source": []
  }
 ],
 "metadata": {
  "kernelspec": {
   "display_name": "Python 3",
   "language": "python",
   "name": "python3"
  },
  "language_info": {
   "codemirror_mode": {
    "name": "ipython",
    "version": 3
   },
   "file_extension": ".py",
   "mimetype": "text/x-python",
   "name": "python",
   "nbconvert_exporter": "python",
   "pygments_lexer": "ipython3",
   "version": "3.6.5"
  }
 },
 "nbformat": 4,
 "nbformat_minor": 2
}
