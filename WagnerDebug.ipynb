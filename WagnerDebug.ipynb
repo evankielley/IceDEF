{
 "cells": [
  {
   "cell_type": "code",
   "execution_count": 99,
   "metadata": {
    "collapsed": true
   },
   "outputs": [],
   "source": [
    "# Modules\n",
    "\n",
    "import numpy as np\n",
    "import numpy.matlib\n",
    "import time\n",
    "import scipy.io as sio\n",
    "from scipy.spatial import cKDTree as ckd"
   ]
  },
  {
   "cell_type": "code",
   "execution_count": 100,
   "metadata": {
    "collapsed": true
   },
   "outputs": [],
   "source": [
    "def tic():\n",
    "    #Homemade version of matlab tic and toc functions\n",
    "    global startTime_for_tictoc\n",
    "    startTime_for_tictoc = time.time()\n",
    "\n",
    "def toc():\n",
    "    import time\n",
    "    if 'startTime_for_tictoc' in globals():\n",
    "        print(\"Elapsed time is {} seconds.\".format(str(time.time() - startTime_for_tictoc)))\n",
    "    else:\n",
    "        print(\"Toc: start time not set\")"
   ]
  },
  {
   "cell_type": "code",
   "execution_count": 101,
   "metadata": {
    "collapsed": true
   },
   "outputs": [],
   "source": [
    "def find_nearest(array,value):\n",
    "    idx = (np.abs(array-value)).argmin()\n",
    "    return idx"
   ]
  },
  {
   "cell_type": "code",
   "execution_count": 156,
   "metadata": {
    "collapsed": true
   },
   "outputs": [],
   "source": [
    "glacier = 'H'   #pick the glacier you want to construct the seeding for\n",
    "\n",
    "if glacier == 'H':\n",
    "    # Helheim Ice Sheet Seeding Locations ---------------------------------\n",
    "    Glac_Y = np.arange(259,262,1)  #[261,190] 66.3500 N, 38.2000 W coord, Helheim\n",
    "    Glac_X = np.arange(188,192,1) \n",
    "    glac_name = 'Helheim'\n",
    "\n",
    "elif glacier == 'J':\n",
    "    # Jakobshaven Ice Sheet Seeding Locations -----------------------------\n",
    "    Glac_Y = np.arange(276,280,1)  #[277,120] 69 10 N 49 50 W coord, Jakobshavn\n",
    "    Glac_X = np.arange(119,123,1) \n",
    "    glac_name = 'Jakobsh'\n",
    "\n",
    "elif glacier == 'K':\n",
    "    # Kangerd Ice Sheet Seeding Locations ---------------------------------\n",
    "    Glac_Y = np.arange(267,271,1)  #[277,120] 68 38 N 33 0 W coord, Kangerd\n",
    "    Glac_X = np.arange(213,218,1) \n",
    "    glac_name = 'Kangerd'\n",
    "\n",
    "elif glacier == 'L': \n",
    "    # Laurentide Ice Sheet Seeding Locations ------------------------------\n",
    "    Glac_Y = np.arange(245,255,2)  #Laurentide LAT seed locations (in ECCO 2 grid)\n",
    "    Glac_X = np.arange(86,101,2)    #Laurentide LON seed locations (in ECCO 2 grid)\n",
    "    glac_name = 'Laurent' \n",
    "\n",
    "#seed_LAT = [LAT[Glac_Y[0]]*[1, 1], LAT[Glac_Y[-1]]*[1, 1]] \n",
    "#seed_LON = np.matlib.repmat([LON[Glac_X[0]], LON[Glac_X[-1]]],[2,1]) \n",
    "#seed_LAT = np.matlib.repmat([LAT[Glac_Y[0]], LAT[Glac_Y[-1]]],[2,1]) \n",
    "#seed_LON = [LON[Glac_X[0]]*[1, 1], LON[Glac_X[-1]]*[1, 1]] \n",
    "Seed_Y, Seed_X = np.meshgrid(Glac_Y, Glac_X)"
   ]
  },
  {
   "cell_type": "code",
   "execution_count": 102,
   "metadata": {
    "collapsed": true
   },
   "outputs": [],
   "source": [
    "def a(U):\n",
    "    # \\alpha in the paper\n",
    "    a = np.multiply(np.divide(np.sqrt(2),np.power(U, 3)),(1-np.sqrt(1+np.power(U,4))))\n",
    "    return a\n",
    "\n",
    "def b(U):\n",
    "    # \\beta in the paper\n",
    "    #print(np.multiply((4+np.power(U,4)),np.sqrt(1+np.power(U,4)))-3*np.power(U,4)-4)\n",
    "    b = np.real(np.multiply(np.divide(1,np.power(U,3)),np.sqrt(np.multiply((4+np.power(U,4)), \\\n",
    "                                            np.sqrt(1+np.power(U,4)))-3*np.power(U,4)-4)))\n",
    "    \n",
    "    if not b >= 0:\n",
    "        b = 0\n",
    "    \n",
    "    return b\n",
    "\n",
    "def ff(lati):\n",
    "    # Latitude in degrees\n",
    "    ff = 2*om*np.sin(abs(lati)*np.pi/180)\n",
    "    return ff\n",
    "\n",
    "def S(l, w):\n",
    "    # Harmonic mean length\n",
    "    S = np.pi*(np.multiply(l, np.divide(w,(l+w))))\n",
    "    return S\n",
    "\n",
    "def Ut(u, lati, S):\n",
    "    # \\Lambda in the papers\n",
    "    Ut = np.sqrt(2)*Cw*g/ff(lati)*u/S\n",
    "    return Ut"
   ]
  },
  {
   "cell_type": "code",
   "execution_count": 103,
   "metadata": {
    "collapsed": false
   },
   "outputs": [
    {
     "data": {
      "text/plain": [
       "-0.61270622427346211"
      ]
     },
     "execution_count": 103,
     "metadata": {},
     "output_type": "execute_result"
    }
   ],
   "source": [
    "a(1.5)  # agrees with MATLAB"
   ]
  },
  {
   "cell_type": "code",
   "execution_count": 104,
   "metadata": {
    "collapsed": false
   },
   "outputs": [
    {
     "data": {
      "text/plain": [
       "array(0.523893282859223)"
      ]
     },
     "execution_count": 104,
     "metadata": {},
     "output_type": "execute_result"
    }
   ],
   "source": [
    "b(1.5)  # agrees with MATLAB"
   ]
  },
  {
   "cell_type": "code",
   "execution_count": 105,
   "metadata": {
    "collapsed": false
   },
   "outputs": [
    {
     "data": {
      "text/plain": [
       "0.00012630287693873009"
      ]
     },
     "execution_count": 105,
     "metadata": {},
     "output_type": "execute_result"
    }
   ],
   "source": [
    "ff(60)  # agrees with MATLAB"
   ]
  },
  {
   "cell_type": "code",
   "execution_count": 106,
   "metadata": {
    "collapsed": false
   },
   "outputs": [
    {
     "data": {
      "text/plain": [
       "1884.9555921538758"
      ]
     },
     "execution_count": 106,
     "metadata": {},
     "output_type": "execute_result"
    }
   ],
   "source": [
    "S(1500,1000)  # agrees with MATLAB"
   ]
  },
  {
   "cell_type": "code",
   "execution_count": 107,
   "metadata": {
    "collapsed": false
   },
   "outputs": [
    {
     "data": {
      "text/plain": [
       "0.76169217656676025"
      ]
     },
     "execution_count": 107,
     "metadata": {},
     "output_type": "execute_result"
    }
   ],
   "source": [
    "Ut(7.6,60,1885)  # agrees with MATLAB"
   ]
  },
  {
   "cell_type": "code",
   "execution_count": null,
   "metadata": {
    "collapsed": true
   },
   "outputs": [],
   "source": [
    "# Analytic Parameters\n",
    "R = 6378 * 1e3  ## earth radius in m\n",
    "rhow = 1027  ## density of water (kg/m^3)\n",
    "rhoa = 1.2  ## density of air   (kg/m^3)\n",
    "rhoi = 850  ## density of ice   (kg/m^3)\n",
    "drho = rhow - rhoi\n",
    "Cw = 0.9  ## bulk coefficient water  (Bigg et al 1997)\n",
    "Ca = 1.3  ## bulk coefficient air    (Bigg et al 1997)\n",
    "om = 7.2921 * 1e-5  ## rotation rate of earth (rad/s)\n",
    "g = np.sqrt(rhoa*drho/rhow/rhoi*(Ca / Cw))  ## gamma = np.sqrt(ca/cw)\n",
    "#g = 0.0187\n",
    "\n",
    "# Melt parameters\n",
    "\n",
    "Ti0 = -4\n",
    "Cs1 = 1.5; Cs2 = 0.5; Cs3 = 0.1\n",
    "CMv1 = 7.62e-3; CMv2 = 1.29e-3; CMe1 = 0.5\n",
    "CMb1 = 0.58; CMb2 = 0.8; CMb3 = 0.2\n",
    "\n",
    "\n",
    "\n",
    "# Set directories\n",
    "\n",
    "modelfull = 'ECCO_20th'\n",
    "modelshort = 'E2'\n",
    "root = '/home/evankielley/WagnerModel'\n",
    "condloc = root + '/conditions/' + modelfull + '/'\n",
    "outloc = root + '/output/' + modelfull + '/'\n",
    "modelloc = root + '/Model/'\n",
    "\n",
    "# Set run parameters \n",
    "\n",
    "trajnum = 25            # total number of iceberg trajectories to compute\n",
    "final_t = 122           # number of input field time steps\n",
    "startrange = final_t / 2  # input field start range\n",
    "tres = 3                # time resoln such that \"model Dt\"=\"input DT\"/tres\n",
    "DT = 3                  # Input fields time step\n",
    "Dt = DT / tres            # model timestep in days\n",
    "dt = Dt * 24 * 3600         # model timestep in seconds\n",
    "R = 6378 * 1e3            # earth radius in m\n",
    "dtR = dt / R * 180 / np.pi       # need this ratio for distances in \"drifting.m\"\n",
    "t = np.arange(0, final_t)      # how long is the run\n",
    "nt = (t.size) * tres             # number of model timesteps\n",
    "tt = np.linspace(1, t.size, nt) # model time"
   ]
  },
  {
   "cell_type": "code",
   "execution_count": 155,
   "metadata": {
    "collapsed": false
   },
   "outputs": [
    {
     "name": "stdout",
     "output_type": "stream",
     "text": [
      "Model data loaded \n",
      "\n",
      "Elapsed time is 3.842700958251953 seconds.\n",
      "Fields seeded \n",
      "\n",
      "Space domain specified \n",
      "\n",
      "Circulation fields set \n",
      "\n"
     ]
    }
   ],
   "source": [
    "# Load input fields\n",
    "\n",
    "tic()\n",
    "msk = sio.loadmat(condloc + 'mask.mat'); msk = msk['msk'] \n",
    "vel = sio.loadmat(condloc + modelshort + '_vels_1992.mat'); vel = vel['vel']\n",
    "sst = sio.loadmat(condloc + modelshort +'_sst_1992.mat'); sst = sst['sst']\n",
    "bergdims = sio.loadmat(modelloc + 'bergdims.mat'); bergdims = bergdims['bergdims']\n",
    "print('Model data loaded \\n')\n",
    "toc()\n",
    "\n",
    "\n",
    "\n",
    "# Load Seeding fields\n",
    "Laurent_Seed = sio.loadmat(modelloc + 'Laurent_Seed.mat')\n",
    "Seed_X = Laurent_Seed['Seed_X']; Seed_Y = Laurent_Seed['Seed_Y']\n",
    "# Cycle through each location 100x (i.e. this can run 3600 icebergs)\n",
    "seed_X = np.matlib.repmat(Seed_X, 1, 100); seed_Y = np.matlib.repmat(Seed_Y, 1, 100)\n",
    "seed_X = seed_X.transpose().flatten(); seed_Y = seed_Y.transpose().flatten()\n",
    "#seed_X = np.tile(np.ravel(Seed_X), [1, 100]); seed_Y = np.tile(np.ravel(Seed_Y), [1, 100])\n",
    "#seed_X = seed_X.transpose(); seed_Y = seed_Y.transpose()\n",
    "#seed_X = np.ravel(seed_X); seed_Y = np.ravel(seed_Y)\n",
    "print('Fields seeded \\n')\n",
    "\n",
    "\n",
    "\n",
    "# Specify the space domain\n",
    "\n",
    "LAT = vel['latw'] * 1.0 \n",
    "LAT = LAT[0,0]\n",
    "LAT = np.ravel(LAT)\n",
    "#print(LAT)\n",
    "LON = vel['lonw'] * 1.0\n",
    "LON = LON[0,0]\n",
    "LON = np.ravel(LON)\n",
    "minLAT = min(LAT[:]) \n",
    "maxLAT = max(LAT[:])\n",
    "minLON = min(LON[:]) \n",
    "maxLON = max(LON[:])\n",
    "print('Space domain specified \\n')\n",
    "\n",
    "\n",
    "# Set the circulation fields\n",
    "\n",
    "uwF = vel['uw']; vwF = vel['vw']\n",
    "uwF = uwF[0,0]; vwF = vwF[0,0]\n",
    "uaF = vel['ua']; vaF = vel['va']  \n",
    "uaF = uaF[0,0]; vaF = vaF[0,0]\n",
    "sst = sst[:,:,t]     \n",
    "print('Circulation fields set \\n')"
   ]
  },
  {
   "cell_type": "code",
   "execution_count": 159,
   "metadata": {
    "collapsed": false
   },
   "outputs": [
    {
     "data": {
      "text/plain": [
       "(340,)"
      ]
     },
     "execution_count": 159,
     "metadata": {},
     "output_type": "execute_result"
    }
   ],
   "source": [
    "LON.shape"
   ]
  },
  {
   "cell_type": "code",
   "execution_count": 149,
   "metadata": {
    "collapsed": false
   },
   "outputs": [
    {
     "data": {
      "text/plain": [
       "array([245, 245, 245, ..., 255, 255, 255], dtype=uint8)"
      ]
     },
     "execution_count": 149,
     "metadata": {},
     "output_type": "execute_result"
    }
   ],
   "source": [
    "seed_Y"
   ]
  },
  {
   "cell_type": "code",
   "execution_count": 109,
   "metadata": {
    "collapsed": false
   },
   "outputs": [
    {
     "data": {
      "text/plain": [
       "366"
      ]
     },
     "execution_count": 109,
     "metadata": {},
     "output_type": "execute_result"
    }
   ],
   "source": [
    "nt"
   ]
  },
  {
   "cell_type": "code",
   "execution_count": null,
   "metadata": {
    "collapsed": false
   },
   "outputs": [],
   "source": [
    "np.linspace(1, 122, 366)"
   ]
  },
  {
   "cell_type": "code",
   "execution_count": 173,
   "metadata": {
    "collapsed": false
   },
   "outputs": [
    {
     "name": "stdout",
     "output_type": "stream",
     "text": [
      "run bergsize B1 \n",
      "\n"
     ]
    },
    {
     "name": "stderr",
     "output_type": "stream",
     "text": [
      "/home/evankielley/anaconda3/lib/python3.5/site-packages/ipykernel/__main__.py:66: RuntimeWarning: overflow encountered in ushort_scalars\n",
      "/home/evankielley/anaconda3/lib/python3.5/site-packages/ipykernel/__main__.py:89: VisibleDeprecationWarning: using a non-integer number instead of an integer will result in an error in the future\n",
      "/home/evankielley/anaconda3/lib/python3.5/site-packages/ipykernel/__main__.py:90: VisibleDeprecationWarning: using a non-integer number instead of an integer will result in an error in the future\n",
      "/home/evankielley/anaconda3/lib/python3.5/site-packages/ipykernel/__main__.py:91: VisibleDeprecationWarning: using a non-integer number instead of an integer will result in an error in the future\n",
      "/home/evankielley/anaconda3/lib/python3.5/site-packages/ipykernel/__main__.py:92: VisibleDeprecationWarning: using a non-integer number instead of an integer will result in an error in the future\n",
      "/home/evankielley/anaconda3/lib/python3.5/site-packages/ipykernel/__main__.py:93: VisibleDeprecationWarning: using a non-integer number instead of an integer will result in an error in the future\n",
      "/home/evankielley/anaconda3/lib/python3.5/site-packages/ipykernel/__main__.py:154: VisibleDeprecationWarning: non integer (and non boolean) array-likes will not be accepted as indices in the future\n"
     ]
    },
    {
     "name": "stdout",
     "output_type": "stream",
     "text": [
      "Elapsed time is 2.458066701889038 seconds.\n",
      "10 trajectories computed \n",
      "\n",
      "Elapsed time is 5.265200853347778 seconds.\n",
      "20 trajectories computed \n",
      "\n",
      "25 icebergs died, 0 lived, 0 left the domain \n",
      "\n",
      "run bergsize B2 \n",
      "\n",
      "Elapsed time is 5.0897581577301025 seconds.\n",
      "10 trajectories computed \n",
      "\n",
      "Elapsed time is 11.090485572814941 seconds.\n",
      "20 trajectories computed \n",
      "\n",
      "25 icebergs died, 0 lived, 0 left the domain \n",
      "\n",
      "run bergsize B3 \n",
      "\n",
      "Elapsed time is 7.738927125930786 seconds.\n",
      "10 trajectories computed \n",
      "\n",
      "Elapsed time is 16.13980746269226 seconds.\n",
      "20 trajectories computed \n",
      "\n",
      "25 icebergs died, 0 lived, 0 left the domain \n",
      "\n",
      "run bergsize B4 \n",
      "\n"
     ]
    },
    {
     "name": "stderr",
     "output_type": "stream",
     "text": [
      "/home/evankielley/anaconda3/lib/python3.5/site-packages/ipykernel/__main__.py:9: RuntimeWarning: invalid value encountered in sqrt\n"
     ]
    },
    {
     "name": "stdout",
     "output_type": "stream",
     "text": [
      "Elapsed time is 10.414649963378906 seconds.\n",
      "10 trajectories computed \n",
      "\n",
      "Elapsed time is 22.01044249534607 seconds.\n",
      "20 trajectories computed \n",
      "\n",
      "23 icebergs died, 2 lived, 0 left the domain \n",
      "\n",
      "run bergsize B5 \n",
      "\n",
      "Elapsed time is 12.18571662902832 seconds.\n",
      "10 trajectories computed \n",
      "\n",
      "Elapsed time is 24.292197227478027 seconds.\n",
      "20 trajectories computed \n",
      "\n",
      "19 icebergs died, 6 lived, 0 left the domain \n",
      "\n",
      "run bergsize B6 \n",
      "\n",
      "Elapsed time is 11.99438738822937 seconds.\n",
      "10 trajectories computed \n",
      "\n",
      "Elapsed time is 25.732784748077393 seconds.\n",
      "20 trajectories computed \n",
      "\n",
      "17 icebergs died, 8 lived, 0 left the domain \n",
      "\n",
      "run bergsize B7 \n",
      "\n",
      "Elapsed time is 13.416242122650146 seconds.\n",
      "10 trajectories computed \n",
      "\n",
      "Elapsed time is 27.98345947265625 seconds.\n",
      "20 trajectories computed \n",
      "\n",
      "12 icebergs died, 13 lived, 0 left the domain \n",
      "\n",
      "run bergsize B8 \n",
      "\n",
      "Elapsed time is 13.485991954803467 seconds.\n",
      "10 trajectories computed \n",
      "\n",
      "Elapsed time is 28.45179533958435 seconds.\n",
      "20 trajectories computed \n",
      "\n",
      "7 icebergs died, 18 lived, 0 left the domain \n",
      "\n",
      "run bergsize B9 \n",
      "\n",
      "Elapsed time is 13.567946434020996 seconds.\n",
      "10 trajectories computed \n",
      "\n",
      "Elapsed time is 30.056005001068115 seconds.\n",
      "20 trajectories computed \n",
      "\n",
      "1 icebergs died, 24 lived, 0 left the domain \n",
      "\n",
      "run bergsize B10 \n",
      "\n",
      "Elapsed time is 15.22484016418457 seconds.\n",
      "10 trajectories computed \n",
      "\n",
      "Elapsed time is 30.452123880386353 seconds.\n",
      "20 trajectories computed \n",
      "\n",
      "0 icebergs died, 25 lived, 0 left the domain \n",
      "\n"
     ]
    }
   ],
   "source": [
    "### ICEBERG SHELL ###\n",
    "\n",
    "banana = sio.loadmat('/home/evankielley/WagnerModel/output/ECCO_20th/banana.mat')\n",
    "banana = banana['banana']\n",
    "ts1 = banana[:,0]\n",
    "randoX1 = banana[:,1]\n",
    "randoY1 = banana[:,2]\n",
    "\n",
    "# Loop over individual initial iceberg size classes\n",
    "bvec = np.arange(1,11)  # vector of which size classes to compute - has to be [1,10]\n",
    "\n",
    "for bb in bvec:\n",
    "    bergsize = bb - 1   # current berg size class\n",
    "    print('run bergsize B{} \\n'.format(bergsize + 1))\n",
    "    \n",
    "    # Set output arrays    \n",
    "    XIL = np.empty((trajnum, nt)); XIL[:] = np.NAN; YIL = np.empty((trajnum, nt)); YIL[:] = np.NAN\n",
    "    VOL = np.empty((trajnum, nt)); VOL[:] = np.NAN; DVOL = np.empty((trajnum, nt)); DVOL[:] = np.NAN\n",
    "    UI = np.empty((trajnum, nt)); UI[:] = np.NAN; UA = np.empty((trajnum, nt)); UA[:] = np.NAN\n",
    "    UW = np.empty((trajnum, nt)); UW[:] = np.NAN; VI = np.empty((trajnum, nt)); VI[:] = np.NAN\n",
    "    VA = np.empty((trajnum, nt)); VA[:] = np.NAN; VW = np.empty((trajnum, nt)); VW[:] = np.NAN        \n",
    "    TE = np.empty((trajnum, nt)); TE[:] = np.NAN; Memat = np.empty((trajnum, nt)); Memat[:] = np.NAN\n",
    "    Mvmat = np.empty((trajnum, nt)); Mvmat[:] = np.NAN; Mbmat = np.empty((trajnum, nt)); Mbmat[:] = np.NAN        \n",
    "    \n",
    "    # Initialize the iceberg\n",
    "    L = bergdims[bergsize,0]; W = bergdims[bergsize,1]; H = bergdims[bergsize,2] \n",
    "\n",
    "    # Run drift and melt\n",
    "    tic()\n",
    "    mm = 0; ss = 0; ob = 0\n",
    "    \n",
    "    for j in np.arange(1, trajnum+1):\n",
    "        \n",
    "        if np.mod(j,10) == 0: \n",
    "            toc() \n",
    "            print('{} trajectories computed \\n'.format(j))\n",
    "            \n",
    "        # Pick a random trajectory start time (of Input field)\n",
    "        #ts = np.random.randint(0,round(startrange)) ##CHANGED\n",
    "        ts = ts1[10*(bb-1)+(j-1)]\n",
    "        tts = ts * tres  # trajectory start time (of model)\n",
    "        lt = nt - tts   # trajectory run length\n",
    "        \n",
    "        # Initialize output vectors\n",
    "        xil = np.empty(lt+1); yil = np.empty(lt+1)\n",
    "        v = np.empty(lt); dv = np.empty(lt)\n",
    "        uiv = np.empty(lt); uav = np.empty(lt); uwv = np.empty(lt)\n",
    "        viv = np.empty(lt); vav = np.empty(lt); vwv = np.empty(lt)\n",
    "        temp = np.empty(lt)\n",
    "        Mev = np.empty(lt); Mvv = np.empty(lt); Mbv = np.empty(lt)  \n",
    "        \n",
    "        # Pick random grid seeding location (same note as above applies)\n",
    "        #randoX = np.random.randint(1, seed_X.size); randoY = np.random.randint(1, seed_Y.size)\n",
    "        randoX = randoX1[10*(bb-1)+(j-1)]; randoY = randoY1[10*(bb-1)+(j-1)]\n",
    "        #print('randoX = {}'.format(randoX))\n",
    "        yig = seed_Y[randoY-1]; xig = seed_X[randoX-1]\n",
    "        #print('xig = {}'.format(xig))\n",
    "        \n",
    "        # Set initial conditions\n",
    "        ## Lat and lon\n",
    "        xil[0] = LON[xig-1]; yil[0] = LAT[yig-1]\n",
    "        #print('xil[0] = {}'.format(xil[0]))\n",
    "        ## Berg dims\n",
    "        l = L*np.ones(lt); w = l*W/L; h =l*H/L  \n",
    "        ## Berg volume and dvol\n",
    "        v[0] = L * W * H; dv[0] = 0\n",
    "        ## Count\n",
    "        i = 0 \n",
    "        outofbound = 0; melted = 0 \n",
    "        \n",
    "        # Integrate while the iceberg is in the domain and not melted and over the time period specified above\n",
    "        while outofbound == 0 and melted == 0 and i < lt - 1:\n",
    "            \n",
    "\n",
    "################ DRIFTING\n",
    "\n",
    "            I = i\n",
    "\n",
    "            # Find nearest neighbour -- CAUTION: this only works on a rectangular grid!\n",
    "            YI = find_nearest(LAT, yil[I])\n",
    "            XI = find_nearest(LON, xil[I])   \n",
    "\n",
    "            # Interpolate fields linearly between timesteps\n",
    "            timestep = tt[tts + I]\n",
    "            t1  = np.floor(timestep)-1\n",
    "            t2 = t1 + 1\n",
    "            dt1 = timestep - t1 \n",
    "            dt2 = t2 - timestep\n",
    "            ua = uaF[XI,YI,t1] * dt1 + uaF[XI,YI,t2] * dt2 \n",
    "            va = vaF[XI,YI,t1] * dt1 + vaF[XI,YI,t2] * dt2 \n",
    "            uw = uwF[XI,YI,t1] * dt1 + uwF[XI,YI,t2] * dt2 \n",
    "            vw = vwF[XI,YI,t1] * dt1 + vwF[XI,YI,t2] * dt2 \n",
    "            SST = sst[XI,YI,t1] * dt1 + sst[XI,YI,t2] * dt2 \n",
    "\n",
    "            # Compute wind speed and \"U tilde\" at location for a given iceberg size\n",
    "            Ua = np.sqrt(ua**2 + va**2)\n",
    "            UT = Ut(Ua, yil[I], S(l[I],w[I]))  ## Ut and S are functions\n",
    "\n",
    "            # now compute analytic iceberg velocity solution\n",
    "            ui = uw-g*a(UT)*va+g*b(UT)*ua;\n",
    "            vi = vw+g*a(UT)*ua+g*b(UT)*va;\n",
    "\n",
    "            # Iceberg translation -- Note the conversion from meters to degrees lon/lat   \n",
    "            dlon = ui * dtR \n",
    "            dlat = vi * dtR \n",
    "            uiv[I] = ui; viv[I] = vi   \n",
    "            uav[I] = ua; vav[I] = va; \n",
    "            uwv[I] = uw; vwv[I] = vw   \n",
    "            temp[I] = SST\n",
    "\n",
    "            #if not I >= len(yil)-1:\n",
    "            yil[I+1] = yil[I] + dlat\n",
    "            xil[I+1] = xil[I]+ dlon/np.cos((yil[I+1]+yil[I])/2*np.pi/180)\n",
    "            #else:\n",
    "                #I = I-1\n",
    "                #yil[I+1] = yil[I] + dlat\n",
    "                #xil[I+1] = xil[I]+(dlon/(np.cos((yil[I+1] + yil[I]) / 2*np.pi / 180)))\n",
    "\n",
    "            # Check if out-of-bounds\n",
    "            if xil[I+1] > maxLON or xil[I+1] < minLON or yil[I+1] > maxLAT or yil[I+1] < minLAT:\n",
    "                outofbound = 1\n",
    "                ob = ob + 1\n",
    "                print('iceberg {} left boundary at timestep {} \\n'.format(j, I))\n",
    "           \n",
    "            ## now check you didn't send the iceberg on land\n",
    "            else:  \n",
    "                yi2 = []; xi2 = []\n",
    "\n",
    "                tempLAT = LAT\n",
    "                tempLON = LON\n",
    "                tempVar = []\n",
    "\n",
    "                for q in range(0,tempLAT.size):\n",
    "                    if tempLAT[q] <= yil[I+1]:\n",
    "                        tempVar.append(tempLAT[q])\n",
    "                yi2.append(np.amax(tempVar))\n",
    "\n",
    "                for q in range(0,tempLAT.size):\n",
    "                    if tempLAT[q] > yil[I+1]:\n",
    "                        tempVar.append(tempLAT[q])\n",
    "                yi2.append(np.amin(tempVar))\n",
    "\n",
    "                for q in range(0,tempLON.size):\n",
    "                    if tempLAT[q] <= xil[I+1]:\n",
    "                        tempVar.append(tempLAT[q])\n",
    "                xi2.append(np.amax(tempVar))\n",
    "\n",
    "                for q in range(0,tempLON.size):\n",
    "                    if tempLAT[q] > xil[I+1]:\n",
    "                        tempVar.append(tempLAT[q])\n",
    "                xi2.append(np.amin(tempVar))\n",
    "\n",
    "\n",
    "                if any(np.where(np.asarray(msk[xi2, yi2] == 0))):\n",
    "                    yil[I+1] = yil[I]   ## i.e. when I get put within one grid box of land\n",
    "                    xil[I+1] = xil[I]   ## I assume the iceberg don't move, until it doesn't happen anymore\n",
    "\n",
    "\n",
    "\n",
    "################### MELTING\n",
    "\n",
    "            I = i\n",
    "    \n",
    "            # Melt terms\n",
    "            Me = CMe1 * (Cs1 * Ua**Cs2 + Cs3 * Ua)  ## Wind driven erosion\n",
    "            Mv = CMv1 * SST + CMv2 * SST**2  ## Thermal side wall erosion \n",
    "            #Mb = CMb1 * np.multiply(np.abs(vw-vi)**CMb2, np.divide((SST-Ti0),l[I])**CMb3)\n",
    "            Mb = CMb1*np.power(np.sqrt(np.square(ui-uw)+np.square(vi-vw)),CMb2)*(SST-Ti0)/l[I]**CMb3\n",
    "\n",
    "            # Melt rates\n",
    "            dldt = - Mv - Me \n",
    "            dhdt = - Mb\n",
    "            l[I+1] = l[I] + dldt * Dt; w[I+1] = w[I] + dldt * Dt; h[I+1] = h[I] + dhdt * Dt \n",
    "\n",
    "            # Check if iceberg size is negative\n",
    "            if l[I+1] < 0 or w[I+1] < 0 or h[I+1] < 0:\n",
    "                l[I+1] = 0; w[I+1] = 0; h[I+1] = 0\n",
    "                melted = 1   ## Boolean\n",
    "                mm = mm + 1   ## Counter for icebergs that have melted\n",
    "                #print('Iceberg melted')\n",
    "\n",
    "            # Rollover\n",
    "            if w[I+1] < 0.85 * h[I+1]:\n",
    "                hn = w[I+1]  ## new height\n",
    "                w[I+1] = h[I+1] \n",
    "                h[I+1] = hn\n",
    "\n",
    "            # Check if length is greater than width\n",
    "            if w[I+1] > l[I+1]:\n",
    "                wn = l[I+1] \n",
    "                l[I+1] = w[I+1] \n",
    "                w[I+1] = wn\n",
    "\n",
    "            # New volume and change in volume (dv)\n",
    "            v[I+1] = l[I+1] * w[I+1] * h[I+1]\n",
    "            dv[I+1] = v[I] - v[I+1]\n",
    "\n",
    "            # Check if iceberg survived\n",
    "            if I == lt-2 and v[I+1] > 0:\n",
    "                ss = ss + 1   ## counter for icebergs that have survived\n",
    "                #print('Iceberg survived')\n",
    "\n",
    "            # Store melt rates\n",
    "            Mev = Me; Mvv = Mv; Mbv = Mb            \n",
    "\n",
    "\n",
    "            i = i + 1\n",
    "\n",
    "                \n",
    "########### STORE OUTPUTS\n",
    "\n",
    "        ind = np.arange(0,i+1)\n",
    "    \n",
    "        # Store output into caps variables\n",
    "        XIL[(j-1), ind] = xil[ind]; YIL[(j-1), ind] = yil[ind]\n",
    "        VOL[(j-1), ind] = v[ind]; DVOL[(j-1), ind] = dv[ind]     \n",
    "        UI[(j-1), ind] = uiv[ind]; VI[(j-1), ind] = viv[ind] \n",
    "        UA[(j-1), ind] = uav[ind]; VA[(j-1), ind] = vav[ind]\n",
    "        UW[(j-1), ind] = uwv[ind]; VW[(j-1), ind] = vwv[ind]\n",
    "        TE[(j-1), ind] = temp[ind]                     \n",
    "        Memat[(j-1), ind] = Mev; Mvmat[(j-1), ind] = Mvv; Mbmat[(j-1), ind] = Mbv\n",
    "        \n",
    "    # Print message to user\n",
    "    print('{} icebergs died, {} lived, {} left the domain \\n'.format(mm,ss,ob))\n",
    "    \n",
    "    # Save each bergsize trajectories file to output directory\n",
    "    sio.savemat(outloc + 'Python/' + '{}_B{}_full'.format(modelshort, bb), \\\n",
    "                dict(XIL=XIL,YIL=YIL,VOL=VOL,DVOL=DVOL,UI=UI,VI=VI,UA=UA, \\\n",
    "                     VA=VA,UW=UW,VW=VW,TE=TE,Memat=Memat,Mvmat=Mvmat,Mbmat=Mbmat))         \n"
   ]
  },
  {
   "cell_type": "code",
   "execution_count": 176,
   "metadata": {
    "collapsed": false
   },
   "outputs": [
    {
     "data": {
      "text/plain": [
       "array([[ 298.875     ,  298.78193259,  298.71965941,  298.56034081],\n",
       "       [ 296.875     ,  296.69606452,  296.66304942,  296.64742213],\n",
       "       [ 296.875     ,  296.70321543,  296.59997201,  296.4763552 ],\n",
       "       [ 298.375     ,  298.42529307,  298.45799573,  298.44085845]])"
      ]
     },
     "execution_count": 176,
     "metadata": {},
     "output_type": "execute_result"
    }
   ],
   "source": [
    "XIL[:4,:4]"
   ]
  },
  {
   "cell_type": "code",
   "execution_count": null,
   "metadata": {
    "collapsed": true
   },
   "outputs": [],
   "source": []
  },
  {
   "cell_type": "code",
   "execution_count": 177,
   "metadata": {
    "collapsed": false
   },
   "outputs": [],
   "source": [
    "mOut1 = sio.loadmat(outloc + 'E2_B1_full.mat'); mOut1XIL = mOut1['XIL']; mOut1YIL = mOut1['YIL']\n",
    "pOut1 = sio.loadmat(outloc + 'Python/' + 'E2_B1_full.mat'); pOut1XIL = pOut1['XIL']; pOut1YIL = pOut1['YIL']\n",
    "dOut1XIL = mOut1XIL - pOut1XIL\n",
    "dOut1YIL = mOut1YIL - pOut1YIL\n",
    "#dOut1XIL\n",
    "#dOut1YIL"
   ]
  },
  {
   "cell_type": "code",
   "execution_count": 186,
   "metadata": {
    "collapsed": false
   },
   "outputs": [
    {
     "data": {
      "image/png": "[encoded data removed]",
      "text/plain": [
       "<matplotlib.figure.Figure at 0x7f6ac0ed52b0>"
      ]
     },
     "metadata": {},
     "output_type": "display_data"
    },
    {
     "data": {
      "image/png": "[encoded data removed]",
      "text/plain": [
       "<matplotlib.figure.Figure at 0x7f6ac0ee3b70>"
      ]
     },
     "metadata": {},
     "output_type": "display_data"
    }
   ],
   "source": [
    "import matplotlib.pyplot as plt\n",
    "%matplotlib inline\n",
    "\n",
    "#XIL\n",
    "plt.plot(dOut1XIL.transpose())\n",
    "plt.xlabel('Timestep')\n",
    "plt.ylabel('$\\Delta$ XIL')\n",
    "plt.title('Iceberg Size Class 1')\n",
    "plt.show()\n",
    "\n",
    "#YIL\n",
    "plt.plot(dOut1YIL.transpose())\n",
    "plt.xlabel('Timestep')\n",
    "plt.ylabel('$\\Delta$ YIL')\n",
    "plt.title('Iceberg Size Class 1')\n",
    "plt.show()"
   ]
  },
  {
   "cell_type": "code",
   "execution_count": null,
   "metadata": {
    "collapsed": true
   },
   "outputs": [],
   "source": []
  }
 ],
 "metadata": {
  "kernelspec": {
   "display_name": "Python 3",
   "language": "python",
   "name": "python3"
  },
  "language_info": {
   "codemirror_mode": {
    "name": "ipython",
    "version": 3
   },
   "file_extension": ".py",
   "mimetype": "text/x-python",
   "name": "python",
   "nbconvert_exporter": "python",
   "pygments_lexer": "ipython3",
   "version": "3.5.2"
  }
 },
 "nbformat": 4,
 "nbformat_minor": 0
}
