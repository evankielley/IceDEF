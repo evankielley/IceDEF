{
 "cells": [
  {
   "cell_type": "markdown",
   "metadata": {},
   "source": [
    "# Melting"
   ]
  },
  {
   "cell_type": "markdown",
   "metadata": {},
   "source": [
    "**Source:** Wagner, T. J., Dell, R. W., & Eisenman, I. (2017). An Analytical Model of Iceberg Drift. *Journal of Physical Oceanography*."
   ]
  },
  {
   "cell_type": "markdown",
   "metadata": {},
   "source": [
    "## Melt Terms\n",
    "\n",
    "### Wind-driven wave erosion:\n",
    "\n",
    "\\begin{equation}\n",
    "M_e = 0.5 S_s = 0.75 \\mid \\vec{v_a} - \\vec{v_w} \\mid^{0.5} + 0.05 \\mid \\vec{v_a} - \\vec{v_w} \\mid\n",
    "\\end{equation}\n",
    "\n",
    "\n",
    "### Turbulent basal melt:\n",
    "\n",
    "\\begin{equation}\n",
    "M_b = 0.58 \\mid \\vec{v_w} - \\vec{v_i} \\mid^{0.8} (T_w - T_i)L^{-0.2}\n",
    "\\end{equation}\n",
    "\n",
    "\n",
    "### Buoyant convection (thermal side-wall erosion):\n",
    "\n",
    "\\begin{equation}\n",
    "M_v = 0.0076 T_w + 0.0013 T_w^2\n",
    "\\end{equation}\n",
    "\n",
    "\n",
    "#### Notes:\n",
    "\n",
    "- *Other processes such as surface melt, have been found to be small compared to these terms (Savage 2001).*\n",
    "- *Water temperature, $T_w$, is approximated by the SST.*\n",
    "- *Iceberg temperature, $T_i$, is assumed constant at $T_i=-4^\\circ C$. (El Tahan et. al. 1987)*\n",
    "- *All temperatures are in degrees celcius and L is in meters*\n",
    "- *Each of the melt terms, $M-E$, $M_b$, and $M_v$, are expressed in meters of change in iceberg dimensions per day*\n",
    "- *We assume that these processes are linearly additive, such that iceberg volume evolves as: *$\\frac{dV}{dt} = \\frac{d(LWH)}{dt}$\n"
   ]
  },
  {
   "cell_type": "markdown",
   "metadata": {},
   "source": [
    "## Melt Rates\n",
    "\n",
    "$$\\frac{dL}{dt} = \\frac{dW}{dt} = -M_v - M_e \\quad \\frac{dH}{dt} = -M_b$$\n",
    "\n",
    "$$L^{i+1} = L^{i} + \\frac{dL}{dt} \\quad W^{i+1} = W^{i} + \\frac{dW}{dt} \\quad  H^{i+1} = H^{i} + \\frac{dH}{dt}$$"
   ]
  },
  {
   "cell_type": "markdown",
   "metadata": {},
   "source": [
    "## Rollovers\n",
    "\n",
    "### Aspect ratio:\n",
    "\n",
    "$$\\epsilon \\equiv \\frac{W}{H}$$\n",
    "\n",
    "### Critical value:\n",
    "\n",
    "$$\\epsilon_c = \\sqrt{6\\frac{\\rho_i}{\\rho_w}(1 - \\frac{\\rho_i}{\\rho_w})}$$\n",
    "\n",
    "*below which a rectangular iceberg is unconditionally unstable.* \n",
    "\n",
    "#### Assumptions:\n",
    "*Assuming $\\rho_i = 850 kg/m^3$ (based on tabular density for icebergs in the Southern Ocean) and a water density of $\\rho_w = 1025 kg/m^3$ we get:*\n",
    "\n",
    "$$\\frac{\\rho_i}{\\rho_w} = 0.83$$\n",
    "\n",
    "$$\\epsilon_c = 0.92$$"
   ]
  },
  {
   "cell_type": "code",
   "execution_count": 484,
   "metadata": {
    "collapsed": true
   },
   "outputs": [],
   "source": [
    "# Modules\n",
    "\n",
    "import numpy as np\n",
    "import numpy.matlib\n",
    "import time\n",
    "import scipy.io as sio\n",
    "from scipy.spatial import cKDTree as ckd"
   ]
  },
  {
   "cell_type": "code",
   "execution_count": 485,
   "metadata": {
    "collapsed": false
   },
   "outputs": [],
   "source": [
    "def tic():\n",
    "    #Homemade version of matlab tic and toc functions\n",
    "    global startTime_for_tictoc\n",
    "    startTime_for_tictoc = time.time()\n",
    "\n",
    "def toc():\n",
    "    import time\n",
    "    if 'startTime_for_tictoc' in globals():\n",
    "        print(\"Elapsed time is {} seconds.\".format(str(time.time() - startTime_for_tictoc)))\n",
    "    else:\n",
    "        print(\"Toc: start time not set\")\n",
    "        \n",
    "# Source: http://stackoverflow.com/questions/5849800/tic-toc-functions-analog-in-python/5849861\n",
    "# Credit: GuestUser"
   ]
  },
  {
   "cell_type": "code",
   "execution_count": 486,
   "metadata": {
    "collapsed": true
   },
   "outputs": [],
   "source": [
    "def find_nearest(array,value):\n",
    "    idx = (np.abs(array-value)).argmin()\n",
    "    return idx\n",
    "\n",
    "# Source: http://stackoverflow.com/questions/2566412/find-nearest-value-in-numpy-array\n",
    "# Credit: unutbu "
   ]
  },
  {
   "cell_type": "code",
   "execution_count": 487,
   "metadata": {
    "collapsed": false
   },
   "outputs": [],
   "source": [
    "def a(U):\n",
    "    # \\alpha in the paper\n",
    "    a = np.multiply(np.divide(np.sqrt(2),np.power(U, 3)),(1-np.sqrt(1+np.power(U,4))))\n",
    "    return a\n",
    "\n",
    "def b(U):\n",
    "    # \\beta in the paper\n",
    "    #print(np.multiply((4+np.power(U,4)),np.sqrt(1+np.power(U,4)))-3*np.power(U,4)-4)\n",
    "    b = np.real(np.multiply(np.divide(1,np.power(U,3)),np.sqrt(np.multiply((4+np.power(U,4)), \\\n",
    "                                            np.sqrt(1+np.power(U,4)))-3*np.power(U,4)-4)))\n",
    "    \n",
    "    if not b >= 0:\n",
    "        b = 0\n",
    "    \n",
    "    return b\n",
    "\n",
    "def ff(lati):\n",
    "    # Latitude in degrees\n",
    "    ff = 2*om*np.sin(abs(lati)*np.pi/180)\n",
    "    return ff\n",
    "\n",
    "def S(l, w):\n",
    "    # Harmonic mean length\n",
    "    S = np.divide(np.multiply(np.multiply(np.pi,l),w),(l + w))\n",
    "    return S\n",
    "\n",
    "def Ut(u, lati, S):\n",
    "    # \\Lambda in the papers\n",
    "    Ut = np.sqrt(2)*Cw*g / np.multiply(ff(lati), u)/S\n",
    "    return Ut\n"
   ]
  },
  {
   "cell_type": "code",
   "execution_count": 488,
   "metadata": {
    "collapsed": false
   },
   "outputs": [],
   "source": [
    "# Analytic Parameters\n",
    "R = 6378 * 1e3  ## earth radius in m\n",
    "rhow = 1027  ## density of water (kg/m^3)\n",
    "rhoa = 1.2  ## density of air   (kg/m^3)\n",
    "rhoi = 850  ## density of ice   (kg/m^3)\n",
    "drho = rhow - rhoi\n",
    "Cw = 0.9  ## bulk coefficient water  (Bigg et al 1997)\n",
    "Ca = 1.3  ## bulk coefficient air    (Bigg et al 1997)\n",
    "om = 7.2921 * 1e-5  ## rotation rate of earth (rad/s)\n",
    "g = np.sqrt(rhoa*drho/rhow/rhoi*(Ca / Cw))  ## gamma = np.sqrt(ca/cw)\n",
    "#g = 0.0187\n",
    "\n",
    "# Melt parameters\n",
    "Ti0 = -4\n",
    "Cs1 = 1.5; Cs2 = 0.5; Cs3 = 0.1\n",
    "CMv1 = 7.62e-3; CMv2 = 1.29e-3; CMe1 = 0.5\n",
    "CMb1 = 0.58; CMb2 = 0.8; CMb3 = 0.2"
   ]
  },
  {
   "cell_type": "code",
   "execution_count": 489,
   "metadata": {
    "collapsed": true
   },
   "outputs": [],
   "source": [
    "# Set directories\n",
    "\n",
    "modelfull = 'ECCO_20th'\n",
    "modelshort = 'E2'\n",
    "root = '/home/evankielley/WagnerModel'\n",
    "condloc = root + '/conditions/' + modelfull + '/'\n",
    "outloc = root + '/output/' + modelfull + '/'\n",
    "modelloc = root + '/Model/'"
   ]
  },
  {
   "cell_type": "code",
   "execution_count": 490,
   "metadata": {
    "collapsed": false
   },
   "outputs": [
    {
     "name": "stdout",
     "output_type": "stream",
     "text": [
      "Model data loaded \n",
      "\n",
      "Elapsed time is 3.873187303543091 seconds.\n"
     ]
    }
   ],
   "source": [
    "# Load input fields\n",
    "\n",
    "tic()\n",
    "msk = sio.loadmat(condloc + 'mask.mat')\n",
    "msk = msk['msk'] \n",
    "#print(msk)\n",
    "vel = sio.loadmat(condloc + modelshort + '_vels_1992.mat')\n",
    "vel = vel['vel']\n",
    "sst = sio.loadmat(condloc + modelshort +'_sst_1992.mat')\n",
    "sst = sst['sst']\n",
    "#print(sst)\n",
    "bergdims = sio.loadmat(modelloc + 'bergdims.mat')\n",
    "bergdims = bergdims['bergdims']\n",
    "print('Model data loaded \\n')\n",
    "toc()"
   ]
  },
  {
   "cell_type": "code",
   "execution_count": 491,
   "metadata": {
    "collapsed": false
   },
   "outputs": [
    {
     "name": "stdout",
     "output_type": "stream",
     "text": [
      "Fields seeded \n",
      "\n"
     ]
    }
   ],
   "source": [
    "# Load Seeding fields\n",
    "Laurent_Seed = sio.loadmat(modelloc + 'Laurent_Seed.mat')\n",
    "Seed_X = Laurent_Seed['Seed_X']; Seed_Y = Laurent_Seed['Seed_Y']\n",
    "# Cycle through each location 100x (i.e. this can run 3600 icebergs)\n",
    "seed_X = np.tile(np.ravel(Seed_X), [1, 100]); seed_Y = np.tile(np.ravel(Seed_Y), [1, 100])\n",
    "seed_X = seed_X.transpose(); seed_Y = seed_Y.transpose()\n",
    "seed_X = np.ravel(seed_X); seed_Y = np.ravel(seed_Y)\n",
    "print('Fields seeded \\n')"
   ]
  },
  {
   "cell_type": "code",
   "execution_count": 492,
   "metadata": {
    "collapsed": false
   },
   "outputs": [
    {
     "name": "stdout",
     "output_type": "stream",
     "text": [
      "Space domain specified \n",
      "\n"
     ]
    }
   ],
   "source": [
    "# Specify the space domain\n",
    "\n",
    "LAT = vel['latw'] * 1.0 \n",
    "LAT = LAT[0,0]\n",
    "LAT = np.ravel(LAT)\n",
    "#print(LAT)\n",
    "LON = vel['lonw'] * 1.0\n",
    "LON = LON[0,0]\n",
    "LON = np.ravel(LON)\n",
    "minLAT = min(LAT[:]) \n",
    "maxLAT = max(LAT[:])\n",
    "minLON = min(LON[:]) \n",
    "maxLON = max(LON[:])\n",
    "print('Space domain specified \\n')"
   ]
  },
  {
   "cell_type": "code",
   "execution_count": 493,
   "metadata": {
    "collapsed": false
   },
   "outputs": [],
   "source": [
    "# Set run parameters \n",
    "\n",
    "trajnum = 25            # total number of iceberg trajectories to compute\n",
    "final_t = 122           # number of input field time steps\n",
    "startrange = final_t / 2  # input field start range\n",
    "tres = 3                # time resoln such that \"model Dt\"=\"input DT\"/tres\n",
    "DT = 3                  # Input fields time step\n",
    "Dt = DT / tres            # model timestep in days\n",
    "dt = Dt * 24 * 3600         # model timestep in seconds\n",
    "R = 6378 * 1e3            # earth radius in m\n",
    "dtR = dt / R * 180 / np.pi       # need this ratio for distances in \"drifting.m\"\n",
    "t = np.arange(0, final_t-1)      # how long is the run\n",
    "nt = (t.size) * tres             # number of model timesteps\n",
    "tt = np.linspace(0, t.size, nt) # model time"
   ]
  },
  {
   "cell_type": "code",
   "execution_count": 494,
   "metadata": {
    "collapsed": false
   },
   "outputs": [
    {
     "name": "stdout",
     "output_type": "stream",
     "text": [
      "Circulation fields set \n",
      "\n"
     ]
    }
   ],
   "source": [
    "# Set the circulation fields\n",
    "\n",
    "## water vels input\n",
    "#uwF = vel.uw[:,:,t]; vwF = vel.vw[:,:,t] \n",
    "uwF = vel['uw']; vwF = vel['vw']\n",
    "uwF = uwF[0,0]; vwF = vwF[0,0]\n",
    "## air vels input\n",
    "#uaF = vel.ua[:,:,t]; vaF = vel.va[:,:,t]  \n",
    "uaF = vel['ua']; vaF = vel['va']  \n",
    "uaF = uaF[0,0]; vaF = vaF[0,0]\n",
    "## sst vels input\n",
    "#sst = sst[:,:,t]     \n",
    "print('Circulation fields set \\n')"
   ]
  },
  {
   "cell_type": "code",
   "execution_count": 495,
   "metadata": {
    "collapsed": false
   },
   "outputs": [],
   "source": [
    "def construct_seeding():\n",
    "    \n",
    "    glacier = 'H'   #pick the glacier you want to construct the seeding for\n",
    "\n",
    "    if glacier == 'H':\n",
    "        # Helheim Ice Sheet Seeding Locations ---------------------------------\n",
    "        Glac_Y = np.arange(259,262,1)  #[261,190] 66.3500 N, 38.2000 W coord, Helheim\n",
    "        Glac_X = np.arange(188,192,1) \n",
    "        glac_name = 'Helheim'\n",
    "        \n",
    "    elif glacier == 'J':\n",
    "        # Jakobshaven Ice Sheet Seeding Locations -----------------------------\n",
    "        Glac_Y = np.arange(276,280,1)  #[277,120] 69 10 N 49 50 W coord, Jakobshavn\n",
    "        Glac_X = np.arange(119,123,1) \n",
    "        glac_name = 'Jakobsh'\n",
    "        \n",
    "    elif glacier == 'K':\n",
    "        # Kangerd Ice Sheet Seeding Locations ---------------------------------\n",
    "        Glac_Y = np.arange(267,271,1)  #[277,120] 68 38 N 33 0 W coord, Kangerd\n",
    "        Glac_X = np.arange(213,218,1) \n",
    "        glac_name = 'Kangerd'\n",
    "        \n",
    "    elif glacier == 'L': \n",
    "        # Laurentide Ice Sheet Seeding Locations ------------------------------\n",
    "        Glac_Y = np.arange(245,255,2)  #Laurentide LAT seed locations (in ECCO 2 grid)\n",
    "        Glac_X = np.arange(86,101,2)    #Laurentide LON seed locations (in ECCO 2 grid)\n",
    "        glac_name = 'Laurent' \n",
    "    \n",
    "    seed_LAT = [LAT[Glac_Y[0]]*[1, 1], LAT[Glac_Y[-1]]*[1, 1]] \n",
    "    seed_LON = np.matlib.repmat([LON[Glac_X[0]], LON[Glac_X[-1]]],[2,1]) \n",
    "    seed_LAT = np.matlib.repmat([LAT[Glac_Y[0]], LAT[Glac_Y[-1]]],[2,1]) \n",
    "    seed_LON = [LON[Glac_X[0]]*[1, 1], LON[Glac_X[-1]]*[1, 1]] \n",
    "    Seed_Y, Seed_X = meshgrid(Glac_Y, Glac_X)        "
   ]
  },
  {
   "cell_type": "code",
   "execution_count": 528,
   "metadata": {
    "collapsed": false
   },
   "outputs": [],
   "source": [
    "def melting(i, l, w, h, mm, ss, v, dv, lt, Ua, SST, ui, vi, uw, vw, melted):    \n",
    "    I = i-1\n",
    "    # Melt terms\n",
    "    Me = CMe1 * (Cs1 * Ua**Cs2 + Cs3 * Ua)  ## Wind driven erosion\n",
    "    Mv = CMv1 * SST + CMv2 * SST**2  ## Thermal side wall erosion \n",
    "    Mb = 0.58 * np.multiply(np.abs(vw-vi)**0.8, np.divide((SST-Ti0),l[I])**0.2)\n",
    "    #print('Me = {}, Mv = {}, Mb = {}'.format(Me, Mv, Mb))\n",
    "    # Melt rates\n",
    "    dldt = - Mv - Me \n",
    "    dhdt = - Mb\n",
    "    #print('dldt = {}, dhdt = {}'.format(dldt, dhdt))\n",
    "    l[I+1] = l[I] + dldt * Dt; w[I+1] = w[I] + dldt * Dt; h[I+1] = h[I] + dhdt * Dt \n",
    "    # Check if iceberg size is negative\n",
    "    if l[I+1] < 0 or w[I+1] < 0 or h[I+1] < 0:\n",
    "        l[I+1] = 0; w[I+1] = 0; h[I+1] = 0\n",
    "        melted = 1   ## Boolean\n",
    "        mm = mm + 1   ## Counter for icebergs that have melted\n",
    "        print('Iceberg melted')\n",
    "    # Rollover\n",
    "    if w[I+1] < 0.85 * h[I+1]:\n",
    "        hn = w[I+1]  ## new height\n",
    "        w[I+1] = h[I+1] \n",
    "        h[I+1] = hn\n",
    "        #print('Iceberg rollover')\n",
    "    # Check if length is greater than width\n",
    "    if w[I+1] > l[I+1]:\n",
    "        wn = l[I+1] \n",
    "        l[I+1] = w[I+1] \n",
    "        w[I+1] = wn\n",
    "    # New volume and change in volume (dv)\n",
    "    v[I+1] = l[I+1] * w[I+1] * h[I+1]\n",
    "    dv[I+1] = v[I] - v[I+1]\n",
    "    # Check if iceberg survived\n",
    "    if I == lt-2 and v[I+1] > 0:\n",
    "        ss = ss + 1   ## counter for icebergs that have survived\n",
    "        print('Iceberg survived')\n",
    "    # Store melt rates\n",
    "    #print('Me = {}'.format(Me))\n",
    "    Mev = Me; Mvv = Mv; Mbv = Mb\n",
    "    return Me, Mv, Mb, dldt, dhdt, melted, mm, l, w, h, v, dv, ss, Mev, Mvv, Mbv \n",
    "\n"
   ]
  },
  {
   "cell_type": "code",
   "execution_count": 529,
   "metadata": {
    "collapsed": false
   },
   "outputs": [],
   "source": [
    "def drifting(i, yil, xil, tt, tts, l, w, uiv, uav, uwv, viv, vav, vwv, temp, ob, j):\n",
    "    I = i\n",
    "    # Find nearest neighbour -- CAUTION: this only works on a rectangular grid!\n",
    "    YI = find_nearest(LAT, yil[I])\n",
    "    XI = find_nearest(LON, xil[I])   \n",
    "    #YI = ckd(LAT, yil[I])\n",
    "    #XI = ckd(LON, xil[I])\n",
    "    # Interpolate fields linearly between timesteps\n",
    "    timestep = tt[tts + I]\n",
    "    t1  = np.floor(timestep)-1\n",
    "    t2 = t1 + 1\n",
    "    dt1 = timestep - t1 \n",
    "    dt2 = t2 - timestep\n",
    "    ua = uaF[XI,YI,t1] * dt1 + uaF[XI,YI,t2] * dt2 \n",
    "    va = vaF[XI,YI,t1] * dt1 + vaF[XI,YI,t2] * dt2 \n",
    "    uw = uwF[XI,YI,t1] * dt1 + uwF[XI,YI,t2] * dt2 \n",
    "    vw = vwF[XI,YI,t1] * dt1 + vwF[XI,YI,t2] * dt2 \n",
    "    SST = sst[XI,YI,t1] * dt1 + sst[XI,YI,t2] * dt2 \n",
    "    #print('SST= {}\\n'.format(SST))\n",
    "    # Compute wind speed and \"U tilde\" at location for a given iceberg size\n",
    "    Ua = np.sqrt(ua**2 + va**2)\n",
    "    #print('Ua = {}\\n'.format(Ua))\n",
    "    UT = Ut(Ua, yil[I], S(l[I],w[I]))  ## Ut and S are functions\n",
    "    #print('I = {} \\n'.format(I))\n",
    "    #print('Ua = {}, yil[I] = {}, S(l[I], w[I]) = {} \\n'.format(Ua, yil[I], S(l[I], w[I])))    \n",
    "    # now compute analytic iceberg velocity solution\n",
    "    ui = uw-g*a(UT)*va+g*b(UT)*ua;\n",
    "    vi = vw+g*a(UT)*ua+g*b(UT)*va;\n",
    "    #print('UT = {}\\n'.format(UT))\n",
    "    #print('vi = {}, vw = {}, g = {}, a(UT) = {}, ua = {}, b(UT) = {}, va = {} \\n'.format(vi,vw,g,a(UT),ua,b(UT),va))\n",
    "    # Iceberg translation -- Note the conversion from meters to degrees lon/lat   \n",
    "    dlon = ui * dtR \n",
    "    dlat = vi * dtR \n",
    "    uiv[I] = ui; viv[I] = vi   \n",
    "    uav[I] = ua; vav[I] = va; \n",
    "    uwv[I] = uw; vwv[I] = vw   \n",
    "    temp[I] = SST\n",
    "    #print('ui = {}, vi = {}, dtR = {}\\n'.format(ui, vi, dtR))\n",
    "    \n",
    "    if not I >= len(yil)-1:\n",
    "        yil[I+1] = yil[I] + dlat\n",
    "        xil[I+1] = xil[I]+(dlon/(np.cos((yil[I+1] + yil[I]) / 2*np.pi / 180)))\n",
    "    else:\n",
    "        I = I-1\n",
    "        yil[I+1] = yil[I] + dlat\n",
    "        xil[I+1] = xil[I]+(dlon/(np.cos((yil[I+1] + yil[I]) / 2*np.pi / 180)))\n",
    "    #print('dlat = {}, dlon = {} \\n'.format(dlat, dlon))\n",
    "    #print('yil[I+1] = {}, xil[I+1] = {}'.format(yil[I+1],xil[I+1]))\n",
    "    # Check if out-of-bounds\n",
    "    if xil[I+1] > maxLON or xil[I+1] < minLON or yil[I+1] > maxLAT or yil[I+1] < minLAT:\n",
    "        outofbound = 1\n",
    "        ob = ob + 1\n",
    "        print('iceberg {} left boundary at timestep {} \\n'.format(j, I))\n",
    "    ## now check you didn't send the iceberg on land\n",
    "    else:  \n",
    "        yi2 = []; xi2 = []\n",
    "        #yi2.insert(0, np.amax(np.where(np.asarray(LAT) <= yil[I+1])))\n",
    "        #yi2.insert(1, np.amin(np.where(np.asarray(LAT) > yil[I+1])))\n",
    "        #xi2.insert(0, np.amax(np.where(np.asarray(LON) <= xil[I+1])))\n",
    "        #xi2.insert(1, np.amin(np.where(np.asarray(LON) > xil[I+1])))\n",
    "        #print('msk[xi2,yi2] = {}\\n'.format(msk[xi2,yi2]))\n",
    "        \n",
    "        tempLAT = LAT\n",
    "        tempLON = LON\n",
    "        tempVar = []\n",
    "        \n",
    "        #print('yil[I+1] = {}'.format(yil[I+1]))\n",
    "        #print('I = {}, yil[I+1] = {}, yil[I] = {}, dlat = {}'.format(I, yil[I+1], yil[I], dlat))\n",
    "        #print('vi = {}, vw = {}, a(UT) = {}'.format(vi,vw,a(UT)))\n",
    "        #print('ua = {}, b(UT) = {}, va = {}'.format(ua,b(UT),va))\n",
    "        #print('vi = {}, UT = {}, b(UT) = {}'.format(vi, UT, b(UT)))\n",
    "        \n",
    "        for q in range(0,tempLAT.size):\n",
    "            if tempLAT[q] <= yil[I+1]:\n",
    "                tempVar.append(tempLAT[q])\n",
    "        #print(np.amax(tempVar))\n",
    "        yi2.append(np.amax(tempVar))\n",
    "        \n",
    "        for q in range(0,tempLAT.size):\n",
    "            if tempLAT[q] > yil[I+1]:\n",
    "                tempVar.append(tempLAT[q])\n",
    "        yi2.append(np.amin(tempVar))\n",
    "        \n",
    "        for q in range(0,tempLON.size):\n",
    "            if tempLAT[q] <= xil[I+1]:\n",
    "                tempVar.append(tempLAT[q])\n",
    "        xi2.append(np.amax(tempVar))\n",
    "        \n",
    "        for q in range(0,tempLON.size):\n",
    "            if tempLAT[q] > xil[I+1]:\n",
    "                tempVar.append(tempLAT[q])\n",
    "        xi2.append(np.amin(tempVar))\n",
    "        \n",
    "        \n",
    "\n",
    "        if any(np.where(np.asarray(msk[xi2, yi2] == 0))):\n",
    "            yil[I+1] = yil[I]   ## i.e. when I get put within one grid box of land\n",
    "            xil[I+1] = xil[I]   ## I assume the iceberg don't move, until it doesn't happen anymore\n",
    "    #print('Ua = {} \\n'.format(Ua))   \n",
    "    return Ua, SST, ui, vi, uw, vw\n",
    "    "
   ]
  },
  {
   "cell_type": "code",
   "execution_count": 530,
   "metadata": {
    "collapsed": false
   },
   "outputs": [],
   "source": [
    "def iceberg_shell():\n",
    "    # Loop over individual initial iceberg size classes\n",
    "    bvec = np.arange(1,10)  # vector of which size classes to compute - has to be [1,10]\n",
    "    for bb in bvec:\n",
    "        bergsize = bb   # current berg size class\n",
    "        print('run bergsize B{} \\n'.format(bergsize))        \n",
    "        # Set output arrays\n",
    "        ## Lat and lon\n",
    "        XIL = np.empty((trajnum, nt)); XIL[:] = np.NAN\n",
    "        YIL = np.empty((trajnum, nt)); YIL[:] = np.NAN\n",
    "        ## Vol and dvol\n",
    "        VOL = np.empty((trajnum, nt)); VOL[:] = np.NAN;\n",
    "        DVOL = np.empty((trajnum, nt)); DVOL[:] = np.NAN;\n",
    "        ## Zonal velocities\n",
    "        UI = np.empty((trajnum, nt)); UI[:] = np.NAN;\n",
    "        UA = np.empty((trajnum, nt)); UA[:] = np.NAN;\n",
    "        UW = np.empty((trajnum, nt)); UW[:] = np.NAN;        \n",
    "        ## Merid velocities\n",
    "        VI = np.empty((trajnum, nt)); VI[:] = np.NAN;\n",
    "        VA = np.empty((trajnum, nt)); VA[:] = np.NAN;\n",
    "        VW = np.empty((trajnum, nt)); VW[:] = np.NAN;        \n",
    "        ## SST\n",
    "        TE = np.empty((trajnum, nt)); TE[:] = np.NAN;        \n",
    "        ## Melt \n",
    "        Memat = np.empty((trajnum, nt)); Memat[:] = np.NAN;\n",
    "        Mvmat = np.empty((trajnum, nt)); Mvmat[:] = np.NAN;\n",
    "        Mbmat = np.empty((trajnum, nt)); Mbmat[:] = np.NAN;        \n",
    "        # Initialize the iceberg\n",
    "        L = bergdims[bergsize,0]; W = bergdims[bergsize,1]; H = bergdims[bergsize,2] \n",
    "        #print('L = {}, W = {}, H = {}'.format(L,W,H))\n",
    "        # Run drift and melt\n",
    "        tic()\n",
    "        mm = 0 \n",
    "        ss = 0 \n",
    "        ob = 0\n",
    "        for j in np.arange(0, trajnum):\n",
    "            if not j == 0 and np.mod(j,10) == 0: \n",
    "                toc() \n",
    "                print('{} trajectories computed \\n'.format(j))\n",
    "            # Pick a random trajectory start time (of Input field)\n",
    "            ts = np.random.randint(0,round(startrange))\n",
    "            tts = ts * tres  # trajectory start time (of model)\n",
    "            lt = nt - tts   # trajectory run length\n",
    "            # Initialize output vectors\n",
    "            xil = np.empty(lt); yil = np.empty(lt)\n",
    "            v = np.empty(lt); dv = np.empty(lt)\n",
    "            uiv = np.empty(lt); uav = np.empty(lt); uwv = np.empty(lt)\n",
    "            viv = np.empty(lt); vav = np.empty(lt); vwv = np.empty(lt)\n",
    "            temp = np.empty(lt)\n",
    "            Mev = np.empty(lt); Mvv = np.empty(lt); Mbv = np.empty(lt)                      \n",
    "            # Pick random grid seeding location (same note as above applies)\n",
    "            randoX = np.random.randint(1, seed_X.size); randoY = np.random.randint(1, seed_Y.size)\n",
    "            yig = seed_Y[randoY]; xig = seed_X[randoX]\n",
    "            # Set initial conditions\n",
    "            ## Lat and lon\n",
    "            xil[0] = LON[xig]; yil[0] = LAT[yig]\n",
    "            ## Berg dims\n",
    "            l = L*np.ones(lt); w = l*W/L; h =l*H/L   \n",
    "            #print('l[1] = {}, w[1] = {}, h[1] = {}'.format(l[1], w[1], h[1]))\n",
    "            ## Berg volume and dvol\n",
    "            v[0] = L * W * H\n",
    "            dv[0] = 0\n",
    "            ## Count\n",
    "            i = -1 \n",
    "            outofbound = 0 \n",
    "            melted = 0                    \n",
    "            # Integrate while the iceberg is in the domain and not melted and over the time period specified above\n",
    "            while outofbound == 0 and melted == 0 and i < lt - 1:\n",
    "                i = i + 1\n",
    "                # This is only required if you change params seasonally\n",
    "                day_yr = ts + i\n",
    "                #print('yil[0] {} \\n'.format(yil[0]))\n",
    "                Ua, SST, ui, vi, uw, vw = drifting(i, yil, xil, tt, tts, l, w, uiv, uav, uwv, viv, vav, vwv, temp, ob, j)\n",
    "                #print('Ua = {}'.format(Ua))\n",
    "                Me, Mv, Mb, dldt, dhdt, melted, mm, l, w, h, v, dv, ss, Mev, Mvv, Mbv = melting(i, l, w, h, mm, ss, v, dv, lt, Ua, SST, ui, vi, uw, vw, melted)\n",
    "            ind = np.arange(0,i+1)            \n",
    "            # Store output into caps variables\n",
    "            ## Trajectories\n",
    "            XIL[j, ind] = xil[ind]; YIL[j, ind] = yil[ind]\n",
    "            ## Volume\n",
    "            VOL[j, ind] = v[ind]; DVOL[j, ind] = dv[ind]     \n",
    "            ## Ice velocities\n",
    "            UI[j, ind] = uiv[ind]; VI[j, ind] = viv[ind] \n",
    "            ## Air velocities\n",
    "            UA[j, ind] = uav[ind]; VA[j, ind] = vav[ind]\n",
    "            ## Water velocities\n",
    "            UW[j, ind] = uwv[ind]; VW[j, ind] = vwv[ind]\n",
    "            ## SST values\n",
    "            TE[j, ind] = temp[ind]                     \n",
    "            ## Melt rates\n",
    "            #print('j = {}, ind = {}, Mev = {}'.format(j, ind, Mev))\n",
    "            Memat[j, ind] = Mev; Mvmat[j, ind] = Mvv; Mbmat[j, ind] = Mbv\n",
    "        # Print message to user\n",
    "        print('{} icebergs died, {} lived, {} left the domain \\n'.format(mm,ss,ob))\n",
    "        # Save each bergsize trajectories file to output directory\n",
    "        sio.savemat(outloc + '{}_B{}_full'.format(modelshort, bb), \\\n",
    "                    dict(XIL=XIL,YIL=YIL,VOL=VOL,DVOL=DVOL,UI=UI,VI=VI,UA=UA, \\\n",
    "                         VA=VA,UW=UW,VW=VW,TE=TE,Memat=Memat,Mvmat=Mvmat,Mbmat=Mbmat))         "
   ]
  },
  {
   "cell_type": "code",
   "execution_count": 531,
   "metadata": {
    "collapsed": false
   },
   "outputs": [
    {
     "name": "stdout",
     "output_type": "stream",
     "text": [
      "run bergsize B1 \n",
      "\n"
     ]
    },
    {
     "name": "stderr",
     "output_type": "stream",
     "text": [
      "/home/evankielley/anaconda3/lib/python3.5/site-packages/ipykernel/__main__.py:61: RuntimeWarning: overflow encountered in ushort_scalars\n",
      "/home/evankielley/anaconda3/lib/python3.5/site-packages/ipykernel/__main__.py:14: VisibleDeprecationWarning: using a non-integer number instead of an integer will result in an error in the future\n",
      "/home/evankielley/anaconda3/lib/python3.5/site-packages/ipykernel/__main__.py:15: VisibleDeprecationWarning: using a non-integer number instead of an integer will result in an error in the future\n",
      "/home/evankielley/anaconda3/lib/python3.5/site-packages/ipykernel/__main__.py:16: VisibleDeprecationWarning: using a non-integer number instead of an integer will result in an error in the future\n",
      "/home/evankielley/anaconda3/lib/python3.5/site-packages/ipykernel/__main__.py:17: VisibleDeprecationWarning: using a non-integer number instead of an integer will result in an error in the future\n",
      "/home/evankielley/anaconda3/lib/python3.5/site-packages/ipykernel/__main__.py:18: VisibleDeprecationWarning: using a non-integer number instead of an integer will result in an error in the future\n",
      "/home/evankielley/anaconda3/lib/python3.5/site-packages/ipykernel/__main__.py:96: VisibleDeprecationWarning: non integer (and non boolean) array-likes will not be accepted as indices in the future\n"
     ]
    },
    {
     "name": "stdout",
     "output_type": "stream",
     "text": [
      "Iceberg melted\n"
     ]
    },
    {
     "name": "stderr",
     "output_type": "stream",
     "text": [
      "/home/evankielley/anaconda3/lib/python3.5/site-packages/ipykernel/__main__.py:9: RuntimeWarning: invalid value encountered in sqrt\n"
     ]
    },
    {
     "name": "stdout",
     "output_type": "stream",
     "text": [
      "Iceberg melted\n",
      "Iceberg melted\n",
      "Iceberg melted\n",
      "Iceberg melted\n",
      "Iceberg melted\n",
      "Iceberg melted\n",
      "Iceberg melted\n",
      "Iceberg melted\n",
      "Iceberg melted\n",
      "Elapsed time is 6.258142709732056 seconds.\n",
      "10 trajectories computed \n",
      "\n",
      "Iceberg melted\n",
      "Iceberg melted\n",
      "Iceberg melted\n",
      "Iceberg melted\n",
      "Iceberg melted\n",
      "Iceberg melted\n",
      "Iceberg melted\n",
      "Iceberg melted\n",
      "Iceberg melted\n",
      "Iceberg melted\n",
      "Elapsed time is 11.906781196594238 seconds.\n",
      "20 trajectories computed \n",
      "\n",
      "Iceberg melted\n",
      "Iceberg melted\n",
      "Iceberg melted\n",
      "Iceberg melted\n",
      "Iceberg melted\n",
      "25 icebergs died, 0 lived, 0 left the domain \n",
      "\n",
      "run bergsize B2 \n",
      "\n",
      "Iceberg melted\n",
      "Iceberg melted\n",
      "Iceberg melted\n",
      "Iceberg melted\n",
      "Iceberg melted\n",
      "Iceberg melted\n",
      "Iceberg melted\n",
      "Iceberg melted\n",
      "Iceberg melted\n",
      "Iceberg melted\n",
      "Elapsed time is 8.971026420593262 seconds.\n",
      "10 trajectories computed \n",
      "\n",
      "Iceberg melted\n",
      "Iceberg melted\n",
      "Iceberg melted\n",
      "Iceberg melted\n",
      "Iceberg melted\n",
      "Iceberg melted\n",
      "Iceberg melted\n",
      "Iceberg melted\n",
      "Iceberg melted\n",
      "Iceberg melted\n",
      "Elapsed time is 18.322225332260132 seconds.\n",
      "20 trajectories computed \n",
      "\n",
      "Iceberg melted\n",
      "Iceberg melted\n",
      "Iceberg melted\n",
      "Iceberg melted\n",
      "Iceberg melted\n",
      "25 icebergs died, 0 lived, 0 left the domain \n",
      "\n",
      "run bergsize B3 \n",
      "\n",
      "Iceberg melted\n",
      "Iceberg melted\n",
      "Iceberg survived\n",
      "Iceberg melted\n",
      "Iceberg melted\n",
      "Iceberg melted\n",
      "Iceberg melted\n",
      "Iceberg melted\n",
      "Iceberg melted\n",
      "Iceberg melted\n",
      "Elapsed time is 12.048468112945557 seconds.\n",
      "10 trajectories computed \n",
      "\n",
      "Iceberg melted\n",
      "Iceberg melted\n",
      "Iceberg melted\n",
      "Iceberg melted\n",
      "Iceberg melted\n",
      "Iceberg survived\n",
      "Iceberg melted\n",
      "Iceberg melted\n",
      "Iceberg melted\n",
      "Iceberg melted\n",
      "Elapsed time is 24.067564249038696 seconds.\n",
      "20 trajectories computed \n",
      "\n",
      "Iceberg melted\n",
      "Iceberg melted\n",
      "Iceberg melted\n",
      "Iceberg melted\n",
      "Iceberg melted\n",
      "23 icebergs died, 2 lived, 0 left the domain \n",
      "\n",
      "run bergsize B4 \n",
      "\n",
      "Iceberg survived\n",
      "Iceberg survived\n",
      "Iceberg survived\n",
      "Iceberg melted\n",
      "Iceberg melted\n",
      "Iceberg melted\n",
      "Iceberg melted\n",
      "Iceberg survived\n",
      "Iceberg survived\n",
      "Iceberg melted\n",
      "Elapsed time is 13.224948167800903 seconds.\n",
      "10 trajectories computed \n",
      "\n",
      "Iceberg melted\n",
      "Iceberg survived\n",
      "Iceberg melted\n",
      "Iceberg melted\n",
      "Iceberg melted\n",
      "Iceberg melted\n",
      "Iceberg melted\n",
      "Iceberg survived\n",
      "Iceberg survived\n",
      "Iceberg melted\n",
      "Elapsed time is 26.264452934265137 seconds.\n",
      "20 trajectories computed \n",
      "\n",
      "Iceberg survived\n",
      "Iceberg melted\n",
      "Iceberg melted\n",
      "Iceberg melted\n",
      "Iceberg melted\n",
      "16 icebergs died, 9 lived, 0 left the domain \n",
      "\n",
      "run bergsize B5 \n",
      "\n",
      "Iceberg melted\n",
      "Iceberg melted\n",
      "Iceberg melted\n",
      "Iceberg survived\n",
      "Iceberg melted\n",
      "Iceberg melted\n",
      "Iceberg survived\n",
      "Iceberg melted\n",
      "Iceberg survived\n",
      "Iceberg survived\n",
      "Elapsed time is 14.878711938858032 seconds.\n",
      "10 trajectories computed \n",
      "\n",
      "Iceberg survived\n",
      "Iceberg melted\n",
      "Iceberg melted\n",
      "Iceberg melted\n",
      "Iceberg survived\n",
      "Iceberg survived\n",
      "Iceberg survived\n",
      "Iceberg melted\n",
      "Iceberg melted\n",
      "Iceberg survived\n",
      "Elapsed time is 29.405705451965332 seconds.\n",
      "20 trajectories computed \n",
      "\n",
      "Iceberg survived\n",
      "Iceberg survived\n",
      "Iceberg survived\n",
      "Iceberg survived\n",
      "Iceberg survived\n",
      "11 icebergs died, 14 lived, 0 left the domain \n",
      "\n",
      "run bergsize B6 \n",
      "\n",
      "Iceberg survived\n",
      "Iceberg melted\n",
      "Iceberg melted\n",
      "Iceberg melted\n",
      "Iceberg melted\n",
      "Iceberg survived\n",
      "Iceberg survived\n",
      "Iceberg survived\n",
      "Iceberg melted\n",
      "Iceberg survived\n",
      "Elapsed time is 16.088704109191895 seconds.\n",
      "10 trajectories computed \n",
      "\n",
      "Iceberg survived\n",
      "Iceberg melted\n",
      "Iceberg survived\n",
      "Iceberg survived\n",
      "Iceberg survived\n",
      "Iceberg survived\n",
      "Iceberg survived\n",
      "Iceberg melted\n",
      "Iceberg melted\n",
      "Iceberg survived\n",
      "Elapsed time is 31.56627368927002 seconds.\n",
      "20 trajectories computed \n",
      "\n",
      "Iceberg survived\n",
      "Iceberg survived\n",
      "Iceberg melted\n",
      "Iceberg survived\n",
      "Iceberg survived\n",
      "9 icebergs died, 16 lived, 0 left the domain \n",
      "\n",
      "run bergsize B7 \n",
      "\n",
      "Iceberg survived\n",
      "Iceberg survived\n",
      "Iceberg survived\n",
      "Iceberg melted\n",
      "Iceberg survived\n",
      "Iceberg survived\n",
      "Iceberg survived\n",
      "Iceberg survived\n",
      "Iceberg survived\n",
      "Iceberg survived\n",
      "Elapsed time is 14.730130672454834 seconds.\n",
      "10 trajectories computed \n",
      "\n",
      "Iceberg survived\n",
      "Iceberg survived\n",
      "Iceberg survived\n",
      "Iceberg survived\n",
      "Iceberg survived\n",
      "Iceberg survived\n",
      "Iceberg melted\n",
      "Iceberg survived\n",
      "Iceberg melted\n",
      "Iceberg survived\n",
      "Elapsed time is 29.987775087356567 seconds.\n",
      "20 trajectories computed \n",
      "\n",
      "Iceberg melted\n",
      "Iceberg survived\n",
      "Iceberg survived\n",
      "Iceberg survived\n",
      "Iceberg survived\n",
      "4 icebergs died, 21 lived, 0 left the domain \n",
      "\n",
      "run bergsize B8 \n",
      "\n",
      "Iceberg survived\n",
      "Iceberg survived\n",
      "Iceberg survived\n",
      "Iceberg survived\n",
      "Iceberg survived\n",
      "Iceberg survived\n",
      "Iceberg survived\n",
      "Iceberg survived\n",
      "Iceberg survived\n",
      "Iceberg survived\n",
      "Elapsed time is 17.242995738983154 seconds.\n",
      "10 trajectories computed \n",
      "\n",
      "Iceberg survived\n",
      "Iceberg survived\n",
      "Iceberg survived\n",
      "Iceberg survived\n",
      "Iceberg survived\n",
      "Iceberg survived\n",
      "Iceberg survived\n",
      "Iceberg survived\n",
      "Iceberg survived\n",
      "Iceberg survived\n",
      "Elapsed time is 32.256662368774414 seconds.\n",
      "20 trajectories computed \n",
      "\n",
      "Iceberg survived\n",
      "Iceberg survived\n",
      "Iceberg survived\n",
      "Iceberg survived\n",
      "Iceberg survived\n",
      "0 icebergs died, 25 lived, 0 left the domain \n",
      "\n",
      "run bergsize B9 \n",
      "\n",
      "Iceberg survived\n",
      "Iceberg survived\n",
      "Iceberg survived\n",
      "Iceberg survived\n",
      "Iceberg survived\n",
      "Iceberg survived\n",
      "Iceberg survived\n",
      "Iceberg survived\n",
      "Iceberg survived\n",
      "Iceberg survived\n",
      "Elapsed time is 15.481179237365723 seconds.\n",
      "10 trajectories computed \n",
      "\n",
      "Iceberg survived\n",
      "Iceberg survived\n",
      "Iceberg survived\n",
      "Iceberg survived\n",
      "Iceberg survived\n",
      "Iceberg survived\n",
      "Iceberg survived\n",
      "Iceberg survived\n",
      "Iceberg survived\n",
      "Iceberg survived\n",
      "Elapsed time is 31.027332544326782 seconds.\n",
      "20 trajectories computed \n",
      "\n",
      "Iceberg survived\n",
      "Iceberg survived\n",
      "Iceberg survived\n",
      "Iceberg survived\n",
      "Iceberg survived\n",
      "0 icebergs died, 25 lived, 0 left the domain \n",
      "\n"
     ]
    }
   ],
   "source": [
    "iceberg_shell()"
   ]
  },
  {
   "cell_type": "code",
   "execution_count": 461,
   "metadata": {
    "collapsed": false
   },
   "outputs": [
    {
     "name": "stderr",
     "output_type": "stream",
     "text": [
      "/home/evankielley/anaconda3/lib/python3.5/site-packages/ipykernel/__main__.py:9: RuntimeWarning: invalid value encountered in sqrt\n"
     ]
    },
    {
     "data": {
      "text/plain": [
       "array(nan)"
      ]
     },
     "execution_count": 461,
     "metadata": {},
     "output_type": "execute_result"
    }
   ],
   "source": [
    "b(0.05306338321019786)"
   ]
  },
  {
   "cell_type": "code",
   "execution_count": null,
   "metadata": {
    "collapsed": false,
    "scrolled": true
   },
   "outputs": [],
   "source": [
    "import scipy.io as sio\n",
    "\n",
    "bergdims = sio.loadmat('/home/evankielley/WagnerModel/Model/bergdims.mat')\n",
    "bergdims = bergdims['bergdims']\n",
    "bergdims"
   ]
  },
  {
   "cell_type": "code",
   "execution_count": null,
   "metadata": {
    "collapsed": false
   },
   "outputs": [],
   "source": [
    "bergdims = sio.loadmat('/home/evankielley/WagnerModel/output/ECCO_20th/E2_B1_full.mat')\n",
    "bergdims = bergdims['YIL']\n",
    "bergdims"
   ]
  },
  {
   "cell_type": "code",
   "execution_count": 252,
   "metadata": {
    "collapsed": false
   },
   "outputs": [
    {
     "ename": "IndexError",
     "evalue": "arrays used as indices must be of integer (or boolean) type",
     "output_type": "error",
     "traceback": [
      "\u001b[1;31m---------------------------------------------------------------------------\u001b[0m",
      "\u001b[1;31mIndexError\u001b[0m                                Traceback (most recent call last)",
      "\u001b[1;32m<ipython-input-252-912ae37f7c9f>\u001b[0m in \u001b[0;36m<module>\u001b[1;34m()\u001b[0m\n\u001b[0;32m      1\u001b[0m \u001b[0mbob\u001b[0m \u001b[1;33m=\u001b[0m \u001b[1;33m[\u001b[0m\u001b[1;36m1\u001b[0m\u001b[1;33m,\u001b[0m \u001b[1;36m10\u001b[0m\u001b[1;33m,\u001b[0m \u001b[1;36m2\u001b[0m\u001b[1;33m,\u001b[0m \u001b[1;36m12\u001b[0m\u001b[1;33m,\u001b[0m \u001b[1;36m3\u001b[0m\u001b[1;33m,\u001b[0m \u001b[1;36m13\u001b[0m\u001b[1;33m]\u001b[0m\u001b[1;33m\u001b[0m\u001b[0m\n\u001b[0;32m      2\u001b[0m \u001b[1;32mfor\u001b[0m \u001b[0mi\u001b[0m \u001b[1;32min\u001b[0m \u001b[0mLON\u001b[0m\u001b[1;33m:\u001b[0m\u001b[1;33m\u001b[0m\u001b[0m\n\u001b[1;32m----> 3\u001b[1;33m     \u001b[1;32mif\u001b[0m \u001b[0mLON\u001b[0m\u001b[1;33m[\u001b[0m\u001b[0mi\u001b[0m\u001b[1;33m]\u001b[0m \u001b[1;33m>\u001b[0m \u001b[1;36m278\u001b[0m\u001b[1;33m:\u001b[0m\u001b[1;33m\u001b[0m\u001b[0m\n\u001b[0m\u001b[0;32m      4\u001b[0m         \u001b[0mprint\u001b[0m\u001b[1;33m(\u001b[0m\u001b[0mLON\u001b[0m\u001b[1;33m[\u001b[0m\u001b[0mi\u001b[0m\u001b[1;33m]\u001b[0m\u001b[1;33m)\u001b[0m\u001b[1;33m\u001b[0m\u001b[0m\n",
      "\u001b[1;31mIndexError\u001b[0m: arrays used as indices must be of integer (or boolean) type"
     ]
    }
   ],
   "source": [
    "bob = [1, 10, 2, 12, 3, 13]\n",
    "for i in LON:\n",
    "    if LON[i] > 278:\n",
    "        print(LON[i])\n"
   ]
  },
  {
   "cell_type": "code",
   "execution_count": 253,
   "metadata": {
    "collapsed": false
   },
   "outputs": [
    {
     "data": {
      "text/plain": [
       "(340, 1)"
      ]
     },
     "execution_count": 253,
     "metadata": {},
     "output_type": "execute_result"
    }
   ],
   "source": [
    "LON.shape"
   ]
  },
  {
   "cell_type": "code",
   "execution_count": 282,
   "metadata": {
    "collapsed": false
   },
   "outputs": [
    {
     "data": {
      "text/plain": [
       "277.875"
      ]
     },
     "execution_count": 282,
     "metadata": {},
     "output_type": "execute_result"
    }
   ],
   "source": [
    "jim = np.ravel(LON)\n",
    "for i in range(0,jim.size):\n",
    "    if jim[i] < 278:\n",
    "        joe.append(jim[i])\n",
    "np.amax(joe)"
   ]
  },
  {
   "cell_type": "code",
   "execution_count": 255,
   "metadata": {
    "collapsed": false
   },
   "outputs": [
    {
     "data": {
      "text/plain": [
       "array([ 277.625], dtype=float32)"
      ]
     },
     "execution_count": 255,
     "metadata": {},
     "output_type": "execute_result"
    }
   ],
   "source": [
    "LON[10]"
   ]
  },
  {
   "cell_type": "code",
   "execution_count": null,
   "metadata": {
    "collapsed": true
   },
   "outputs": [],
   "source": []
  }
 ],
 "metadata": {
  "anaconda-cloud": {},
  "kernelspec": {
   "display_name": "Python 3",
   "language": "python",
   "name": "python3"
  },
  "language_info": {
   "codemirror_mode": {
    "name": "ipython",
    "version": 3
   },
   "file_extension": ".py",
   "mimetype": "text/x-python",
   "name": "python",
   "nbconvert_exporter": "python",
   "pygments_lexer": "ipython3",
   "version": "3.5.2"
  }
 },
 "nbformat": 4,
 "nbformat_minor": 0
}
