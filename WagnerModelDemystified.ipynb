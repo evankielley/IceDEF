{
 "cells": [
  {
   "cell_type": "markdown",
   "metadata": {},
   "source": [
    "# Melting"
   ]
  },
  {
   "cell_type": "markdown",
   "metadata": {},
   "source": [
    "**Source:** Wagner, T. J., Dell, R. W., & Eisenman, I. (2017). An Analytical Model of Iceberg Drift. *Journal of Physical Oceanography*."
   ]
  },
  {
   "cell_type": "markdown",
   "metadata": {},
   "source": [
    "## Melt Terms\n",
    "\n",
    "### Wind-driven wave erosion:\n",
    "\n",
    "\\begin{equation}\n",
    "M_e = 0.5 S_s = 0.75 \\mid \\vec{v_a} - \\vec{v_w} \\mid^{0.5} + 0.05 \\mid \\vec{v_a} - \\vec{v_w} \\mid\n",
    "\\end{equation}\n",
    "\n",
    "\n",
    "### Turbulent basal melt:\n",
    "\n",
    "\\begin{equation}\n",
    "M_b = 0.58 \\mid \\vec{v_w} - \\vec{v_i} \\mid^{0.8} (T_w - T_i)L^{-0.2}\n",
    "\\end{equation}\n",
    "\n",
    "\n",
    "### Buoyant convection (thermal side-wall erosion):\n",
    "\n",
    "\\begin{equation}\n",
    "M_v = 0.0076 T_w + 0.0013 T_w^2\n",
    "\\end{equation}\n",
    "\n",
    "\n",
    "#### Notes:\n",
    "\n",
    "- *Other processes such as surface melt, have been found to be small compared to these terms (Savage 2001).*\n",
    "- *Water temperature, $T_w$, is approximated by the SST.*\n",
    "- *Iceberg temperature, $T_i$, is assumed constant at $T_i=-4^\\circ C$. (El Tahan et. al. 1987)*\n",
    "- *All temperatures are in degrees celcius and L is in meters*\n",
    "- *Each of the melt terms, $M-E$, $M_b$, and $M_v$, are expressed in meters of change in iceberg dimensions per day*\n",
    "- *We assume that these processes are linearly additive, such that iceberg volume evolves as: *$\\frac{dV}{dt} = \\frac{d(LWH)}{dt}$\n"
   ]
  },
  {
   "cell_type": "markdown",
   "metadata": {},
   "source": [
    "## Melt Rates\n",
    "\n",
    "$$\\frac{dL}{dt} = \\frac{dW}{dt} = -M_v - M_e \\quad \\frac{dH}{dt} = -M_b$$\n",
    "\n",
    "$$L^{i+1} = L^{i} + \\frac{dL}{dt} \\quad W^{i+1} = W^{i} + \\frac{dW}{dt} \\quad  H^{i+1} = H^{i} + \\frac{dH}{dt}$$"
   ]
  },
  {
   "cell_type": "markdown",
   "metadata": {},
   "source": [
    "## Rollovers\n",
    "\n",
    "### Aspect ratio:\n",
    "\n",
    "$$\\epsilon \\equiv \\frac{W}{H}$$\n",
    "\n",
    "### Critical value:\n",
    "\n",
    "$$\\epsilon_c = \\sqrt{6\\frac{\\rho_i}{\\rho_w}(1 - \\frac{\\rho_i}{\\rho_w})}$$\n",
    "\n",
    "*below which a rectangular iceberg is unconditionally unstable.* \n",
    "\n",
    "#### Assumptions:\n",
    "*Assuming $\\rho_i = 850 kg/m^3$ (based on tabular density for icebergs in the Southern Ocean) and a water density of $\\rho_w = 1025 kg/m^3$ we get:*\n",
    "\n",
    "$$\\frac{\\rho_i}{\\rho_w} = 0.83$$\n",
    "\n",
    "$$\\epsilon_c = 0.92$$"
   ]
  },
  {
   "cell_type": "code",
   "execution_count": 443,
   "metadata": {
    "collapsed": true
   },
   "outputs": [],
   "source": [
    "# Modules\n",
    "\n",
    "import numpy as np\n",
    "import numpy.matlib\n",
    "import time\n",
    "import scipy.io as sio\n",
    "from scipy.spatial import cKDTree as ckd"
   ]
  },
  {
   "cell_type": "code",
   "execution_count": 444,
   "metadata": {
    "collapsed": false
   },
   "outputs": [],
   "source": [
    "def tic():\n",
    "    #Homemade version of matlab tic and toc functions\n",
    "    global startTime_for_tictoc\n",
    "    startTime_for_tictoc = time.time()\n",
    "\n",
    "def toc():\n",
    "    import time\n",
    "    if 'startTime_for_tictoc' in globals():\n",
    "        print(\"Elapsed time is {} seconds.\".format(str(time.time() - startTime_for_tictoc)))\n",
    "    else:\n",
    "        print(\"Toc: start time not set\")\n",
    "        \n",
    "# Source: http://stackoverflow.com/questions/5849800/tic-toc-functions-analog-in-python/5849861\n",
    "# Credit: GuestUser"
   ]
  },
  {
   "cell_type": "code",
   "execution_count": 445,
   "metadata": {
    "collapsed": true
   },
   "outputs": [],
   "source": [
    "def find_nearest(array,value):\n",
    "    idx = (np.abs(array-value)).argmin()\n",
    "    return idx\n",
    "\n",
    "# Source: http://stackoverflow.com/questions/2566412/find-nearest-value-in-numpy-array\n",
    "# Credit: unutbu "
   ]
  },
  {
   "cell_type": "code",
   "execution_count": 446,
   "metadata": {
    "collapsed": false
   },
   "outputs": [],
   "source": [
    "# Analytic Parameters\n",
    "\n",
    "R = 6378 * 1e3  ## earth radius in m\n",
    "rhow = 1027  ## density of water (kg/m^3)\n",
    "rhoa = 1.2  ## density of air   (kg/m^3)\n",
    "rhoi = 850  ## density of ice   (kg/m^3)\n",
    "drho = rhow - rhoi\n",
    "Cw = 0.9  ## bulk coefficient water  (Bigg et al 1997)\n",
    "Ca = 1.3  ## bulk coefficient air    (Bigg et al 1997)\n",
    "om = 7.2921 * 1e-5  ## rotation rate of earth (rad/s)\n",
    "g = np.sqrt(rhoa * drho / rhow / rhoi * (Ca / Cw))  ## gamma = np.sqrt(ca/cw)\n",
    "\n",
    "\n",
    "# Melt parameters\n",
    "\n",
    "Ti0 = -4\n",
    "Cs1 = 1.5 \n",
    "Cs2 = 0.5 \n",
    "Cs3 = 0.1\n",
    "CMv1 = 7.62e-3 \n",
    "CMv2 = 1.29e-3\n",
    "CMe1 = 0.5\n",
    "CMb1 = 0.58 \n",
    "CMb2 = 0.8 \n",
    "CMb3 = 0.2\n",
    "    "
   ]
  },
  {
   "cell_type": "code",
   "execution_count": 499,
   "metadata": {
    "collapsed": true
   },
   "outputs": [],
   "source": [
    "def a(U):\n",
    "    # \\alpha in the paper\n",
    "    a = np.sqrt(2) / np.power(U, 3) * (1 - np.sqrt(1 + np.power(U, 4)))\n",
    "    return a\n",
    "\n",
    "def b(U):\n",
    "    # \\beta in the paper\n",
    "    b = np.real(np.multiply(np.divide(1, np.power(U, 3)), np.sqrt(1 + np.power(U, 4)) - np.multiply(3, np.power(U, 4)) - 4))\n",
    "    return b\n",
    "\n",
    "def ff(lati):\n",
    "    # Latitude in degrees\n",
    "    ff = 2 * om * np.sin(abs(lati) * np.pi/180)\n",
    "    return ff\n",
    "\n",
    "def S(l, w):\n",
    "    # Harmonic mean length\n",
    "    S = np.pi * l * w / (l + w)\n",
    "    return S\n",
    "\n",
    "def Ut(u, lati, S):\n",
    "    # \\Lambda in the papers\n",
    "    Ut = np.sqrt(2) * Cw * g / np.multiply(ff(lati), u/S)\n",
    "    return Ut\n"
   ]
  },
  {
   "cell_type": "code",
   "execution_count": 500,
   "metadata": {
    "collapsed": true
   },
   "outputs": [],
   "source": [
    "# Set directories\n",
    "\n",
    "modelfull = 'ECCO_20th'\n",
    "modelshort = 'E2'\n",
    "root = '/home/evankielley/WagnerModel'\n",
    "condloc = root + '/conditions/' + modelfull + '/'\n",
    "outloc = root + '/output/' + modelfull + '/'\n",
    "modelloc = root + '/Model/'"
   ]
  },
  {
   "cell_type": "code",
   "execution_count": 501,
   "metadata": {
    "collapsed": false
   },
   "outputs": [
    {
     "name": "stdout",
     "output_type": "stream",
     "text": [
      "Model data loaded \n",
      "\n",
      "Elapsed time is 3.8889095783233643 seconds.\n"
     ]
    }
   ],
   "source": [
    "# Load input fields\n",
    "\n",
    "tic()\n",
    "mask = sio.loadmat(condloc + 'mask.mat')\n",
    "vel = sio.loadmat(condloc + modelshort + '_vels_1992.mat')\n",
    "vel = vel['vel']\n",
    "sst = sio.loadmat(condloc + modelshort +'_sst_1992.mat')\n",
    "sst = sst['sst']\n",
    "bergdims = sio.loadmat(modelloc + 'bergdims.mat')\n",
    "bergdims = bergdims['bergdims']\n",
    "\n",
    "print('Model data loaded \\n')\n",
    "\n",
    "toc()"
   ]
  },
  {
   "cell_type": "code",
   "execution_count": 502,
   "metadata": {
    "collapsed": false
   },
   "outputs": [
    {
     "name": "stdout",
     "output_type": "stream",
     "text": [
      "Fields seeded \n",
      "\n",
      "Elapsed time is 0.0012726783752441406 seconds.\n"
     ]
    }
   ],
   "source": [
    "# Load Seeding fields\n",
    "\n",
    "tic()\n",
    "\n",
    "Laurent_Seed = sio.loadmat(modelloc + 'Laurent_Seed.mat')\n",
    "Seed_X = Laurent_Seed['Seed_X']; Seed_Y = Laurent_Seed['Seed_Y']\n",
    "\n",
    "# Cycle through each location 100x (i.e. this can run 3600 icebergs)\n",
    "seed_X = np.tile(np.ravel(Seed_X), [1, 100]); seed_Y = np.tile(np.ravel(Seed_Y), [1, 100])\n",
    "seed_X = seed_X.transpose(); seed_Y = seed_Y.transpose()\n",
    "seed_X = np.ravel(seed_X); seed_Y = np.ravel(seed_Y)\n",
    "\n",
    "print('Fields seeded \\n')\n",
    "\n",
    "toc()"
   ]
  },
  {
   "cell_type": "code",
   "execution_count": 503,
   "metadata": {
    "collapsed": false
   },
   "outputs": [
    {
     "data": {
      "text/plain": [
       "(4800,)"
      ]
     },
     "execution_count": 503,
     "metadata": {},
     "output_type": "execute_result"
    }
   ],
   "source": [
    "seed_X.shape"
   ]
  },
  {
   "cell_type": "code",
   "execution_count": 504,
   "metadata": {
    "collapsed": false
   },
   "outputs": [
    {
     "data": {
      "text/plain": [
       "86"
      ]
     },
     "execution_count": 504,
     "metadata": {},
     "output_type": "execute_result"
    }
   ],
   "source": [
    "seed_X[2]"
   ]
  },
  {
   "cell_type": "code",
   "execution_count": 505,
   "metadata": {
    "collapsed": false
   },
   "outputs": [
    {
     "data": {
      "text/plain": [
       "(48,)"
      ]
     },
     "execution_count": 505,
     "metadata": {},
     "output_type": "execute_result"
    }
   ],
   "source": [
    "np.ravel(Seed_X).shape"
   ]
  },
  {
   "cell_type": "code",
   "execution_count": 506,
   "metadata": {
    "collapsed": false
   },
   "outputs": [
    {
     "data": {
      "text/plain": [
       "(8, 6)"
      ]
     },
     "execution_count": 506,
     "metadata": {},
     "output_type": "execute_result"
    }
   ],
   "source": [
    "Seed_X.shape"
   ]
  },
  {
   "cell_type": "code",
   "execution_count": 507,
   "metadata": {
    "collapsed": false
   },
   "outputs": [
    {
     "name": "stdout",
     "output_type": "stream",
     "text": [
      "Space domain specified \n",
      "\n",
      "Elapsed time is 0.006361484527587891 seconds.\n"
     ]
    }
   ],
   "source": [
    "# Specify the space domain\n",
    "\n",
    "tic()\n",
    "\n",
    "LAT = vel['latw'] * 1.0 \n",
    "LAT = LAT[0,0]\n",
    "LON = vel['lonw'] * 1.0\n",
    "LON = LON[0,0]\n",
    "minLAT = min(LAT[:]) \n",
    "maxLAT = max(LAT[:])\n",
    "minLON = min(LON[:]) \n",
    "maxLON = max(LON[:])\n",
    "\n",
    "print('Space domain specified \\n')\n",
    "\n",
    "toc()"
   ]
  },
  {
   "cell_type": "code",
   "execution_count": 508,
   "metadata": {
    "collapsed": false
   },
   "outputs": [],
   "source": [
    "# Set run parameters \n",
    "\n",
    "trajnum = 25            # total number of iceberg trajectories to compute\n",
    "final_t = 122           # number of input field time steps\n",
    "startrange = final_t / 2  # input field start range\n",
    "tres = 3                # time resoln such that \"model Dt\"=\"input DT\"/tres\n",
    "DT = 3                  # Input fields time step\n",
    "Dt = DT / tres            # model timestep in days\n",
    "dt = Dt * 24 * 3600         # model timestep in seconds\n",
    "R = 6378 * 1e3            # earth radius in m\n",
    "dtR = dt / R * 180 / np.pi       # need this ratio for distances in \"drifting.m\"\n",
    "t = np.arange(1, final_t)      # how long is the run\n",
    "nt = (t.size) * tres             # number of model timesteps\n",
    "tt = np.linspace(1, t.size, nt) # model time"
   ]
  },
  {
   "cell_type": "code",
   "execution_count": 509,
   "metadata": {
    "collapsed": false
   },
   "outputs": [
    {
     "name": "stdout",
     "output_type": "stream",
     "text": [
      "Circulation fields set \n",
      "\n",
      "Elapsed time is 0.02579212188720703 seconds.\n"
     ]
    }
   ],
   "source": [
    "# Set the circulation fields\n",
    "\n",
    "tic()\n",
    "\n",
    "## water vels input\n",
    "#uwF = vel.uw[:,:,t]; vwF = vel.vw[:,:,t] \n",
    "uwF = vel['uw']; vwF = vel['vw']\n",
    "uwF = uwF[0,0]; vwF = vwF[0,0]\n",
    "\n",
    "\n",
    "## air vels input\n",
    "#uaF = vel.ua[:,:,t]; vaF = vel.va[:,:,t]  \n",
    "uaF = vel['ua']; vaF = vel['va']  \n",
    "uaF = uaF[0,0]; vaF = vaF[0,0]\n",
    "\n",
    "## sst vels input\n",
    "#sst = sst[:,:,t]     \n",
    "\n",
    "print('Circulation fields set \\n')\n",
    "\n",
    "toc()"
   ]
  },
  {
   "cell_type": "code",
   "execution_count": 510,
   "metadata": {
    "collapsed": false
   },
   "outputs": [
    {
     "data": {
      "text/plain": [
       "(340, 360, 122)"
      ]
     },
     "execution_count": 510,
     "metadata": {},
     "output_type": "execute_result"
    }
   ],
   "source": [
    "uaF.shape"
   ]
  },
  {
   "cell_type": "code",
   "execution_count": 511,
   "metadata": {
    "collapsed": false
   },
   "outputs": [],
   "source": [
    "def construct_seeding():\n",
    "    \n",
    "    glacier = 'H'   #pick the glacier you want to construct the seeding for\n",
    "\n",
    "    if glacier == 'H':\n",
    "        # Helheim Ice Sheet Seeding Locations ---------------------------------\n",
    "        Glac_Y = np.arange(259,262,1)  #[261,190] 66.3500 N, 38.2000 W coord, Helheim\n",
    "        Glac_X = np.arange(188,192,1) \n",
    "        glac_name = 'Helheim'\n",
    "        \n",
    "    elif glacier == 'J':\n",
    "        # Jakobshaven Ice Sheet Seeding Locations -----------------------------\n",
    "        Glac_Y = np.arange(276,280,1)  #[277,120] 69 10 N 49 50 W coord, Jakobshavn\n",
    "        Glac_X = np.arange(119,123,1) \n",
    "        glac_name = 'Jakobsh'\n",
    "        \n",
    "    elif glacier == 'K':\n",
    "        # Kangerd Ice Sheet Seeding Locations ---------------------------------\n",
    "        Glac_Y = np.arange(267,271,1)  #[277,120] 68 38 N 33 0 W coord, Kangerd\n",
    "        Glac_X = np.arange(213,1,218) \n",
    "        glac_name = 'Kangerd'\n",
    "        \n",
    "    elif glacier == 'L': \n",
    "        # Laurentide Ice Sheet Seeding Locations ------------------------------\n",
    "        Glac_Y = np.arange(245,255,2)  #Laurentide LAT seed locations (in ECCO 2 grid)\n",
    "        Glac_X = np.arange(86,101,2)    #Laurentide LON seed locations (in ECCO 2 grid)\n",
    "        glac_name = 'Laurent' \n",
    "    \n",
    "\n",
    "    seed_LAT = [LAT[Glac_Y[0]]*[1, 1], LAT[Glac_Y[-1]]*[1, 1]] \n",
    "    seed_LON = np.matlib.repmat([LON[Glac_X[0]], LON[Glac_X[-1]]],[2,1]) \n",
    "    seed_LAT = np.matlib.repmat([LAT[Glac_Y[0]], LAT[Glac_Y[-1]]],[2,1]) \n",
    "    seed_LON = [LON[Glac_X[0]]*[1, 1], LON[Glac_X[-1]]*[1, 1]] \n",
    "    Seed_Y, Seed_X = meshgrid(Glac_Y, Glac_X) \n",
    "        "
   ]
  },
  {
   "cell_type": "code",
   "execution_count": 512,
   "metadata": {
    "collapsed": false
   },
   "outputs": [],
   "source": [
    "def melting(i):\n",
    "    \n",
    "    I = i\n",
    "    \n",
    "    # Melt terms\n",
    "    \n",
    "    Me = CMe1 * (Cs1 * Ua^Cs2 + Cs3 * Ua)  ## Wind driven erosion\n",
    "    Mv = CMv1 * SST + CMv2 * SST^2  ## Thermal side wall erosion \n",
    "    Mb = CMb1 * np.sqrt((ui - uw)^2 + (vi - vw)^2)^CMb2 * (SST - Ti0) / l(I)^CMb3  ## Turbulent basal melt \n",
    "\n",
    "    # Melt rates\n",
    "    \n",
    "    dldt = - Mv - Me \n",
    "    dhdt = - Mb\n",
    "    l[I+1] = l[I] + dldt * Dt  \n",
    "    w[I+1] = w[I] + dldt * Dt  \n",
    "    h[I+1] = h[I] + dhdt * Dt \n",
    "    \n",
    "    \n",
    "    # Check if iceberg size is negative\n",
    "    \n",
    "    if l[I+1] < 0 | w[I+1] < 0 | h[I+1] < 0:\n",
    "        \n",
    "        l[I+1] = 0 \n",
    "        w[I+1] = 0 \n",
    "        h[I+1] = 0\n",
    "        melted = 1   ## Boolean\n",
    "        mm = mm + 1   ## Counter for icebergs that have melted\n",
    "    \n",
    "    \n",
    "    # Rollover\n",
    "    \n",
    "    if w[I+1] < 0.85 * h[I+1]:\n",
    "        hn = w[I+1]  ## new height\n",
    "        w[I+1] = h[I+1] \n",
    "        h[I+1] = hn\n",
    "    \n",
    "    \n",
    "    # Check if length is greater than width\n",
    "    \n",
    "    if w[I+1] > l[I+1]:\n",
    "        wn = l[I+1] \n",
    "        l[I+1] = w[I+1] \n",
    "        w[I+1] = wn\n",
    "    \n",
    "    \n",
    "    # New volume and change in volume (dv)\n",
    "    \n",
    "    v[I+1] = l[I+1] * w[I+1] * h[I+1]\n",
    "    dv[I+1] = v(I) - v[I+1]\n",
    "    \n",
    "    \n",
    "    # Check if iceberg survived\n",
    "    \n",
    "    if I == lt-1 & v[I+1] > 0:\n",
    "        ss = ss + 1   ## counter for icebergs that have survived\n",
    "    \n",
    "    \n",
    "    # Store melt rates\n",
    "    \n",
    "    Mev = Me \n",
    "    Mvv = Mv \n",
    "    Mbv = Mb\n",
    "    "
   ]
  },
  {
   "cell_type": "code",
   "execution_count": 513,
   "metadata": {
    "collapsed": false
   },
   "outputs": [],
   "source": [
    "def drifting(i, yil, xil, tt, tts, l, w, uiv, uav, uwv, viv, vav, vwv, temp):\n",
    "    \n",
    "    I = i\n",
    "    \n",
    "    # Find nearest neighbour\n",
    "    ## CAUTION: this only works on a rectangular grid!\n",
    "    \n",
    "    #tree = ckd(yil[I])\n",
    "    #YI = tree.query(LAT)\n",
    "    YI = find_nearest(LAT, yil[I])\n",
    "    XI = find_nearest(LON, xil[I])   \n",
    "    #YI = ckd(LAT, yil[I])\n",
    "    #XI = ckd(LON, xil[I])\n",
    "    \n",
    "    \n",
    "    # Interpolate fields linearly between timesteps\n",
    "    \n",
    "    timestep = tt[tts + I]\n",
    "    t1  = np.floor(timestep)\n",
    "    #print('{} {} {}'.format(XI, YI, t1))\n",
    "    t2 = t1 + 1\n",
    "    dt1 = timestep - t1 \n",
    "    dt2 = t2 - timestep\n",
    "    ua = uaF[XI,YI,t1] * dt1 + uaF[XI,YI,t2] * dt2 \n",
    "    va = vaF[XI,YI,t1] * dt1 + vaF[XI,YI,t2] * dt2 \n",
    "    uw = uwF[XI,YI,t1] * dt1 + uwF[XI,YI,t2] * dt2 \n",
    "    vw = vwF[XI,YI,t1] * dt1 + vwF[XI,YI,t2] * dt2 \n",
    "    SST= sst[XI,YI,t1] * dt1 + sst[XI,YI,t2] * dt2 \n",
    "    \n",
    "    \n",
    "    # Compute wind speed and \"U tilde\" at location for a given iceberg size\n",
    "    \n",
    "    Ua = np.sqrt(ua**2 + va**2)\n",
    "    UT = Ut(Ua, yil[I], S(l[I],w[I]))  ## Ut and S are functions\n",
    "    print('I = {} \\n'.format(I))\n",
    "    print('Ua = {}, yil[I] = {}, S(l[I], w[I]) = {} \\n'.format(Ua, yil[I], S(l[I], w[I])))\n",
    "    #print(yil)\n",
    "    \n",
    "    \n",
    "    # now compute analytic iceberg velocity solution\n",
    "    \n",
    "    ui = uw - g * a(UT) * va + g * b(UT) * ua;\n",
    "    vi = vw + g * a(UT) * ua + g * b(UT) * va;\n",
    "    print('vi = {}, vw = {}, g = {}, a(UT) = {}, ua = {}, b(UT) = {}, va = {} \\n'.format(vi,vw,g,a(UT),ua,b(UT),va))\n",
    "    \n",
    "    \n",
    "    # Iceberg translation\n",
    "    ## Note the conversion from meters to degrees lon/lat\n",
    "    \n",
    "    dlon = ui * dtR \n",
    "    dlat = vi * dtR \n",
    "\n",
    "    uiv[I] = ui \n",
    "    viv[I] = vi\n",
    "    \n",
    "    uav[I] = ua \n",
    "    vav[I] = va\n",
    "    \n",
    "    uwv[I] = uw \n",
    "    vwv[I] = vw\n",
    "    \n",
    "    temp[I] = SST\n",
    "\n",
    "    yil[I+1] = yil[I] + dlat\n",
    "    print('dlat = {}, dlon = {} \\n'.format(dlat, dlon))\n",
    "    xil[I+1] = xil[I] + dlon / np.cos((yil[I+1] + yil[I]) / 2*np.pi / 180) \n",
    "    \n",
    "    \n",
    "    # Check if out-of-bounds\n",
    "    ## TODO: find replacements for MATLAB's find() and any() functions in Python\n",
    "    \n",
    "    if xil[I+1] > maxLON or xil[I+1] < minLON or yil[I+1] > maxLAT or yil[I+1] < minLAT:\n",
    "    \n",
    "        outofbound = 1\n",
    "        ob = ob + 1\n",
    "        print('iceberg {} left boundary at timestep {} \\n'.format(j, I))\n",
    "\n",
    "        \n",
    "    ## now check you didn't send the iceberg on land\n",
    "\n",
    "    else:  \n",
    "        \n",
    "        #yi2[1] = find(LAT <= yil[I+1], 1, 'last')\n",
    "        #yi2[2] = find(LAT > yil[I+1], 1, 'first')\n",
    "        #xi2[1] = find(LON <= xil[I+1], 1, 'last')\n",
    "        #xi2[2] = find(LON > xil[I+1], 1, 'first')\n",
    "        \n",
    "        yi2 = []; xi2 = []\n",
    "        j2 = [i for i in LAT if i >= yil[I+1]]\n",
    "        print('yil[I+1] = {}'.format(yil[I+1]))\n",
    "        yi2.insert(0, np.amax(j2))\n",
    "\n",
    "        #yi2.insert(0, np.amax([np.where(LAT <= yil[I+1])]))\n",
    "        #yi2.insert(1, np.amin([np.where(LAT > yil[I+1])]))\n",
    "        #xi2.insert(0, np.amax([np.where(LON <= xil[I+1])]))\n",
    "        #xi2.insert(1, np.amin([np.where(LON > xil[I+1])]))\n",
    "        #print(yil[I])\n",
    "        \n",
    "        #for item in LAT[::-1]:\n",
    "            #if item >= yil[I+1]\n",
    "        \n",
    "        if any(find(msk(xi2, yi2) == 0)):\n",
    "            \n",
    "            yil[I+1] = yil[I]   ## i.e. when I get put within one grid box of land\n",
    "            xil[I+1] = xil[I]   ## I assume the iceberg don't move, until it doesn't happen anymore\n",
    "    "
   ]
  },
  {
   "cell_type": "code",
   "execution_count": 514,
   "metadata": {
    "collapsed": false
   },
   "outputs": [],
   "source": [
    "def iceberg_shell():\n",
    "    \n",
    "    # Loop over individual initial iceberg size classes\n",
    "    ## (classification from Bigg et al 1997)\n",
    "\n",
    "    bvec = np.arange(1,10)  # vector of which size classes to compute - has to be [1,10]\n",
    "\n",
    "    for bb in bvec:\n",
    "        \n",
    "        bergsize = bb   # current berg size class\n",
    "        print('run bergsize B{} \\n'.format(bergsize))\n",
    "        \n",
    "        \n",
    "        # Set output arrays\n",
    "        \n",
    "        ## Lat and lon\n",
    "        XIL = np.empty((trajnum, nt)); XIL[:] = np.NAN\n",
    "        YIL = np.empty((trajnum, nt)); YIL[:] = np.NAN\n",
    "        \n",
    "        ## Vol and dvol\n",
    "        VOL = np.empty((trajnum, nt)); VOL[:] = np.NAN;\n",
    "        DVOL = np.empty((trajnum, nt)); DVOL[:] = np.NAN;\n",
    "        #VOL = XIL; DVOL = VOL   \n",
    "        \n",
    "        ## Zonal velocities\n",
    "        UI = np.empty((trajnum, nt)); UI[:] = np.NAN;\n",
    "        UA = np.empty((trajnum, nt)); UA[:] = np.NAN;\n",
    "        UW = np.empty((trajnum, nt)); UW[:] = np.NAN;\n",
    "        #UI = XIL; UA = XIL; UW = XIL           \n",
    "        \n",
    "        ## Merid velocities\n",
    "        VI = np.empty((trajnum, nt)); VI[:] = np.NAN;\n",
    "        VA = np.empty((trajnum, nt)); VA[:] = np.NAN;\n",
    "        VW = np.empty((trajnum, nt)); VW[:] = np.NAN;\n",
    "        #VI = XIL; VA = XIL; VW = XIL            \n",
    "        \n",
    "        ## SST\n",
    "        TE = np.empty((trajnum, nt)); TE[:] = np.NAN;\n",
    "        #TE = XIL                      \n",
    "        \n",
    "        ## Melt \n",
    "        Memat = np.empty((trajnum, nt)); Memat[:] = np.NAN;\n",
    "        Mvmat = np.empty((trajnum, nt)); Mvmat[:] = np.NAN;\n",
    "        Mbmat = np.empty((trajnum, nt)); Mbmat[:] = np.NAN;        \n",
    "        #Memat = XIL; Mvmat = XIL; Mbmat = XIL  \n",
    "\n",
    "        \n",
    "        # Initialize the iceberg\n",
    "        \n",
    "        L = bergdims[bergsize,0]\n",
    "        W = bergdims[bergsize,1]\n",
    "        H = bergdims[bergsize,2]\n",
    "\n",
    "        \n",
    "        # Run drift and melt\n",
    "        \n",
    "        tic()\n",
    "        \n",
    "        mm = 0 \n",
    "        ss = 0 \n",
    "        ob = 0\n",
    "        \n",
    "        for j in np.arange(1, trajnum):\n",
    "            \n",
    "            if np.mod(j,10) == 0: \n",
    "               \n",
    "                toc() \n",
    "                print('{} trajectories computed \\n'.format(j))\n",
    "\n",
    "                      \n",
    "            # Pick a random trajectory start time (of Input field)\n",
    "            ## Note: not the best setup for validation runs where you may want specific trajectories to compare!)\n",
    "            \n",
    "            ts = np.random.randint(0,round(startrange))\n",
    "            tts = ts * tres  # trajectory start time (of model)\n",
    "            lt = nt - tts   # trajectory run length\n",
    "\n",
    "            \n",
    "            # Initialize output vectors\n",
    "            \n",
    "            #xil = [None] * lt; xil[:] = np.NAN\n",
    "            xil = np.empty(lt) \n",
    "            yil = np.empty(lt)\n",
    "            v = np.empty(lt)\n",
    "            dv = np.empty(lt)\n",
    "            uiv = np.empty(lt)\n",
    "            uav = np.empty(lt)\n",
    "            uwv = np.empty(lt)\n",
    "            viv = np.empty(lt)\n",
    "            vav = np.empty(lt)\n",
    "            vwv = np.empty(lt)\n",
    "            temp = np.empty(lt)\n",
    "            Mev = np.empty(lt)\n",
    "            Mvv = np.empty(lt)\n",
    "            Mbv = np.empty(lt)\n",
    "\n",
    "                      \n",
    "            # Pick random grid seeding location (same note as above applies)\n",
    "            \n",
    "            randoX = np.random.randint(1, seed_X.size); randoY = np.random.randint(1, seed_Y.size)\n",
    "            yig = seed_Y[randoY]; xig = seed_X[randoX]\n",
    "            \n",
    "            # Set initial conditions\n",
    "            \n",
    "            ## Lat and lon\n",
    "            #print(xil[0,0])\n",
    "            xil[0] = LON[xig]; yil[0] = LAT[yig]\n",
    "            #print('yil[0] = {} \\n'.format(yil[0]))\n",
    "\n",
    "            \n",
    "            ## Berg dims\n",
    "            l = L * np.ones(lt) \n",
    "            w = l * W / L \n",
    "            h = l * H / L\n",
    "            #print('yil[0] = {} \\n'.format(yil[0]))\n",
    "            \n",
    "            ## Berg volume and dvol\n",
    "            v[0] = L * W * H\n",
    "            #print('v[0] = {} \\n'.format(v[0]))\n",
    "            #print('yil[0] = {} \\n'.format(yil[0]))\n",
    "            dv[0] = 0\n",
    "            #print('yil[0] = {} \\n'.format(yil[0]))\n",
    "\n",
    "            ## Count\n",
    "            i = -1 \n",
    "            outofbound = 0 \n",
    "            melted = 0\n",
    "            #print('yil[0] = {} \\n'.format(yil[0]))\n",
    "                    \n",
    "                \n",
    "            # Integrate while the iceberg is in the domain and not melted and over the time period specified above\n",
    "            \n",
    "            while outofbound == 0 & melted == 0 & i < lt - 1:\n",
    "                \n",
    "                i = i + 1\n",
    "                \n",
    "                # This is only required if you change params seasonally\n",
    "                day_yr = ts + i\n",
    "                \n",
    "                print('yil[0] {} \\n'.format(yil[0]))\n",
    "                drifting(i, yil, xil, tt, tts, l, w, uiv, uav, uwv, viv, vav, vwv, temp)\n",
    "                \n",
    "                melting(i)\n",
    "                \n",
    "            \n",
    "            ind = np.arange(1,i+1)\n",
    "\n",
    "            \n",
    "            # Store output into caps variables\n",
    "            \n",
    "            ## Trajectories\n",
    "            XIL[j, ind] = xil[ind]; YIL[j, ind] = yil[ind]\n",
    "            \n",
    "            ## Volume\n",
    "            VOL[j, ind] = v[ind]; DVOL[j, ind] = dv[ind]     \n",
    "\n",
    "            ## Ice velocities\n",
    "            UI[j, ind] = uiv[ind]; VI[j, ind] = viv[ind] \n",
    "            \n",
    "            ## Air velocities\n",
    "            UA[j, ind] = uav[ind]; VA[j, ind] = vav[ind]\n",
    "            \n",
    "            ## Water velocities\n",
    "            UW[j, ind] = uwv[ind]; VW[j, ind] = vwv[ind]\n",
    "            \n",
    "            ## SST values\n",
    "            TE[j, ind] = temp[ind]                     \n",
    "\n",
    "            ## Melt rates\n",
    "            Memat[j, ind] = Mev; Mvmat[j, ind] = Mvv; Mbmat[j, ind] = Mbv\n",
    "            \n",
    "\n",
    "        # Print message to user\n",
    "        \n",
    "        print('{} icebergs died, {} lived, {} left the domain \\n'.format(mm,ss,ob))\n",
    "        \n",
    "        \n",
    "        # Save each bergsize trajectories file to output directory\n",
    "\n",
    "        sio.savemat(outloc + '{}_B{}_full'.format(modelshort, bb),'XIL','YIL','VOL','DVOL','UI','VI','UA','VA','UW','VW','TE','Memat','Mvmat','Mbmat') \n"
   ]
  },
  {
   "cell_type": "code",
   "execution_count": 515,
   "metadata": {
    "collapsed": false,
    "scrolled": false
   },
   "outputs": [
    {
     "name": "stdout",
     "output_type": "stream",
     "text": [
      "run bergsize B1 \n",
      "\n",
      "yil[0] 61.375 \n",
      "\n",
      "I = 0 \n",
      "\n",
      "Ua = 6.548599105682318, yil[I] = 61.375, S(l[I], w[I]) = 250.95004380026575 \n",
      "\n",
      "vi = 1414.937215953409, vw = -0.19694551002254804, g = 0.01874705238682447, a(UT) = -0.0001979935092858829, ua = 5.520373592184857, b(UT) = -21428.180103191913, va = -3.52272985760352 \n",
      "\n",
      "dlat = 1098.2191936046504, dlon = -1721.2847901936175 \n",
      "\n"
     ]
    },
    {
     "name": "stderr",
     "output_type": "stream",
     "text": [
      "/home/evankielley/anaconda3/lib/python3.5/site-packages/ipykernel/__main__.py:118: RuntimeWarning: overflow encountered in ushort_scalars\n",
      "/home/evankielley/anaconda3/lib/python3.5/site-packages/ipykernel/__main__.py:24: VisibleDeprecationWarning: using a non-integer number instead of an integer will result in an error in the future\n",
      "/home/evankielley/anaconda3/lib/python3.5/site-packages/ipykernel/__main__.py:25: VisibleDeprecationWarning: using a non-integer number instead of an integer will result in an error in the future\n",
      "/home/evankielley/anaconda3/lib/python3.5/site-packages/ipykernel/__main__.py:26: VisibleDeprecationWarning: using a non-integer number instead of an integer will result in an error in the future\n",
      "/home/evankielley/anaconda3/lib/python3.5/site-packages/ipykernel/__main__.py:27: VisibleDeprecationWarning: using a non-integer number instead of an integer will result in an error in the future\n",
      "/home/evankielley/anaconda3/lib/python3.5/site-packages/ipykernel/__main__.py:28: VisibleDeprecationWarning: using a non-integer number instead of an integer will result in an error in the future\n"
     ]
    },
    {
     "ename": "UnboundLocalError",
     "evalue": "local variable 'ob' referenced before assignment",
     "output_type": "error",
     "traceback": [
      "\u001b[1;31m---------------------------------------------------------------------------\u001b[0m",
      "\u001b[1;31mUnboundLocalError\u001b[0m                         Traceback (most recent call last)",
      "\u001b[1;32m<ipython-input-515-11d291cf30ed>\u001b[0m in \u001b[0;36m<module>\u001b[1;34m()\u001b[0m\n\u001b[1;32m----> 1\u001b[1;33m \u001b[0miceberg_shell\u001b[0m\u001b[1;33m(\u001b[0m\u001b[1;33m)\u001b[0m\u001b[1;33m\u001b[0m\u001b[0m\n\u001b[0m",
      "\u001b[1;32m<ipython-input-514-0b13e8527b19>\u001b[0m in \u001b[0;36miceberg_shell\u001b[1;34m()\u001b[0m\n\u001b[0;32m    139\u001b[0m \u001b[1;33m\u001b[0m\u001b[0m\n\u001b[0;32m    140\u001b[0m                 \u001b[0mprint\u001b[0m\u001b[1;33m(\u001b[0m\u001b[1;34m'yil[0] {} \\n'\u001b[0m\u001b[1;33m.\u001b[0m\u001b[0mformat\u001b[0m\u001b[1;33m(\u001b[0m\u001b[0myil\u001b[0m\u001b[1;33m[\u001b[0m\u001b[1;36m0\u001b[0m\u001b[1;33m]\u001b[0m\u001b[1;33m)\u001b[0m\u001b[1;33m)\u001b[0m\u001b[1;33m\u001b[0m\u001b[0m\n\u001b[1;32m--> 141\u001b[1;33m                 \u001b[0mdrifting\u001b[0m\u001b[1;33m(\u001b[0m\u001b[0mi\u001b[0m\u001b[1;33m,\u001b[0m \u001b[0myil\u001b[0m\u001b[1;33m,\u001b[0m \u001b[0mxil\u001b[0m\u001b[1;33m,\u001b[0m \u001b[0mtt\u001b[0m\u001b[1;33m,\u001b[0m \u001b[0mtts\u001b[0m\u001b[1;33m,\u001b[0m \u001b[0ml\u001b[0m\u001b[1;33m,\u001b[0m \u001b[0mw\u001b[0m\u001b[1;33m,\u001b[0m \u001b[0muiv\u001b[0m\u001b[1;33m,\u001b[0m \u001b[0muav\u001b[0m\u001b[1;33m,\u001b[0m \u001b[0muwv\u001b[0m\u001b[1;33m,\u001b[0m \u001b[0mviv\u001b[0m\u001b[1;33m,\u001b[0m \u001b[0mvav\u001b[0m\u001b[1;33m,\u001b[0m \u001b[0mvwv\u001b[0m\u001b[1;33m,\u001b[0m \u001b[0mtemp\u001b[0m\u001b[1;33m)\u001b[0m\u001b[1;33m\u001b[0m\u001b[0m\n\u001b[0m\u001b[0;32m    142\u001b[0m \u001b[1;33m\u001b[0m\u001b[0m\n\u001b[0;32m    143\u001b[0m                 \u001b[0mmelting\u001b[0m\u001b[1;33m(\u001b[0m\u001b[0mi\u001b[0m\u001b[1;33m)\u001b[0m\u001b[1;33m\u001b[0m\u001b[0m\n",
      "\u001b[1;32m<ipython-input-513-dd8be7dc324c>\u001b[0m in \u001b[0;36mdrifting\u001b[1;34m(i, yil, xil, tt, tts, l, w, uiv, uav, uwv, viv, vav, vwv, temp)\u001b[0m\n\u001b[0;32m     73\u001b[0m \u001b[1;33m\u001b[0m\u001b[0m\n\u001b[0;32m     74\u001b[0m         \u001b[0moutofbound\u001b[0m \u001b[1;33m=\u001b[0m \u001b[1;36m1\u001b[0m\u001b[1;33m\u001b[0m\u001b[0m\n\u001b[1;32m---> 75\u001b[1;33m         \u001b[0mob\u001b[0m \u001b[1;33m=\u001b[0m \u001b[0mob\u001b[0m \u001b[1;33m+\u001b[0m \u001b[1;36m1\u001b[0m\u001b[1;33m\u001b[0m\u001b[0m\n\u001b[0m\u001b[0;32m     76\u001b[0m         \u001b[0mprint\u001b[0m\u001b[1;33m(\u001b[0m\u001b[1;34m'iceberg {} left boundary at timestep {} \\n'\u001b[0m\u001b[1;33m.\u001b[0m\u001b[0mformat\u001b[0m\u001b[1;33m(\u001b[0m\u001b[0mj\u001b[0m\u001b[1;33m,\u001b[0m \u001b[0mI\u001b[0m\u001b[1;33m)\u001b[0m\u001b[1;33m)\u001b[0m\u001b[1;33m\u001b[0m\u001b[0m\n\u001b[0;32m     77\u001b[0m \u001b[1;33m\u001b[0m\u001b[0m\n",
      "\u001b[1;31mUnboundLocalError\u001b[0m: local variable 'ob' referenced before assignment"
     ]
    }
   ],
   "source": [
    "iceberg_shell()"
   ]
  },
  {
   "cell_type": "code",
   "execution_count": 113,
   "metadata": {
    "collapsed": false
   },
   "outputs": [
    {
     "data": {
      "text/plain": [
       "array([ 86,  86,  86, ..., 100, 100, 100], dtype=uint8)"
      ]
     },
     "execution_count": 113,
     "metadata": {},
     "output_type": "execute_result"
    }
   ],
   "source": [
    "seed_X"
   ]
  },
  {
   "cell_type": "code",
   "execution_count": 110,
   "metadata": {
    "collapsed": false
   },
   "outputs": [
    {
     "data": {
      "text/plain": [
       "4800"
      ]
     },
     "execution_count": 110,
     "metadata": {},
     "output_type": "execute_result"
    }
   ],
   "source": [
    "seed_X.size"
   ]
  },
  {
   "cell_type": "code",
   "execution_count": 83,
   "metadata": {
    "collapsed": false
   },
   "outputs": [
    {
     "data": {
      "text/plain": [
       "4353"
      ]
     },
     "execution_count": 83,
     "metadata": {},
     "output_type": "execute_result"
    }
   ],
   "source": [
    "np.random.randint(1,4800)"
   ]
  },
  {
   "cell_type": "code",
   "execution_count": 95,
   "metadata": {
    "collapsed": false
   },
   "outputs": [
    {
     "data": {
      "text/plain": [
       "array([[ 86],\n",
       "       [ 86],\n",
       "       [ 86],\n",
       "       ..., \n",
       "       [100],\n",
       "       [100],\n",
       "       [100]], dtype=uint8)"
      ]
     },
     "execution_count": 95,
     "metadata": {},
     "output_type": "execute_result"
    }
   ],
   "source": [
    "np.ravel(seed_X).shape"
   ]
  },
  {
   "cell_type": "code",
   "execution_count": null,
   "metadata": {
    "collapsed": false,
    "scrolled": true
   },
   "outputs": [],
   "source": [
    "import scipy.io as sio\n",
    "\n",
    "bergdims = sio.loadmat('/home/evankielley/WagnerModel/Model/bergdims.mat')\n",
    "bergdims = bergdims['bergdims']\n",
    "bergdims"
   ]
  },
  {
   "cell_type": "code",
   "execution_count": null,
   "metadata": {
    "collapsed": false
   },
   "outputs": [],
   "source": [
    "bergdims = sio.loadmat('/home/evankielley/WagnerModel/output/ECCO_20th/E2_B1_full.mat')\n",
    "bergdims = bergdims['YIL']\n",
    "bergdims"
   ]
  },
  {
   "cell_type": "code",
   "execution_count": null,
   "metadata": {
    "collapsed": true
   },
   "outputs": [],
   "source": []
  }
 ],
 "metadata": {
  "anaconda-cloud": {},
  "kernelspec": {
   "display_name": "Python 3",
   "language": "python",
   "name": "python3"
  },
  "language_info": {
   "codemirror_mode": {
    "name": "ipython",
    "version": 3
   },
   "file_extension": ".py",
   "mimetype": "text/x-python",
   "name": "python",
   "nbconvert_exporter": "python",
   "pygments_lexer": "ipython3",
   "version": "3.5.2"
  }
 },
 "nbformat": 4,
 "nbformat_minor": 0
}
